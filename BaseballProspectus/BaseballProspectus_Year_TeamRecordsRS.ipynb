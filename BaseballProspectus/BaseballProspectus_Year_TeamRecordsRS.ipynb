{
 "metadata": {
  "name": "",
  "signature": "sha256:a4cfe52aabcedb1c6465ae6c1f5338081d62cf2fdb12d2e5fe5b6b5d10326c3e"
 },
 "nbformat": 3,
 "nbformat_minor": 0,
 "worksheets": [
  {
   "cells": [
    {
     "cell_type": "code",
     "collapsed": false,
     "input": [
      "#\u9996\u5148Name\u8981\u6392\u5e8f\n",
      "#\u8981\u6ce8\u610f\u7684\u5730\u65b9\u6709\u56db\u500b folder, range, year, page_limit\n",
      "import string, time, requests, os\n",
      "from bs4 import BeautifulSoup\n",
      "headers={\n",
      "    'User-Agent':'Mozilla/5.0 (Windows NT 6.1; WOW64) AppleWebKit/537.36 (KHTML, like Gecko) Chrome/40.0.2214.93 Safari/537.36'\n",
      "}\n",
      "url='http://www.baseballprospectus.com/sortable/index.php'\n",
      "\n",
      "folder='TeamRecordsRS'#\u8cc7\u6599\u593e\u540d\u7a31*********************\n",
      "\n",
      "path='Baseball\\\\'+folder #\u8def\u5f91\u540d\u7a31\n",
      "if os.path.exists(path):\n",
      "    print 'folder exists'\n",
      "else:    \n",
      "    os.mkdir(path)\n",
      "    print 'folder not exists'  \n",
      "    \n",
      "for year in range(1950,2015): #2015\u6c92\u7b97\u5230**************\n",
      "    payload={            \n",
      "            'mystatslist':'YEAR,LVL,LG,TEAM,R,G,W,L,WINP',\n",
      "            'category':'team_record_by_r',\n",
      "            'tablename':'dyna_team_record_by_r',\n",
      "            'stage':'data',\n",
      "            'year':'%d'%(year),#*********************\n",
      "            'mystatslist':'YEAR,LVL,LG,TEAM,R,G,W,L,WINP',\n",
      "            'category':'team_record_by_r',\n",
      "            'tablename':'dyna_team_record_by_r',\n",
      "            'stage':'data',\n",
      "            'group_LVL':'*',\n",
      "            'group_LG':'*',\n",
      "            'group_R':'*',\n",
      "            'minimum':'0',\n",
      "            'sort1column':'TEAM',\n",
      "            'sort1order':'ASC',\n",
      "            'sort2column':'R',\n",
      "            'sort2order':'ASC',\n",
      "            'sort3column':'YEAR',\n",
      "            'sort3order':'ASC',\n",
      "            'page_limit':'All',#*********************\n",
      "            'viewdata':'View Data',\n",
      "        }\n",
      "    res=requests.post(url,data=payload,headers=headers)\n",
      "    soup=BeautifulSoup(res.text.encode('utf-8'))    \n",
      "    trList=soup.select('#TTdata tr')\n",
      "    fileName= str(year)+'_'+folder+'.csv'\n",
      "    fid=open(path+'\\\\'+fileName,'w')    \n",
      "    for tr in trList:\n",
      "        for td in tr.select('td'):\n",
      "            fid.write(td.text.encode('utf-8')+',')\n",
      "        fid.write('\\n')\n",
      "    fid.close()\n",
      "    fod=open(path+'\\\\'+fileName,'r')\n",
      "    print 'year'+str(year)\n",
      "    print fod.readlines()[1]\n",
      "    fod.close()\n",
      "    time.sleep(2)\n"
     ],
     "language": "python",
     "metadata": {},
     "outputs": [
      {
       "output_type": "stream",
       "stream": "stdout",
       "text": [
        "folder not exists\n",
        "year1950"
       ]
      },
      {
       "output_type": "stream",
       "stream": "stdout",
       "text": [
        "\n",
        "1.,1950,mlb,AL,BOS,0,3,0,3,.000,\n",
        "\n",
        "year1951"
       ]
      },
      {
       "output_type": "stream",
       "stream": "stdout",
       "text": [
        "\n",
        "1.,1951,mlb,AL,BOS,0,7,0,7,.000,\n",
        "\n",
        "year1952"
       ]
      },
      {
       "output_type": "stream",
       "stream": "stdout",
       "text": [
        "\n",
        "1.,1952,mlb,AL,BOS,0,14,0,14,.000,\n",
        "\n",
        "year1953"
       ]
      },
      {
       "output_type": "stream",
       "stream": "stdout",
       "text": [
        "\n",
        "1.,1953,mlb,AL,BOS,0,13,0,13,.000,\n",
        "\n",
        "year1954"
       ]
      },
      {
       "output_type": "stream",
       "stream": "stdout",
       "text": [
        "\n",
        "1.,1954,mlb,AL,BAL,0,14,0,14,.000,\n",
        "\n",
        "year1955"
       ]
      },
      {
       "output_type": "stream",
       "stream": "stdout",
       "text": [
        "\n",
        "1.,1955,mlb,AL,BAL,0,22,0,22,.000,\n",
        "\n",
        "year1956"
       ]
      },
      {
       "output_type": "stream",
       "stream": "stdout",
       "text": [
        "\n",
        "1.,1956,mlb,AL,BAL,0,10,0,10,.000,\n",
        "\n",
        "year1957"
       ]
      },
      {
       "output_type": "stream",
       "stream": "stdout",
       "text": [
        "\n",
        "1.,1957,mlb,AL,BAL,0,15,0,15,.000,\n",
        "\n",
        "year1958"
       ]
      },
      {
       "output_type": "stream",
       "stream": "stdout",
       "text": [
        "\n",
        "1.,1958,mlb,AL,BAL,0,12,0,12,.000,\n",
        "\n",
        "year1959"
       ]
      },
      {
       "output_type": "stream",
       "stream": "stdout",
       "text": [
        "\n",
        "1.,1959,mlb,AL,BAL,0,14,0,14,.000,\n",
        "\n",
        "year1960"
       ]
      },
      {
       "output_type": "stream",
       "stream": "stdout",
       "text": [
        "\n",
        "1.,1960,mlb,AL,BAL,0,9,0,9,.000,\n",
        "\n",
        "year1961"
       ]
      },
      {
       "output_type": "stream",
       "stream": "stdout",
       "text": [
        "\n",
        "1.,1961,mlb,AL,BAL,0,10,0,10,.000,\n",
        "\n",
        "year1962"
       ]
      },
      {
       "output_type": "stream",
       "stream": "stdout",
       "text": [
        "\n",
        "1.,1962,mlb,AL,BAL,0,16,0,16,.000,\n",
        "\n",
        "year1963"
       ]
      },
      {
       "output_type": "stream",
       "stream": "stdout",
       "text": [
        "\n",
        "1.,1963,mlb,AL,BAL,0,9,0,9,.000,\n",
        "\n",
        "year1964"
       ]
      },
      {
       "output_type": "stream",
       "stream": "stdout",
       "text": [
        "\n",
        "1.,1964,mlb,AL,BAL,0,11,0,11,.000,\n",
        "\n",
        "year1965"
       ]
      },
      {
       "output_type": "stream",
       "stream": "stdout",
       "text": [
        "\n",
        "1.,1965,mlb,AL,BAL,0,12,0,12,.000,\n",
        "\n",
        "year1966"
       ]
      },
      {
       "output_type": "stream",
       "stream": "stdout",
       "text": [
        "\n",
        "1.,1966,mlb,NL,ATL,0,6,0,6,.000,\n",
        "\n",
        "year1967"
       ]
      },
      {
       "output_type": "stream",
       "stream": "stdout",
       "text": [
        "\n",
        "1.,1967,mlb,NL,ATL,0,11,0,11,.000,\n",
        "\n",
        "year1968"
       ]
      },
      {
       "output_type": "stream",
       "stream": "stdout",
       "text": [
        "\n",
        "1.,1968,mlb,NL,ATL,0,17,0,17,.000,\n",
        "\n",
        "year1969"
       ]
      },
      {
       "output_type": "stream",
       "stream": "stdout",
       "text": [
        "\n",
        "1.,1969,mlb,NL,ATL,0,14,0,14,.000,\n",
        "\n",
        "year1970"
       ]
      },
      {
       "output_type": "stream",
       "stream": "stdout",
       "text": [
        "\n",
        "1.,1970,mlb,NL,ATL,0,9,0,9,.000,\n",
        "\n",
        "year1971"
       ]
      },
      {
       "output_type": "stream",
       "stream": "stdout",
       "text": [
        "\n",
        "1.,1971,mlb,NL,ATL,0,15,0,15,.000,\n",
        "\n",
        "year1972"
       ]
      },
      {
       "output_type": "stream",
       "stream": "stdout",
       "text": [
        "\n",
        "1.,1972,mlb,NL,ATL,0,17,0,17,.000,\n",
        "\n",
        "year1973"
       ]
      },
      {
       "output_type": "stream",
       "stream": "stdout",
       "text": [
        "\n",
        "1.,1973,mlb,NL,ATL,0,8,0,8,.000,\n",
        "\n",
        "year1974"
       ]
      },
      {
       "output_type": "stream",
       "stream": "stdout",
       "text": [
        "\n",
        "1.,1974,mlb,NL,ATL,0,13,0,13,.000,\n",
        "\n",
        "year1975"
       ]
      },
      {
       "output_type": "stream",
       "stream": "stdout",
       "text": [
        "\n",
        "1.,1975,mlb,NL,ATL,0,12,0,12,.000,\n",
        "\n",
        "year1976"
       ]
      },
      {
       "output_type": "stream",
       "stream": "stdout",
       "text": [
        "\n",
        "1.,1976,mlb,NL,ATL,0,13,0,13,.000,\n",
        "\n",
        "year1977"
       ]
      },
      {
       "output_type": "stream",
       "stream": "stdout",
       "text": [
        "\n",
        "1.,1977,mlb,NL,ATL,0,13,0,13,.000,\n",
        "\n",
        "year1978"
       ]
      },
      {
       "output_type": "stream",
       "stream": "stdout",
       "text": [
        "\n",
        "1.,1978,mlb,NL,ATL,0,24,0,24,.000,\n",
        "\n",
        "year1979"
       ]
      },
      {
       "output_type": "stream",
       "stream": "stdout",
       "text": [
        "\n",
        "1.,1979,mlb,NL,ATL,0,10,0,10,.000,\n",
        "\n",
        "year1980"
       ]
      },
      {
       "output_type": "stream",
       "stream": "stdout",
       "text": [
        "\n",
        "1.,1980,mlb,NL,ATL,0,11,0,11,.000,\n",
        "\n",
        "year1981"
       ]
      },
      {
       "output_type": "stream",
       "stream": "stdout",
       "text": [
        "\n",
        "1.,1981,mlb,NL,ATL,0,12,0,12,.000,\n",
        "\n",
        "year1982"
       ]
      },
      {
       "output_type": "stream",
       "stream": "stdout",
       "text": [
        "\n",
        "1.,1982,mlb,NL,ATL,0,10,0,10,.000,\n",
        "\n",
        "year1983"
       ]
      },
      {
       "output_type": "stream",
       "stream": "stdout",
       "text": [
        "\n",
        "1.,1983,mlb,NL,ATL,0,7,0,7,.000,\n",
        "\n",
        "year1984"
       ]
      },
      {
       "output_type": "stream",
       "stream": "stdout",
       "text": [
        "\n",
        "1.,1984,mlb,NL,ATL,0,13,0,13,.000,\n",
        "\n",
        "year1985"
       ]
      },
      {
       "output_type": "stream",
       "stream": "stdout",
       "text": [
        "\n",
        "1.,1985,mlb,NL,ATL,0,18,0,18,.000,\n",
        "\n",
        "year1986"
       ]
      },
      {
       "output_type": "stream",
       "stream": "stdout",
       "text": [
        "\n",
        "1.,1986,mlb,NL,ATL,0,10,0,10,.000,\n",
        "\n",
        "year1987"
       ]
      },
      {
       "output_type": "stream",
       "stream": "stdout",
       "text": [
        "\n",
        "1.,1987,mlb,NL,ATL,0,7,0,7,.000,\n",
        "\n",
        "year1988"
       ]
      },
      {
       "output_type": "stream",
       "stream": "stdout",
       "text": [
        "\n",
        "1.,1988,mlb,NL,ATL,0,17,0,17,.000,\n",
        "\n",
        "year1989"
       ]
      },
      {
       "output_type": "stream",
       "stream": "stdout",
       "text": [
        "\n",
        "1.,1989,mlb,NL,ATL,0,14,0,14,.000,\n",
        "\n",
        "year1990"
       ]
      },
      {
       "output_type": "stream",
       "stream": "stdout",
       "text": [
        "\n",
        "1.,1990,mlb,NL,ATL,0,14,0,14,.000,\n",
        "\n",
        "year1991"
       ]
      },
      {
       "output_type": "stream",
       "stream": "stdout",
       "text": [
        "\n",
        "1.,1991,mlb,NL,ATL,0,9,0,9,.000,\n",
        "\n",
        "year1992"
       ]
      },
      {
       "output_type": "stream",
       "stream": "stdout",
       "text": [
        "\n",
        "1.,1992,mlb,NL,ATL,0,8,0,8,.000,\n",
        "\n",
        "year1993"
       ]
      },
      {
       "output_type": "stream",
       "stream": "stdout",
       "text": [
        "\n",
        "1.,1993,mlb,NL,ATL,0,9,0,9,.000,\n",
        "\n",
        "year1994"
       ]
      },
      {
       "output_type": "stream",
       "stream": "stdout",
       "text": [
        "\n",
        "1.,1994,mlb,NL,ATL,0,7,0,7,.000,\n",
        "\n",
        "year1995"
       ]
      },
      {
       "output_type": "stream",
       "stream": "stdout",
       "text": [
        "\n",
        "1.,1995,mlb,NL,ATL,0,4,0,4,.000,\n",
        "\n",
        "year1996"
       ]
      },
      {
       "output_type": "stream",
       "stream": "stdout",
       "text": [
        "\n",
        "1.,1996,mlb,NL,ATL,0,8,0,8,.000,\n",
        "\n",
        "year1997"
       ]
      },
      {
       "output_type": "stream",
       "stream": "stdout",
       "text": [
        "\n",
        "1.,1997,mlb,AL,ANA,0,5,0,5,.000,\n",
        "\n",
        "year1998"
       ]
      },
      {
       "output_type": "stream",
       "stream": "stdout",
       "text": [
        "\n",
        "1.,1998,mlb,AL,ANA,0,6,0,6,.000,\n",
        "\n",
        "year1999"
       ]
      },
      {
       "output_type": "stream",
       "stream": "stdout",
       "text": [
        "\n",
        "1.,1999,mlb,AL,ANA,0,11,0,11,.000,\n",
        "\n",
        "year2000"
       ]
      },
      {
       "output_type": "stream",
       "stream": "stdout",
       "text": [
        "\n",
        "1.,2000,mlb,AL,ANA,0,5,0,5,.000,\n",
        "\n",
        "year2001"
       ]
      },
      {
       "output_type": "stream",
       "stream": "stdout",
       "text": [
        "\n",
        "1.,2001,mlb,AL,ANA,0,12,0,12,.000,\n",
        "\n",
        "year2002"
       ]
      },
      {
       "output_type": "stream",
       "stream": "stdout",
       "text": [
        "\n",
        "1.,2002,mlb,AL,ANA,0,8,0,8,.000,\n",
        "\n",
        "year2003"
       ]
      },
      {
       "output_type": "stream",
       "stream": "stdout",
       "text": [
        "\n",
        "1.,2003,mlb,AL,ANA,0,12,0,12,.000,\n",
        "\n",
        "year2004"
       ]
      },
      {
       "output_type": "stream",
       "stream": "stdout",
       "text": [
        "\n",
        "1.,2004,mlb,AL,ANA,0,10,0,10,.000,\n",
        "\n",
        "year2005"
       ]
      },
      {
       "output_type": "stream",
       "stream": "stdout",
       "text": [
        "\n",
        "1.,2005,mlb,AL,ANA,0,6,0,6,.000,\n",
        "\n",
        "year2006"
       ]
      },
      {
       "output_type": "stream",
       "stream": "stdout",
       "text": [
        "\n",
        "1.,2006,mlb,AL,ANA,0,8,0,8,.000,\n",
        "\n",
        "year2007"
       ]
      },
      {
       "output_type": "stream",
       "stream": "stdout",
       "text": [
        "\n",
        "1.,2007,mlb,AL,ANA,0,8,0,8,.000,\n",
        "\n",
        "year2008"
       ]
      },
      {
       "output_type": "stream",
       "stream": "stdout",
       "text": [
        "\n",
        "1.,2008,mlb,AL,ANA,0,6,0,6,.000,\n",
        "\n",
        "year2009"
       ]
      },
      {
       "output_type": "stream",
       "stream": "stdout",
       "text": [
        "\n",
        "1.,2009,mlb,AL,ANA,0,6,0,6,.000,\n",
        "\n",
        "year2010"
       ]
      },
      {
       "output_type": "stream",
       "stream": "stdout",
       "text": [
        "\n",
        "1.,2010,mlb,AL,ANA,0,9,0,9,.000,\n",
        "\n",
        "year2011"
       ]
      },
      {
       "output_type": "stream",
       "stream": "stdout",
       "text": [
        "\n",
        "1.,2011,mlb,AL,ANA,0,11,0,11,.000,\n",
        "\n",
        "year2012"
       ]
      },
      {
       "output_type": "stream",
       "stream": "stdout",
       "text": [
        "\n",
        "1.,2012,mlb,AL,ANA,0,13,0,13,.000,\n",
        "\n",
        "year2013"
       ]
      },
      {
       "output_type": "stream",
       "stream": "stdout",
       "text": [
        "\n",
        "1.,2013,mlb,AL,ANA,0,8,0,8,.000,\n",
        "\n",
        "year2014"
       ]
      },
      {
       "output_type": "stream",
       "stream": "stdout",
       "text": [
        "\n",
        "1.,2014,mlb,AL,ANA,0,3,0,3,.000,\n",
        "\n"
       ]
      }
     ],
     "prompt_number": 1
    }
   ],
   "metadata": {}
  }
 ]
}