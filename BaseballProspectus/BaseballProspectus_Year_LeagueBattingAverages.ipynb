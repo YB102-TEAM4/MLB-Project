{
 "metadata": {
  "name": "",
  "signature": "sha256:9df6c364a64b37b70801f8a6f04d24273b3580444dd253da0da98188ca999986"
 },
 "nbformat": 3,
 "nbformat_minor": 0,
 "worksheets": [
  {
   "cells": [
    {
     "cell_type": "code",
     "collapsed": false,
     "input": [
      "#\u9996\u5148Name\u8981\u6392\u5e8f\n",
      "#\u8981\u6ce8\u610f\u7684\u5730\u65b9\u6709\u56db\u500b folder, range, year, page_limit\n",
      "import string, time, requests, os\n",
      "from bs4 import BeautifulSoup\n",
      "headers={\n",
      "    'User-Agent':'Mozilla/5.0 (Windows NT 6.1; WOW64) AppleWebKit/537.36 (KHTML, like Gecko) Chrome/40.0.2214.93 Safari/537.36'\n",
      "}\n",
      "url='http://www.baseballprospectus.com/sortable/index.php'\n",
      "\n",
      "folder='LeagueBattingAverages'#\u8cc7\u6599\u593e\u540d\u7a31*********************\n",
      "\n",
      "path='Baseball\\\\'+folder #\u8def\u5f91\u540d\u7a31\n",
      "if os.path.exists(path):\n",
      "    print 'folder exists'\n",
      "else:    \n",
      "    os.mkdir(path)\n",
      "    print 'folder not exists'  \n",
      "    \n",
      "for year in range(1871,2015): #2015\u6c92\u7b97\u5230**************\n",
      "    payload={\n",
      "            'mystatslist':'YEAR,LVL,LG,PA,AVG,OBP,SLG,ISO,BBR,SO_BB,ROER,SOR,SB_PERCENT,DP_PERCENT',\n",
      "            'category':'lg_batting',\n",
      "            'tablename':'dyna_lg_batting',\n",
      "            'stage':'data',\n",
      "            'year':'%d'%(year),#*********************\n",
      "            'mystatslist':'YEAR,LVL,LG,PA,AVG,OBP,SLG,ISO,BBR,SO_BB,ROER,SOR,SB_PERCENT,DP_PERCENT',\n",
      "            'category':'lg_batting',\n",
      "            'tablename':'dyna_lg_batting',\n",
      "            'stage':'data',\n",
      "            'group_LG':'*',\n",
      "            'group_LVL':'*',\n",
      "            'minimum':'0',\n",
      "            'sort1column':'LG',\n",
      "            'sort1order':'ASC',\n",
      "            'sort2column':'YEAR',\n",
      "            'sort2order':'ASC',\n",
      "            'sort3column':'YEAR',\n",
      "            'sort3order':'ASC',\n",
      "            'page_limit':'All',#*********************\n",
      "            'viewdata':'View Data',\n",
      "        }\n",
      "    res=requests.post(url,data=payload,headers=headers)\n",
      "    soup=BeautifulSoup(res.text.encode('utf-8'))\n",
      "    trList=soup.select('#TTdata tr')\n",
      "    fileName= str(year)+'_'+folder+'.csv'\n",
      "    fid=open(path+'\\\\'+fileName,'w')\n",
      "    for tr in trList:\n",
      "        for td in tr.select('td'):\n",
      "            fid.write(td.text.encode('utf-8')+',')\n",
      "        fid.write('\\n')\n",
      "    fid.close()\n",
      "    fod=open(path+'\\\\'+fileName,'r')\n",
      "    print 'year'+str(year)\n",
      "    print fod.readlines()[1]\n",
      "    fod.close()\n",
      "    time.sleep(2)\n"
     ],
     "language": "python",
     "metadata": {},
     "outputs": [
      {
       "output_type": "stream",
       "stream": "stdout",
       "text": [
        "folder exists\n",
        "year1871"
       ]
      },
      {
       "output_type": "stream",
       "stream": "stdout",
       "text": [
        "\n",
        "1.,1871,MLB,,11,236,.286,.000,.384,.097,0.035,0.61,0.0000,0.016,78.2%,0.0%,\n",
        "\n",
        "year1872"
       ]
      },
      {
       "output_type": "stream",
       "stream": "stdout",
       "text": [
        "\n",
        "1.,1872,MLB,,15,926,.285,.000,.348,.063,0.017,0.76,0.0000,0.017,66.8%,0.0%,\n",
        "\n",
        "year1873"
       ]
      },
      {
       "output_type": "stream",
       "stream": "stdout",
       "text": [
        "\n",
        "1.,1873,MLB,,17,294,.290,.000,.357,.067,0.019,0.92,0.0000,0.016,70.6%,0.0%,\n",
        "\n",
        "year1874"
       ]
      },
      {
       "output_type": "stream",
       "stream": "stdout",
       "text": [
        "\n",
        "1.,1874,MLB,,19,338,.274,.000,.333,.060,0.012,1.64,0.0000,0.018,71.4%,0.0%,\n",
        "\n",
        "year1875"
       ]
      },
      {
       "output_type": "stream",
       "stream": "stdout",
       "text": [
        "\n",
        "1.,1875,MLB,,27,192,.254,.000,.310,.056,0.009,1.86,0.0000,0.025,66.1%,0.0%,\n",
        "\n",
        "year1876"
       ]
      },
      {
       "output_type": "stream",
       "stream": "stdout",
       "text": [
        "\n",
        "1.,1876,MLB,,20,457,.265,.000,.321,.055,0.016,2.49,0.0000,0.029,0.0%,0.0%,\n",
        "\n",
        "year1877"
       ]
      },
      {
       "output_type": "stream",
       "stream": "stdout",
       "text": [
        "\n",
        "1.,1877,MLB,,14,022,.271,.000,.338,.067,0.025,2.87,0.0000,0.052,0.0%,0.0%,\n",
        "\n",
        "year1878"
       ]
      },
      {
       "output_type": "stream",
       "stream": "stdout",
       "text": [
        "\n",
        "1.,1878,MLB,,14,008,.259,.000,.319,.060,0.026,3.61,0.0000,0.077,0.0%,0.0%,\n",
        "\n",
        "year1879"
       ]
      },
      {
       "output_type": "stream",
       "stream": "stdout",
       "text": [
        "\n",
        "1.,1879,MLB,,24,663,.255,.000,.329,.073,0.021,5.46,0.0000,0.075,0.0%,0.0%,\n",
        "\n",
        "year1880"
       ]
      },
      {
       "output_type": "stream",
       "stream": "stdout",
       "text": [
        "\n",
        "1.,1880,MLB,,25,041,.245,.000,.320,.075,0.030,3.38,0.0000,0.080,0.0%,0.0%,\n",
        "\n",
        "year1881"
       ]
      },
      {
       "output_type": "stream",
       "stream": "stdout",
       "text": [
        "\n",
        "1.,1881,MLB,,25,410,.260,.000,.338,.078,0.041,2.67,0.0000,0.070,0.0%,0.0%,\n",
        "\n",
        "year1882"
       ]
      },
      {
       "output_type": "stream",
       "stream": "stdout",
       "text": [
        "\n",
        "1.,1882,MLB,,43,214,.248,.000,.330,.082,0.037,2.31,0.0000,0.050,0.0%,0.0%,\n",
        "\n",
        "year1883"
       ]
      },
      {
       "output_type": "stream",
       "stream": "stdout",
       "text": [
        "\n",
        "1.,1883,MLB,,59,996,.257,.000,.345,.088,0.039,2.06,0.0000,0.048,0.0%,0.0%,\n",
        "\n",
        "year1884"
       ]
      },
      {
       "output_type": "stream",
       "stream": "stdout",
       "text": [
        "\n",
        "1.,1884,MLB,,114,651,.243,.279,.327,.084,0.043,1.22,0.0000,0.038,0.0%,0.0%,\n",
        "\n",
        "year1885"
       ]
      },
      {
       "output_type": "stream",
       "stream": "stdout",
       "text": [
        "\n",
        "1.,1885,MLB,,66,588,.244,.288,.325,.081,0.053,1.50,0.0000,0.050,0.0%,0.0%,\n",
        "\n",
        "year1886"
       ]
      },
      {
       "output_type": "stream",
       "stream": "stdout",
       "text": [
        "\n",
        "1.,1886,MLB,,78,790,.246,.303,.332,.085,0.070,1.46,0.0000,0.054,0.0%,0.0%,\n",
        "\n",
        "year1887"
       ]
      },
      {
       "output_type": "stream",
       "stream": "stdout",
       "text": [
        "\n",
        "1.,1887,MLB,,81,534,.271,.332,.374,.103,0.074,0.63,0.0000,0.035,0.0%,0.0%,\n",
        "\n",
        "year1888"
       ]
      },
      {
       "output_type": "stream",
       "stream": "stdout",
       "text": [
        "\n",
        "1.,1888,MLB,,80,989,.239,.291,.320,.081,0.058,2.80,0.0000,0.101,0.0%,0.0%,\n",
        "\n",
        "year1889"
       ]
      },
      {
       "output_type": "stream",
       "stream": "stdout",
       "text": [
        "\n",
        "1.,1889,MLB,,84,553,.264,.334,.358,.094,0.087,1.46,0.0000,0.091,0.0%,0.0%,\n",
        "\n",
        "year1890"
       ]
      },
      {
       "output_type": "stream",
       "stream": "stdout",
       "text": [
        "\n",
        "1.,1890,MLB,,126,057,.260,.337,.351,.091,0.093,0.67,0.0000,0.052,0.0%,0.0%,\n",
        "\n",
        "year1891"
       ]
      },
      {
       "output_type": "stream",
       "stream": "stdout",
       "text": [
        "\n",
        "1.,1891,MLB,,86,680,.254,.331,.343,.089,0.093,1.18,0.0000,0.088,0.0%,0.0%,\n",
        "\n",
        "year1892"
       ]
      },
      {
       "output_type": "stream",
       "stream": "stdout",
       "text": [
        "\n",
        "1.,1892,MLB,,70,615,.245,.317,.328,.083,0.087,1.23,0.0000,0.085,0.0%,0.0%,\n",
        "\n",
        "year1893"
       ]
      },
      {
       "output_type": "stream",
       "stream": "stdout",
       "text": [
        "\n",
        "1.,1893,MLB,,63,680,.280,.356,.379,.100,0.096,0.69,0.0000,0.052,0.0%,0.0%,\n",
        "\n",
        "year1894"
       ]
      },
      {
       "output_type": "stream",
       "stream": "stdout",
       "text": [
        "\n",
        "1.,1894,MLB,,65,204,.309,.379,.435,.126,0.090,0.71,0.0000,0.051,0.0%,0.0%,\n",
        "\n",
        "year1895"
       ]
      },
      {
       "output_type": "stream",
       "stream": "stdout",
       "text": [
        "\n",
        "1.,1895,MLB,,63,573,.296,.361,.400,.103,0.081,0.85,0.0000,0.057,0.0%,0.0%,\n",
        "\n",
        "year1896"
       ]
      },
      {
       "output_type": "stream",
       "stream": "stdout",
       "text": [
        "\n",
        "1.,1896,MLB,,62,230,.290,.354,.387,.097,0.078,0.97,0.0000,0.057,0.0%,0.0%,\n",
        "\n",
        "year1897"
       ]
      },
      {
       "output_type": "stream",
       "stream": "stdout",
       "text": [
        "\n",
        "1.,1897,MLB,,63,272,.292,.354,.386,.094,0.075,1.10,0.0000,0.059,0.0%,0.0%,\n",
        "\n",
        "year1898"
       ]
      },
      {
       "output_type": "stream",
       "stream": "stdout",
       "text": [
        "\n",
        "1.,1898,MLB,,69,964,.271,.334,.347,.076,0.073,1.08,0.0000,0.060,0.0%,0.0%,\n",
        "\n",
        "year1899"
       ]
      },
      {
       "output_type": "stream",
       "stream": "stdout",
       "text": [
        "\n",
        "1.,1899,MLB,,70,016,.282,.343,.366,.084,0.071,1.04,0.0000,0.055,0.0%,0.0%,\n",
        "\n",
        "year1900"
       ]
      },
      {
       "output_type": "stream",
       "stream": "stdout",
       "text": [
        "\n",
        "1.,1900,MLB,,43,485,.279,.339,.366,.087,0.070,1.29,0.0000,0.062,0.0%,0.0%,\n",
        "\n",
        "year1901"
       ]
      },
      {
       "output_type": "stream",
       "stream": "stdout",
       "text": [
        "\n",
        "1.,1901,MLB,,85,072,.272,.327,.360,.088,0.064,1.73,0.0000,0.082,0.0%,0.0%,\n",
        "\n",
        "year1902"
       ]
      },
      {
       "output_type": "stream",
       "stream": "stdout",
       "text": [
        "\n",
        "1.,1902,MLB,,84,271,.267,.322,.344,.077,0.065,1.71,0.0000,0.079,0.0%,0.0%,\n",
        "\n",
        "year1903"
       ]
      },
      {
       "output_type": "stream",
       "stream": "stdout",
       "text": [
        "\n",
        "1.,1903,MLB,,83,549,.262,.317,.346,.084,0.064,2.06,0.0000,0.095,0.0%,0.0%,\n",
        "\n",
        "year1904"
       ]
      },
      {
       "output_type": "stream",
       "stream": "stdout",
       "text": [
        "\n",
        "1.,1904,MLB,,91,064,.247,.301,.321,.075,0.061,2.30,0.0000,0.102,0.0%,0.0%,\n",
        "\n",
        "year1905"
       ]
      },
      {
       "output_type": "stream",
       "stream": "stdout",
       "text": [
        "\n",
        "1.,1905,MLB,,91,352,.248,.307,.323,.075,0.068,2.16,0.0000,0.104,0.0%,0.0%,\n",
        "\n",
        "year1906"
       ]
      },
      {
       "output_type": "stream",
       "stream": "stdout",
       "text": [
        "\n",
        "1.,1906,MLB,,89,657,.247,.306,.314,.068,0.069,2.14,0.0000,0.102,0.0%,0.0%,\n",
        "\n",
        "year1907"
       ]
      },
      {
       "output_type": "stream",
       "stream": "stdout",
       "text": [
        "\n",
        "1.,1907,MLB,,89,746,.245,.305,.309,.064,0.068,1.86,0.0000,0.098,0.0%,0.0%,\n",
        "\n",
        "year1908"
       ]
      },
      {
       "output_type": "stream",
       "stream": "stdout",
       "text": [
        "\n",
        "1.,1908,MLB,,90,541,.239,.297,.305,.066,0.065,1.95,0.0000,0.100,0.0%,0.0%,\n",
        "\n",
        "year1909"
       ]
      },
      {
       "output_type": "stream",
       "stream": "stdout",
       "text": [
        "\n",
        "1.,1909,MLB,,90,998,.244,.306,.311,.068,0.071,1.98,0.0000,0.103,0.0%,0.0%,\n",
        "\n",
        "year1910"
       ]
      },
      {
       "output_type": "stream",
       "stream": "stdout",
       "text": [
        "\n",
        "1.,1910,MLB,,92,778,.249,.318,.326,.076,0.080,1.72,0.0000,0.104,0.0%,0.0%,\n",
        "\n",
        "year1911"
       ]
      },
      {
       "output_type": "stream",
       "stream": "stdout",
       "text": [
        "\n",
        "1.,1911,MLB,,93,824,.266,.336,.357,.091,0.084,1.69,0.0000,0.105,0.0%,0.0%,\n",
        "\n",
        "year1912"
       ]
      },
      {
       "output_type": "stream",
       "stream": "stdout",
       "text": [
        "\n",
        "1.,1912,MLB,,93,204,.269,.337,.359,.090,0.082,1.69,0.0000,0.104,71.7%,0.0%,\n",
        "\n",
        "year1913"
       ]
      },
      {
       "output_type": "stream",
       "stream": "stdout",
       "text": [
        "\n",
        "1.,1913,MLB,,91,726,.259,.325,.345,.086,0.079,1.79,0.0000,0.101,72.7%,0.0%,\n",
        "\n",
        "year1914"
       ]
      },
      {
       "output_type": "stream",
       "stream": "stdout",
       "text": [
        "\n",
        "1.,1914,MLB,,138,909,.254,.321,.337,.083,0.080,1.72,0.0000,0.106,77.0%,0.0%,\n",
        "\n",
        "year1915"
       ]
      },
      {
       "output_type": "stream",
       "stream": "stdout",
       "text": [
        "\n",
        "1.,1915,MLB,,138,280,.250,.318,.332,.082,0.080,1.66,0.0000,0.101,66.7%,0.0%,\n",
        "\n",
        "year1916"
       ]
      },
      {
       "output_type": "stream",
       "stream": "stdout",
       "text": [
        "\n",
        "1.,1916,MLB,,92,468,.248,.312,.326,.078,0.077,1.70,0.0000,0.103,76.7%,0.0%,\n",
        "\n",
        "year1917"
       ]
      },
      {
       "output_type": "stream",
       "stream": "stdout",
       "text": [
        "\n",
        "1.,1917,MLB,,92,623,.249,.311,.324,.075,0.075,1.64,0.0000,0.094,0.0%,0.0%,\n",
        "\n",
        "year1918"
       ]
      },
      {
       "output_type": "stream",
       "stream": "stdout",
       "text": [
        "\n",
        "1.,1918,MLB,,75,971,.254,.317,.325,.071,0.076,1.25,0.0000,0.078,0.0%,0.0%,\n",
        "\n",
        "year1919"
       ]
      },
      {
       "output_type": "stream",
       "stream": "stdout",
       "text": [
        "\n",
        "1.,1919,MLB,,83,902,.263,.322,.348,.085,0.071,1.47,0.0000,0.082,0.0%,0.0%,\n",
        "\n",
        "year1920"
       ]
      },
      {
       "output_type": "stream",
       "stream": "stdout",
       "text": [
        "\n",
        "1.,1920,MLB,,94,602,.276,.335,.372,.095,0.072,1.39,0.0000,0.077,52.4%,0.0%,\n",
        "\n",
        "year1921"
       ]
      },
      {
       "output_type": "stream",
       "stream": "stdout",
       "text": [
        "\n",
        "1.,1921,MLB,,95,556,.291,.348,.403,.112,0.072,1.32,0.0000,0.073,53.0%,0.0%,\n",
        "\n",
        "year1922"
       ]
      },
      {
       "output_type": "stream",
       "stream": "stdout",
       "text": [
        "\n",
        "1.,1922,MLB,,96,155,.288,.348,.401,.113,0.075,1.31,0.0000,0.072,55.5%,0.0%,\n",
        "\n",
        "year1923"
       ]
      },
      {
       "output_type": "stream",
       "stream": "stdout",
       "text": [
        "\n",
        "1.,1923,MLB,,96,133,.284,.347,.391,.107,0.079,1.29,0.0000,0.073,55.5%,0.0%,\n",
        "\n",
        "year1924"
       ]
      },
      {
       "output_type": "stream",
       "stream": "stdout",
       "text": [
        "\n",
        "1.,1924,MLB,,95,291,.287,.348,.394,.108,0.077,1.16,0.0000,0.070,54.6%,0.0%,\n",
        "\n",
        "year1925"
       ]
      },
      {
       "output_type": "stream",
       "stream": "stdout",
       "text": [
        "\n",
        "1.,1925,MLB,,96,226,.292,.354,.411,.119,0.080,1.13,0.0000,0.069,55.7%,0.0%,\n",
        "\n",
        "year1926"
       ]
      },
      {
       "output_type": "stream",
       "stream": "stdout",
       "text": [
        "\n",
        "1.,1926,MLB,,95,149,.281,.345,.389,.108,0.081,1.12,0.0000,0.071,71.8%,0.0%,\n",
        "\n",
        "year1927"
       ]
      },
      {
       "output_type": "stream",
       "stream": "stdout",
       "text": [
        "\n",
        "1.,1927,MLB,,95,571,.284,.345,.393,.109,0.078,1.16,0.0000,0.072,73.8%,0.0%,\n",
        "\n",
        "year1928"
       ]
      },
      {
       "output_type": "stream",
       "stream": "stdout",
       "text": [
        "\n",
        "1.,1928,MLB,,95,587,.281,.344,.397,.116,0.080,1.12,0.0000,0.074,72.4%,0.0%,\n",
        "\n",
        "year1929"
       ]
      },
      {
       "output_type": "stream",
       "stream": "stdout",
       "text": [
        "\n",
        "1.,1929,MLB,,96,322,.289,.353,.417,.127,0.083,1.17,0.0000,0.072,72.4%,0.0%,\n",
        "\n",
        "year1930"
       ]
      },
      {
       "output_type": "stream",
       "stream": "stdout",
       "text": [
        "\n",
        "1.,1930,MLB,,97,239,.296,.356,.434,.139,0.079,1.26,0.0000,0.082,71.9%,0.0%,\n",
        "\n",
        "year1931"
       ]
      },
      {
       "output_type": "stream",
       "stream": "stdout",
       "text": [
        "\n",
        "1.,1931,MLB,,96,111,.278,.339,.391,.114,0.080,1.30,0.0000,0.082,70.7%,0.0%,\n",
        "\n",
        "year1932"
       ]
      },
      {
       "output_type": "stream",
       "stream": "stdout",
       "text": [
        "\n",
        "1.,1932,MLB,,96,577,.277,.337,.400,.124,0.078,1.31,0.0000,0.082,70.7%,0.0%,\n",
        "\n",
        "year1933"
       ]
      },
      {
       "output_type": "stream",
       "stream": "stdout",
       "text": [
        "\n",
        "1.,1933,MLB,,94,615,.270,.330,.376,.107,0.078,1.36,0.0000,0.079,69.6%,0.0%,\n",
        "\n",
        "year1934"
       ]
      },
      {
       "output_type": "stream",
       "stream": "stdout",
       "text": [
        "\n",
        "1.,1934,MLB,,95,563,.279,.342,.397,.118,0.082,1.50,0.0000,0.088,74.3%,0.0%,\n",
        "\n",
        "year1935"
       ]
      },
      {
       "output_type": "stream",
       "stream": "stdout",
       "text": [
        "\n",
        "1.,1935,MLB,,96,202,.279,.341,.397,.118,0.081,1.41,0.0000,0.083,72.9%,0.0%,\n",
        "\n",
        "year1936"
       ]
      },
      {
       "output_type": "stream",
       "stream": "stdout",
       "text": [
        "\n",
        "1.,1936,MLB,,97,884,.284,.349,.404,.120,0.086,1.31,0.0000,0.084,75.1%,0.0%,\n",
        "\n",
        "year1937"
       ]
      },
      {
       "output_type": "stream",
       "stream": "stdout",
       "text": [
        "\n",
        "1.,1937,MLB,,96,148,.277,.343,.399,.122,0.088,1.32,0.0000,0.094,75.2%,0.0%,\n",
        "\n",
        "year1938"
       ]
      },
      {
       "output_type": "stream",
       "stream": "stdout",
       "text": [
        "\n",
        "1.,1938,MLB,,95,347,.274,.343,.396,.122,0.091,1.25,0.0000,0.087,73.4%,0.0%,\n",
        "\n",
        "year1939"
       ]
      },
      {
       "output_type": "stream",
       "stream": "stdout",
       "text": [
        "\n",
        "1.,1939,MLB,,95,902,.275,.344,.397,.121,0.088,1.35,0.0000,0.089,73.5%,0.0%,\n",
        "\n",
        "year1940"
       ]
      },
      {
       "output_type": "stream",
       "stream": "stdout",
       "text": [
        "\n",
        "1.,1940,MLB,,95,900,.267,.334,.392,.124,0.086,1.39,0.0000,0.094,74.1%,0.0%,\n",
        "\n",
        "year1941"
       ]
      },
      {
       "output_type": "stream",
       "stream": "stdout",
       "text": [
        "\n",
        "1.,1941,MLB,,96,484,.262,.334,.375,.113,0.092,1.27,0.0000,0.091,73.2%,0.0%,\n",
        "\n",
        "year1942"
       ]
      },
      {
       "output_type": "stream",
       "stream": "stdout",
       "text": [
        "\n",
        "1.,1942,MLB,,93,936,.253,.323,.350,.097,0.089,1.22,0.0000,0.089,71.1%,0.0%,\n",
        "\n",
        "year1943"
       ]
      },
      {
       "output_type": "stream",
       "stream": "stdout",
       "text": [
        "\n",
        "1.,1943,MLB,,95,072,.253,.323,.344,.091,0.088,1.30,0.0000,0.090,69.2%,0.0%,\n",
        "\n",
        "year1944"
       ]
      },
      {
       "output_type": "stream",
       "stream": "stdout",
       "text": [
        "\n",
        "1.,1944,MLB,,95,637,.260,.326,.358,.098,0.083,1.23,0.0000,0.086,73.1%,0.0%,\n",
        "\n",
        "year1945"
       ]
      },
      {
       "output_type": "stream",
       "stream": "stdout",
       "text": [
        "\n",
        "1.,1945,MLB,,94,788,.260,.329,.355,.094,0.088,1.20,0.0000,0.085,72.4%,0.0%,\n",
        "\n",
        "year1946"
       ]
      },
      {
       "output_type": "stream",
       "stream": "stdout",
       "text": [
        "\n",
        "1.,1946,MLB,,95,071,.256,.328,.360,.104,0.093,1.35,0.0000,0.102,72.2%,0.0%,\n",
        "\n",
        "year1947"
       ]
      },
      {
       "output_type": "stream",
       "stream": "stdout",
       "text": [
        "\n",
        "1.,1947,MLB,,95,376,.261,.336,.377,.117,0.097,1.33,0.0000,0.096,69.5%,0.0%,\n",
        "\n",
        "year1948"
       ]
      },
      {
       "output_type": "stream",
       "stream": "stdout",
       "text": [
        "\n",
        "1.,1948,MLB,,95,792,.263,.341,.382,.119,0.100,1.18,0.0000,0.094,73.8%,0.0%,\n",
        "\n",
        "year1949"
       ]
      },
      {
       "output_type": "stream",
       "stream": "stdout",
       "text": [
        "\n",
        "1.,1949,MLB,,96,190,.263,.344,.384,.121,0.104,1.19,0.0000,0.093,70.9%,0.0%,\n",
        "\n"
       ]
      }
     ],
     "prompt_number": 2
    }
   ],
   "metadata": {}
  }
 ]
}