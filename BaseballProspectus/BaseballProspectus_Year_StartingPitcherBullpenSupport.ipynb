{
 "metadata": {
  "name": "",
  "signature": "sha256:89e174d78fe22ee6661196bcf10d546a37039b0062b66ef3f25debbba5871f7b"
 },
 "nbformat": 3,
 "nbformat_minor": 0,
 "worksheets": [
  {
   "cells": [
    {
     "cell_type": "code",
     "collapsed": false,
     "input": [
      "#\u9996\u5148Name\u8981\u6392\u5e8f\n",
      "#\u8981\u6ce8\u610f\u7684\u5730\u65b9\u6709\u56db\u500b range, year, fileName, page_limit\n",
      "import string\n",
      "import time\n",
      "import requests\n",
      "from bs4 import BeautifulSoup\n",
      "headers={\n",
      "    'User-Agent':'Mozilla/5.0 (Windows NT 6.1; WOW64) AppleWebKit/537.36 (KHTML, like Gecko) Chrome/40.0.2214.93 Safari/537.36'\n",
      "}\n",
      "url='http://www.baseballprospectus.com/sortable/index.php'      \n",
      "for year in range(1871,2015): #2015\u6c92\u7b97\u5230**************\n",
      "    payload={\n",
      "            'mystatslist':'LVL,NAME,TEAM,LG,YEAR,GS,IP,W,L,RA,BEQ_RUNNERS,BEQ_SCORED,FAIR_RA',\n",
      "            'category':'pitcher_team_year',\n",
      "            'tablename':'dyna_pitcher_team_year',\n",
      "            'stage':'data',\n",
      "            'year':'%d'%(year),#*********************\n",
      "            'mystatslist':'LVL,NAME,TEAM,LG,YEAR,GS,IP,W,L,RA,BEQ_RUNNERS,BEQ_SCORED,FAIR_RA',\n",
      "            'category':'pitcher_team_year',\n",
      "            'tablename':'dyna_pitcher_team_year',\n",
      "            'stage':'data',\n",
      "            'group_TEAM':'*',\n",
      "            'group_LVL':'MLB',\n",
      "            'group_LG':'*',\n",
      "            'minimum':'0',\n",
      "            'sort1column':'NAME',\n",
      "            'sort1order':'ASC',\n",
      "            'page_limit':'All',#*********************\n",
      "            'tt_team':'*',\n",
      "            'show_ttroster':'1',\n",
      "            'show_ttwatched':'1',\n",
      "            'viewdata':'View Data',\n",
      "        }\n",
      "    res=requests.post(url,data=payload,headers=headers)\n",
      "    soup=BeautifulSoup(res.text.encode('utf-8'))    \n",
      "    trList=soup.select('#TTdata')[0].select('tr')    \n",
      "    fileName= str(year)+'_StartingPitcherBullpenSupport.csv'#*********************\n",
      "    fid=open('Baseball\\\\'+fileName,'w')    \n",
      "    for tr in trList:\n",
      "        for td in tr.select('td'):\n",
      "            fid.write(td.text.encode('utf-8')+',')\n",
      "        fid.write('\\n')\n",
      "    fid.close()\n",
      "    fod=open('Baseball\\\\'+fileName,'r')\n",
      "    print 'year'+str(year)\n",
      "    print fod.readlines()[1]\n",
      "    fod.close()\n",
      "    time.sleep(2)"
     ],
     "language": "python",
     "metadata": {},
     "outputs": [
      {
       "output_type": "stream",
       "stream": "stdout",
       "text": [
        "year1871\n",
        "1.,MLB,Al Pratt,CL1,NA,1871,28,224.7,10,17,11.54,,,0.00,\n",
        "\n",
        "year1872"
       ]
      },
      {
       "output_type": "stream",
       "stream": "stdout",
       "text": [
        "\n",
        "1.,MLB, O'rourke,BR1,NA,1872,1,9.0,0,1,15.00,,,0.00,\n",
        "\n",
        "year1873"
       ]
      },
      {
       "output_type": "stream",
       "stream": "stdout",
       "text": [
        "\n",
        "1.,MLB,Al Spalding,BS1,NA,1873,54,496.7,41,14,7.48,,,0.00,\n",
        "\n",
        "year1874"
       ]
      },
      {
       "output_type": "stream",
       "stream": "stdout",
       "text": [
        "\n",
        "1.,MLB,Al Spalding,BS1,NA,1874,69,617.3,52,16,5.86,,,0.00,\n",
        "\n",
        "year1875"
       ]
      },
      {
       "output_type": "stream",
       "stream": "stdout",
       "text": [
        "\n",
        "1.,MLB,Al Spalding,BS1,NA,1875,62,570.7,54,5,3.80,,,0.00,\n",
        "\n",
        "year1876"
       ]
      },
      {
       "output_type": "stream",
       "stream": "stdout",
       "text": [
        "\n",
        "1.,MLB,Al Spalding,CHN,NL,1876,60,528.7,47,12,3.85,,,0.00,\n",
        "\n",
        "year1877"
       ]
      },
      {
       "output_type": "stream",
       "stream": "stdout",
       "text": [
        "\n",
        "1.,MLB,Al Spalding,CHN,NL,1877,1,11.0,1,0,9.82,,,0.00,\n",
        "\n",
        "year1878"
       ]
      },
      {
       "output_type": "stream",
       "stream": "stdout",
       "text": [
        "\n",
        "1.,MLB,Bobby Mitchell,CN1,NL,1878,9,80.0,7,2,3.60,,,0.00,\n",
        "\n",
        "year1879"
       ]
      },
      {
       "output_type": "stream",
       "stream": "stdout",
       "text": [
        "\n",
        "1.,MLB,Bill Mcgunnigle,BFN,NL,1879,13,120.0,9,5,4.95,,,0.00,\n",
        "\n",
        "year1880"
       ]
      },
      {
       "output_type": "stream",
       "stream": "stdout",
       "text": [
        "\n",
        "1.,MLB,Bill Mcgunnigle,BFN,NL,1880,5,37.0,2,3,4.62,,,0.00,\n",
        "\n",
        "year1881"
       ]
      },
      {
       "output_type": "stream",
       "stream": "stdout",
       "text": [
        "\n",
        "1.,MLB,Billy Taylor,WOR,NL,1881,1,8.0,0,1,14.63,,,0.00,\n",
        "\n",
        "year1882"
       ]
      },
      {
       "output_type": "stream",
       "stream": "stdout",
       "text": [
        "\n",
        "1.,MLB,Art Whitney,DTN,NL,1882,2,18.0,0,1,8.50,,,0.00,\n",
        "\n",
        "year1883"
       ]
      },
      {
       "output_type": "stream",
       "stream": "stdout",
       "text": [
        "\n",
        "1.,MLB,Alonzo Breitenstein,PHI,NL,1883,1,5.0,0,1,16.20,,,0.00,\n",
        "\n",
        "year1884"
       ]
      },
      {
       "output_type": "stream",
       "stream": "stdout",
       "text": [
        "\n",
        "1.,MLB, Smith\u00e2\u0094\u0090,BLU,UA,1884,1,6.0,0,0,16.50,,,0.00,\n",
        "\n",
        "year1885"
       ]
      },
      {
       "output_type": "stream",
       "stream": "stdout",
       "text": [
        "\n",
        "1.,MLB,Adonis Terry,BR3,AA,1885,23,209.0,6,17,6.33,,,0.00,\n",
        "\n",
        "year1886"
       ]
      },
      {
       "output_type": "stream",
       "stream": "stdout",
       "text": [
        "\n",
        "1.,MLB,Abner Powell,CN2,AA,1886,1,15.3,0,1,7.63,,,0.00,\n",
        "\n",
        "year1887"
       ]
      },
      {
       "output_type": "stream",
       "stream": "stdout",
       "text": [
        "\n",
        "1.,MLB,Adonis Terry,BR3,AA,1887,35,318.0,16,16,6.51,,,0.00,\n",
        "\n",
        "year1888"
       ]
      },
      {
       "output_type": "stream",
       "stream": "stdout",
       "text": [
        "\n",
        "1.,MLB,Ad Gumbert,CHN,NL,1888,6,48.7,3,3,4.44,,,0.00,\n",
        "\n",
        "year1889"
       ]
      },
      {
       "output_type": "stream",
       "stream": "stdout",
       "text": [
        "\n",
        "1.,MLB,Ad Gumbert,CHN,NL,1889,28,246.3,16,13,5.41,,,0.00,\n",
        "\n",
        "year1890"
       ]
      },
      {
       "output_type": "stream",
       "stream": "stdout",
       "text": [
        "\n",
        "1.,MLB,Ad Gumbert,BSP,PL,1890,33,277.3,23,12,6.13,,,0.00,\n",
        "\n",
        "year1891"
       ]
      },
      {
       "output_type": "stream",
       "stream": "stdout",
       "text": [
        "\n",
        "1.,MLB,Ad Gumbert,CHN,NL,1891,31,256.3,17,11,5.23,,,0.00,\n",
        "\n",
        "year1892"
       ]
      },
      {
       "output_type": "stream",
       "stream": "stdout",
       "text": [
        "\n",
        "1.,MLB,Ad Gumbert,CHN,NL,1892,45,382.7,22,19,5.17,,,0.00,\n",
        "\n",
        "year1893"
       ]
      },
      {
       "output_type": "stream",
       "stream": "stdout",
       "text": [
        "\n",
        "1.,MLB,Abe Johnson,CHN,NL,1893,0,1.0,0,0,36.00,,,0.00,\n",
        "\n",
        "year1894"
       ]
      },
      {
       "output_type": "stream",
       "stream": "stdout",
       "text": [
        "\n",
        "1.,MLB,Ad Gumbert,PIT,NL,1894,32,271.0,15,14,8.14,,,0.00,\n",
        "\n",
        "year1895"
       ]
      },
      {
       "output_type": "stream",
       "stream": "stdout",
       "text": [
        "\n",
        "1.,MLB,Ad Gumbert,BRO,NL,1895,26,234.0,11,16,7.04,,,0.00,\n",
        "\n",
        "year1896"
       ]
      },
      {
       "output_type": "stream",
       "stream": "stdout",
       "text": [
        "\n",
        "1.,MLB,Ad Gumbert,PHI,NL,1896,10,77.3,5,3,6.40,,,0.00,\n",
        "\n",
        "year1897"
       ]
      },
      {
       "output_type": "stream",
       "stream": "stdout",
       "text": [
        "\n",
        "1.,MLB,Adonis Terry,CHN,NL,1897,1,8.0,0,1,11.25,,,0.00,\n",
        "\n",
        "year1898"
       ]
      },
      {
       "output_type": "stream",
       "stream": "stdout",
       "text": [
        "\n",
        "1.,MLB,Al Maul,BLN,NL,1898,28,239.7,20,7,2.78,,,0.00,\n",
        "\n",
        "year1899"
       ]
      },
      {
       "output_type": "stream",
       "stream": "stdout",
       "text": [
        "\n",
        "1.,MLB,Al Maul,BRO,NL,1899,4,26.0,2,0,6.58,,,0.00,\n",
        "\n",
        "year1900"
       ]
      },
      {
       "output_type": "stream",
       "stream": "stdout",
       "text": [
        "\n",
        "1.,MLB,Al Maul,PHI,NL,1900,4,38.0,2,3,7.34,,,0.00,\n",
        "\n",
        "year1901"
       ]
      },
      {
       "output_type": "stream",
       "stream": "stdout",
       "text": [
        "\n",
        "1.,MLB,Al Maul,NY1,NL,1901,3,19.0,0,3,12.79,,,0.00,\n",
        "\n",
        "year1902"
       ]
      },
      {
       "output_type": "stream",
       "stream": "stdout",
       "text": [
        "\n",
        "1.,MLB,Addie Joss,CLE,AL,1902,29,269.3,17,13,4.01,,,0.00,\n",
        "\n",
        "year1903"
       ]
      },
      {
       "output_type": "stream",
       "stream": "stdout",
       "text": [
        "\n",
        "1.,MLB,Addie Joss,CLE,AL,1903,31,283.7,18,13,3.33,,,0.00,\n",
        "\n",
        "year1904"
       ]
      },
      {
       "output_type": "stream",
       "stream": "stdout",
       "text": [
        "\n",
        "1.,MLB,Addie Joss,CLE,AL,1904,24,192.3,14,10,2.39,,,0.00,\n",
        "\n",
        "year1905"
       ]
      },
      {
       "output_type": "stream",
       "stream": "stdout",
       "text": [
        "\n",
        "1.,MLB,Addie Joss,CLE,AL,1905,32,286.0,20,12,2.83,,,0.00,\n",
        "\n",
        "year1906"
       ]
      },
      {
       "output_type": "stream",
       "stream": "stdout",
       "text": [
        "\n",
        "1.,MLB,Addie Joss,CLE,AL,1906,31,282.0,21,9,2.59,,,0.00,\n",
        "\n",
        "year1907"
       ]
      },
      {
       "output_type": "stream",
       "stream": "stdout",
       "text": [
        "\n",
        "1.,MLB,Addie Joss,CLE,AL,1907,38,338.7,27,11,2.66,,,0.00,\n",
        "\n",
        "year1908"
       ]
      },
      {
       "output_type": "stream",
       "stream": "stdout",
       "text": [
        "\n",
        "1.,MLB,Abe Kruger,BRO,NL,1908,1,6.3,0,1,7.11,,,0.00,\n",
        "\n",
        "year1909"
       ]
      },
      {
       "output_type": "stream",
       "stream": "stdout",
       "text": [
        "\n",
        "1.,MLB,Addie Joss,CLE,AL,1909,28,242.7,14,13,2.63,,,0.00,\n",
        "\n",
        "year1910"
       ]
      },
      {
       "output_type": "stream",
       "stream": "stdout",
       "text": [
        "\n",
        "1.,MLB,Ad Brennan,PHI,NL,1910,5,73.3,2,0,4.42,,,0.00,\n",
        "\n",
        "year1911"
       ]
      },
      {
       "output_type": "stream",
       "stream": "stdout",
       "text": [
        "\n",
        "1.,MLB,Ad Brennan,PHI,NL,1911,3,22.7,2,1,4.76,,,0.00,\n",
        "\n",
        "year1912"
       ]
      },
      {
       "output_type": "stream",
       "stream": "stdout",
       "text": [
        "\n",
        "1.,MLB,Ad Brennan,PHI,NL,1912,19,174.0,11,9,4.55,,,0.00,\n",
        "\n",
        "year1913"
       ]
      },
      {
       "output_type": "stream",
       "stream": "stdout",
       "text": [
        "\n",
        "1.,MLB,Ad Brennan,PHI,NL,1913,24,207.0,14,12,3.30,,,0.00,\n",
        "\n",
        "year1914"
       ]
      },
      {
       "output_type": "stream",
       "stream": "stdout",
       "text": [
        "\n",
        "1.,MLB,Abe Bowman,CLE,AL,1914,10,72.7,2,7,5.57,,,0.00,\n",
        "\n",
        "year1915"
       ]
      },
      {
       "output_type": "stream",
       "stream": "stdout",
       "text": [
        "\n",
        "1.,MLB,Abe Bowman,CLE,AL,1915,1,1.3,0,1,27.00,,,0.00,\n",
        "\n",
        "year1916"
       ]
      },
      {
       "output_type": "stream",
       "stream": "stdout",
       "text": [
        "\n",
        "1.,MLB,Al Demaree,PHI,NL,1916,35,285.0,19,14,3.13,,,0.00,\n",
        "\n",
        "year1917"
       ]
      },
      {
       "output_type": "stream",
       "stream": "stdout",
       "text": [
        "\n",
        "1.,MLB,Ad Swigler,NY1,NL,1917,1,6.0,0,1,6.00,,,0.00,\n",
        "\n",
        "year1918"
       ]
      },
      {
       "output_type": "stream",
       "stream": "stdout",
       "text": [
        "\n",
        "1.,MLB,Ad Brennan,WS1,AL,1918,1,5.3,0,0,6.75,,,0.00,\n",
        "\n",
        "year1919"
       ]
      },
      {
       "output_type": "stream",
       "stream": "stdout",
       "text": [
        "\n",
        "1.,MLB,Al Demaree,BSN,NL,1919,13,128.0,6,6,4.64,,,0.00,\n",
        "\n",
        "year1920"
       ]
      },
      {
       "output_type": "stream",
       "stream": "stdout",
       "text": [
        "\n",
        "1.,MLB,Adrian Lynch,SLA,AL,1920,3,22.3,2,0,6.04,,,0.00,\n",
        "\n",
        "year1921"
       ]
      },
      {
       "output_type": "stream",
       "stream": "stdout",
       "text": [
        "\n",
        "1.,MLB,Al Mamaux,BRO,NL,1921,1,43.0,3,3,3.56,,,0.00,\n",
        "\n",
        "year1922"
       ]
      },
      {
       "output_type": "stream",
       "stream": "stdout",
       "text": [
        "\n",
        "1.,MLB,Al Mamaux,BRO,NL,1922,7,87.7,1,4,4.72,,,0.00,\n",
        "\n",
        "year1923"
       ]
      },
      {
       "output_type": "stream",
       "stream": "stdout",
       "text": [
        "\n",
        "1.,MLB,Al Kellett,PHA,AL,1923,0,10.0,0,1,8.10,,,0.00,\n",
        "\n",
        "year1924"
       ]
      },
      {
       "output_type": "stream",
       "stream": "stdout",
       "text": [
        "\n",
        "1.,MLB,Al Kellett,BOS,AL,1924,0,0.0,0,0,0.00,,,0.00,\n",
        "\n",
        "year1925"
       ]
      },
      {
       "output_type": "stream",
       "stream": "stdout",
       "text": [
        "\n",
        "1.,MLB,Alex Ferguson,WS1,AL,1925,6,55.3,5,1,3.58,,,0.00,\n",
        "\n",
        "year1926"
       ]
      },
      {
       "output_type": "stream",
       "stream": "stdout",
       "text": [
        "\n",
        "1.,MLB,Al Smith,NY1,NL,1926,0,2.0,0,0,9.00,,,0.00,\n",
        "\n",
        "year1927"
       ]
      },
      {
       "output_type": "stream",
       "stream": "stdout",
       "text": [
        "\n",
        "1.,MLB,Alex Ferguson,PHI,NL,1927,31,227.0,8,16,5.23,,,0.00,\n",
        "\n",
        "year1928"
       ]
      },
      {
       "output_type": "stream",
       "stream": "stdout",
       "text": [
        "\n",
        "1.,MLB,Al Shealy,NYA,AL,1928,12,96.0,8,6,6.00,,,0.00,\n",
        "\n",
        "year1929"
       ]
      },
      {
       "output_type": "stream",
       "stream": "stdout",
       "text": [
        "\n",
        "1.,MLB,Ad Liska,WS1,AL,1929,10,94.3,3,9,5.06,,,0.00,\n",
        "\n",
        "year1930"
       ]
      },
      {
       "output_type": "stream",
       "stream": "stdout",
       "text": [
        "\n",
        "1.,MLB,Ad Liska,WS1,AL,1930,16,150.7,9,7,4.12,,,0.00,\n",
        "\n",
        "year1931"
       ]
      },
      {
       "output_type": "stream",
       "stream": "stdout",
       "text": [
        "\n",
        "1.,MLB,Ad Liska,WS1,AL,1931,1,4.0,0,1,6.75,,,0.00,\n",
        "\n",
        "year1932"
       ]
      },
      {
       "output_type": "stream",
       "stream": "stdout",
       "text": [
        "\n",
        "1.,MLB,Ad Liska,PHI,NL,1932,0,26.7,2,0,1.69,,,0.00,\n",
        "\n",
        "year1933"
       ]
      },
      {
       "output_type": "stream",
       "stream": "stdout",
       "text": [
        "\n",
        "1.,MLB,Ad Liska,PHI,NL,1933,1,75.7,3,1,5.47,,,0.00,\n",
        "\n",
        "year1934"
       ]
      },
      {
       "output_type": "stream",
       "stream": "stdout",
       "text": [
        "\n",
        "1.,MLB,Al Benton,PHA,AL,1934,21,155.0,7,9,5.69,,,0.00,\n",
        "\n",
        "year1935"
       ]
      },
      {
       "output_type": "stream",
       "stream": "stdout",
       "text": [
        "\n",
        "1.,MLB,Al Benton,PHA,AL,1935,9,78.3,3,4,9.31,,,0.00,\n",
        "\n",
        "year1936"
       ]
      },
      {
       "output_type": "stream",
       "stream": "stdout",
       "text": [
        "\n",
        "1.,MLB,Al Blanche,BSN,NL,1936,0,16.0,0,1,8.44,,,0.00,\n",
        "\n",
        "year1937"
       ]
      },
      {
       "output_type": "stream",
       "stream": "stdout",
       "text": [
        "\n",
        "1.,MLB,Abe White,SLN,NL,1937,0,9.3,0,1,6.75,,,0.00,\n",
        "\n",
        "year1938"
       ]
      },
      {
       "output_type": "stream",
       "stream": "stdout",
       "text": [
        "\n",
        "1.,MLB,Al Baker,BOS,AL,1938,0,7.7,0,0,9.39,,,0.00,\n",
        "\n",
        "year1939"
       ]
      },
      {
       "output_type": "stream",
       "stream": "stdout",
       "text": [
        "\n",
        "1.,MLB,Al Benton,DET,AL,1939,16,150.0,6,8,5.64,,,0.00,\n",
        "\n",
        "year1940"
       ]
      },
      {
       "output_type": "stream",
       "stream": "stdout",
       "text": [
        "\n",
        "1.,MLB,Ace Williams,BSN,NL,1940,0,9.0,0,0,17.00,,,0.00,\n",
        "\n",
        "year1941"
       ]
      },
      {
       "output_type": "stream",
       "stream": "stdout",
       "text": [
        "\n",
        "1.,MLB,Ace Adams,NY1,NL,1941,0,71.0,4,1,5.45,,,0.00,\n",
        "\n",
        "year1942"
       ]
      },
      {
       "output_type": "stream",
       "stream": "stdout",
       "text": [
        "\n",
        "1.,MLB,Ace Adams,NY1,NL,1942,0,88.0,7,4,2.35,,,0.00,\n",
        "\n",
        "year1943"
       ]
      },
      {
       "output_type": "stream",
       "stream": "stdout",
       "text": [
        "\n",
        "1.,MLB,Ace Adams,NY1,NL,1943,3,140.3,11,7,3.21,,,0.00,\n",
        "\n",
        "year1944"
       ]
      },
      {
       "output_type": "stream",
       "stream": "stdout",
       "text": [
        "\n",
        "1.,MLB,Ace Adams,NY1,NL,1944,4,137.7,8,11,4.64,,,0.00,\n",
        "\n",
        "year1945"
       ]
      },
      {
       "output_type": "stream",
       "stream": "stdout",
       "text": [
        "\n",
        "1.,MLB,Ace Adams,NY1,NL,1945,0,113.0,11,9,4.38,,,0.00,\n",
        "\n",
        "year1946"
       ]
      },
      {
       "output_type": "stream",
       "stream": "stdout",
       "text": [
        "\n",
        "1.,MLB,Ace Adams,NY1,NL,1946,0,2.7,0,1,16.88,,,0.00,\n",
        "\n",
        "year1947"
       ]
      },
      {
       "output_type": "stream",
       "stream": "stdout",
       "text": [
        "\n",
        "1.,MLB,Al Benton,DET,AL,1947,14,133.0,6,7,5.21,,,0.00,\n",
        "\n",
        "year1948"
       ]
      },
      {
       "output_type": "stream",
       "stream": "stdout",
       "text": [
        "\n",
        "1.,MLB,Al Benton,DET,AL,1948,0,44.3,2,2,6.90,,,0.00,\n",
        "\n",
        "year1949"
       ]
      },
      {
       "output_type": "stream",
       "stream": "stdout",
       "text": [
        "\n",
        "1.,MLB,Adrian Zabala,NY1,NL,1949,4,41.0,2,3,6.15,,,0.00,\n",
        "\n",
        "year1950"
       ]
      },
      {
       "output_type": "stream",
       "stream": "stdout",
       "text": [
        "\n",
        "1.,MLB,Al Aber,CLE,AL,1950,1,9.0,1,0,2.00,,,3.58,\n",
        "\n",
        "year1951"
       ]
      },
      {
       "output_type": "stream",
       "stream": "stdout",
       "text": [
        "\n",
        "1.,MLB,Al Brazle,SLN,NL,1951,8,154.3,6,5,3.56,17,5,4.94,\n",
        "\n",
        "year1952"
       ]
      },
      {
       "output_type": "stream",
       "stream": "stdout",
       "text": [
        "\n",
        "1.,MLB,Al Benton,BOS,AL,1952,0,37.7,4,3,2.63,14,3,3.84,\n",
        "\n",
        "year1953"
       ]
      },
      {
       "output_type": "stream",
       "stream": "stdout",
       "text": [
        "\n",
        "1.,MLB,Al Aber,CLE,AL,1953,0,6.0,1,1,9.00,8,5,7.54,\n",
        "\n",
        "year1954"
       ]
      },
      {
       "output_type": "stream",
       "stream": "stdout",
       "text": [
        "\n",
        "1.,MLB,Al Aber,DET,AL,1954,18,124.7,5,11,4.55,23,10,5.23,\n",
        "\n",
        "year1955"
       ]
      },
      {
       "output_type": "stream",
       "stream": "stdout",
       "text": [
        "\n",
        "1.,MLB,Al Aber,DET,AL,1955,1,80.0,6,3,3.60,9,1,5.27,\n",
        "\n",
        "year1956"
       ]
      },
      {
       "output_type": "stream",
       "stream": "stdout",
       "text": [
        "\n",
        "1.,MLB,Al Aber,DET,AL,1956,0,63.0,4,4,4.29,17,9,3.90,\n",
        "\n",
        "year1957"
       ]
      },
      {
       "output_type": "stream",
       "stream": "stdout",
       "text": [
        "\n",
        "1.,MLB,Al Aber,DET,AL,1957,0,37.0,3,3,8.03,13,7,6.21,\n",
        "\n",
        "year1958"
       ]
      },
      {
       "output_type": "stream",
       "stream": "stdout",
       "text": [
        "\n",
        "1.,MLB,Al Cicotte,WS1,AL,1958,4,28.0,0,3,5.79,3,1,4.51,\n",
        "\n",
        "year1959"
       ]
      },
      {
       "output_type": "stream",
       "stream": "stdout",
       "text": [
        "\n",
        "1.,MLB,Al Cicotte,CLE,AL,1959,1,44.0,3,1,5.93,12,1,5.75,\n",
        "\n",
        "year1960"
       ]
      },
      {
       "output_type": "stream",
       "stream": "stdout",
       "text": [
        "\n",
        "1.,MLB,Al Neiger,PHI,NL,1960,0,12.7,0,0,5.68,,,6.92,\n",
        "\n",
        "year1961"
       ]
      },
      {
       "output_type": "stream",
       "stream": "stdout",
       "text": [
        "\n",
        "1.,MLB,Al Cicotte,SLN,NL,1961,7,75.0,2,6,5.64,9,5,6.13,\n",
        "\n",
        "year1962"
       ]
      },
      {
       "output_type": "stream",
       "stream": "stdout",
       "text": [
        "\n",
        "1.,MLB,Al Cicotte,HOU,NL,1962,0,4.7,0,0,7.71,3,2,5.58,\n",
        "\n",
        "year1963"
       ]
      },
      {
       "output_type": "stream",
       "stream": "stdout",
       "text": [
        "\n",
        "1.,MLB,Al Downing,NYA,AL,1963,22,175.7,13,5,2.66,10,3,3.28,\n",
        "\n",
        "year1964"
       ]
      },
      {
       "output_type": "stream",
       "stream": "stdout",
       "text": [
        "\n",
        "1.,MLB,Al Downing,NYA,AL,1964,35,244.0,13,8,3.84,24,11,3.56,\n",
        "\n",
        "year1965"
       ]
      },
      {
       "output_type": "stream",
       "stream": "stdout",
       "text": [
        "\n",
        "1.,MLB,Al Downing,NYA,AL,1965,32,212.0,12,14,3.91,22,10,3.89,\n",
        "\n",
        "year1966"
       ]
      },
      {
       "output_type": "stream",
       "stream": "stdout",
       "text": [
        "\n",
        "1.,MLB,Al Closter,WS2,AL,1966,0,0.3,0,0,0.00,,,25.02,\n",
        "\n",
        "year1967"
       ]
      },
      {
       "output_type": "stream",
       "stream": "stdout",
       "text": [
        "\n",
        "1.,MLB,Al Downing,NYA,AL,1967,28,201.7,14,10,2.90,18,8,2.96,\n",
        "\n",
        "year1968"
       ]
      },
      {
       "output_type": "stream",
       "stream": "stdout",
       "text": [
        "\n",
        "1.,MLB,Al Downing,NYA,AL,1968,12,61.3,3,3,3.52,4,0,4.19,\n",
        "\n",
        "year1969"
       ]
      },
      {
       "output_type": "stream",
       "stream": "stdout",
       "text": [
        "\n",
        "1.,MLB,Al Downing,NYA,AL,1969,15,130.7,7,5,3.93,18,4,4.03,\n",
        "\n",
        "year1970"
       ]
      },
      {
       "output_type": "stream",
       "stream": "stdout",
       "text": [
        "\n",
        "1.,MLB,Al Downing,MIL,AL,1970,16,94.3,2,10,4.48,17,6,4.86,\n",
        "\n",
        "year1971"
       ]
      },
      {
       "output_type": "stream",
       "stream": "stdout",
       "text": [
        "\n",
        "1.,MLB,Al Closter,NYA,AL,1971,1,28.3,2,2,6.99,9,6,4.92,\n",
        "\n",
        "year1972"
       ]
      },
      {
       "output_type": "stream",
       "stream": "stdout",
       "text": [
        "\n",
        "1.,MLB,Al Closter,NYA,AL,1972,0,2.3,0,0,11.57,1,0,16.58,\n",
        "\n",
        "year1973"
       ]
      },
      {
       "output_type": "stream",
       "stream": "stdout",
       "text": [
        "\n",
        "1.,MLB,Adrian Devine,ATL,NL,1973,1,32.3,2,3,6.68,12,6,6.28,\n",
        "\n",
        "year1974"
       ]
      },
      {
       "output_type": "stream",
       "stream": "stdout",
       "text": [
        "\n",
        "1.,MLB,Al Downing,LAN,NL,1974,16,98.3,5,6,4.76,13,7,4.53,\n",
        "\n",
        "year1975"
       ]
      },
      {
       "output_type": "stream",
       "stream": "stdout",
       "text": [
        "\n",
        "1.,MLB,Adrian Devine,ATL,NL,1975,2,16.3,1,0,4.41,4,1,5.12,\n",
        "\n",
        "year1976"
       ]
      },
      {
       "output_type": "stream",
       "stream": "stdout",
       "text": [
        "\n",
        "1.,MLB,Adrian Devine,ATL,NL,1976,1,73.0,5,6,3.70,15,7,3.37,\n",
        "\n",
        "year1977"
       ]
      },
      {
       "output_type": "stream",
       "stream": "stdout",
       "text": [
        "\n",
        "1.,MLB,Adrian Devine,TEX,AL,1977,2,105.7,11,6,3.66,23,10,4.74,\n",
        "\n",
        "year1978"
       ]
      },
      {
       "output_type": "stream",
       "stream": "stdout",
       "text": [
        "\n",
        "1.,MLB,Adrian Devine,ATL,NL,1978,6,65.3,5,4,6.20,19,9,4.26,\n",
        "\n",
        "year1979"
       ]
      },
      {
       "output_type": "stream",
       "stream": "stdout",
       "text": [
        "\n",
        "1.,MLB,Adrian Devine,ATL,NL,1979,0,66.7,1,2,3.78,16,3,5.84,\n",
        "\n",
        "year1980"
       ]
      },
      {
       "output_type": "stream",
       "stream": "stdout",
       "text": [
        "\n",
        "1.,MLB,Adrian Devine,TEX,AL,1980,0,28.0,1,1,7.07,11,3,5.69,\n",
        "\n",
        "year1981"
       ]
      },
      {
       "output_type": "stream",
       "stream": "stdout",
       "text": [
        "\n",
        "1.,MLB,Al Holland,SFN,NL,1981,3,100.7,7,5,2.77,23,6,3.00,\n",
        "\n",
        "year1982"
       ]
      },
      {
       "output_type": "stream",
       "stream": "stdout",
       "text": [
        "\n",
        "1.,MLB,Al Holland,SFN,NL,1982,7,129.7,7,3,3.89,28,11,3.65,\n",
        "\n",
        "year1983"
       ]
      },
      {
       "output_type": "stream",
       "stream": "stdout",
       "text": [
        "\n",
        "1.,MLB,Al Holland,PHI,NL,1983,0,91.7,8,4,2.55,3,0,2.98,\n",
        "\n",
        "year1984"
       ]
      },
      {
       "output_type": "stream",
       "stream": "stdout",
       "text": [
        "\n",
        "1.,MLB,Al Holland,PHI,NL,1984,0,98.3,5,10,3.48,5,1,5.02,\n",
        "\n",
        "year1985"
       ]
      },
      {
       "output_type": "stream",
       "stream": "stdout",
       "text": [
        "\n",
        "1.,MLB,Al Holland,CAL,AL,1985,0,24.3,0,1,1.48,1,0,4.31,\n",
        "\n",
        "year1986"
       ]
      },
      {
       "output_type": "stream",
       "stream": "stdout",
       "text": [
        "\n",
        "1.,MLB,Al Holland,NYA,AL,1986,1,40.7,1,0,6.42,11,9,3.51,\n",
        "\n",
        "year1987"
       ]
      },
      {
       "output_type": "stream",
       "stream": "stdout",
       "text": [
        "\n",
        "1.,MLB,Adam Peterson,CHA,AL,1987,1,4.0,0,0,13.50,,,9.30,\n",
        "\n",
        "year1988"
       ]
      },
      {
       "output_type": "stream",
       "stream": "stdout",
       "text": [
        "\n",
        "1.,MLB,Adam Peterson,CHA,AL,1988,2,6.0,0,1,13.50,3,1,5.63,\n",
        "\n",
        "year1989"
       ]
      },
      {
       "output_type": "stream",
       "stream": "stdout",
       "text": [
        "\n",
        "1.,MLB,Adam Peterson,CHA,AL,1989,2,5.3,0,1,15.19,4,1,5.97,\n",
        "\n",
        "year1990"
       ]
      },
      {
       "output_type": "stream",
       "stream": "stdout",
       "text": [
        "\n",
        "1.,MLB,Adam Peterson,CHA,AL,1990,11,85.0,2,5,4.87,18,8,5.72,\n",
        "\n",
        "year1991"
       ]
      },
      {
       "output_type": "stream",
       "stream": "stdout",
       "text": [
        "\n",
        "1.,MLB,Adam Peterson,SDN,NL,1991,11,54.7,3,4,5.43,9,0,5.60,\n",
        "\n",
        "year1992"
       ]
      },
      {
       "output_type": "stream",
       "stream": "stdout",
       "text": [
        "\n",
        "1.,MLB,Al Leiter,TOR,AL,1992,0,1.0,0,0,9.00,,,5.77,\n",
        "\n",
        "year1993"
       ]
      },
      {
       "output_type": "stream",
       "stream": "stdout",
       "text": [
        "\n",
        "1.,MLB,Aaron Sele,BOS,AL,1993,18,111.7,7,2,3.39,18,4,3.95,\n",
        "\n",
        "year1994"
       ]
      },
      {
       "output_type": "stream",
       "stream": "stdout",
       "text": [
        "\n",
        "1.,MLB,A. J. Sager,SDN,NL,1994,3,46.7,1,4,6.56,10,4,5.26,\n",
        "\n",
        "year1995"
       ]
      },
      {
       "output_type": "stream",
       "stream": "stdout",
       "text": [
        "\n",
        "1.,MLB,A. J. Sager,COL,NL,1995,0,14.7,0,0,9.82,6,4,5.88,\n",
        "\n",
        "year1996"
       ]
      },
      {
       "output_type": "stream",
       "stream": "stdout",
       "text": [
        "\n",
        "1.,MLB,A. J. Sager,DET,AL,1996,9,79.0,4,5,5.24,15,8,6.03,\n",
        "\n",
        "year1997"
       ]
      },
      {
       "output_type": "stream",
       "stream": "stdout",
       "text": [
        "\n",
        "1.,MLB,A. J. Sager,DET,AL,1997,1,84.0,3,4,4.61,15,9,5.35,\n",
        "\n",
        "year1998"
       ]
      },
      {
       "output_type": "stream",
       "stream": "stdout",
       "text": [
        "\n",
        "1.,MLB,A. J. Sager,DET,AL,1998,3,59.3,4,2,7.13,14,7,6.62,\n",
        "\n",
        "year1999"
       ]
      },
      {
       "output_type": "stream",
       "stream": "stdout",
       "text": [
        "\n",
        "1.,MLB,A.j. Burnett,FLO,NL,1999,7,41.3,4,2,5.01,3,2,4.62,\n",
        "\n",
        "year2000"
       ]
      },
      {
       "output_type": "stream",
       "stream": "stdout",
       "text": [
        "\n",
        "1.,MLB,A.j. Burnett,FLO,NL,2000,13,82.7,3,7,5.01,9,7,5.16,\n",
        "\n",
        "year2001"
       ]
      },
      {
       "output_type": "stream",
       "stream": "stdout",
       "text": [
        "\n",
        "1.,MLB,A.j. Burnett,FLO,NL,2001,27,173.3,11,12,4.26,17,8,5.17,\n",
        "\n",
        "year2002"
       ]
      },
      {
       "output_type": "stream",
       "stream": "stdout",
       "text": [
        "\n",
        "1.,MLB,A.j. Burnett,FLO,NL,2002,29,204.3,12,9,3.70,9,2,4.03,\n",
        "\n",
        "year2003"
       ]
      },
      {
       "output_type": "stream",
       "stream": "stdout",
       "text": [
        "\n",
        "1.,MLB,A.j. Burnett,FLO,NL,2003,4,23.0,0,2,5.09,5,0,5.51,\n",
        "\n",
        "year2004"
       ]
      },
      {
       "output_type": "stream",
       "stream": "stdout",
       "text": [
        "\n",
        "1.,MLB,A.j. Burnett,FLO,NL,2004,19,120.0,7,6,3.75,7,4,3.72,\n",
        "\n",
        "year2005"
       ]
      },
      {
       "output_type": "stream",
       "stream": "stdout",
       "text": [
        "\n",
        "1.,MLB,A.j. Burnett,FLO,NL,2005,32,209.0,12,12,4.18,23,11,4.06,\n",
        "\n",
        "year2006"
       ]
      },
      {
       "output_type": "stream",
       "stream": "stdout",
       "text": [
        "\n",
        "1.,MLB,A.j. Burnett,TOR,AL,2006,21,135.7,10,8,4.44,7,3,4.32,\n",
        "\n",
        "year2007"
       ]
      },
      {
       "output_type": "stream",
       "stream": "stdout",
       "text": [
        "\n",
        "1.,MLB,A.j. Burnett,TOR,AL,2007,25,165.7,10,8,4.02,16,5,4.93,\n",
        "\n",
        "year2008"
       ]
      },
      {
       "output_type": "stream",
       "stream": "stdout",
       "text": [
        "\n",
        "1.,MLB,A.j. Burnett,TOR,AL,2008,34,221.3,18,10,4.43,21,9,3.77,\n",
        "\n",
        "year2009"
       ]
      },
      {
       "output_type": "stream",
       "stream": "stdout",
       "text": [
        "\n",
        "1.,MLB,A.j. Burnett,NYA,AL,2009,33,207.0,13,9,4.30,19,1,4.98,\n",
        "\n",
        "year2010"
       ]
      },
      {
       "output_type": "stream",
       "stream": "stdout",
       "text": [
        "\n",
        "1.,MLB,A.j. Burnett,NYA,AL,2010,33,186.7,10,15,5.69,15,4,5.26,\n",
        "\n",
        "year2011"
       ]
      },
      {
       "output_type": "stream",
       "stream": "stdout",
       "text": [
        "\n",
        "1.,MLB,A.j. Burnett,NYA,AL,2011,32,190.3,11,11,5.44,27,6,5.50,\n",
        "\n",
        "year2012"
       ]
      },
      {
       "output_type": "stream",
       "stream": "stdout",
       "text": [
        "\n",
        "1.,MLB,A.j. Burnett,PIT,NL,2012,31,202.3,16,10,3.83,31,6,3.70,\n",
        "\n",
        "year2013"
       ]
      },
      {
       "output_type": "stream",
       "stream": "stdout",
       "text": [
        "\n",
        "1.,MLB,A.j. Burnett,PIT,NL,2013,30,191.0,10,11,3.72,14,4,3.54,\n",
        "\n",
        "year2014"
       ]
      },
      {
       "output_type": "stream",
       "stream": "stdout",
       "text": [
        "\n",
        "1.,MLB,A.j. Achter,MIN,AL,2014,0,11.0,1,0,5.73,4,2,6.12,\n",
        "\n"
       ]
      }
     ],
     "prompt_number": 1
    }
   ],
   "metadata": {}
  }
 ]
}