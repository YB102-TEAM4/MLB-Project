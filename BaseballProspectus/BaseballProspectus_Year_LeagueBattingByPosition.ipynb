{
 "metadata": {
  "name": "",
  "signature": "sha256:56e3cfec51109a4ebbd7d8b327b8e811bb1e92c3e4d1ad220527502dd3619988"
 },
 "nbformat": 3,
 "nbformat_minor": 0,
 "worksheets": [
  {
   "cells": [
    {
     "cell_type": "code",
     "collapsed": false,
     "input": [
      "#\u9996\u5148Name\u8981\u6392\u5e8f\n",
      "#\u8981\u6ce8\u610f\u7684\u5730\u65b9\u6709\u56db\u500b folder, range, year, page_limit\n",
      "import string, time, requests, os\n",
      "from bs4 import BeautifulSoup\n",
      "headers={\n",
      "    'User-Agent':'Mozilla/5.0 (Windows NT 6.1; WOW64) AppleWebKit/537.36 (KHTML, like Gecko) Chrome/40.0.2214.93 Safari/537.36'\n",
      "}\n",
      "url='http://www.baseballprospectus.com/sortable/index.php'\n",
      "\n",
      "folder='LeagueBattingByPosition'#\u8cc7\u6599\u593e\u540d\u7a31*********************\n",
      "\n",
      "path='Baseball\\\\'+folder #\u8def\u5f91\u540d\u7a31\n",
      "if os.path.exists(path):\n",
      "    print 'folder exists'\n",
      "else:    \n",
      "    os.mkdir(path)\n",
      "    print 'folder not exists'  \n",
      "    \n",
      "for year in range(1950,2015): #2015\u6c92\u7b97\u5230**************\n",
      "    payload={\n",
      "            'mystatslist':'YEAR,LVL,LG,POS,G,PA,AB,R,H,B1,B2,B3,HR,TB,BB,IBB,SO,HBP,SF,SH,RBI,DP,SB,CS,SB_PERCENT,AVG,OBP,SLG,OPS,ISO,TAV',\n",
      "            'category':'lg_pos_batting_stats',\n",
      "            'tablename':'dyna_lg_pos_batting_stats',\n",
      "            'stage':'data',\n",
      "            'year':'%d'%(year),#*********************\n",
      "            'mystatslist':'YEAR,LVL,LG,POS,G,PA,AB,R,H,B1,B2,B3,HR,TB,BB,IBB,SO,HBP,SF,SH,RBI,DP,SB,CS,SB_PERCENT,AVG,OBP,SLG,OPS,ISO,TAV',\n",
      "            'category':'lg_pos_batting_stats',\n",
      "            'tablename':'dyna_lg_pos_batting_stats',\n",
      "            'stage':'data',\n",
      "            'group_LVL':'MLB',\n",
      "            'group_LG':'*',\n",
      "            'minimum':'0',\n",
      "            'sort1column':'LG',\n",
      "            'sort1order':'ASC',\n",
      "            'sort2column':'POS',\n",
      "            'sort2order':'ASC',\n",
      "            'sort3column':'YEAR',\n",
      "            'sort3order':'ASC',\n",
      "            'page_limit':'All',#*********************\n",
      "            'glossary_terms':'*',\n",
      "            'viewdata':'View Data',\n",
      "        }\n",
      "    res=requests.post(url,data=payload,headers=headers)\n",
      "    soup=BeautifulSoup(res.text.encode('utf-8'))\n",
      "    trList=soup.select('#TTdata tr')\n",
      "    fileName= str(year)+'_'+folder+'.csv'\n",
      "    fid=open(path+'\\\\'+fileName,'w')\n",
      "    for tr in trList:\n",
      "        for td in tr.select('td'):\n",
      "            fid.write(td.text.encode('utf-8')+',')\n",
      "        fid.write('\\n')\n",
      "    fid.close()\n",
      "    fod=open(path+'\\\\'+fileName,'r')\n",
      "    print 'year'+str(year)\n",
      "    print fod.readlines()[1]\n",
      "    fod.close()\n",
      "    time.sleep(2)\n"
     ],
     "language": "python",
     "metadata": {},
     "outputs": [
      {
       "output_type": "stream",
       "stream": "stdout",
       "text": [
        "folder exists\n",
        "year1950"
       ]
      },
      {
       "output_type": "stream",
       "stream": "stdout",
       "text": [
        "\n",
        "1.,1950,MLB,AL,0,7,7,6,134,2,2,0,0,0,2,1,0,0,0,0,0,4,0,7,2,77.8%,.333,.429,.333,.762,.000,.000,\n",
        "\n",
        "year1951"
       ]
      },
      {
       "output_type": "stream",
       "stream": "stdout",
       "text": [
        "\n",
        "1.,1951,MLB,AL,0,5,5,5,153,1,1,0,0,0,1,0,0,1,0,0,0,1,0,8,11,42.1%,.200,.200,.200,.400,.000,.000,\n",
        "\n",
        "year1952"
       ]
      },
      {
       "output_type": "stream",
       "stream": "stdout",
       "text": [
        "\n",
        "1.,1952,MLB,AL,0,5,5,4,143,2,1,0,0,1,5,0,0,1,1,0,0,3,0,3,3,50.0%,.500,.600,1.250,1.850,.750,.000,\n",
        "\n",
        "year1953"
       ]
      },
      {
       "output_type": "stream",
       "stream": "stdout",
       "text": [
        "\n",
        "1.,1953,MLB,AL,0,4,4,4,201,1,0,0,0,1,4,0,0,1,0,0,0,1,0,6,10,37.5%,.250,.250,1.000,1.250,.750,.000,\n",
        "\n",
        "year1954"
       ]
      },
      {
       "output_type": "stream",
       "stream": "stdout",
       "text": [
        "\n",
        "1.,1954,MLB,AL,0,2,2,2,147,0,0,0,0,0,0,0,0,0,0,0,0,0,0,7,11,38.9%,.000,.000,.000,.000,.000,.000,\n",
        "\n",
        "year1955"
       ]
      },
      {
       "output_type": "stream",
       "stream": "stdout",
       "text": [
        "\n",
        "1.,1955,MLB,AL,0,2,2,1,183,0,0,0,0,0,0,1,0,1,0,0,0,1,0,9,6,60.0%,.000,.500,.000,.500,.000,.000,\n",
        "\n",
        "year1956"
       ]
      },
      {
       "output_type": "stream",
       "stream": "stdout",
       "text": [
        "\n",
        "1.,1956,MLB,AL,0,7,7,6,192,3,1,1,1,0,6,1,0,1,0,0,0,5,0,14,9,60.9%,.500,.571,1.000,1.571,.500,.000,\n",
        "\n",
        "year1957"
       ]
      },
      {
       "output_type": "stream",
       "stream": "stdout",
       "text": [
        "\n",
        "1.,1957,MLB,AL,0,1,1,1,184,1,1,0,0,0,1,0,0,0,0,0,0,0,0,9,13,40.9%,1.000,1.000,1.000,2.000,.000,.000,\n",
        "\n",
        "year1958"
       ]
      },
      {
       "output_type": "stream",
       "stream": "stdout",
       "text": [
        "\n",
        "1.,1958,MLB,AL,0,4,4,4,193,1,0,0,0,1,4,0,0,0,0,0,0,4,0,12,16,42.9%,.250,.250,1.000,1.250,.750,.000,\n",
        "\n",
        "year1959"
       ]
      },
      {
       "output_type": "stream",
       "stream": "stdout",
       "text": [
        "\n",
        "1.,1959,MLB,AL,0,2,2,2,171,1,0,0,0,1,4,0,0,0,0,0,0,4,0,7,11,38.9%,.500,.500,2.000,2.500,1.500,.000,\n",
        "\n",
        "year1960"
       ]
      },
      {
       "output_type": "stream",
       "stream": "stdout",
       "text": [
        "\n",
        "1.,1960,MLB,AL,0,2,2,2,229,0,0,0,0,0,0,0,0,1,0,0,0,0,1,8,10,44.4%,.000,.000,.000,.000,.000,.000,\n",
        "\n",
        "year1961"
       ]
      },
      {
       "output_type": "stream",
       "stream": "stdout",
       "text": [
        "\n",
        "1.,1961,MLB,AL,0,2,2,1,205,1,1,0,0,0,1,1,0,0,0,0,0,2,0,13,9,59.1%,1.000,1.000,1.000,2.000,.000,.000,\n",
        "\n",
        "year1962"
       ]
      },
      {
       "output_type": "stream",
       "stream": "stdout",
       "text": [
        "\n",
        "1.,1962,MLB,AL,0,3,4,4,248,2,2,0,0,0,2,0,0,0,0,0,0,3,0,11,12,47.8%,.500,.500,.500,1.000,.000,.000,\n",
        "\n",
        "year1963"
       ]
      },
      {
       "output_type": "stream",
       "stream": "stdout",
       "text": [
        "\n",
        "1.,1963,MLB,AL,0,4,4,4,224,1,0,1,0,0,2,0,0,2,0,0,0,3,0,19,4,82.6%,.250,.250,.500,.750,.250,.000,\n",
        "\n",
        "year1964"
       ]
      },
      {
       "output_type": "stream",
       "stream": "stdout",
       "text": [
        "\n",
        "1.,1964,MLB,AL,0,2,2,2,203,1,0,1,0,0,2,0,0,1,0,0,0,1,0,14,16,46.7%,.500,.500,1.000,1.500,.500,.000,\n",
        "\n",
        "year1965"
       ]
      },
      {
       "output_type": "stream",
       "stream": "stdout",
       "text": [
        "\n",
        "1.,1965,MLB,AL,0,3,2,2,227,2,2,0,0,0,2,0,0,0,0,0,0,1,0,21,12,63.6%,1.000,1.000,1.000,2.000,.000,.000,\n",
        "\n",
        "year1966"
       ]
      },
      {
       "output_type": "stream",
       "stream": "stdout",
       "text": [
        "\n",
        "1.,1966,MLB,AL,0,3,3,3,252,1,0,1,0,0,2,0,0,0,0,0,0,0,0,15,15,50.0%,.333,.333,.667,1.000,.333,.000,\n",
        "\n",
        "year1967"
       ]
      },
      {
       "output_type": "stream",
       "stream": "stdout",
       "text": [
        "\n",
        "1.,1967,MLB,AL,0,6,6,5,260,0,0,0,0,0,0,0,0,1,0,0,1,1,0,39,21,65.0%,.000,.000,.000,.000,.000,.000,\n",
        "\n",
        "year1968"
       ]
      },
      {
       "output_type": "stream",
       "stream": "stdout",
       "text": [
        "\n",
        "1.,1968,MLB,AL,0,4,4,4,198,0,0,0,0,0,0,0,0,0,0,0,0,0,0,40,17,70.2%,.000,.000,.000,.000,.000,.000,\n",
        "\n",
        "year1969"
       ]
      },
      {
       "output_type": "stream",
       "stream": "stdout",
       "text": [
        "\n",
        "1.,1969,MLB,AL,0,5,5,5,300,2,2,0,0,0,2,0,0,0,0,0,0,4,0,26,19,57.8%,.400,.400,.400,.800,.000,.000,\n",
        "\n",
        "year1970"
       ]
      },
      {
       "output_type": "stream",
       "stream": "stdout",
       "text": [
        "\n",
        "1.,1970,MLB,AL,0,7,9,7,257,1,1,0,0,0,1,2,0,4,0,0,0,3,0,22,17,56.4%,.143,.333,.143,.476,.000,.000,\n",
        "\n",
        "year1971"
       ]
      },
      {
       "output_type": "stream",
       "stream": "stdout",
       "text": [
        "\n",
        "1.,1971,MLB,AL,0,5,7,5,269,1,1,0,0,0,1,1,0,2,0,0,1,2,0,21,18,53.9%,.200,.333,.200,.533,.000,.000,\n",
        "\n",
        "year1972"
       ]
      },
      {
       "output_type": "stream",
       "stream": "stdout",
       "text": [
        "\n",
        "1.,1972,MLB,AL,0,4,4,4,247,2,2,0,0,0,2,0,0,0,0,0,0,2,0,31,16,66.0%,.500,.500,.500,1.000,.000,.000,\n",
        "\n",
        "year1973"
       ]
      },
      {
       "output_type": "stream",
       "stream": "stdout",
       "text": [
        "\n",
        "1.,1973,MLB,AL,0,4,4,3,179,0,0,0,0,0,0,1,0,0,0,0,0,0,0,11,11,50.0%,.000,.250,.000,.250,.000,.000,\n",
        "\n",
        "year1974"
       ]
      },
      {
       "output_type": "stream",
       "stream": "stdout",
       "text": [
        "\n",
        "1.,1974,MLB,AL,0,2,2,2,199,0,0,0,0,0,0,0,0,0,0,0,0,0,0,37,16,69.8%,.000,.000,.000,.000,.000,.000,\n",
        "\n",
        "year1975"
       ]
      },
      {
       "output_type": "stream",
       "stream": "stdout",
       "text": [
        "\n",
        "1.,1975,MLB,AL,0,1,1,1,182,0,0,0,0,0,0,0,0,0,0,0,0,0,0,47,31,60.3%,.000,.000,.000,.000,.000,.000,\n",
        "\n",
        "year1976"
       ]
      },
      {
       "output_type": "stream",
       "stream": "stdout",
       "text": [
        "\n",
        "1.,1976,MLB,AL,0,3,3,3,170,0,0,0,0,0,0,0,0,0,0,0,0,0,0,61,30,67.0%,.000,.000,.000,.000,.000,.000,\n",
        "\n",
        "year1977"
       ]
      },
      {
       "output_type": "stream",
       "stream": "stdout",
       "text": [
        "\n",
        "1.,1977,MLB,AL,0,1,1,1,210,0,0,0,0,0,0,0,0,0,0,0,0,0,0,55,31,64.0%,.000,.000,.000,.000,.000,.000,\n",
        "\n",
        "year1978"
       ]
      },
      {
       "output_type": "stream",
       "stream": "stdout",
       "text": [
        "\n",
        "1.,1978,MLB,AL,0,6,6,6,232,0,0,0,0,0,0,0,0,0,0,0,0,0,0,55,39,58.5%,.000,.000,.000,.000,.000,.000,\n",
        "\n",
        "year1979"
       ]
      },
      {
       "output_type": "stream",
       "stream": "stdout",
       "text": [
        "\n",
        "1.,1979,MLB,AL,0,6,6,6,208,1,0,1,0,0,2,0,0,0,0,0,0,3,0,28,25,52.8%,.167,.167,.333,.500,.167,.000,\n",
        "\n",
        "year1980"
       ]
      },
      {
       "output_type": "stream",
       "stream": "stdout",
       "text": [
        "\n",
        "1.,1980,MLB,AL,0,3,3,3,225,2,2,0,0,0,2,0,0,0,0,0,0,1,0,19,15,55.9%,.667,.667,.667,1.333,.000,.000,\n",
        "\n",
        "year1981"
       ]
      },
      {
       "output_type": "stream",
       "stream": "stdout",
       "text": [
        "\n",
        "1.,1981,MLB,AL,0,1,2,2,138,1,0,1,0,0,2,0,0,0,0,0,0,3,0,31,12,72.1%,.500,.500,1.000,1.500,.500,.000,\n",
        "\n",
        "year1982"
       ]
      },
      {
       "output_type": "stream",
       "stream": "stdout",
       "text": [
        "\n",
        "1.,1982,MLB,AL,0,2,2,2,200,0,0,0,0,0,0,0,0,0,0,0,0,0,0,28,21,57.1%,.000,.000,.000,.000,.000,.000,\n",
        "\n",
        "year1983"
       ]
      },
      {
       "output_type": "stream",
       "stream": "stdout",
       "text": [
        "\n",
        "1.,1983,MLB,AL,0,6,7,6,236,3,3,0,0,0,3,1,0,1,0,0,0,1,0,23,19,54.8%,.500,.571,.500,1.071,.000,.000,\n",
        "\n",
        "year1984"
       ]
      },
      {
       "output_type": "stream",
       "stream": "stdout",
       "text": [
        "\n",
        "1.,1984,MLB,AL,0,3,4,3,215,1,1,0,0,0,1,1,0,0,0,0,0,1,0,31,20,60.8%,.333,.500,.333,.833,.000,.000,\n",
        "\n",
        "year1985"
       ]
      },
      {
       "output_type": "stream",
       "stream": "stdout",
       "text": [
        "\n",
        "1.,1985,MLB,AL,0,2,2,2,221,0,0,0,0,0,0,0,0,1,0,0,0,0,0,33,22,60.0%,.000,.000,.000,.000,.000,.000,\n",
        "\n",
        "year1986"
       ]
      },
      {
       "output_type": "stream",
       "stream": "stdout",
       "text": [
        "\n",
        "1.,1986,MLB,AL,0,2,2,1,206,0,0,0,0,0,0,1,0,1,0,0,0,1,0,34,16,68.0%,.000,.500,.000,.500,.000,.000,\n",
        "\n",
        "year1987"
       ]
      },
      {
       "output_type": "stream",
       "stream": "stdout",
       "text": [
        "\n",
        "1.,1987,MLB,AL,0,3,3,3,220,2,2,0,0,0,2,0,0,0,0,0,0,1,0,33,6,84.6%,.667,.667,.667,1.333,.000,.000,\n",
        "\n",
        "year1988"
       ]
      },
      {
       "output_type": "stream",
       "stream": "stdout",
       "text": [
        "\n",
        "1.,1988,MLB,AL,0,4,4,4,194,0,0,0,0,0,0,0,0,1,0,0,0,0,0,19,17,52.8%,.000,.000,.000,.000,.000,.000,\n",
        "\n",
        "year1989"
       ]
      },
      {
       "output_type": "stream",
       "stream": "stdout",
       "text": [
        "\n",
        "1.,1989,MLB,AL,0,3,3,3,213,1,1,0,0,0,1,0,0,1,0,0,0,1,0,35,14,71.4%,.333,.333,.333,.667,.000,.000,\n",
        "\n",
        "year1990"
       ]
      },
      {
       "output_type": "stream",
       "stream": "stdout",
       "text": [
        "\n",
        "1.,1990,MLB,AL,0,6,6,6,201,1,1,0,0,0,1,0,0,0,0,0,0,1,0,42,17,71.2%,.167,.167,.167,.333,.000,.000,\n",
        "\n",
        "year1991"
       ]
      },
      {
       "output_type": "stream",
       "stream": "stdout",
       "text": [
        "\n",
        "1.,1991,MLB,AL,0,4,4,4,238,0,0,0,0,0,0,0,0,2,0,0,0,0,0,50,19,72.5%,.000,.000,.000,.000,.000,.000,\n",
        "\n",
        "year1992"
       ]
      },
      {
       "output_type": "stream",
       "stream": "stdout",
       "text": [
        "\n",
        "1.,1992,MLB,AL,0,4,4,3,179,0,0,0,0,0,0,1,0,0,0,0,0,0,0,33,30,52.4%,.000,.250,.000,.250,.000,.000,\n",
        "\n",
        "year1993"
       ]
      },
      {
       "output_type": "stream",
       "stream": "stdout",
       "text": [
        "\n",
        "1.,1993,MLB,AL,0,5,5,5,215,2,1,0,0,1,5,0,0,0,0,0,0,4,0,27,14,65.9%,.400,.400,1.000,1.400,.600,.000,\n",
        "\n",
        "year1994"
       ]
      },
      {
       "output_type": "stream",
       "stream": "stdout",
       "text": [
        "\n",
        "1.,1994,MLB,AL,0,5,5,5,146,1,1,0,0,0,1,0,0,1,0,0,0,2,0,26,7,78.8%,.200,.200,.200,.400,.000,.000,\n",
        "\n",
        "year1995"
       ]
      },
      {
       "output_type": "stream",
       "stream": "stdout",
       "text": [
        "\n",
        "1.,1995,MLB,AL,0,4,4,4,203,1,1,0,0,0,1,0,0,0,0,0,0,1,1,38,5,88.4%,.250,.250,.250,.500,.000,.000,\n",
        "\n",
        "year1996"
       ]
      },
      {
       "output_type": "stream",
       "stream": "stdout",
       "text": [
        "\n",
        "1.,1996,MLB,AL,0,8,8,7,219,1,1,0,0,0,1,1,0,2,0,0,0,0,0,32,15,68.1%,.143,.250,.143,.393,.000,.000,\n",
        "\n",
        "year1997"
       ]
      },
      {
       "output_type": "stream",
       "stream": "stdout",
       "text": [
        "\n",
        "1.,1997,MLB,AL,0,5,5,4,211,2,1,1,0,0,3,1,0,2,0,0,0,3,0,28,14,66.7%,.500,.600,.750,1.350,.250,.000,\n",
        "\n",
        "year1998"
       ]
      },
      {
       "output_type": "stream",
       "stream": "stdout",
       "text": [
        "\n",
        "1.,1998,MLB,AL,0,2,2,2,191,0,0,0,0,0,0,0,0,1,0,0,0,0,0,40,12,76.9%,.000,.000,.000,.000,.000,.000,\n",
        "\n",
        "year1999"
       ]
      },
      {
       "output_type": "stream",
       "stream": "stdout",
       "text": [
        "\n",
        "1.,1999,MLB,AL,0,3,3,3,193,1,1,0,0,0,1,0,0,0,0,0,0,1,0,25,11,69.4%,.333,.333,.333,.667,.000,.000,\n",
        "\n",
        "year2000"
       ]
      },
      {
       "output_type": "stream",
       "stream": "stdout",
       "text": [
        "\n",
        "1.,2000,MLB,AL,0,3,3,3,223,1,0,0,0,1,4,0,0,1,0,0,0,3,0,30,22,57.7%,.333,.333,1.333,1.667,1.000,.000,\n",
        "\n",
        "year2001"
       ]
      },
      {
       "output_type": "stream",
       "stream": "stdout",
       "text": [
        "\n",
        "1.,2001,MLB,AL,0,5,5,5,183,2,1,1,0,0,3,0,0,1,0,0,0,2,0,31,12,72.1%,.400,.400,.600,1.000,.200,.000,\n",
        "\n",
        "year2002"
       ]
      },
      {
       "output_type": "stream",
       "stream": "stdout",
       "text": [
        "\n",
        "1.,2002,MLB,AL,0,6,6,4,201,2,1,1,0,0,3,2,0,0,0,0,0,3,0,42,11,79.3%,.500,.667,.750,1.417,.250,.000,\n",
        "\n",
        "year2003"
       ]
      },
      {
       "output_type": "stream",
       "stream": "stdout",
       "text": [
        "\n",
        "1.,2003,MLB,AL,0,3,3,2,167,0,0,0,0,0,0,1,0,0,0,0,0,0,0,42,16,72.4%,.000,.333,.000,.333,.000,.000,\n",
        "\n",
        "year2004"
       ]
      },
      {
       "output_type": "stream",
       "stream": "stdout",
       "text": [
        "\n",
        "1.,2004,MLB,AL,0,1,1,1,189,0,0,0,0,0,0,0,0,0,0,0,0,0,0,25,15,62.5%,.000,.000,.000,.000,.000,.000,\n",
        "\n",
        "year2005"
       ]
      },
      {
       "output_type": "stream",
       "stream": "stdout",
       "text": [
        "\n",
        "1.,2005,MLB,AL,0,3,4,4,153,2,2,0,0,0,2,0,0,1,0,0,0,1,0,27,11,71.1%,.500,.500,.500,1.000,.000,.000,\n",
        "\n",
        "year2006"
       ]
      },
      {
       "output_type": "stream",
       "stream": "stdout",
       "text": [
        "\n",
        "1.,2006,MLB,AL,0,3,3,2,191,0,0,0,0,0,0,1,0,0,0,0,0,0,0,22,10,68.8%,.000,.333,.000,.333,.000,.000,\n",
        "\n",
        "year2007"
       ]
      },
      {
       "output_type": "stream",
       "stream": "stdout",
       "text": [
        "\n",
        "1.,2007,MLB,AL,0,6,6,5,195,3,1,1,1,0,6,1,0,1,0,0,0,3,0,36,16,69.2%,.600,.667,1.200,1.867,.600,.000,\n",
        "\n",
        "year2008"
       ]
      },
      {
       "output_type": "stream",
       "stream": "stdout",
       "text": [
        "\n",
        "1.,2008,MLB,AL,0,5,5,4,182,2,2,0,0,0,2,1,0,0,0,0,0,3,0,42,7,85.7%,.500,.600,.500,1.100,.000,.000,\n",
        "\n",
        "year2009"
       ]
      },
      {
       "output_type": "stream",
       "stream": "stdout",
       "text": [
        "\n",
        "1.,2009,MLB,AL,0,6,6,6,156,2,1,1,0,0,3,0,0,1,0,0,0,1,0,34,12,73.9%,.333,.333,.500,.833,.167,.000,\n",
        "\n",
        "year2010"
       ]
      },
      {
       "output_type": "stream",
       "stream": "stdout",
       "text": [
        "\n",
        "1.,2010,MLB,AL,0,1,1,1,167,0,0,0,0,0,0,0,0,1,0,0,0,0,0,32,8,80.0%,.000,.000,.000,.000,.000,.000,\n",
        "\n",
        "year2011"
       ]
      },
      {
       "output_type": "stream",
       "stream": "stdout",
       "text": [
        "\n",
        "1.,2011,MLB,AL,0,5,5,5,172,3,1,2,0,0,5,0,0,0,0,0,0,5,0,43,7,86.0%,.600,.600,1.000,1.600,.400,.000,\n",
        "\n",
        "year2012"
       ]
      },
      {
       "output_type": "stream",
       "stream": "stdout",
       "text": [
        "\n",
        "1.,2012,MLB,AL,0,4,4,4,143,1,1,0,0,0,1,0,0,1,0,0,0,2,0,38,17,69.1%,.250,.250,.250,.500,.000,.000,\n",
        "\n",
        "year2013"
       ]
      },
      {
       "output_type": "stream",
       "stream": "stdout",
       "text": [
        "\n",
        "1.,2013,MLB,AL,0,2,2,1,174,0,0,0,0,0,0,1,0,1,0,0,0,1,0,32,14,69.6%,.000,.500,.000,.500,.000,.000,\n",
        "\n",
        "year2014"
       ]
      },
      {
       "output_type": "stream",
       "stream": "stdout",
       "text": [
        "\n",
        "1.,2014,MLB,AL,0,2,2,1,215,0,0,0,0,0,0,1,0,0,0,0,0,0,0,56,16,77.8%,.000,.500,.000,.500,.000,.000,\n",
        "\n"
       ]
      }
     ],
     "prompt_number": 2
    }
   ],
   "metadata": {}
  }
 ]
}