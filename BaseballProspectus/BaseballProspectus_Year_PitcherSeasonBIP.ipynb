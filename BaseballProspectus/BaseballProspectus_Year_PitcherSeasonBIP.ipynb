{
 "metadata": {
  "name": "",
  "signature": "sha256:2ef33e191b3afd474ac9c213f6a4a4707d656598ec298bcfb3e62e0c25b0617f"
 },
 "nbformat": 3,
 "nbformat_minor": 0,
 "worksheets": [
  {
   "cells": [
    {
     "cell_type": "code",
     "collapsed": false,
     "input": [
      "#\u9996\u5148Name\u8981\u6392\u5e8f\n",
      "#\u8981\u6ce8\u610f\u7684\u5730\u65b9\u6709\u56db\u500b range, year, fileName, page_limit\n",
      "import string\n",
      "import time\n",
      "import requests\n",
      "from bs4 import BeautifulSoup\n",
      "headers={\n",
      "    'User-Agent':'Mozilla/5.0 (Windows NT 6.1; WOW64) AppleWebKit/537.36 (KHTML, like Gecko) Chrome/40.0.2214.93 Safari/537.36'\n",
      "}\n",
      "url='http://www.baseballprospectus.com/sortable/index.php'      \n",
      "for year in range(1871,2013): #2015\u6c92\u7b97\u5230**************\n",
      "    payload={                        \n",
      "            'mystatslist':'LVL,NAME,YEAR,AGE,G,GS,IP,IP_START,IP_RELIEF,PA,BATTED_BALL_TYPE_KNOWN,FB,GB,LINEDR,POPUP,BABIP,DP_PERCENT,FB_PERCENT,GB_PERCENT,LINEDR_PERCENT,POPUP_PERCENT',\n",
      "            'category':'pitcher_season',\n",
      "            'tablename':'dyna_pitcher_season',\n",
      "            'stage':'data',\n",
      "            'year':'%d'%(year),#*********************\n",
      "            'mystatslist':'LVL,NAME,YEAR,AGE,G,GS,IP,IP_START,IP_RELIEF,PA,BATTED_BALL_TYPE_KNOWN,FB,GB,LINEDR,POPUP,BABIP,DP_PERCENT,FB_PERCENT,GB_PERCENT,LINEDR_PERCENT,POPUP_PERCENT',\n",
      "            'category':'pitcher_season',\n",
      "            'tablename':'dyna_pitcher_season',\n",
      "            'stage':'data',\n",
      "            'group_LVL':'MLB',\n",
      "            'minimum':'0',\n",
      "            'sort1column':'NAME',\n",
      "            'sort1order':'ASC',\n",
      "            'page_limit':'1500',#*********************\n",
      "            'tt_team':'*',\n",
      "            'show_ttroster':'1',\n",
      "            'show_ttwatched':'1',\n",
      "            'viewdata':'View Data'\n",
      "        }\n",
      "    res=requests.post(url,data=payload,headers=headers)\n",
      "    soup=BeautifulSoup(res.text.encode('utf-8'))    \n",
      "    trList=soup.select('#TTdata')[0].select('tr')    \n",
      "    fileName= str(year)+'_Pitcher_BIP.csv'#*********************\n",
      "    fid=open('Baseball\\\\'+fileName,'w')    \n",
      "    for tr in trList:\n",
      "        for td in tr.select('td'):\n",
      "            fid.write(td.text.encode('utf-8')+',')\n",
      "        fid.write('\\n')\n",
      "    fid.close()\n",
      "    fod=open('Baseball\\\\'+fileName,'r')\n",
      "    print 'year'+str(year)\n",
      "    print fod.readlines()[1]\n",
      "    fod.close()\n",
      "    time.sleep(2)"
     ],
     "language": "python",
     "metadata": {},
     "outputs": [
      {
       "output_type": "stream",
       "stream": "stdout",
       "text": [
        "year1871\n",
        "1.,MLB,Al Pratt,1871,23,28,28,224.7,0.0,0.0,1,117,,,,,,.000,0.0%,0.0%,0.0%,0.0%,0.0%,\n",
        "\n",
        "year1872"
       ]
      },
      {
       "output_type": "stream",
       "stream": "stdout",
       "text": [
        "\n",
        "1.,MLB, O'rourke,1872,0,1,1,9.0,0.0,0.0,51,,,,,,.000,0.0%,0.0%,0.0%,0.0%,0.0%,\n",
        "\n",
        "year1873"
       ]
      },
      {
       "output_type": "stream",
       "stream": "stdout",
       "text": [
        "\n",
        "1.,MLB,Al Spalding,1873,22,60,54,496.7,0.0,0.0,2,297,,,,,,.000,0.0%,0.0%,0.0%,0.0%,0.0%,\n",
        "\n",
        "year1874"
       ]
      },
      {
       "output_type": "stream",
       "stream": "stdout",
       "text": [
        "\n",
        "1.,MLB,Al Spalding,1874,23,71,69,617.3,0.0,0.0,2,784,,,,,,.000,0.0%,0.0%,0.0%,0.0%,0.0%,\n",
        "\n",
        "year1875"
       ]
      },
      {
       "output_type": "stream",
       "stream": "stdout",
       "text": [
        "\n",
        "1.,MLB,Al Spalding,1875,24,72,62,570.7,0.0,0.0,2,354,,,,,,.000,0.0%,0.0%,0.0%,0.0%,0.0%,\n",
        "\n",
        "year1876"
       ]
      },
      {
       "output_type": "stream",
       "stream": "stdout",
       "text": [
        "\n",
        "1.,MLB,Al Spalding,1876,25,61,60,528.7,0.0,0.0,2,219,,,,,,.000,0.0%,0.0%,0.0%,0.0%,0.0%,\n",
        "\n",
        "year1877"
       ]
      },
      {
       "output_type": "stream",
       "stream": "stdout",
       "text": [
        "\n",
        "1.,MLB,Al Spalding,1877,26,4,1,11.0,0.0,0.0,53,,,,,,.000,0.0%,0.0%,0.0%,0.0%,0.0%,\n",
        "\n",
        "year1878"
       ]
      },
      {
       "output_type": "stream",
       "stream": "stdout",
       "text": [
        "\n",
        "1.,MLB,Bobby Mitchell,1878,22,9,9,80.0,0.0,0.0,328,,,,,,.000,0.0%,0.0%,0.0%,0.0%,0.0%,\n",
        "\n",
        "year1879"
       ]
      },
      {
       "output_type": "stream",
       "stream": "stdout",
       "text": [
        "\n",
        "1.,MLB,Bill Mcgunnigle,1879,24,14,13,120.0,0.0,0.0,496,,,,,,.000,0.0%,0.0%,0.0%,0.0%,0.0%,\n",
        "\n",
        "year1880"
       ]
      },
      {
       "output_type": "stream",
       "stream": "stdout",
       "text": [
        "\n",
        "1.,MLB,Bill Mcgunnigle,1880,25,5,5,37.0,0.0,0.0,162,,,,,,.000,0.0%,0.0%,0.0%,0.0%,0.0%,\n",
        "\n",
        "year1881"
       ]
      },
      {
       "output_type": "stream",
       "stream": "stdout",
       "text": [
        "\n",
        "1.,MLB,Billy Taylor,1881,26,2,1,11.0,0.0,0.0,57,,,,,,.000,0.0%,0.0%,0.0%,0.0%,0.0%,\n",
        "\n",
        "year1882"
       ]
      },
      {
       "output_type": "stream",
       "stream": "stdout",
       "text": [
        "\n",
        "1.,MLB,Art Whitney,1882,24,3,2,18.0,0.0,0.0,91,,,,,,.000,0.0%,0.0%,0.0%,0.0%,0.0%,\n",
        "\n",
        "year1883"
       ]
      },
      {
       "output_type": "stream",
       "stream": "stdout",
       "text": [
        "\n",
        "1.,MLB,Alonzo Breitenstein,1883,25,1,1,5.0,0.0,0.0,27,,,,,,.000,0.0%,0.0%,0.0%,0.0%,0.0%,\n",
        "\n",
        "year1884"
       ]
      },
      {
       "output_type": "stream",
       "stream": "stdout",
       "text": [
        "\n",
        "1.,MLB, Smith\u00e2\u0094\u0090,1884,0,1,1,6.0,0.0,0.0,0,,,,,,.000,0.0%,0.0%,0.0%,0.0%,0.0%,\n",
        "\n",
        "year1885"
       ]
      },
      {
       "output_type": "stream",
       "stream": "stdout",
       "text": [
        "\n",
        "1.,MLB,Adonis Terry,1885,20,25,23,209.0,0.0,0.0,860,,,,,,.000,0.0%,0.0%,0.0%,0.0%,0.0%,\n",
        "\n",
        "year1886"
       ]
      },
      {
       "output_type": "stream",
       "stream": "stdout",
       "text": [
        "\n",
        "1.,MLB,Abner Powell,1886,25,11,8,75.3,0.0,0.0,345,,,,,,.000,0.0%,0.0%,0.0%,0.0%,0.0%,\n",
        "\n",
        "year1887"
       ]
      },
      {
       "output_type": "stream",
       "stream": "stdout",
       "text": [
        "\n",
        "1.,MLB,Adonis Terry,1887,22,40,35,318.0,0.0,0.0,1,373,,,,,,.000,0.0%,0.0%,0.0%,0.0%,0.0%,\n",
        "\n",
        "year1888"
       ]
      },
      {
       "output_type": "stream",
       "stream": "stdout",
       "text": [
        "\n",
        "1.,MLB,Ad Gumbert,1888,19,6,6,48.7,0.0,0.0,203,,,,,,.000,0.0%,0.0%,0.0%,0.0%,0.0%,\n",
        "\n",
        "year1889"
       ]
      },
      {
       "output_type": "stream",
       "stream": "stdout",
       "text": [
        "\n",
        "1.,MLB,Ad Gumbert,1889,20,31,28,246.3,0.0,0.0,0,,,,,,.000,0.0%,0.0%,0.0%,0.0%,0.0%,\n",
        "\n",
        "year1890"
       ]
      },
      {
       "output_type": "stream",
       "stream": "stdout",
       "text": [
        "\n",
        "1.,MLB,Ad Gumbert,1890,21,39,33,277.3,0.0,0.0,0,,,,,,.000,0.0%,0.0%,0.0%,0.0%,0.0%,\n",
        "\n",
        "year1891"
       ]
      },
      {
       "output_type": "stream",
       "stream": "stdout",
       "text": [
        "\n",
        "1.,MLB,Ad Gumbert,1891,22,32,31,256.3,0.0,0.0,0,,,,,,.000,0.0%,0.0%,0.0%,0.0%,0.0%,\n",
        "\n",
        "year1892"
       ]
      },
      {
       "output_type": "stream",
       "stream": "stdout",
       "text": [
        "\n",
        "1.,MLB,Ad Gumbert,1892,23,46,45,382.7,0.0,0.0,0,,,,,,.000,0.0%,0.0%,0.0%,0.0%,0.0%,\n",
        "\n",
        "year1893"
       ]
      },
      {
       "output_type": "stream",
       "stream": "stdout",
       "text": [
        "\n",
        "1.,MLB,Abe Johnson,1893,0,1,0,1.0,0.0,0.0,0,,,,,,.000,0.0%,0.0%,0.0%,0.0%,0.0%,\n",
        "\n",
        "year1894"
       ]
      },
      {
       "output_type": "stream",
       "stream": "stdout",
       "text": [
        "\n",
        "1.,MLB,Ad Gumbert,1894,25,38,32,271.0,0.0,0.0,0,,,,,,.000,0.0%,0.0%,0.0%,0.0%,0.0%,\n",
        "\n",
        "year1895"
       ]
      },
      {
       "output_type": "stream",
       "stream": "stdout",
       "text": [
        "\n",
        "1.,MLB,Ad Gumbert,1895,26,33,26,234.0,0.0,0.0,0,,,,,,.000,0.0%,0.0%,0.0%,0.0%,0.0%,\n",
        "\n",
        "year1896"
       ]
      },
      {
       "output_type": "stream",
       "stream": "stdout",
       "text": [
        "\n",
        "1.,MLB,Ad Gumbert,1896,27,16,14,108.3,0.0,0.0,0,,,,,,.000,0.0%,0.0%,0.0%,0.0%,0.0%,\n",
        "\n",
        "year1897"
       ]
      },
      {
       "output_type": "stream",
       "stream": "stdout",
       "text": [
        "\n",
        "1.,MLB,Adonis Terry,1897,32,1,1,8.0,0.0,0.0,0,,,,,,.000,0.0%,0.0%,0.0%,0.0%,0.0%,\n",
        "\n",
        "year1898"
       ]
      },
      {
       "output_type": "stream",
       "stream": "stdout",
       "text": [
        "\n",
        "1.,MLB,Al Maul,1898,32,28,28,239.7,0.0,0.0,0,,,,,,.000,0.0%,0.0%,0.0%,0.0%,0.0%,\n",
        "\n",
        "year1899"
       ]
      },
      {
       "output_type": "stream",
       "stream": "stdout",
       "text": [
        "\n",
        "1.,MLB,Al Maul,1899,33,4,4,26.0,0.0,0.0,0,,,,,,.000,0.0%,0.0%,0.0%,0.0%,0.0%,\n",
        "\n",
        "year1900"
       ]
      },
      {
       "output_type": "stream",
       "stream": "stdout",
       "text": [
        "\n",
        "1.,MLB,Al Maul,1900,34,5,4,38.0,0.0,0.0,0,,,,,,.000,0.0%,0.0%,0.0%,0.0%,0.0%,\n",
        "\n",
        "year1901"
       ]
      },
      {
       "output_type": "stream",
       "stream": "stdout",
       "text": [
        "\n",
        "1.,MLB,Al Maul,1901,35,3,3,19.0,0.0,0.0,0,,,,,,.000,0.0%,0.0%,0.0%,0.0%,0.0%,\n",
        "\n",
        "year1902"
       ]
      },
      {
       "output_type": "stream",
       "stream": "stdout",
       "text": [
        "\n",
        "1.,MLB,Addie Joss,1902,22,32,29,269.3,0.0,0.0,0,,,,,,.000,0.0%,0.0%,0.0%,0.0%,0.0%,\n",
        "\n",
        "year1903"
       ]
      },
      {
       "output_type": "stream",
       "stream": "stdout",
       "text": [
        "\n",
        "1.,MLB,Addie Joss,1903,23,32,31,283.7,0.0,0.0,0,,,,,,.000,0.0%,0.0%,0.0%,0.0%,0.0%,\n",
        "\n",
        "year1904"
       ]
      },
      {
       "output_type": "stream",
       "stream": "stdout",
       "text": [
        "\n",
        "1.,MLB,Addie Joss,1904,24,25,24,192.3,0.0,0.0,0,,,,,,.000,0.0%,0.0%,0.0%,0.0%,0.0%,\n",
        "\n",
        "year1905"
       ]
      },
      {
       "output_type": "stream",
       "stream": "stdout",
       "text": [
        "\n",
        "1.,MLB,Addie Joss,1905,25,33,32,286.0,0.0,0.0,0,,,,,,.000,0.0%,0.0%,0.0%,0.0%,0.0%,\n",
        "\n",
        "year1906"
       ]
      },
      {
       "output_type": "stream",
       "stream": "stdout",
       "text": [
        "\n",
        "1.,MLB,Addie Joss,1906,26,34,31,282.0,0.0,0.0,0,,,,,,.000,0.0%,0.0%,0.0%,0.0%,0.0%,\n",
        "\n",
        "year1907"
       ]
      },
      {
       "output_type": "stream",
       "stream": "stdout",
       "text": [
        "\n",
        "1.,MLB,Addie Joss,1907,27,42,38,338.7,0.0,0.0,0,,,,,,.000,0.0%,0.0%,0.0%,0.0%,0.0%,\n",
        "\n",
        "year1908"
       ]
      },
      {
       "output_type": "stream",
       "stream": "stdout",
       "text": [
        "\n",
        "1.,MLB,Abe Kruger,1908,23,2,1,6.3,0.0,0.0,27,,,,,,.000,0.0%,0.0%,0.0%,0.0%,0.0%,\n",
        "\n",
        "year1909"
       ]
      },
      {
       "output_type": "stream",
       "stream": "stdout",
       "text": [
        "\n",
        "1.,MLB,Addie Joss,1909,29,33,28,242.7,0.0,0.0,912,,,,,,.000,0.0%,0.0%,0.0%,0.0%,0.0%,\n",
        "\n",
        "year1910"
       ]
      },
      {
       "output_type": "stream",
       "stream": "stdout",
       "text": [
        "\n",
        "1.,MLB,Ad Brennan,1910,22,19,5,73.3,0.0,0.0,304,,,,,,.000,0.0%,0.0%,0.0%,0.0%,0.0%,\n",
        "\n",
        "year1911"
       ]
      },
      {
       "output_type": "stream",
       "stream": "stdout",
       "text": [
        "\n",
        "1.,MLB,Ad Brennan,1911,23,5,3,22.7,0.0,0.0,98,,,,,,.000,0.0%,0.0%,0.0%,0.0%,0.0%,\n",
        "\n",
        "year1912"
       ]
      },
      {
       "output_type": "stream",
       "stream": "stdout",
       "text": [
        "\n",
        "1.,MLB,Ad Brennan,1912,24,27,19,174.0,0.0,0.0,743,,,,,,.000,0.0%,0.0%,0.0%,0.0%,0.0%,\n",
        "\n",
        "year1913"
       ]
      },
      {
       "output_type": "stream",
       "stream": "stdout",
       "text": [
        "\n",
        "1.,MLB,Ad Brennan,1913,25,40,24,207.0,0.0,0.0,843,,,,,,.000,0.0%,0.0%,0.0%,0.0%,0.0%,\n",
        "\n",
        "year1914"
       ]
      },
      {
       "output_type": "stream",
       "stream": "stdout",
       "text": [
        "\n",
        "1.,MLB,Abe Bowman,1914,21,22,10,72.7,0.0,0.0,316,,,,,,.000,0.0%,0.0%,0.0%,0.0%,0.0%,\n",
        "\n",
        "year1915"
       ]
      },
      {
       "output_type": "stream",
       "stream": "stdout",
       "text": [
        "\n",
        "1.,MLB,Abe Bowman,1915,22,2,1,1.3,0.0,0.0,7,,,,,,.000,0.0%,0.0%,0.0%,0.0%,0.0%,\n",
        "\n",
        "year1916"
       ]
      },
      {
       "output_type": "stream",
       "stream": "stdout",
       "text": [
        "\n",
        "1.,MLB,Al Demaree,1916,31,39,35,285.0,0.0,0.0,1,127,,,,,,.000,0.0%,0.0%,0.0%,0.0%,0.0%,\n",
        "\n",
        "year1917"
       ]
      },
      {
       "output_type": "stream",
       "stream": "stdout",
       "text": [
        "\n",
        "1.,MLB,Ad Swigler,1917,21,1,1,6.0,0.0,0.0,30,,,,,,.000,0.0%,0.0%,0.0%,0.0%,0.0%,\n",
        "\n",
        "year1918"
       ]
      },
      {
       "output_type": "stream",
       "stream": "stdout",
       "text": [
        "\n",
        "1.,MLB,Ad Brennan,1918,30,3,1,8.3,0.0,0.0,47,,,,,,.000,0.0%,0.0%,0.0%,0.0%,0.0%,\n",
        "\n",
        "year1919"
       ]
      },
      {
       "output_type": "stream",
       "stream": "stdout",
       "text": [
        "\n",
        "1.,MLB,Al Demaree,1919,34,25,13,128.0,0.0,0.0,544,,,,,,.000,0.0%,0.0%,0.0%,0.0%,0.0%,\n",
        "\n",
        "year1920"
       ]
      },
      {
       "output_type": "stream",
       "stream": "stdout",
       "text": [
        "\n",
        "1.,MLB,Adrian Lynch,1920,23,5,3,22.3,0.0,0.0,101,,,,,,.000,0.0%,0.0%,0.0%,0.0%,0.0%,\n",
        "\n",
        "year1921"
       ]
      },
      {
       "output_type": "stream",
       "stream": "stdout",
       "text": [
        "\n",
        "1.,MLB,Al Mamaux,1921,27,12,1,43.0,0.0,0.0,173,,,,,,.000,0.0%,0.0%,0.0%,0.0%,0.0%,\n",
        "\n",
        "year1922"
       ]
      },
      {
       "output_type": "stream",
       "stream": "stdout",
       "text": [
        "\n",
        "1.,MLB,Al Mamaux,1922,28,37,7,87.7,0.0,0.0,383,,,,,,.000,0.0%,0.0%,0.0%,0.0%,0.0%,\n",
        "\n",
        "year1923"
       ]
      },
      {
       "output_type": "stream",
       "stream": "stdout",
       "text": [
        "\n",
        "1.,MLB,Al Kellett,1923,21,5,0,10.0,0.0,0.0,49,,,,,,.000,0.0%,0.0%,0.0%,0.0%,0.0%,\n",
        "\n",
        "year1924"
       ]
      },
      {
       "output_type": "stream",
       "stream": "stdout",
       "text": [
        "\n",
        "1.,MLB,Al Kellett,1924,22,1,0,0.0,0.0,0.0,2,,,,,,.000,0.0%,0.0%,0.0%,0.0%,0.0%,\n",
        "\n",
        "year1925"
       ]
      },
      {
       "output_type": "stream",
       "stream": "stdout",
       "text": [
        "\n",
        "1.,MLB,Alex Ferguson,1925,28,33,16,125.3,0.0,0.0,591,,,,,,.000,0.0%,0.0%,0.0%,0.0%,0.0%,\n",
        "\n",
        "year1926"
       ]
      },
      {
       "output_type": "stream",
       "stream": "stdout",
       "text": [
        "\n",
        "1.,MLB,Al Smith,1926,22,1,0,2.0,0.0,0.0,11,,,,,,.000,0.0%,0.0%,0.0%,0.0%,0.0%,\n",
        "\n",
        "year1927"
       ]
      },
      {
       "output_type": "stream",
       "stream": "stdout",
       "text": [
        "\n",
        "1.,MLB,Alex Ferguson,1927,30,31,31,227.0,0.0,0.0,1,001,,,,,,.000,0.0%,0.0%,0.0%,0.0%,0.0%,\n",
        "\n",
        "year1928"
       ]
      },
      {
       "output_type": "stream",
       "stream": "stdout",
       "text": [
        "\n",
        "1.,MLB,Al Shealy,1928,28,23,12,96.0,0.0,0.0,453,,,,,,.000,0.0%,0.0%,0.0%,0.0%,0.0%,\n",
        "\n",
        "year1929"
       ]
      },
      {
       "output_type": "stream",
       "stream": "stdout",
       "text": [
        "\n",
        "1.,MLB,Ad Liska,1929,22,24,10,94.3,0.0,0.0,405,,,,,,.000,0.0%,0.0%,0.0%,0.0%,0.0%,\n",
        "\n",
        "year1930"
       ]
      },
      {
       "output_type": "stream",
       "stream": "stdout",
       "text": [
        "\n",
        "1.,MLB,Ad Liska,1930,23,32,16,150.7,0.0,0.0,648,,,,,,.000,0.0%,0.0%,0.0%,0.0%,0.0%,\n",
        "\n",
        "year1931"
       ]
      },
      {
       "output_type": "stream",
       "stream": "stdout",
       "text": [
        "\n",
        "1.,MLB,Ad Liska,1931,24,2,1,4.0,0.0,0.0,21,,,,,,.000,0.0%,0.0%,0.0%,0.0%,0.0%,\n",
        "\n",
        "year1932"
       ]
      },
      {
       "output_type": "stream",
       "stream": "stdout",
       "text": [
        "\n",
        "1.,MLB,Ad Liska,1932,25,8,0,26.7,0.0,0.0,108,,,,,,.000,0.0%,0.0%,0.0%,0.0%,0.0%,\n",
        "\n",
        "year1933"
       ]
      },
      {
       "output_type": "stream",
       "stream": "stdout",
       "text": [
        "\n",
        "1.,MLB,Ad Liska,1933,26,45,1,75.7,0.0,0.0,344,,,,,,.000,0.0%,0.0%,0.0%,0.0%,0.0%,\n",
        "\n",
        "year1934"
       ]
      },
      {
       "output_type": "stream",
       "stream": "stdout",
       "text": [
        "\n",
        "1.,MLB,Al Benton,1934,23,32,21,155.0,0.0,0.0,682,,,,,,.000,0.0%,0.0%,0.0%,0.0%,0.0%,\n",
        "\n",
        "year1935"
       ]
      },
      {
       "output_type": "stream",
       "stream": "stdout",
       "text": [
        "\n",
        "1.,MLB,Al Benton,1935,24,27,9,78.3,0.0,0.0,388,,,,,,.000,0.0%,0.0%,0.0%,0.0%,0.0%,\n",
        "\n",
        "year1936"
       ]
      },
      {
       "output_type": "stream",
       "stream": "stdout",
       "text": [
        "\n",
        "1.,MLB,Al Blanche,1936,26,11,0,16.0,0.0,0.0,77,,,,,,.000,0.0%,0.0%,0.0%,0.0%,0.0%,\n",
        "\n",
        "year1937"
       ]
      },
      {
       "output_type": "stream",
       "stream": "stdout",
       "text": [
        "\n",
        "1.,MLB,Abe White,1937,33,5,0,9.3,0.0,0.0,44,,,,,,.000,0.0%,0.0%,0.0%,0.0%,0.0%,\n",
        "\n",
        "year1938"
       ]
      },
      {
       "output_type": "stream",
       "stream": "stdout",
       "text": [
        "\n",
        "1.,MLB,Al Baker,1938,32,3,0,7.7,0.0,0.0,38,,,,,,.000,0.0%,0.0%,0.0%,0.0%,0.0%,\n",
        "\n",
        "year1939"
       ]
      },
      {
       "output_type": "stream",
       "stream": "stdout",
       "text": [
        "\n",
        "1.,MLB,Al Benton,1939,28,37,16,150.0,0.0,0.0,693,,,,,,.000,0.0%,0.0%,0.0%,0.0%,0.0%,\n",
        "\n",
        "year1940"
       ]
      },
      {
       "output_type": "stream",
       "stream": "stdout",
       "text": [
        "\n",
        "1.,MLB,Ace Williams,1940,23,5,0,9.0,0.0,0.0,69,,,,,,.000,0.0%,0.0%,0.0%,0.0%,0.0%,\n",
        "\n",
        "year1941"
       ]
      },
      {
       "output_type": "stream",
       "stream": "stdout",
       "text": [
        "\n",
        "1.,MLB,Ace Adams,1941,31,38,0,71.0,0.0,0.0,319,,,,,,.000,0.0%,0.0%,0.0%,0.0%,0.0%,\n",
        "\n",
        "year1942"
       ]
      },
      {
       "output_type": "stream",
       "stream": "stdout",
       "text": [
        "\n",
        "1.,MLB,Ace Adams,1942,32,61,0,88.0,0.0,0.0,351,,,,,,.000,0.0%,0.0%,0.0%,0.0%,0.0%,\n",
        "\n",
        "year1943"
       ]
      },
      {
       "output_type": "stream",
       "stream": "stdout",
       "text": [
        "\n",
        "1.,MLB,Ace Adams,1943,33,70,3,140.3,0.0,0.0,579,,,,,,.000,0.0%,0.0%,0.0%,0.0%,0.0%,\n",
        "\n",
        "year1944"
       ]
      },
      {
       "output_type": "stream",
       "stream": "stdout",
       "text": [
        "\n",
        "1.,MLB,Ace Adams,1944,34,65,4,137.7,0.0,0.0,615,,,,,,.000,0.0%,0.0%,0.0%,0.0%,0.0%,\n",
        "\n",
        "year1945"
       ]
      },
      {
       "output_type": "stream",
       "stream": "stdout",
       "text": [
        "\n",
        "1.,MLB,Ace Adams,1945,35,65,0,113.0,0.0,0.0,496,,,,,,.000,0.0%,0.0%,0.0%,0.0%,0.0%,\n",
        "\n",
        "year1946"
       ]
      },
      {
       "output_type": "stream",
       "stream": "stdout",
       "text": [
        "\n",
        "1.,MLB,Ace Adams,1946,36,3,0,2.7,0.0,0.0,19,,,,,,.000,0.0%,0.0%,0.0%,0.0%,0.0%,\n",
        "\n",
        "year1947"
       ]
      },
      {
       "output_type": "stream",
       "stream": "stdout",
       "text": [
        "\n",
        "1.,MLB,Al Benton,1947,36,36,14,133.0,0.0,0.0,590,,,,,,.000,0.0%,0.0%,0.0%,0.0%,0.0%,\n",
        "\n",
        "year1948"
       ]
      },
      {
       "output_type": "stream",
       "stream": "stdout",
       "text": [
        "\n",
        "1.,MLB,Al Benton,1948,37,30,0,44.3,0.0,0.0,210,,,,,,.000,0.0%,0.0%,0.0%,0.0%,0.0%,\n",
        "\n",
        "year1949"
       ]
      },
      {
       "output_type": "stream",
       "stream": "stdout",
       "text": [
        "\n",
        "1.,MLB,Adrian Zabala,1949,32,15,4,41.0,0.0,0.0,173,,,,,,.000,0.0%,0.0%,0.0%,0.0%,0.0%,\n",
        "\n",
        "year1950"
       ]
      },
      {
       "output_type": "stream",
       "stream": "stdout",
       "text": [
        "\n",
        "1.,MLB,Al Aber,1950,22,1,1,9.0,9.0,0.0,34,21,5,12,4,0,.192,40.0%,23.8%,57.1%,19.0%,0.0%,\n",
        "\n",
        "year1951"
       ]
      },
      {
       "output_type": "stream",
       "stream": "stdout",
       "text": [
        "\n",
        "1.,MLB,Al Brazle,1951,37,56,8,154.3,33.7,63.3,414,239,105,122,10,2,.250,9.3%,43.9%,51.0%,4.2%,0.8%,\n",
        "\n",
        "year1952"
       ]
      },
      {
       "output_type": "stream",
       "stream": "stdout",
       "text": [
        "\n",
        "1.,MLB,Al Benton,1952,41,24,0,37.7,0.0,37.7,158,87,35,44,6,2,.300,11.9%,40.2%,50.6%,6.9%,2.3%,\n",
        "\n",
        "year1953"
       ]
      },
      {
       "output_type": "stream",
       "stream": "stdout",
       "text": [
        "\n",
        "1.,MLB,Al Aber,1953,25,23,10,72.7,50.0,22.7,324,166,56,108,1,1,.286,15.5%,33.7%,65.1%,0.6%,0.6%,\n",
        "\n",
        "year1954"
       ]
      },
      {
       "output_type": "stream",
       "stream": "stdout",
       "text": [
        "\n",
        "1.,MLB,Al Aber,1954,26,32,18,124.7,100.3,24.3,527,313,71,197,12,33,.268,9.6%,22.7%,62.9%,3.8%,10.5%,\n",
        "\n",
        "year1955"
       ]
      },
      {
       "output_type": "stream",
       "stream": "stdout",
       "text": [
        "\n",
        "1.,MLB,Al Aber,1955,27,39,1,80.0,2.3,78.0,346,203,62,130,10,1,.282,18.8%,30.5%,64.0%,4.9%,0.5%,\n",
        "\n",
        "year1956"
       ]
      },
      {
       "output_type": "stream",
       "stream": "stdout",
       "text": [
        "\n",
        "1.,MLB,Al Aber,1956,28,42,0,63.0,0.0,63.0,281,170,60,94,5,11,.276,6.4%,35.3%,55.3%,2.9%,6.5%,\n",
        "\n",
        "year1957"
       ]
      },
      {
       "output_type": "stream",
       "stream": "stdout",
       "text": [
        "\n",
        "1.,MLB,Al Aber,1957,29,31,0,40.0,0.0,40.0,184,107,29,67,5,6,.299,12.5%,27.1%,62.6%,4.7%,5.6%,\n",
        "\n",
        "year1958"
       ]
      },
      {
       "output_type": "stream",
       "stream": "stdout",
       "text": [
        "\n",
        "1.,MLB,Al Cicotte,1958,28,22,6,71.0,28.0,43.3,316,175,69,95,7,4,.332,11.0%,39.4%,54.3%,4.0%,2.3%,\n",
        "\n",
        "year1959"
       ]
      },
      {
       "output_type": "stream",
       "stream": "stdout",
       "text": [
        "\n",
        "1.,MLB,Al Cicotte,1959,29,26,1,44.0,2.7,41.3,196,105,34,53,6,12,.296,15.2%,32.4%,50.5%,5.7%,11.4%,\n",
        "\n",
        "year1960"
       ]
      },
      {
       "output_type": "stream",
       "stream": "stdout",
       "text": [
        "\n",
        "1.,MLB,Al Neiger,1960,21,6,0,12.7,0.0,12.7,59,36,12,20,4,0,.292,16.7%,33.3%,55.6%,11.1%,0.0%,\n",
        "\n",
        "year1961"
       ]
      },
      {
       "output_type": "stream",
       "stream": "stdout",
       "text": [
        "\n",
        "1.,MLB,Al Cicotte,1961,31,29,7,75.0,32.3,42.7,333,172,49,93,17,13,.291,12.7%,28.5%,54.1%,9.9%,7.6%,\n",
        "\n",
        "year1962"
       ]
      },
      {
       "output_type": "stream",
       "stream": "stdout",
       "text": [
        "\n",
        "1.,MLB,Al Cicotte,1962,32,5,0,4.7,0.0,4.7,22,10,2,3,4,1,.438,0.0%,20.0%,30.0%,40.0%,10.0%,\n",
        "\n",
        "year1963"
       ]
      },
      {
       "output_type": "stream",
       "stream": "stdout",
       "text": [
        "\n",
        "1.,MLB,Al Downing,1963,22,24,22,175.7,169.7,6.0,706,361,137,198,27,1,.239,14.4%,38.0%,54.8%,7.5%,0.3%,\n",
        "\n",
        "year1964"
       ]
      },
      {
       "output_type": "stream",
       "stream": "stdout",
       "text": [
        "\n",
        "1.,MLB,Al Downing,1964,23,37,35,244.0,243.7,1.3,1,041,555,212,267,41,39,.267,7.3%,38.2%,48.1%,7.4%,7.0%,\n",
        "\n",
        "year1965"
       ]
      },
      {
       "output_type": "stream",
       "stream": "stdout",
       "text": [
        "\n",
        "1.,MLB,Al Downing,1965,24,35,32,212.0,208.3,3.7,902,442,214,199,31,1,.282,13.7%,48.4%,45.0%,7.0%,0.2%,\n",
        "\n",
        "year1966"
       ]
      },
      {
       "output_type": "stream",
       "stream": "stdout",
       "text": [
        "\n",
        "1.,MLB,Al Closter,1966,23,1,0,0.3,0.0,0.3,4,1,1,0,0,0,.500,0.0%,100.0%,0.0%,0.0%,0.0%,\n",
        "\n",
        "year1967"
       ]
      },
      {
       "output_type": "stream",
       "stream": "stdout",
       "text": [
        "\n",
        "1.,MLB,Al Downing,1967,26,31,28,201.7,189.7,12.0,807,412,209,191,12,0,.261,11.5%,50.7%,46.4%,2.9%,0.0%,\n",
        "\n",
        "year1968"
       ]
      },
      {
       "output_type": "stream",
       "stream": "stdout",
       "text": [
        "\n",
        "1.,MLB,Al Downing,1968,27,15,12,61.3,56.0,5.3,256,142,49,80,11,2,.250,7.5%,34.5%,56.3%,7.7%,1.4%,\n",
        "\n",
        "year1969"
       ]
      },
      {
       "output_type": "stream",
       "stream": "stdout",
       "text": [
        "\n",
        "1.,MLB,Al Downing,1969,28,30,15,130.7,99.3,31.3,550,306,124,143,30,11,.260,8.5%,40.5%,46.7%,9.8%,3.6%,\n",
        "\n",
        "year1970"
       ]
      },
      {
       "output_type": "stream",
       "stream": "stdout",
       "text": [
        "\n",
        "1.,MLB,Al Downing,1970,29,27,22,135.3,127.3,8.0,595,314,114,171,13,17,.251,14.9%,36.3%,54.5%,4.1%,5.4%,\n",
        "\n",
        "year1971"
       ]
      },
      {
       "output_type": "stream",
       "stream": "stdout",
       "text": [
        "\n",
        "1.,MLB,Al Closter,1971,28,14,1,28.3,5.0,23.3,135,70,23,43,3,1,.309,5.9%,32.9%,61.4%,4.3%,1.4%,\n",
        "\n",
        "year1972"
       ]
      },
      {
       "output_type": "stream",
       "stream": "stdout",
       "text": [
        "\n",
        "1.,MLB,Al Closter,1972,29,2,0,2.3,0.0,2.3,12,4,1,3,0,0,.200,0.0%,25.0%,75.0%,0.0%,0.0%,\n",
        "\n",
        "year1973"
       ]
      },
      {
       "output_type": "stream",
       "stream": "stdout",
       "text": [
        "\n",
        "1.,MLB,Adrian Devine,1973,21,24,1,32.3,5.0,27.3,152,78,25,50,3,0,.333,8.1%,32.1%,64.1%,3.8%,0.0%,\n",
        "\n",
        "year1974"
       ]
      },
      {
       "output_type": "stream",
       "stream": "stdout",
       "text": [
        "\n",
        "1.,MLB,Al Downing,1974,33,21,16,98.3,89.3,9.0,427,224,60,129,17,18,.282,14.1%,26.8%,57.6%,7.6%,8.0%,\n",
        "\n",
        "year1975"
       ]
      },
      {
       "output_type": "stream",
       "stream": "stdout",
       "text": [
        "\n",
        "1.,MLB,Adrian Devine,1975,23,5,2,16.3,10.3,6.0,76,47,11,29,5,2,.293,9.1%,23.4%,61.7%,10.6%,4.3%,\n",
        "\n",
        "year1976"
       ]
      },
      {
       "output_type": "stream",
       "stream": "stdout",
       "text": [
        "\n",
        "1.,MLB,Adrian Devine,1976,24,48,1,73.0,0.7,72.3,319,179,56,99,11,14,.286,6.3%,31.3%,55.3%,6.1%,7.8%,\n",
        "\n",
        "year1977"
       ]
      },
      {
       "output_type": "stream",
       "stream": "stdout",
       "text": [
        "\n",
        "1.,MLB,Adrian Devine,1977,25,56,2,105.7,10.7,95.0,444,244,61,169,9,5,.281,8.2%,25.0%,69.3%,3.7%,2.0%,\n",
        "\n",
        "year1978"
       ]
      },
      {
       "output_type": "stream",
       "stream": "stdout",
       "text": [
        "\n",
        "1.,MLB,Adrian Devine,1978,26,31,6,65.3,31.3,34.0,294,165,45,105,9,6,.338,19.3%,27.3%,63.6%,5.5%,3.6%,\n",
        "\n",
        "year1979"
       ]
      },
      {
       "output_type": "stream",
       "stream": "stdout",
       "text": [
        "\n",
        "1.,MLB,Adrian Devine,1979,27,40,0,66.7,0.0,66.7,302,173,42,104,15,12,.310,17.1%,24.3%,60.1%,8.7%,6.9%,\n",
        "\n",
        "year1980"
       ]
      },
      {
       "output_type": "stream",
       "stream": "stdout",
       "text": [
        "\n",
        "1.,MLB,Adrian Devine,1980,28,13,0,28.0,0.0,28.0,142,80,23,48,5,4,.375,11.6%,28.8%,60.0%,6.3%,5.0%,\n",
        "\n",
        "year1981"
       ]
      },
      {
       "output_type": "stream",
       "stream": "stdout",
       "text": [
        "\n",
        "1.,MLB,Al Holland,1981,28,47,3,100.7,21.7,79.0,431,222,118,94,8,2,.274,6.4%,53.2%,42.3%,3.6%,0.9%,\n",
        "\n",
        "year1982"
       ]
      },
      {
       "output_type": "stream",
       "stream": "stdout",
       "text": [
        "\n",
        "1.,MLB,Al Holland,1982,29,58,7,129.7,38.3,91.3,546,292,129,132,9,22,.261,6.6%,44.2%,45.2%,3.1%,7.5%,\n",
        "\n",
        "year1983"
       ]
      },
      {
       "output_type": "stream",
       "stream": "stdout",
       "text": [
        "\n",
        "1.,MLB,Al Holland,1983,30,68,0,91.7,0.0,91.7,371,179,84,63,9,23,.236,0.0%,46.9%,35.2%,5.0%,12.8%,\n",
        "\n",
        "year1984"
       ]
      },
      {
       "output_type": "stream",
       "stream": "stdout",
       "text": [
        "\n",
        "1.,MLB,Al Holland,1984,31,68,0,98.3,0.0,98.3,404,230,129,75,14,12,.228,6.1%,56.1%,32.6%,6.1%,5.2%,\n",
        "\n",
        "year1985"
       ]
      },
      {
       "output_type": "stream",
       "stream": "stdout",
       "text": [
        "\n",
        "1.,MLB,Al Holland,1985,32,56,0,87.0,0.0,87.0,355,192,123,57,10,2,.241,10.7%,64.1%,29.7%,5.2%,1.0%,\n",
        "\n",
        "year1986"
       ]
      },
      {
       "output_type": "stream",
       "stream": "stdout",
       "text": [
        "\n",
        "1.,MLB,Al Holland,1986,33,25,1,40.7,4.7,36.0,177,93,61,29,2,1,.310,2.3%,65.6%,31.2%,2.2%,1.1%,\n",
        "\n",
        "year1987"
       ]
      },
      {
       "output_type": "stream",
       "stream": "stdout",
       "text": [
        "\n",
        "1.,MLB,Adam Peterson,1987,21,1,1,4.0,4.0,0.0,22,10,6,4,0,0,.412,12.5%,60.0%,40.0%,0.0%,0.0%,\n",
        "\n",
        "year1988"
       ]
      },
      {
       "output_type": "stream",
       "stream": "stdout",
       "text": [
        "\n",
        "1.,MLB,Adam Peterson,1988,22,2,2,6.0,6.0,0.0,31,20,6,9,3,2,.300,0.0%,30.0%,45.0%,15.0%,10.0%,\n",
        "\n",
        "year1989"
       ]
      },
      {
       "output_type": "stream",
       "stream": "stdout",
       "text": [
        "\n",
        "1.,MLB,Adam Peterson,1989,23,3,2,5.3,2.7,2.7,31,26,6,4,12,4,.480,0.0%,23.1%,15.4%,46.2%,15.4%,\n",
        "\n",
        "year1990"
       ]
      },
      {
       "output_type": "stream",
       "stream": "stdout",
       "text": [
        "\n",
        "1.,MLB,Adam Peterson,1990,24,20,11,85.0,62.7,22.3,357,295,109,88,66,32,.271,18.9%,36.9%,29.8%,22.4%,10.8%,\n",
        "\n",
        "year1991"
       ]
      },
      {
       "output_type": "stream",
       "stream": "stdout",
       "text": [
        "\n",
        "1.,MLB,Adam Peterson,1991,25,13,11,54.7,52.7,2.0,241,176,48,72,39,17,.241,12.5%,27.3%,40.9%,22.2%,9.7%,\n",
        "\n",
        "year1992"
       ]
      },
      {
       "output_type": "stream",
       "stream": "stdout",
       "text": [
        "\n",
        "1.,MLB,Al Leiter,1992,26,1,0,1.0,0.0,1.0,7,5,1,4,0,0,.200,0.0%,20.0%,80.0%,0.0%,0.0%,\n",
        "\n",
        "year1993"
       ]
      },
      {
       "output_type": "stream",
       "stream": "stdout",
       "text": [
        "\n",
        "1.,MLB,Aaron Sele,1993,23,18,18,111.7,111.7,0.0,484,336,74,164,77,21,.287,12.7%,22.0%,48.8%,22.9%,6.3%,\n",
        "\n",
        "year1994"
       ]
      },
      {
       "output_type": "stream",
       "stream": "stdout",
       "text": [
        "\n",
        "1.,MLB,A. J. Sager,1994,29,22,3,46.7,13.0,33.7,217,172,35,106,25,6,.343,7.5%,20.3%,61.6%,14.5%,3.5%,\n",
        "\n",
        "year1995"
       ]
      },
      {
       "output_type": "stream",
       "stream": "stdout",
       "text": [
        "\n",
        "1.,MLB,A. J. Sager,1995,30,10,0,14.7,0.0,14.7,70,53,12,28,10,3,.346,7.1%,22.6%,52.8%,18.9%,5.7%,\n",
        "\n",
        "year1996"
       ]
      },
      {
       "output_type": "stream",
       "stream": "stdout",
       "text": [
        "\n",
        "1.,MLB,A. J. Sager,1996,31,22,9,79.0,50.7,28.3,347,264,44,156,53,11,.319,13.9%,16.7%,59.1%,20.1%,4.2%,\n",
        "\n",
        "year1997"
       ]
      },
      {
       "output_type": "stream",
       "stream": "stdout",
       "text": [
        "\n",
        "1.,MLB,A. J. Sager,1997,32,38,1,84.0,5.0,79.0,350,270,71,132,54,13,.271,17.2%,26.3%,48.9%,20.0%,4.8%,\n",
        "\n",
        "year1998"
       ]
      },
      {
       "output_type": "stream",
       "stream": "stdout",
       "text": [
        "\n",
        "1.,MLB,A. J. Sager,1998,33,31,3,59.3,11.0,48.3,274,227,33,137,54,3,.327,16.1%,14.5%,60.4%,23.8%,1.3%,\n",
        "\n",
        "year1999"
       ]
      },
      {
       "output_type": "stream",
       "stream": "stdout",
       "text": [
        "\n",
        "1.,MLB,A.j. Burnett,1999,22,7,7,41.3,41.3,0.0,182,124,24,68,19,13,.281,9.1%,19.4%,54.8%,15.3%,10.5%,\n",
        "\n",
        "year2000"
       ]
      },
      {
       "output_type": "stream",
       "stream": "stdout",
       "text": [
        "\n",
        "1.,MLB,A.j. Burnett,2000,23,13,13,82.7,82.7,0.0,364,181,70,86,6,19,.285,7.7%,38.7%,47.5%,3.3%,10.5%,\n",
        "\n",
        "year2001"
       ]
      },
      {
       "output_type": "stream",
       "stream": "stdout",
       "text": [
        "\n",
        "1.,MLB,A.j. Burnett,2001,24,27,27,173.3,173.3,0.0,733,370,139,185,17,29,.253,10.9%,37.6%,50.0%,4.6%,7.8%,\n",
        "\n",
        "year2002"
       ]
      },
      {
       "output_type": "stream",
       "stream": "stdout",
       "text": [
        "\n",
        "1.,MLB,A.j. Burnett,2002,25,31,29,204.3,201.7,2.7,844,391,142,191,23,36,.266,11.4%,36.3%,48.8%,5.9%,9.2%,\n",
        "\n",
        "year2003"
       ]
      },
      {
       "output_type": "stream",
       "stream": "stdout",
       "text": [
        "\n",
        "1.,MLB,A.j. Burnett,2003,26,4,4,23.0,23.0,0.0,106,65,16,35,10,5,.254,4.8%,24.6%,53.8%,15.4%,7.7%,\n",
        "\n",
        "year2004"
       ]
      },
      {
       "output_type": "stream",
       "stream": "stdout",
       "text": [
        "\n",
        "1.,MLB,A.j. Burnett,2004,27,20,19,120.0,118.0,2.0,490,335,90,174,49,24,.285,14.5%,26.9%,51.9%,14.6%,7.2%,\n",
        "\n",
        "year2005"
       ]
      },
      {
       "output_type": "stream",
       "stream": "stdout",
       "text": [
        "\n",
        "1.,MLB,A.j. Burnett,2005,28,32,32,209.0,209.0,0.0,873,589,120,352,91,27,.298,18.1%,20.4%,59.8%,15.4%,4.6%,\n",
        "\n",
        "year2006"
       ]
      },
      {
       "output_type": "stream",
       "stream": "stdout",
       "text": [
        "\n",
        "1.,MLB,A.j. Burnett,2006,29,21,21,135.7,135.7,0.0,577,411,99,217,72,23,.312,18.9%,24.1%,52.8%,17.5%,5.6%,\n",
        "\n",
        "year2007"
       ]
      },
      {
       "output_type": "stream",
       "stream": "stdout",
       "text": [
        "\n",
        "1.,MLB,A.j. Burnett,2007,30,25,25,165.7,165.7,0.0,691,437,98,244,70,25,.261,17.8%,22.4%,55.8%,16.0%,5.7%,\n",
        "\n",
        "year2008"
       ]
      },
      {
       "output_type": "stream",
       "stream": "stdout",
       "text": [
        "\n",
        "1.,MLB,A.j. Burnett,2008,31,35,34,221.3,220.3,1.0,957,631,158,314,117,42,.314,9.4%,25.0%,49.8%,18.5%,6.7%,\n",
        "\n",
        "year2009"
       ]
      },
      {
       "output_type": "stream",
       "stream": "stdout",
       "text": [
        "\n",
        "1.,MLB,A.j. Burnett,2009,32,33,33,207.0,207.0,0.0,896,593,184,259,117,33,.296,11.4%,31.0%,43.7%,19.7%,5.6%,\n",
        "\n",
        "year2010"
       ]
      },
      {
       "output_type": "stream",
       "stream": "stdout",
       "text": [
        "\n",
        "1.,MLB,A.j. Burnett,2010,33,33,33,186.7,186.7,0.0,829,586,177,270,100,39,.319,19.0%,30.2%,46.1%,17.1%,6.7%,\n",
        "\n",
        "year2011"
       ]
      },
      {
       "output_type": "stream",
       "stream": "stdout",
       "text": [
        "\n",
        "1.,MLB,A.j. Burnett,2011,34,33,32,190.3,190.0,0.3,837,572,152,291,100,29,.294,13.4%,26.6%,50.9%,17.5%,5.1%,\n",
        "\n",
        "year2012"
       ]
      },
      {
       "output_type": "stream",
       "stream": "stdout",
       "text": [
        "\n",
        "1.,MLB,A.j. Burnett,2012,35,31,31,202.3,202.3,0.0,851,600,123,350,102,25,.294,15.4%,20.5%,58.3%,17.0%,4.2%,\n",
        "\n"
       ]
      }
     ],
     "prompt_number": 5
    }
   ],
   "metadata": {}
  }
 ]
}