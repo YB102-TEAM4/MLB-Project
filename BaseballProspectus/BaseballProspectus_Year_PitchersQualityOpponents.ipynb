{
 "metadata": {
  "name": "",
  "signature": "sha256:dde28efe5401d24e2d8806320532396202f53bb6d4f597b2112e1ce902ef7850"
 },
 "nbformat": 3,
 "nbformat_minor": 0,
 "worksheets": [
  {
   "cells": [
    {
     "cell_type": "code",
     "collapsed": false,
     "input": [
      "#\u9996\u5148Name\u8981\u6392\u5e8f\n",
      "#\u8981\u6ce8\u610f\u7684\u5730\u65b9\u6709\u56db\u500b range, year, fileName, page_limit\n",
      "import string\n",
      "import time\n",
      "import requests\n",
      "from bs4 import BeautifulSoup\n",
      "headers={\n",
      "    'User-Agent':'Mozilla/5.0 (Windows NT 6.1; WOW64) AppleWebKit/537.36 (KHTML, like Gecko) Chrome/40.0.2214.93 Safari/537.36'\n",
      "}\n",
      "url='http://www.baseballprospectus.com/sortable/index.php'      \n",
      "for year in range(1871,2015): #2015\u6c92\u7b97\u5230**************\n",
      "    payload={            \n",
      "            'mystatslist':'LVL,NAME,TEAM,LG,YEAR,AGE,G,GS,IP,PA,AB,AVG,OBP,SLG,OPP_QUAL_AVG,OPP_QUAL_OBP,OPP_QUAL_SLG,OPP_QUAL_TAV,OPP_QUAL_RPA_PLUS,OPP_QUAL_OPS,PPF,PVORP',\n",
      "            'category':'pitcher_team_year',\n",
      "            'tablename':'dyna_pitcher_team_year',\n",
      "            'stage':'data',\n",
      "            'year':'%d'%(year),#*********************\n",
      "            'mystatslist':'LVL,NAME,TEAM,LG,YEAR,AGE,G,GS,IP,PA,AB,AVG,OBP,SLG,OPP_QUAL_AVG,OPP_QUAL_OBP,OPP_QUAL_SLG,OPP_QUAL_TAV,OPP_QUAL_RPA_PLUS,OPP_QUAL_OPS,PPF,PVORP',\n",
      "            'category':'pitcher_team_year',\n",
      "            'tablename':'dyna_pitcher_team_year',\n",
      "            'stage':'data',\n",
      "            'group_TEAM':'*',\n",
      "            'group_LVL':'MLB',\n",
      "            'group_LG':'*',\n",
      "            'minimum':'0',\n",
      "            'sort1column':'NAME',\n",
      "            'sort1order':'ASC',\n",
      "            'page_limit':'All',#*********************\n",
      "            'glossary_terms':'*',\n",
      "            'tt_team':'*',\n",
      "            'show_ttroster':'1',\n",
      "            'show_ttwatched':'1',\n",
      "            'viewdata':'View Data',\n",
      "        }\n",
      "    res=requests.post(url,data=payload,headers=headers)\n",
      "    soup=BeautifulSoup(res.text.encode('utf-8'))    \n",
      "    trList=soup.select('#TTdata tr')\n",
      "    fileName= str(year)+'_PitchersQualityOpponents.csv'#*********************\n",
      "    fid=open('Baseball\\\\'+fileName,'w')    \n",
      "    for tr in trList:\n",
      "        for td in tr.select('td'):\n",
      "            fid.write(td.text.encode('utf-8')+',')\n",
      "        fid.write('\\n')\n",
      "    fid.close()\n",
      "    fod=open('Baseball\\\\'+fileName,'r')\n",
      "    print 'year'+str(year)\n",
      "    print fod.readlines()[1]\n",
      "    fod.close()\n",
      "    time.sleep(2)\n"
     ],
     "language": "python",
     "metadata": {},
     "outputs": [
      {
       "output_type": "stream",
       "stream": "stdout",
       "text": [
        "year1871\n",
        "1.,MLB,Al Pratt,CL1,NA,1871,23,28,28,224.7,1,117,0,.000,.000,.000,.000,.000,.000,,0,.000,,0.0,\n",
        "\n",
        "year1872"
       ]
      },
      {
       "output_type": "stream",
       "stream": "stdout",
       "text": [
        "\n",
        "1.,MLB, O'rourke,BR1,NA,1872,0,1,1,9.0,51,0,.000,.000,.000,.000,.000,.000,,0,.000,,0.0,\n",
        "\n",
        "year1873"
       ]
      },
      {
       "output_type": "stream",
       "stream": "stdout",
       "text": [
        "\n",
        "1.,MLB,Al Spalding,BS1,NA,1873,22,60,54,496.7,2,297,0,.000,.000,.000,.000,.000,.000,,0,.000,,0.0,\n",
        "\n",
        "year1874"
       ]
      },
      {
       "output_type": "stream",
       "stream": "stdout",
       "text": [
        "\n",
        "1.,MLB,Al Spalding,BS1,NA,1874,23,71,69,617.3,2,784,0,.000,.000,.000,.000,.000,.000,,0,.000,,0.0,\n",
        "\n",
        "year1875"
       ]
      },
      {
       "output_type": "stream",
       "stream": "stdout",
       "text": [
        "\n",
        "1.,MLB,Al Spalding,BS1,NA,1875,24,72,62,570.7,2,354,0,.000,.000,.000,.000,.000,.000,,0,.000,,0.0,\n",
        "\n",
        "year1876"
       ]
      },
      {
       "output_type": "stream",
       "stream": "stdout",
       "text": [
        "\n",
        "1.,MLB,Al Spalding,CHN,NL,1876,25,61,60,528.7,2,219,0,.000,.000,.000,.000,.000,.000,,0,.000,,0.0,\n",
        "\n",
        "year1877"
       ]
      },
      {
       "output_type": "stream",
       "stream": "stdout",
       "text": [
        "\n",
        "1.,MLB,Al Spalding,CHN,NL,1877,26,4,1,11.0,53,0,.000,.000,.000,.000,.000,.000,,0,.000,,0.0,\n",
        "\n",
        "year1878"
       ]
      },
      {
       "output_type": "stream",
       "stream": "stdout",
       "text": [
        "\n",
        "1.,MLB,Bobby Mitchell,CN1,NL,1878,22,9,9,80.0,328,0,.000,.000,.000,.000,.000,.000,,0,.000,,0.0,\n",
        "\n",
        "year1879"
       ]
      },
      {
       "output_type": "stream",
       "stream": "stdout",
       "text": [
        "\n",
        "1.,MLB,Bill Mcgunnigle,BFN,NL,1879,24,14,13,120.0,496,0,.000,.000,.000,.000,.000,.000,,0,.000,,0.0,\n",
        "\n",
        "year1880"
       ]
      },
      {
       "output_type": "stream",
       "stream": "stdout",
       "text": [
        "\n",
        "1.,MLB,Bill Mcgunnigle,BFN,NL,1880,25,5,5,37.0,162,0,.000,.000,.000,.000,.000,.000,,0,.000,,0.0,\n",
        "\n",
        "year1881"
       ]
      },
      {
       "output_type": "stream",
       "stream": "stdout",
       "text": [
        "\n",
        "1.,MLB,Billy Taylor,WOR,NL,1881,26,1,1,8.0,47,0,.000,.000,.000,.000,.000,.000,,0,.000,,0.0,\n",
        "\n",
        "year1882"
       ]
      },
      {
       "output_type": "stream",
       "stream": "stdout",
       "text": [
        "\n",
        "1.,MLB,Art Whitney,DTN,NL,1882,24,3,2,18.0,91,0,.000,.000,.000,.000,.000,.000,,0,.000,,0.0,\n",
        "\n",
        "year1883"
       ]
      },
      {
       "output_type": "stream",
       "stream": "stdout",
       "text": [
        "\n",
        "1.,MLB,Alonzo Breitenstein,PHI,NL,1883,25,1,1,5.0,27,0,.000,.000,.000,.000,.000,.000,,0,.000,,0.0,\n",
        "\n",
        "year1884"
       ]
      },
      {
       "output_type": "stream",
       "stream": "stdout",
       "text": [
        "\n",
        "1.,MLB, Smith\u00e2\u0094\u0090,BLU,UA,1884,0,1,1,6.0,0,0,.000,.000,.000,.000,.000,.000,,0,.000,,0.0,\n",
        "\n",
        "year1885"
       ]
      },
      {
       "output_type": "stream",
       "stream": "stdout",
       "text": [
        "\n",
        "1.,MLB,Adonis Terry,BR3,AA,1885,20,25,23,209.0,860,0,.000,.000,.000,.000,.000,.000,,0,.000,,0.0,\n",
        "\n",
        "year1886"
       ]
      },
      {
       "output_type": "stream",
       "stream": "stdout",
       "text": [
        "\n",
        "1.,MLB,Abner Powell,CN2,AA,1886,25,4,1,15.3,68,0,.000,.000,.000,.000,.000,.000,,0,.000,,0.0,\n",
        "\n",
        "year1887"
       ]
      },
      {
       "output_type": "stream",
       "stream": "stdout",
       "text": [
        "\n",
        "1.,MLB,Adonis Terry,BR3,AA,1887,22,40,35,318.0,1,373,0,.000,.000,.000,.000,.000,.000,,0,.000,,0.0,\n",
        "\n",
        "year1888"
       ]
      },
      {
       "output_type": "stream",
       "stream": "stdout",
       "text": [
        "\n",
        "1.,MLB,Ad Gumbert,CHN,NL,1888,19,6,6,48.7,203,0,.000,.000,.000,.000,.000,.000,,0,.000,,0.0,\n",
        "\n",
        "year1889"
       ]
      },
      {
       "output_type": "stream",
       "stream": "stdout",
       "text": [
        "\n",
        "1.,MLB,Ad Gumbert,CHN,NL,1889,20,31,28,246.3,0,0,.000,.000,.000,.000,.000,.000,,0,.000,,0.0,\n",
        "\n",
        "year1890"
       ]
      },
      {
       "output_type": "stream",
       "stream": "stdout",
       "text": [
        "\n",
        "1.,MLB,Ad Gumbert,BSP,PL,1890,21,39,33,277.3,0,0,.000,.000,.000,.000,.000,.000,,0,.000,,0.0,\n",
        "\n",
        "year1891"
       ]
      },
      {
       "output_type": "stream",
       "stream": "stdout",
       "text": [
        "\n",
        "1.,MLB,Ad Gumbert,CHN,NL,1891,22,32,31,256.3,0,0,.000,.000,.000,.000,.000,.000,,0,.000,,0.0,\n",
        "\n",
        "year1892"
       ]
      },
      {
       "output_type": "stream",
       "stream": "stdout",
       "text": [
        "\n",
        "1.,MLB,Ad Gumbert,CHN,NL,1892,23,46,45,382.7,0,0,.000,.000,.000,.000,.000,.000,,0,.000,,0.0,\n",
        "\n",
        "year1893"
       ]
      },
      {
       "output_type": "stream",
       "stream": "stdout",
       "text": [
        "\n",
        "1.,MLB,Abe Johnson,CHN,NL,1893,0,1,0,1.0,0,0,.000,.000,.000,.000,.000,.000,,0,.000,,0.0,\n",
        "\n",
        "year1894"
       ]
      },
      {
       "output_type": "stream",
       "stream": "stdout",
       "text": [
        "\n",
        "1.,MLB,Ad Gumbert,PIT,NL,1894,25,38,32,271.0,0,0,.000,.000,.000,.000,.000,.000,,0,.000,,0.0,\n",
        "\n",
        "year1895"
       ]
      },
      {
       "output_type": "stream",
       "stream": "stdout",
       "text": [
        "\n",
        "1.,MLB,Ad Gumbert,BRO,NL,1895,26,33,26,234.0,0,0,.000,.000,.000,.000,.000,.000,,0,.000,,0.0,\n",
        "\n",
        "year1896"
       ]
      },
      {
       "output_type": "stream",
       "stream": "stdout",
       "text": [
        "\n",
        "1.,MLB,Ad Gumbert,PHI,NL,1896,27,11,10,77.3,0,0,.000,.000,.000,.000,.000,.000,,0,.000,,0.0,\n",
        "\n",
        "year1897"
       ]
      },
      {
       "output_type": "stream",
       "stream": "stdout",
       "text": [
        "\n",
        "1.,MLB,Adonis Terry,CHN,NL,1897,32,1,1,8.0,0,0,.000,.000,.000,.000,.000,.000,,0,.000,,0.0,\n",
        "\n",
        "year1898"
       ]
      },
      {
       "output_type": "stream",
       "stream": "stdout",
       "text": [
        "\n",
        "1.,MLB,Al Maul,BLN,NL,1898,32,28,28,239.7,0,0,.000,.000,.000,.000,.000,.000,,0,.000,,0.0,\n",
        "\n",
        "year1899"
       ]
      },
      {
       "output_type": "stream",
       "stream": "stdout",
       "text": [
        "\n",
        "1.,MLB,Al Maul,BRO,NL,1899,33,4,4,26.0,0,0,.000,.000,.000,.000,.000,.000,,0,.000,,0.0,\n",
        "\n",
        "year1900"
       ]
      },
      {
       "output_type": "stream",
       "stream": "stdout",
       "text": [
        "\n",
        "1.,MLB,Al Maul,PHI,NL,1900,34,5,4,38.0,0,0,.000,.000,.000,.000,.000,.000,,0,.000,,0.0,\n",
        "\n",
        "year1901"
       ]
      },
      {
       "output_type": "stream",
       "stream": "stdout",
       "text": [
        "\n",
        "1.,MLB,Al Maul,NY1,NL,1901,35,3,3,19.0,0,0,.000,.000,.000,.000,.000,.000,,0,.000,,0.0,\n",
        "\n",
        "year1902"
       ]
      },
      {
       "output_type": "stream",
       "stream": "stdout",
       "text": [
        "\n",
        "1.,MLB,Addie Joss,CLE,AL,1902,22,32,29,269.3,0,0,.000,.000,.000,.000,.000,.000,,0,.000,,0.0,\n",
        "\n",
        "year1903"
       ]
      },
      {
       "output_type": "stream",
       "stream": "stdout",
       "text": [
        "\n",
        "1.,MLB,Addie Joss,CLE,AL,1903,23,32,31,283.7,0,0,.000,.000,.000,.000,.000,.000,,0,.000,,0.0,\n",
        "\n",
        "year1904"
       ]
      },
      {
       "output_type": "stream",
       "stream": "stdout",
       "text": [
        "\n",
        "1.,MLB,Addie Joss,CLE,AL,1904,24,25,24,192.3,0,0,.000,.000,.000,.000,.000,.000,,0,.000,,0.0,\n",
        "\n",
        "year1905"
       ]
      },
      {
       "output_type": "stream",
       "stream": "stdout",
       "text": [
        "\n",
        "1.,MLB,Addie Joss,CLE,AL,1905,25,33,32,286.0,0,0,.000,.000,.000,.000,.000,.000,,0,.000,,0.0,\n",
        "\n",
        "year1906"
       ]
      },
      {
       "output_type": "stream",
       "stream": "stdout",
       "text": [
        "\n",
        "1.,MLB,Addie Joss,CLE,AL,1906,26,34,31,282.0,0,0,.000,.000,.000,.000,.000,.000,,0,.000,,0.0,\n",
        "\n",
        "year1907"
       ]
      },
      {
       "output_type": "stream",
       "stream": "stdout",
       "text": [
        "\n",
        "1.,MLB,Addie Joss,CLE,AL,1907,27,42,38,338.7,0,0,.000,.000,.000,.000,.000,.000,,0,.000,,0.0,\n",
        "\n",
        "year1908"
       ]
      },
      {
       "output_type": "stream",
       "stream": "stdout",
       "text": [
        "\n",
        "1.,MLB,Abe Kruger,BRO,NL,1908,23,2,1,6.3,27,0,.000,.000,.000,.000,.000,.000,,0,.000,,0.0,\n",
        "\n",
        "year1909"
       ]
      },
      {
       "output_type": "stream",
       "stream": "stdout",
       "text": [
        "\n",
        "1.,MLB,Addie Joss,CLE,AL,1909,29,33,28,242.7,912,0,.000,.000,.000,.000,.000,.000,,0,.000,,0.0,\n",
        "\n",
        "year1910"
       ]
      },
      {
       "output_type": "stream",
       "stream": "stdout",
       "text": [
        "\n",
        "1.,MLB,Ad Brennan,PHI,NL,1910,22,19,5,73.3,304,0,.000,.000,.000,.000,.000,.000,,0,.000,,0.0,\n",
        "\n",
        "year1911"
       ]
      },
      {
       "output_type": "stream",
       "stream": "stdout",
       "text": [
        "\n",
        "1.,MLB,Ad Brennan,PHI,NL,1911,23,5,3,22.7,98,0,.000,.000,.000,.000,.000,.000,,0,.000,,0.0,\n",
        "\n",
        "year1912"
       ]
      },
      {
       "output_type": "stream",
       "stream": "stdout",
       "text": [
        "\n",
        "1.,MLB,Ad Brennan,PHI,NL,1912,24,27,19,174.0,743,0,.000,.000,.000,.000,.000,.000,,0,.000,,0.0,\n",
        "\n",
        "year1913"
       ]
      },
      {
       "output_type": "stream",
       "stream": "stdout",
       "text": [
        "\n",
        "1.,MLB,Ad Brennan,PHI,NL,1913,25,40,24,207.0,843,0,.000,.000,.000,.000,.000,.000,,0,.000,,0.0,\n",
        "\n",
        "year1914"
       ]
      },
      {
       "output_type": "stream",
       "stream": "stdout",
       "text": [
        "\n",
        "1.,MLB,Abe Bowman,CLE,AL,1914,21,22,10,72.7,316,0,.000,.000,.000,.000,.000,.000,,0,.000,,0.0,\n",
        "\n",
        "year1915"
       ]
      },
      {
       "output_type": "stream",
       "stream": "stdout",
       "text": [
        "\n",
        "1.,MLB,Abe Bowman,CLE,AL,1915,22,2,1,1.3,7,0,.000,.000,.000,.000,.000,.000,,0,.000,,0.0,\n",
        "\n",
        "year1916"
       ]
      },
      {
       "output_type": "stream",
       "stream": "stdout",
       "text": [
        "\n",
        "1.,MLB,Al Demaree,PHI,NL,1916,31,39,35,285.0,1,127,0,.000,.000,.000,.000,.000,.000,,0,.000,,0.0,\n",
        "\n",
        "year1917"
       ]
      },
      {
       "output_type": "stream",
       "stream": "stdout",
       "text": [
        "\n",
        "1.,MLB,Ad Swigler,NY1,NL,1917,21,1,1,6.0,30,0,.000,.000,.000,.000,.000,.000,,0,.000,,0.0,\n",
        "\n",
        "year1918"
       ]
      },
      {
       "output_type": "stream",
       "stream": "stdout",
       "text": [
        "\n",
        "1.,MLB,Ad Brennan,WS1,AL,1918,30,2,1,5.3,35,0,.000,.000,.000,.000,.000,.000,,0,.000,,0.0,\n",
        "\n",
        "year1919"
       ]
      },
      {
       "output_type": "stream",
       "stream": "stdout",
       "text": [
        "\n",
        "1.,MLB,Al Demaree,BSN,NL,1919,34,25,13,128.0,544,0,.000,.000,.000,.000,.000,.000,,0,.000,,0.0,\n",
        "\n",
        "year1920"
       ]
      },
      {
       "output_type": "stream",
       "stream": "stdout",
       "text": [
        "\n",
        "1.,MLB,Adrian Lynch,SLA,AL,1920,23,5,3,22.3,101,0,.000,.000,.000,.000,.000,.000,,0,.000,,0.0,\n",
        "\n",
        "year1921"
       ]
      },
      {
       "output_type": "stream",
       "stream": "stdout",
       "text": [
        "\n",
        "1.,MLB,Al Mamaux,BRO,NL,1921,27,12,1,43.0,173,0,.000,.000,.000,.000,.000,.000,,0,.000,,0.0,\n",
        "\n",
        "year1922"
       ]
      },
      {
       "output_type": "stream",
       "stream": "stdout",
       "text": [
        "\n",
        "1.,MLB,Al Mamaux,BRO,NL,1922,28,37,7,87.7,383,0,.000,.000,.000,.000,.000,.000,,0,.000,,0.0,\n",
        "\n",
        "year1923"
       ]
      },
      {
       "output_type": "stream",
       "stream": "stdout",
       "text": [
        "\n",
        "1.,MLB,Al Kellett,PHA,AL,1923,21,5,0,10.0,49,0,.000,.000,.000,.000,.000,.000,,0,.000,,0.0,\n",
        "\n",
        "year1924"
       ]
      },
      {
       "output_type": "stream",
       "stream": "stdout",
       "text": [
        "\n",
        "1.,MLB,Al Kellett,BOS,AL,1924,22,1,0,0.0,2,0,.000,.000,.000,.000,.000,.000,,0,.000,,0.0,\n",
        "\n",
        "year1925"
       ]
      },
      {
       "output_type": "stream",
       "stream": "stdout",
       "text": [
        "\n",
        "1.,MLB,Alex Ferguson,WS1,AL,1925,28,7,6,55.3,234,0,.000,.000,.000,.000,.000,.000,,0,.000,,0.0,\n",
        "\n",
        "year1926"
       ]
      },
      {
       "output_type": "stream",
       "stream": "stdout",
       "text": [
        "\n",
        "1.,MLB,Al Smith,NY1,NL,1926,22,1,0,2.0,11,0,.000,.000,.000,.000,.000,.000,,0,.000,,0.0,\n",
        "\n",
        "year1927"
       ]
      },
      {
       "output_type": "stream",
       "stream": "stdout",
       "text": [
        "\n",
        "1.,MLB,Alex Ferguson,PHI,NL,1927,30,31,31,227.0,1,001,0,.000,.000,.000,.000,.000,.000,,0,.000,,0.0,\n",
        "\n",
        "year1928"
       ]
      },
      {
       "output_type": "stream",
       "stream": "stdout",
       "text": [
        "\n",
        "1.,MLB,Al Shealy,NYA,AL,1928,28,23,12,96.0,453,0,.000,.000,.000,.000,.000,.000,,0,.000,,0.0,\n",
        "\n",
        "year1929"
       ]
      },
      {
       "output_type": "stream",
       "stream": "stdout",
       "text": [
        "\n",
        "1.,MLB,Ad Liska,WS1,AL,1929,22,24,10,94.3,405,0,.000,.000,.000,.000,.000,.000,,0,.000,,0.0,\n",
        "\n",
        "year1930"
       ]
      },
      {
       "output_type": "stream",
       "stream": "stdout",
       "text": [
        "\n",
        "1.,MLB,Ad Liska,WS1,AL,1930,23,32,16,150.7,648,0,.000,.000,.000,.000,.000,.000,,0,.000,,0.0,\n",
        "\n",
        "year1931"
       ]
      },
      {
       "output_type": "stream",
       "stream": "stdout",
       "text": [
        "\n",
        "1.,MLB,Ad Liska,WS1,AL,1931,24,2,1,4.0,21,0,.000,.000,.000,.000,.000,.000,,0,.000,,0.0,\n",
        "\n",
        "year1932"
       ]
      },
      {
       "output_type": "stream",
       "stream": "stdout",
       "text": [
        "\n",
        "1.,MLB,Ad Liska,PHI,NL,1932,25,8,0,26.7,108,0,.000,.000,.000,.000,.000,.000,,0,.000,,0.0,\n",
        "\n",
        "year1933"
       ]
      },
      {
       "output_type": "stream",
       "stream": "stdout",
       "text": [
        "\n",
        "1.,MLB,Ad Liska,PHI,NL,1933,26,45,1,75.7,344,0,.000,.000,.000,.000,.000,.000,,0,.000,,0.0,\n",
        "\n",
        "year1934"
       ]
      },
      {
       "output_type": "stream",
       "stream": "stdout",
       "text": [
        "\n",
        "1.,MLB,Al Benton,PHA,AL,1934,23,32,21,155.0,682,0,.000,.000,.000,.000,.000,.000,,0,.000,,0.0,\n",
        "\n",
        "year1935"
       ]
      },
      {
       "output_type": "stream",
       "stream": "stdout",
       "text": [
        "\n",
        "1.,MLB,Al Benton,PHA,AL,1935,24,27,9,78.3,388,0,.000,.000,.000,.000,.000,.000,,0,.000,,0.0,\n",
        "\n",
        "year1936"
       ]
      },
      {
       "output_type": "stream",
       "stream": "stdout",
       "text": [
        "\n",
        "1.,MLB,Al Blanche,BSN,NL,1936,26,11,0,16.0,77,0,.000,.000,.000,.000,.000,.000,,0,.000,,0.0,\n",
        "\n",
        "year1937"
       ]
      },
      {
       "output_type": "stream",
       "stream": "stdout",
       "text": [
        "\n",
        "1.,MLB,Abe White,SLN,NL,1937,33,5,0,9.3,44,0,.000,.000,.000,.000,.000,.000,,0,.000,,0.0,\n",
        "\n",
        "year1938"
       ]
      },
      {
       "output_type": "stream",
       "stream": "stdout",
       "text": [
        "\n",
        "1.,MLB,Al Baker,BOS,AL,1938,32,3,0,7.7,38,0,.000,.000,.000,.000,.000,.000,,0,.000,,0.0,\n",
        "\n",
        "year1939"
       ]
      },
      {
       "output_type": "stream",
       "stream": "stdout",
       "text": [
        "\n",
        "1.,MLB,Al Benton,DET,AL,1939,28,37,16,150.0,693,0,.000,.000,.000,.000,.000,.000,,0,.000,,0.0,\n",
        "\n",
        "year1940"
       ]
      },
      {
       "output_type": "stream",
       "stream": "stdout",
       "text": [
        "\n",
        "1.,MLB,Ace Williams,BSN,NL,1940,23,5,0,9.0,69,0,.000,.000,.000,.000,.000,.000,,0,.000,,0.0,\n",
        "\n",
        "year1941"
       ]
      },
      {
       "output_type": "stream",
       "stream": "stdout",
       "text": [
        "\n",
        "1.,MLB,Ace Adams,NY1,NL,1941,31,38,0,71.0,319,0,.000,.000,.000,.000,.000,.000,,0,.000,,0.0,\n",
        "\n",
        "year1942"
       ]
      },
      {
       "output_type": "stream",
       "stream": "stdout",
       "text": [
        "\n",
        "1.,MLB,Ace Adams,NY1,NL,1942,32,61,0,88.0,351,0,.000,.000,.000,.000,.000,.000,,0,.000,,0.0,\n",
        "\n",
        "year1943"
       ]
      },
      {
       "output_type": "stream",
       "stream": "stdout",
       "text": [
        "\n",
        "1.,MLB,Ace Adams,NY1,NL,1943,33,70,3,140.3,579,0,.000,.000,.000,.000,.000,.000,,0,.000,,0.0,\n",
        "\n",
        "year1944"
       ]
      },
      {
       "output_type": "stream",
       "stream": "stdout",
       "text": [
        "\n",
        "1.,MLB,Ace Adams,NY1,NL,1944,34,65,4,137.7,615,0,.000,.000,.000,.000,.000,.000,,0,.000,,0.0,\n",
        "\n",
        "year1945"
       ]
      },
      {
       "output_type": "stream",
       "stream": "stdout",
       "text": [
        "\n",
        "1.,MLB,Ace Adams,NY1,NL,1945,35,65,0,113.0,496,0,.000,.000,.000,.000,.000,.000,,0,.000,,0.0,\n",
        "\n",
        "year1946"
       ]
      },
      {
       "output_type": "stream",
       "stream": "stdout",
       "text": [
        "\n",
        "1.,MLB,Ace Adams,NY1,NL,1946,36,3,0,2.7,19,0,.000,.000,.000,.000,.000,.000,,0,.000,,0.0,\n",
        "\n",
        "year1947"
       ]
      },
      {
       "output_type": "stream",
       "stream": "stdout",
       "text": [
        "\n",
        "1.,MLB,Al Benton,DET,AL,1947,36,36,14,133.0,590,0,.000,.000,.000,.000,.000,.000,,0,.000,,0.0,\n",
        "\n",
        "year1948"
       ]
      },
      {
       "output_type": "stream",
       "stream": "stdout",
       "text": [
        "\n",
        "1.,MLB,Al Benton,DET,AL,1948,37,30,0,44.3,210,0,.000,.000,.000,.000,.000,.000,,0,.000,,0.0,\n",
        "\n",
        "year1949"
       ]
      },
      {
       "output_type": "stream",
       "stream": "stdout",
       "text": [
        "\n",
        "1.,MLB,Adrian Zabala,NY1,NL,1949,32,15,4,41.0,173,0,.000,.000,.000,.000,.000,.000,,0,.000,,0.0,\n",
        "\n",
        "year1950"
       ]
      },
      {
       "output_type": "stream",
       "stream": "stdout",
       "text": [
        "\n",
        "1.,MLB,Al Aber,CLE,AL,1950,22,1,1,9.0,34,30,.167,.265,.200,.251,.331,.352,0.254,95,.683,88,1.3,\n",
        "\n",
        "year1951"
       ]
      },
      {
       "output_type": "stream",
       "stream": "stdout",
       "text": [
        "\n",
        "1.,MLB,Al Brazle,SLN,NL,1951,37,56,8,154.3,414,353,.246,.488,.365,.255,.321,.382,0.265,105,.703,99,-0.0,\n",
        "\n",
        "year1952"
       ]
      },
      {
       "output_type": "stream",
       "stream": "stdout",
       "text": [
        "\n",
        "1.,MLB,Al Benton,BOS,AL,1952,41,24,0,37.7,158,138,.268,.348,.326,.255,.337,.373,0.278,116,.710,104,3.9,\n",
        "\n",
        "year1953"
       ]
      },
      {
       "output_type": "stream",
       "stream": "stdout",
       "text": [
        "\n",
        "1.,MLB,Al Aber,CLE,AL,1953,25,6,0,6.0,34,24,.250,.455,.250,.265,.346,.392,0.274,113,.738,94,-2.1,\n",
        "\n",
        "year1954"
       ]
      },
      {
       "output_type": "stream",
       "stream": "stdout",
       "text": [
        "\n",
        "1.,MLB,Al Aber,DET,AL,1954,26,32,18,124.7,527,470,.257,.318,.368,.262,.331,.387,0.258,99,.718,102,-1.8,\n",
        "\n",
        "year1955"
       ]
      },
      {
       "output_type": "stream",
       "stream": "stdout",
       "text": [
        "\n",
        "1.,MLB,Al Aber,DET,AL,1955,27,39,1,80.0,346,313,.275,.334,.415,.262,.336,.394,0.261,101,.731,101,-0.2,\n",
        "\n",
        "year1956"
       ]
      },
      {
       "output_type": "stream",
       "stream": "stdout",
       "text": [
        "\n",
        "1.,MLB,Al Aber,DET,AL,1956,28,42,0,63.0,281,241,.270,.341,.328,.265,.339,.404,0.268,107,.743,103,10.4,\n",
        "\n",
        "year1957"
       ]
      },
      {
       "output_type": "stream",
       "stream": "stdout",
       "text": [
        "\n",
        "1.,MLB,Al Aber,DET,AL,1957,29,28,0,37.0,167,146,.315,.363,.493,.255,.321,.379,0.258,98,.700,101,-4.4,\n",
        "\n",
        "year1958"
       ]
      },
      {
       "output_type": "stream",
       "stream": "stdout",
       "text": [
        "\n",
        "1.,MLB,Al Cicotte,WS1,AL,1958,28,8,4,28.0,130,114,.316,.388,.456,.260,.320,.392,0.259,99,.712,100,2.1,\n",
        "\n",
        "year1959"
       ]
      },
      {
       "output_type": "stream",
       "stream": "stdout",
       "text": [
        "\n",
        "1.,MLB,Al Cicotte,CLE,AL,1959,29,26,1,44.0,196,157,.293,.388,.478,.252,.319,.386,0.258,99,.706,97,-2.9,\n",
        "\n",
        "year1960"
       ]
      },
      {
       "output_type": "stream",
       "stream": "stdout",
       "text": [
        "\n",
        "1.,MLB,Al Neiger,PHI,NL,1960,21,6,0,12.7,59,47,.340,.393,.617,.258,.312,.385,0.256,96,.697,102,-2.3,\n",
        "\n",
        "year1961"
       ]
      },
      {
       "output_type": "stream",
       "stream": "stdout",
       "text": [
        "\n",
        "1.,MLB,Al Cicotte,SLN,NL,1961,31,29,7,75.0,333,293,.283,.362,.505,.260,.323,.411,0.262,102,.734,103,-1.1,\n",
        "\n",
        "year1962"
       ]
      },
      {
       "output_type": "stream",
       "stream": "stdout",
       "text": [
        "\n",
        "1.,MLB,Al Cicotte,HOU,NL,1962,32,5,0,4.7,22,21,.381,.409,.571,.258,.331,.399,0.266,105,.730,77,-1.0,\n",
        "\n",
        "year1963"
       ]
      },
      {
       "output_type": "stream",
       "stream": "stdout",
       "text": [
        "\n",
        "1.,MLB,Al Downing,NYA,AL,1963,22,24,22,175.7,706,620,.184,.277,.265,.245,.306,.373,0.258,98,.678,94,23.4,\n",
        "\n",
        "year1964"
       ]
      },
      {
       "output_type": "stream",
       "stream": "stdout",
       "text": [
        "\n",
        "1.,MLB,Al Downing,NYA,AL,1964,23,37,35,244.0,1,041,901,.223,.312,.341,.244,.307,.379,0.256,97,.686,97,33.9,\n",
        "\n",
        "year1965"
       ]
      },
      {
       "output_type": "stream",
       "stream": "stdout",
       "text": [
        "\n",
        "1.,MLB,Al Downing,NYA,AL,1965,24,35,32,212.0,902,781,.237,.326,.356,.239,.304,.362,0.255,96,.667,97,16.7,\n",
        "\n",
        "year1966"
       ]
      },
      {
       "output_type": "stream",
       "stream": "stdout",
       "text": [
        "\n",
        "1.,MLB,Al Closter,WS2,AL,1966,23,1,0,0.3,4,2,.500,.750,1.000,.277,.326,.391,0.277,114,.716,103,-1.0,\n",
        "\n",
        "year1967"
       ]
      },
      {
       "output_type": "stream",
       "stream": "stdout",
       "text": [
        "\n",
        "1.,MLB,Al Downing,NYA,AL,1967,26,31,28,201.7,807,728,.217,.281,.308,.242,.305,.366,0.261,101,.671,95,26.8,\n",
        "\n",
        "year1968"
       ]
      },
      {
       "output_type": "stream",
       "stream": "stdout",
       "text": [
        "\n",
        "1.,MLB,Al Downing,NYA,AL,1968,27,15,12,61.3,256,228,.237,.299,.382,.230,.285,.332,0.253,93,.618,92,-1.9,\n",
        "\n",
        "year1969"
       ]
      },
      {
       "output_type": "stream",
       "stream": "stdout",
       "text": [
        "\n",
        "1.,MLB,Al Downing,NYA,AL,1969,28,30,15,130.7,550,488,.240,.306,.367,.246,.316,.371,0.258,98,.686,92,6.2,\n",
        "\n",
        "year1970"
       ]
      },
      {
       "output_type": "stream",
       "stream": "stdout",
       "text": [
        "\n",
        "1.,MLB,Al Downing,MIL,AL,1970,29,17,16,94.3,415,341,.232,.346,.346,.247,.313,.383,0.255,95,.695,97,-1.0,\n",
        "\n",
        "year1971"
       ]
      },
      {
       "output_type": "stream",
       "stream": "stdout",
       "text": [
        "\n",
        "1.,MLB,Al Closter,NYA,AL,1971,28,14,1,28.3,135,114,.289,.364,.430,.246,.312,.357,0.258,98,.669,97,-0.9,\n",
        "\n",
        "year1972"
       ]
      },
      {
       "output_type": "stream",
       "stream": "stdout",
       "text": [
        "\n",
        "1.,MLB,Al Closter,NYA,AL,1972,29,2,0,2.3,12,8,.250,.500,.625,.244,.303,.375,0.252,93,.678,99,-2.0,\n",
        "\n",
        "year1973"
       ]
      },
      {
       "output_type": "stream",
       "stream": "stdout",
       "text": [
        "\n",
        "1.,MLB,Adrian Devine,ATL,NL,1973,21,24,1,32.3,152,133,.338,.399,.526,.252,.313,.363,0.254,95,.676,109,-3.8,\n",
        "\n",
        "year1974"
       ]
      },
      {
       "output_type": "stream",
       "stream": "stdout",
       "text": [
        "\n",
        "1.,MLB,Al Downing,LAN,NL,1974,33,21,16,98.3,427,368,.255,.338,.364,.250,.312,.360,0.255,95,.672,95,1.5,\n",
        "\n",
        "year1975"
       ]
      },
      {
       "output_type": "stream",
       "stream": "stdout",
       "text": [
        "\n",
        "1.,MLB,Adrian Devine,ATL,NL,1975,23,5,2,16.3,76,67,.284,.360,.418,.255,.317,.357,0.254,94,.674,104,-0.3,\n",
        "\n",
        "year1976"
       ]
      },
      {
       "output_type": "stream",
       "stream": "stdout",
       "text": [
        "\n",
        "1.,MLB,Adrian Devine,ATL,NL,1976,24,48,1,73.0,319,282,.255,.316,.312,.257,.323,.372,0.264,104,.695,106,10.6,\n",
        "\n",
        "year1977"
       ]
      },
      {
       "output_type": "stream",
       "stream": "stdout",
       "text": [
        "\n",
        "1.,MLB,Adrian Devine,TEX,AL,1977,25,56,2,105.7,444,394,.259,.316,.363,.261,.321,.399,0.258,98,.720,99,5.5,\n",
        "\n",
        "year1978"
       ]
      },
      {
       "output_type": "stream",
       "stream": "stdout",
       "text": [
        "\n",
        "1.,MLB,Adrian Devine,ATL,NL,1978,26,31,6,65.3,294,260,.323,.380,.438,.252,.314,.372,0.258,98,.686,108,4.7,\n",
        "\n",
        "year1979"
       ]
      },
      {
       "output_type": "stream",
       "stream": "stdout",
       "text": [
        "\n",
        "1.,MLB,Adrian Devine,ATL,NL,1979,27,40,0,66.7,302,270,.311,.372,.474,.255,.315,.373,0.249,91,.688,106,-5.1,\n",
        "\n",
        "year1980"
       ]
      },
      {
       "output_type": "stream",
       "stream": "stdout",
       "text": [
        "\n",
        "1.,MLB,Adrian Devine,TEX,AL,1980,28,13,0,28.0,142,130,.377,.415,.508,.265,.324,.395,0.261,101,.719,101,-2.2,\n",
        "\n",
        "year1981"
       ]
      },
      {
       "output_type": "stream",
       "stream": "stdout",
       "text": [
        "\n",
        "1.,MLB,Al Holland,SFN,NL,1981,28,47,3,100.7,431,373,.233,.314,.314,.251,.308,.348,0.252,93,.656,99,15.3,\n",
        "\n",
        "year1982"
       ]
      },
      {
       "output_type": "stream",
       "stream": "stdout",
       "text": [
        "\n",
        "1.,MLB,Al Holland,SFN,NL,1982,29,58,7,129.7,546,497,.231,.288,.338,.259,.315,.371,0.254,95,.686,97,14.9,\n",
        "\n",
        "year1983"
       ]
      },
      {
       "output_type": "stream",
       "stream": "stdout",
       "text": [
        "\n",
        "1.,MLB,Al Holland,PHI,NL,1983,30,68,0,91.7,371,335,.188,.254,.337,.259,.322,.383,0.258,98,.704,102,18.8,\n",
        "\n",
        "year1984"
       ]
      },
      {
       "output_type": "stream",
       "stream": "stdout",
       "text": [
        "\n",
        "1.,MLB,Al Holland,PHI,NL,1984,31,68,0,98.3,404,364,.225,.283,.390,.256,.318,.371,0.256,96,.689,99,-3.5,\n",
        "\n",
        "year1985"
       ]
      },
      {
       "output_type": "stream",
       "stream": "stdout",
       "text": [
        "\n",
        "1.,MLB,Al Holland,CAL,AL,1985,32,15,0,24.3,99,88,.193,.276,.364,.260,.327,.426,0.272,111,.753,96,2.3,\n",
        "\n",
        "year1986"
       ]
      },
      {
       "output_type": "stream",
       "stream": "stdout",
       "text": [
        "\n",
        "1.,MLB,Al Holland,NYA,AL,1986,33,25,1,40.7,177,164,.268,.301,.433,.264,.327,.410,0.267,106,.738,103,9.5,\n",
        "\n",
        "year1987"
       ]
      },
      {
       "output_type": "stream",
       "stream": "stdout",
       "text": [
        "\n",
        "1.,MLB,Adam Peterson,CHA,AL,1987,21,1,1,4.0,22,18,.444,.500,.722,.298,.358,.476,0.281,118,.834,97,-1.4,\n",
        "\n",
        "year1988"
       ]
      },
      {
       "output_type": "stream",
       "stream": "stdout",
       "text": [
        "\n",
        "1.,MLB,Adam Peterson,CHA,AL,1988,22,2,2,6.0,31,25,.240,.387,.280,.251,.314,.373,0.258,98,.687,98,0.3,\n",
        "\n",
        "year1989"
       ]
      },
      {
       "output_type": "stream",
       "stream": "stdout",
       "text": [
        "\n",
        "1.,MLB,Adam Peterson,CHA,AL,1989,23,3,2,5.3,31,28,.464,.500,.643,.263,.326,.395,0.267,106,.720,100,-0.1,\n",
        "\n",
        "year1990"
       ]
      },
      {
       "output_type": "stream",
       "stream": "stdout",
       "text": [
        "\n",
        "1.,MLB,Adam Peterson,CHA,AL,1990,24,20,11,85.0,357,324,.278,.332,.451,.263,.332,.394,0.267,106,.726,98,-3.2,\n",
        "\n",
        "year1991"
       ]
      },
      {
       "output_type": "stream",
       "stream": "stdout",
       "text": [
        "\n",
        "1.,MLB,Adam Peterson,SDN,NL,1991,25,13,11,54.7,241,207,.242,.329,.449,.252,.317,.372,0.257,97,.689,103,-1.3,\n",
        "\n",
        "year1992"
       ]
      },
      {
       "output_type": "stream",
       "stream": "stdout",
       "text": [
        "\n",
        "1.,MLB,Al Leiter,TOR,AL,1992,26,1,0,1.0,7,5,.200,.429,.200,.281,.341,.403,0.259,99,.743,103,-0.1,\n",
        "\n",
        "year1993"
       ]
      },
      {
       "output_type": "stream",
       "stream": "stdout",
       "text": [
        "\n",
        "1.,MLB,Aaron Sele,BOS,AL,1993,23,18,18,111.7,484,422,.237,.322,.334,.272,.340,.414,0.268,107,.754,103,22.0,\n",
        "\n",
        "year1994"
       ]
      },
      {
       "output_type": "stream",
       "stream": "stdout",
       "text": [
        "\n",
        "1.,MLB,A. J. Sager,SDN,NL,1994,29,22,3,46.7,217,191,.325,.379,.476,.261,.319,.411,0.252,93,.730,96,1.9,\n",
        "\n",
        "year1995"
       ]
      },
      {
       "output_type": "stream",
       "stream": "stdout",
       "text": [
        "\n",
        "1.,MLB,A. J. Sager,COL,NL,1995,30,10,0,14.7,70,61,.311,.382,.443,.251,.315,.397,0.253,94,.713,127,1.5,\n",
        "\n",
        "year1996"
       ]
      },
      {
       "output_type": "stream",
       "stream": "stdout",
       "text": [
        "\n",
        "1.,MLB,A. J. Sager,DET,AL,1996,31,22,9,79.0,347,310,.294,.355,.439,.279,.352,.453,0.273,112,.804,98,3.1,\n",
        "\n",
        "year1997"
       ]
      },
      {
       "output_type": "stream",
       "stream": "stdout",
       "text": [
        "\n",
        "1.,MLB,A. J. Sager,DET,AL,1997,32,38,1,84.0,350,314,.258,.307,.414,.273,.343,.428,0.266,106,.770,97,2.8,\n",
        "\n",
        "year1998"
       ]
      },
      {
       "output_type": "stream",
       "stream": "stdout",
       "text": [
        "\n",
        "1.,MLB,A. J. Sager,DET,AL,1998,33,31,3,59.3,274,243,.325,.383,.473,.271,.339,.422,0.266,105,.761,97,-4.8,\n",
        "\n",
        "year1999"
       ]
      },
      {
       "output_type": "stream",
       "stream": "stdout",
       "text": [
        "\n",
        "1.,MLB,A.j. Burnett,FLO,NL,1999,22,7,7,41.3,182,153,.242,.343,.373,.267,.332,.430,0.258,98,.761,95,5.4,\n",
        "\n",
        "year2000"
       ]
      },
      {
       "output_type": "stream",
       "stream": "stdout",
       "text": [
        "\n",
        "1.,MLB,A.j. Burnett,FLO,NL,2000,23,13,13,82.7,364,309,.259,.352,.424,.266,.335,.429,0.258,98,.764,94,7.3,\n",
        "\n",
        "year2001"
       ]
      },
      {
       "output_type": "stream",
       "stream": "stdout",
       "text": [
        "\n",
        "1.,MLB,A.j. Burnett,FLO,NL,2001,24,27,27,173.3,733,629,.231,.323,.375,.258,.323,.409,0.255,96,.732,94,4.8,\n",
        "\n",
        "year2002"
       ]
      },
      {
       "output_type": "stream",
       "stream": "stdout",
       "text": [
        "\n",
        "1.,MLB,A.j. Burnett,FLO,NL,2002,25,31,29,204.3,844,732,.209,.302,.309,.258,.325,.413,0.258,98,.737,100,28.9,\n",
        "\n",
        "year2003"
       ]
      },
      {
       "output_type": "stream",
       "stream": "stdout",
       "text": [
        "\n",
        "1.,MLB,A.j. Burnett,FLO,NL,2003,26,4,4,23.0,106,83,.217,.365,.373,.260,.330,.417,0.259,100,.747,94,-0.4,\n",
        "\n",
        "year2004"
       ]
      },
      {
       "output_type": "stream",
       "stream": "stdout",
       "text": [
        "\n",
        "1.,MLB,A.j. Burnett,FLO,NL,2004,27,20,19,120.0,490,442,.231,.296,.344,.261,.329,.424,0.259,99,.752,91,18.6,\n",
        "\n",
        "year2005"
       ]
      },
      {
       "output_type": "stream",
       "stream": "stdout",
       "text": [
        "\n",
        "1.,MLB,A.j. Burnett,FLO,NL,2005,28,32,32,209.0,873,775,.237,.312,.334,.259,.323,.412,0.257,98,.735,94,24.8,\n",
        "\n",
        "year2006"
       ]
      },
      {
       "output_type": "stream",
       "stream": "stdout",
       "text": [
        "\n",
        "1.,MLB,A.j. Burnett,TOR,AL,2006,29,21,21,135.7,577,523,.264,.323,.413,.275,.343,.440,0.264,104,.783,106,26.5,\n",
        "\n",
        "year2007"
       ]
      },
      {
       "output_type": "stream",
       "stream": "stdout",
       "text": [
        "\n",
        "1.,MLB,A.j. Burnett,TOR,AL,2007,30,25,25,165.7,691,611,.214,.302,.362,.270,.339,.421,0.264,104,.760,94,6.9,\n",
        "\n",
        "year2008"
       ]
      },
      {
       "output_type": "stream",
       "stream": "stdout",
       "text": [
        "\n",
        "1.,MLB,A.j. Burnett,TOR,AL,2008,31,35,34,221.3,957,849,.249,.322,.388,.269,.338,.427,0.264,104,.764,98,43.3,\n",
        "\n",
        "year2009"
       ]
      },
      {
       "output_type": "stream",
       "stream": "stdout",
       "text": [
        "\n",
        "1.,MLB,A.j. Burnett,NYA,AL,2009,32,33,33,207.0,896,781,.247,.336,.393,.267,.336,.431,0.263,103,.767,110,29.8,\n",
        "\n",
        "year2010"
       ]
      },
      {
       "output_type": "stream",
       "stream": "stdout",
       "text": [
        "\n",
        "1.,MLB,A.j. Burnett,NYA,AL,2010,33,33,33,186.7,829,715,.285,.366,.457,.260,.326,.410,0.257,97,.736,115,16.7,\n",
        "\n",
        "year2011"
       ]
      },
      {
       "output_type": "stream",
       "stream": "stdout",
       "text": [
        "\n",
        "1.,MLB,A.j. Burnett,NYA,AL,2011,34,33,32,190.3,837,731,.260,.339,.464,.260,.322,.407,0.261,101,.729,106,1.1,\n",
        "\n",
        "year2012"
       ]
      },
      {
       "output_type": "stream",
       "stream": "stdout",
       "text": [
        "\n",
        "1.,MLB,A.j. Burnett,PIT,NL,2012,35,31,31,202.3,851,767,.246,.307,.361,.250,.312,.394,0.255,96,.705,95,26.7,\n",
        "\n",
        "year2013"
       ]
      },
      {
       "output_type": "stream",
       "stream": "stdout",
       "text": [
        "\n",
        "1.,MLB,A.j. Burnett,PIT,NL,2013,36,30,30,191.0,801,714,.231,.304,.335,.251,.311,.388,0.254,94,.699,98,25.0,\n",
        "\n",
        "year2014"
       ]
      },
      {
       "output_type": "stream",
       "stream": "stdout",
       "text": [
        "\n",
        "1.,MLB,A.j. Achter,MIN,AL,2014,25,7,0,11.0,49,46,.304,.347,.522,.266,.314,.409,0.264,104,.723,112,-0.9,\n",
        "\n"
       ]
      }
     ],
     "prompt_number": 1
    }
   ],
   "metadata": {}
  }
 ]
}