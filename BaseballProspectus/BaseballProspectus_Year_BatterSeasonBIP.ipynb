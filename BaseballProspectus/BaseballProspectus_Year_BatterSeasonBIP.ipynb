{
 "metadata": {
  "name": "",
  "signature": "sha256:b6634bab07d04166dc40221b5312be3d2dbc40ed5fac8eaceccf85e6876f1f22"
 },
 "nbformat": 3,
 "nbformat_minor": 0,
 "worksheets": [
  {
   "cells": [
    {
     "cell_type": "code",
     "collapsed": false,
     "input": [
      "#\u8981\u6ce8\u610f\u7684\u5730\u65b9\u6709\u56db\u500b range, year, fileName, page_limit  \n",
      "import string\n",
      "import time\n",
      "import requests\n",
      "from bs4 import BeautifulSoup\n",
      "headers={\n",
      "    'User-Agent':'Mozilla/5.0 (Windows NT 6.1; WOW64) AppleWebKit/537.36 (KHTML, like Gecko) Chrome/40.0.2214.93 Safari/537.36'\n",
      "}\n",
      "url='http://www.baseballprospectus.com/sortable/index.php'      \n",
      "for year in range(1871,2015): #2015\u6c92\u7b97\u5230**************\n",
      "    payload={\n",
      "            'mystatslist':'NAME,YEAR,LVL,G,PA,BATTED_BALL_TYPE_KNOWN,FB,GB,LINEDR,POPUP,BUNT,BABIP,DP_PERCENT,FB_PERCENT,GB_PERCENT,LINEDR_PERCENT,POPUP_PERCENT,BUNT_HIT',\n",
      "            'category':'batter_season',\n",
      "            'tablename':'dyna_batter_season',\n",
      "            'stage':'data',\n",
      "            'year':'%d'%(year),#*********************\n",
      "            'mystatslist':'NAME,YEAR,LVL,G,PA,BATTED_BALL_TYPE_KNOWN,FB,GB,LINEDR,POPUP,BUNT,BABIP,DP_PERCENT,FB_PERCENT,GB_PERCENT,LINEDR_PERCENT,POPUP_PERCENT,BUNT_HIT',\n",
      "            'category':'batter_season',\n",
      "            'tablename':'dyna_batter_season',\n",
      "            'stage':'data',\n",
      "            'group_LVL':'MLB',\n",
      "            'group_PRIMARY_POS_LABEL':'*',\n",
      "            'minimum':'0',\n",
      "            'sort1column':'NAME',\n",
      "            'sort1order':'ASC',\n",
      "            'page_limit':'1500',#*********************\n",
      "            'glossary_terms':'*',\n",
      "            'tt_team':'*',\n",
      "            'show_ttroster':'1',\n",
      "            'show_ttwatched':'1',\n",
      "            'viewdata':'View Data'\n",
      "        }\n",
      "    res=requests.post(url,data=payload,headers=headers)\n",
      "    soup=BeautifulSoup(res.text.encode('utf-8'))    \n",
      "    trList=soup.select('#TTdata')[0].select('tr')    \n",
      "    fileName= str(year)+'_BatterSeasonBIP.csv'#*********************\n",
      "    fid=open('Baseball\\\\'+fileName,'w')    \n",
      "    for tr in trList:\n",
      "        for td in tr.select('td'):\n",
      "            fid.write(td.text.encode('utf-8')+',')\n",
      "        fid.write('\\n')\n",
      "    fid.close()\n",
      "    fod=open('Baseball\\\\'+fileName,'r')    \n",
      "    print 'year'+str(year)\n",
      "    print fod.readlines()[0]    \n",
      "    fod.close()\n",
      "    time.sleep(2)"
     ],
     "language": "python",
     "metadata": {},
     "outputs": [
      {
       "output_type": "stream",
       "stream": "stdout",
       "text": [
        "year2000\n",
        "#,NAME,YEAR,LVL,G,PA,Batted Balls,FB,GB,LD,POP,BUNT,BABIP,DP%,FB%,GB%,LD%,POP%,BUNT_HIT,\n",
        "\n",
        "year2001"
       ]
      },
      {
       "output_type": "stream",
       "stream": "stdout",
       "text": [
        "\n",
        "#,NAME,YEAR,LVL,G,PA,Batted Balls,FB,GB,LD,POP,BUNT,BABIP,DP%,FB%,GB%,LD%,POP%,BUNT_HIT,\n",
        "\n",
        "year2002"
       ]
      },
      {
       "output_type": "stream",
       "stream": "stdout",
       "text": [
        "\n",
        "#,NAME,YEAR,LVL,G,PA,Batted Balls,FB,GB,LD,POP,BUNT,BABIP,DP%,FB%,GB%,LD%,POP%,BUNT_HIT,\n",
        "\n",
        "year2003"
       ]
      },
      {
       "output_type": "stream",
       "stream": "stdout",
       "text": [
        "\n",
        "#,NAME,YEAR,LVL,G,PA,Batted Balls,FB,GB,LD,POP,BUNT,BABIP,DP%,FB%,GB%,LD%,POP%,BUNT_HIT,\n",
        "\n",
        "year2004"
       ]
      },
      {
       "output_type": "stream",
       "stream": "stdout",
       "text": [
        "\n",
        "#,NAME,YEAR,LVL,G,PA,Batted Balls,FB,GB,LD,POP,BUNT,BABIP,DP%,FB%,GB%,LD%,POP%,BUNT_HIT,\n",
        "\n",
        "year2005"
       ]
      },
      {
       "output_type": "stream",
       "stream": "stdout",
       "text": [
        "\n",
        "#,NAME,YEAR,LVL,G,PA,Batted Balls,FB,GB,LD,POP,BUNT,BABIP,DP%,FB%,GB%,LD%,POP%,BUNT_HIT,\n",
        "\n",
        "year2006"
       ]
      },
      {
       "output_type": "stream",
       "stream": "stdout",
       "text": [
        "\n",
        "#,NAME,YEAR,LVL,G,PA,Batted Balls,FB,GB,LD,POP,BUNT,BABIP,DP%,FB%,GB%,LD%,POP%,BUNT_HIT,\n",
        "\n",
        "year2007"
       ]
      },
      {
       "output_type": "stream",
       "stream": "stdout",
       "text": [
        "\n",
        "#,NAME,YEAR,LVL,G,PA,Batted Balls,FB,GB,LD,POP,BUNT,BABIP,DP%,FB%,GB%,LD%,POP%,BUNT_HIT,\n",
        "\n",
        "year2008"
       ]
      },
      {
       "output_type": "stream",
       "stream": "stdout",
       "text": [
        "\n",
        "#,NAME,YEAR,LVL,G,PA,Batted Balls,FB,GB,LD,POP,BUNT,BABIP,DP%,FB%,GB%,LD%,POP%,BUNT_HIT,\n",
        "\n",
        "year2009"
       ]
      },
      {
       "output_type": "stream",
       "stream": "stdout",
       "text": [
        "\n",
        "#,NAME,YEAR,LVL,G,PA,Batted Balls,FB,GB,LD,POP,BUNT,BABIP,DP%,FB%,GB%,LD%,POP%,BUNT_HIT,\n",
        "\n",
        "year2010"
       ]
      },
      {
       "output_type": "stream",
       "stream": "stdout",
       "text": [
        "\n",
        "#,NAME,YEAR,LVL,G,PA,Batted Balls,FB,GB,LD,POP,BUNT,BABIP,DP%,FB%,GB%,LD%,POP%,BUNT_HIT,\n",
        "\n",
        "year2011"
       ]
      },
      {
       "output_type": "stream",
       "stream": "stdout",
       "text": [
        "\n",
        "#,NAME,YEAR,LVL,G,PA,Batted Balls,FB,GB,LD,POP,BUNT,BABIP,DP%,FB%,GB%,LD%,POP%,BUNT_HIT,\n",
        "\n",
        "year2012"
       ]
      },
      {
       "output_type": "stream",
       "stream": "stdout",
       "text": [
        "\n",
        "#,NAME,YEAR,LVL,G,PA,Batted Balls,FB,GB,LD,POP,BUNT,BABIP,DP%,FB%,GB%,LD%,POP%,BUNT_HIT,\n",
        "\n",
        "year2013"
       ]
      },
      {
       "output_type": "stream",
       "stream": "stdout",
       "text": [
        "\n",
        "#,NAME,YEAR,LVL,G,PA,Batted Balls,FB,GB,LD,POP,BUNT,BABIP,DP%,FB%,GB%,LD%,POP%,BUNT_HIT,\n",
        "\n",
        "year2014"
       ]
      },
      {
       "output_type": "stream",
       "stream": "stdout",
       "text": [
        "\n",
        "#,NAME,YEAR,LVL,G,PA,Batted Balls,FB,GB,LD,POP,BUNT,BABIP,DP%,FB%,GB%,LD%,POP%,BUNT_HIT,\n",
        "\n"
       ]
      }
     ],
     "prompt_number": 2
    }
   ],
   "metadata": {}
  }
 ]
}