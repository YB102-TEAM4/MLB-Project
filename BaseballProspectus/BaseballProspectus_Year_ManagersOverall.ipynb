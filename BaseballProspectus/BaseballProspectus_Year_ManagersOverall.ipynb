{
 "metadata": {
  "name": "",
  "signature": "sha256:96929cb0a083e0e8a9a9a35b7b4cb937fbefd2e31e856ce3e6f7fe24f7dbbe80"
 },
 "nbformat": 3,
 "nbformat_minor": 0,
 "worksheets": [
  {
   "cells": [
    {
     "cell_type": "code",
     "collapsed": false,
     "input": [
      "#\u9996\u5148Name\u8981\u6392\u5e8f\n",
      "#\u8981\u6ce8\u610f\u7684\u5730\u65b9\u6709\u56db\u500b folder, range, year, page_limit\n",
      "import string, time, requests, os\n",
      "from bs4 import BeautifulSoup\n",
      "headers={\n",
      "    'User-Agent':'Mozilla/5.0 (Windows NT 6.1; WOW64) AppleWebKit/537.36 (KHTML, like Gecko) Chrome/40.0.2214.93 Safari/537.36'\n",
      "}\n",
      "url='http://www.baseballprospectus.com/sortable/index.php'\n",
      "\n",
      "folder='ManagersOverall'#\u8cc7\u6599\u593e\u540d\u7a31*********************\n",
      "\n",
      "path='Baseball\\\\'+folder #\u8def\u5f91\u540d\u7a31\n",
      "if os.path.exists(path):\n",
      "    print 'folder exists'\n",
      "else:    \n",
      "    os.mkdir(path)\n",
      "    print 'folder not exists'  \n",
      "    \n",
      "for year in range(1950,2015): #2015\u6c92\u7b97\u5230**************\n",
      "    payload={            \n",
      "            'mystatslist':'LG,YEAR,TEAM,MANAGER,G,W,L,WINP,R,R_OPP,PYTHAG,PYTHAG_DIFF,G_W_SUBS,SUBS',\n",
      "            'category':'managers',\n",
      "            'tablename':'dyna_managers',\n",
      "            'stage':'data',\n",
      "            'year':'%d'%(year),#*********************\n",
      "            'mystatslist':'YEAR,TEAM,MANAGER,G,W,L,WINP,R,R_OPP,PYTHAG,PYTHAG_DIFF,G_W_SUBS,SUBS',\n",
      "            'category':'managers',\n",
      "            'tablename':'dyna_managers',\n",
      "            'stage':'data',\n",
      "            'minimum':'0',\n",
      "            'sort1column':'TEAM',\n",
      "            'sort1order':'ASC',\n",
      "            'page_limit':'All',#*********************\n",
      "            'viewdata':'View Data',\n",
      "        }\n",
      "    res=requests.post(url,data=payload,headers=headers)\n",
      "    soup=BeautifulSoup(res.text.encode('utf-8'))\n",
      "    trList=soup.select('#TTdata tr')\n",
      "    fileName= str(year)+'_'+folder+'.csv'\n",
      "    fid=open(path+'\\\\'+fileName,'w')\n",
      "    for tr in trList:\n",
      "        for td in tr.select('td'):\n",
      "            fid.write(td.text.encode('utf-8')+',')\n",
      "        fid.write('\\n')\n",
      "    fid.close()\n",
      "    fod=open(path+'\\\\'+fileName,'r')\n",
      "    print 'year'+str(year)\n",
      "    print fod.readlines()[1]\n",
      "    fod.close()\n",
      "    time.sleep(2)\n"
     ],
     "language": "python",
     "metadata": {},
     "outputs": [
      {
       "output_type": "stream",
       "stream": "stdout",
       "text": [
        "folder not exists\n",
        "year1950"
       ]
      },
      {
       "output_type": "stream",
       "stream": "stdout",
       "text": [
        "\n",
        "1.,AL,1950,BOS,,132,77,55,.583,890,717,.606,-.023,,,\n",
        "\n",
        "year1951"
       ]
      },
      {
       "output_type": "stream",
       "stream": "stdout",
       "text": [
        "\n",
        "1.,AL,1951,BOS,,154,87,67,.565,804,725,.552,.013,,,\n",
        "\n",
        "year1952"
       ]
      },
      {
       "output_type": "stream",
       "stream": "stdout",
       "text": [
        "\n",
        "1.,AL,1952,BOS,,152,76,76,.500,665,648,.513,-.013,,,\n",
        "\n",
        "year1953"
       ]
      },
      {
       "output_type": "stream",
       "stream": "stdout",
       "text": [
        "\n",
        "1.,AL,1953,BOS,,153,84,69,.549,656,632,.519,.030,,,\n",
        "\n",
        "year1954"
       ]
      },
      {
       "output_type": "stream",
       "stream": "stdout",
       "text": [
        "\n",
        "1.,AL,1954,BAL,,153,54,99,.353,477,660,.343,.010,,,\n",
        "\n",
        "year1955"
       ]
      },
      {
       "output_type": "stream",
       "stream": "stdout",
       "text": [
        "\n",
        "1.,AL,1955,BAL,,156,57,99,.365,540,754,.339,.026,,,\n",
        "\n",
        "year1956"
       ]
      },
      {
       "output_type": "stream",
       "stream": "stdout",
       "text": [
        "\n",
        "1.,AL,1956,BAL,,154,69,85,.448,571,705,.396,.052,,,\n",
        "\n",
        "year1957"
       ]
      },
      {
       "output_type": "stream",
       "stream": "stdout",
       "text": [
        "\n",
        "1.,AL,1957,BAL,,154,76,78,.494,597,588,.508,-.014,,,\n",
        "\n",
        "year1958"
       ]
      },
      {
       "output_type": "stream",
       "stream": "stdout",
       "text": [
        "\n",
        "1.,AL,1958,BAL,,154,74,80,.481,521,575,.451,.030,,,\n",
        "\n",
        "year1959"
       ]
      },
      {
       "output_type": "stream",
       "stream": "stdout",
       "text": [
        "\n",
        "1.,AL,1959,BAL,,155,74,81,.477,551,621,.440,.037,,,\n",
        "\n",
        "year1960"
       ]
      },
      {
       "output_type": "stream",
       "stream": "stdout",
       "text": [
        "\n",
        "1.,AL,1960,BAL,,154,89,65,.578,682,606,.559,.019,,,\n",
        "\n",
        "year1961"
       ]
      },
      {
       "output_type": "stream",
       "stream": "stdout",
       "text": [
        "\n",
        "1.,AL,1961,BAL,,163,95,68,.583,691,588,.580,.003,,,\n",
        "\n",
        "year1962"
       ]
      },
      {
       "output_type": "stream",
       "stream": "stdout",
       "text": [
        "\n",
        "1.,AL,1962,BAL,,162,77,85,.475,652,680,.479,-.004,,,\n",
        "\n",
        "year1963"
       ]
      },
      {
       "output_type": "stream",
       "stream": "stdout",
       "text": [
        "\n",
        "1.,AL,1963,BAL,,162,86,76,.531,644,621,.518,.013,,,\n",
        "\n",
        "year1964"
       ]
      },
      {
       "output_type": "stream",
       "stream": "stdout",
       "text": [
        "\n",
        "1.,AL,1964,BAL,,163,97,66,.595,679,567,.589,.006,,,\n",
        "\n",
        "year1965"
       ]
      },
      {
       "output_type": "stream",
       "stream": "stdout",
       "text": [
        "\n",
        "1.,AL,1965,BAL,,162,94,68,.580,641,578,.552,.029,,,\n",
        "\n",
        "year1966"
       ]
      },
      {
       "output_type": "stream",
       "stream": "stdout",
       "text": [
        "\n",
        "1.,NL,1966,ATL,,152,82,70,.539,738,627,.581,-.041,,,\n",
        "\n",
        "year1967"
       ]
      },
      {
       "output_type": "stream",
       "stream": "stdout",
       "text": [
        "\n",
        "1.,NL,1967,ATL,,155,74,81,.477,608,618,.492,-.014,,,\n",
        "\n",
        "year1968"
       ]
      },
      {
       "output_type": "stream",
       "stream": "stdout",
       "text": [
        "\n",
        "1.,NL,1968,ATL,,148,70,78,.473,449,509,.438,.035,,,\n",
        "\n",
        "year1969"
       ]
      },
      {
       "output_type": "stream",
       "stream": "stdout",
       "text": [
        "\n",
        "1.,NL,1969,ATL,,162,93,69,.574,691,631,.545,.029,,,\n",
        "\n",
        "year1970"
       ]
      },
      {
       "output_type": "stream",
       "stream": "stdout",
       "text": [
        "\n",
        "1.,NL,1970,ATL,,162,76,86,.469,736,772,.476,-.007,,,\n",
        "\n",
        "year1971"
       ]
      },
      {
       "output_type": "stream",
       "stream": "stdout",
       "text": [
        "\n",
        "1.,NL,1971,ATL,,159,80,79,.503,631,689,.456,.047,,,\n",
        "\n",
        "year1972"
       ]
      },
      {
       "output_type": "stream",
       "stream": "stdout",
       "text": [
        "\n",
        "1.,NL,1972,ATL,,153,70,83,.458,622,721,.427,.031,,,\n",
        "\n",
        "year1973"
       ]
      },
      {
       "output_type": "stream",
       "stream": "stdout",
       "text": [
        "\n",
        "1.,NL,1973,ATL,,159,74,85,.465,781,765,.510,-.045,,,\n",
        "\n",
        "year1974"
       ]
      },
      {
       "output_type": "stream",
       "stream": "stdout",
       "text": [
        "\n",
        "1.,NL,1974,ATL,,163,88,75,.540,661,563,.580,-.040,,,\n",
        "\n",
        "year1975"
       ]
      },
      {
       "output_type": "stream",
       "stream": "stdout",
       "text": [
        "\n",
        "1.,NL,1975,ATL,,161,67,94,.416,583,739,.384,.033,,,\n",
        "\n",
        "year1976"
       ]
      },
      {
       "output_type": "stream",
       "stream": "stdout",
       "text": [
        "\n",
        "1.,NL,1976,ATL,,162,70,92,.432,620,700,.440,-.008,,,\n",
        "\n",
        "year1977"
       ]
      },
      {
       "output_type": "stream",
       "stream": "stdout",
       "text": [
        "\n",
        "1.,NL,1977,ATL,,162,61,101,.377,678,895,.365,.012,,,\n",
        "\n",
        "year1978"
       ]
      },
      {
       "output_type": "stream",
       "stream": "stdout",
       "text": [
        "\n",
        "1.,NL,1978,ATL,,162,69,93,.426,600,750,.390,.036,,,\n",
        "\n",
        "year1979"
       ]
      },
      {
       "output_type": "stream",
       "stream": "stdout",
       "text": [
        "\n",
        "1.,NL,1979,ATL,,160,66,94,.413,669,763,.435,-.022,,,\n",
        "\n",
        "year1980"
       ]
      },
      {
       "output_type": "stream",
       "stream": "stdout",
       "text": [
        "\n",
        "1.,NL,1980,ATL,,161,81,80,.503,630,660,.477,.026,,,\n",
        "\n",
        "year1981"
       ]
      },
      {
       "output_type": "stream",
       "stream": "stdout",
       "text": [
        "\n",
        "1.,NL,1981,ATL,,107,50,57,.467,395,416,.474,-.007,,,\n",
        "\n",
        "year1982"
       ]
      },
      {
       "output_type": "stream",
       "stream": "stdout",
       "text": [
        "\n",
        "1.,NL,1982,ATL,,162,89,73,.549,739,702,.526,.024,,,\n",
        "\n",
        "year1983"
       ]
      },
      {
       "output_type": "stream",
       "stream": "stdout",
       "text": [
        "\n",
        "1.,NL,1983,ATL,,162,88,74,.543,746,640,.576,-.033,,,\n",
        "\n",
        "year1984"
       ]
      },
      {
       "output_type": "stream",
       "stream": "stdout",
       "text": [
        "\n",
        "1.,NL,1984,ATL,,162,80,82,.494,632,655,.482,.012,,,\n",
        "\n",
        "year1985"
       ]
      },
      {
       "output_type": "stream",
       "stream": "stdout",
       "text": [
        "\n",
        "1.,NL,1985,ATL,,162,66,96,.407,632,781,.396,.012,,,\n",
        "\n",
        "year1986"
       ]
      },
      {
       "output_type": "stream",
       "stream": "stdout",
       "text": [
        "\n",
        "1.,NL,1986,ATL,,161,72,89,.447,615,719,.423,.025,,,\n",
        "\n",
        "year1987"
       ]
      },
      {
       "output_type": "stream",
       "stream": "stdout",
       "text": [
        "\n",
        "1.,NL,1987,ATL,,161,69,92,.429,747,829,.448,-.020,,,\n",
        "\n",
        "year1988"
       ]
      },
      {
       "output_type": "stream",
       "stream": "stdout",
       "text": [
        "\n",
        "1.,NL,1988,ATL,,160,54,106,.338,555,741,.359,-.022,,,\n",
        "\n",
        "year1989"
       ]
      },
      {
       "output_type": "stream",
       "stream": "stdout",
       "text": [
        "\n",
        "1.,NL,1989,ATL,,161,63,98,.391,584,680,.424,-.033,,,\n",
        "\n",
        "year1990"
       ]
      },
      {
       "output_type": "stream",
       "stream": "stdout",
       "text": [
        "\n",
        "1.,NL,1990,ATL,,162,65,97,.401,682,821,.408,-.007,,,\n",
        "\n",
        "year1991"
       ]
      },
      {
       "output_type": "stream",
       "stream": "stdout",
       "text": [
        "\n",
        "1.,NL,1991,ATL,,162,94,68,.580,749,644,.575,.005,,,\n",
        "\n",
        "year1992"
       ]
      },
      {
       "output_type": "stream",
       "stream": "stdout",
       "text": [
        "\n",
        "1.,NL,1992,ATL,,162,98,64,.605,682,569,.590,.015,,,\n",
        "\n",
        "year1993"
       ]
      },
      {
       "output_type": "stream",
       "stream": "stdout",
       "text": [
        "\n",
        "1.,NL,1993,ATL,,162,104,58,.642,767,559,.653,-.011,,,\n",
        "\n",
        "year1994"
       ]
      },
      {
       "output_type": "stream",
       "stream": "stdout",
       "text": [
        "\n",
        "1.,NL,1994,ATL,,114,68,46,.596,542,448,.594,.002,,,\n",
        "\n",
        "year1995"
       ]
      },
      {
       "output_type": "stream",
       "stream": "stdout",
       "text": [
        "\n",
        "1.,NL,1995,ATL,,144,90,54,.625,645,540,.588,.037,,,\n",
        "\n",
        "year1996"
       ]
      },
      {
       "output_type": "stream",
       "stream": "stdout",
       "text": [
        "\n",
        "1.,NL,1996,ATL,,162,96,66,.593,773,648,.587,.005,,,\n",
        "\n",
        "year1997"
       ]
      },
      {
       "output_type": "stream",
       "stream": "stdout",
       "text": [
        "\n",
        "1.,AL,1997,ANA,,162,84,78,.519,829,794,.522,-.003,,,\n",
        "\n",
        "year1998"
       ]
      },
      {
       "output_type": "stream",
       "stream": "stdout",
       "text": [
        "\n",
        "1.,AL,1998,ANA,,162,85,77,.525,787,783,.503,.022,,,\n",
        "\n",
        "year1999"
       ]
      },
      {
       "output_type": "stream",
       "stream": "stdout",
       "text": [
        "\n",
        "1.,AL,1999,ANA,,162,70,92,.432,711,826,.426,.007,,,\n",
        "\n",
        "year2000"
       ]
      },
      {
       "output_type": "stream",
       "stream": "stdout",
       "text": [
        "\n",
        "1.,AL,2000,ANA,,162,82,80,.506,864,869,.497,.009,,,\n",
        "\n",
        "year2001"
       ]
      },
      {
       "output_type": "stream",
       "stream": "stdout",
       "text": [
        "\n",
        "1.,AL,2001,ANA,,162,75,87,.463,691,730,.473,-.010,,,\n",
        "\n",
        "year2002"
       ]
      },
      {
       "output_type": "stream",
       "stream": "stdout",
       "text": [
        "\n",
        "1.,AL,2002,ANA,,162,99,63,.611,851,644,.636,-.025,,,\n",
        "\n",
        "year2003"
       ]
      },
      {
       "output_type": "stream",
       "stream": "stdout",
       "text": [
        "\n",
        "1.,AL,2003,ANA,,162,77,85,.475,736,743,.495,-.020,,,\n",
        "\n",
        "year2004"
       ]
      },
      {
       "output_type": "stream",
       "stream": "stdout",
       "text": [
        "\n",
        "1.,AL,2004,ANA,,162,92,70,.568,836,734,.565,.003,,,\n",
        "\n",
        "year2005"
       ]
      },
      {
       "output_type": "stream",
       "stream": "stdout",
       "text": [
        "\n",
        "1.,AL,2005,ANA,,162,95,67,.586,761,643,.583,.003,,,\n",
        "\n",
        "year2006"
       ]
      },
      {
       "output_type": "stream",
       "stream": "stdout",
       "text": [
        "\n",
        "1.,AL,2006,ANA,,162,89,73,.549,766,732,.523,.027,,,\n",
        "\n",
        "year2007"
       ]
      },
      {
       "output_type": "stream",
       "stream": "stdout",
       "text": [
        "\n",
        "1.,AL,2007,ANA,,162,94,68,.580,822,731,.558,.022,,,\n",
        "\n",
        "year2008"
       ]
      },
      {
       "output_type": "stream",
       "stream": "stdout",
       "text": [
        "\n",
        "1.,AL,2008,ANA,,162,100,62,.617,765,697,.546,.071,,,\n",
        "\n",
        "year2009"
       ]
      },
      {
       "output_type": "stream",
       "stream": "stdout",
       "text": [
        "\n",
        "1.,AL,2009,ANA,,162,97,65,.599,883,761,.574,.025,,,\n",
        "\n",
        "year2010"
       ]
      },
      {
       "output_type": "stream",
       "stream": "stdout",
       "text": [
        "\n",
        "1.,AL,2010,ANA,,162,80,82,.494,681,702,.485,.009,,,\n",
        "\n",
        "year2011"
       ]
      },
      {
       "output_type": "stream",
       "stream": "stdout",
       "text": [
        "\n",
        "1.,AL,2011,ANA,,162,86,76,.531,667,633,.526,.005,,,\n",
        "\n",
        "year2012"
       ]
      },
      {
       "output_type": "stream",
       "stream": "stdout",
       "text": [
        "\n",
        "1.,AL,2012,ANA,,162,89,73,.549,767,699,.546,.003,,,\n",
        "\n",
        "year2013"
       ]
      },
      {
       "output_type": "stream",
       "stream": "stdout",
       "text": [
        "\n",
        "1.,AL,2013,ANA,,162,78,84,.481,733,737,.497,-.016,,,\n",
        "\n",
        "year2014"
       ]
      },
      {
       "output_type": "stream",
       "stream": "stdout",
       "text": [
        "\n",
        "1.,AL,2014,ANA,,162,98,64,.605,773,630,.601,.004,,,\n",
        "\n"
       ]
      }
     ],
     "prompt_number": 1
    }
   ],
   "metadata": {}
  }
 ]
}