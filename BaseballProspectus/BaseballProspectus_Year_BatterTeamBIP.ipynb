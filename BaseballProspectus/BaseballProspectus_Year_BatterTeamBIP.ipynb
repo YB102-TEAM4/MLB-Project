{
 "metadata": {
  "name": "",
  "signature": "sha256:622b7d35e4ab72f975e4fefc611f2f7673e986879afc816abd812ef8b2e76866"
 },
 "nbformat": 3,
 "nbformat_minor": 0,
 "worksheets": [
  {
   "cells": [
    {
     "cell_type": "code",
     "collapsed": false,
     "input": [
      "#\u9996\u5148Name\u8981\u6392\u5e8f\n",
      "#\u8981\u6ce8\u610f\u7684\u5730\u65b9\u6709\u56db\u500b directory, range, year, page_limit\n",
      "import string, time, requests, os\n",
      "from bs4 import BeautifulSoup\n",
      "headers={\n",
      "    'User-Agent':'Mozilla/5.0 (Windows NT 6.1; WOW64) AppleWebKit/537.36 (KHTML, like Gecko) Chrome/40.0.2214.93 Safari/537.36'\n",
      "}\n",
      "url='http://www.baseballprospectus.com/sortable/index.php'\n",
      "\n",
      "folder='BatterTeamBIP'#\u8cc7\u6599\u593e\u540d\u7a31*********************\n",
      "\n",
      "path='Baseball\\\\'+folder #\u8def\u5f91\u540d\u7a31\n",
      "if os.path.exists(path):\n",
      "    print 'folder exists'\n",
      "else:    \n",
      "    os.mkdir(path)\n",
      "    print 'folder not exists'  \n",
      "    \n",
      "for year in range(1871,2015): #2015\u6c92\u7b97\u5230**************\n",
      "    payload={            \n",
      "            #'year':'%d'%(year),*********************            \n",
      "            #'page_limit':'All',*********************\n",
      "            'mystatslist':'NAME,TEAM,LG,YEAR,AGE,G,PA,BATTED_BALL_TYPE_KNOWN,FB,GB,LINEDR,POPUP,BUNT,BABIP,DP_PERCENT,FB_PERCENT,GB_PERCENT,LINEDR_PERCENT,POPUP_PERCENT,BUNT_HIT',\n",
      "            'category':'batter_team_year',\n",
      "            'tablename':'dyna_batter_team_year',\n",
      "            'stage':'data',\n",
      "            'year':'%d'%(year),#*********************\n",
      "            'mystatslist':'NAME,TEAM,LG,YEAR,AGE,G,PA,BATTED_BALL_TYPE_KNOWN,FB,GB,LINEDR,POPUP,BUNT,BABIP,DP_PERCENT,FB_PERCENT,GB_PERCENT,LINEDR_PERCENT,POPUP_PERCENT,BUNT_HIT',\n",
      "            'category':'batter_team_year',\n",
      "            'tablename':'dyna_batter_team_year',\n",
      "            'stage':'data',\n",
      "            'group_LVL':'MLB',\n",
      "            'group_TEAM':'*',\n",
      "            'group_LG':'*',\n",
      "            'group_PRIMARY_POS_LABEL':'*',\n",
      "            'minimum':'0',\n",
      "            'sort1column':'NAME',\n",
      "            'sort1order':'ASC',\n",
      "            'page_limit':'All',#*********************\n",
      "            'glossary_terms':'*',\n",
      "            'tt_team':'*',\n",
      "            'show_ttroster':'1',\n",
      "            'show_ttwatched':'1',\n",
      "            'viewdata':'View Data',\n",
      "        }\n",
      "    res=requests.post(url,data=payload,headers=headers)\n",
      "    soup=BeautifulSoup(res.text.encode('utf-8'))    \n",
      "    trList=soup.select('#TTdata tr')\n",
      "    fileName= str(year)+'_'+folder+'.csv'\n",
      "    fid=open(path+'\\\\'+fileName,'w')    \n",
      "    for tr in trList:\n",
      "        for td in tr.select('td'):\n",
      "            fid.write(td.text.encode('utf-8')+',')\n",
      "        fid.write('\\n')\n",
      "    fid.close()\n",
      "    fod=open(path+'\\\\'+fileName,'r')\n",
      "    print 'year'+str(year)\n",
      "    print fod.readlines()[1]\n",
      "    fod.close()\n",
      "    time.sleep(2)\n"
     ],
     "language": "python",
     "metadata": {},
     "outputs": [
      {
       "output_type": "stream",
       "stream": "stdout",
       "text": [
        "folder not exists\n",
        "year1871"
       ]
      },
      {
       "output_type": "stream",
       "stream": "stdout",
       "text": [
        "\n",
        "1.,Al Barker,RC1,NA,1871,32,1,5,0,0,0,0,0,0,.000,0.0%,0.0%,0.0%,0.0%,0.0%,0,\n",
        "\n",
        "year1872"
       ]
      },
      {
       "output_type": "stream",
       "stream": "stdout",
       "text": [
        "\n",
        "1., O'rourke,BR1,NA,1872,0,1,4,0,0,0,0,0,0,.000,0.0%,0.0%,0.0%,0.0%,0.0%,0,\n",
        "\n",
        "year1873"
       ]
      },
      {
       "output_type": "stream",
       "stream": "stdout",
       "text": [
        "\n",
        "1., Jones\u00e2\u0094\u0090,BL4,NA,1873,0,1,4,0,0,0,0,0,0,.000,0.0%,0.0%,0.0%,0.0%,0.0%,0,\n",
        "\n",
        "year1874"
       ]
      },
      {
       "output_type": "stream",
       "stream": "stdout",
       "text": [
        "\n",
        "1., Jones\u00e2\u0094\u0090,BL1,NA,1874,0,2,7,0,0,0,0,0,0,.000,0.0%,0.0%,0.0%,0.0%,0.0%,0,\n",
        "\n",
        "year1875"
       ]
      },
      {
       "output_type": "stream",
       "stream": "stdout",
       "text": [
        "\n",
        "1.,Adam Rocap,PH1,NA,1875,21,16,70,0,0,0,0,0,0,.000,0.0%,0.0%,0.0%,0.0%,0.0%,0,\n",
        "\n",
        "year1876"
       ]
      },
      {
       "output_type": "stream",
       "stream": "stdout",
       "text": [
        "\n",
        "1.,Al Nichols,NY3,NL,1876,24,57,214,0,0,0,0,0,0,.000,0.0%,0.0%,0.0%,0.0%,0.0%,0,\n",
        "\n",
        "year1877"
       ]
      },
      {
       "output_type": "stream",
       "stream": "stdout",
       "text": [
        "\n",
        "1.,Al Nichols,LS1,NL,1877,25,6,19,0,0,0,0,0,0,.000,0.0%,0.0%,0.0%,0.0%,0.0%,0,\n",
        "\n",
        "year1878"
       ]
      },
      {
       "output_type": "stream",
       "stream": "stdout",
       "text": [
        "\n",
        "1.,Abner Dalrymple,ML2,NL,1878,20,61,277,0,0,0,0,0,0,.000,0.0%,0.0%,0.0%,0.0%,0.0%,0,\n",
        "\n",
        "year1879"
       ]
      },
      {
       "output_type": "stream",
       "stream": "stdout",
       "text": [
        "\n",
        "1.,Aaron Clapp,TRN,NL,1879,22,36,152,0,0,0,0,0,0,.000,0.0%,0.0%,0.0%,0.0%,0.0%,0,\n",
        "\n",
        "year1880"
       ]
      },
      {
       "output_type": "stream",
       "stream": "stdout",
       "text": [
        "\n",
        "1.,Abner Dalrymple,CHN,NL,1880,22,86,385,0,0,0,0,0,0,.000,0.0%,0.0%,0.0%,0.0%,0.0%,0,\n",
        "\n",
        "year1881"
       ]
      },
      {
       "output_type": "stream",
       "stream": "stdout",
       "text": [
        "\n",
        "1.,Abner Dalrymple,CHN,NL,1881,23,82,377,0,0,0,0,0,0,.000,0.0%,0.0%,0.0%,0.0%,0.0%,0,\n",
        "\n",
        "year1882"
       ]
      },
      {
       "output_type": "stream",
       "stream": "stdout",
       "text": [
        "\n",
        "1.,Abner Dalrymple,CHN,NL,1882,24,84,411,0,0,0,0,0,0,.000,0.0%,0.0%,0.0%,0.0%,0.0%,0,\n",
        "\n",
        "year1883"
       ]
      },
      {
       "output_type": "stream",
       "stream": "stdout",
       "text": [
        "\n",
        "1.,Abe Wolstenholme,PHI,NL,1883,22,3,11,0,0,0,0,0,0,.000,0.0%,0.0%,0.0%,0.0%,0.0%,0,\n",
        "\n",
        "year1884"
       ]
      },
      {
       "output_type": "stream",
       "stream": "stdout",
       "text": [
        "\n",
        "1., Franklin\u00e2\u0094\u0090,WSU,UA,1884,0,1,3,0,0,0,0,0,0,.000,0.0%,0.0%,0.0%,0.0%,0.0%,0,\n",
        "\n",
        "year1885"
       ]
      },
      {
       "output_type": "stream",
       "stream": "stdout",
       "text": [
        "\n",
        "1., Jones\u00e2\u0094\u0090,NY4,AA,1885,0,1,4,0,0,0,0,0,0,.000,0.0%,0.0%,0.0%,0.0%,0.0%,0,\n",
        "\n",
        "year1886"
       ]
      },
      {
       "output_type": "stream",
       "stream": "stdout",
       "text": [
        "\n",
        "1., Joyce\u00e2\u0094\u0090,WS8,NL,1886,39,1,0,0,0,0,0,0,0,.000,0.0%,0.0%,0.0%,0.0%,0.0%,0,\n",
        "\n",
        "year1887"
       ]
      },
      {
       "output_type": "stream",
       "stream": "stdout",
       "text": [
        "\n",
        "1.,Abner Dalrymple,PIT,NL,1887,29,92,409,0,0,0,0,0,0,.000,0.0%,0.0%,0.0%,0.0%,0.0%,0,\n",
        "\n",
        "year1888"
       ]
      },
      {
       "output_type": "stream",
       "stream": "stdout",
       "text": [
        "\n",
        "1.,Abner Dalrymple,PIT,NL,1888,30,57,235,0,0,0,0,0,0,.000,0.0%,0.0%,0.0%,0.0%,0.0%,0,\n",
        "\n",
        "year1889"
       ]
      },
      {
       "output_type": "stream",
       "stream": "stdout",
       "text": [
        "\n",
        "1.,Ad Gumbert,CHN,NL,1889,20,41,165,0,0,0,0,0,0,.000,0.0%,0.0%,0.0%,0.0%,0.0%,0,\n",
        "\n",
        "year1890"
       ]
      },
      {
       "output_type": "stream",
       "stream": "stdout",
       "text": [
        "\n",
        "1.,Ad Gumbert,BSP,PL,1890,21,44,165,0,0,0,0,0,0,.000,0.0%,0.0%,0.0%,0.0%,0.0%,0,\n",
        "\n",
        "year1891"
       ]
      },
      {
       "output_type": "stream",
       "stream": "stdout",
       "text": [
        "\n",
        "1.,Abner Dalrymple,ML3,AA,1891,33,32,142,0,0,0,0,0,0,.000,0.0%,0.0%,0.0%,0.0%,0.0%,0,\n",
        "\n",
        "year1892"
       ]
      },
      {
       "output_type": "stream",
       "stream": "stdout",
       "text": [
        "\n",
        "1., Collins\u00e2\u0094\u0090,SLN,NL,1892,0,1,2,0,0,0,0,0,0,.000,0.0%,0.0%,0.0%,0.0%,0.0%,0,\n",
        "\n",
        "year1893"
       ]
      },
      {
       "output_type": "stream",
       "stream": "stdout",
       "text": [
        "\n",
        "1., Kinsler\u00e2\u0094\u0090,NY1,NL,1893,25,1,4,0,0,0,0,0,0,.000,0.0%,0.0%,0.0%,0.0%,0.0%,0,\n",
        "\n",
        "year1894"
       ]
      },
      {
       "output_type": "stream",
       "stream": "stdout",
       "text": [
        "\n",
        "1.,Ad Gumbert,PIT,NL,1894,25,39,123,0,0,0,0,0,0,.000,0.0%,0.0%,0.0%,0.0%,0.0%,0,\n",
        "\n",
        "year1895"
       ]
      },
      {
       "output_type": "stream",
       "stream": "stdout",
       "text": [
        "\n",
        "1.,Ace Stewart,CHN,NL,1895,26,97,408,0,0,0,0,0,0,.000,0.0%,0.0%,0.0%,0.0%,0.0%,0,\n",
        "\n",
        "year1896"
       ]
      },
      {
       "output_type": "stream",
       "stream": "stdout",
       "text": [
        "\n",
        "1.,Abbie Johnson,LS3,NL,1896,25,25,93,0,0,0,0,0,0,.000,0.0%,0.0%,0.0%,0.0%,0.0%,0,\n",
        "\n",
        "year1897"
       ]
      },
      {
       "output_type": "stream",
       "stream": "stdout",
       "text": [
        "\n",
        "1.,Abbie Johnson,LS3,NL,1897,26,49,180,0,0,0,0,0,0,.000,0.0%,0.0%,0.0%,0.0%,0.0%,0,\n",
        "\n",
        "year1898"
       ]
      },
      {
       "output_type": "stream",
       "stream": "stdout",
       "text": [
        "\n",
        "1.,Al Maul,BLN,NL,1898,32,29,112,0,0,0,0,0,0,.000,0.0%,0.0%,0.0%,0.0%,0.0%,0,\n",
        "\n",
        "year1899"
       ]
      },
      {
       "output_type": "stream",
       "stream": "stdout",
       "text": [
        "\n",
        "1.,Al Maul,BRO,NL,1899,33,4,12,0,0,0,0,0,0,.000,0.0%,0.0%,0.0%,0.0%,0.0%,0,\n",
        "\n",
        "year1900"
       ]
      },
      {
       "output_type": "stream",
       "stream": "stdout",
       "text": [
        "\n",
        "1.,Al Maul,PHI,NL,1900,34,5,17,0,0,0,0,0,0,.000,0.0%,0.0%,0.0%,0.0%,0.0%,0,\n",
        "\n",
        "year1901"
       ]
      },
      {
       "output_type": "stream",
       "stream": "stdout",
       "text": [
        "\n",
        "1.,Al Maul,NY1,NL,1901,35,3,8,0,0,0,0,0,0,.000,0.0%,0.0%,0.0%,0.0%,0.0%,0,\n",
        "\n",
        "year1902"
       ]
      },
      {
       "output_type": "stream",
       "stream": "stdout",
       "text": [
        "\n",
        "1.,Addie Joss,CLE,AL,1902,22,33,115,0,0,0,0,0,0,.000,0.0%,0.0%,0.0%,0.0%,0.0%,0,\n",
        "\n",
        "year1903"
       ]
      },
      {
       "output_type": "stream",
       "stream": "stdout",
       "text": [
        "\n",
        "1.,Addie Joss,CLE,AL,1903,23,34,116,0,0,0,0,0,0,.000,0.0%,0.0%,0.0%,0.0%,0.0%,0,\n",
        "\n",
        "year1904"
       ]
      },
      {
       "output_type": "stream",
       "stream": "stdout",
       "text": [
        "\n",
        "1.,Addie Joss,CLE,AL,1904,24,28,80,0,0,0,0,0,0,.000,0.0%,0.0%,0.0%,0.0%,0.0%,0,\n",
        "\n",
        "year1905"
       ]
      },
      {
       "output_type": "stream",
       "stream": "stdout",
       "text": [
        "\n",
        "1.,Ad Yale,BRO,NL,1905,35,4,14,0,0,0,0,0,0,.000,0.0%,0.0%,0.0%,0.0%,0.0%,0,\n",
        "\n",
        "year1906"
       ]
      },
      {
       "output_type": "stream",
       "stream": "stdout",
       "text": [
        "\n",
        "1.,Addie Joss,CLE,AL,1906,26,36,118,0,0,0,0,0,0,.000,0.0%,0.0%,0.0%,0.0%,0.0%,0,\n",
        "\n",
        "year1907"
       ]
      },
      {
       "output_type": "stream",
       "stream": "stdout",
       "text": [
        "\n",
        "1.,Addie Joss,CLE,AL,1907,27,42,127,0,0,0,0,0,0,.000,0.0%,0.0%,0.0%,0.0%,0.0%,0,\n",
        "\n",
        "year1908"
       ]
      },
      {
       "output_type": "stream",
       "stream": "stdout",
       "text": [
        "\n",
        "1.,Abe Kruger,BRO,NL,1908,23,2,2,0,0,0,0,0,0,.000,0.0%,0.0%,0.0%,0.0%,0.0%,0,\n",
        "\n",
        "year1909"
       ]
      },
      {
       "output_type": "stream",
       "stream": "stdout",
       "text": [
        "\n",
        "1.,Addie Joss,CLE,AL,1909,29,33,86,0,0,0,0,0,0,.000,0.0%,0.0%,0.0%,0.0%,0.0%,0,\n",
        "\n",
        "year1910"
       ]
      },
      {
       "output_type": "stream",
       "stream": "stdout",
       "text": [
        "\n",
        "1.,Ad Brennan,PHI,NL,1910,22,21,28,0,0,0,0,0,0,.000,0.0%,0.0%,0.0%,0.0%,0.0%,0,\n",
        "\n",
        "year1911"
       ]
      },
      {
       "output_type": "stream",
       "stream": "stdout",
       "text": [
        "\n",
        "1.,Ad Brennan,PHI,NL,1911,23,5,10,0,0,0,0,0,0,.000,0.0%,0.0%,0.0%,0.0%,0.0%,0,\n",
        "\n",
        "year1912"
       ]
      },
      {
       "output_type": "stream",
       "stream": "stdout",
       "text": [
        "\n",
        "1.,Ad Brennan,PHI,NL,1912,24,27,66,0,0,0,0,0,0,.000,0.0%,0.0%,0.0%,0.0%,0.0%,0,\n",
        "\n",
        "year1913"
       ]
      },
      {
       "output_type": "stream",
       "stream": "stdout",
       "text": [
        "\n",
        "1.,Ad Brennan,PHI,NL,1913,25,40,71,0,0,0,0,0,0,.000,0.0%,0.0%,0.0%,0.0%,0.0%,0,\n",
        "\n",
        "year1914"
       ]
      },
      {
       "output_type": "stream",
       "stream": "stdout",
       "text": [
        "\n",
        "1.,Abe Bowman,CLE,AL,1914,21,22,21,0,0,0,0,0,0,.000,0.0%,0.0%,0.0%,0.0%,0.0%,0,\n",
        "\n",
        "year1915"
       ]
      },
      {
       "output_type": "stream",
       "stream": "stdout",
       "text": [
        "\n",
        "1.,Abe Bowman,CLE,AL,1915,22,2,0,0,0,0,0,0,0,.000,0.0%,0.0%,0.0%,0.0%,0.0%,0,\n",
        "\n",
        "year1916"
       ]
      },
      {
       "output_type": "stream",
       "stream": "stdout",
       "text": [
        "\n",
        "1.,Al Bergman,CLE,AL,1916,26,8,16,0,0,0,0,0,0,.000,0.0%,0.0%,0.0%,0.0%,0.0%,0,\n",
        "\n",
        "year1917"
       ]
      },
      {
       "output_type": "stream",
       "stream": "stdout",
       "text": [
        "\n",
        "1.,Aaron Ward,NYA,AL,1917,20,8,27,0,0,0,0,0,0,.000,0.0%,0.0%,0.0%,0.0%,0.0%,0,\n",
        "\n",
        "year1918"
       ]
      },
      {
       "output_type": "stream",
       "stream": "stdout",
       "text": [
        "\n",
        "1.,Aaron Ward,NYA,AL,1918,21,20,36,0,0,0,0,0,0,.000,0.0%,0.0%,0.0%,0.0%,0.0%,0,\n",
        "\n",
        "year1919"
       ]
      },
      {
       "output_type": "stream",
       "stream": "stdout",
       "text": [
        "\n",
        "1.,Aaron Ward,NYA,AL,1919,22,27,40,0,0,0,0,0,0,.000,0.0%,0.0%,0.0%,0.0%,0.0%,0,\n",
        "\n",
        "year1920"
       ]
      },
      {
       "output_type": "stream",
       "stream": "stdout",
       "text": [
        "\n",
        "1.,Aaron Ward,NYA,AL,1920,23,127,547,0,0,0,0,0,0,.000,0.0%,0.0%,0.0%,0.0%,0.0%,0,\n",
        "\n",
        "year1921"
       ]
      },
      {
       "output_type": "stream",
       "stream": "stdout",
       "text": [
        "\n",
        "1.,Aaron Ward,NYA,AL,1921,24,153,635,0,0,0,0,0,0,.000,0.0%,0.0%,0.0%,0.0%,0.0%,0,\n",
        "\n",
        "year1922"
       ]
      },
      {
       "output_type": "stream",
       "stream": "stdout",
       "text": [
        "\n",
        "1.,Aaron Ward,NYA,AL,1922,25,154,641,0,0,0,0,0,0,.000,0.0%,0.0%,0.0%,0.0%,0.0%,0,\n",
        "\n",
        "year1923"
       ]
      },
      {
       "output_type": "stream",
       "stream": "stdout",
       "text": [
        "\n",
        "1.,Aaron Ward,NYA,AL,1923,26,152,640,0,0,0,0,0,0,.000,0.0%,0.0%,0.0%,0.0%,0.0%,0,\n",
        "\n",
        "year1924"
       ]
      },
      {
       "output_type": "stream",
       "stream": "stdout",
       "text": [
        "\n",
        "1.,Aaron Ward,NYA,AL,1924,27,120,465,0,0,0,0,0,0,.000,0.0%,0.0%,0.0%,0.0%,0.0%,0,\n",
        "\n",
        "year1925"
       ]
      },
      {
       "output_type": "stream",
       "stream": "stdout",
       "text": [
        "\n",
        "1.,Aaron Ward,NYA,AL,1925,28,125,500,0,0,0,0,0,0,.000,0.0%,0.0%,0.0%,0.0%,0.0%,0,\n",
        "\n",
        "year1926"
       ]
      },
      {
       "output_type": "stream",
       "stream": "stdout",
       "text": [
        "\n",
        "1.,Aaron Ward,NYA,AL,1926,29,22,34,0,0,0,0,0,0,.000,0.0%,0.0%,0.0%,0.0%,0.0%,0,\n",
        "\n",
        "year1927"
       ]
      },
      {
       "output_type": "stream",
       "stream": "stdout",
       "text": [
        "\n",
        "1.,Aaron Ward,CHA,AL,1927,30,145,551,0,0,0,0,0,0,.000,0.0%,0.0%,0.0%,0.0%,0.0%,0,\n",
        "\n",
        "year1928"
       ]
      },
      {
       "output_type": "stream",
       "stream": "stdout",
       "text": [
        "\n",
        "1.,Aaron Ward,CLE,AL,1928,31,6,11,0,0,0,0,0,0,.000,0.0%,0.0%,0.0%,0.0%,0.0%,0,\n",
        "\n",
        "year1929"
       ]
      },
      {
       "output_type": "stream",
       "stream": "stdout",
       "text": [
        "\n",
        "1.,Ad Liska,WS1,AL,1929,22,24,32,0,0,0,0,0,0,.000,0.0%,0.0%,0.0%,0.0%,0.0%,0,\n",
        "\n",
        "year1930"
       ]
      },
      {
       "output_type": "stream",
       "stream": "stdout",
       "text": [
        "\n",
        "1.,Ad Liska,WS1,AL,1930,23,32,62,0,0,0,0,0,0,.000,0.0%,0.0%,0.0%,0.0%,0.0%,0,\n",
        "\n",
        "year1931"
       ]
      },
      {
       "output_type": "stream",
       "stream": "stdout",
       "text": [
        "\n",
        "1.,Ad Liska,WS1,AL,1931,24,2,1,0,0,0,0,0,0,.000,0.0%,0.0%,0.0%,0.0%,0.0%,0,\n",
        "\n",
        "year1932"
       ]
      },
      {
       "output_type": "stream",
       "stream": "stdout",
       "text": [
        "\n",
        "1.,Ad Liska,PHI,NL,1932,25,8,7,0,0,0,0,0,0,.000,0.0%,0.0%,0.0%,0.0%,0.0%,0,\n",
        "\n",
        "year1933"
       ]
      },
      {
       "output_type": "stream",
       "stream": "stdout",
       "text": [
        "\n",
        "1.,Ad Liska,PHI,NL,1933,26,47,14,0,0,0,0,0,0,.000,0.0%,0.0%,0.0%,0.0%,0.0%,0,\n",
        "\n",
        "year1934"
       ]
      },
      {
       "output_type": "stream",
       "stream": "stdout",
       "text": [
        "\n",
        "1.,Adam Comorosky,CIN,NL,1934,28,127,491,0,0,0,0,0,0,.000,0.0%,0.0%,0.0%,0.0%,0.0%,0,\n",
        "\n",
        "year1935"
       ]
      },
      {
       "output_type": "stream",
       "stream": "stdout",
       "text": [
        "\n",
        "1.,Ab Wright,CLE,AL,1935,28,67,177,0,0,0,0,0,0,.000,0.0%,0.0%,0.0%,0.0%,0.0%,0,\n",
        "\n",
        "year1936"
       ]
      },
      {
       "output_type": "stream",
       "stream": "stdout",
       "text": [
        "\n",
        "1.,Al Blanche,BSN,NL,1936,26,11,4,0,0,0,0,0,0,.000,0.0%,0.0%,0.0%,0.0%,0.0%,0,\n",
        "\n",
        "year1937"
       ]
      },
      {
       "output_type": "stream",
       "stream": "stdout",
       "text": [
        "\n",
        "1.,Abe White,SLN,NL,1937,33,5,1,0,0,0,0,0,0,.000,0.0%,0.0%,0.0%,0.0%,0.0%,0,\n",
        "\n",
        "year1938"
       ]
      },
      {
       "output_type": "stream",
       "stream": "stdout",
       "text": [
        "\n",
        "1.,Ace Parker,PHA,AL,1938,26,56,128,0,0,0,0,0,0,.000,0.0%,0.0%,0.0%,0.0%,0.0%,0,\n",
        "\n",
        "year1939"
       ]
      },
      {
       "output_type": "stream",
       "stream": "stdout",
       "text": [
        "\n",
        "1.,Al Benton,DET,AL,1939,28,37,52,0,0,0,0,0,0,.000,0.0%,0.0%,0.0%,0.0%,0.0%,0,\n",
        "\n",
        "year1940"
       ]
      },
      {
       "output_type": "stream",
       "stream": "stdout",
       "text": [
        "\n",
        "1.,Ace Williams,BSN,NL,1940,23,5,2,0,0,0,0,0,0,.000,0.0%,0.0%,0.0%,0.0%,0.0%,0,\n",
        "\n",
        "year1941"
       ]
      },
      {
       "output_type": "stream",
       "stream": "stdout",
       "text": [
        "\n",
        "1.,Ace Adams,NY1,NL,1941,31,38,12,0,0,0,0,0,0,.000,0.0%,0.0%,0.0%,0.0%,0.0%,0,\n",
        "\n",
        "year1942"
       ]
      },
      {
       "output_type": "stream",
       "stream": "stdout",
       "text": [
        "\n",
        "1.,Ace Adams,NY1,NL,1942,32,61,10,0,0,0,0,0,0,.000,0.0%,0.0%,0.0%,0.0%,0.0%,0,\n",
        "\n",
        "year1943"
       ]
      },
      {
       "output_type": "stream",
       "stream": "stdout",
       "text": [
        "\n",
        "1.,Aaron Robinson,NYA,AL,1943,28,1,1,0,0,0,0,0,0,.000,0.0%,0.0%,0.0%,0.0%,0.0%,0,\n",
        "\n",
        "year1944"
       ]
      },
      {
       "output_type": "stream",
       "stream": "stdout",
       "text": [
        "\n",
        "1.,Ab Wright,BSN,NL,1944,37,71,216,0,0,0,0,0,0,.000,0.0%,0.0%,0.0%,0.0%,0.0%,0,\n",
        "\n",
        "year1945"
       ]
      },
      {
       "output_type": "stream",
       "stream": "stdout",
       "text": [
        "\n",
        "1.,Aaron Robinson,NYA,AL,1945,30,50,183,0,0,0,0,0,0,.000,0.0%,0.0%,0.0%,0.0%,0.0%,0,\n",
        "\n",
        "year1946"
       ]
      },
      {
       "output_type": "stream",
       "stream": "stdout",
       "text": [
        "\n",
        "1.,Aaron Robinson,NYA,AL,1946,31,100,381,0,0,0,0,0,0,.000,0.0%,0.0%,0.0%,0.0%,0.0%,0,\n",
        "\n",
        "year1947"
       ]
      },
      {
       "output_type": "stream",
       "stream": "stdout",
       "text": [
        "\n",
        "1.,Aaron Robinson,NYA,AL,1947,32,82,292,0,0,0,0,0,0,.000,0.0%,0.0%,0.0%,0.0%,0.0%,0,\n",
        "\n",
        "year1948"
       ]
      },
      {
       "output_type": "stream",
       "stream": "stdout",
       "text": [
        "\n",
        "1.,Aaron Robinson,CHA,AL,1948,33,98,373,0,0,0,0,0,0,.000,0.0%,0.0%,0.0%,0.0%,0.0%,0,\n",
        "\n",
        "year1949"
       ]
      },
      {
       "output_type": "stream",
       "stream": "stdout",
       "text": [
        "\n",
        "1.,Aaron Robinson,DET,AL,1949,34,110,411,0,0,0,0,0,0,.000,0.0%,0.0%,0.0%,0.0%,0.0%,0,\n",
        "\n",
        "year1950"
       ]
      },
      {
       "output_type": "stream",
       "stream": "stdout",
       "text": [
        "\n",
        "1.,Aaron Robinson,DET,AL,1950,35,107,358,154,83,56,8,7,0,.000,6.2%,53.9%,36.4%,5.2%,4.5%,0,\n",
        "\n",
        "year1951"
       ]
      },
      {
       "output_type": "stream",
       "stream": "stdout",
       "text": [
        "\n",
        "1.,Aaron Robinson,DET,AL,1951,36,36,99,47,25,20,2,0,1,.000,25.0%,53.2%,42.6%,4.3%,0.0%,0,\n",
        "\n",
        "year1952"
       ]
      },
      {
       "output_type": "stream",
       "stream": "stdout",
       "text": [
        "\n",
        "1.,Al Benton,BOS,AL,1952,41,24,11,6,2,4,0,0,4,.000,40.0%,33.3%,66.7%,0.0%,0.0%,0,\n",
        "\n",
        "year1953"
       ]
      },
      {
       "output_type": "stream",
       "stream": "stdout",
       "text": [
        "\n",
        "1.,Al Aber,CLE,AL,1953,25,6,2,0,0,0,0,0,0,.000,0.0%,0.0%,0.0%,0.0%,0.0%,0,\n",
        "\n",
        "year1954"
       ]
      },
      {
       "output_type": "stream",
       "stream": "stdout",
       "text": [
        "\n",
        "1.,Al Aber,DET,AL,1954,26,32,45,21,1,17,2,1,4,.217,12.5%,4.8%,81.0%,9.5%,4.8%,0,\n",
        "\n",
        "year1955"
       ]
      },
      {
       "output_type": "stream",
       "stream": "stdout",
       "text": [
        "\n",
        "1.,Al Aber,DET,AL,1955,27,39,19,9,0,9,0,0,2,.125,25.0%,0.0%,100.0%,0.0%,0.0%,0,\n",
        "\n",
        "year1956"
       ]
      },
      {
       "output_type": "stream",
       "stream": "stdout",
       "text": [
        "\n",
        "1.,Al Aber,DET,AL,1956,28,42,13,5,1,4,0,0,2,.500,0.0%,20.0%,80.0%,0.0%,0.0%,0,\n",
        "\n",
        "year1957"
       ]
      },
      {
       "output_type": "stream",
       "stream": "stdout",
       "text": [
        "\n",
        "1.,Al Aber,DET,AL,1957,29,28,9,3,0,2,1,0,2,.250,0.0%,0.0%,66.7%,33.3%,0.0%,0,\n",
        "\n",
        "year1958"
       ]
      },
      {
       "output_type": "stream",
       "stream": "stdout",
       "text": [
        "\n",
        "1.,Al Cicotte,DET,AL,1958,28,15,17,9,2,6,1,0,0,.250,0.0%,22.2%,66.7%,11.1%,0.0%,0,\n",
        "\n",
        "year1959"
       ]
      },
      {
       "output_type": "stream",
       "stream": "stdout",
       "text": [
        "\n",
        "1.,Al Cicotte,CLE,AL,1959,29,26,5,2,0,2,0,0,1,.500,0.0%,0.0%,100.0%,0.0%,0.0%,0,\n",
        "\n",
        "year1960"
       ]
      },
      {
       "output_type": "stream",
       "stream": "stdout",
       "text": [
        "\n",
        "1.,Al Heist,CHN,NL,1960,32,41,113,67,27,29,9,2,1,.303,13.3%,40.3%,43.3%,13.4%,3.0%,0,\n",
        "\n",
        "year1961"
       ]
      },
      {
       "output_type": "stream",
       "stream": "stdout",
       "text": [
        "\n",
        "1.,Al Cicotte,SLN,NL,1961,31,29,21,10,2,5,1,2,0,.400,0.0%,20.0%,50.0%,10.0%,20.0%,0,\n",
        "\n",
        "year1962"
       ]
      },
      {
       "output_type": "stream",
       "stream": "stdout",
       "text": [
        "\n",
        "1.,Al Cicotte,HOU,NL,1962,32,5,0,0,0,0,0,0,0,.000,0.0%,0.0%,0.0%,0.0%,0.0%,0,\n",
        "\n",
        "year1963"
       ]
      },
      {
       "output_type": "stream",
       "stream": "stdout",
       "text": [
        "\n",
        "1.,Aaron Pointer,HOU,NL,1963,21,2,5,3,0,1,1,1,0,.250,0.0%,0.0%,33.3%,33.3%,33.3%,0,\n",
        "\n",
        "year1964"
       ]
      },
      {
       "output_type": "stream",
       "stream": "stdout",
       "text": [
        "\n",
        "1.,Adolfo Phillips,PHI,NL,1964,22,13,17,8,4,4,0,0,1,.300,0.0%,50.0%,50.0%,0.0%,0.0%,0,\n",
        "\n",
        "year1965"
       ]
      },
      {
       "output_type": "stream",
       "stream": "stdout",
       "text": [
        "\n",
        "1.,Adolfo Phillips,PHI,NL,1965,23,41,93,38,9,22,5,2,1,.340,0.0%,23.7%,57.9%,13.2%,5.3%,0,\n",
        "\n",
        "year1966"
       ]
      },
      {
       "output_type": "stream",
       "stream": "stdout",
       "text": [
        "\n",
        "1.,Aaron Pointer,HOU,NL,1966,24,11,32,11,4,5,1,1,0,.421,0.0%,36.4%,45.5%,9.1%,9.1%,0,\n",
        "\n",
        "year1967"
       ]
      },
      {
       "output_type": "stream",
       "stream": "stdout",
       "text": [
        "\n",
        "1.,Aaron Pointer,HOU,NL,1967,25,27,87,32,13,17,1,1,1,.222,5.0%,40.6%,53.1%,3.1%,3.1%,0,\n",
        "\n",
        "year1968"
       ]
      },
      {
       "output_type": "stream",
       "stream": "stdout",
       "text": [
        "\n",
        "1.,Adolfo Phillips,CHN,NL,1968,26,143,497,263,80,136,13,35,12,.275,9.3%,30.4%,51.7%,4.9%,13.3%,6,\n",
        "\n",
        "year1969"
       ]
      },
      {
       "output_type": "stream",
       "stream": "stdout",
       "text": [
        "\n",
        "1.,Adolfo Phillips,CHN,NL,1969,27,28,66,24,8,12,0,5,1,.324,15.4%,33.3%,50.0%,0.0%,20.8%,0,\n",
        "\n",
        "year1970"
       ]
      },
      {
       "output_type": "stream",
       "stream": "stdout",
       "text": [
        "\n",
        "1.,Adolfo Phillips,MON,NL,1970,28,92,254,116,45,46,7,18,1,.285,8.9%,38.8%,39.7%,6.0%,15.5%,0,\n",
        "\n",
        "year1971"
       ]
      },
      {
       "output_type": "stream",
       "stream": "stdout",
       "text": [
        "\n",
        "1.,Adrian Garrett,OAK,AL,1971,28,14,26,11,5,6,0,0,0,.154,0.0%,45.5%,54.5%,0.0%,0.0%,0,\n",
        "\n",
        "year1972"
       ]
      },
      {
       "output_type": "stream",
       "stream": "stdout",
       "text": [
        "\n",
        "1.,Adolfo Phillips,CLE,AL,1972,30,12,9,5,3,2,0,0,0,.000,0.0%,60.0%,40.0%,0.0%,0.0%,0,\n",
        "\n",
        "year1973"
       ]
      },
      {
       "output_type": "stream",
       "stream": "stdout",
       "text": [
        "\n",
        "1.,Adrian Devine,ATL,NL,1973,21,24,5,0,0,0,0,0,0,1.000,0.0%,0.0%,0.0%,0.0%,0.0%,0,\n",
        "\n",
        "year1974"
       ]
      },
      {
       "output_type": "stream",
       "stream": "stdout",
       "text": [
        "\n",
        "1.,Adrian Garrett,CHN,NL,1974,31,10,9,7,2,5,0,0,0,.000,100.0%,28.6%,71.4%,0.0%,0.0%,0,\n",
        "\n",
        "year1975"
       ]
      },
      {
       "output_type": "stream",
       "stream": "stdout",
       "text": [
        "\n",
        "1.,Adrian Devine,ATL,NL,1975,23,5,5,3,0,3,0,0,0,.000,0.0%,0.0%,100.0%,0.0%,0.0%,0,\n",
        "\n",
        "year1976"
       ]
      },
      {
       "output_type": "stream",
       "stream": "stdout",
       "text": [
        "\n",
        "1.,Adrian Devine,ATL,NL,1976,24,48,16,13,3,9,0,1,4,.000,0.0%,23.1%,69.2%,0.0%,7.7%,0,\n",
        "\n",
        "year1977"
       ]
      },
      {
       "output_type": "stream",
       "stream": "stdout",
       "text": [
        "\n",
        "1.,Adrian Devine,TEX,AL,1977,25,56,0,0,0,0,0,0,0,.000,0.0%,0.0%,0.0%,0.0%,0.0%,0,\n",
        "\n",
        "year1978"
       ]
      },
      {
       "output_type": "stream",
       "stream": "stdout",
       "text": [
        "\n",
        "1.,Adrian Devine,ATL,NL,1978,26,31,12,9,2,6,1,0,1,.111,0.0%,22.2%,66.7%,11.1%,0.0%,0,\n",
        "\n",
        "year1979"
       ]
      },
      {
       "output_type": "stream",
       "stream": "stdout",
       "text": [
        "\n",
        "1.,Adrian Devine,ATL,NL,1979,27,40,7,2,1,1,0,0,0,.000,0.0%,50.0%,50.0%,0.0%,0.0%,0,\n",
        "\n",
        "year1980"
       ]
      },
      {
       "output_type": "stream",
       "stream": "stdout",
       "text": [
        "\n",
        "1.,Adrian Devine,TEX,AL,1980,28,13,0,0,0,0,0,0,0,.000,0.0%,0.0%,0.0%,0.0%,0.0%,0,\n",
        "\n",
        "year1981"
       ]
      },
      {
       "output_type": "stream",
       "stream": "stdout",
       "text": [
        "\n",
        "1.,Al Bumbry,BAL,AL,1981,34,101,451,252,74,163,10,5,21,.310,7.1%,29.4%,64.7%,4.0%,2.0%,11,\n",
        "\n",
        "year1982"
       ]
      },
      {
       "output_type": "stream",
       "stream": "stdout",
       "text": [
        "\n",
        "1.,Al Bumbry,BAL,AL,1982,35,150,618,361,134,208,17,3,16,.295,12.8%,37.1%,57.6%,4.7%,0.8%,3,\n",
        "\n",
        "year1983"
       ]
      },
      {
       "output_type": "stream",
       "stream": "stdout",
       "text": [
        "\n",
        "1.,Al Bumbry,BAL,AL,1983,36,124,416,252,78,146,17,11,7,.293,1.6%,31.0%,57.9%,6.7%,4.4%,2,\n",
        "\n",
        "year1984"
       ]
      },
      {
       "output_type": "stream",
       "stream": "stdout",
       "text": [
        "\n",
        "1.,Al Bumbry,BAL,AL,1984,37,119,374,222,96,126,0,0,2,.291,21.2%,43.2%,56.8%,0.0%,0.0%,0,\n",
        "\n",
        "year1985"
       ]
      },
      {
       "output_type": "stream",
       "stream": "stdout",
       "text": [
        "\n",
        "1.,Al Bumbry,SDN,NL,1985,38,68,103,68,28,39,0,1,1,.212,20.0%,41.2%,57.4%,0.0%,1.5%,0,\n",
        "\n",
        "year1986"
       ]
      },
      {
       "output_type": "stream",
       "stream": "stdout",
       "text": [
        "\n",
        "1.,Al Cowens,SEA,AL,1986,34,28,87,59,20,31,8,0,1,.231,18.8%,33.9%,52.5%,13.6%,0.0%,0,\n",
        "\n",
        "year1987"
       ]
      },
      {
       "output_type": "stream",
       "stream": "stdout",
       "text": [
        "\n",
        "1.,Adam Peterson,CHA,AL,1987,21,1,0,0,0,0,0,0,0,.000,0.0%,0.0%,0.0%,0.0%,0.0%,0,\n",
        "\n",
        "year1988"
       ]
      },
      {
       "output_type": "stream",
       "stream": "stdout",
       "text": [
        "\n",
        "1.,Adam Peterson,CHA,AL,1988,22,2,0,0,0,0,0,0,0,.000,0.0%,0.0%,0.0%,0.0%,0.0%,0,\n",
        "\n",
        "year1989"
       ]
      },
      {
       "output_type": "stream",
       "stream": "stdout",
       "text": [
        "\n",
        "1.,Adam Peterson,CHA,AL,1989,23,3,0,0,0,0,0,0,0,.000,0.0%,0.0%,0.0%,0.0%,0.0%,0,\n",
        "\n",
        "year1990"
       ]
      },
      {
       "output_type": "stream",
       "stream": "stdout",
       "text": [
        "\n",
        "1.,Adam Peterson,CHA,AL,1990,24,20,0,0,0,0,0,0,0,.000,0.0%,0.0%,0.0%,0.0%,0.0%,0,\n",
        "\n",
        "year1991"
       ]
      },
      {
       "output_type": "stream",
       "stream": "stdout",
       "text": [
        "\n",
        "1.,Adam Peterson,SDN,NL,1991,25,13,16,5,0,4,0,1,1,.000,0.0%,0.0%,80.0%,0.0%,20.0%,0,\n",
        "\n",
        "year1992"
       ]
      },
      {
       "output_type": "stream",
       "stream": "stdout",
       "text": [
        "\n",
        "1.,Al Leiter,TOR,AL,1992,26,1,0,0,0,0,0,0,0,.000,0.0%,0.0%,0.0%,0.0%,0.0%,0,\n",
        "\n",
        "year1993"
       ]
      },
      {
       "output_type": "stream",
       "stream": "stdout",
       "text": [
        "\n",
        "1.,Aaron Sele,BOS,AL,1993,23,18,0,0,0,0,0,0,0,.000,0.0%,0.0%,0.0%,0.0%,0.0%,0,\n",
        "\n",
        "year1994"
       ]
      },
      {
       "output_type": "stream",
       "stream": "stdout",
       "text": [
        "\n",
        "1.,A. J. Sager,SDN,NL,1994,29,22,11,6,1,3,0,2,2,.200,0.0%,16.7%,50.0%,0.0%,33.3%,0,\n",
        "\n",
        "year1995"
       ]
      },
      {
       "output_type": "stream",
       "stream": "stdout",
       "text": [
        "\n",
        "1.,A. J. Sager,COL,NL,1995,30,10,3,2,1,1,0,0,0,.000,0.0%,50.0%,50.0%,0.0%,0.0%,0,\n",
        "\n",
        "year1996"
       ]
      },
      {
       "output_type": "stream",
       "stream": "stdout",
       "text": [
        "\n",
        "1.,A. J. Sager,DET,AL,1996,31,22,0,0,0,0,0,0,0,.000,0.0%,0.0%,0.0%,0.0%,0.0%,0,\n",
        "\n",
        "year1997"
       ]
      },
      {
       "output_type": "stream",
       "stream": "stdout",
       "text": [
        "\n",
        "1.,A. J. Sager,DET,AL,1997,32,38,0,0,0,0,0,0,0,.000,0.0%,0.0%,0.0%,0.0%,0.0%,0,\n",
        "\n",
        "year1998"
       ]
      },
      {
       "output_type": "stream",
       "stream": "stdout",
       "text": [
        "\n",
        "1.,A. J. Sager,DET,AL,1998,33,31,1,1,0,1,0,0,0,.000,0.0%,0.0%,100.0%,0.0%,0.0%,0,\n",
        "\n",
        "year1999"
       ]
      },
      {
       "output_type": "stream",
       "stream": "stdout",
       "text": [
        "\n",
        "1.,A.j. Burnett,FLO,NL,1999,22,7,17,7,3,4,0,0,0,.286,0.0%,42.9%,57.1%,0.0%,0.0%,0,\n",
        "\n",
        "year2000"
       ]
      },
      {
       "output_type": "stream",
       "stream": "stdout",
       "text": [
        "\n",
        "1.,A.j. Burnett,FLO,NL,2000,23,13,30,10,3,6,0,1,3,.429,0.0%,30.0%,60.0%,0.0%,10.0%,0,\n",
        "\n",
        "year2001"
       ]
      },
      {
       "output_type": "stream",
       "stream": "stdout",
       "text": [
        "\n",
        "1.,A.j. Burnett,FLO,NL,2001,24,27,59,26,8,15,1,3,8,.174,0.0%,30.8%,57.7%,3.8%,11.5%,0,\n",
        "\n",
        "year2002"
       ]
      },
      {
       "output_type": "stream",
       "stream": "stdout",
       "text": [
        "\n",
        "1.,A.j. Burnett,FLO,NL,2002,25,31,69,30,6,19,2,3,8,.179,7.7%,20.0%,63.3%,6.7%,10.0%,0,\n",
        "\n",
        "year2003"
       ]
      },
      {
       "output_type": "stream",
       "stream": "stdout",
       "text": [
        "\n",
        "1.,A.j. Burnett,FLO,NL,2003,26,4,9,4,1,2,1,0,0,.250,0.0%,25.0%,50.0%,25.0%,0.0%,0,\n",
        "\n",
        "year2004"
       ]
      },
      {
       "output_type": "stream",
       "stream": "stdout",
       "text": [
        "\n",
        "1.,A.j. Burnett,FLO,NL,2004,27,20,37,26,4,19,3,2,11,.222,8.3%,15.4%,73.1%,11.5%,7.7%,0,\n",
        "\n",
        "year2005"
       ]
      },
      {
       "output_type": "stream",
       "stream": "stdout",
       "text": [
        "\n",
        "1.,A.j. Burnett,FLO,NL,2005,28,32,79,43,10,31,5,2,16,.273,6.3%,23.3%,72.1%,11.6%,4.7%,0,\n",
        "\n",
        "year2006"
       ]
      },
      {
       "output_type": "stream",
       "stream": "stdout",
       "text": [
        "\n",
        "1.,A.j. Burnett,TOR,AL,2006,29,21,3,2,0,1,0,1,0,.000,0.0%,0.0%,50.0%,0.0%,50.0%,0,\n",
        "\n",
        "year2007"
       ]
      },
      {
       "output_type": "stream",
       "stream": "stdout",
       "text": [
        "\n",
        "1.,A.j. Burnett,TOR,AL,2007,30,25,2,2,0,2,0,0,0,.000,0.0%,0.0%,100.0%,0.0%,0.0%,0,\n",
        "\n",
        "year2008"
       ]
      },
      {
       "output_type": "stream",
       "stream": "stdout",
       "text": [
        "\n",
        "1.,A.j. Burnett,TOR,AL,2008,31,35,4,3,0,3,0,0,1,.000,0.0%,0.0%,100.0%,0.0%,0.0%,0,\n",
        "\n",
        "year2009"
       ]
      },
      {
       "output_type": "stream",
       "stream": "stdout",
       "text": [
        "\n",
        "1.,A.j. Burnett,NYA,AL,2009,32,33,5,4,2,0,0,2,0,.250,0.0%,50.0%,0.0%,0.0%,50.0%,0,\n",
        "\n",
        "year2010"
       ]
      },
      {
       "output_type": "stream",
       "stream": "stdout",
       "text": [
        "\n",
        "1.,A.j. Burnett,NYA,AL,2010,33,33,3,2,0,2,0,0,2,.000,0.0%,0.0%,100.0%,0.0%,0.0%,0,\n",
        "\n",
        "year2011"
       ]
      },
      {
       "output_type": "stream",
       "stream": "stdout",
       "text": [
        "\n",
        "1.,A.j. Burnett,NYA,AL,2011,34,34,3,1,0,1,0,0,1,.000,0.0%,0.0%,100.0%,0.0%,0.0%,0,\n",
        "\n",
        "year2012"
       ]
      },
      {
       "output_type": "stream",
       "stream": "stdout",
       "text": [
        "\n",
        "1.,A.j. Burnett,PIT,NL,2012,35,29,71,32,0,26,4,2,11,.148,7.7%,0.0%,81.3%,12.5%,6.3%,0,\n",
        "\n",
        "year2013"
       ]
      },
      {
       "output_type": "stream",
       "stream": "stdout",
       "text": [
        "\n",
        "1.,A.j. Burnett,PIT,NL,2013,36,29,67,32,2,26,3,1,10,.154,11.8%,6.3%,81.3%,9.4%,3.1%,0,\n",
        "\n",
        "year2014"
       ]
      },
      {
       "output_type": "stream",
       "stream": "stdout",
       "text": [
        "\n",
        "1.,A.j. Burnett,PHI,NL,2014,37,30,65,39,6,24,6,3,8,.216,22.2%,15.4%,61.5%,15.4%,7.7%,0,\n",
        "\n"
       ]
      }
     ],
     "prompt_number": 1
    }
   ],
   "metadata": {}
  }
 ]
}