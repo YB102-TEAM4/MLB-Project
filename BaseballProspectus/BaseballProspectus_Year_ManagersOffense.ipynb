{
 "metadata": {
  "name": "",
  "signature": "sha256:ad8c8dd2867df8ef23a4abb05bcfce1fb76444b740f315ed6bdce2db98be28cd"
 },
 "nbformat": 3,
 "nbformat_minor": 0,
 "worksheets": [
  {
   "cells": [
    {
     "cell_type": "code",
     "collapsed": false,
     "input": [
      "#\u9996\u5148Name\u8981\u6392\u5e8f\n",
      "#\u8981\u6ce8\u610f\u7684\u5730\u65b9\u6709\u56db\u500b folder, range, year, page_limit\n",
      "import string, time, requests, os\n",
      "from bs4 import BeautifulSoup\n",
      "headers={\n",
      "    'User-Agent':'Mozilla/5.0 (Windows NT 6.1; WOW64) AppleWebKit/537.36 (KHTML, like Gecko) Chrome/40.0.2214.93 Safari/537.36'\n",
      "}\n",
      "url='http://www.baseballprospectus.com/sortable/index.php'\n",
      "\n",
      "folder='ManagersOffense'#\u8cc7\u6599\u593e\u540d\u7a31*********************\n",
      "\n",
      "path='Baseball\\\\'+folder #\u8def\u5f91\u540d\u7a31\n",
      "if os.path.exists(path):\n",
      "    print 'folder exists'\n",
      "else:    \n",
      "    os.mkdir(path)\n",
      "    print 'folder not exists'  \n",
      "    \n",
      "for year in range(1950,2015): #2015\u6c92\u7b97\u5230**************\n",
      "    payload={            \n",
      "            'mystatslist':'LG,YEAR,TEAM,MANAGER,G,PH,PH_AVG,PH_HR,PR,SB,CS,PICKOFF,PICKOFF_ERR,SBA,SB_R1,CS_R1,PO_R1,SB_R2,CS_R2,PO_R2,SB_R3,CS_R3,PO_R3,SB_PCT,SAC_ATTEMPTS,SAC_RATE,POS_SH,SQUEEZE,SWING_W_RUNNER_GOING,INPLAY_W_RUNNER_GOING,ATT_DOUBSTEAL,SUCC_DOUBSTEAL,FAIL_DOUBSTEAL',\n",
      "            'category':'managers',\n",
      "            'tablename':'dyna_managers',\n",
      "            'stage':'data',\n",
      "            'year':'%d'%(year),#*********************\n",
      "            'mystatslist':'YEAR,TEAM,MANAGER,G,PH,PH_AVG,PH_HR,PR,SB,CS,PICKOFF,PICKOFF_ERR,SBA,SB_R1,CS_R1,PO_R1,SB_R2,CS_R2,PO_R2,SB_R3,CS_R3,PO_R3,SB_PCT,SAC_ATTEMPTS,SAC_RATE,POS_SH,SQUEEZE,SWING_W_RUNNER_GOING,INPLAY_W_RUNNER_GOING,ATT_DOUBSTEAL,SUCC_DOUBSTEAL,FAIL_DOUBSTEAL',\n",
      "            'category':'managers',\n",
      "            'tablename':'dyna_managers',\n",
      "            'stage':'data',\n",
      "            'minimum':'0',\n",
      "            'sort1column':'TEAM',\n",
      "            'sort1order':'ASC',\n",
      "            'page_limit':'All',#*********************\n",
      "            'viewdata':'View Data',\n",
      "        }\n",
      "    res=requests.post(url,data=payload,headers=headers)\n",
      "    soup=BeautifulSoup(res.text.encode('utf-8'))\n",
      "    trList=soup.select('#TTdata tr')\n",
      "    fileName= str(year)+'_'+folder+'.csv'\n",
      "    fid=open(path+'\\\\'+fileName,'w')\n",
      "    for tr in trList:\n",
      "        for td in tr.select('td'):\n",
      "            fid.write(td.text.encode('utf-8')+',')\n",
      "        fid.write('\\n')\n",
      "    fid.close()\n",
      "    fod=open(path+'\\\\'+fileName,'r')\n",
      "    print 'year'+str(year)\n",
      "    print fod.readlines()[1]\n",
      "    fod.close()\n",
      "    time.sleep(2)\n"
     ],
     "language": "python",
     "metadata": {},
     "outputs": [
      {
       "output_type": "stream",
       "stream": "stdout",
       "text": [
        "folder not exists\n",
        "year1950"
       ]
      },
      {
       "output_type": "stream",
       "stream": "stdout",
       "text": [
        "\n",
        "1.,AL,1950,BOS,,132,91,.259,2,21,27,16,2,,43,25,15,1,2,1,1,0,0,0,.628,66,.924,38,1,,,2,2,0,\n",
        "\n",
        "year1951"
       ]
      },
      {
       "output_type": "stream",
       "stream": "stdout",
       "text": [
        "\n",
        "1.,AL,1951,BOS,,154,140,.176,3,41,20,25,3,,45,18,22,3,2,3,0,0,0,0,.444,77,.909,51,0,,,0,0,0,\n",
        "\n",
        "year1952"
       ]
      },
      {
       "output_type": "stream",
       "stream": "stdout",
       "text": [
        "\n",
        "1.,AL,1952,BOS,,152,143,.211,3,46,59,47,4,,106,49,38,1,7,7,3,3,2,0,.557,85,.859,65,2,,,6,6,0,\n",
        "\n",
        "year1953"
       ]
      },
      {
       "output_type": "stream",
       "stream": "stdout",
       "text": [
        "\n",
        "1.,AL,1953,BOS,,153,182,.189,7,51,33,55,5,,88,28,41,3,4,7,2,1,7,0,.375,121,.909,90,2,,,3,3,0,\n",
        "\n",
        "year1954"
       ]
      },
      {
       "output_type": "stream",
       "stream": "stdout",
       "text": [
        "\n",
        "1.,AL,1954,BAL,,153,233,.186,1,18,29,39,4,,68,26,29,3,2,10,1,1,0,0,.426,133,.887,91,4,,,2,2,0,\n",
        "\n",
        "year1955"
       ]
      },
      {
       "output_type": "stream",
       "stream": "stdout",
       "text": [
        "\n",
        "1.,AL,1955,BAL,,156,250,.252,3,59,31,50,8,,81,31,41,7,0,4,0,0,5,1,.383,81,.938,52,0,,,0,0,0,\n",
        "\n",
        "year1956"
       ]
      },
      {
       "output_type": "stream",
       "stream": "stdout",
       "text": [
        "\n",
        "1.,AL,1956,BAL,,154,222,.183,2,55,39,44,7,,83,33,40,6,2,0,0,4,4,1,.470,88,.989,65,1,,,4,4,0,\n",
        "\n",
        "year1957"
       ]
      },
      {
       "output_type": "stream",
       "stream": "stdout",
       "text": [
        "\n",
        "1.,AL,1957,BAL,,154,242,.172,1,58,57,36,1,,93,51,28,0,3,6,1,3,2,0,.613,122,.975,85,2,,,4,4,0,\n",
        "\n",
        "year1958"
       ]
      },
      {
       "output_type": "stream",
       "stream": "stdout",
       "text": [
        "\n",
        "1.,AL,1958,BAL,,154,270,.196,1,54,33,36,4,,69,31,27,3,1,3,1,1,6,0,.478,90,.867,60,0,,,1,1,0,\n",
        "\n",
        "year1959"
       ]
      },
      {
       "output_type": "stream",
       "stream": "stdout",
       "text": [
        "\n",
        "1.,AL,1959,BAL,,155,235,.262,1,53,36,32,3,,68,35,28,2,0,3,1,1,1,0,.529,129,.860,88,0,,,1,1,0,\n",
        "\n",
        "year1960"
       ]
      },
      {
       "output_type": "stream",
       "stream": "stdout",
       "text": [
        "\n",
        "1.,AL,1960,BAL,,154,268,.262,2,80,37,26,5,,63,35,23,3,1,1,2,1,2,0,.587,96,.854,51,2,,,2,2,0,\n",
        "\n",
        "year1961"
       ]
      },
      {
       "output_type": "stream",
       "stream": "stdout",
       "text": [
        "\n",
        "1.,AL,1961,BAL,,163,226,.282,4,60,39,32,14,,71,35,29,9,4,1,5,0,2,0,.549,105,.867,48,0,,,3,3,0,\n",
        "\n",
        "year1962"
       ]
      },
      {
       "output_type": "stream",
       "stream": "stdout",
       "text": [
        "\n",
        "1.,AL,1962,BAL,,162,213,.280,5,67,45,33,5,,78,38,32,5,5,1,0,2,0,0,.577,106,.868,56,4,,,3,3,0,\n",
        "\n",
        "year1963"
       ]
      },
      {
       "output_type": "stream",
       "stream": "stdout",
       "text": [
        "\n",
        "1.,AL,1963,BAL,,162,173,.247,2,47,97,34,5,,131,84,31,3,13,1,1,0,2,1,.740,103,.757,45,2,,,7,7,0,\n",
        "\n",
        "year1964"
       ]
      },
      {
       "output_type": "stream",
       "stream": "stdout",
       "text": [
        "\n",
        "1.,AL,1964,BAL,,163,193,.201,2,44,78,39,5,,117,68,36,2,10,2,3,0,1,0,.667,81,.914,51,3,,,1,1,0,\n",
        "\n",
        "year1965"
       ]
      },
      {
       "output_type": "stream",
       "stream": "stdout",
       "text": [
        "\n",
        "1.,AL,1965,BAL,,162,209,.162,4,38,67,31,7,,98,60,28,5,7,3,1,0,0,1,.684,109,.881,67,3,,,1,1,0,\n",
        "\n",
        "year1966"
       ]
      },
      {
       "output_type": "stream",
       "stream": "stdout",
       "text": [
        "\n",
        "1.,NL,1966,ATL,,152,198,.181,2,35,54,43,10,,97,47,36,7,6,4,3,1,3,0,.557,87,.828,38,1,,,2,2,0,\n",
        "\n",
        "year1967"
       ]
      },
      {
       "output_type": "stream",
       "stream": "stdout",
       "text": [
        "\n",
        "1.,NL,1967,ATL,,155,211,.162,4,22,55,42,6,,97,51,37,3,4,2,2,0,3,1,.567,73,.808,30,1,,,2,2,0,\n",
        "\n",
        "year1968"
       ]
      },
      {
       "output_type": "stream",
       "stream": "stdout",
       "text": [
        "\n",
        "1.,NL,1968,ATL,,148,166,.173,1,34,71,38,7,,109,67,36,6,2,1,1,2,1,0,.651,97,.876,38,2,,,3,3,0,\n",
        "\n",
        "year1969"
       ]
      },
      {
       "output_type": "stream",
       "stream": "stdout",
       "text": [
        "\n",
        "1.,NL,1969,ATL,,162,189,.229,2,36,59,46,4,,105,57,41,3,2,2,1,0,3,0,.562,105,.876,49,1,,,0,0,0,\n",
        "\n",
        "year1970"
       ]
      },
      {
       "output_type": "stream",
       "stream": "stdout",
       "text": [
        "\n",
        "1.,NL,1970,ATL,,162,175,.229,1,47,58,34,4,,92,57,32,4,1,2,0,0,0,0,.630,68,.838,27,0,,,0,0,0,\n",
        "\n",
        "year1971"
       ]
      },
      {
       "output_type": "stream",
       "stream": "stdout",
       "text": [
        "\n",
        "1.,NL,1971,ATL,,159,177,.208,2,24,56,46,10,,102,55,45,10,1,1,0,0,0,0,.549,116,.879,74,2,,,0,0,0,\n",
        "\n",
        "year1972"
       ]
      },
      {
       "output_type": "stream",
       "stream": "stdout",
       "text": [
        "\n",
        "1.,NL,1972,ATL,,153,153,.250,4,36,47,35,5,,82,45,33,5,2,1,0,0,1,0,.573,78,.795,26,1,,,1,1,0,\n",
        "\n",
        "year1973"
       ]
      },
      {
       "output_type": "stream",
       "stream": "stdout",
       "text": [
        "\n",
        "1.,NL,1973,ATL,,159,218,.266,3,48,84,40,9,,124,81,39,9,2,1,0,1,0,0,.677,82,.854,38,0,,,0,0,0,\n",
        "\n",
        "year1974"
       ]
      },
      {
       "output_type": "stream",
       "stream": "stdout",
       "text": [
        "\n",
        "1.,NL,1974,ATL,,163,238,.224,2,47,72,44,8,,116,70,39,7,2,2,1,0,3,0,.621,141,.851,69,2,,,0,0,0,\n",
        "\n",
        "year1975"
       ]
      },
      {
       "output_type": "stream",
       "stream": "stdout",
       "text": [
        "\n",
        "1.,NL,1975,ATL,,161,250,.248,6,23,58,38,7,,96,56,36,6,2,1,1,0,1,0,.604,94,.840,53,1,,,1,1,0,\n",
        "\n",
        "year1976"
       ]
      },
      {
       "output_type": "stream",
       "stream": "stdout",
       "text": [
        "\n",
        "1.,NL,1976,ATL,,162,232,.250,5,24,74,61,9,,135,70,52,9,4,4,0,0,5,0,.548,125,.888,71,1,,,0,0,0,\n",
        "\n",
        "year1977"
       ]
      },
      {
       "output_type": "stream",
       "stream": "stdout",
       "text": [
        "\n",
        "1.,NL,1977,ATL,,162,288,.244,8,37,82,53,3,,135,77,46,3,4,2,0,1,5,0,.607,96,.896,50,0,,,1,1,0,\n",
        "\n",
        "year1978"
       ]
      },
      {
       "output_type": "stream",
       "stream": "stdout",
       "text": [
        "\n",
        "1.,NL,1978,ATL,,162,236,.222,3,66,90,65,11,,155,88,62,9,2,1,2,0,2,0,.581,81,.827,44,3,,,1,1,0,\n",
        "\n",
        "year1979"
       ]
      },
      {
       "output_type": "stream",
       "stream": "stdout",
       "text": [
        "\n",
        "1.,NL,1979,ATL,,160,245,.257,6,37,98,50,4,,148,88,39,4,9,6,0,1,5,0,.662,75,.907,45,1,,,1,1,0,\n",
        "\n",
        "year1980"
       ]
      },
      {
       "output_type": "stream",
       "stream": "stdout",
       "text": [
        "\n",
        "1.,NL,1980,ATL,,161,269,.245,6,57,73,52,10,,125,73,48,9,0,0,0,0,4,1,.584,80,.888,47,1,,,0,0,0,\n",
        "\n",
        "year1981"
       ]
      },
      {
       "output_type": "stream",
       "stream": "stdout",
       "text": [
        "\n",
        "1.,NL,1981,ATL,,107,211,.235,2,51,98,39,7,,137,91,36,7,7,2,0,0,1,0,.715,68,.897,44,1,,,2,2,0,\n",
        "\n",
        "year1982"
       ]
      },
      {
       "output_type": "stream",
       "stream": "stdout",
       "text": [
        "\n",
        "1.,NL,1982,ATL,,162,253,.197,4,51,151,77,7,,228,133,76,7,18,1,0,0,0,0,.662,105,.943,59,2,,,6,6,0,\n",
        "\n",
        "year1983"
       ]
      },
      {
       "output_type": "stream",
       "stream": "stdout",
       "text": [
        "\n",
        "1.,NL,1983,ATL,,162,215,.273,4,51,146,88,20,,234,135,78,18,11,7,2,0,3,0,.624,97,.825,37,3,,,3,3,0,\n",
        "\n",
        "year1984"
       ]
      },
      {
       "output_type": "stream",
       "stream": "stdout",
       "text": [
        "\n",
        "1.,NL,1984,ATL,,162,227,.247,1,40,140,85,8,,225,137,79,6,2,4,2,1,2,0,.622,67,.970,33,2,,,3,3,0,\n",
        "\n",
        "year1985"
       ]
      },
      {
       "output_type": "stream",
       "stream": "stdout",
       "text": [
        "\n",
        "1.,NL,1985,ATL,,162,307,.209,4,24,72,52,4,,124,70,49,4,2,3,0,0,0,0,.581,85,.812,32,1,,,1,1,0,\n",
        "\n",
        "year1986"
       ]
      },
      {
       "output_type": "stream",
       "stream": "stdout",
       "text": [
        "\n",
        "1.,NL,1986,ATL,,161,296,.276,7,35,93,76,6,,169,88,70,6,4,6,0,1,0,0,.550,105,.819,43,1,,,1,1,0,\n",
        "\n",
        "year1987"
       ]
      },
      {
       "output_type": "stream",
       "stream": "stdout",
       "text": [
        "\n",
        "1.,NL,1987,ATL,,161,236,.225,6,20,135,68,13,,203,125,57,11,7,8,2,3,3,0,.665,118,.771,40,1,,,6,6,0,\n",
        "\n",
        "year1988"
       ]
      },
      {
       "output_type": "stream",
       "stream": "stdout",
       "text": [
        "\n",
        "1.,NL,1988,ATL,,160,285,.171,2,33,95,69,11,,164,87,58,8,8,5,3,0,6,0,.579,94,.809,32,2,,,2,2,0,\n",
        "\n",
        "year1989"
       ]
      },
      {
       "output_type": "stream",
       "stream": "stdout",
       "text": [
        "\n",
        "1.,NL,1989,ATL,,161,279,.195,5,25,83,54,17,,137,80,51,15,3,3,2,0,0,0,.606,93,.774,37,0,,,2,2,0,\n",
        "\n",
        "year1990"
       ]
      },
      {
       "output_type": "stream",
       "stream": "stdout",
       "text": [
        "\n",
        "1.,NL,1990,ATL,,162,271,.254,7,29,92,55,6,,147,89,51,5,3,3,1,0,1,0,.626,64,.828,22,0,,,3,3,0,\n",
        "\n",
        "year1991"
       ]
      },
      {
       "output_type": "stream",
       "stream": "stdout",
       "text": [
        "\n",
        "1.,NL,1991,ATL,,162,284,.233,3,65,165,76,7,,241,149,68,4,16,5,3,0,3,0,.685,114,.895,57,1,,,1,1,0,\n",
        "\n",
        "year1992"
       ]
      },
      {
       "output_type": "stream",
       "stream": "stdout",
       "text": [
        "\n",
        "1.,NL,1992,ATL,,162,276,.222,9,39,126,60,6,,186,111,56,6,15,3,0,0,1,0,.677,122,.877,58,1,,,0,0,0,\n",
        "\n",
        "year1993"
       ]
      },
      {
       "output_type": "stream",
       "stream": "stdout",
       "text": [
        "\n",
        "1.,NL,1993,ATL,,162,245,.264,5,58,125,48,5,,173,115,43,5,10,4,0,0,1,0,.723,112,.714,33,2,,,2,2,0,\n",
        "\n",
        "year1994"
       ]
      },
      {
       "output_type": "stream",
       "stream": "stdout",
       "text": [
        "\n",
        "1.,NL,1994,ATL,,114,159,.224,3,29,48,31,9,,79,42,29,7,6,2,2,0,0,0,.608,85,.753,28,1,,,1,1,0,\n",
        "\n",
        "year1995"
       ]
      },
      {
       "output_type": "stream",
       "stream": "stdout",
       "text": [
        "\n",
        "1.,NL,1995,ATL,,144,220,.215,3,47,73,43,8,,116,64,34,7,9,9,0,0,0,1,.629,78,.756,23,3,,,4,4,0,\n",
        "\n",
        "year1996"
       ]
      },
      {
       "output_type": "stream",
       "stream": "stdout",
       "text": [
        "\n",
        "1.,NL,1996,ATL,,162,249,.243,6,32,83,43,5,,126,73,38,5,9,4,0,1,1,0,.659,93,.839,30,2,,,3,3,0,\n",
        "\n",
        "year1997"
       ]
      },
      {
       "output_type": "stream",
       "stream": "stdout",
       "text": [
        "\n",
        "1.,AL,1997,ANA,,162,66,.207,0,34,126,72,16,,198,109,64,16,16,7,0,1,1,0,.636,57,.842,47,0,,,3,3,0,\n",
        "\n",
        "year1998"
       ]
      },
      {
       "output_type": "stream",
       "stream": "stdout",
       "text": [
        "\n",
        "1.,AL,1998,ANA,,162,89,.179,0,64,93,45,12,,138,84,40,10,9,5,2,0,0,0,.674,72,.847,58,2,,,2,2,0,\n",
        "\n",
        "year1999"
       ]
      },
      {
       "output_type": "stream",
       "stream": "stdout",
       "text": [
        "\n",
        "1.,AL,1999,ANA,,162,106,.239,2,30,71,45,10,,116,67,43,10,4,2,0,0,0,0,.612,52,.827,41,0,,,1,1,0,\n",
        "\n",
        "year2000"
       ]
      },
      {
       "output_type": "stream",
       "stream": "stdout",
       "text": [
        "\n",
        "1.,AL,2000,ANA,,162,86,.231,2,41,93,52,15,,145,80,47,15,13,4,0,0,1,0,.641,57,.947,51,4,,,2,2,0,\n",
        "\n",
        "year2001"
       ]
      },
      {
       "output_type": "stream",
       "stream": "stdout",
       "text": [
        "\n",
        "1.,AL,2001,ANA,,162,86,.200,4,29,116,52,15,,168,95,45,15,20,3,0,1,4,0,.690,61,.902,55,1,,,4,4,0,\n",
        "\n",
        "year2002"
       ]
      },
      {
       "output_type": "stream",
       "stream": "stdout",
       "text": [
        "\n",
        "1.,AL,2002,ANA,,162,103,.281,2,46,117,51,16,,168,102,42,13,15,8,3,0,1,0,.696,64,.953,58,3,,,4,4,0,\n",
        "\n",
        "year2003"
       ]
      },
      {
       "output_type": "stream",
       "stream": "stdout",
       "text": [
        "\n",
        "1.,AL,2003,ANA,,162,97,.330,1,47,129,61,17,,190,113,54,16,14,3,1,2,4,0,.679,71,.817,57,2,362,117,7,7,0,\n",
        "\n",
        "year2004"
       ]
      },
      {
       "output_type": "stream",
       "stream": "stdout",
       "text": [
        "\n",
        "1.,AL,2004,ANA,,162,81,.265,1,32,143,46,15,,189,123,42,14,19,3,1,1,1,0,.757,79,.835,64,3,458,130,8,8,0,\n",
        "\n",
        "year2005"
       ]
      },
      {
       "output_type": "stream",
       "stream": "stdout",
       "text": [
        "\n",
        "1.,AL,2005,ANA,,162,78,.239,1,37,161,57,13,,218,149,47,11,12,8,2,0,2,0,.739,64,.813,51,2,417,138,5,5,0,\n",
        "\n",
        "year2006"
       ]
      },
      {
       "output_type": "stream",
       "stream": "stdout",
       "text": [
        "\n",
        "1.,AL,2006,ANA,,162,87,.159,3,45,148,57,14,,205,123,45,14,23,6,0,2,6,0,.722,44,.818,34,2,452,154,13,13,0,\n",
        "\n",
        "year2007"
       ]
      },
      {
       "output_type": "stream",
       "stream": "stdout",
       "text": [
        "\n",
        "1.,AL,2007,ANA,,162,91,.270,2,26,139,55,14,,194,118,47,12,20,8,2,1,0,0,.716,47,.766,35,2,424,142,10,10,0,\n",
        "\n",
        "year2008"
       ]
      },
      {
       "output_type": "stream",
       "stream": "stdout",
       "text": [
        "\n",
        "1.,AL,2008,ANA,,162,67,.200,0,30,129,48,12,,177,109,38,10,19,8,1,1,2,1,.729,48,.813,39,1,364,113,6,6,0,\n",
        "\n",
        "year2009"
       ]
      },
      {
       "output_type": "stream",
       "stream": "stdout",
       "text": [
        "\n",
        "1.,AL,2009,ANA,,162,65,.321,2,26,148,63,13,,211,124,57,10,22,5,3,2,1,0,.701,63,.810,49,3,447,134,9,9,0,\n",
        "\n",
        "year2010"
       ]
      },
      {
       "output_type": "stream",
       "stream": "stdout",
       "text": [
        "\n",
        "1.,AL,2010,ANA,,162,86,.174,0,31,104,52,11,,156,90,39,7,14,10,4,0,3,0,.667,70,.729,50,3,400,125,6,6,0,\n",
        "\n",
        "year2011"
       ]
      },
      {
       "output_type": "stream",
       "stream": "stdout",
       "text": [
        "\n",
        "1.,AL,2011,ANA,,162,75,.154,2,14,135,52,6,,187,116,47,6,18,4,0,1,1,0,.722,78,.808,59,1,417,144,7,7,0,\n",
        "\n",
        "year2012"
       ]
      },
      {
       "output_type": "stream",
       "stream": "stdout",
       "text": [
        "\n",
        "1.,AL,2012,ANA,,162,68,.203,2,33,134,33,10,,167,121,27,9,12,4,1,1,2,0,.802,72,.889,60,3,419,132,1,1,0,\n",
        "\n",
        "year2013"
       ]
      },
      {
       "output_type": "stream",
       "stream": "stdout",
       "text": [
        "\n",
        "1.,AL,2013,ANA,,162,83,.214,3,26,82,34,10,,116,71,32,7,10,1,3,1,1,0,.707,54,.907,47,0,349,110,5,5,0,\n",
        "\n",
        "year2014"
       ]
      },
      {
       "output_type": "stream",
       "stream": "stdout",
       "text": [
        "\n",
        "1.,AL,2014,ANA,,162,103,.233,1,46,81,39,6,,120,72,37,5,9,2,1,0,0,0,.675,42,.619,24,1,315,88,1,1,0,\n",
        "\n"
       ]
      }
     ],
     "prompt_number": 1
    }
   ],
   "metadata": {}
  }
 ]
}