{
 "metadata": {
  "name": "",
  "signature": "sha256:a8333007705c1ac466823907021c751c8c110f123aa049ba2ab7420d15a6e1fc"
 },
 "nbformat": 3,
 "nbformat_minor": 0,
 "worksheets": [
  {
   "cells": [
    {
     "cell_type": "code",
     "collapsed": false,
     "input": [
      "#\u9996\u5148Name\u8981\u6392\u5e8f\n",
      "#\u8981\u6ce8\u610f\u7684\u5730\u65b9\u6709\u56db\u500b directory, range, year, page_limit\n",
      "import string, time, requests, os\n",
      "from bs4 import BeautifulSoup\n",
      "\n",
      "headers={\n",
      "    'User-Agent':'Mozilla/5.0 (Windows NT 6.1; WOW64) AppleWebKit/537.36 (KHTML, like Gecko) Chrome/40.0.2214.93 Safari/537.36'\n",
      "}\n",
      "url='http://www.baseballprospectus.com/sortable/index.php'\n",
      "folder='TeamDefensiveEfficiency'#\u8cc7\u6599\u593e\u540d\u7a31*********************\n",
      "path='Baseball\\\\'+folder #\u8def\u5f91\u540d\u7a31\n",
      "\n",
      "if os.path.exists(path):\n",
      "    print 'folder exists'\n",
      "else:    \n",
      "    os.mkdir(path)\n",
      "    print 'folder not exists'  \n",
      "\n",
      "for year in range(1871,2015): #2015\u6c92\u7b97\u5230**************\n",
      "    payload={            \n",
      "            'mystatslist':'YEAR,LVL,TEAM,LG,PA,AB,H,HR,BB,HBP,SF,SH,ROE,SO,DEF_EFF,PADE',\n",
      "            'category':'team_pitching',\n",
      "            'tablename':'dyna_team_pitching',\n",
      "            'stage':'data',\n",
      "            'year':'%d'%(year),#*********************\n",
      "            'mystatslist':'YEAR,LVL,TEAM,LG,PA,AB,H,HR,BB,HBP,SF,SH,ROE,SO,DEF_EFF,PADE',\n",
      "            'category':'team_pitching',\n",
      "            'tablename':'dyna_team_pitching',\n",
      "            'stage':'data',\n",
      "            'group_LVL':'MLB',\n",
      "            'group_LG':'*',\n",
      "            'minimum':'0',\n",
      "            'sort1column':'TEAM',\n",
      "            'sort1order':'ASC',\n",
      "            'page_limit':'All',#*********************\n",
      "            'glossary_terms':'*',\n",
      "            'viewdata':'View Data',\n",
      "        }\n",
      "    res=requests.post(url,data=payload,headers=headers)\n",
      "    soup=BeautifulSoup(res.text.encode('utf-8'))    \n",
      "    trList=soup.select('#TTdata tr')    \n",
      "    fileName= str(year)+'_'+folder+'.csv'#*********************\n",
      "    fid=open('Baseball\\\\'+fileName,'w')    \n",
      "    for tr in trList:\n",
      "        for td in tr.select('td'):\n",
      "            fid.write(td.text.encode('utf-8')+',')\n",
      "        fid.write('\\n')\n",
      "    fid.close()\n",
      "    fod=open('Baseball\\\\'+fileName,'r')\n",
      "    print 'year'+str(year)\n",
      "    print fod.readlines()[1]\n",
      "    fod.close()\n",
      "    time.sleep(2)\n"
     ],
     "language": "python",
     "metadata": {},
     "outputs": [
      {
       "output_type": "stream",
       "stream": "stdout",
       "text": [
        "folder exists\n",
        "year1871"
       ]
      },
      {
       "output_type": "stream",
       "stream": "stdout",
       "text": [
        "\n",
        "1.,1871,MLB,BS1,NA,1,384,0,367,2,42,0,0,0,0,23,0.000,0.00,\n",
        "\n",
        "year1872"
       ]
      },
      {
       "output_type": "stream",
       "stream": "stdout",
       "text": [
        "\n",
        "1.,1872,MLB,BL1,NA,2,404,0,573,3,63,0,0,0,0,77,0.000,0.00,\n",
        "\n",
        "year1873"
       ]
      },
      {
       "output_type": "stream",
       "stream": "stdout",
       "text": [
        "\n",
        "1.,1873,MLB,BL1,NA,2,426,0,680,4,43,0,0,0,0,37,0.000,0.00,\n",
        "\n",
        "year1874"
       ]
      },
      {
       "output_type": "stream",
       "stream": "stdout",
       "text": [
        "\n",
        "1.,1874,MLB,BL1,NA,2,136,0,640,3,39,0,0,0,0,20,0.000,0.00,\n",
        "\n",
        "year1875"
       ]
      },
      {
       "output_type": "stream",
       "stream": "stdout",
       "text": [
        "\n",
        "1.,1875,MLB,BR2,NA,1,894,0,535,6,17,0,0,0,0,16,0.000,0.00,\n",
        "\n",
        "year1876"
       ]
      },
      {
       "output_type": "stream",
       "stream": "stdout",
       "text": [
        "\n",
        "1.,1876,MLB,BSN,NL,2,834,0,732,7,104,0,0,0,0,77,0.000,0.00,\n",
        "\n",
        "year1877"
       ]
      },
      {
       "output_type": "stream",
       "stream": "stdout",
       "text": [
        "\n",
        "1.,1877,MLB,BSN,NL,2,278,0,557,5,38,0,0,0,0,177,0.000,0.00,\n",
        "\n",
        "year1878"
       ]
      },
      {
       "output_type": "stream",
       "stream": "stdout",
       "text": [
        "\n",
        "1.,1878,MLB,BSN,NL,2,225,0,595,6,38,0,0,0,0,184,0.000,0.00,\n",
        "\n",
        "year1879"
       ]
      },
      {
       "output_type": "stream",
       "stream": "stdout",
       "text": [
        "\n",
        "1.,1879,MLB,BFN,NL,2,932,0,698,3,47,0,0,0,0,198,0.000,0.00,\n",
        "\n",
        "year1880"
       ]
      },
      {
       "output_type": "stream",
       "stream": "stdout",
       "text": [
        "\n",
        "1.,1880,MLB,BFN,NL,3,224,0,879,10,78,0,0,0,0,186,0.000,0.00,\n",
        "\n",
        "year1881"
       ]
      },
      {
       "output_type": "stream",
       "stream": "stdout",
       "text": [
        "\n",
        "1.,1881,MLB,BFN,NL,3,222,0,881,9,89,0,0,0,0,185,0.000,0.00,\n",
        "\n",
        "year1882"
       ]
      },
      {
       "output_type": "stream",
       "stream": "stdout",
       "text": [
        "\n",
        "1.,1882,MLB,BFN,NL,3,183,0,778,16,114,0,0,0,0,287,0.000,0.00,\n",
        "\n",
        "year1883"
       ]
      },
      {
       "output_type": "stream",
       "stream": "stdout",
       "text": [
        "\n",
        "1.,1883,MLB,BFN,NL,3,721,0,971,12,101,0,0,0,0,362,0.000,0.00,\n",
        "\n",
        "year1884"
       ]
      },
      {
       "output_type": "stream",
       "stream": "stdout",
       "text": [
        "\n",
        "1.,1884,MLB,ALT,UA,0,0,292,3,52,0,0,0,0,93,0.000,0.00,\n",
        "\n",
        "year1885"
       ]
      },
      {
       "output_type": "stream",
       "stream": "stdout",
       "text": [
        "\n",
        "1.,1885,MLB,BFN,NL,4,300,0,1,175,31,234,0,0,0,0,320,0.000,0.00,\n",
        "\n",
        "year1886"
       ]
      },
      {
       "output_type": "stream",
       "stream": "stdout",
       "text": [
        "\n",
        "1.,1886,MLB,BL2,AA,5,360,0,1,197,25,403,53,0,0,0,805,0.000,0.00,\n",
        "\n",
        "year1887"
       ]
      },
      {
       "output_type": "stream",
       "stream": "stdout",
       "text": [
        "\n",
        "1.,1887,MLB,BL2,AA,5,392,0,1,288,16,418,53,0,0,0,470,0.000,0.00,\n",
        "\n",
        "year1888"
       ]
      },
      {
       "output_type": "stream",
       "stream": "stdout",
       "text": [
        "\n",
        "1.,1888,MLB,BL2,AA,0,0,1,162,23,419,83,0,0,0,525,0.000,0.00,\n",
        "\n",
        "year1889"
       ]
      },
      {
       "output_type": "stream",
       "stream": "stdout",
       "text": [
        "\n",
        "1.,1889,MLB,BL2,AA,0,0,1,168,27,424,82,0,0,0,540,0.000,0.00,\n",
        "\n",
        "year1890"
       ]
      },
      {
       "output_type": "stream",
       "stream": "stdout",
       "text": [
        "\n",
        "1.,1890,MLB,BFP,PL,0,0,1,499,67,673,48,0,0,0,351,0.000,0.00,\n",
        "\n",
        "year1891"
       ]
      },
      {
       "output_type": "stream",
       "stream": "stdout",
       "text": [
        "\n",
        "1.,1891,MLB,BL3,AA,0,0,1,238,33,472,62,0,0,0,408,0.000,0.00,\n",
        "\n",
        "year1892"
       ]
      },
      {
       "output_type": "stream",
       "stream": "stdout",
       "text": [
        "\n",
        "1.,1892,MLB,BLN,NL,0,0,1,537,51,536,49,0,0,0,437,0.000,0.00,\n",
        "\n",
        "year1893"
       ]
      },
      {
       "output_type": "stream",
       "stream": "stdout",
       "text": [
        "\n",
        "1.,1893,MLB,BLN,NL,0,0,1,325,29,534,41,0,0,0,275,0.000,0.00,\n",
        "\n",
        "year1894"
       ]
      },
      {
       "output_type": "stream",
       "stream": "stdout",
       "text": [
        "\n",
        "1.,1894,MLB,BLN,NL,0,0,1,371,31,472,47,0,0,0,275,0.000,0.00,\n",
        "\n",
        "year1895"
       ]
      },
      {
       "output_type": "stream",
       "stream": "stdout",
       "text": [
        "\n",
        "1.,1895,MLB,BLN,NL,0,0,1,216,31,430,37,0,0,0,244,0.000,0.00,\n",
        "\n",
        "year1896"
       ]
      },
      {
       "output_type": "stream",
       "stream": "stdout",
       "text": [
        "\n",
        "1.,1896,MLB,BLN,NL,0,0,1,281,22,339,34,0,0,0,302,0.000,0.00,\n",
        "\n",
        "year1897"
       ]
      },
      {
       "output_type": "stream",
       "stream": "stdout",
       "text": [
        "\n",
        "1.,1897,MLB,BLN,NL,0,0,1,296,18,382,74,0,0,0,361,0.000,0.00,\n",
        "\n",
        "year1898"
       ]
      },
      {
       "output_type": "stream",
       "stream": "stdout",
       "text": [
        "\n",
        "1.,1898,MLB,BLN,NL,0,0,1,236,17,400,61,0,0,0,422,0.000,0.00,\n",
        "\n",
        "year1899"
       ]
      },
      {
       "output_type": "stream",
       "stream": "stdout",
       "text": [
        "\n",
        "1.,1899,MLB,BLN,NL,0,0,1,403,13,349,69,0,0,0,294,0.000,0.00,\n",
        "\n",
        "year1900"
       ]
      },
      {
       "output_type": "stream",
       "stream": "stdout",
       "text": [
        "\n",
        "1.,1900,MLB,BRO,NL,0,0,1,370,30,405,71,0,0,0,300,0.000,0.00,\n",
        "\n",
        "year1901"
       ]
      },
      {
       "output_type": "stream",
       "stream": "stdout",
       "text": [
        "\n",
        "1.,1901,MLB,BLA,AL,0,0,1,313,21,344,48,0,0,0,271,0.000,0.00,\n",
        "\n",
        "year1902"
       ]
      },
      {
       "output_type": "stream",
       "stream": "stdout",
       "text": [
        "\n",
        "1.,1902,MLB,BLA,AL,0,0,1,531,30,354,37,0,0,0,258,0.000,0.00,\n",
        "\n",
        "year1903"
       ]
      },
      {
       "output_type": "stream",
       "stream": "stdout",
       "text": [
        "\n",
        "1.,1903,MLB,BOS,AL,0,0,1,142,23,269,36,0,0,0,579,0.000,0.00,\n",
        "\n",
        "year1904"
       ]
      },
      {
       "output_type": "stream",
       "stream": "stdout",
       "text": [
        "\n",
        "1.,1904,MLB,BOS,AL,0,0,1,208,31,233,29,0,0,0,612,0.000,0.00,\n",
        "\n",
        "year1905"
       ]
      },
      {
       "output_type": "stream",
       "stream": "stdout",
       "text": [
        "\n",
        "1.,1905,MLB,BOS,AL,0,0,1,198,33,292,43,0,0,0,652,0.000,0.00,\n",
        "\n",
        "year1906"
       ]
      },
      {
       "output_type": "stream",
       "stream": "stdout",
       "text": [
        "\n",
        "1.,1906,MLB,BOS,AL,0,0,1,360,37,285,42,0,0,0,549,0.000,0.00,\n",
        "\n",
        "year1907"
       ]
      },
      {
       "output_type": "stream",
       "stream": "stdout",
       "text": [
        "\n",
        "1.,1907,MLB,BOS,AL,0,0,1,222,22,337,39,0,0,0,517,0.000,0.00,\n",
        "\n",
        "year1908"
       ]
      },
      {
       "output_type": "stream",
       "stream": "stdout",
       "text": [
        "\n",
        "1.,1908,MLB,BOS,AL,5,471,0,1,200,18,364,46,0,0,0,624,0.000,0.00,\n",
        "\n",
        "year1909"
       ]
      },
      {
       "output_type": "stream",
       "stream": "stdout",
       "text": [
        "\n",
        "1.,1909,MLB,BOS,AL,5,425,0,1,213,18,384,47,0,0,0,555,0.000,0.00,\n",
        "\n",
        "year1910"
       ]
      },
      {
       "output_type": "stream",
       "stream": "stdout",
       "text": [
        "\n",
        "1.,1910,MLB,BOS,AL,5,712,0,1,236,30,414,45,0,0,0,670,0.000,0.00,\n",
        "\n",
        "year1911"
       ]
      },
      {
       "output_type": "stream",
       "stream": "stdout",
       "text": [
        "\n",
        "1.,1911,MLB,BOS,AL,5,513,0,1,309,21,473,48,0,0,0,711,0.000,0.00,\n",
        "\n",
        "year1912"
       ]
      },
      {
       "output_type": "stream",
       "stream": "stdout",
       "text": [
        "\n",
        "1.,1912,MLB,BOS,AL,5,442,0,1,243,18,385,35,0,0,0,712,0.000,0.00,\n",
        "\n",
        "year1913"
       ]
      },
      {
       "output_type": "stream",
       "stream": "stdout",
       "text": [
        "\n",
        "1.,1913,MLB,BOS,AL,5,522,0,1,323,6,442,32,0,0,0,710,0.000,0.00,\n",
        "\n",
        "year1914"
       ]
      },
      {
       "output_type": "stream",
       "stream": "stdout",
       "text": [
        "\n",
        "1.,1914,MLB,BLF,FL,5,618,0,1,389,34,392,35,0,0,0,732,0.000,0.00,\n",
        "\n",
        "year1915"
       ]
      },
      {
       "output_type": "stream",
       "stream": "stdout",
       "text": [
        "\n",
        "1.,1915,MLB,BLF,FL,5,626,0,1,455,52,466,43,0,0,0,570,0.000,0.00,\n",
        "\n",
        "year1916"
       ]
      },
      {
       "output_type": "stream",
       "stream": "stdout",
       "text": [
        "\n",
        "1.,1916,MLB,BOS,AL,5,601,0,1,221,10,463,38,0,0,0,584,0.000,0.00,\n",
        "\n",
        "year1917"
       ]
      },
      {
       "output_type": "stream",
       "stream": "stdout",
       "text": [
        "\n",
        "1.,1917,MLB,BOS,AL,5,639,0,1,197,12,413,51,0,0,0,509,0.000,0.00,\n",
        "\n",
        "year1918"
       ]
      },
      {
       "output_type": "stream",
       "stream": "stdout",
       "text": [
        "\n",
        "1.,1918,MLB,BOS,AL,4,557,0,931,9,380,31,0,120,0,392,0.000,0.00,\n",
        "\n",
        "year1919"
       ]
      },
      {
       "output_type": "stream",
       "stream": "stdout",
       "text": [
        "\n",
        "1.,1919,MLB,BOS,AL,4,983,0,1,249,16,421,28,0,0,0,380,0.000,0.00,\n",
        "\n",
        "year1920"
       ]
      },
      {
       "output_type": "stream",
       "stream": "stdout",
       "text": [
        "\n",
        "1.,1920,MLB,BOS,AL,5,801,0,1,481,39,461,27,0,0,0,481,0.000,0.00,\n",
        "\n",
        "year1921"
       ]
      },
      {
       "output_type": "stream",
       "stream": "stdout",
       "text": [
        "\n",
        "1.,1921,MLB,BOS,AL,5,924,0,1,521,53,452,41,0,198,0,446,0.000,0.00,\n",
        "\n",
        "year1922"
       ]
      },
      {
       "output_type": "stream",
       "stream": "stdout",
       "text": [
        "\n",
        "1.,1922,MLB,BOS,AL,6,037,0,1,508,48,503,43,0,233,0,359,0.000,0.00,\n",
        "\n",
        "year1923"
       ]
      },
      {
       "output_type": "stream",
       "stream": "stdout",
       "text": [
        "\n",
        "1.,1923,MLB,BOS,AL,6,013,0,1,534,48,520,68,0,211,0,412,0.000,0.00,\n",
        "\n",
        "year1924"
       ]
      },
      {
       "output_type": "stream",
       "stream": "stdout",
       "text": [
        "\n",
        "1.,1924,MLB,BOS,AL,6,203,0,1,563,43,523,63,0,225,0,414,0.000,0.00,\n",
        "\n",
        "year1925"
       ]
      },
      {
       "output_type": "stream",
       "stream": "stdout",
       "text": [
        "\n",
        "1.,1925,MLB,BOS,AL,6,025,0,1,615,67,510,39,0,232,0,310,0.000,0.00,\n",
        "\n",
        "year1926"
       ]
      },
      {
       "output_type": "stream",
       "stream": "stdout",
       "text": [
        "\n",
        "1.,1926,MLB,BOS,AL,6,041,0,1,520,45,546,31,0,288,0,336,0.000,0.00,\n",
        "\n",
        "year1927"
       ]
      },
      {
       "output_type": "stream",
       "stream": "stdout",
       "text": [
        "\n",
        "1.,1927,MLB,BOS,AL,6,106,0,1,603,56,558,41,0,251,0,381,0.000,0.00,\n",
        "\n",
        "year1928"
       ]
      },
      {
       "output_type": "stream",
       "stream": "stdout",
       "text": [
        "\n",
        "1.,1928,MLB,BOS,AL,5,883,0,1,492,49,452,40,0,202,0,407,0.000,0.00,\n",
        "\n",
        "year1929"
       ]
      },
      {
       "output_type": "stream",
       "stream": "stdout",
       "text": [
        "\n",
        "1.,1929,MLB,BOS,AL,5,993,0,1,537,78,496,28,0,188,0,416,0.000,0.00,\n",
        "\n",
        "year1930"
       ]
      },
      {
       "output_type": "stream",
       "stream": "stdout",
       "text": [
        "\n",
        "1.,1930,MLB,BOS,AL,5,992,0,1,515,75,488,20,0,182,0,356,0.000,0.00,\n",
        "\n",
        "year1931"
       ]
      },
      {
       "output_type": "stream",
       "stream": "stdout",
       "text": [
        "\n",
        "1.,1931,MLB,BOS,AL,6,067,0,1,559,54,473,25,0,96,0,365,0.000,0.00,\n",
        "\n",
        "year1932"
       ]
      },
      {
       "output_type": "stream",
       "stream": "stdout",
       "text": [
        "\n",
        "1.,1932,MLB,BOS,AL,6,200,0,1,574,79,612,30,0,117,0,365,0.000,0.00,\n",
        "\n",
        "year1933"
       ]
      },
      {
       "output_type": "stream",
       "stream": "stdout",
       "text": [
        "\n",
        "1.,1933,MLB,BOS,AL,5,883,0,1,396,75,591,21,0,115,0,473,0.000,0.00,\n",
        "\n",
        "year1934"
       ]
      },
      {
       "output_type": "stream",
       "stream": "stdout",
       "text": [
        "\n",
        "1.,1934,MLB,BOS,AL,6,077,0,1,527,70,543,23,0,115,0,538,0.000,0.00,\n",
        "\n",
        "year1935"
       ]
      },
      {
       "output_type": "stream",
       "stream": "stdout",
       "text": [
        "\n",
        "1.,1935,MLB,BOS,AL,6,063,0,1,520,67,520,20,0,103,0,470,0.000,0.00,\n",
        "\n",
        "year1936"
       ]
      },
      {
       "output_type": "stream",
       "stream": "stdout",
       "text": [
        "\n",
        "1.,1936,MLB,BOS,AL,6,074,0,1,501,78,552,18,0,82,0,584,0.000,0.00,\n",
        "\n",
        "year1937"
       ]
      },
      {
       "output_type": "stream",
       "stream": "stdout",
       "text": [
        "\n",
        "1.,1937,MLB,BOS,AL,6,132,0,1,518,92,597,15,0,77,0,682,0.000,0.00,\n",
        "\n",
        "year1938"
       ]
      },
      {
       "output_type": "stream",
       "stream": "stdout",
       "text": [
        "\n",
        "1.,1938,MLB,BOS,AL,5,866,0,1,472,102,528,20,0,84,0,484,0.000,0.00,\n",
        "\n",
        "year1939"
       ]
      },
      {
       "output_type": "stream",
       "stream": "stdout",
       "text": [
        "\n",
        "1.,1939,MLB,BOS,AL,6,037,0,1,533,77,543,19,0,130,0,539,0.000,0.00,\n",
        "\n",
        "year1940"
       ]
      },
      {
       "output_type": "stream",
       "stream": "stdout",
       "text": [
        "\n",
        "1.,1940,MLB,BOS,AL,6,242,0,1,568,124,625,23,0,71,0,613,0.000,0.00,\n",
        "\n",
        "year1941"
       ]
      },
      {
       "output_type": "stream",
       "stream": "stdout",
       "text": [
        "\n",
        "1.,1941,MLB,BOS,AL,6,105,0,1,453,88,611,23,0,89,0,574,0.000,0.00,\n",
        "\n",
        "year1942"
       ]
      },
      {
       "output_type": "stream",
       "stream": "stdout",
       "text": [
        "\n",
        "1.,1942,MLB,BOS,AL,5,766,0,1,260,65,553,16,0,86,0,500,0.000,0.00,\n",
        "\n",
        "year1943"
       ]
      },
      {
       "output_type": "stream",
       "stream": "stdout",
       "text": [
        "\n",
        "1.,1943,MLB,BOS,AL,6,083,0,1,369,61,615,15,0,117,0,513,0.000,0.00,\n",
        "\n",
        "year1944"
       ]
      },
      {
       "output_type": "stream",
       "stream": "stdout",
       "text": [
        "\n",
        "1.,1944,MLB,BOS,AL,6,047,0,1,404,66,592,23,0,84,0,524,0.000,0.00,\n",
        "\n",
        "year1945"
       ]
      },
      {
       "output_type": "stream",
       "stream": "stdout",
       "text": [
        "\n",
        "1.,1945,MLB,BOS,AL,6,063,0,1,389,58,656,26,0,119,0,490,0.000,0.00,\n",
        "\n",
        "year1946"
       ]
      },
      {
       "output_type": "stream",
       "stream": "stdout",
       "text": [
        "\n",
        "1.,1946,MLB,BOS,AL,5,953,0,1,359,89,501,14,0,86,0,667,0.000,0.00,\n",
        "\n",
        "year1947"
       ]
      },
      {
       "output_type": "stream",
       "stream": "stdout",
       "text": [
        "\n",
        "1.,1947,MLB,BOS,AL,5,972,0,1,383,84,575,16,0,88,0,586,0.000,0.00,\n",
        "\n",
        "year1948"
       ]
      },
      {
       "output_type": "stream",
       "stream": "stdout",
       "text": [
        "\n",
        "1.,1948,MLB,BOS,AL,6,032,0,1,445,83,592,19,0,68,0,513,0.000,0.00,\n",
        "\n",
        "year1949"
       ]
      },
      {
       "output_type": "stream",
       "stream": "stdout",
       "text": [
        "\n",
        "1.,1949,MLB,BOS,AL,6,005,0,1,375,82,661,24,0,73,0,598,0.000,0.00,\n",
        "\n",
        "year1950"
       ]
      },
      {
       "output_type": "stream",
       "stream": "stdout",
       "text": [
        "\n",
        "1.,1950,MLB,BOS,AL,5,255,4,506,1,413,121,748,23,0,90,54,630,0.714,-1.87,\n",
        "\n",
        "year1951"
       ]
      },
      {
       "output_type": "stream",
       "stream": "stdout",
       "text": [
        "\n",
        "1.,1951,MLB,BOS,AL,6,070,5,351,1,413,99,599,34,0,87,89,658,0.719,-1.47,\n",
        "\n",
        "year1952"
       ]
      },
      {
       "output_type": "stream",
       "stream": "stdout",
       "text": [
        "\n",
        "1.,1952,MLB,BOS,AL,5,872,5,135,1,332,107,623,38,0,91,87,624,0.731,-0.91,\n",
        "\n",
        "year1953"
       ]
      },
      {
       "output_type": "stream",
       "stream": "stdout",
       "text": [
        "\n",
        "1.,1953,MLB,BOS,AL,5,929,5,243,1,333,92,584,23,0,78,100,642,0.729,0.31,\n",
        "\n",
        "year1954"
       ]
      },
      {
       "output_type": "stream",
       "stream": "stdout",
       "text": [
        "\n",
        "1.,1954,MLB,BAL,AL,5,934,5,088,1,279,78,688,19,57,88,86,668,0.735,0.43,\n",
        "\n",
        "year1955"
       ]
      },
      {
       "output_type": "stream",
       "stream": "stdout",
       "text": [
        "\n",
        "1.,1955,MLB,BAL,AL,6,097,5,277,1,403,104,625,33,63,100,98,594,0.726,-0.14,\n",
        "\n",
        "year1956"
       ]
      },
      {
       "output_type": "stream",
       "stream": "stdout",
       "text": [
        "\n",
        "1.,1956,MLB,BAL,AL,5,886,5,177,1,362,99,547,24,48,88,79,715,0.718,-0.63,\n",
        "\n",
        "year1957"
       ]
      },
      {
       "output_type": "stream",
       "stream": "stdout",
       "text": [
        "\n",
        "1.,1957,MLB,BAL,AL,5,862,5,225,1,272,95,493,27,34,83,73,767,0.737,1.12,\n",
        "\n",
        "year1958"
       ]
      },
      {
       "output_type": "stream",
       "stream": "stdout",
       "text": [
        "\n",
        "1.,1958,MLB,BAL,AL,5,688,5,128,1,277,106,403,35,46,75,74,749,0.733,0.74,\n",
        "\n",
        "year1959"
       ]
      },
      {
       "output_type": "stream",
       "stream": "stdout",
       "text": [
        "\n",
        "1.,1959,MLB,BAL,AL,5,851,5,233,1,290,111,476,30,34,78,84,735,0.738,1.53,\n",
        "\n",
        "year1960"
       ]
      },
      {
       "output_type": "stream",
       "stream": "stdout",
       "text": [
        "\n",
        "1.,1960,MLB,BAL,AL,5,775,5,065,1,222,117,552,34,44,77,61,785,0.742,1.06,\n",
        "\n",
        "year1961"
       ]
      },
      {
       "output_type": "stream",
       "stream": "stdout",
       "text": [
        "\n",
        "1.,1961,MLB,BAL,AL,6,152,5,397,1,226,109,617,32,35,71,86,926,0.750,2.69,\n",
        "\n",
        "year1962"
       ]
      },
      {
       "output_type": "stream",
       "stream": "stdout",
       "text": [
        "\n",
        "1.,1962,MLB,BAL,AL,6,204,5,523,1,373,147,549,28,31,73,68,898,0.732,0.78,\n",
        "\n",
        "year1963"
       ]
      },
      {
       "output_type": "stream",
       "stream": "stdout",
       "text": [
        "\n",
        "1.,1963,MLB,BAL,AL,6,098,5,451,1,353,137,507,29,32,79,56,913,0.730,-0.50,\n",
        "\n",
        "year1964"
       ]
      },
      {
       "output_type": "stream",
       "stream": "stdout",
       "text": [
        "\n",
        "1.,1964,MLB,BAL,AL,5,992,5,412,1,292,129,456,36,33,54,43,939,0.737,0.73,\n",
        "\n",
        "year1965"
       ]
      },
      {
       "output_type": "stream",
       "stream": "stdout",
       "text": [
        "\n",
        "1.,1965,MLB,BAL,AL,6,095,5,432,1,268,120,510,26,44,82,75,939,0.745,1.22,\n",
        "\n",
        "year1966"
       ]
      },
      {
       "output_type": "stream",
       "stream": "stdout",
       "text": [
        "\n",
        "1.,1966,MLB,ATL,NL,5,789,5,199,1,430,129,485,29,44,79,75,884,0.723,0.60,\n",
        "\n",
        "year1967"
       ]
      },
      {
       "output_type": "stream",
       "stream": "stdout",
       "text": [
        "\n",
        "1.,1967,MLB,ATL,NL,5,831,5,244,1,377,118,449,40,41,79,61,862,0.727,1.08,\n",
        "\n",
        "year1968"
       ]
      },
      {
       "output_type": "stream",
       "stream": "stdout",
       "text": [
        "\n",
        "1.,1968,MLB,ATL,NL,5,485,5,013,1,326,87,362,33,41,87,63,871,0.732,0.95,\n",
        "\n",
        "year1969"
       ]
      },
      {
       "output_type": "stream",
       "stream": "stdout",
       "text": [
        "\n",
        "1.,1969,MLB,ATL,NL,6,042,5,455,1,334,144,438,27,31,90,67,893,0.738,2.78,\n",
        "\n",
        "year1970"
       ]
      },
      {
       "output_type": "stream",
       "stream": "stdout",
       "text": [
        "\n",
        "1.,1970,MLB,ATL,NL,6,179,5,566,1,451,185,478,30,37,66,83,960,0.720,0.16,\n",
        "\n",
        "year1971"
       ]
      },
      {
       "output_type": "stream",
       "stream": "stdout",
       "text": [
        "\n",
        "1.,1971,MLB,ATL,NL,6,199,5,576,1,529,152,485,28,32,92,86,823,0.713,-1.39,\n",
        "\n",
        "year1972"
       ]
      },
      {
       "output_type": "stream",
       "stream": "stdout",
       "text": [
        "\n",
        "1.,1972,MLB,ATL,NL,5,892,5,239,1,412,155,512,26,44,74,71,732,0.722,-0.58,\n",
        "\n",
        "year1973"
       ]
      },
      {
       "output_type": "stream",
       "stream": "stdout",
       "text": [
        "\n",
        "1.,1973,MLB,ATL,NL,6,185,5,459,1,467,144,575,28,60,68,84,803,0.722,-1.14,\n",
        "\n",
        "year1974"
       ]
      },
      {
       "output_type": "stream",
       "stream": "stdout",
       "text": [
        "\n",
        "1.,1974,MLB,ATL,NL,6,131,5,503,1,343,97,488,26,39,74,75,772,0.738,2.03,\n",
        "\n",
        "year1975"
       ]
      },
      {
       "output_type": "stream",
       "stream": "stdout",
       "text": [
        "\n",
        "1.,1975,MLB,ATL,NL,6,279,5,557,1,543,101,519,44,51,107,104,669,0.708,-1.70,\n",
        "\n",
        "year1976"
       ]
      },
      {
       "output_type": "stream",
       "stream": "stdout",
       "text": [
        "\n",
        "1.,1976,MLB,ATL,NL,6,232,5,487,1,435,86,564,40,50,90,94,818,0.714,-2.17,\n",
        "\n",
        "year1977"
       ]
      },
      {
       "output_type": "stream",
       "stream": "stdout",
       "text": [
        "\n",
        "1.,1977,MLB,ATL,NL,6,535,5,659,1,581,169,701,42,45,86,95,915,0.700,-2.74,\n",
        "\n",
        "year1978"
       ]
      },
      {
       "output_type": "stream",
       "stream": "stdout",
       "text": [
        "\n",
        "1.,1978,MLB,ATL,NL,6,261,5,468,1,404,132,624,42,37,89,87,848,0.724,-0.40,\n",
        "\n",
        "year1979"
       ]
      },
      {
       "output_type": "stream",
       "stream": "stdout",
       "text": [
        "\n",
        "1.,1979,MLB,ATL,NL,6,149,5,495,1,496,132,494,45,44,70,96,779,0.710,-2.05,\n",
        "\n",
        "year1980"
       ]
      },
      {
       "output_type": "stream",
       "stream": "stdout",
       "text": [
        "\n",
        "1.,1980,MLB,ATL,NL,6,028,5,423,1,397,131,454,26,44,81,103,696,0.732,2.01,\n",
        "\n",
        "year1981"
       ]
      },
      {
       "output_type": "stream",
       "stream": "stdout",
       "text": [
        "\n",
        "1.,1981,MLB,ATL,NL,4,078,3,639,936,62,330,11,34,64,64,471,0.727,1.05,\n",
        "\n",
        "year1982"
       ]
      },
      {
       "output_type": "stream",
       "stream": "stdout",
       "text": [
        "\n",
        "1.,1982,MLB,ATL,NL,6,206,5,548,1,484,126,502,24,45,86,84,813,0.714,-0.53,\n",
        "\n",
        "year1983"
       ]
      },
      {
       "output_type": "stream",
       "stream": "stdout",
       "text": [
        "\n",
        "1.,1983,MLB,ATL,NL,6,113,5,430,1,412,132,540,23,43,75,88,895,0.717,-1.14,\n",
        "\n",
        "year1984"
       ]
      },
      {
       "output_type": "stream",
       "stream": "stdout",
       "text": [
        "\n",
        "1.,1984,MLB,ATL,NL,6,127,5,457,1,401,122,525,18,46,81,87,859,0.722,0.17,\n",
        "\n",
        "year1985"
       ]
      },
      {
       "output_type": "stream",
       "stream": "stdout",
       "text": [
        "\n",
        "1.,1985,MLB,ATL,NL,6,374,5,579,1,512,134,642,28,35,88,90,776,0.712,-2.34,\n",
        "\n",
        "year1986"
       ]
      },
      {
       "output_type": "stream",
       "stream": "stdout",
       "text": [
        "\n",
        "1.,1986,MLB,ATL,NL,6,125,5,419,1,443,117,576,26,34,70,82,932,0.704,-2.05,\n",
        "\n",
        "year1987"
       ]
      },
      {
       "output_type": "stream",
       "stream": "stdout",
       "text": [
        "\n",
        "1.,1987,MLB,ATL,NL,6,270,5,532,1,529,163,587,39,49,63,76,837,0.706,-2.07,\n",
        "\n",
        "year1988"
       ]
      },
      {
       "output_type": "stream",
       "stream": "stdout",
       "text": [
        "\n",
        "1.,1988,MLB,ATL,NL,6,246,5,528,1,481,108,524,43,45,106,90,810,0.712,-2.34,\n",
        "\n",
        "year1989"
       ]
      },
      {
       "output_type": "stream",
       "stream": "stdout",
       "text": [
        "\n",
        "1.,1989,MLB,ATL,NL,6,088,5,470,1,370,114,468,16,44,89,98,966,0.722,-0.77,\n",
        "\n",
        "year1990"
       ]
      },
      {
       "output_type": "stream",
       "stream": "stdout",
       "text": [
        "\n",
        "1.,1990,MLB,ATL,NL,6,303,5,550,1,527,128,579,26,54,94,88,938,0.698,-3.36,\n",
        "\n",
        "year1991"
       ]
      },
      {
       "output_type": "stream",
       "stream": "stdout",
       "text": [
        "\n",
        "1.,1991,MLB,ATL,NL,6,051,5,429,1,304,118,481,28,39,74,88,969,0.734,0.70,\n",
        "\n",
        "year1992"
       ]
      },
      {
       "output_type": "stream",
       "stream": "stdout",
       "text": [
        "\n",
        "1.,1992,MLB,ATL,NL,6,072,5,467,1,321,89,489,26,37,53,56,948,0.727,0.74,\n",
        "\n",
        "year1993"
       ]
      },
      {
       "output_type": "stream",
       "stream": "stdout",
       "text": [
        "\n",
        "1.,1993,MLB,ATL,NL,6,015,5,394,1,297,101,480,22,39,77,60,1,036,0.727,1.89,\n",
        "\n",
        "year1994"
       ]
      },
      {
       "output_type": "stream",
       "stream": "stdout",
       "text": [
        "\n",
        "1.,1994,MLB,ATL,NL,4,322,3,837,929,76,378,22,37,48,47,865,0.714,1.36,\n",
        "\n",
        "year1995"
       ]
      },
      {
       "output_type": "stream",
       "stream": "stdout",
       "text": [
        "\n",
        "1.,1995,MLB,ATL,NL,5,410,4,845,1,184,107,436,32,34,63,57,1,087,0.713,1.01,\n",
        "\n",
        "year1996"
       ]
      },
      {
       "output_type": "stream",
       "stream": "stdout",
       "text": [
        "\n",
        "1.,1996,MLB,ATL,NL,6,132,5,553,1,372,120,451,19,38,71,81,1,245,0.709,0.41,\n",
        "\n",
        "year1997"
       ]
      },
      {
       "output_type": "stream",
       "stream": "stdout",
       "text": [
        "\n",
        "1.,1997,MLB,ANA,AL,6,365,5,604,1,506,202,605,54,56,46,68,1,050,0.707,1.07,\n",
        "\n",
        "year1998"
       ]
      },
      {
       "output_type": "stream",
       "stream": "stdout",
       "text": [
        "\n",
        "1.,1998,MLB,ANA,AL,6,326,5,548,1,481,164,630,47,57,44,65,1,091,0.700,-0.03,\n",
        "\n",
        "year1999"
       ]
      },
      {
       "output_type": "stream",
       "stream": "stdout",
       "text": [
        "\n",
        "1.,1999,MLB,ANA,AL,6,258,5,477,1,472,177,624,56,65,36,61,877,0.714,2.33,\n",
        "\n",
        "year2000"
       ]
      },
      {
       "output_type": "stream",
       "stream": "stdout",
       "text": [
        "\n",
        "1.,2000,MLB,ANA,AL,6,401,5,609,1,534,228,662,36,53,40,93,846,0.718,2.33,\n",
        "\n",
        "year2001"
       ]
      },
      {
       "output_type": "stream",
       "stream": "stdout",
       "text": [
        "\n",
        "1.,2001,MLB,ANA,AL,6,195,5,529,1,452,168,525,64,39,37,68,947,0.714,0.88,\n",
        "\n",
        "year2002"
       ]
      },
      {
       "output_type": "stream",
       "stream": "stdout",
       "text": [
        "\n",
        "1.,2002,MLB,ANA,AL,6,097,5,453,1,345,169,509,49,59,27,53,999,0.731,3.18,\n",
        "\n",
        "year2003"
       ]
      },
      {
       "output_type": "stream",
       "stream": "stdout",
       "text": [
        "\n",
        "1.,2003,MLB,ANA,AL,6,161,5,532,1,444,190,486,76,42,25,59,980,0.717,1.09,\n",
        "\n",
        "year2004"
       ]
      },
      {
       "output_type": "stream",
       "stream": "stdout",
       "text": [
        "\n",
        "1.,2004,MLB,ANA,AL,6,246,5,617,1,476,170,502,44,47,35,56,1,164,0.701,-0.34,\n",
        "\n",
        "year2005"
       ]
      },
      {
       "output_type": "stream",
       "stream": "stdout",
       "text": [
        "\n",
        "1.,2005,MLB,ANA,AL,6,158,5,593,1,419,158,443,48,35,39,47,1,126,0.712,0.77,\n",
        "\n",
        "year2006"
       ]
      },
      {
       "output_type": "stream",
       "stream": "stdout",
       "text": [
        "\n",
        "1.,2006,MLB,ANA,AL,6,149,5,541,1,410,158,471,50,43,40,74,1,164,0.709,1.00,\n",
        "\n",
        "year2007"
       ]
      },
      {
       "output_type": "stream",
       "stream": "stdout",
       "text": [
        "\n",
        "1.,2007,MLB,ANA,AL,6,161,5,563,1,480,151,477,51,40,28,58,1,156,0.693,-1.31,\n",
        "\n",
        "year2008"
       ]
      },
      {
       "output_type": "stream",
       "stream": "stdout",
       "text": [
        "\n",
        "1.,2008,MLB,ANA,AL,6,161,5,571,1,455,160,457,63,33,36,53,1,106,0.704,0.13,\n",
        "\n",
        "year2009"
       ]
      },
      {
       "output_type": "stream",
       "stream": "stdout",
       "text": [
        "\n",
        "1.,2009,MLB,ANA,AL,6,252,5,562,1,513,180,523,58,54,52,42,1,062,0.699,-0.44,\n",
        "\n",
        "year2010"
       ]
      },
      {
       "output_type": "stream",
       "stream": "stdout",
       "text": [
        "\n",
        "1.,2010,MLB,ANA,AL,6,252,5,556,1,422,148,565,46,42,41,59,1,130,0.708,0.18,\n",
        "\n",
        "year2011"
       ]
      },
      {
       "output_type": "stream",
       "stream": "stdout",
       "text": [
        "\n",
        "1.,2011,MLB,ANA,AL,6,124,5,525,1,388,142,476,36,41,46,54,1,058,0.718,1.47,\n",
        "\n",
        "year2012"
       ]
      },
      {
       "output_type": "stream",
       "stream": "stdout",
       "text": [
        "\n",
        "1.,2012,MLB,ANA,AL,6,034,5,434,1,339,186,483,40,45,31,64,1,157,0.723,2.44,\n",
        "\n",
        "year2013"
       ]
      },
      {
       "output_type": "stream",
       "stream": "stdout",
       "text": [
        "\n",
        "1.,2013,MLB,ANA,AL,6,298,5,646,1,475,167,533,45,35,37,55,1,200,0.699,-0.78,\n",
        "\n",
        "year2014"
       ]
      },
      {
       "output_type": "stream",
       "stream": "stdout",
       "text": [
        "\n",
        "1.,2014,MLB,ANA,AL,6,179,5,533,1,307,126,504,63,49,29,42,1,342,0.715,1.64,\n",
        "\n"
       ]
      }
     ],
     "prompt_number": 1
    }
   ],
   "metadata": {}
  }
 ]
}