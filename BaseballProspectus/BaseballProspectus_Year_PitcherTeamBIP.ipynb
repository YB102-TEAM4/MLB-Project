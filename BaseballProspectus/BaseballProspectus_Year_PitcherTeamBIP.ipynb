{
 "metadata": {
  "name": "",
  "signature": "sha256:ebe024fbd043e5b4b8b489b91552c94afd1b1b30f49ba35e418115798d7ba955"
 },
 "nbformat": 3,
 "nbformat_minor": 0,
 "worksheets": [
  {
   "cells": [
    {
     "cell_type": "code",
     "collapsed": false,
     "input": [
      "#\u9996\u5148Name\u8981\u6392\u5e8f\n",
      "#\u8981\u6ce8\u610f\u7684\u5730\u65b9\u6709\u56db\u500b directory, range, year, page_limit\n",
      "import string, time, requests, os\n",
      "from bs4 import BeautifulSoup\n",
      "headers={\n",
      "    'User-Agent':'Mozilla/5.0 (Windows NT 6.1; WOW64) AppleWebKit/537.36 (KHTML, like Gecko) Chrome/40.0.2214.93 Safari/537.36'\n",
      "}\n",
      "url='http://www.baseballprospectus.com/sortable/index.php'\n",
      "\n",
      "folder='PitcherTeamBIP'#\u8cc7\u6599\u593e\u540d\u7a31*********************\n",
      "\n",
      "path='Baseball\\\\'+folder #\u8def\u5f91\u540d\u7a31\n",
      "if os.path.exists(path):\n",
      "    print 'folder exists'\n",
      "else:    \n",
      "    os.mkdir(path)\n",
      "    print 'folder not exists'  \n",
      "    \n",
      "for year in range(1871,2015): #2015\u6c92\u7b97\u5230**************\n",
      "    payload={            \n",
      "            #'year':'%d'%(year),*********************            \n",
      "            #'page_limit':'All',*********************\n",
      "            'mystatslist':'LVL,NAME,YEAR,AGE,G,GS,IP,IP_START,IP_RELIEF,PA,BATTED_BALL_TYPE_KNOWN,FB,GB,LINEDR,POPUP,BABIP,DP_PERCENT,FB_PERCENT,GB_PERCENT,LINEDR_PERCENT,POPUP_PERCENT',\n",
      "            'category':'pitcher_season',\n",
      "            'tablename':'dyna_pitcher_season',\n",
      "            'stage':'data',\n",
      "            'year':'%d'%(year),#*********************\n",
      "            'mystatslist':'LVL,NAME,YEAR,AGE,G,GS,IP,IP_START,IP_RELIEF,PA,BATTED_BALL_TYPE_KNOWN,FB,GB,LINEDR,POPUP,BABIP,DP_PERCENT,FB_PERCENT,GB_PERCENT,LINEDR_PERCENT,POPUP_PERCENT',\n",
      "            'category':'pitcher_season',\n",
      "            'tablename':'dyna_pitcher_season',\n",
      "            'stage':'data',\n",
      "            'group_LVL':'MLB',\n",
      "            'minimum':'0',\n",
      "            'sort1column':'NAME',\n",
      "            'sort1order':'ASC',\n",
      "            'page_limit':'All',#*********************\n",
      "            'tt_team':'*',\n",
      "            'show_ttroster':'1',\n",
      "            'show_ttwatched':'1',\n",
      "            'viewdata':'View Data',\n",
      "        }\n",
      "    res=requests.post(url,data=payload,headers=headers)\n",
      "    soup=BeautifulSoup(res.text.encode('utf-8'))    \n",
      "    trList=soup.select('#TTdata tr')\n",
      "    fileName= str(year)+'_'+folder+'.csv'\n",
      "    fid=open(path+'\\\\'+fileName,'w')    \n",
      "    for tr in trList:\n",
      "        for td in tr.select('td'):\n",
      "            fid.write(td.text.encode('utf-8')+',')\n",
      "        fid.write('\\n')\n",
      "    fid.close()\n",
      "    fod=open(path+'\\\\'+fileName,'r')\n",
      "    print 'year'+str(year)\n",
      "    print fod.readlines()[1]\n",
      "    fod.close()\n",
      "    time.sleep(2)\n"
     ],
     "language": "python",
     "metadata": {},
     "outputs": [
      {
       "output_type": "stream",
       "stream": "stdout",
       "text": [
        "folder not exists\n",
        "year1871"
       ]
      },
      {
       "output_type": "stream",
       "stream": "stdout",
       "text": [
        "\n",
        "1.,MLB,Al Pratt,1871,23,28,28,224.7,0.0,0.0,1,117,,,,,,.000,0.0%,0.0%,0.0%,0.0%,0.0%,\n",
        "\n",
        "year1872"
       ]
      },
      {
       "output_type": "stream",
       "stream": "stdout",
       "text": [
        "\n",
        "1.,MLB, O'rourke,1872,0,1,1,9.0,0.0,0.0,51,,,,,,.000,0.0%,0.0%,0.0%,0.0%,0.0%,\n",
        "\n",
        "year1873"
       ]
      },
      {
       "output_type": "stream",
       "stream": "stdout",
       "text": [
        "\n",
        "1.,MLB,Al Spalding,1873,22,60,54,496.7,0.0,0.0,2,297,,,,,,.000,0.0%,0.0%,0.0%,0.0%,0.0%,\n",
        "\n",
        "year1874"
       ]
      },
      {
       "output_type": "stream",
       "stream": "stdout",
       "text": [
        "\n",
        "1.,MLB,Al Spalding,1874,23,71,69,617.3,0.0,0.0,2,784,,,,,,.000,0.0%,0.0%,0.0%,0.0%,0.0%,\n",
        "\n",
        "year1875"
       ]
      }
     ]
    }
   ],
   "metadata": {}
  }
 ]
}