{
 "metadata": {
  "name": "",
  "signature": "sha256:1ddc568339b847124234f5d5762a49a25cce1edebbf643aad46b008f357c49c4"
 },
 "nbformat": 3,
 "nbformat_minor": 0,
 "worksheets": [
  {
   "cells": [
    {
     "cell_type": "code",
     "collapsed": false,
     "input": [
      "#\u9996\u5148Name\u8981\u6392\u5e8f\n",
      "#\u8981\u6ce8\u610f\u7684\u5730\u65b9\u6709\u56db\u500b folder, range, year, page_limit\n",
      "import string, time, requests, os\n",
      "from bs4 import BeautifulSoup\n",
      "headers={\n",
      "    'User-Agent':'Mozilla/5.0 (Windows NT 6.1; WOW64) AppleWebKit/537.36 (KHTML, like Gecko) Chrome/40.0.2214.93 Safari/537.36'\n",
      "}\n",
      "url='http://www.baseballprospectus.com/sortable/index.php'\n",
      "\n",
      "folder='PitcherAbusePoints'#\u8cc7\u6599\u593e\u540d\u7a31*********************\n",
      "\n",
      "path='Baseball\\\\'+folder #\u8def\u5f91\u540d\u7a31\n",
      "if os.path.exists(path):\n",
      "    print 'folder exists'\n",
      "else:    \n",
      "    os.mkdir(path)\n",
      "    print 'folder not exists'  \n",
      "    \n",
      "for year in range(1871,2015): #2015\u6c92\u7b97\u5230**************\n",
      "    payload={            \n",
      "            'mystatslist':'NAME,YEAR,LVL,GS,TOT_NP,MAX_NP,AVG_NP,TOT_PAP,MAX_PAP,AVG_PAP,CAT_1,CAT_2,CAT_3,CAT_4,CAT_5,STRESS',\n",
      "            'category':'pitcher_season',\n",
      "            'tablename':'dyna_pitcher_season',\n",
      "            'stage':'data',\n",
      "            'year':'%d'%(year),#*********************\n",
      "            'mystatslist':'NAME,YEAR,LVL,GS,TOT_NP,MAX_NP,AVG_NP,TOT_PAP,MAX_PAP,AVG_PAP,CAT_1,CAT_2,CAT_3,CAT_4,CAT_5,STRESS',\n",
      "            'category':'pitcher_season',\n",
      "            'tablename':'dyna_pitcher_season',\n",
      "            'stage':'data',\n",
      "            'minimum':'0',\n",
      "            'sort1column':'NAME',\n",
      "            'sort1order':'ASC',\n",
      "            'page_limit':'All',#*********************\n",
      "            'tt_team':'*',\n",
      "            'show_ttroster':'1',\n",
      "            'show_ttwatched':'1',\n",
      "            'viewdata':'View Data',\n",
      "        }\n",
      "    res=requests.post(url,data=payload,headers=headers)\n",
      "    soup=BeautifulSoup(res.text.encode('utf-8'))\n",
      "    trList=soup.select('#TTdata tr')\n",
      "    fileName= str(year)+'_'+folder+'.csv'\n",
      "    fid=open(path+'\\\\'+fileName,'w')\n",
      "    for tr in trList:\n",
      "        for td in tr.select('td'):\n",
      "            fid.write(td.text.encode('utf-8')+',')\n",
      "        fid.write('\\n')\n",
      "    fid.close()\n",
      "    fod=open(path+'\\\\'+fileName,'r')\n",
      "    print 'year'+str(year)\n",
      "    print fod.readlines()[1]\n",
      "    fod.close()\n",
      "    time.sleep(2)\n"
     ],
     "language": "python",
     "metadata": {},
     "outputs": [
      {
       "output_type": "stream",
       "stream": "stdout",
       "text": [
        "folder not exists\n",
        "year1871"
       ]
      },
      {
       "output_type": "stream",
       "stream": "stdout",
       "text": [
        "\n",
        "1.,Al Pratt,1871,MLB,28,0,0,0.0,0,0,0,0,0,0,0,0,0,\n",
        "\n",
        "year1872"
       ]
      },
      {
       "output_type": "stream",
       "stream": "stdout",
       "text": [
        "\n",
        "1., O'rourke,1872,MLB,1,0,0,0.0,0,0,0,0,0,0,0,0,0,\n",
        "\n",
        "year1873"
       ]
      },
      {
       "output_type": "stream",
       "stream": "stdout",
       "text": [
        "\n",
        "1.,Al Spalding,1873,MLB,54,0,0,0.0,0,0,0,0,0,0,0,0,0,\n",
        "\n",
        "year1874"
       ]
      },
      {
       "output_type": "stream",
       "stream": "stdout",
       "text": [
        "\n",
        "1.,Al Spalding,1874,MLB,69,0,0,0.0,0,0,0,0,0,0,0,0,0,\n",
        "\n",
        "year1875"
       ]
      },
      {
       "output_type": "stream",
       "stream": "stdout",
       "text": [
        "\n",
        "1.,Al Spalding,1875,MLB,62,0,0,0.0,0,0,0,0,0,0,0,0,0,\n",
        "\n",
        "year1876"
       ]
      },
      {
       "output_type": "stream",
       "stream": "stdout",
       "text": [
        "\n",
        "1.,Al Spalding,1876,MLB,60,0,0,0.0,0,0,0,0,0,0,0,0,0,\n",
        "\n",
        "year1877"
       ]
      },
      {
       "output_type": "stream",
       "stream": "stdout",
       "text": [
        "\n",
        "1.,Al Spalding,1877,MLB,1,0,0,0.0,0,0,0,0,0,0,0,0,0,\n",
        "\n",
        "year1878"
       ]
      },
      {
       "output_type": "stream",
       "stream": "stdout",
       "text": [
        "\n",
        "1.,Bobby Mitchell,1878,MLB,9,0,0,0.0,0,0,0,0,0,0,0,0,0,\n",
        "\n",
        "year1879"
       ]
      },
      {
       "output_type": "stream",
       "stream": "stdout",
       "text": [
        "\n",
        "1.,Bill Mcgunnigle,1879,MLB,13,0,0,0.0,0,0,0,0,0,0,0,0,0,\n",
        "\n",
        "year1880"
       ]
      },
      {
       "output_type": "stream",
       "stream": "stdout",
       "text": [
        "\n",
        "1.,Bill Mcgunnigle,1880,MLB,5,0,0,0.0,0,0,0,0,0,0,0,0,0,\n",
        "\n",
        "year1881"
       ]
      },
      {
       "output_type": "stream",
       "stream": "stdout",
       "text": [
        "\n",
        "1.,Billy Taylor,1881,MLB,1,0,0,0.0,0,0,0,0,0,0,0,0,0,\n",
        "\n",
        "year1882"
       ]
      },
      {
       "output_type": "stream",
       "stream": "stdout",
       "text": [
        "\n",
        "1.,Art Whitney,1882,MLB,2,0,0,0.0,0,0,0,0,0,0,0,0,0,\n",
        "\n",
        "year1883"
       ]
      },
      {
       "output_type": "stream",
       "stream": "stdout",
       "text": [
        "\n",
        "1.,Alonzo Breitenstein,1883,MLB,1,0,0,0.0,0,0,0,0,0,0,0,0,0,\n",
        "\n",
        "year1884"
       ]
      },
      {
       "output_type": "stream",
       "stream": "stdout",
       "text": [
        "\n",
        "1., Smith\u00e2\u0094\u0090,1884,MLB,1,0,0,0.0,0,0,0,0,0,0,0,0,0,\n",
        "\n",
        "year1885"
       ]
      },
      {
       "output_type": "stream",
       "stream": "stdout",
       "text": [
        "\n",
        "1.,Adonis Terry,1885,MLB,23,0,0,0.0,0,0,0,0,0,0,0,0,0,\n",
        "\n",
        "year1886"
       ]
      },
      {
       "output_type": "stream",
       "stream": "stdout",
       "text": [
        "\n",
        "1.,Abner Powell,1886,MLB,8,0,0,0.0,0,0,0,0,0,0,0,0,0,\n",
        "\n",
        "year1887"
       ]
      },
      {
       "output_type": "stream",
       "stream": "stdout",
       "text": [
        "\n",
        "1.,Adonis Terry,1887,MLB,35,0,0,0.0,0,0,0,0,0,0,0,0,0,\n",
        "\n",
        "year1888"
       ]
      },
      {
       "output_type": "stream",
       "stream": "stdout",
       "text": [
        "\n",
        "1.,Ad Gumbert,1888,MLB,6,0,0,0.0,0,0,0,0,0,0,0,0,0,\n",
        "\n",
        "year1889"
       ]
      },
      {
       "output_type": "stream",
       "stream": "stdout",
       "text": [
        "\n",
        "1.,Ad Gumbert,1889,MLB,28,0,0,0.0,0,0,0,0,0,0,0,0,0,\n",
        "\n",
        "year1890"
       ]
      },
      {
       "output_type": "stream",
       "stream": "stdout",
       "text": [
        "\n",
        "1.,Ad Gumbert,1890,MLB,33,0,0,0.0,0,0,0,0,0,0,0,0,0,\n",
        "\n",
        "year1891"
       ]
      },
      {
       "output_type": "stream",
       "stream": "stdout",
       "text": [
        "\n",
        "1.,Ad Gumbert,1891,MLB,31,0,0,0.0,0,0,0,0,0,0,0,0,0,\n",
        "\n",
        "year1892"
       ]
      },
      {
       "output_type": "stream",
       "stream": "stdout",
       "text": [
        "\n",
        "1.,Ad Gumbert,1892,MLB,45,0,0,0.0,0,0,0,0,0,0,0,0,0,\n",
        "\n",
        "year1893"
       ]
      },
      {
       "output_type": "stream",
       "stream": "stdout",
       "text": [
        "\n",
        "1.,Abe Johnson,1893,MLB,0,0,0,0.0,0,0,0,0,0,0,0,0,0,\n",
        "\n",
        "year1894"
       ]
      },
      {
       "output_type": "stream",
       "stream": "stdout",
       "text": [
        "\n",
        "1.,Ad Gumbert,1894,MLB,32,0,0,0.0,0,0,0,0,0,0,0,0,0,\n",
        "\n",
        "year1895"
       ]
      },
      {
       "output_type": "stream",
       "stream": "stdout",
       "text": [
        "\n",
        "1.,Ad Gumbert,1895,MLB,26,0,0,0.0,0,0,0,0,0,0,0,0,0,\n",
        "\n",
        "year1896"
       ]
      },
      {
       "output_type": "stream",
       "stream": "stdout",
       "text": [
        "\n",
        "1.,Ad Gumbert,1896,MLB,14,0,0,0.0,0,0,0,0,0,0,0,0,0,\n",
        "\n",
        "year1897"
       ]
      },
      {
       "output_type": "stream",
       "stream": "stdout",
       "text": [
        "\n",
        "1.,Adonis Terry,1897,MLB,1,0,0,0.0,0,0,0,0,0,0,0,0,0,\n",
        "\n",
        "year1898"
       ]
      },
      {
       "output_type": "stream",
       "stream": "stdout",
       "text": [
        "\n",
        "1.,Al Maul,1898,MLB,28,0,0,0.0,0,0,0,0,0,0,0,0,0,\n",
        "\n",
        "year1899"
       ]
      },
      {
       "output_type": "stream",
       "stream": "stdout",
       "text": [
        "\n",
        "1.,Al Maul,1899,MLB,4,0,0,0.0,0,0,0,0,0,0,0,0,0,\n",
        "\n",
        "year1900"
       ]
      },
      {
       "output_type": "stream",
       "stream": "stdout",
       "text": [
        "\n",
        "1.,Al Maul,1900,MLB,4,0,0,0.0,0,0,0,0,0,0,0,0,0,\n",
        "\n",
        "year1901"
       ]
      },
      {
       "output_type": "stream",
       "stream": "stdout",
       "text": [
        "\n",
        "1.,Al Maul,1901,MLB,3,0,0,0.0,0,0,0,0,0,0,0,0,0,\n",
        "\n",
        "year1902"
       ]
      },
      {
       "output_type": "stream",
       "stream": "stdout",
       "text": [
        "\n",
        "1.,Addie Joss,1902,MLB,29,0,0,0.0,0,0,0,0,0,0,0,0,0,\n",
        "\n",
        "year1903"
       ]
      },
      {
       "output_type": "stream",
       "stream": "stdout",
       "text": [
        "\n",
        "1.,Addie Joss,1903,MLB,31,0,0,0.0,0,0,0,0,0,0,0,0,0,\n",
        "\n",
        "year1904"
       ]
      },
      {
       "output_type": "stream",
       "stream": "stdout",
       "text": [
        "\n",
        "1.,Addie Joss,1904,MLB,24,0,0,0.0,0,0,0,0,0,0,0,0,0,\n",
        "\n",
        "year1905"
       ]
      },
      {
       "output_type": "stream",
       "stream": "stdout",
       "text": [
        "\n",
        "1.,Addie Joss,1905,MLB,32,0,0,0.0,0,0,0,0,0,0,0,0,0,\n",
        "\n",
        "year1906"
       ]
      },
      {
       "output_type": "stream",
       "stream": "stdout",
       "text": [
        "\n",
        "1.,Addie Joss,1906,MLB,31,0,0,0.0,0,0,0,0,0,0,0,0,0,\n",
        "\n",
        "year1907"
       ]
      },
      {
       "output_type": "stream",
       "stream": "stdout",
       "text": [
        "\n",
        "1.,Addie Joss,1907,MLB,38,0,0,0.0,0,0,0,0,0,0,0,0,0,\n",
        "\n",
        "year1908"
       ]
      },
      {
       "output_type": "stream",
       "stream": "stdout",
       "text": [
        "\n",
        "1.,Abe Kruger,1908,MLB,1,0,0,0.0,0,0,0,0,0,0,0,0,0,\n",
        "\n",
        "year1909"
       ]
      },
      {
       "output_type": "stream",
       "stream": "stdout",
       "text": [
        "\n",
        "1.,Addie Joss,1909,MLB,28,0,0,0.0,0,0,0,0,0,0,0,0,0,\n",
        "\n",
        "year1910"
       ]
      },
      {
       "output_type": "stream",
       "stream": "stdout",
       "text": [
        "\n",
        "1.,Ad Brennan,1910,MLB,5,0,0,0.0,0,0,0,0,0,0,0,0,0,\n",
        "\n",
        "year1911"
       ]
      },
      {
       "output_type": "stream",
       "stream": "stdout",
       "text": [
        "\n",
        "1.,Ad Brennan,1911,MLB,3,0,0,0.0,0,0,0,0,0,0,0,0,0,\n",
        "\n",
        "year1912"
       ]
      },
      {
       "output_type": "stream",
       "stream": "stdout",
       "text": [
        "\n",
        "1.,Ad Brennan,1912,MLB,19,0,0,0.0,0,0,0,0,0,0,0,0,0,\n",
        "\n",
        "year1913"
       ]
      },
      {
       "output_type": "stream",
       "stream": "stdout",
       "text": [
        "\n",
        "1.,Ad Brennan,1913,MLB,24,0,0,0.0,0,0,0,0,0,0,0,0,0,\n",
        "\n",
        "year1914"
       ]
      },
      {
       "output_type": "stream",
       "stream": "stdout",
       "text": [
        "\n",
        "1.,Abe Bowman,1914,MLB,10,0,0,0.0,0,0,0,0,0,0,0,0,0,\n",
        "\n",
        "year1915"
       ]
      },
      {
       "output_type": "stream",
       "stream": "stdout",
       "text": [
        "\n",
        "1.,Abe Bowman,1915,MLB,1,0,0,0.0,0,0,0,0,0,0,0,0,0,\n",
        "\n",
        "year1916"
       ]
      },
      {
       "output_type": "stream",
       "stream": "stdout",
       "text": [
        "\n",
        "1.,Al Demaree,1916,MLB,35,0,0,0.0,0,0,0,0,0,0,0,0,0,\n",
        "\n",
        "year1917"
       ]
      },
      {
       "output_type": "stream",
       "stream": "stdout",
       "text": [
        "\n",
        "1.,Ad Swigler,1917,MLB,1,0,0,0.0,0,0,0,0,0,0,0,0,0,\n",
        "\n",
        "year1918"
       ]
      },
      {
       "output_type": "stream",
       "stream": "stdout",
       "text": [
        "\n",
        "1.,Ad Brennan,1918,MLB,1,0,0,0.0,0,0,0,0,0,0,0,0,0,\n",
        "\n",
        "year1919"
       ]
      },
      {
       "output_type": "stream",
       "stream": "stdout",
       "text": [
        "\n",
        "1.,Al Demaree,1919,MLB,13,0,0,0.0,0,0,0,0,0,0,0,0,0,\n",
        "\n",
        "year1920"
       ]
      },
      {
       "output_type": "stream",
       "stream": "stdout",
       "text": [
        "\n",
        "1.,Adrian Lynch,1920,MLB,3,0,0,0.0,0,0,0,0,0,0,0,0,0,\n",
        "\n",
        "year1921"
       ]
      },
      {
       "output_type": "stream",
       "stream": "stdout",
       "text": [
        "\n",
        "1.,Al Mamaux,1921,MLB,1,0,0,0.0,0,0,0,0,0,0,0,0,0,\n",
        "\n",
        "year1922"
       ]
      },
      {
       "output_type": "stream",
       "stream": "stdout",
       "text": [
        "\n",
        "1.,Al Mamaux,1922,MLB,7,0,0,0.0,0,0,0,0,0,0,0,0,0,\n",
        "\n",
        "year1923"
       ]
      },
      {
       "output_type": "stream",
       "stream": "stdout",
       "text": [
        "\n",
        "1.,Al Kellett,1923,MLB,0,0,0,0.0,0,0,0,0,0,0,0,0,0,\n",
        "\n",
        "year1924"
       ]
      },
      {
       "output_type": "stream",
       "stream": "stdout",
       "text": [
        "\n",
        "1.,Al Kellett,1924,MLB,0,0,0,0.0,0,0,0,0,0,0,0,0,0,\n",
        "\n",
        "year1925"
       ]
      },
      {
       "output_type": "stream",
       "stream": "stdout",
       "text": [
        "\n",
        "1.,Alex Ferguson,1925,MLB,16,0,0,0.0,0,0,0,0,0,0,0,0,0,\n",
        "\n",
        "year1926"
       ]
      },
      {
       "output_type": "stream",
       "stream": "stdout",
       "text": [
        "\n",
        "1.,Al Smith,1926,MLB,0,0,0,0.0,0,0,0,0,0,0,0,0,0,\n",
        "\n",
        "year1927"
       ]
      },
      {
       "output_type": "stream",
       "stream": "stdout",
       "text": [
        "\n",
        "1.,Alex Ferguson,1927,MLB,31,0,0,0.0,0,0,0,0,0,0,0,0,0,\n",
        "\n",
        "year1928"
       ]
      },
      {
       "output_type": "stream",
       "stream": "stdout",
       "text": [
        "\n",
        "1.,Al Shealy,1928,MLB,12,0,0,0.0,0,0,0,0,0,0,0,0,0,\n",
        "\n",
        "year1929"
       ]
      },
      {
       "output_type": "stream",
       "stream": "stdout",
       "text": [
        "\n",
        "1.,Ad Liska,1929,MLB,10,0,0,0.0,0,0,0,0,0,0,0,0,0,\n",
        "\n",
        "year1930"
       ]
      },
      {
       "output_type": "stream",
       "stream": "stdout",
       "text": [
        "\n",
        "1.,Ad Liska,1930,MLB,16,0,0,0.0,0,0,0,0,0,0,0,0,0,\n",
        "\n",
        "year1931"
       ]
      },
      {
       "output_type": "stream",
       "stream": "stdout",
       "text": [
        "\n",
        "1.,Ad Liska,1931,MLB,1,0,0,0.0,0,0,0,0,0,0,0,0,0,\n",
        "\n",
        "year1932"
       ]
      },
      {
       "output_type": "stream",
       "stream": "stdout",
       "text": [
        "\n",
        "1.,Ad Liska,1932,MLB,0,0,0,0.0,0,0,0,0,0,0,0,0,0,\n",
        "\n",
        "year1933"
       ]
      },
      {
       "output_type": "stream",
       "stream": "stdout",
       "text": [
        "\n",
        "1.,Ad Liska,1933,MLB,1,0,0,0.0,0,0,0,0,0,0,0,0,0,\n",
        "\n",
        "year1934"
       ]
      },
      {
       "output_type": "stream",
       "stream": "stdout",
       "text": [
        "\n",
        "1.,Al Benton,1934,MLB,21,0,0,0.0,0,0,0,0,0,0,0,0,0,\n",
        "\n",
        "year1935"
       ]
      },
      {
       "output_type": "stream",
       "stream": "stdout",
       "text": [
        "\n",
        "1.,Al Benton,1935,MLB,9,0,0,0.0,0,0,0,0,0,0,0,0,0,\n",
        "\n",
        "year1936"
       ]
      },
      {
       "output_type": "stream",
       "stream": "stdout",
       "text": [
        "\n",
        "1.,Al Blanche,1936,MLB,0,0,0,0.0,0,0,0,0,0,0,0,0,0,\n",
        "\n",
        "year1937"
       ]
      },
      {
       "output_type": "stream",
       "stream": "stdout",
       "text": [
        "\n",
        "1.,Abe White,1937,MLB,0,0,0,0.0,0,0,0,0,0,0,0,0,0,\n",
        "\n",
        "year1938"
       ]
      },
      {
       "output_type": "stream",
       "stream": "stdout",
       "text": [
        "\n",
        "1.,Al Baker,1938,MLB,0,0,0,0.0,0,0,0,0,0,0,0,0,0,\n",
        "\n",
        "year1939"
       ]
      },
      {
       "output_type": "stream",
       "stream": "stdout",
       "text": [
        "\n",
        "1.,Al Benton,1939,MLB,16,0,0,0.0,0,0,0,0,0,0,0,0,0,\n",
        "\n",
        "year1940"
       ]
      },
      {
       "output_type": "stream",
       "stream": "stdout",
       "text": [
        "\n",
        "1.,Ace Williams,1940,MLB,0,0,0,0.0,0,0,0,0,0,0,0,0,0,\n",
        "\n",
        "year1941"
       ]
      },
      {
       "output_type": "stream",
       "stream": "stdout",
       "text": [
        "\n",
        "1.,Ace Adams,1941,MLB,0,0,0,0.0,0,0,0,0,0,0,0,0,0,\n",
        "\n",
        "year1942"
       ]
      },
      {
       "output_type": "stream",
       "stream": "stdout",
       "text": [
        "\n",
        "1.,Ace Adams,1942,MLB,0,0,0,0.0,0,0,0,0,0,0,0,0,0,\n",
        "\n",
        "year1943"
       ]
      },
      {
       "output_type": "stream",
       "stream": "stdout",
       "text": [
        "\n",
        "1.,Ace Adams,1943,MLB,3,0,0,0.0,0,0,0,0,0,0,0,0,0,\n",
        "\n",
        "year1944"
       ]
      },
      {
       "output_type": "stream",
       "stream": "stdout",
       "text": [
        "\n",
        "1.,Ace Adams,1944,MLB,4,0,0,0.0,0,0,0,0,0,0,0,0,0,\n",
        "\n",
        "year1945"
       ]
      },
      {
       "output_type": "stream",
       "stream": "stdout",
       "text": [
        "\n",
        "1.,Ace Adams,1945,MLB,0,0,0,0.0,0,0,0,0,0,0,0,0,0,\n",
        "\n",
        "year1946"
       ]
      },
      {
       "output_type": "stream",
       "stream": "stdout",
       "text": [
        "\n",
        "1.,Ace Adams,1946,MLB,0,0,0,0.0,0,0,0,0,0,0,0,0,0,\n",
        "\n",
        "year1947"
       ]
      },
      {
       "output_type": "stream",
       "stream": "stdout",
       "text": [
        "\n",
        "1.,Al Benton,1947,MLB,14,0,0,0.0,0,0,0,0,0,0,0,0,0,\n",
        "\n",
        "year1948"
       ]
      },
      {
       "output_type": "stream",
       "stream": "stdout",
       "text": [
        "\n",
        "1.,Al Benton,1948,MLB,0,0,0,0.0,0,0,0,0,0,0,0,0,0,\n",
        "\n",
        "year1949"
       ]
      },
      {
       "output_type": "stream",
       "stream": "stdout",
       "text": [
        "\n",
        "1.,Adrian Zabala,1949,MLB,4,0,0,0.0,0,0,0,0,0,0,0,0,0,\n",
        "\n",
        "year1950"
       ]
      },
      {
       "output_type": "stream",
       "stream": "stdout",
       "text": [
        "\n",
        "1.,Al Aber,1950,MLB,1,0,0,0.0,0,0,0,0,0,0,0,0,0,\n",
        "\n",
        "year1951"
       ]
      },
      {
       "output_type": "stream",
       "stream": "stdout",
       "text": [
        "\n",
        "1.,Al Brazle,1951,MLB,8,0,0,0.0,0,0,0,0,0,0,0,0,0,\n",
        "\n",
        "year1952"
       ]
      },
      {
       "output_type": "stream",
       "stream": "stdout",
       "text": [
        "\n",
        "1.,Al Benton,1952,MLB,0,0,0,0.0,0,0,0,0,0,0,0,0,0,\n",
        "\n",
        "year1953"
       ]
      },
      {
       "output_type": "stream",
       "stream": "stdout",
       "text": [
        "\n",
        "1.,Al Aber,1953,MLB,10,0,0,0.0,0,0,0,0,0,0,0,0,0,\n",
        "\n",
        "year1954"
       ]
      },
      {
       "output_type": "stream",
       "stream": "stdout",
       "text": [
        "\n",
        "1.,Al Aber,1954,MLB,18,0,0,0.0,0,0,0,0,0,0,0,0,0,\n",
        "\n",
        "year1955"
       ]
      },
      {
       "output_type": "stream",
       "stream": "stdout",
       "text": [
        "\n",
        "1.,Al Aber,1955,MLB,1,0,0,0.0,0,0,0,0,0,0,0,0,0,\n",
        "\n",
        "year1956"
       ]
      },
      {
       "output_type": "stream",
       "stream": "stdout",
       "text": [
        "\n",
        "1.,Al Aber,1956,MLB,0,0,0,0.0,0,0,0,0,0,0,0,0,0,\n",
        "\n",
        "year1957"
       ]
      },
      {
       "output_type": "stream",
       "stream": "stdout",
       "text": [
        "\n",
        "1.,Al Aber,1957,MLB,0,0,0,0.0,0,0,0,0,0,0,0,0,0,\n",
        "\n",
        "year1958"
       ]
      },
      {
       "output_type": "stream",
       "stream": "stdout",
       "text": [
        "\n",
        "1.,Al Cicotte,1958,MLB,6,0,0,0.0,0,0,0,0,0,0,0,0,0,\n",
        "\n",
        "year1959"
       ]
      },
      {
       "output_type": "stream",
       "stream": "stdout",
       "text": [
        "\n",
        "1.,Al Cicotte,1959,MLB,1,0,0,0.0,0,0,0,0,0,0,0,0,0,\n",
        "\n",
        "year1960"
       ]
      },
      {
       "output_type": "stream",
       "stream": "stdout",
       "text": [
        "\n",
        "1.,Al Neiger,1960,MLB,0,0,0,0.0,0,0,0,0,0,0,0,0,0,\n",
        "\n",
        "year1961"
       ]
      },
      {
       "output_type": "stream",
       "stream": "stdout",
       "text": [
        "\n",
        "1.,Al Cicotte,1961,MLB,7,0,0,0.0,0,0,0,0,0,0,0,0,0,\n",
        "\n",
        "year1962"
       ]
      },
      {
       "output_type": "stream",
       "stream": "stdout",
       "text": [
        "\n",
        "1.,Al Cicotte,1962,MLB,0,0,0,0.0,0,0,0,0,0,0,0,0,0,\n",
        "\n",
        "year1963"
       ]
      },
      {
       "output_type": "stream",
       "stream": "stdout",
       "text": [
        "\n",
        "1.,Al Downing,1963,MLB,22,0,0,0.0,0,0,0,0,0,0,0,0,0,\n",
        "\n",
        "year1964"
       ]
      },
      {
       "output_type": "stream",
       "stream": "stdout",
       "text": [
        "\n",
        "1.,Al Downing,1964,MLB,35,0,0,0.0,0,0,0,0,0,0,0,0,0,\n",
        "\n",
        "year1965"
       ]
      },
      {
       "output_type": "stream",
       "stream": "stdout",
       "text": [
        "\n",
        "1.,Al Downing,1965,MLB,32,0,0,0.0,0,0,0,0,0,0,0,0,0,\n",
        "\n",
        "year1966"
       ]
      },
      {
       "output_type": "stream",
       "stream": "stdout",
       "text": [
        "\n",
        "1.,Al Closter,1966,MLB,0,0,0,0.0,0,0,0,0,0,0,0,0,0,\n",
        "\n",
        "year1967"
       ]
      },
      {
       "output_type": "stream",
       "stream": "stdout",
       "text": [
        "\n",
        "1.,Al Downing,1967,MLB,28,0,0,0.0,0,0,0,0,0,0,0,0,0,\n",
        "\n",
        "year1968"
       ]
      },
      {
       "output_type": "stream",
       "stream": "stdout",
       "text": [
        "\n",
        "1.,Al Downing,1968,MLB,12,0,0,0.0,0,0,0,0,0,0,0,0,0,\n",
        "\n",
        "year1969"
       ]
      },
      {
       "output_type": "stream",
       "stream": "stdout",
       "text": [
        "\n",
        "1.,Al Downing,1969,MLB,15,0,0,0.0,0,0,0,0,0,0,0,0,0,\n",
        "\n",
        "year1970"
       ]
      },
      {
       "output_type": "stream",
       "stream": "stdout",
       "text": [
        "\n",
        "1.,Al Downing,1970,MLB,22,0,0,0.0,0,0,0,0,0,0,0,0,0,\n",
        "\n",
        "year1971"
       ]
      },
      {
       "output_type": "stream",
       "stream": "stdout",
       "text": [
        "\n",
        "1.,Al Closter,1971,MLB,1,0,0,0.0,0,0,0,0,0,0,0,0,0,\n",
        "\n",
        "year1972"
       ]
      },
      {
       "output_type": "stream",
       "stream": "stdout",
       "text": [
        "\n",
        "1.,Al Closter,1972,MLB,0,0,0,0.0,0,0,0,0,0,0,0,0,0,\n",
        "\n",
        "year1973"
       ]
      },
      {
       "output_type": "stream",
       "stream": "stdout",
       "text": [
        "\n",
        "1.,Adrian Devine,1973,MLB,1,0,0,0.0,0,0,0,0,0,0,0,0,0,\n",
        "\n",
        "year1974"
       ]
      },
      {
       "output_type": "stream",
       "stream": "stdout",
       "text": [
        "\n",
        "1.,Al Downing,1974,MLB,16,0,0,0.0,0,0,0,0,0,0,0,0,0,\n",
        "\n",
        "year1975"
       ]
      },
      {
       "output_type": "stream",
       "stream": "stdout",
       "text": [
        "\n",
        "1.,Adrian Devine,1975,MLB,2,0,0,0.0,0,0,0,0,0,0,0,0,0,\n",
        "\n",
        "year1976"
       ]
      },
      {
       "output_type": "stream",
       "stream": "stdout",
       "text": [
        "\n",
        "1.,Adrian Devine,1976,MLB,1,0,0,0.0,0,0,0,0,0,0,0,0,0,\n",
        "\n",
        "year1977"
       ]
      },
      {
       "output_type": "stream",
       "stream": "stdout",
       "text": [
        "\n",
        "1.,Adrian Devine,1977,MLB,2,0,0,0.0,0,0,0,0,0,0,0,0,0,\n",
        "\n",
        "year1978"
       ]
      },
      {
       "output_type": "stream",
       "stream": "stdout",
       "text": [
        "\n",
        "1.,Adrian Devine,1978,MLB,6,0,0,0.0,0,0,0,0,0,0,0,0,0,\n",
        "\n",
        "year1979"
       ]
      },
      {
       "output_type": "stream",
       "stream": "stdout",
       "text": [
        "\n",
        "1.,Adrian Devine,1979,MLB,0,0,0,0.0,0,0,0,0,0,0,0,0,0,\n",
        "\n",
        "year1980"
       ]
      },
      {
       "output_type": "stream",
       "stream": "stdout",
       "text": [
        "\n",
        "1.,Adrian Devine,1980,MLB,0,0,0,0.0,0,0,0,0,0,0,0,0,0,\n",
        "\n",
        "year1981"
       ]
      },
      {
       "output_type": "stream",
       "stream": "stdout",
       "text": [
        "\n",
        "1.,Al Holland,1981,MLB,3,0,0,0.0,0,0,0,0,0,0,0,0,0,\n",
        "\n",
        "year1982"
       ]
      },
      {
       "output_type": "stream",
       "stream": "stdout",
       "text": [
        "\n",
        "1.,Al Holland,1982,MLB,7,0,0,0.0,0,0,0,0,0,0,0,0,0,\n",
        "\n",
        "year1983"
       ]
      },
      {
       "output_type": "stream",
       "stream": "stdout",
       "text": [
        "\n",
        "1.,Al Holland,1983,MLB,0,0,0,0.0,0,0,0,0,0,0,0,0,0,\n",
        "\n",
        "year1984"
       ]
      },
      {
       "output_type": "stream",
       "stream": "stdout",
       "text": [
        "\n",
        "1.,Al Holland,1984,MLB,0,0,0,0.0,0,0,0,0,0,0,0,0,0,\n",
        "\n",
        "year1985"
       ]
      },
      {
       "output_type": "stream",
       "stream": "stdout",
       "text": [
        "\n",
        "1.,Al Holland,1985,MLB,0,0,0,0.0,0,0,0,0,0,0,0,0,0,\n",
        "\n",
        "year1986"
       ]
      },
      {
       "output_type": "stream",
       "stream": "stdout",
       "text": [
        "\n",
        "1.,Al Holland,1986,MLB,1,0,0,0.0,0,0,0,0,0,0,0,0,0,\n",
        "\n",
        "year1987"
       ]
      },
      {
       "output_type": "stream",
       "stream": "stdout",
       "text": [
        "\n",
        "1.,Adam Peterson,1987,MLB,1,0,0,0.0,0,0,0,0,0,0,0,0,0,\n",
        "\n",
        "year1988"
       ]
      },
      {
       "output_type": "stream",
       "stream": "stdout",
       "text": [
        "\n",
        "1.,Adam Peterson,1988,MLB,2,0,0,0.0,0,0,0,0,0,0,0,0,0,\n",
        "\n",
        "year1989"
       ]
      },
      {
       "output_type": "stream",
       "stream": "stdout",
       "text": [
        "\n",
        "1.,Adam Peterson,1989,MLB,2,0,0,0.0,0,0,0,0,0,0,0,0,0,\n",
        "\n",
        "year1990"
       ]
      },
      {
       "output_type": "stream",
       "stream": "stdout",
       "text": [
        "\n",
        "1.,Adam Peterson,1990,MLB,11,0,0,0.0,0,0,0,0,0,0,0,0,0,\n",
        "\n",
        "year1991"
       ]
      },
      {
       "output_type": "stream",
       "stream": "stdout",
       "text": [
        "\n",
        "1.,Adam Peterson,1991,MLB,11,0,0,0.0,0,0,0,0,0,0,0,0,0,\n",
        "\n",
        "year1992"
       ]
      },
      {
       "output_type": "stream",
       "stream": "stdout",
       "text": [
        "\n",
        "1.,Al Leiter,1992,MLB,0,0,0,0.0,0,0,0,0,0,0,0,0,0,\n",
        "\n",
        "year1993"
       ]
      },
      {
       "output_type": "stream",
       "stream": "stdout",
       "text": [
        "\n",
        "1.,Aaron Sele,1993,MLB,18,0,0,0.0,0,0,0,0,0,0,0,0,0,\n",
        "\n",
        "year1994"
       ]
      },
      {
       "output_type": "stream",
       "stream": "stdout",
       "text": [
        "\n",
        "1.,A. J. Sager,1994,MLB,3,0,0,0.0,0,0,0,0,0,0,0,0,0,\n",
        "\n",
        "year1995"
       ]
      },
      {
       "output_type": "stream",
       "stream": "stdout",
       "text": [
        "\n",
        "1.,A. J. Sager,1995,MLB,0,0,0,0.0,0,0,0,0,0,0,0,0,0,\n",
        "\n",
        "year1996"
       ]
      },
      {
       "output_type": "stream",
       "stream": "stdout",
       "text": [
        "\n",
        "1.,A. J. Sager,1996,MLB,9,0,0,0.0,0,0,0,0,0,0,0,0,0,\n",
        "\n",
        "year1997"
       ]
      },
      {
       "output_type": "stream",
       "stream": "stdout",
       "text": [
        "\n",
        "1.,A. J. Sager,1997,MLB,1,0,0,0.0,0,0,0,0,0,0,0,0,0,\n",
        "\n",
        "year1998"
       ]
      },
      {
       "output_type": "stream",
       "stream": "stdout",
       "text": [
        "\n",
        "1.,A. J. Sager,1998,MLB,3,0,0,0.0,0,0,0,0,0,0,0,0,0,\n",
        "\n",
        "year1999"
       ]
      },
      {
       "output_type": "stream",
       "stream": "stdout",
       "text": [
        "\n",
        "1.,A.j. Burnett,1999,MLB,7,0,0,0.0,0,0,0,0,0,0,0,0,0,\n",
        "\n",
        "year2000"
       ]
      },
      {
       "output_type": "stream",
       "stream": "stdout",
       "text": [
        "\n",
        "1.,A.j. Burnett,2000,MLB,13,0,0,0.0,0,0,0,0,0,0,0,0,0,\n",
        "\n",
        "year2001"
       ]
      },
      {
       "output_type": "stream",
       "stream": "stdout",
       "text": [
        "\n",
        "1.,A.j. Burnett,2001,MLB,27,0,0,0.0,0,0,0,0,0,0,0,0,0,\n",
        "\n",
        "year2002"
       ]
      },
      {
       "output_type": "stream",
       "stream": "stdout",
       "text": [
        "\n",
        "1.,A.j. Burnett,2002,MLB,29,0,0,0.0,0,0,0,0,0,0,0,0,0,\n",
        "\n",
        "year2003"
       ]
      },
      {
       "output_type": "stream",
       "stream": "stdout",
       "text": [
        "\n",
        "1.,A.j. Burnett,2003,MLB,4,0,0,0.0,0,0,0,0,0,0,0,0,0,\n",
        "\n",
        "year2004"
       ]
      },
      {
       "output_type": "stream",
       "stream": "stdout",
       "text": [
        "\n",
        "1.,A.j. Burnett,2004,MLB,19,1,780,109,93.7,2,481,729,131,12,7,0,0,0,1,\n",
        "\n",
        "year2005"
       ]
      },
      {
       "output_type": "stream",
       "stream": "stdout",
       "text": [
        "\n",
        "1.,A.j. Burnett,2005,MLB,32,3,296,125,103.0,58,748,15,625,1,836,12,9,9,2,0,18,\n",
        "\n",
        "year2006"
       ]
      },
      {
       "output_type": "stream",
       "stream": "stdout",
       "text": [
        "\n",
        "1.,A.j. Burnett,2006,MLB,21,2,171,121,103.4,32,966,9,261,1,570,8,4,9,0,0,15,\n",
        "\n",
        "year2007"
       ]
      },
      {
       "output_type": "stream",
       "stream": "stdout",
       "text": [
        "\n",
        "1.,A.j. Burnett,2007,MLB,25,2,649,130,106.0,97,899,27,000,3,916,6,6,10,3,0,37,\n",
        "\n",
        "year2008"
       ]
      },
      {
       "output_type": "stream",
       "stream": "stdout",
       "text": [
        "\n",
        "1.,A.j. Burnett,2008,MLB,34,3,626,121,106.6,53,680,9,261,1,579,7,12,15,0,0,15,\n",
        "\n",
        "year2009"
       ]
      },
      {
       "output_type": "stream",
       "stream": "stdout",
       "text": [
        "\n",
        "1.,A.j. Burnett,2009,MLB,33,3,462,123,104.9,39,721,12,167,1,204,10,13,9,1,0,11,\n",
        "\n",
        "year2010"
       ]
      },
      {
       "output_type": "stream",
       "stream": "stdout",
       "text": [
        "\n",
        "1.,A.j. Burnett,2010,MLB,33,3,113,122,94.3,30,063,10,648,911,17,8,7,1,0,10,\n",
        "\n",
        "year2011"
       ]
      },
      {
       "output_type": "stream",
       "stream": "stdout",
       "text": [
        "\n",
        "1.,A.j. Burnett,2011,MLB,32,3,218,116,100.6,22,037,4,096,689,13,11,8,0,0,7,\n",
        "\n",
        "year2012"
       ]
      },
      {
       "output_type": "stream",
       "stream": "stdout",
       "text": [
        "\n",
        "1.,A.j. Burnett,2012,MLB,31,3,043,110,98.2,3,559,1,000,115,14,16,1,0,0,1,\n",
        "\n",
        "year2013"
       ]
      },
      {
       "output_type": "stream",
       "stream": "stdout",
       "text": [
        "\n",
        "1.,A.j. Burnett,2013,MLB,30,3,021,116,100.7,15,396,4,096,513,12,12,6,0,0,5,\n",
        "\n",
        "year2014"
       ]
      },
      {
       "output_type": "stream",
       "stream": "stdout",
       "text": [
        "\n",
        "1.,A.j. Achter,2014,MLB,0,0,0,0.0,0,0,0,0,0,0,0,0,0,\n",
        "\n"
       ]
      }
     ],
     "prompt_number": 1
    }
   ],
   "metadata": {}
  }
 ]
}