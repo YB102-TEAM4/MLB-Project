{
 "metadata": {
  "name": "",
  "signature": "sha256:970a73c329c74eb7fd3b40664a11a06ac1de5b03370202f83fd20fd2dfc502f2"
 },
 "nbformat": 3,
 "nbformat_minor": 0,
 "worksheets": [
  {
   "cells": [
    {
     "cell_type": "code",
     "collapsed": false,
     "input": [
      "#\u9996\u5148Name\u8981\u6392\u5e8f\n",
      "#\u8981\u6ce8\u610f\u7684\u5730\u65b9\u6709\u56db\u500b range, year, fileName, page_limit\n",
      "import string\n",
      "import time\n",
      "import requests\n",
      "from bs4 import BeautifulSoup\n",
      "headers={\n",
      "    'User-Agent':'Mozilla/5.0 (Windows NT 6.1; WOW64) AppleWebKit/537.36 (KHTML, like Gecko) Chrome/40.0.2214.93 Safari/537.36'\n",
      "}\n",
      "url='http://www.baseballprospectus.com/sortable/index.php?mystatslist=LVL,NAME,G,PA,AB,H,B2,B3,HR,BB,AVG,OBP,SLG,EQA,BABIP,BRAA,REP_LEVEL,POS_ADJ,FRAA,BRR,BWARP&category=batter_career&tablename=dyna_batter_career&stage=data&year=*&group_LVL=MLB&group_PRIMARY_POS_LABEL=*&minimum=0&sort1column=NAME&sort1order=ASC&page_limit=20000&tt_team=*&show_ttroster=1&show_ttwatched=1&viewdata=View%20Data&start_num=0'\n",
      "res=requests.get(url,headers=headers)\n",
      "soup=BeautifulSoup(res.text.encode('utf-8'))    \n",
      "trList=soup.select('#TTdata tr')\n",
      "fileName='BatterCareer.csv'#*********************\n",
      "fid=open('Baseball\\\\'+fileName,'w')    \n",
      "for tr in trList:\n",
      "    for td in tr.select('td'):\n",
      "        fid.write(td.text.replace(',','').encode('utf-8')+',')\n",
      "    fid.write('\\n')\n",
      "fid.close()\n",
      "fod=open('Baseball\\\\'+fileName,'r')\n",
      "print fod.readlines()[0]\n",
      "fod.close()    "
     ],
     "language": "python",
     "metadata": {},
     "outputs": [
      {
       "output_type": "stream",
       "stream": "stdout",
       "text": [
        "#,LVL,NAME,G,PA,AB,H,2B,3B,HR,BB,AVG,OBP,SLG,TAv,BABIP,BRAA,REP_LEVEL,POS_ADJ,FRAA,BRR,BWARP,\n",
        "\n"
       ]
      }
     ],
     "prompt_number": 12
    }
   ],
   "metadata": {}
  }
 ]
}