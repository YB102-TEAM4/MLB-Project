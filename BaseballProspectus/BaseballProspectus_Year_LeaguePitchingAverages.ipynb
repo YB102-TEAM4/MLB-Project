{
 "metadata": {
  "name": "",
  "signature": "sha256:4636d86f75dd5b944602445b58ca79972398223a47d422dbc520c62c22bbebc7"
 },
 "nbformat": 3,
 "nbformat_minor": 0,
 "worksheets": [
  {
   "cells": [
    {
     "cell_type": "code",
     "collapsed": false,
     "input": [
      "#\u9996\u5148Name\u8981\u6392\u5e8f\n",
      "#\u8981\u6ce8\u610f\u7684\u5730\u65b9\u6709\u56db\u500b folder, range, year, page_limit\n",
      "import string, time, requests, os\n",
      "from bs4 import BeautifulSoup\n",
      "headers={\n",
      "    'User-Agent':'Mozilla/5.0 (Windows NT 6.1; WOW64) AppleWebKit/537.36 (KHTML, like Gecko) Chrome/40.0.2214.93 Safari/537.36'\n",
      "}\n",
      "url='http://www.baseballprospectus.com/sortable/index.php'\n",
      "\n",
      "folder='LeaguePitchingAverages'#\u8cc7\u6599\u593e\u540d\u7a31*********************\n",
      "\n",
      "path='Baseball\\\\'+folder #\u8def\u5f91\u540d\u7a31\n",
      "if os.path.exists(path):\n",
      "    print 'folder exists'\n",
      "else:    \n",
      "    os.mkdir(path)\n",
      "    print 'folder not exists'  \n",
      "    \n",
      "for year in range(1871,2015): #2015\u6c92\u7b97\u5230**************\n",
      "    payload={\n",
      "            'mystatslist':'LVL,YEAR,LG,ERA,RA,H9,BB9,SO9,HR9,WHIP,BABIP',\n",
      "            'category':'lg_pitching',\n",
      "            'tablename':'dyna_lg_pitching',\n",
      "            'stage':'data',\n",
      "            'year':'%d'%(year),#*********************\n",
      "            'mystatslist':'YEAR,LG,ERA,RA,H9,BB9,SO9,HR9,WHIP,BABIP',\n",
      "            'category':'lg_pitching',\n",
      "            'tablename':'dyna_lg_pitching',\n",
      "            'stage':'data',\n",
      "            'group_LVL':'MLB',\n",
      "            'group_LG':'*',\n",
      "            'minimum':'0',\n",
      "            'sort1column':'ERA',\n",
      "            'sort1order':'ASC',\n",
      "            'sort2column':'YEAR',\n",
      "            'sort2order':'ASC',\n",
      "            'sort3column':'YEAR',\n",
      "            'sort3order':'ASC',\n",
      "            'page_limit':'All',#*********************\n",
      "            'viewdata':'View Data',\n",
      "        }\n",
      "    res=requests.post(url,data=payload,headers=headers)\n",
      "    soup=BeautifulSoup(res.text.encode('utf-8'))\n",
      "    trList=soup.select('#TTdata tr')\n",
      "    fileName= str(year)+'_'+folder+'.csv'\n",
      "    fid=open(path+'\\\\'+fileName,'w')\n",
      "    for tr in trList:\n",
      "        for td in tr.select('td'):\n",
      "            fid.write(td.text.encode('utf-8')+',')\n",
      "        fid.write('\\n')\n",
      "    fid.close()\n",
      "    fod=open(path+'\\\\'+fileName,'r')\n",
      "    print 'year'+str(year)\n",
      "    print fod.readlines()[1]\n",
      "    fod.close()\n",
      "    time.sleep(2)\n"
     ],
     "language": "python",
     "metadata": {},
     "outputs": [
      {
       "output_type": "stream",
       "stream": "stdout",
       "text": [
        "folder exists\n",
        "year1871"
       ]
      },
      {
       "output_type": "stream",
       "stream": "stdout",
       "text": [
        "\n",
        "1.,MLB,1871,NA,4.22,10.64,12.4,1.6,0.7,0.19,1.55,.000,\n",
        "\n",
        "year1872"
       ]
      },
      {
       "output_type": "stream",
       "stream": "stdout",
       "text": [
        "\n",
        "1.,MLB,1872,NA,3.66,9.28,12.2,0.7,0.7,0.10,1.44,.000,\n",
        "\n",
        "year1873"
       ]
      },
      {
       "output_type": "stream",
       "stream": "stdout",
       "text": [
        "\n",
        "1.,MLB,1873,NA,3.40,8.99,12.4,0.8,0.7,0.12,1.47,.000,\n",
        "\n",
        "year1874"
       ]
      },
      {
       "output_type": "stream",
       "stream": "stdout",
       "text": [
        "\n",
        "1.,MLB,1874,NA,2.19,7.49,11.3,0.5,0.8,0.09,1.31,.000,\n",
        "\n",
        "year1875"
       ]
      },
      {
       "output_type": "stream",
       "stream": "stdout",
       "text": [
        "\n",
        "1.,MLB,1875,NA,2.23,6.16,9.9,0.4,1.0,0.06,1.14,.000,\n",
        "\n",
        "year1876"
       ]
      },
      {
       "output_type": "stream",
       "stream": "stdout",
       "text": [
        "\n",
        "1.,MLB,1876,NL,2.30,5.82,10.1,0.6,1.1,0.07,1.20,.000,\n",
        "\n",
        "year1877"
       ]
      },
      {
       "output_type": "stream",
       "stream": "stdout",
       "text": [
        "\n",
        "1.,MLB,1877,NL,2.81,5.66,10.3,1.0,2.0,0.07,1.25,.000,\n",
        "\n",
        "year1878"
       ]
      },
      {
       "output_type": "stream",
       "stream": "stdout",
       "text": [
        "\n",
        "1.,MLB,1878,NL,2.30,5.16,9.6,1.0,2.9,0.06,1.17,.000,\n",
        "\n",
        "year1879"
       ]
      },
      {
       "output_type": "stream",
       "stream": "stdout",
       "text": [
        "\n",
        "1.,MLB,1879,NL,2.50,5.29,9.6,0.8,2.9,0.09,1.15,.000,\n",
        "\n",
        "year1880"
       ]
      },
      {
       "output_type": "stream",
       "stream": "stdout",
       "text": [
        "\n",
        "1.,MLB,1880,NL,2.37,4.76,8.9,1.1,3.0,0.09,1.11,.000,\n",
        "\n",
        "year1881"
       ]
      },
      {
       "output_type": "stream",
       "stream": "stdout",
       "text": [
        "\n",
        "1.,MLB,1881,NL,2.77,5.15,9.5,1.6,2.7,0.11,1.23,.000,\n",
        "\n",
        "year1882"
       ]
      },
      {
       "output_type": "stream",
       "stream": "stdout",
       "text": [
        "\n",
        "1.,MLB,1882,AA,2.68,5.34,9.0,1.4,2.6,0.11,1.15,.000,\n",
        "\n",
        "year1883"
       ]
      },
      {
       "output_type": "stream",
       "stream": "stdout",
       "text": [
        "\n",
        "1.,MLB,1883,NL,3.13,5.91,9.8,1.5,3.7,0.16,1.26,.000,\n",
        "\n",
        "year1884"
       ]
      },
      {
       "output_type": "stream",
       "stream": "stdout",
       "text": [
        "\n",
        "1.,MLB,1884,NL,2.97,5.62,9.0,2.0,4.8,0.36,1.23,.000,\n",
        "\n",
        "year1885"
       ]
      },
      {
       "output_type": "stream",
       "stream": "stdout",
       "text": [
        "\n",
        "1.,MLB,1885,NL,2.82,5.08,8.7,2.1,3.8,0.20,1.20,.000,\n",
        "\n",
        "year1886"
       ]
      },
      {
       "output_type": "stream",
       "stream": "stdout",
       "text": [
        "\n",
        "1.,MLB,1886,NL,3.29,5.48,9.0,2.5,4.6,0.26,1.28,.000,\n",
        "\n",
        "year1887"
       ]
      },
      {
       "output_type": "stream",
       "stream": "stdout",
       "text": [
        "\n",
        "1.,MLB,1887,NL,4.05,6.27,9.8,2.8,2.9,0.39,1.39,.000,\n",
        "\n",
        "year1888"
       ]
      },
      {
       "output_type": "stream",
       "stream": "stdout",
       "text": [
        "\n",
        "1.,MLB,1888,NL,2.83,4.65,8.4,2.0,3.8,0.31,1.15,.000,\n",
        "\n",
        "year1889"
       ]
      },
      {
       "output_type": "stream",
       "stream": "stdout",
       "text": [
        "\n",
        "1.,MLB,1889,AA,3.84,6.28,9.4,3.4,3.9,0.27,1.43,.000,\n",
        "\n",
        "year1890"
       ]
      },
      {
       "output_type": "stream",
       "stream": "stdout",
       "text": [
        "\n",
        "1.,MLB,1890,NL,3.56,5.70,9.0,3.6,3.5,0.24,1.40,.000,\n",
        "\n",
        "year1891"
       ]
      },
      {
       "output_type": "stream",
       "stream": "stdout",
       "text": [
        "\n",
        "1.,MLB,1891,NL,3.34,5.64,9.1,3.5,3.4,0.27,1.40,.000,\n",
        "\n",
        "year1892"
       ]
      },
      {
       "output_type": "stream",
       "stream": "stdout",
       "text": [
        "\n",
        "1.,MLB,1892,NL,3.28,5.24,8.7,3.5,3.3,0.23,1.35,.000,\n",
        "\n",
        "year1893"
       ]
      },
      {
       "output_type": "stream",
       "stream": "stdout",
       "text": [
        "\n",
        "1.,MLB,1893,NL,4.66,6.70,10.3,4.0,2.2,0.30,1.59,.000,\n",
        "\n",
        "year1894"
       ]
      },
      {
       "output_type": "stream",
       "stream": "stdout",
       "text": [
        "\n",
        "1.,MLB,1894,NL,5.32,7.67,11.6,3.8,2.2,0.41,1.71,.000,\n",
        "\n",
        "year1895"
       ]
      },
      {
       "output_type": "stream",
       "stream": "stdout",
       "text": [
        "\n",
        "1.,MLB,1895,NL,4.77,6.85,11.0,3.3,2.4,0.32,1.59,.000,\n",
        "\n",
        "year1896"
       ]
      },
      {
       "output_type": "stream",
       "stream": "stdout",
       "text": [
        "\n",
        "1.,MLB,1896,NL,4.36,6.25,10.6,3.2,2.3,0.26,1.53,.000,\n",
        "\n",
        "year1897"
       ]
      },
      {
       "output_type": "stream",
       "stream": "stdout",
       "text": [
        "\n",
        "1.,MLB,1897,NL,4.30,6.13,10.6,3.0,2.4,0.24,1.52,.000,\n",
        "\n",
        "year1898"
       ]
      },
      {
       "output_type": "stream",
       "stream": "stdout",
       "text": [
        "\n",
        "1.,MLB,1898,NL,3.60,5.15,9.6,2.9,2.4,0.17,1.38,.000,\n",
        "\n",
        "year1899"
       ]
      },
      {
       "output_type": "stream",
       "stream": "stdout",
       "text": [
        "\n",
        "1.,MLB,1899,NL,3.85,5.48,10.0,2.8,2.2,0.20,1.43,.000,\n",
        "\n",
        "year1900"
       ]
      },
      {
       "output_type": "stream",
       "stream": "stdout",
       "text": [
        "\n",
        "1.,MLB,1900,NL,3.69,5.39,9.9,2.8,2.4,0.23,1.41,.000,\n",
        "\n",
        "year1901"
       ]
      },
      {
       "output_type": "stream",
       "stream": "stdout",
       "text": [
        "\n",
        "1.,MLB,1901,NL,3.32,4.68,9.4,2.4,3.8,0.20,1.31,.000,\n",
        "\n",
        "year1902"
       ]
      },
      {
       "output_type": "stream",
       "stream": "stdout",
       "text": [
        "\n",
        "1.,MLB,1902,NL,2.78,4.05,8.9,2.4,3.5,0.09,1.25,.000,\n",
        "\n",
        "year1903"
       ]
      },
      {
       "output_type": "stream",
       "stream": "stdout",
       "text": [
        "\n",
        "1.,MLB,1903,AL,2.96,4.18,8.8,2.1,3.9,0.17,1.21,.000,\n",
        "\n",
        "year1904"
       ]
      },
      {
       "output_type": "stream",
       "stream": "stdout",
       "text": [
        "\n",
        "1.,MLB,1904,AL,2.60,3.60,8.2,2.1,4.1,0.13,1.15,.000,\n",
        "\n",
        "year1905"
       ]
      },
      {
       "output_type": "stream",
       "stream": "stdout",
       "text": [
        "\n",
        "1.,MLB,1905,AL,2.65,3.73,8.0,2.5,4.2,0.13,1.16,.000,\n",
        "\n",
        "year1906"
       ]
      },
      {
       "output_type": "stream",
       "stream": "stdout",
       "text": [
        "\n",
        "1.,MLB,1906,NL,2.62,3.64,8.1,2.8,3.8,0.10,1.21,.000,\n",
        "\n",
        "year1907"
       ]
      },
      {
       "output_type": "stream",
       "stream": "stdout",
       "text": [
        "\n",
        "1.,MLB,1907,NL,2.46,3.49,7.9,2.9,3.5,0.12,1.20,.000,\n",
        "\n",
        "year1908"
       ]
      },
      {
       "output_type": "stream",
       "stream": "stdout",
       "text": [
        "\n",
        "1.,MLB,1908,NL,2.35,3.33,7.7,2.6,3.4,0.12,1.14,.000,\n",
        "\n",
        "year1909"
       ]
      },
      {
       "output_type": "stream",
       "stream": "stdout",
       "text": [
        "\n",
        "1.,MLB,1909,AL,2.47,3.49,7.9,2.5,4.0,0.09,1.16,.000,\n",
        "\n",
        "year1910"
       ]
      },
      {
       "output_type": "stream",
       "stream": "stdout",
       "text": [
        "\n",
        "1.,MLB,1910,AL,2.52,3.65,7.9,2.8,4.2,0.12,1.19,.000,\n",
        "\n",
        "year1911"
       ]
      },
      {
       "output_type": "stream",
       "stream": "stdout",
       "text": [
        "\n",
        "1.,MLB,1911,AL,3.34,4.65,9.2,3.0,4.2,0.16,1.36,.000,\n",
        "\n",
        "year1912"
       ]
      },
      {
       "output_type": "stream",
       "stream": "stdout",
       "text": [
        "\n",
        "1.,MLB,1912,AL,3.34,4.52,8.9,3.1,4.2,0.13,1.33,.000,\n",
        "\n",
        "year1913"
       ]
      },
      {
       "output_type": "stream",
       "stream": "stdout",
       "text": [
        "\n",
        "1.,MLB,1913,AL,2.93,3.97,8.4,3.1,4.0,0.13,1.28,.000,\n",
        "\n",
        "year1914"
       ]
      },
      {
       "output_type": "stream",
       "stream": "stdout",
       "text": [
        "\n",
        "1.,MLB,1914,AL,2.73,3.69,8.1,3.1,4.1,0.12,1.24,.000,\n",
        "\n",
        "year1915"
       ]
      },
      {
       "output_type": "stream",
       "stream": "stdout",
       "text": [
        "\n",
        "1.,MLB,1915,NL,2.75,3.65,8.2,2.6,3.8,0.18,1.20,.000,\n",
        "\n",
        "year1916"
       ]
      },
      {
       "output_type": "stream",
       "stream": "stdout",
       "text": [
        "\n",
        "1.,MLB,1916,NL,2.61,3.44,8.1,2.4,3.9,0.19,1.17,.000,\n",
        "\n",
        "year1917"
       ]
      },
      {
       "output_type": "stream",
       "stream": "stdout",
       "text": [
        "\n",
        "1.,MLB,1917,AL,2.66,3.62,8.0,3.1,3.3,0.11,1.24,.000,\n",
        "\n",
        "year1918"
       ]
      },
      {
       "output_type": "stream",
       "stream": "stdout",
       "text": [
        "\n",
        "1.,MLB,1918,NL,2.76,3.60,8.4,2.5,2.8,0.14,1.21,.000,\n",
        "\n",
        "year1919"
       ]
      },
      {
       "output_type": "stream",
       "stream": "stdout",
       "text": [
        "\n",
        "1.,MLB,1919,NL,2.91,3.64,8.6,2.3,2.9,0.19,1.21,.000,\n",
        "\n",
        "year1920"
       ]
      },
      {
       "output_type": "stream",
       "stream": "stdout",
       "text": [
        "\n",
        "1.,MLB,1920,NL,3.13,3.92,9.1,2.4,2.9,0.21,1.28,.000,\n",
        "\n",
        "year1921"
       ]
      },
      {
       "output_type": "stream",
       "stream": "stdout",
       "text": [
        "\n",
        "1.,MLB,1921,NL,3.78,4.61,10.0,2.4,2.8,0.38,1.38,.000,\n",
        "\n",
        "year1922"
       ]
      },
      {
       "output_type": "stream",
       "stream": "stdout",
       "text": [
        "\n",
        "1.,MLB,1922,AL,4.03,4.75,9.8,3.1,2.9,0.43,1.43,.000,\n",
        "\n",
        "year1923"
       ]
      },
      {
       "output_type": "stream",
       "stream": "stdout",
       "text": [
        "\n",
        "1.,MLB,1923,AL,3.98,4.80,9.7,3.4,2.9,0.36,1.45,.000,\n",
        "\n",
        "year1924"
       ]
      },
      {
       "output_type": "stream",
       "stream": "stdout",
       "text": [
        "\n",
        "1.,MLB,1924,NL,3.86,4.56,9.8,2.6,2.8,0.41,1.38,.000,\n",
        "\n",
        "year1925"
       ]
      },
      {
       "output_type": "stream",
       "stream": "stdout",
       "text": [
        "\n",
        "1.,MLB,1925,NL,4.27,5.13,10.3,2.9,2.8,0.53,1.47,.000,\n",
        "\n",
        "year1926"
       ]
      },
      {
       "output_type": "stream",
       "stream": "stdout",
       "text": [
        "\n",
        "1.,MLB,1926,NL,3.82,4.60,9.6,2.8,2.8,0.36,1.39,.000,\n",
        "\n",
        "year1927"
       ]
      },
      {
       "output_type": "stream",
       "stream": "stdout",
       "text": [
        "\n",
        "1.,MLB,1927,NL,3.91,4.63,9.8,2.8,2.9,0.39,1.39,.000,\n",
        "\n",
        "year1928"
       ]
      },
      {
       "output_type": "stream",
       "stream": "stdout",
       "text": [
        "\n",
        "1.,MLB,1928,NL,3.99,4.70,9.7,3.1,2.8,0.50,1.43,.000,\n",
        "\n",
        "year1929"
       ]
      },
      {
       "output_type": "stream",
       "stream": "stdout",
       "text": [
        "\n",
        "1.,MLB,1929,AL,4.24,5.06,9.9,3.4,2.9,0.49,1.47,.000,\n",
        "\n",
        "year1930"
       ]
      },
      {
       "output_type": "stream",
       "stream": "stdout",
       "text": [
        "\n",
        "1.,MLB,1930,AL,4.65,5.50,10.2,3.3,3.4,0.56,1.49,.000,\n",
        "\n",
        "year1931"
       ]
      },
      {
       "output_type": "stream",
       "stream": "stdout",
       "text": [
        "\n",
        "1.,MLB,1931,NL,3.86,4.55,9.8,2.9,3.2,0.40,1.40,.000,\n",
        "\n",
        "year1932"
       ]
      },
      {
       "output_type": "stream",
       "stream": "stdout",
       "text": [
        "\n",
        "1.,MLB,1932,NL,3.88,4.60,9.8,2.5,3.1,0.53,1.37,.000,\n",
        "\n",
        "year1933"
       ]
      },
      {
       "output_type": "stream",
       "stream": "stdout",
       "text": [
        "\n",
        "1.,MLB,1933,NL,3.34,4.01,9.3,2.4,2.9,0.38,1.30,.000,\n",
        "\n",
        "year1934"
       ]
      },
      {
       "output_type": "stream",
       "stream": "stdout",
       "text": [
        "\n",
        "1.,MLB,1934,NL,4.06,4.74,10.0,2.7,3.5,0.55,1.41,.000,\n",
        "\n",
        "year1935"
       ]
      },
      {
       "output_type": "stream",
       "stream": "stdout",
       "text": [
        "\n",
        "1.,MLB,1935,NL,4.02,4.77,9.9,2.7,3.3,0.54,1.40,.000,\n",
        "\n",
        "year1936"
       ]
      },
      {
       "output_type": "stream",
       "stream": "stdout",
       "text": [
        "\n",
        "1.,MLB,1936,NL,4.01,4.74,9.9,2.9,3.4,0.49,1.42,.000,\n",
        "\n",
        "year1937"
       ]
      },
      {
       "output_type": "stream",
       "stream": "stdout",
       "text": [
        "\n",
        "1.,MLB,1937,NL,3.91,4.57,9.5,3.0,3.7,0.51,1.39,.000,\n",
        "\n",
        "year1938"
       ]
      },
      {
       "output_type": "stream",
       "stream": "stdout",
       "text": [
        "\n",
        "1.,MLB,1938,NL,3.78,4.44,9.4,3.1,3.4,0.50,1.38,.000,\n",
        "\n",
        "year1939"
       ]
      },
      {
       "output_type": "stream",
       "stream": "stdout",
       "text": [
        "\n",
        "1.,MLB,1939,NL,3.92,4.49,9.5,3.1,3.5,0.53,1.40,.000,\n",
        "\n",
        "year1940"
       ]
      },
      {
       "output_type": "stream",
       "stream": "stdout",
       "text": [
        "\n",
        "1.,MLB,1940,NL,3.85,4.40,9.2,3.1,3.5,0.56,1.36,.000,\n",
        "\n",
        "year1941"
       ]
      },
      {
       "output_type": "stream",
       "stream": "stdout",
       "text": [
        "\n",
        "1.,MLB,1941,NL,3.63,4.27,8.9,3.4,3.6,0.48,1.37,.000,\n",
        "\n",
        "year1942"
       ]
      },
      {
       "output_type": "stream",
       "stream": "stdout",
       "text": [
        "\n",
        "1.,MLB,1942,NL,3.31,3.91,8.5,3.3,3.4,0.44,1.31,.000,\n",
        "\n",
        "year1943"
       ]
      },
      {
       "output_type": "stream",
       "stream": "stdout",
       "text": [
        "\n",
        "1.,MLB,1943,AL,3.30,3.84,8.4,3.5,3.6,0.38,1.32,.000,\n",
        "\n",
        "year1944"
       ]
      },
      {
       "output_type": "stream",
       "stream": "stdout",
       "text": [
        "\n",
        "1.,MLB,1944,AL,3.43,4.08,9.0,3.2,3.4,0.37,1.35,.000,\n",
        "\n",
        "year1945"
       ]
      },
      {
       "output_type": "stream",
       "stream": "stdout",
       "text": [
        "\n",
        "1.,MLB,1945,AL,3.36,3.92,8.7,3.4,3.4,0.35,1.35,.000,\n",
        "\n",
        "year1946"
       ]
      },
      {
       "output_type": "stream",
       "stream": "stdout",
       "text": [
        "\n",
        "1.,MLB,1946,NL,3.41,3.99,8.7,3.6,3.6,0.46,1.36,.000,\n",
        "\n",
        "year1947"
       ]
      },
      {
       "output_type": "stream",
       "stream": "stdout",
       "text": [
        "\n",
        "1.,MLB,1947,AL,3.71,4.19,8.7,3.9,3.8,0.55,1.40,.000,\n",
        "\n",
        "year1948"
       ]
      },
      {
       "output_type": "stream",
       "stream": "stdout",
       "text": [
        "\n",
        "1.,MLB,1948,NL,3.95,4.50,9.0,3.6,3.9,0.69,1.41,.000,\n",
        "\n",
        "year1949"
       ]
      },
      {
       "output_type": "stream",
       "stream": "stdout",
       "text": [
        "\n",
        "1.,MLB,1949,NL,4.04,4.58,9.1,3.6,3.7,0.76,1.40,.000,\n",
        "\n"
       ]
      }
     ],
     "prompt_number": 2
    }
   ],
   "metadata": {}
  }
 ]
}