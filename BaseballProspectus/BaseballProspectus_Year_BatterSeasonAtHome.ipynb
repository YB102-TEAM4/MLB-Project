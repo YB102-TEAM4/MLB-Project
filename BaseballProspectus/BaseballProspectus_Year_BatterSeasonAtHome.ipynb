{
 "metadata": {
  "name": "",
  "signature": "sha256:bc3409d48d6822d9c59c4d823592dad1e225aaac8847d22ce8e28dd424ba44e7"
 },
 "nbformat": 3,
 "nbformat_minor": 0,
 "worksheets": [
  {
   "cells": [
    {
     "cell_type": "code",
     "collapsed": false,
     "input": [
      "#\u9996\u5148Name\u8981\u6392\u5e8f\n",
      "#\u8981\u6ce8\u610f\u7684\u5730\u65b9\u6709\u56db\u500b folder, range, year, page_limit\n",
      "import string, time, requests, os\n",
      "from bs4 import BeautifulSoup\n",
      "headers={\n",
      "    'User-Agent':'Mozilla/5.0 (Windows NT 6.1; WOW64) AppleWebKit/537.36 (KHTML, like Gecko) Chrome/40.0.2214.93 Safari/537.36'\n",
      "}\n",
      "url='http://www.baseballprospectus.com/sortable/index.php'\n",
      "\n",
      "folder='BatterSeasonAtHome'#\u8cc7\u6599\u593e\u540d\u7a31*********************\n",
      "\n",
      "path='Baseball\\\\'+folder #\u8def\u5f91\u540d\u7a31\n",
      "if os.path.exists(path):\n",
      "    print 'folder exists'\n",
      "else:    \n",
      "    os.mkdir(path)\n",
      "    print 'folder not exists'  \n",
      "    \n",
      "for year in range(1950,2015): #2015\u6c92\u7b97\u5230**************\n",
      "    payload={            \n",
      "            'mystatslist':'NAME,YEAR,LVL,HOME_AWAY,G,PA,AB,R,H,B1,B2,B3,HR,TB,SO,BB,HBP,SF,SH,RBI,DP,FB_PERCENT,GB_PERCENT,LINEDR_PERCENT,POPUP_PERCENT,ISO,AVG,OBP,SLG,EQA',\n",
      "            'category':'batter_season_homeaway',\n",
      "            'tablename':'dyna_batter_season_homeaway',\n",
      "            'stage':'data',\n",
      "            'year':'%d'%(year),#*********************\n",
      "            'mystatslist':'NAME,YEAR,LVL,HOME_AWAY,G,PA,AB,R,H,B1,B2,B3,HR,TB,SO,BB,HBP,SF,SH,RBI,DP,FB_PERCENT,GB_PERCENT,LINEDR_PERCENT,POPUP_PERCENT,ISO,AVG,OBP,SLG,EQA',\n",
      "            'category':'batter_season_homeaway',\n",
      "            'tablename':'dyna_batter_season_homeaway',\n",
      "            'stage':'data',\n",
      "            'group_HOME_AWAY':'H',\n",
      "            'group_LVL':'MLB',\n",
      "            'minimum':'0',\n",
      "            'sort1column':'NAME',\n",
      "            'sort1order':'ASC',\n",
      "            'page_limit':'All',#*********************\n",
      "            'tt_team':'*',\n",
      "            'show_ttroster':'1',\n",
      "            'show_ttwatched':'1',\n",
      "            'viewdata':'View Data',\n",
      "        }\n",
      "    res=requests.post(url,data=payload,headers=headers)\n",
      "    soup=BeautifulSoup(res.text.encode('utf-8'))\n",
      "    trList=soup.select('#TTdata tr')\n",
      "    fileName= str(year)+'_'+folder+'.csv'\n",
      "    fid=open(path+'\\\\'+fileName,'w')\n",
      "    for tr in trList:\n",
      "        for td in tr.select('td'):\n",
      "            fid.write(td.text.encode('utf-8')+',')\n",
      "        fid.write('\\n')\n",
      "    fid.close()\n",
      "    fod=open(path+'\\\\'+fileName,'r')\n",
      "    print 'year'+str(year)\n",
      "    print fod.readlines()[1]\n",
      "    fod.close()\n",
      "    time.sleep(2)\n"
     ],
     "language": "python",
     "metadata": {},
     "outputs": [
      {
       "output_type": "stream",
       "stream": "stdout",
       "text": [
        "folder exists\n",
        "year1950"
       ]
      },
      {
       "output_type": "stream",
       "stream": "stdout",
       "text": [
        "\n",
        "1.,Aaron Robinson,1950,MLB,H,36,125,96,8,20,16,1,0,3,30,11,29,0,0,0,12,2,55.4%,32.3%,4.6%,7.7%,.104,.208,.392,.313,.000,\n",
        "\n",
        "year1951"
       ]
      },
      {
       "output_type": "stream",
       "stream": "stdout",
       "text": [
        "\n",
        "1.,Aaron Robinson,1951,MLB,H,21,68,53,7,7,6,0,0,1,10,7,15,0,0,0,3,2,53.8%,38.5%,7.7%,0.0%,.057,.132,.324,.189,.000,\n",
        "\n",
        "year1952"
       ]
      },
      {
       "output_type": "stream",
       "stream": "stdout",
       "text": [
        "\n",
        "1.,Al Benton,1952,MLB,H,4,4,3,0,0,0,0,0,0,0,2,0,0,0,1,0,0,50.0%,50.0%,0.0%,0.0%,.000,.000,.000,.000,.000,\n",
        "\n",
        "year1953"
       ]
      },
      {
       "output_type": "stream",
       "stream": "stdout",
       "text": [
        "\n",
        "1.,Al Aber,1953,MLB,H,4,7,6,1,1,1,0,0,0,1,1,1,0,0,0,1,0,25.0%,75.0%,0.0%,0.0%,.000,.167,.286,.167,.000,\n",
        "\n",
        "year1954"
       ]
      },
      {
       "output_type": "stream",
       "stream": "stdout",
       "text": [
        "\n",
        "1.,Al Aber,1954,MLB,H,11,23,19,2,3,3,0,0,0,3,6,2,0,1,1,3,1,8.3%,66.7%,16.7%,8.3%,.000,.158,.227,.158,.000,\n",
        "\n",
        "year1955"
       ]
      },
      {
       "output_type": "stream",
       "stream": "stdout",
       "text": [
        "\n",
        "1.,Al Aber,1955,MLB,H,7,10,8,0,0,0,0,0,0,0,5,0,0,0,2,0,0,0.0%,100.0%,0.0%,0.0%,.000,.000,.000,.000,.000,\n",
        "\n",
        "year1956"
       ]
      },
      {
       "output_type": "stream",
       "stream": "stdout",
       "text": [
        "\n",
        "1.,Al Aber,1956,MLB,H,6,7,5,0,1,1,0,0,0,1,2,1,0,0,1,0,0,33.3%,66.7%,0.0%,0.0%,.000,.200,.333,.200,.000,\n",
        "\n",
        "year1957"
       ]
      },
      {
       "output_type": "stream",
       "stream": "stdout",
       "text": [
        "\n",
        "1.,Al Aber,1957,MLB,H,7,7,7,0,2,2,0,0,0,2,3,0,0,0,0,1,0,0.0%,100.0%,0.0%,0.0%,.000,.286,.286,.286,.000,\n",
        "\n",
        "year1958"
       ]
      },
      {
       "output_type": "stream",
       "stream": "stdout",
       "text": [
        "\n",
        "1.,Al Cicotte,1958,MLB,H,7,11,11,0,1,1,0,0,0,1,2,0,0,0,0,0,1,25.0%,62.5%,0.0%,12.5%,.000,.091,.091,.091,.000,\n",
        "\n",
        "year1959"
       ]
      },
      {
       "output_type": "stream",
       "stream": "stdout",
       "text": [
        "\n",
        "1.,Al Jackson,1959,MLB,H,1,1,1,0,0,0,0,0,0,0,1,0,0,0,0,0,0,0.0%,0.0%,0.0%,0.0%,.000,.000,.000,.000,.000,\n",
        "\n",
        "year1960"
       ]
      },
      {
       "output_type": "stream",
       "stream": "stdout",
       "text": [
        "\n",
        "1.,Al Heist,1960,MLB,H,20,49,46,3,10,7,2,1,0,14,4,3,0,0,0,3,0,44.1%,44.1%,8.8%,2.9%,.087,.217,.265,.304,.000,\n",
        "\n",
        "year1961"
       ]
      },
      {
       "output_type": "stream",
       "stream": "stdout",
       "text": [
        "\n",
        "1.,Al Cicotte,1961,MLB,H,5,9,9,1,2,2,0,0,0,2,3,0,0,0,0,0,0,0.0%,40.0%,20.0%,40.0%,.000,.222,.222,.222,.000,\n",
        "\n",
        "year1962"
       ]
      },
      {
       "output_type": "stream",
       "stream": "stdout",
       "text": [
        "\n",
        "1.,Al Heist,1962,MLB,H,14,34,32,2,8,7,1,0,0,9,3,2,0,0,0,3,1,28.0%,44.0%,12.0%,16.0%,.031,.250,.294,.281,.000,\n",
        "\n",
        "year1963"
       ]
      },
      {
       "output_type": "stream",
       "stream": "stdout",
       "text": [
        "\n",
        "1.,Aaron Pointer,1963,MLB,H,1,5,5,0,1,1,0,0,0,1,1,0,0,0,0,0,0,0.0%,33.3%,33.3%,33.3%,.000,.200,.200,.200,.000,\n",
        "\n",
        "year1964"
       ]
      },
      {
       "output_type": "stream",
       "stream": "stdout",
       "text": [
        "\n",
        "1.,Adolfo Phillips,1964,MLB,H,4,7,6,2,1,1,0,0,0,1,2,1,0,0,0,0,0,33.3%,66.7%,0.0%,0.0%,.000,.167,.286,.167,.000,\n",
        "\n",
        "year1965"
       ]
      },
      {
       "output_type": "stream",
       "stream": "stdout",
       "text": [
        "\n",
        "1.,Adolfo Phillips,1965,MLB,H,12,32,31,3,8,6,0,0,2,14,13,1,0,0,0,4,0,23.1%,38.5%,23.1%,15.4%,.194,.258,.281,.452,.000,\n",
        "\n",
        "year1966"
       ]
      },
      {
       "output_type": "stream",
       "stream": "stdout",
       "text": [
        "\n",
        "1.,Aaron Pointer,1966,MLB,H,5,13,8,3,4,3,1,0,0,5,1,4,1,0,0,2,0,0.0%,66.7%,0.0%,33.3%,.125,.500,.692,.625,.000,\n",
        "\n",
        "year1967"
       ]
      },
      {
       "output_type": "stream",
       "stream": "stdout",
       "text": [
        "\n",
        "1.,Aaron Pointer,1967,MLB,H,14,48,37,3,6,3,3,0,0,9,15,10,0,1,0,6,0,41.2%,52.9%,5.9%,0.0%,.081,.162,.333,.243,.000,\n",
        "\n",
        "year1968"
       ]
      },
      {
       "output_type": "stream",
       "stream": "stdout",
       "text": [
        "\n",
        "1.,Adolfo Phillips,1968,MLB,H,71,265,228,28,61,36,14,4,7,104,43,30,3,1,3,16,5,29.7%,47.1%,8.0%,15.2%,.189,.268,.359,.456,.000,\n",
        "\n",
        "year1969"
       ]
      },
      {
       "output_type": "stream",
       "stream": "stdout",
       "text": [
        "\n",
        "1.,Adolfo Phillips,1969,MLB,H,30,115,98,15,21,13,2,2,4,39,31,14,2,1,0,7,4,41.7%,47.9%,0.0%,12.5%,.184,.214,.322,.398,.000,\n",
        "\n",
        "year1970"
       ]
      },
      {
       "output_type": "stream",
       "stream": "stdout",
       "text": [
        "\n",
        "1.,Adolfo Phillips,1970,MLB,H,42,123,102,15,19,13,1,1,4,34,30,19,1,0,1,10,2,36.4%,40.0%,10.9%,12.7%,.147,.186,.320,.333,.000,\n",
        "\n",
        "year1971"
       ]
      },
      {
       "output_type": "stream",
       "stream": "stdout",
       "text": [
        "\n",
        "1.,Adrian Garrett,1971,MLB,H,7,7,6,0,0,0,0,0,0,0,2,1,0,0,0,0,0,75.0%,25.0%,0.0%,0.0%,.000,.000,.143,.000,.000,\n",
        "\n",
        "year1972"
       ]
      },
      {
       "output_type": "stream",
       "stream": "stdout",
       "text": [
        "\n",
        "1.,Adolfo Phillips,1972,MLB,H,3,3,2,1,0,0,0,0,0,0,0,1,0,0,0,0,0,50.0%,50.0%,0.0%,0.0%,.000,.000,.333,.000,.000,\n",
        "\n",
        "year1973"
       ]
      },
      {
       "output_type": "stream",
       "stream": "stdout",
       "text": [
        "\n",
        "1.,Adrian Devine,1973,MLB,H,3,3,2,0,0,0,0,0,0,0,2,1,0,0,0,0,0,0.0%,0.0%,0.0%,0.0%,.000,.000,.333,.000,.000,\n",
        "\n",
        "year1974"
       ]
      },
      {
       "output_type": "stream",
       "stream": "stdout",
       "text": [
        "\n",
        "1.,Adrian Garrett,1974,MLB,H,4,5,4,0,0,0,0,0,0,0,1,1,0,0,0,0,0,0.0%,100.0%,0.0%,0.0%,.000,.000,.200,.000,.000,\n",
        "\n",
        "year1975"
       ]
      },
      {
       "output_type": "stream",
       "stream": "stdout",
       "text": [
        "\n",
        "1.,Adrian Devine,1975,MLB,H,2,4,4,0,0,0,0,0,0,0,2,0,0,0,0,0,0,0.0%,100.0%,0.0%,0.0%,.000,.000,.000,.000,.000,\n",
        "\n",
        "year1976"
       ]
      },
      {
       "output_type": "stream",
       "stream": "stdout",
       "text": [
        "\n",
        "1.,Adrian Devine,1976,MLB,H,6,7,5,0,0,0,0,0,0,0,0,0,0,0,2,0,0,28.6%,71.4%,0.0%,0.0%,.000,.000,.000,.000,.000,\n",
        "\n",
        "year1977"
       ]
      },
      {
       "output_type": "stream",
       "stream": "stdout",
       "text": [
        "\n",
        "1.,Al Bumbry,1977,MLB,H,74,322,283,46,87,69,13,2,3,113,56,33,1,3,2,15,4,32.0%,61.4%,6.5%,0.0%,.092,.307,.378,.399,.000,\n",
        "\n",
        "year1978"
       ]
      },
      {
       "output_type": "stream",
       "stream": "stdout",
       "text": [
        "\n",
        "1.,Adrian Devine,1978,MLB,H,3,6,5,0,1,1,0,0,0,1,0,0,0,0,1,1,0,0.0%,80.0%,20.0%,0.0%,.000,.200,.200,.200,.000,\n",
        "\n",
        "year1979"
       ]
      },
      {
       "output_type": "stream",
       "stream": "stdout",
       "text": [
        "\n",
        "1.,Adrian Devine,1979,MLB,H,2,2,2,0,0,0,0,0,0,0,1,0,0,0,0,0,0,100.0%,0.0%,0.0%,0.0%,.000,.000,.000,.000,.000,\n",
        "\n",
        "year1980"
       ]
      },
      {
       "output_type": "stream",
       "stream": "stdout",
       "text": [
        "\n",
        "1.,Al Bumbry,1980,MLB,H,79,360,307,66,100,79,13,2,6,135,38,46,2,1,4,31,7,22.8%,67.8%,7.8%,1.7%,.114,.326,.416,.440,.000,\n",
        "\n",
        "year1981"
       ]
      },
      {
       "output_type": "stream",
       "stream": "stdout",
       "text": [
        "\n",
        "1.,Al Bumbry,1981,MLB,H,53,237,208,31,61,49,11,0,1,75,34,25,1,1,2,17,1,30.1%,63.4%,5.7%,0.8%,.067,.293,.370,.361,.000,\n",
        "\n",
        "year1982"
       ]
      },
      {
       "output_type": "stream",
       "stream": "stdout",
       "text": [
        "\n",
        "1.,Al Bumbry,1982,MLB,H,74,304,270,42,68,54,9,1,4,91,34,27,0,1,6,22,4,36.8%,58.4%,5.4%,0.0%,.085,.252,.319,.337,.000,\n",
        "\n",
        "year1983"
       ]
      },
      {
       "output_type": "stream",
       "stream": "stdout",
       "text": [
        "\n",
        "1.,Al Bumbry,1983,MLB,H,58,218,197,35,62,52,5,3,2,79,20,16,0,2,3,22,1,30.9%,59.3%,7.3%,2.4%,.086,.315,.363,.401,.000,\n",
        "\n",
        "year1984"
       ]
      },
      {
       "output_type": "stream",
       "stream": "stdout",
       "text": [
        "\n",
        "1.,Al Bumbry,1984,MLB,H,51,180,171,23,45,37,8,0,0,53,20,8,0,1,0,9,10,43.5%,56.5%,0.0%,0.0%,.047,.263,.294,.310,.000,\n",
        "\n",
        "year1985"
       ]
      },
      {
       "output_type": "stream",
       "stream": "stdout",
       "text": [
        "\n",
        "1.,Al Bumbry,1985,MLB,H,30,37,35,2,2,2,0,0,0,2,4,2,0,0,0,2,3,34.5%,62.1%,0.0%,3.4%,.000,.057,.108,.057,.000,\n",
        "\n",
        "year1986"
       ]
      },
      {
       "output_type": "stream",
       "stream": "stdout",
       "text": [
        "\n",
        "1.,Al Cowens,1986,MLB,H,11,34,34,1,7,4,3,0,0,10,7,0,0,0,0,4,2,28.0%,52.0%,20.0%,0.0%,.088,.206,.206,.294,.000,\n",
        "\n",
        "year1987"
       ]
      },
      {
       "output_type": "stream",
       "stream": "stdout",
       "text": [
        "\n",
        "1.,Al Newman,1987,MLB,H,48,180,153,27,36,25,8,3,0,50,15,24,0,0,3,20,2,26.1%,55.8%,15.9%,2.2%,.092,.235,.339,.327,.000,\n",
        "\n",
        "year1988"
       ]
      },
      {
       "output_type": "stream",
       "stream": "stdout",
       "text": [
        "\n",
        "1.,Al Newman,1988,MLB,H,44,146,128,16,30,26,4,0,0,34,14,16,0,0,2,9,2,18.3%,59.1%,13.0%,9.6%,.031,.234,.319,.266,.000,\n",
        "\n",
        "year1989"
       ]
      },
      {
       "output_type": "stream",
       "stream": "stdout",
       "text": [
        "\n",
        "1.,Al Newman,1989,MLB,H,68,264,224,37,58,51,6,1,0,66,20,32,1,2,5,14,2,19.9%,51.7%,21.8%,6.6%,.036,.259,.351,.295,.000,\n",
        "\n",
        "year1990"
       ]
      },
      {
       "output_type": "stream",
       "stream": "stdout",
       "text": [
        "\n",
        "1.,Al Newman,1990,MLB,H,67,229,199,27,52,44,8,0,0,60,13,23,1,2,4,19,4,16.1%,56.8%,18.2%,8.9%,.040,.261,.338,.302,.000,\n",
        "\n",
        "year1991"
       ]
      },
      {
       "output_type": "stream",
       "stream": "stdout",
       "text": [
        "\n",
        "1.,Adam Peterson,1991,MLB,H,5,7,6,0,0,0,0,0,0,0,4,0,0,0,1,0,0,0.0%,66.7%,0.0%,33.3%,.000,.000,.000,.000,.000,\n",
        "\n",
        "year1992"
       ]
      },
      {
       "output_type": "stream",
       "stream": "stdout",
       "text": [
        "\n",
        "1.,Al Martin,1992,MLB,H,4,5,5,0,1,1,0,0,0,1,2,0,0,0,0,1,0,0.0%,66.7%,33.3%,0.0%,.000,.200,.200,.200,.000,\n",
        "\n",
        "year1993"
       ]
      },
      {
       "output_type": "stream",
       "stream": "stdout",
       "text": [
        "\n",
        "1.,Al Martin,1993,MLB,H,76,280,253,46,69,37,12,5,15,136,72,25,0,1,1,44,2,29.3%,44.2%,15.5%,11.0%,.265,.273,.337,.538,.000,\n",
        "\n",
        "year1994"
       ]
      },
      {
       "output_type": "stream",
       "stream": "stdout",
       "text": [
        "\n",
        "1.,A. J. Sager,1994,MLB,H,3,3,3,0,0,0,0,0,0,0,3,0,0,0,0,0,0,0.0%,0.0%,0.0%,0.0%,.000,.000,.000,.000,.000,\n",
        "\n",
        "year1995"
       ]
      },
      {
       "output_type": "stream",
       "stream": "stdout",
       "text": [
        "\n",
        "1.,A. J. Sager,1995,MLB,H,2,2,2,0,0,0,0,0,0,0,0,0,0,0,0,0,0,50.0%,50.0%,0.0%,0.0%,.000,.000,.000,.000,.000,\n",
        "\n",
        "year1996"
       ]
      },
      {
       "output_type": "stream",
       "stream": "stdout",
       "text": [
        "\n",
        "1.,Aaron Holbert,1996,MLB,H,1,3,3,0,0,0,0,0,0,0,0,0,0,0,0,0,0,33.3%,0.0%,33.3%,33.3%,.000,.000,.000,.000,.000,\n",
        "\n",
        "year1997"
       ]
      },
      {
       "output_type": "stream",
       "stream": "stdout",
       "text": [
        "\n",
        "1.,Aaron Boone,1997,MLB,H,3,4,4,1,1,1,0,0,0,1,1,0,0,0,0,0,0,0.0%,66.7%,33.3%,0.0%,.000,.250,.250,.250,.000,\n",
        "\n",
        "year1998"
       ]
      },
      {
       "output_type": "stream",
       "stream": "stdout",
       "text": [
        "\n",
        "1.,A.j. Hinch,1998,MLB,H,56,183,155,13,36,26,6,0,4,54,33,13,4,3,8,14,1,24.8%,51.1%,14.3%,9.8%,.116,.232,.303,.348,.000,\n",
        "\n",
        "year1999"
       ]
      },
      {
       "output_type": "stream",
       "stream": "stdout",
       "text": [
        "\n",
        "1.,A.j. Burnett,1999,MLB,H,2,5,5,0,0,0,0,0,0,0,3,0,0,0,0,0,0,50.0%,50.0%,0.0%,0.0%,.000,.000,.000,.000,.000,\n",
        "\n",
        "year2000"
       ]
      },
      {
       "output_type": "stream",
       "stream": "stdout",
       "text": [
        "\n",
        "1.,A.j. Burnett,2000,MLB,H,7,15,13,2,3,0,1,1,1,9,6,2,0,0,0,2,0,25.0%,50.0%,0.0%,25.0%,.462,.231,.333,.692,.321,\n",
        "\n",
        "year2001"
       ]
      },
      {
       "output_type": "stream",
       "stream": "stdout",
       "text": [
        "\n",
        "1.,A.j. Burnett,2001,MLB,H,12,29,23,0,3,3,0,0,0,3,13,0,1,0,5,0,0,25.0%,58.3%,0.0%,16.7%,.000,.130,.167,.130,.136,\n",
        "\n",
        "year2002"
       ]
      },
      {
       "output_type": "stream",
       "stream": "stdout",
       "text": [
        "\n",
        "1.,A.j. Burnett,2002,MLB,H,14,34,28,1,2,1,0,0,1,5,15,3,0,0,3,2,1,28.6%,50.0%,7.1%,14.3%,.107,.071,.161,.179,.125,\n",
        "\n",
        "year2003"
       ]
      },
      {
       "output_type": "stream",
       "stream": "stdout",
       "text": [
        "\n",
        "1.,A.j. Burnett,2003,MLB,H,2,4,3,0,1,1,0,0,0,1,1,1,0,0,0,0,0,50.0%,50.0%,0.0%,0.0%,.000,.333,.500,.333,.309,\n",
        "\n",
        "year2004"
       ]
      },
      {
       "output_type": "stream",
       "stream": "stdout",
       "text": [
        "\n",
        "1.,A.j. Burnett,2004,MLB,H,11,25,21,3,2,2,0,0,0,2,8,0,0,0,4,0,1,23.5%,76.5%,5.9%,5.9%,.000,.095,.095,.095,.071,\n",
        "\n",
        "year2005"
       ]
      },
      {
       "output_type": "stream",
       "stream": "stdout",
       "text": [
        "\n",
        "1.,A.j. Burnett,2005,MLB,H,13,32,27,0,5,2,1,2,0,10,13,1,0,0,4,1,1,11.1%,66.7%,16.7%,11.1%,.185,.185,.214,.370,.195,\n",
        "\n",
        "year2006"
       ]
      },
      {
       "output_type": "stream",
       "stream": "stdout",
       "text": [
        "\n",
        "1.,A.j. Pierzynski,2006,MLB,H,73,281,263,38,78,56,13,0,9,118,36,14,3,0,1,32,7,28.5%,46.9%,18.4%,6.1%,.152,.297,.339,.449,.245,\n",
        "\n",
        "year2007"
       ]
      },
      {
       "output_type": "stream",
       "stream": "stdout",
       "text": [
        "\n",
        "1.,A.j. Pierzynski,2007,MLB,H,69,256,239,22,59,41,10,0,8,93,31,10,5,2,0,25,9,29.0%,39.5%,20.5%,11.0%,.142,.247,.289,.389,.232,\n",
        "\n",
        "year2008"
       ]
      },
      {
       "output_type": "stream",
       "stream": "stdout",
       "text": [
        "\n",
        "1.,A.j. Pierzynski,2008,MLB,H,66,291,277,38,83,60,16,0,7,120,41,5,4,3,2,29,8,27.4%,46.5%,17.4%,8.7%,.134,.300,.318,.433,.250,\n",
        "\n",
        "year2009"
       ]
      },
      {
       "output_type": "stream",
       "stream": "stdout",
       "text": [
        "\n",
        "1.,A.j. Ellis,2009,MLB,H,3,7,7,0,1,1,0,0,0,1,1,0,0,0,0,1,0,16.7%,66.7%,16.7%,0.0%,.000,.143,.143,.143,.095,\n",
        "\n",
        "year2010"
       ]
      },
      {
       "output_type": "stream",
       "stream": "stdout",
       "text": [
        "\n",
        "1.,A.j. Ellis,2010,MLB,H,19,61,55,2,20,16,4,0,0,24,10,4,0,0,2,9,3,25.5%,44.7%,19.1%,10.6%,.073,.364,.407,.436,.312,\n",
        "\n",
        "year2011"
       ]
      },
      {
       "output_type": "stream",
       "stream": "stdout",
       "text": [
        "\n",
        "1.,A.j. Ellis,2011,MLB,H,15,50,41,0,9,9,0,0,0,9,10,8,1,0,0,3,1,32.3%,51.6%,12.9%,3.2%,.000,.220,.360,.220,.241,\n",
        "\n",
        "year2012"
       ]
      },
      {
       "output_type": "stream",
       "stream": "stdout",
       "text": [
        "\n",
        "1.,A.j. Burnett,2012,MLB,H,17,36,31,1,2,2,0,0,0,2,15,3,0,0,2,1,0,0.0%,72.2%,16.7%,11.1%,.000,.065,.147,.065,.149,\n",
        "\n",
        "year2013"
       ]
      },
      {
       "output_type": "stream",
       "stream": "stdout",
       "text": [
        "\n",
        "1.,A.j. Burnett,2013,MLB,H,14,30,26,0,2,2,0,0,0,2,11,1,0,0,3,1,1,5.6%,77.8%,11.1%,5.6%,.000,.077,.111,.077,.078,\n",
        "\n",
        "year2014"
       ]
      },
      {
       "output_type": "stream",
       "stream": "stdout",
       "text": [
        "\n",
        "1.,A.j. Burnett,2014,MLB,H,16,34,32,1,2,2,0,0,0,2,11,0,0,0,2,0,1,8.7%,73.9%,13.0%,4.3%,.000,.063,.063,.063,.074,\n",
        "\n"
       ]
      }
     ],
     "prompt_number": 2
    }
   ],
   "metadata": {}
  }
 ]
}