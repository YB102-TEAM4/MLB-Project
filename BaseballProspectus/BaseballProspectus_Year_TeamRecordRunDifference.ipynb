{
 "metadata": {
  "name": "",
  "signature": "sha256:feaa8cad8901778e9edc6c32d6996a9c4a496c0af6a6877eb9b686b0731d34d6"
 },
 "nbformat": 3,
 "nbformat_minor": 0,
 "worksheets": [
  {
   "cells": [
    {
     "cell_type": "code",
     "collapsed": false,
     "input": [
      "#\u9996\u5148Name\u8981\u6392\u5e8f\n",
      "#\u8981\u6ce8\u610f\u7684\u5730\u65b9\u6709\u56db\u500b folder, range, year, page_limit\n",
      "import string, time, requests, os\n",
      "from bs4 import BeautifulSoup\n",
      "headers={\n",
      "    'User-Agent':'Mozilla/5.0 (Windows NT 6.1; WOW64) AppleWebKit/537.36 (KHTML, like Gecko) Chrome/40.0.2214.93 Safari/537.36'\n",
      "}\n",
      "url='http://www.baseballprospectus.com/sortable/index.php'\n",
      "\n",
      "folder='TeamRecordRunDifference'#\u8cc7\u6599\u593e\u540d\u7a31*********************\n",
      "\n",
      "path='Baseball\\\\'+folder #\u8def\u5f91\u540d\u7a31\n",
      "if os.path.exists(path):\n",
      "    print 'folder exists'\n",
      "else:    \n",
      "    os.mkdir(path)\n",
      "    print 'folder not exists'  \n",
      "    \n",
      "for year in range(1950,2015): #2015\u6c92\u7b97\u5230**************\n",
      "    payload={            \n",
      "            'mystatslist':'YEAR,LVL,LG,TEAM,DIFF_ONE_GAME,G,W,L,WINP',\n",
      "            'category':'team_record_by_run_diff',\n",
      "            'tablename':'dyna_team_record_by_run_diff',\n",
      "            'stage':'data',\n",
      "            'year':'%d'%(year),#*********************\n",
      "            'mystatslist':'YEAR,LVL,LG,TEAM,DIFF_ONE_GAME,G,W,L,WINP',\n",
      "            'category':'team_record_by_run_diff',\n",
      "            'tablename':'dyna_team_record_by_run_diff',\n",
      "            'stage':'data',\n",
      "            'group_LVL':'*',\n",
      "            'group_LG':'*',\n",
      "            'group_DIFF_ONE_GAME':'*',\n",
      "            'minimum':'0',\n",
      "            'sort1column':'TEAM',\n",
      "            'sort1order':'ASC',\n",
      "            'sort2column':'DIFF_ONE_GAME',\n",
      "            'sort2order':'ASC',\n",
      "            'sort3column':'YEAR',\n",
      "            'sort3order':'ASC',\n",
      "            'page_limit':'All',#*********************\n",
      "            'viewdata':'View Data',\n",
      "        }\n",
      "    res=requests.post(url,data=payload,headers=headers)\n",
      "    soup=BeautifulSoup(res.text.encode('utf-8'))    \n",
      "    trList=soup.select('#TTdata tr')\n",
      "    fileName= str(year)+'_'+folder+'.csv'\n",
      "    fid=open(path+'\\\\'+fileName,'w')    \n",
      "    for tr in trList:\n",
      "        for td in tr.select('td'):\n",
      "            fid.write(td.text.encode('utf-8')+',')\n",
      "        fid.write('\\n')\n",
      "    fid.close()\n",
      "    fod=open(path+'\\\\'+fileName,'r')\n",
      "    print 'year'+str(year)\n",
      "    print fod.readlines()[1]\n",
      "    fod.close()\n",
      "    time.sleep(2)\n"
     ],
     "language": "python",
     "metadata": {},
     "outputs": [
      {
       "output_type": "stream",
       "stream": "stdout",
       "text": [
        "folder not exists\n",
        "year1950"
       ]
      },
      {
       "output_type": "stream",
       "stream": "stdout",
       "text": [
        "\n",
        "1.,1950,mlb,AL,BOS,1,26,16,10,.615,\n",
        "\n",
        "year1951"
       ]
      },
      {
       "output_type": "stream",
       "stream": "stdout",
       "text": [
        "\n",
        "1.,1951,mlb,AL,BOS,1,39,22,17,.564,\n",
        "\n",
        "year1952"
       ]
      },
      {
       "output_type": "stream",
       "stream": "stdout",
       "text": [
        "\n",
        "1.,1952,mlb,AL,BOS,1,43,21,22,.488,\n",
        "\n",
        "year1953"
       ]
      },
      {
       "output_type": "stream",
       "stream": "stdout",
       "text": [
        "\n",
        "1.,1953,mlb,AL,BOS,1,51,35,16,.686,\n",
        "\n",
        "year1954"
       ]
      },
      {
       "output_type": "stream",
       "stream": "stdout",
       "text": [
        "\n",
        "1.,1954,mlb,AL,BAL,1,50,20,30,.400,\n",
        "\n",
        "year1955"
       ]
      },
      {
       "output_type": "stream",
       "stream": "stdout",
       "text": [
        "\n",
        "1.,1955,mlb,AL,BAL,0,2,0,2,.000,\n",
        "\n",
        "year1956"
       ]
      },
      {
       "output_type": "stream",
       "stream": "stdout",
       "text": [
        "\n",
        "1.,1956,mlb,AL,BAL,1,51,28,23,.549,\n",
        "\n",
        "year1957"
       ]
      },
      {
       "output_type": "stream",
       "stream": "stdout",
       "text": [
        "\n",
        "1.,1957,mlb,AL,BAL,0,2,0,2,.000,\n",
        "\n",
        "year1958"
       ]
      },
      {
       "output_type": "stream",
       "stream": "stdout",
       "text": [
        "\n",
        "1.,1958,mlb,AL,BAL,0,1,0,1,.000,\n",
        "\n",
        "year1959"
       ]
      },
      {
       "output_type": "stream",
       "stream": "stdout",
       "text": [
        "\n",
        "1.,1959,mlb,AL,BAL,0,1,0,1,.000,\n",
        "\n",
        "year1960"
       ]
      },
      {
       "output_type": "stream",
       "stream": "stdout",
       "text": [
        "\n",
        "1.,1960,mlb,AL,BAL,1,54,35,19,.648,\n",
        "\n",
        "year1961"
       ]
      },
      {
       "output_type": "stream",
       "stream": "stdout",
       "text": [
        "\n",
        "1.,1961,mlb,AL,BAL,0,1,0,1,.000,\n",
        "\n",
        "year1962"
       ]
      },
      {
       "output_type": "stream",
       "stream": "stdout",
       "text": [
        "\n",
        "1.,1962,mlb,AL,BAL,1,60,28,32,.467,\n",
        "\n",
        "year1963"
       ]
      },
      {
       "output_type": "stream",
       "stream": "stdout",
       "text": [
        "\n",
        "1.,1963,mlb,AL,BAL,1,52,25,27,.481,\n",
        "\n",
        "year1964"
       ]
      },
      {
       "output_type": "stream",
       "stream": "stdout",
       "text": [
        "\n",
        "1.,1964,mlb,AL,BAL,0,1,0,1,.000,\n",
        "\n",
        "year1965"
       ]
      },
      {
       "output_type": "stream",
       "stream": "stdout",
       "text": [
        "\n",
        "1.,1965,mlb,AL,BAL,1,56,32,24,.571,\n",
        "\n",
        "year1966"
       ]
      },
      {
       "output_type": "stream",
       "stream": "stdout",
       "text": [
        "\n",
        "1.,1966,mlb,NL,ATL,0,1,0,1,.000,\n",
        "\n",
        "year1967"
       ]
      },
      {
       "output_type": "stream",
       "stream": "stdout",
       "text": [
        "\n",
        "1.,1967,mlb,NL,ATL,1,52,25,27,.481,\n",
        "\n",
        "year1968"
       ]
      },
      {
       "output_type": "stream",
       "stream": "stdout",
       "text": [
        "\n",
        "1.,1968,mlb,NL,ATL,0,1,0,1,.000,\n",
        "\n",
        "year1969"
       ]
      },
      {
       "output_type": "stream",
       "stream": "stdout",
       "text": [
        "\n",
        "1.,1969,mlb,NL,ATL,1,45,28,17,.622,\n",
        "\n",
        "year1970"
       ]
      },
      {
       "output_type": "stream",
       "stream": "stdout",
       "text": [
        "\n",
        "1.,1970,mlb,NL,ATL,1,44,20,24,.455,\n",
        "\n",
        "year1971"
       ]
      },
      {
       "output_type": "stream",
       "stream": "stdout",
       "text": [
        "\n",
        "1.,1971,mlb,NL,ATL,1,58,28,30,.483,\n",
        "\n",
        "year1972"
       ]
      }
     ]
    }
   ],
   "metadata": {}
  }
 ]
}