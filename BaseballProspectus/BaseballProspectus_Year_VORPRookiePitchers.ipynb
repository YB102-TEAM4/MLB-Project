{
 "metadata": {
  "name": "",
  "signature": "sha256:ae3485f29683290f1bb1e49540f9ac2bd6e4cc2221dfb3d06774bebbd513f82a"
 },
 "nbformat": 3,
 "nbformat_minor": 0,
 "worksheets": [
  {
   "cells": [
    {
     "cell_type": "code",
     "collapsed": false,
     "input": [
      "#\u9996\u5148Name\u8981\u6392\u5e8f\n",
      "#\u8981\u6ce8\u610f\u7684\u5730\u65b9\u6709\u56db\u500b range, year, fileName, page_limit\n",
      "import string\n",
      "import time\n",
      "import requests\n",
      "from bs4 import BeautifulSoup\n",
      "headers={\n",
      "    'User-Agent':'Mozilla/5.0 (Windows NT 6.1; WOW64) AppleWebKit/537.36 (KHTML, like Gecko) Chrome/40.0.2214.93 Safari/537.36'\n",
      "}\n",
      "url='http://www.baseballprospectus.com/sortable/index.php'      \n",
      "for year in range(1871,2015): #2015\u6c92\u7b97\u5230**************\n",
      "    payload={            \n",
      "            'mystatslist':'NAME,TEAM,LG,YEAR,G,GS,IP,H9,BB9,SO9,HR9,ERA,RA,PK_RA,RA_PLUS,RP,VORP,BABIP',\n",
      "            'category':'pitcher_team_year_rook',\n",
      "            'tablename':'dyna_pitcher_team_year_rook',\n",
      "            'stage':'data',            \n",
      "            'year':'%d'%(year),#*********************\n",
      "            'mystatslist':'NAME,TEAM,LG,YEAR,G,GS,IP,H9,BB9,SO9,HR9,ERA,RA,PK_RA,RA_PLUS,RP,VORP,BABIP',\n",
      "            'category':'pitcher_team_year_rook',\n",
      "            'tablename':'dyna_pitcher_team_year_rook',\n",
      "            'stage':'data',\n",
      "            'group_TEAM':'*',\n",
      "            'group_LG':'*',\n",
      "            'minimum':'0',\n",
      "            'sort1column':'NAME',\n",
      "            'sort1order':'ASC',\n",
      "            'page_limit':'All',#*********************\n",
      "            'tt_team':'*',\n",
      "            'show_ttroster':'1',\n",
      "            'show_ttwatched':'1',\n",
      "            'viewdata':'View Data',\n",
      "        }\n",
      "    res=requests.post(url,data=payload,headers=headers)\n",
      "    soup=BeautifulSoup(res.text.encode('utf-8'))    \n",
      "    trList=soup.select('#TTdata')[0].select('tr')    \n",
      "    fileName= str(year)+'_VORPRookiePitchers.csv'#*********************\n",
      "    fid=open('Baseball\\\\'+fileName,'w')    \n",
      "    for tr in trList:\n",
      "        for td in tr.select('td'):\n",
      "            fid.write(td.text.encode('utf-8')+',')\n",
      "        fid.write('\\n')\n",
      "    fid.close()\n",
      "    fod=open('Baseball\\\\'+fileName,'r')\n",
      "    print 'year'+str(year)\n",
      "    print fod.readlines()[1]\n",
      "    fod.close()\n",
      "    time.sleep(2)"
     ],
     "language": "python",
     "metadata": {},
     "outputs": [
      {
       "output_type": "stream",
       "stream": "stdout",
       "text": [
        "year1871\n",
        "1.,Al Pratt,CL1,NA,1871,28,28,224.7,11.9,1.9,1.4,0.36,3.77,11.54,0.00,0.00,0.0,0.0,.279,\n",
        "\n",
        "year1872"
       ]
      },
      {
       "output_type": "stream",
       "stream": "stdout",
       "text": [
        "\n",
        "1., O'rourke,BR1,NA,1872,1,1,9.0,16.0,2.0,0.0,0.00,8.00,15.00,0.00,0.00,0.0,0.0,.327,\n",
        "\n",
        "year1873"
       ]
      },
      {
       "output_type": "stream",
       "stream": "stdout",
       "text": [
        "\n",
        "1.,Bill French,BL4,NA,1873,1,1,9.0,30.0,0.0,0.0,0.00,12.00,27.00,0.00,0.00,0.0,0.0,.462,\n",
        "\n",
        "year1874"
       ]
      },
      {
       "output_type": "stream",
       "stream": "stdout",
       "text": [
        "\n",
        "1.,Dan Collins,CH2,NA,1874,2,2,11.0,18.0,1.6,0.0,0.00,4.91,13.91,0.00,0.00,0.0,0.0,.386,\n",
        "\n",
        "year1875"
       ]
      },
      {
       "output_type": "stream",
       "stream": "stdout",
       "text": [
        "\n",
        "1.,Bill Parks,WS6,NA,1875,14,11,106.7,12.2,0.4,0.3,0.25,3.29,10.13,0.00,0.00,0.0,0.0,.277,\n",
        "\n",
        "year1876"
       ]
      },
      {
       "output_type": "stream",
       "stream": "stdout",
       "text": [
        "\n",
        "1.,Amos Booth,CN1,NL,1876,3,1,9.7,20.5,0.0,0.0,0.00,9.31,16.76,0.00,0.00,0.0,0.0,.431,\n",
        "\n",
        "year1877"
       ]
      },
      {
       "output_type": "stream",
       "stream": "stdout",
       "text": [
        "\n",
        "1.,Bobby Mitchell,CN1,NL,1877,12,12,100.0,11.1,1.0,3.7,0.00,3.51,6.21,0.00,0.00,0.0,0.0,.311,\n",
        "\n",
        "year1878"
       ]
      },
      {
       "output_type": "stream",
       "stream": "stdout",
       "text": [
        "\n",
        "1.,Frank Hankinson,CHN,NL,1878,1,1,9.0,11.0,0.0,4.0,0.00,6.00,9.00,0.00,0.00,0.0,0.0,.314,\n",
        "\n",
        "year1879"
       ]
      },
      {
       "output_type": "stream",
       "stream": "stdout",
       "text": [
        "\n",
        "1.,Bill Mcgunnigle,BFN,NL,1879,14,13,120.0,8.5,1.2,4.7,0.00,2.63,4.95,0.00,0.00,0.0,0.0,.270,\n",
        "\n",
        "year1880"
       ]
      },
      {
       "output_type": "stream",
       "stream": "stdout",
       "text": [
        "\n",
        "1.,Charlie Guth,CHN,NL,1880,1,1,9.0,12.0,1.0,7.0,0.00,5.00,8.00,0.00,0.00,0.0,0.0,.353,\n",
        "\n",
        "year1881"
       ]
      },
      {
       "output_type": "stream",
       "stream": "stdout",
       "text": [
        "\n",
        "1.,Billy Taylor,WOR,NL,1881,1,1,8.0,16.9,6.8,0.0,0.00,7.88,14.63,0.00,0.00,0.0,0.0,.366,\n",
        "\n",
        "year1882"
       ]
      },
      {
       "output_type": "stream",
       "stream": "stdout",
       "text": [
        "\n",
        "1.,Bert Dorr,SL4,AA,1882,8,8,66.0,7.2,0.1,4.6,0.00,2.59,5.32,0.00,0.00,0.0,0.0,-1.514,\n",
        "\n",
        "year1883"
       ]
      },
      {
       "output_type": "stream",
       "stream": "stdout",
       "text": [
        "\n",
        "1.,Alonzo Breitenstein,PHI,NL,1883,1,1,5.0,14.4,3.6,0.0,0.00,9.00,16.20,0.00,0.00,0.0,0.0,.320,\n",
        "\n",
        "year1884"
       ]
      },
      {
       "output_type": "stream",
       "stream": "stdout",
       "text": [
        "\n",
        "1., Smith\u00e2\u0094\u0090,BLU,UA,1884,1,1,6.0,18.0,3.0,3.0,0.00,9.00,16.50,0.00,0.00,0.0,0.0,-3.000,\n",
        "\n",
        "year1885"
       ]
      },
      {
       "output_type": "stream",
       "stream": "stdout",
       "text": [
        "\n",
        "1.,Al Mays,LS2,AA,1885,17,17,150.0,7.7,2.6,3.7,0.18,2.76,6.12,0.00,0.00,0.0,0.0,.240,\n",
        "\n",
        "year1886"
       ]
      },
      {
       "output_type": "stream",
       "stream": "stdout",
       "text": [
        "\n",
        "1.,Al Bauers,SL5,NL,1886,4,4,28.7,9.7,8.5,4.1,0.31,5.97,8.48,0.00,0.00,0.0,0.0,.294,\n",
        "\n",
        "year1887"
       ]
      },
      {
       "output_type": "stream",
       "stream": "stdout",
       "text": [
        "\n",
        "1.,Al Maul,PHI,NL,1887,7,5,50.3,12.9,2.7,3.2,0.36,5.54,8.94,0.00,0.00,0.0,0.0,.348,\n",
        "\n",
        "year1888"
       ]
      },
      {
       "output_type": "stream",
       "stream": "stdout",
       "text": [
        "\n",
        "1.,Ad Gumbert,CHN,NL,1888,6,6,48.7,8.1,1.8,3.0,0.00,3.14,4.44,0.00,0.00,0.0,0.0,.256,\n",
        "\n",
        "year1889"
       ]
      },
      {
       "output_type": "stream",
       "stream": "stdout",
       "text": [
        "\n",
        "1.,Ad Gumbert,CHN,NL,1889,31,28,246.3,9.4,2.8,3.3,0.58,3.62,5.41,0.00,0.00,0.0,0.0,-1.228,\n",
        "\n",
        "year1890"
       ]
      },
      {
       "output_type": "stream",
       "stream": "stdout",
       "text": [
        "\n",
        "1.,Al Lawson,PIT,NL,1890,2,2,10.0,13.5,9.0,1.8,0.00,9.00,18.00,0.00,0.00,0.0,0.0,-1.250,\n",
        "\n",
        "year1891"
       ]
      },
      {
       "output_type": "stream",
       "stream": "stdout",
       "text": [
        "\n",
        "1.,Andy Dunning,NY1,NL,1891,1,1,2.0,13.5,13.5,4.5,4.50,4.50,22.50,0.00,0.00,0.0,0.0,-.400,\n",
        "\n",
        "year1892"
       ]
      },
      {
       "output_type": "stream",
       "stream": "stdout",
       "text": [
        "\n",
        "1.,Alex Jones,WSN,NL,1892,4,4,27.0,11.0,4.7,2.3,0.00,4.00,7.67,0.00,0.00,0.0,0.0,-1.435,\n",
        "\n",
        "year1893"
       ]
      },
      {
       "output_type": "stream",
       "stream": "stdout",
       "text": [
        "\n",
        "1.,Abe Johnson,CHN,NL,1893,1,0,1.0,18.0,18.0,0.0,0.00,36.00,36.00,0.00,0.00,0.0,0.0,-.667,\n",
        "\n",
        "year1894"
       ]
      },
      {
       "output_type": "stream",
       "stream": "stdout",
       "text": [
        "\n",
        "1.,Al Burris,PHI,NL,1894,1,0,5.0,25.2,3.6,0.0,0.00,18.00,18.00,0.00,0.00,0.0,0.0,-7.000,\n",
        "\n",
        "year1895"
       ]
      },
      {
       "output_type": "stream",
       "stream": "stdout",
       "text": [
        "\n",
        "1.,Al Orth,PHI,NL,1895,11,10,88.0,10.5,2.3,2.6,0.00,3.89,5.11,0.00,0.00,0.0,0.0,-2.102,\n",
        "\n",
        "year1896"
       ]
      },
      {
       "output_type": "stream",
       "stream": "stdout",
       "text": [
        "\n",
        "1.,Arlie Pond,BLN,NL,1896,28,26,214.3,9.7,2.4,3.4,0.17,3.49,5.58,0.00,0.00,0.0,0.0,-1.551,\n",
        "\n",
        "year1897"
       ]
      },
      {
       "output_type": "stream",
       "stream": "stdout",
       "text": [
        "\n",
        "1.,Bert Miller,LS3,NL,1897,4,1,17.0,16.9,1.6,1.6,0.00,7.94,12.18,0.00,0.00,0.0,0.0,-5.333,\n",
        "\n",
        "year1898"
       ]
      },
      {
       "output_type": "stream",
       "stream": "stdout",
       "text": [
        "\n",
        "1.,Bert Conn,PHI,NL,1898,1,1,7.0,16.7,2.6,3.9,1.29,6.43,11.57,0.00,0.00,0.0,0.0,-2.000,\n",
        "\n",
        "year1899"
       ]
      },
      {
       "output_type": "stream",
       "stream": "stdout",
       "text": [
        "\n",
        "1.,Bill Bernhard,PHI,NL,1899,21,12,132.3,8.2,2.4,1.6,0.20,2.65,4.49,0.00,0.00,0.0,0.0,-1.721,\n",
        "\n",
        "year1900"
       ]
      },
      {
       "output_type": "stream",
       "stream": "stdout",
       "text": [
        "\n",
        "1.,Archie Stimmel,CIN,NL,1900,2,1,13.0,12.5,2.8,1.4,0.69,6.92,7.62,0.00,0.00,0.0,0.0,-2.429,\n",
        "\n",
        "year1901"
       ]
      },
      {
       "output_type": "stream",
       "stream": "stdout",
       "text": [
        "\n",
        "1.,Archie Stimmel,CIN,NL,1901,20,18,153.3,10.0,2.6,3.2,0.59,4.11,5.63,0.00,0.00,0.0,0.0,-1.322,\n",
        "\n",
        "year1902"
       ]
      },
      {
       "output_type": "stream",
       "stream": "stdout",
       "text": [
        "\n",
        "1.,Addie Joss,CLE,AL,1902,32,29,269.3,7.5,2.5,3.5,0.07,2.77,4.01,0.00,0.00,0.0,0.0,-1.138,\n",
        "\n",
        "year1903"
       ]
      },
      {
       "output_type": "stream",
       "stream": "stdout",
       "text": [
        "\n",
        "1.,Alex Hardy,CHN,NL,1903,3,3,12.7,14.9,5.0,2.8,0.00,6.39,7.11,0.00,0.00,0.0,0.0,.404,\n",
        "\n",
        "year1904"
       ]
      },
      {
       "output_type": "stream",
       "stream": "stdout",
       "text": [
        "\n",
        "1.,Ambrose Puttmann,NYA,AL,1904,9,3,49.3,7.3,3.1,4.7,0.00,2.74,3.83,0.00,0.00,0.0,0.0,-.930,\n",
        "\n",
        "year1905"
       ]
      },
      {
       "output_type": "stream",
       "stream": "stdout",
       "text": [
        "\n",
        "1.,Andy Bruckmiller,DET,AL,1905,1,0,1.0,36.0,9.0,9.0,0.00,27.00,27.00,0.00,0.00,0.0,0.0,-2.000,\n",
        "\n",
        "year1906"
       ]
      },
      {
       "output_type": "stream",
       "stream": "stdout",
       "text": [
        "\n",
        "1.,Art Fromme,SLN,NL,1906,3,3,25.0,6.8,3.6,4.0,0.00,1.44,2.16,0.00,0.00,0.0,0.0,.253,\n",
        "\n",
        "year1907"
       ]
      },
      {
       "output_type": "stream",
       "stream": "stdout",
       "text": [
        "\n",
        "1.,Art Fromme,SLN,NL,1907,23,16,145.7,8.5,4.1,4.1,0.19,2.90,4.51,0.00,0.00,0.0,0.0,.288,\n",
        "\n",
        "year1908"
       ]
      },
      {
       "output_type": "stream",
       "stream": "stdout",
       "text": [
        "\n",
        "1.,Abe Kruger,BRO,NL,1908,2,1,6.3,7.1,4.3,2.8,0.00,4.26,7.11,0.00,0.00,0.0,0.0,.263,\n",
        "\n",
        "year1909"
       ]
      },
      {
       "output_type": "stream",
       "stream": "stdout",
       "text": [
        "\n",
        "1.,Al Klawitter,NY1,NL,1909,6,3,27.0,8.0,4.3,2.0,0.33,2.00,3.67,0.00,0.00,0.0,0.0,.256,\n",
        "\n",
        "year1910"
       ]
      },
      {
       "output_type": "stream",
       "stream": "stdout",
       "text": [
        "\n",
        "1.,Ad Brennan,PHI,NL,1910,19,5,73.3,8.8,3.4,3.4,0.25,2.33,4.42,0.00,0.00,0.0,0.0,.288,\n",
        "\n",
        "year1911"
       ]
      },
      {
       "output_type": "stream",
       "stream": "stdout",
       "text": [
        "\n",
        "1.,Allan Collamore,PHA,AL,1911,2,0,2.0,27.0,13.5,4.5,0.00,36.00,40.50,0.00,0.00,0.0,0.0,.667,\n",
        "\n",
        "year1912"
       ]
      },
      {
       "output_type": "stream",
       "stream": "stdout",
       "text": [
        "\n",
        "1.,Al Demaree,NY1,NL,1912,2,2,16.0,9.6,1.1,6.2,0.00,1.69,1.69,0.00,0.00,0.0,0.0,.327,\n",
        "\n",
        "year1913"
       ]
      },
      {
       "output_type": "stream",
       "stream": "stdout",
       "text": [
        "\n",
        "1.,Al Clauss,DET,AL,1913,5,1,13.3,7.4,8.1,0.7,0.00,4.73,6.08,0.00,0.00,0.0,0.0,.229,\n",
        "\n",
        "year1914"
       ]
      },
      {
       "output_type": "stream",
       "stream": "stdout",
       "text": [
        "\n",
        "1.,Abe Bowman,CLE,AL,1914,22,10,72.7,9.2,5.6,3.3,0.00,4.46,5.57,0.00,0.00,0.0,0.0,.308,\n",
        "\n",
        "year1915"
       ]
      },
      {
       "output_type": "stream",
       "stream": "stdout",
       "text": [
        "\n",
        "1.,Al Braithwood,PTF,FL,1915,2,0,3.0,0.0,0.0,6.0,0.00,0.00,0.00,0.00,0.00,0.0,0.0,.000,\n",
        "\n",
        "year1916"
       ]
      },
      {
       "output_type": "stream",
       "stream": "stdout",
       "text": [
        "\n",
        "1.,Al Gould,CLE,AL,1916,30,9,106.7,8.5,3.4,3.5,0.00,2.53,3.12,0.00,0.00,0.0,0.0,.285,\n",
        "\n",
        "year1917"
       ]
      },
      {
       "output_type": "stream",
       "stream": "stdout",
       "text": [
        "\n",
        "1.,Ad Swigler,NY1,NL,1917,1,1,6.0,10.5,12.0,6.0,0.00,6.00,6.00,0.00,0.00,0.0,0.0,.389,\n",
        "\n",
        "year1918"
       ]
      },
      {
       "output_type": "stream",
       "stream": "stdout",
       "text": [
        "\n",
        "1.,Alex Ferguson,NYA,AL,1918,1,0,1.7,10.8,10.8,5.4,0.00,0.00,0.00,0.00,0.00,0.0,0.0,.400,\n",
        "\n",
        "year1919"
       ]
      },
      {
       "output_type": "stream",
       "stream": "stdout",
       "text": [
        "\n",
        "1.,Al Schacht,WS1,AL,1919,2,2,15.0,8.4,2.4,2.4,0.00,2.40,3.00,0.00,0.00,0.0,0.0,.250,\n",
        "\n",
        "year1920"
       ]
      },
      {
       "output_type": "stream",
       "stream": "stdout",
       "text": [
        "\n",
        "1.,Adrian Lynch,SLA,AL,1920,5,3,22.3,9.3,6.9,3.2,0.40,5.24,6.04,0.00,0.00,0.0,0.0,.297,\n",
        "\n",
        "year1921"
       ]
      },
      {
       "output_type": "stream",
       "stream": "stdout",
       "text": [
        "\n",
        "1.,Al Pierotti,BSN,NL,1921,2,0,1.7,16.2,16.2,5.4,0.00,21.60,21.60,0.00,0.00,0.0,0.0,.375,\n",
        "\n",
        "year1922"
       ]
      },
      {
       "output_type": "stream",
       "stream": "stdout",
       "text": [
        "\n",
        "1.,Al Yeargin,BSN,NL,1922,1,1,7.0,6.4,2.6,1.3,1.29,1.29,3.86,0.00,0.00,0.0,0.0,.167,\n",
        "\n",
        "year1923"
       ]
      },
      {
       "output_type": "stream",
       "stream": "stdout",
       "text": [
        "\n",
        "1.,Al Kellett,PHA,AL,1923,5,0,10.0,9.9,7.2,0.9,0.00,6.30,8.10,0.00,0.00,0.0,0.0,.275,\n",
        "\n",
        "year1924"
       ]
      },
      {
       "output_type": "stream",
       "stream": "stdout",
       "text": [
        "\n",
        "1.,Al Kellett,BOS,AL,1924,1,0,0.0,0.0,0.0,0.0,0.00,0.00,0.00,0.00,0.00,0.0,0.0,.000,\n",
        "\n",
        "year1925"
       ]
      },
      {
       "output_type": "stream",
       "stream": "stdout",
       "text": [
        "\n",
        "1.,Andy Rush,BRO,NL,1925,4,2,9.7,14.9,4.7,3.7,2.79,9.31,13.03,0.00,0.00,0.0,0.0,.333,\n",
        "\n",
        "year1926"
       ]
      },
      {
       "output_type": "stream",
       "stream": "stdout",
       "text": [
        "\n",
        "1.,Al Smith,NY1,NL,1926,1,0,2.0,18.0,9.0,0.0,0.00,9.00,9.00,0.00,0.00,0.0,0.0,.444,\n",
        "\n",
        "year1927"
       ]
      },
      {
       "output_type": "stream",
       "stream": "stdout",
       "text": [
        "\n",
        "1.,Art Johnson,NY1,NL,1927,1,0,3.0,3.0,3.0,0.0,0.00,0.00,3.00,0.00,0.00,0.0,0.0,.100,\n",
        "\n",
        "year1928"
       ]
      },
      {
       "output_type": "stream",
       "stream": "stdout",
       "text": [
        "\n",
        "1.,Al Shealy,NYA,AL,1928,23,12,96.0,11.6,3.9,3.7,0.38,5.06,6.00,0.00,0.00,0.0,0.0,.327,\n",
        "\n",
        "year1929"
       ]
      },
      {
       "output_type": "stream",
       "stream": "stdout",
       "text": [
        "\n",
        "1.,Ad Liska,WS1,AL,1929,24,10,94.3,8.3,4.0,3.1,0.10,4.77,5.06,0.00,0.00,0.0,0.0,.264,\n",
        "\n",
        "year1930"
       ]
      },
      {
       "output_type": "stream",
       "stream": "stdout",
       "text": [
        "\n",
        "1.,Al Eckert,CIN,NL,1930,2,1,5.0,12.6,7.2,1.8,0.00,7.20,10.80,0.00,0.00,0.0,0.0,.318,\n",
        "\n",
        "year1931"
       ]
      },
      {
       "output_type": "stream",
       "stream": "stdout",
       "text": [
        "\n",
        "1.,Al Eckert,CIN,NL,1931,14,1,18.7,12.5,4.3,2.4,1.45,9.16,9.64,0.00,0.00,0.0,0.0,.315,\n",
        "\n",
        "year1932"
       ]
      },
      {
       "output_type": "stream",
       "stream": "stdout",
       "text": [
        "\n",
        "1.,Archie Wise,CHA,AL,1932,2,0,7.3,9.8,6.1,2.5,1.23,4.91,6.14,0.00,0.00,0.0,0.0,.250,\n",
        "\n",
        "year1933"
       ]
      },
      {
       "output_type": "stream",
       "stream": "stdout",
       "text": [
        "\n",
        "1.,Alex Mccoll,WS1,AL,1933,4,1,17.0,6.9,3.7,2.6,0.00,2.65,2.65,0.00,0.00,0.0,0.0,.228,\n",
        "\n",
        "year1934"
       ]
      },
      {
       "output_type": "stream",
       "stream": "stdout",
       "text": [
        "\n",
        "1.,Al Benton,PHA,AL,1934,32,21,155.0,8.4,5.1,3.4,0.41,4.88,5.69,0.00,0.00,0.0,0.0,.262,\n",
        "\n",
        "year1935"
       ]
      },
      {
       "output_type": "stream",
       "stream": "stdout",
       "text": [
        "\n",
        "1.,Al Blanche,BSN,NL,1935,6,0,17.3,7.3,2.6,2.1,0.00,1.56,1.56,0.00,0.00,0.0,0.0,.233,\n",
        "\n",
        "year1936"
       ]
      },
      {
       "output_type": "stream",
       "stream": "stdout",
       "text": [
        "\n",
        "1.,Al Blanche,BSN,NL,1936,11,0,16.0,11.3,4.5,2.3,0.56,6.19,8.44,0.00,0.00,0.0,0.0,.302,\n",
        "\n",
        "year1937"
       ]
      },
      {
       "output_type": "stream",
       "stream": "stdout",
       "text": [
        "\n",
        "1.,Abe White,SLN,NL,1937,5,0,9.3,13.5,2.9,1.9,0.96,6.75,6.75,0.00,0.00,0.0,0.0,.342,\n",
        "\n",
        "year1938"
       ]
      },
      {
       "output_type": "stream",
       "stream": "stdout",
       "text": [
        "\n",
        "1.,Al Baker,BOS,AL,1938,3,0,7.7,15.3,2.3,2.3,2.35,9.39,9.39,0.00,0.00,0.0,0.0,.355,\n",
        "\n",
        "year1939"
       ]
      },
      {
       "output_type": "stream",
       "stream": "stdout",
       "text": [
        "\n",
        "1.,Al Veigel,BSN,NL,1939,2,2,2.7,10.1,16.9,3.4,0.00,6.75,20.25,0.00,0.00,0.0,0.0,.250,\n",
        "\n",
        "year1940"
       ]
      },
      {
       "output_type": "stream",
       "stream": "stdout",
       "text": [
        "\n",
        "1.,Ace Williams,BSN,NL,1940,5,0,9.0,21.0,12.0,5.0,0.00,16.00,17.00,0.00,0.00,0.0,0.0,.412,\n",
        "\n",
        "year1941"
       ]
      },
      {
       "output_type": "stream",
       "stream": "stdout",
       "text": [
        "\n",
        "1.,Ace Adams,NY1,NL,1941,38,0,71.0,10.6,4.4,2.3,0.38,4.82,5.45,0.00,0.00,0.0,0.0,.309,\n",
        "\n",
        "year1942"
       ]
      },
      {
       "output_type": "stream",
       "stream": "stdout",
       "text": [
        "\n",
        "1.,Allie Reynolds,CLE,AL,1942,2,0,5.0,9.0,7.2,3.6,0.00,0.00,1.80,0.00,0.00,0.0,0.0,.278,\n",
        "\n",
        "year1943"
       ]
      },
      {
       "output_type": "stream",
       "stream": "stdout",
       "text": [
        "\n",
        "1.,Al Brazle,SLN,NL,1943,13,9,88.0,7.6,3.0,2.7,0.00,1.53,1.84,0.00,0.00,0.0,0.0,.249,\n",
        "\n",
        "year1944"
       ]
      },
      {
       "output_type": "stream",
       "stream": "stdout",
       "text": [
        "\n",
        "1.,Al Jurisich,SLN,NL,1944,30,14,130.0,7.1,4.5,3.7,0.48,3.39,3.67,0.00,0.00,0.0,0.0,.232,\n",
        "\n",
        "year1945"
       ]
      },
      {
       "output_type": "stream",
       "stream": "stdout",
       "text": [
        "\n",
        "1.,Adrian Zabala,NY1,NL,1945,11,5,43.3,9.6,4.2,2.9,0.42,4.78,5.19,0.00,0.00,0.0,0.0,.293,\n",
        "\n",
        "year1946"
       ]
      },
      {
       "output_type": "stream",
       "stream": "stdout",
       "text": [
        "\n",
        "1.,Ace Williams,BSN,NL,1946,1,0,0.0,0.0,0.0,0.0,0.00,0.00,0.00,0.00,0.00,0.0,0.0,1.000,\n",
        "\n",
        "year1947"
       ]
      },
      {
       "output_type": "stream",
       "stream": "stdout",
       "text": [
        "\n",
        "1.,Al Lyons,PIT,NL,1947,13,0,28.3,11.4,3.8,5.1,1.27,7.31,7.62,0.00,0.00,0.0,0.0,.320,\n",
        "\n",
        "year1948"
       ]
      },
      {
       "output_type": "stream",
       "stream": "stdout",
       "text": [
        "\n",
        "1.,Al Papai,SLN,NL,1948,10,0,16.0,7.9,3.9,4.5,1.69,5.06,5.63,0.00,0.00,0.0,0.0,.224,\n",
        "\n",
        "year1949"
       ]
      },
      {
       "output_type": "stream",
       "stream": "stdout",
       "text": [
        "\n",
        "1.,Adrian Zabala,NY1,NL,1949,15,4,41.0,9.7,2.2,2.9,1.10,5.27,6.15,0.00,0.00,0.0,0.0,.271,\n",
        "\n",
        "year1950"
       ]
      },
      {
       "output_type": "stream",
       "stream": "stdout",
       "text": [
        "\n",
        "1.,Al Aber,CLE,AL,1950,1,1,9.0,5.0,4.0,4.0,0.00,2.00,2.00,0.00,1.56,0.0,1.4,.192,\n",
        "\n",
        "year1951"
       ]
      },
      {
       "output_type": "stream",
       "stream": "stdout",
       "text": [
        "\n",
        "1.,Al Corwin,NY1,NL,1951,15,8,59.0,7.5,3.2,4.6,1.07,3.66,4.12,0.00,1.09,0.0,-1.2,.226,\n",
        "\n",
        "year1952"
       ]
      },
      {
       "output_type": "stream",
       "stream": "stdout",
       "text": [
        "\n",
        "1.,Art Schallock,NYA,AL,1952,2,0,2.0,13.5,9.0,4.5,0.00,9.00,9.00,0.00,-0.40,0.0,-0.9,.429,\n",
        "\n",
        "year1953"
       ]
      },
      {
       "output_type": "stream",
       "stream": "stdout",
       "text": [
        "\n",
        "1.,Al Aber,CLE,AL,1953,6,0,6.0,9.0,13.5,6.0,0.00,7.50,9.00,0.00,-0.13,0.0,-1.6,.286,\n",
        "\n",
        "year1954"
       ]
      },
      {
       "output_type": "stream",
       "stream": "stdout",
       "text": [
        "\n",
        "1.,Al Lary,CHN,NL,1954,1,1,6.0,4.5,10.5,6.0,0.00,3.00,3.00,0.00,1.33,0.0,0.1,.188,\n",
        "\n",
        "year1955"
       ]
      },
      {
       "output_type": "stream",
       "stream": "stdout",
       "text": [
        "\n",
        "1.,Al Grunwald,PIT,NL,1955,3,0,7.7,8.2,8.2,2.3,1.17,4.70,4.70,0.00,0.97,0.0,-1.6,.750,\n",
        "\n",
        "year1956"
       ]
      },
      {
       "output_type": "stream",
       "stream": "stdout",
       "text": [
        "\n",
        "1.,Angelo Lipetri,PHI,NL,1956,6,0,11.0,5.7,2.5,6.5,1.64,3.27,4.09,0.00,1.03,0.0,1.6,.194,\n",
        "\n",
        "year1957"
       ]
      },
      {
       "output_type": "stream",
       "stream": "stdout",
       "text": [
        "\n",
        "1.,Al Cicotte,NYA,AL,1957,20,2,65.3,7.9,4.1,5.0,0.69,3.03,3.44,0.00,1.16,0.0,2.3,.257,\n",
        "\n",
        "year1958"
       ]
      },
      {
       "output_type": "stream",
       "stream": "stdout",
       "text": [
        "\n",
        "1.,Al Schroll,BOS,AL,1958,5,0,10.0,5.4,3.6,6.3,0.90,4.50,4.50,0.00,1.01,0.0,0.9,.185,\n",
        "\n",
        "year1959"
       ]
      },
      {
       "output_type": "stream",
       "stream": "stdout",
       "text": [
        "\n",
        "1.,Al Grunwald,KC1,AL,1959,6,1,11.3,14.3,8.7,7.1,0.79,7.94,11.12,0.00,-0.58,0.0,-0.5,.415,\n",
        "\n",
        "year1960"
       ]
      },
      {
       "output_type": "stream",
       "stream": "stdout",
       "text": [
        "\n",
        "1.,Al Neiger,PHI,NL,1960,6,0,12.7,11.4,2.8,2.1,1.42,5.68,5.68,0.00,0.69,0.0,-2.1,.292,\n",
        "\n",
        "year1961"
       ]
      },
      {
       "output_type": "stream",
       "stream": "stdout",
       "text": [
        "\n",
        "1.,Al Downing,NYA,AL,1961,5,1,9.0,7.0,12.0,12.0,0.00,8.00,8.00,0.00,0.15,0.0,-0.0,.318,\n",
        "\n",
        "year1962"
       ]
      },
      {
       "output_type": "stream",
       "stream": "stdout",
       "text": [
        "\n",
        "1.,Al Downing,NYA,AL,1962,1,0,1.0,0.0,0.0,9.0,0.00,0.00,0.00,0.00,2.00,0.0,0.3,.000,\n",
        "\n",
        "year1963"
       ]
      },
      {
       "output_type": "stream",
       "stream": "stdout",
       "text": [
        "\n",
        "1.,Al Downing,NYA,AL,1963,24,22,175.7,5.8,4.1,8.8,0.36,2.56,2.66,0.00,1.30,0.0,22.0,.239,\n",
        "\n",
        "year1964"
       ]
      },
      {
       "output_type": "stream",
       "stream": "stdout",
       "text": [
        "\n",
        "1.,Alan Koch,DET,AL,1964,3,0,4.0,13.5,6.8,2.3,2.25,6.75,6.75,0.00,0.45,0.0,-1.7,.357,\n",
        "\n",
        "year1965"
       ]
      },
      {
       "output_type": "stream",
       "stream": "stdout",
       "text": [
        "\n",
        "1.,Aurelio Monteagudo,KC1,AL,1965,4,0,7.0,6.4,5.1,6.4,1.29,3.86,5.14,0.00,0.78,0.0,0.1,.200,\n",
        "\n",
        "year1966"
       ]
      },
      {
       "output_type": "stream",
       "stream": "stdout",
       "text": [
        "\n",
        "1.,Al Closter,WS2,AL,1966,1,0,0.3,27.0,54.0,0.0,0.00,0.00,0.00,0.00,2.00,0.0,-1.0,.500,\n",
        "\n",
        "year1967"
       ]
      },
      {
       "output_type": "stream",
       "stream": "stdout",
       "text": [
        "\n",
        "1.,Al Schmelz,NYN,NL,1967,2,0,3.0,12.0,3.0,6.0,3.00,3.00,3.00,0.00,1.18,0.0,-0.6,.375,\n",
        "\n",
        "year1968"
       ]
      },
      {
       "output_type": "stream",
       "stream": "stdout",
       "text": [
        "\n",
        "1.,Al Santorini,ATL,NL,1968,1,1,3.0,12.0,0.0,0.0,3.00,0.00,12.00,0.00,-1.93,0.0,-1.9,.231,\n",
        "\n",
        "year1969"
       ]
      },
      {
       "output_type": "stream",
       "stream": "stdout",
       "text": [
        "\n",
        "1.,Al Fitzmorris,KCA,AL,1969,7,0,10.7,7.6,3.4,2.5,0.84,4.22,4.22,0.00,0.90,0.0,-0.7,.216,\n",
        "\n",
        "year1970"
       ]
      },
      {
       "output_type": "stream",
       "stream": "stdout",
       "text": [
        "\n",
        "1.,Al Fitzmorris,KCA,AL,1970,43,11,117.7,8.6,4.0,3.6,1.07,4.44,4.59,0.00,0.90,0.0,-0.9,.251,\n",
        "\n",
        "year1971"
       ]
      },
      {
       "output_type": "stream",
       "stream": "stdout",
       "text": [
        "\n",
        "1.,Al Closter,NYA,AL,1971,14,1,28.3,10.5,4.1,7.0,1.27,5.08,6.99,0.00,0.15,0.0,-1.2,.309,\n",
        "\n",
        "year1972"
       ]
      },
      {
       "output_type": "stream",
       "stream": "stdout",
       "text": [
        "\n",
        "1.,Al Closter,NYA,AL,1972,2,0,2.3,7.7,15.4,7.7,3.86,11.57,11.57,0.00,-1.36,0.0,-1.6,.200,\n",
        "\n",
        "year1973"
       ]
      },
      {
       "output_type": "stream",
       "stream": "stdout",
       "text": [
        "\n",
        "1.,Adrian Devine,ATL,NL,1973,24,1,32.3,12.5,3.3,4.2,1.67,6.40,6.68,0.00,0.52,0.0,-5.3,.333,\n",
        "\n",
        "year1974"
       ]
      },
      {
       "output_type": "stream",
       "stream": "stdout",
       "text": [
        "\n",
        "1.,Aurelio Lopez,KCA,AL,1974,8,1,16.0,11.8,5.6,2.8,0.00,5.63,6.75,0.00,0.44,0.0,0.4,.344,\n",
        "\n",
        "year1975"
       ]
      },
      {
       "output_type": "stream",
       "stream": "stdout",
       "text": [
        "\n",
        "1.,Adrian Devine,ATL,NL,1975,5,2,16.3,10.5,3.9,4.4,1.10,4.41,4.41,0.00,0.98,0.0,-0.2,.293,\n",
        "\n",
        "year1976"
       ]
      },
      {
       "output_type": "stream",
       "stream": "stdout",
       "text": [
        "\n",
        "1.,Adrian Devine,ATL,NL,1976,48,1,73.0,8.9,3.2,5.9,0.37,3.21,3.70,0.00,1.12,0.0,9.2,.286,\n",
        "\n",
        "year1977"
       ]
      },
      {
       "output_type": "stream",
       "stream": "stdout",
       "text": [
        "\n",
        "1.,Al Holland,PIT,NL,1977,2,0,2.3,15.4,0.0,3.9,0.00,7.71,7.71,0.00,0.29,0.0,0.7,.444,\n",
        "\n",
        "year1978"
       ]
      },
      {
       "output_type": "stream",
       "stream": "stdout",
       "text": [
        "\n",
        "1.,Alan Wirth,OAK,AL,1978,16,14,81.3,8.0,3.8,3.4,0.66,3.43,4.32,0.00,0.92,0.0,-4.0,.256,\n",
        "\n",
        "year1979"
       ]
      },
      {
       "output_type": "stream",
       "stream": "stdout",
       "text": [
        "\n",
        "1.,Al Holland,SFN,NL,1979,3,0,7.0,3.9,6.4,9.0,0.00,0.00,0.00,0.00,2.00,0.0,0.6,.176,\n",
        "\n",
        "year1980"
       ]
      },
      {
       "output_type": "stream",
       "stream": "stdout",
       "text": [
        "\n",
        "1.,Al Holland,SFN,NL,1980,54,0,82.3,7.8,3.7,7.1,0.22,1.75,2.30,0.00,1.41,0.0,16.4,.279,\n",
        "\n",
        "year1981"
       ]
      },
      {
       "output_type": "stream",
       "stream": "stdout",
       "text": [
        "\n",
        "1.,Alejandro Pena,LAN,NL,1981,14,0,25.3,6.4,3.9,5.0,0.71,2.84,2.84,0.00,1.25,0.0,-1.4,.208,\n",
        "\n",
        "year1982"
       ]
      },
      {
       "output_type": "stream",
       "stream": "stdout",
       "text": [
        "\n",
        "1.,Alan Fowlkes,SFN,NL,1982,21,15,85.0,11.8,2.5,5.3,1.27,5.19,5.82,0.00,0.56,0.0,2.4,.334,\n",
        "\n",
        "year1983"
       ]
      },
      {
       "output_type": "stream",
       "stream": "stdout",
       "text": [
        "\n",
        "1.,Al Jones,CHA,AL,1983,2,0,2.3,11.6,7.7,7.7,0.00,3.86,3.86,0.00,1.11,0.0,0.5,.500,\n",
        "\n",
        "year1984"
       ]
      },
      {
       "output_type": "stream",
       "stream": "stdout",
       "text": [
        "\n",
        "1.,Al Jones,CHA,AL,1984,20,0,20.3,10.2,4.9,6.6,1.33,4.43,4.43,0.00,0.99,0.0,1.2,.317,\n",
        "\n",
        "year1985"
       ]
      },
      {
       "output_type": "stream",
       "stream": "stdout",
       "text": [
        "\n",
        "1.,Al Jones,CHA,AL,1985,5,0,6.0,4.5,4.5,3.0,0.00,1.50,3.00,0.00,1.37,0.0,0.4,.188,\n",
        "\n",
        "year1986"
       ]
      },
      {
       "output_type": "stream",
       "stream": "stdout",
       "text": [
        "\n",
        "1.,Alfonso Pulido,NYA,AL,1986,10,3,30.7,11.2,2.6,3.8,2.35,4.70,4.99,0.00,0.94,0.0,-0.2,.286,\n",
        "\n",
        "year1987"
       ]
      },
      {
       "output_type": "stream",
       "stream": "stdout",
       "text": [
        "\n",
        "1.,Adam Peterson,CHA,AL,1987,1,1,4.0,18.0,6.8,2.3,2.25,13.50,13.50,0.00,-0.81,0.0,-1.4,.412,\n",
        "\n",
        "year1988"
       ]
      },
      {
       "output_type": "stream",
       "stream": "stdout",
       "text": [
        "\n",
        "1.,Adam Peterson,CHA,AL,1988,2,2,6.0,9.0,9.0,7.5,0.00,13.50,13.50,0.00,-1.14,0.0,0.3,.300,\n",
        "\n",
        "year1989"
       ]
      },
      {
       "output_type": "stream",
       "stream": "stdout",
       "text": [
        "\n",
        "1.,Adam Peterson,CHA,AL,1989,3,2,5.3,21.9,3.4,5.1,1.69,15.19,15.19,0.00,-1.50,0.0,-0.1,.480,\n",
        "\n",
        "year1990"
       ]
      },
      {
       "output_type": "stream",
       "stream": "stdout",
       "text": [
        "\n",
        "1.,Adam Peterson,CHA,AL,1990,20,11,85.0,9.5,2.8,3.1,1.27,4.55,4.87,0.00,0.86,0.0,-3.2,.271,\n",
        "\n",
        "year1991"
       ]
      },
      {
       "output_type": "stream",
       "stream": "stdout",
       "text": [
        "\n",
        "1.,Al Osuna,HOU,NL,1991,71,0,81.7,6.5,5.1,7.5,0.55,3.42,4.30,0.00,0.91,0.0,2.1,.234,\n",
        "\n",
        "year1992"
       ]
      },
      {
       "output_type": "stream",
       "stream": "stdout",
       "text": [
        "\n",
        "1.,Alan Embree,CLE,AL,1992,4,4,18.0,9.5,4.0,6.0,1.50,7.00,7.00,0.00,0.51,0.0,-0.4,.281,\n",
        "\n",
        "year1993"
       ]
      },
      {
       "output_type": "stream",
       "stream": "stdout",
       "text": [
        "\n",
        "1.,Aaron Sele,BOS,AL,1993,18,18,111.7,8.1,3.9,7.5,0.40,2.74,3.39,0.00,1.31,0.0,22.0,.287,\n",
        "\n",
        "year1994"
       ]
      },
      {
       "output_type": "stream",
       "stream": "stdout",
       "text": [
        "\n",
        "1.,A. J. Sager,SDN,NL,1994,22,3,46.7,12.0,3.1,5.0,0.77,5.98,6.56,0.00,0.53,0.0,1.5,.343,\n",
        "\n",
        "year1995"
       ]
      },
      {
       "output_type": "stream",
       "stream": "stdout",
       "text": [
        "\n",
        "1.,A. J. Sager,COL,NL,1995,10,0,14.7,11.7,4.3,6.1,0.61,7.36,9.82,0.00,0.34,0.0,1.3,.346,\n",
        "\n",
        "year1996"
       ]
      },
      {
       "output_type": "stream",
       "stream": "stdout",
       "text": [
        "\n",
        "1.,Aaron Small,OAK,AL,1996,12,3,28.7,11.6,6.9,5.3,0.94,8.16,8.79,0.00,0.39,0.0,0.3,.337,\n",
        "\n",
        "year1997"
       ]
      },
      {
       "output_type": "stream",
       "stream": "stdout",
       "text": [
        "\n",
        "1.,Aaron Small,OAK,AL,1997,71,0,96.7,10.1,3.7,5.3,0.56,4.28,4.66,0.00,1.08,0.0,12.3,.323,\n",
        "\n",
        "year1998"
       ]
      },
      {
       "output_type": "stream",
       "stream": "stdout",
       "text": [
        "\n",
        "1.,Adam Butler,ATL,NL,1998,8,0,5.0,9.0,10.8,12.6,1.80,10.80,12.60,0.00,-0.90,0.0,-2.0,.308,\n",
        "\n",
        "year1999"
       ]
      },
      {
       "output_type": "stream",
       "stream": "stdout",
       "text": [
        "\n",
        "1.,A.j. Burnett,FLO,NL,1999,7,7,41.3,8.1,5.4,7.2,0.65,3.48,5.01,0.00,0.95,0.0,6.1,.281,\n",
        "\n",
        "year2000"
       ]
      },
      {
       "output_type": "stream",
       "stream": "stdout",
       "text": [
        "\n",
        "1.,A.j. Burnett,FLO,NL,2000,13,13,82.7,8.7,4.8,6.2,0.87,4.79,5.01,0.00,0.95,0.0,11.8,.285,\n",
        "\n",
        "year2001"
       ]
      },
      {
       "output_type": "stream",
       "stream": "stdout",
       "text": [
        "\n",
        "1.,Aaron Myette,TEX,AL,2001,19,15,80.7,10.5,4.1,7.5,1.34,7.14,7.25,0.00,0.59,0.0,8.9,.329,\n",
        "\n",
        "year2002"
       ]
      },
      {
       "output_type": "stream",
       "stream": "stdout",
       "text": [
        "\n",
        "1.,Aaron Cook,COL,NL,2002,9,5,35.7,10.3,3.3,3.5,1.01,4.54,4.54,0.00,1.16,0.0,1.8,.306,\n",
        "\n",
        "year2003"
       ]
      },
      {
       "output_type": "stream",
       "stream": "stdout",
       "text": [
        "\n",
        "1.,Aaron Cook,COL,NL,2003,43,16,124.0,11.6,4.1,3.1,0.58,6.02,6.46,0.00,0.74,0.0,4.6,.328,\n",
        "\n",
        "year2004"
       ]
      },
      {
       "output_type": "stream",
       "stream": "stdout",
       "text": [
        "\n",
        "1.,Aaron Rakers,BAL,AL,2004,3,0,4.3,10.4,2.1,6.2,0.00,4.15,4.15,0.00,1.21,0.0,1.5,.333,\n",
        "\n",
        "year2005"
       ]
      },
      {
       "output_type": "stream",
       "stream": "stdout",
       "text": [
        "\n",
        "1.,Aaron Rakers,BAL,AL,2005,10,0,13.7,7.2,2.0,7.2,1.98,3.29,3.29,0.00,1.32,0.0,0.4,.211,\n",
        "\n",
        "year2006"
       ]
      },
      {
       "output_type": "stream",
       "stream": "stdout",
       "text": [
        "\n",
        "1.,Abe Alvarez,BOS,AL,2006,1,0,3.0,15.0,6.0,6.0,6.00,12.00,12.00,0.00,-0.38,0.0,-1.9,.333,\n",
        "\n",
        "year2007"
       ]
      },
      {
       "output_type": "stream",
       "stream": "stdout",
       "text": [
        "\n",
        "1.,A.j. Murray,TEX,AL,2007,14,2,28.0,8.0,4.8,5.8,1.93,4.50,4.82,0.00,1.00,0.0,-2.0,.229,\n",
        "\n",
        "year2008"
       ]
      },
      {
       "output_type": "stream",
       "stream": "stdout",
       "text": [
        "\n",
        "1.,A.j. Murray,TEX,AL,2008,2,2,7.7,14.1,3.5,5.9,0.00,3.52,4.70,0.00,1.04,0.0,2.5,.400,\n",
        "\n",
        "year2009"
       ]
      },
      {
       "output_type": "stream",
       "stream": "stdout",
       "text": [
        "\n",
        "1.,Aaron Poreda,CHA,AL,2009,10,0,11.0,7.4,6.5,9.8,0.00,2.45,2.45,0.00,1.52,0.0,2.4,.321,\n",
        "\n",
        "year2010"
       ]
      },
      {
       "output_type": "stream",
       "stream": "stdout",
       "text": [
        "\n",
        "1.,Adalberto Mendez,FLO,NL,2010,5,5,24.7,10.2,4.4,4.0,2.55,5.11,5.11,0.00,0.74,0.0,-2.6,.273,\n",
        "\n",
        "year2011"
       ]
      },
      {
       "output_type": "stream",
       "stream": "stdout",
       "text": [
        "\n",
        "1.,Aaron Crow,KCA,AL,2011,57,0,62.0,8.0,4.5,9.4,1.16,2.76,2.90,0.00,1.40,0.0,8.2,.290,\n",
        "\n",
        "year2012"
       ]
      },
      {
       "output_type": "stream",
       "stream": "stdout",
       "text": [
        "\n",
        "1.,A.j. Griffin,OAK,AL,2012,15,15,82.3,8.1,2.1,7.0,1.09,3.06,3.17,0.00,1.25,0.0,8.9,.264,\n",
        "\n",
        "year2013"
       ]
      },
      {
       "output_type": "stream",
       "stream": "stdout",
       "text": [
        "\n",
        "1.,A.j. Ramos,MIA,NL,2013,68,0,80.0,6.5,4.8,9.7,0.45,3.15,3.60,0.00,1.07,0.0,5.1,.266,\n",
        "\n",
        "year2014"
       ]
      },
      {
       "output_type": "stream",
       "stream": "stdout",
       "text": [
        "\n",
        "1.,A.j. Achter,MIN,AL,2014,7,0,11.0,11.5,2.5,4.1,1.64,3.27,5.73,0.00,0.76,0.0,-0.9,.308,\n",
        "\n"
       ]
      }
     ],
     "prompt_number": 1
    }
   ],
   "metadata": {}
  }
 ]
}