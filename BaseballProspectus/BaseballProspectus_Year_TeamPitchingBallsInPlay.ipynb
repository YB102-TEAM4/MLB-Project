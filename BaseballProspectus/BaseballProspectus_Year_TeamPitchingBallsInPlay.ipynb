{
 "metadata": {
  "name": "",
  "signature": "sha256:5da26d2d4818f93b4d7bbae7025fb7a966374a086933bec45c88df361517763a"
 },
 "nbformat": 3,
 "nbformat_minor": 0,
 "worksheets": [
  {
   "cells": [
    {
     "cell_type": "code",
     "collapsed": false,
     "input": [
      "#\u9996\u5148Name\u8981\u6392\u5e8f\n",
      "#\u8981\u6ce8\u610f\u7684\u5730\u65b9\u6709\u56db\u500b directory, range, year, page_limit\n",
      "import string, time, requests, os\n",
      "from bs4 import BeautifulSoup\n",
      "\n",
      "headers={\n",
      "    'User-Agent':'Mozilla/5.0 (Windows NT 6.1; WOW64) AppleWebKit/537.36 (KHTML, like Gecko) Chrome/40.0.2214.93 Safari/537.36'\n",
      "}\n",
      "url='http://www.baseballprospectus.com/sortable/index.php'\n",
      "\n",
      "folder='TeamPitchingBallsInPlay'#\u8cc7\u6599\u593e\u540d\u7a31*********************\n",
      "path='Baseball\\\\'+folder #\u8def\u5f91\u540d\u7a31\n",
      "\n",
      "if os.path.exists(path):\n",
      "    print 'folder exists'\n",
      "else:    \n",
      "    os.mkdir(path)\n",
      "    print 'folder not exists'  \n",
      "\n",
      "for year in range(1871,2015): #2015\u6c92\u7b97\u5230******************\n",
      "    payload={                        \n",
      "            'mystatslist':'LVL,TEAM,LG,YEAR,G,IP,BATTED_BALL_TYPE_KNOWN,FB,GB,LINEDR,POPUP,BABIP,PADE,DP_PERCENT,FB_PERCENT,GB_PERCENT,LINEDR_PERCENT,POPUP_PERCENT',\n",
      "            'category':'team_pitching',\n",
      "            'tablename':'dyna_team_pitching',\n",
      "            'stage':'data',\n",
      "            'year':'%d'%(year),#*********************\n",
      "            'mystatslist':'TEAM,LG,YEAR,G,IP,BATTED_BALL_TYPE_KNOWN,FB,GB,LINEDR,POPUP,BABIP,PADE,DP_PERCENT,FB_PERCENT,GB_PERCENT,LINEDR_PERCENT,POPUP_PERCENT',\n",
      "            'category':'team_pitching',\n",
      "            'tablename':'dyna_team_pitching',\n",
      "            'stage':'data',\n",
      "            'group_LG':'*',\n",
      "            'minimum':'0',\n",
      "            'sort1column':'TEAM',\n",
      "            'sort1order':'ASC',\n",
      "            'page_limit':'All',#*********************\n",
      "            'viewdata':'View Data',\n",
      "        }\n",
      "    res=requests.post(url,data=payload,headers=headers)\n",
      "    soup=BeautifulSoup(res.text.encode('utf-8'))    \n",
      "    trList=soup.select('#TTdata tr')    \n",
      "    fileName= str(year)+'_'+folder+'.csv'    \n",
      "    fid=open(path+'\\\\'+fileName,'w')    \n",
      "    for tr in trList:\n",
      "        for td in tr.select('td'):\n",
      "            fid.write(td.text.encode('utf-8')+',')\n",
      "        fid.write('\\n')\n",
      "    fid.close()    \n",
      "    fod=open(path+'\\\\'+fileName,'r')\n",
      "    print 'year'+str(year)\n",
      "    print fod.readlines()[1]\n",
      "    fod.close()\n",
      "    time.sleep(2)\n"
     ],
     "language": "python",
     "metadata": {},
     "outputs": [
      {
       "output_type": "stream",
       "stream": "stdout",
       "text": [
        "folder not exists\n",
        "year1871"
       ]
      },
      {
       "output_type": "stream",
       "stream": "stdout",
       "text": [
        "\n",
        "1.,MLB,BS1,NA,1871,40,276.0,,,,,,.000,0.00,0.0%,0.0%,0.0%,0.0%,0.0%,\n",
        "\n",
        "year1872"
       ]
      },
      {
       "output_type": "stream",
       "stream": "stdout",
       "text": [
        "\n",
        "1.,MLB,BL1,NA,1872,68,516.0,,,,,,.000,0.00,0.0%,0.0%,0.0%,0.0%,0.0%,\n",
        "\n",
        "year1873"
       ]
      },
      {
       "output_type": "stream",
       "stream": "stdout",
       "text": [
        "\n",
        "1.,MLB,BL1,NA,1873,59,508.7,,,,,,.000,0.00,0.0%,0.0%,0.0%,0.0%,0.0%,\n",
        "\n",
        "year1874"
       ]
      },
      {
       "output_type": "stream",
       "stream": "stdout",
       "text": [
        "\n",
        "1.,MLB,BL1,NA,1874,53,420.0,,,,,,.000,0.00,0.0%,0.0%,0.0%,0.0%,0.0%,\n",
        "\n",
        "year1875"
       ]
      },
      {
       "output_type": "stream",
       "stream": "stdout",
       "text": [
        "\n",
        "1.,MLB,BR2,NA,1875,58,396.0,,,,,,.000,0.00,0.0%,0.0%,0.0%,0.0%,0.0%,\n",
        "\n",
        "year1876"
       ]
      },
      {
       "output_type": "stream",
       "stream": "stdout",
       "text": [
        "\n",
        "1.,MLB,BSN,NL,1876,91,632.0,,,,,,.000,0.00,0.0%,0.0%,0.0%,0.0%,0.0%,\n",
        "\n",
        "year1877"
       ]
      },
      {
       "output_type": "stream",
       "stream": "stdout",
       "text": [
        "\n",
        "1.,MLB,BSN,NL,1877,61,548.0,,,,,,.000,0.00,0.0%,0.0%,0.0%,0.0%,0.0%,\n",
        "\n",
        "year1878"
       ]
      },
      {
       "output_type": "stream",
       "stream": "stdout",
       "text": [
        "\n",
        "1.,MLB,BSN,NL,1878,62,544.0,,,,,,.000,0.00,0.0%,0.0%,0.0%,0.0%,0.0%,\n",
        "\n",
        "year1879"
       ]
      },
      {
       "output_type": "stream",
       "stream": "stdout",
       "text": [
        "\n",
        "1.,MLB,BFN,NL,1879,80,713.0,,,,,,.000,0.00,0.0%,0.0%,0.0%,0.0%,0.0%,\n",
        "\n",
        "year1880"
       ]
      },
      {
       "output_type": "stream",
       "stream": "stdout",
       "text": [
        "\n",
        "1.,MLB,BFN,NL,1880,98,739.0,,,,,,.000,0.00,0.0%,0.0%,0.0%,0.0%,0.0%,\n",
        "\n",
        "year1881"
       ]
      },
      {
       "output_type": "stream",
       "stream": "stdout",
       "text": [
        "\n",
        "1.,MLB,BFN,NL,1881,95,742.3,,,,,,.000,0.00,0.0%,0.0%,0.0%,0.0%,0.0%,\n",
        "\n",
        "year1882"
       ]
      },
      {
       "output_type": "stream",
       "stream": "stdout",
       "text": [
        "\n",
        "1.,MLB,BFN,NL,1882,89,737.0,,,,,,.000,0.00,0.0%,0.0%,0.0%,0.0%,0.0%,\n",
        "\n",
        "year1883"
       ]
      },
      {
       "output_type": "stream",
       "stream": "stdout",
       "text": [
        "\n",
        "1.,MLB,BFN,NL,1883,107,859.3,,,,,,.000,0.00,0.0%,0.0%,0.0%,0.0%,0.0%,\n",
        "\n",
        "year1884"
       ]
      },
      {
       "output_type": "stream",
       "stream": "stdout",
       "text": [
        "\n",
        "1.,MLB,ALT,UA,1884,30,219.7,,,,,,.000,0.00,0.0%,0.0%,0.0%,0.0%,0.0%,\n",
        "\n",
        "year1885"
       ]
      },
      {
       "output_type": "stream",
       "stream": "stdout",
       "text": [
        "\n",
        "1.,MLB,BFN,NL,1885,117,956.0,,,,,,.000,0.00,0.0%,0.0%,0.0%,0.0%,0.0%,\n",
        "\n",
        "year1886"
       ]
      },
      {
       "output_type": "stream",
       "stream": "stdout",
       "text": [
        "\n",
        "1.,MLB,BL2,AA,1886,146,1,206.7,,,,,,.000,0.00,0.0%,0.0%,0.0%,0.0%,0.0%,\n",
        "\n",
        "year1887"
       ]
      },
      {
       "output_type": "stream",
       "stream": "stdout",
       "text": [
        "\n",
        "1.,MLB,BL2,AA,1887,150,1,220.0,,,,,,.000,0.00,0.0%,0.0%,0.0%,0.0%,0.0%,\n",
        "\n",
        "year1888"
       ]
      },
      {
       "output_type": "stream",
       "stream": "stdout",
       "text": [
        "\n",
        "1.,MLB,BL2,AA,1888,146,1,200.3,,,,,,.000,0.00,0.0%,0.0%,0.0%,0.0%,0.0%,\n",
        "\n",
        "year1889"
       ]
      },
      {
       "output_type": "stream",
       "stream": "stdout",
       "text": [
        "\n",
        "1.,MLB,BL2,AA,1889,151,1,192.0,,,,,,.000,0.00,0.0%,0.0%,0.0%,0.0%,0.0%,\n",
        "\n",
        "year1890"
       ]
      },
      {
       "output_type": "stream",
       "stream": "stdout",
       "text": [
        "\n",
        "1.,MLB,BFP,PL,1890,143,1,141.0,,,,,,.000,0.00,0.0%,0.0%,0.0%,0.0%,0.0%,\n",
        "\n",
        "year1891"
       ]
      },
      {
       "output_type": "stream",
       "stream": "stdout",
       "text": [
        "\n",
        "1.,MLB,BL3,AA,1891,160,1,217.0,,,,,,.000,0.00,0.0%,0.0%,0.0%,0.0%,0.0%,\n",
        "\n",
        "year1892"
       ]
      },
      {
       "output_type": "stream",
       "stream": "stdout",
       "text": [
        "\n",
        "1.,MLB,BLN,NL,1892,174,1,298.7,,,,,,.000,0.00,0.0%,0.0%,0.0%,0.0%,0.0%,\n",
        "\n",
        "year1893"
       ]
      },
      {
       "output_type": "stream",
       "stream": "stdout",
       "text": [
        "\n",
        "1.,MLB,BLN,NL,1893,156,1,123.7,,,,,,.000,0.00,0.0%,0.0%,0.0%,0.0%,0.0%,\n",
        "\n",
        "year1894"
       ]
      },
      {
       "output_type": "stream",
       "stream": "stdout",
       "text": [
        "\n",
        "1.,MLB,BLN,NL,1894,165,1,116.3,,,,,,.000,0.00,0.0%,0.0%,0.0%,0.0%,0.0%,\n",
        "\n",
        "year1895"
       ]
      },
      {
       "output_type": "stream",
       "stream": "stdout",
       "text": [
        "\n",
        "1.,MLB,BLN,NL,1895,161,1,134.3,,,,,,.000,0.00,0.0%,0.0%,0.0%,0.0%,0.0%,\n",
        "\n",
        "year1896"
       ]
      },
      {
       "output_type": "stream",
       "stream": "stdout",
       "text": [
        "\n",
        "1.,MLB,BLN,NL,1896,149,1,168.3,,,,,,.000,0.00,0.0%,0.0%,0.0%,0.0%,0.0%,\n",
        "\n",
        "year1897"
       ]
      },
      {
       "output_type": "stream",
       "stream": "stdout",
       "text": [
        "\n",
        "1.,MLB,BLN,NL,1897,156,1,197.7,,,,,,.000,0.00,0.0%,0.0%,0.0%,0.0%,0.0%,\n",
        "\n",
        "year1898"
       ]
      },
      {
       "output_type": "stream",
       "stream": "stdout",
       "text": [
        "\n",
        "1.,MLB,BLN,NL,1898,168,1,323.0,,,,,,.000,0.00,0.0%,0.0%,0.0%,0.0%,0.0%,\n",
        "\n",
        "year1899"
       ]
      },
      {
       "output_type": "stream",
       "stream": "stdout",
       "text": [
        "\n",
        "1.,MLB,BLN,NL,1899,171,1,304.3,,,,,,.000,0.00,0.0%,0.0%,0.0%,0.0%,0.0%,\n",
        "\n",
        "year1900"
       ]
      },
      {
       "output_type": "stream",
       "stream": "stdout",
       "text": [
        "\n",
        "1.,MLB,BRO,NL,1900,181,1,225.7,,,,,,.000,0.00,0.0%,0.0%,0.0%,0.0%,0.0%,\n",
        "\n",
        "year1901"
       ]
      },
      {
       "output_type": "stream",
       "stream": "stdout",
       "text": [
        "\n",
        "1.,MLB,BLA,AL,1901,155,1,158.0,,,,,,.000,0.00,0.0%,0.0%,0.0%,0.0%,0.0%,\n",
        "\n",
        "year1902"
       ]
      },
      {
       "output_type": "stream",
       "stream": "stdout",
       "text": [
        "\n",
        "1.,MLB,BLA,AL,1902,162,1,210.3,,,,,,.000,0.00,0.0%,0.0%,0.0%,0.0%,0.0%,\n",
        "\n",
        "year1903"
       ]
      },
      {
       "output_type": "stream",
       "stream": "stdout",
       "text": [
        "\n",
        "1.,MLB,BOS,AL,1903,159,1,255.0,,,,,,.000,0.00,0.0%,0.0%,0.0%,0.0%,0.0%,\n",
        "\n",
        "year1904"
       ]
      },
      {
       "output_type": "stream",
       "stream": "stdout",
       "text": [
        "\n",
        "1.,MLB,BOS,AL,1904,166,1,406.0,,,,,,.000,0.00,0.0%,0.0%,0.0%,0.0%,0.0%,\n",
        "\n",
        "year1905"
       ]
      },
      {
       "output_type": "stream",
       "stream": "stdout",
       "text": [
        "\n",
        "1.,MLB,BOS,AL,1905,183,1,356.3,,,,,,.000,0.00,0.0%,0.0%,0.0%,0.0%,0.0%,\n",
        "\n",
        "year1906"
       ]
      },
      {
       "output_type": "stream",
       "stream": "stdout",
       "text": [
        "\n",
        "1.,MLB,BOS,AL,1906,190,1,382.0,,,,,,.000,0.00,0.0%,0.0%,0.0%,0.0%,0.0%,\n",
        "\n",
        "year1907"
       ]
      },
      {
       "output_type": "stream",
       "stream": "stdout",
       "text": [
        "\n",
        "1.,MLB,BOS,AL,1907,225,1,414.0,,,,,,.000,0.00,0.0%,0.0%,0.0%,0.0%,0.0%,\n",
        "\n",
        "year1908"
       ]
      },
      {
       "output_type": "stream",
       "stream": "stdout",
       "text": [
        "\n",
        "1.,MLB,BOS,AL,1908,220,1,380.3,,,,,,.000,0.00,0.0%,0.0%,0.0%,0.0%,0.0%,\n",
        "\n",
        "year1909"
       ]
      },
      {
       "output_type": "stream",
       "stream": "stdout",
       "text": [
        "\n",
        "1.,MLB,BOS,AL,1909,247,1,360.0,,,,,,.000,0.00,0.0%,0.0%,0.0%,0.0%,0.0%,\n",
        "\n",
        "year1910"
       ]
      },
      {
       "output_type": "stream",
       "stream": "stdout",
       "text": [
        "\n",
        "1.,MLB,BOS,AL,1910,228,1,428.0,,,,,,.000,0.00,0.0%,0.0%,0.0%,0.0%,0.0%,\n",
        "\n",
        "year1911"
       ]
      },
      {
       "output_type": "stream",
       "stream": "stdout",
       "text": [
        "\n",
        "1.,MLB,BOS,AL,1911,238,1,351.7,,,,,,.000,0.00,0.0%,0.0%,0.0%,0.0%,0.0%,\n",
        "\n",
        "year1912"
       ]
      },
      {
       "output_type": "stream",
       "stream": "stdout",
       "text": [
        "\n",
        "1.,MLB,BOS,AL,1912,213,1,362.0,,,,,,.000,0.00,0.0%,0.0%,0.0%,0.0%,0.0%,\n",
        "\n",
        "year1913"
       ]
      },
      {
       "output_type": "stream",
       "stream": "stdout",
       "text": [
        "\n",
        "1.,MLB,BOS,AL,1913,246,1,358.3,,,,,,.000,0.00,0.0%,0.0%,0.0%,0.0%,0.0%,\n",
        "\n",
        "year1914"
       ]
      },
      {
       "output_type": "stream",
       "stream": "stdout",
       "text": [
        "\n",
        "1.,MLB,BLF,FL,1914,253,1,392.0,,,,,,.000,0.00,0.0%,0.0%,0.0%,0.0%,0.0%,\n",
        "\n",
        "year1915"
       ]
      },
      {
       "output_type": "stream",
       "stream": "stdout",
       "text": [
        "\n",
        "1.,MLB,BLF,FL,1915,246,1,360.3,,,,,,.000,0.00,0.0%,0.0%,0.0%,0.0%,0.0%,\n",
        "\n",
        "year1916"
       ]
      },
      {
       "output_type": "stream",
       "stream": "stdout",
       "text": [
        "\n",
        "1.,MLB,BOS,AL,1916,259,1,410.7,,,,,,.000,0.00,0.0%,0.0%,0.0%,0.0%,0.0%,\n",
        "\n",
        "year1917"
       ]
      },
      {
       "output_type": "stream",
       "stream": "stdout",
       "text": [
        "\n",
        "1.,MLB,BOS,AL,1917,208,1,421.3,,,,,,.000,0.00,0.0%,0.0%,0.0%,0.0%,0.0%,\n",
        "\n",
        "year1918"
       ]
      },
      {
       "output_type": "stream",
       "stream": "stdout",
       "text": [
        "\n",
        "1.,MLB,BOS,AL,1918,154,1,120.0,,,,,,.000,0.00,0.0%,0.0%,0.0%,0.0%,0.0%,\n",
        "\n",
        "year1919"
       ]
      },
      {
       "output_type": "stream",
       "stream": "stdout",
       "text": [
        "\n",
        "1.,MLB,BOS,AL,1919,203,1,221.3,,,,,,.000,0.00,0.0%,0.0%,0.0%,0.0%,0.0%,\n",
        "\n",
        "year1920"
       ]
      },
      {
       "output_type": "stream",
       "stream": "stdout",
       "text": [
        "\n",
        "1.,MLB,BOS,AL,1920,230,1,395.3,,,,,,.000,0.00,0.0%,0.0%,0.0%,0.0%,0.0%,\n",
        "\n",
        "year1921"
       ]
      },
      {
       "output_type": "stream",
       "stream": "stdout",
       "text": [
        "\n",
        "1.,MLB,BOS,AL,1921,236,1,364.3,,,,,,.000,0.00,0.0%,0.0%,0.0%,0.0%,0.0%,\n",
        "\n",
        "year1922"
       ]
      },
      {
       "output_type": "stream",
       "stream": "stdout",
       "text": [
        "\n",
        "1.,MLB,BOS,AL,1922,284,1,373.3,,,,,,.000,0.00,0.0%,0.0%,0.0%,0.0%,0.0%,\n",
        "\n",
        "year1923"
       ]
      },
      {
       "output_type": "stream",
       "stream": "stdout",
       "text": [
        "\n",
        "1.,MLB,BOS,AL,1923,269,1,372.0,,,,,,.000,0.00,0.0%,0.0%,0.0%,0.0%,0.0%,\n",
        "\n",
        "year1924"
       ]
      },
      {
       "output_type": "stream",
       "stream": "stdout",
       "text": [
        "\n",
        "1.,MLB,BOS,AL,1924,301,1,391.3,,,,,,.000,0.00,0.0%,0.0%,0.0%,0.0%,0.0%,\n",
        "\n",
        "year1925"
       ]
      },
      {
       "output_type": "stream",
       "stream": "stdout",
       "text": [
        "\n",
        "1.,MLB,BOS,AL,1925,280,1,326.7,,,,,,.000,0.00,0.0%,0.0%,0.0%,0.0%,0.0%,\n",
        "\n",
        "year1926"
       ]
      },
      {
       "output_type": "stream",
       "stream": "stdout",
       "text": [
        "\n",
        "1.,MLB,BOS,AL,1926,317,1,362.0,,,,,,.000,0.00,0.0%,0.0%,0.0%,0.0%,0.0%,\n",
        "\n",
        "year1927"
       ]
      },
      {
       "output_type": "stream",
       "stream": "stdout",
       "text": [
        "\n",
        "1.,MLB,BOS,AL,1927,288,1,366.3,,,,,,.000,0.00,0.0%,0.0%,0.0%,0.0%,0.0%,\n",
        "\n",
        "year1928"
       ]
      },
      {
       "output_type": "stream",
       "stream": "stdout",
       "text": [
        "\n",
        "1.,MLB,BOS,AL,1928,285,1,352.0,,,,,,.000,0.00,0.0%,0.0%,0.0%,0.0%,0.0%,\n",
        "\n",
        "year1929"
       ]
      },
      {
       "output_type": "stream",
       "stream": "stdout",
       "text": [
        "\n",
        "1.,MLB,BOS,AL,1929,260,1,366.7,,,,,,.000,0.00,0.0%,0.0%,0.0%,0.0%,0.0%,\n",
        "\n",
        "year1930"
       ]
      },
      {
       "output_type": "stream",
       "stream": "stdout",
       "text": [
        "\n",
        "1.,MLB,BOS,AL,1930,246,1,360.3,,,,,,.000,0.00,0.0%,0.0%,0.0%,0.0%,0.0%,\n",
        "\n",
        "year1931"
       ]
      },
      {
       "output_type": "stream",
       "stream": "stdout",
       "text": [
        "\n",
        "1.,MLB,BOS,AL,1931,314,1,366.7,,,,,,.000,0.00,0.0%,0.0%,0.0%,0.0%,0.0%,\n",
        "\n",
        "year1932"
       ]
      },
      {
       "output_type": "stream",
       "stream": "stdout",
       "text": [
        "\n",
        "1.,MLB,BOS,AL,1932,342,1,362.0,,,,,,.000,0.00,0.0%,0.0%,0.0%,0.0%,0.0%,\n",
        "\n",
        "year1933"
       ]
      },
      {
       "output_type": "stream",
       "stream": "stdout",
       "text": [
        "\n",
        "1.,MLB,BOS,AL,1933,295,1,327.7,,,,,,.000,0.00,0.0%,0.0%,0.0%,0.0%,0.0%,\n",
        "\n",
        "year1934"
       ]
      },
      {
       "output_type": "stream",
       "stream": "stdout",
       "text": [
        "\n",
        "1.,MLB,BOS,AL,1934,291,1,361.0,,,,,,.000,0.00,0.0%,0.0%,0.0%,0.0%,0.0%,\n",
        "\n",
        "year1935"
       ]
      },
      {
       "output_type": "stream",
       "stream": "stdout",
       "text": [
        "\n",
        "1.,MLB,BOS,AL,1935,292,1,376.0,,,,,,.000,0.00,0.0%,0.0%,0.0%,0.0%,0.0%,\n",
        "\n",
        "year1936"
       ]
      },
      {
       "output_type": "stream",
       "stream": "stdout",
       "text": [
        "\n",
        "1.,MLB,BOS,AL,1936,298,1,372.3,,,,,,.000,0.00,0.0%,0.0%,0.0%,0.0%,0.0%,\n",
        "\n",
        "year1937"
       ]
      },
      {
       "output_type": "stream",
       "stream": "stdout",
       "text": [
        "\n",
        "1.,MLB,BOS,AL,1937,286,1,366.0,,,,,,.000,0.00,0.0%,0.0%,0.0%,0.0%,0.0%,\n",
        "\n",
        "year1938"
       ]
      },
      {
       "output_type": "stream",
       "stream": "stdout",
       "text": [
        "\n",
        "1.,MLB,BOS,AL,1938,297,1,316.3,,,,,,.000,0.00,0.0%,0.0%,0.0%,0.0%,0.0%,\n",
        "\n",
        "year1939"
       ]
      },
      {
       "output_type": "stream",
       "stream": "stdout",
       "text": [
        "\n",
        "1.,MLB,BOS,AL,1939,339,1,350.7,,,,,,.000,0.00,0.0%,0.0%,0.0%,0.0%,0.0%,\n",
        "\n",
        "year1940"
       ]
      },
      {
       "output_type": "stream",
       "stream": "stdout",
       "text": [
        "\n",
        "1.,MLB,BOS,AL,1940,332,1,379.7,,,,,,.000,0.00,0.0%,0.0%,0.0%,0.0%,0.0%,\n",
        "\n",
        "year1941"
       ]
      },
      {
       "output_type": "stream",
       "stream": "stdout",
       "text": [
        "\n",
        "1.,MLB,BOS,AL,1941,292,1,372.0,,,,,,.000,0.00,0.0%,0.0%,0.0%,0.0%,0.0%,\n",
        "\n",
        "year1942"
       ]
      },
      {
       "output_type": "stream",
       "stream": "stdout",
       "text": [
        "\n",
        "1.,MLB,BOS,AL,1942,260,1,358.7,,,,,,.000,0.00,0.0%,0.0%,0.0%,0.0%,0.0%,\n",
        "\n",
        "year1943"
       ]
      },
      {
       "output_type": "stream",
       "stream": "stdout",
       "text": [
        "\n",
        "1.,MLB,BOS,AL,1943,295,1,426.3,,,,,,.000,0.00,0.0%,0.0%,0.0%,0.0%,0.0%,\n",
        "\n",
        "year1944"
       ]
      },
      {
       "output_type": "stream",
       "stream": "stdout",
       "text": [
        "\n",
        "1.,MLB,BOS,AL,1944,306,1,394.3,,,,,,.000,0.00,0.0%,0.0%,0.0%,0.0%,0.0%,\n",
        "\n",
        "year1945"
       ]
      },
      {
       "output_type": "stream",
       "stream": "stdout",
       "text": [
        "\n",
        "1.,MLB,BOS,AL,1945,292,1,390.7,,,,,,.000,0.00,0.0%,0.0%,0.0%,0.0%,0.0%,\n",
        "\n",
        "year1946"
       ]
      },
      {
       "output_type": "stream",
       "stream": "stdout",
       "text": [
        "\n",
        "1.,MLB,BOS,AL,1946,307,1,396.7,,,,,,.000,0.00,0.0%,0.0%,0.0%,0.0%,0.0%,\n",
        "\n",
        "year1947"
       ]
      },
      {
       "output_type": "stream",
       "stream": "stdout",
       "text": [
        "\n",
        "1.,MLB,BOS,AL,1947,341,1,391.3,,,,,,.000,0.00,0.0%,0.0%,0.0%,0.0%,0.0%,\n",
        "\n",
        "year1948"
       ]
      },
      {
       "output_type": "stream",
       "stream": "stdout",
       "text": [
        "\n",
        "1.,MLB,BOS,AL,1948,296,1,379.3,,,,,,.000,0.00,0.0%,0.0%,0.0%,0.0%,0.0%,\n",
        "\n",
        "year1949"
       ]
      },
      {
       "output_type": "stream",
       "stream": "stdout",
       "text": [
        "\n",
        "1.,MLB,BOS,AL,1949,275,1,377.0,,,,,,.000,0.00,0.0%,0.0%,0.0%,0.0%,0.0%,\n",
        "\n",
        "year1950"
       ]
      },
      {
       "output_type": "stream",
       "stream": "stdout",
       "text": [
        "\n",
        "1.,MLB,BOS,AL,1950,337,1,362.3,2837,1210,1405,109,114,.286,-1.87,13.2%,42.7%,49.5%,3.8%,4.0%,\n",
        "\n",
        "year1951"
       ]
      },
      {
       "output_type": "stream",
       "stream": "stdout",
       "text": [
        "\n",
        "1.,MLB,BOS,AL,1951,364,1,399.0,3400,1510,1724,118,49,.281,-1.47,13.8%,44.4%,50.7%,3.5%,1.4%,\n",
        "\n",
        "year1952"
       ]
      },
      {
       "output_type": "stream",
       "stream": "stdout",
       "text": [
        "\n",
        "1.,MLB,BOS,AL,1952,330,1,372.3,3329,1291,1749,178,111,.269,-0.91,14.9%,38.8%,52.5%,5.3%,3.3%,\n",
        "\n",
        "year1953"
       ]
      },
      {
       "output_type": "stream",
       "stream": "stdout",
       "text": [
        "\n",
        "1.,MLB,BOS,AL,1953,367,1,373.0,3374,1329,1671,172,204,.271,0.31,13.0%,39.4%,49.5%,5.1%,6.0%,\n",
        "\n",
        "year1954"
       ]
      },
      {
       "output_type": "stream",
       "stream": "stdout",
       "text": [
        "\n",
        "1.,MLB,BAL,AL,1954,310,1,373.3,3347,1242,1585,172,349,.265,0.43,11.6%,37.1%,47.4%,5.1%,10.4%,\n",
        "\n",
        "year1955"
       ]
      },
      {
       "output_type": "stream",
       "stream": "stdout",
       "text": [
        "\n",
        "1.,MLB,BAL,AL,1955,391,1,388.7,3469,1634,1655,171,9,.274,-0.14,12.2%,47.1%,47.7%,4.9%,0.3%,\n",
        "\n",
        "year1956"
       ]
      },
      {
       "output_type": "stream",
       "stream": "stdout",
       "text": [
        "\n",
        "1.,MLB,BAL,AL,1956,385,1,360.7,3240,1475,1585,164,16,.282,-0.63,11.7%,45.5%,48.9%,5.1%,0.5%,\n",
        "\n",
        "year1957"
       ]
      },
      {
       "output_type": "stream",
       "stream": "stdout",
       "text": [
        "\n",
        "1.,MLB,BAL,AL,1957,349,1,408.0,3317,1473,1627,179,38,.263,1.12,14.4%,44.4%,49.1%,5.4%,1.1%,\n",
        "\n",
        "year1958"
       ]
      },
      {
       "output_type": "stream",
       "stream": "stdout",
       "text": [
        "\n",
        "1.,MLB,BAL,AL,1958,337,1,369.7,3239,1411,1475,207,151,.267,0.74,14.7%,43.6%,45.5%,6.4%,4.7%,\n",
        "\n",
        "year1959"
       ]
      },
      {
       "output_type": "stream",
       "stream": "stdout",
       "text": [
        "\n",
        "1.,MLB,BAL,AL,1959,335,1,400.3,3493,1246,1827,174,250,.262,1.53,14.8%,35.7%,52.3%,5.0%,7.2%,\n",
        "\n",
        "year1960"
       ]
      },
      {
       "output_type": "stream",
       "stream": "stdout",
       "text": [
        "\n",
        "1.,MLB,BAL,AL,1960,331,1,375.7,3239,1345,1629,173,97,.258,1.06,14.7%,41.5%,50.3%,5.3%,3.0%,\n",
        "\n",
        "year1961"
       ]
      },
      {
       "output_type": "stream",
       "stream": "stdout",
       "text": [
        "\n",
        "1.,MLB,BAL,AL,1961,331,1,471.3,3409,1164,1754,138,357,.250,2.69,14.2%,34.1%,51.5%,4.0%,10.5%,\n",
        "\n",
        "year1962"
       ]
      },
      {
       "output_type": "stream",
       "stream": "stdout",
       "text": [
        "\n",
        "1.,MLB,BAL,AL,1962,415,1,462.3,3422,1532,1689,145,64,.268,0.78,13.9%,44.8%,49.4%,4.2%,1.9%,\n",
        "\n",
        "year1963"
       ]
      },
      {
       "output_type": "stream",
       "stream": "stdout",
       "text": [
        "\n",
        "1.,MLB,BAL,AL,1963,410,1,452.0,3362,1454,1703,179,35,.270,-0.50,13.6%,43.2%,50.7%,5.3%,1.0%,\n",
        "\n",
        "year1964"
       ]
      },
      {
       "output_type": "stream",
       "stream": "stdout",
       "text": [
        "\n",
        "1.,MLB,BAL,AL,1964,401,1,458.7,3332,1430,1662,222,22,.263,0.73,14.6%,42.9%,49.9%,6.7%,0.7%,\n",
        "\n",
        "year1965"
       ]
      },
      {
       "output_type": "stream",
       "stream": "stdout",
       "text": [
        "\n",
        "1.,MLB,BAL,AL,1965,390,1,477.7,3368,1474,1720,176,2,.255,1.22,13.7%,43.8%,51.1%,5.2%,0.1%,\n",
        "\n",
        "year1966"
       ]
      },
      {
       "output_type": "stream",
       "stream": "stdout",
       "text": [
        "\n",
        "1.,MLB,ATL,NL,1966,453,1,469.3,3299,1249,1663,182,214,.277,0.60,12.6%,37.9%,50.4%,5.5%,6.5%,\n",
        "\n",
        "year1967"
       ]
      },
      {
       "output_type": "stream",
       "stream": "stdout",
       "text": [
        "\n",
        "1.,MLB,ATL,NL,1967,438,1,454.0,3240,1215,1678,153,198,.273,1.08,13.9%,37.5%,51.8%,4.7%,6.1%,\n",
        "\n",
        "year1968"
       ]
      },
      {
       "output_type": "stream",
       "stream": "stdout",
       "text": [
        "\n",
        "1.,MLB,ATL,NL,1968,362,1,474.3,3160,1129,1675,122,237,.268,0.95,14.1%,35.7%,53.0%,3.9%,7.5%,\n",
        "\n",
        "year1969"
       ]
      },
      {
       "output_type": "stream",
       "stream": "stdout",
       "text": [
        "\n",
        "1.,MLB,ATL,NL,1969,383,1,445.0,3400,1208,1813,131,251,.262,2.78,10.5%,35.5%,53.3%,3.9%,7.4%,\n",
        "\n",
        "year1970"
       ]
      },
      {
       "output_type": "stream",
       "stream": "stdout",
       "text": [
        "\n",
        "1.,MLB,ATL,NL,1970,366,1,430.7,3312,1167,1867,112,169,.280,0.16,10.8%,35.2%,56.4%,3.4%,5.1%,\n",
        "\n",
        "year1971"
       ]
      },
      {
       "output_type": "stream",
       "stream": "stdout",
       "text": [
        "\n",
        "1.,MLB,ATL,NL,1971,386,1,474.7,3468,1351,1772,173,176,.287,-1.39,14.9%,39.0%,51.1%,5.0%,5.1%,\n",
        "\n",
        "year1972"
       ]
      },
      {
       "output_type": "stream",
       "stream": "stdout",
       "text": [
        "\n",
        "1.,MLB,ATL,NL,1972,375,1,377.0,3389,1317,1666,236,171,.278,-0.58,12.2%,38.9%,49.2%,7.0%,5.0%,\n",
        "\n",
        "year1973"
       ]
      },
      {
       "output_type": "stream",
       "stream": "stdout",
       "text": [
        "\n",
        "1.,MLB,ATL,NL,1973,449,1,462.0,3465,1337,1794,180,159,.278,-1.14,12.0%,38.6%,51.8%,5.2%,4.6%,\n",
        "\n",
        "year1974"
       ]
      },
      {
       "output_type": "stream",
       "stream": "stdout",
       "text": [
        "\n",
        "1.,MLB,ATL,NL,1974,378,1,474.3,3624,1405,1876,181,171,.262,2.03,15.1%,38.8%,51.8%,5.0%,4.7%,\n",
        "\n",
        "year1975"
       ]
      },
      {
       "output_type": "stream",
       "stream": "stdout",
       "text": [
        "\n",
        "1.,MLB,ATL,NL,1975,428,1,430.0,3734,1315,2017,229,178,.292,-1.70,12.1%,35.2%,54.0%,6.1%,4.8%,\n",
        "\n",
        "year1976"
       ]
      },
      {
       "output_type": "stream",
       "stream": "stdout",
       "text": [
        "\n",
        "1.,MLB,ATL,NL,1976,426,1,438.0,3512,1293,1900,195,127,.286,-2.17,12.5%,36.8%,54.1%,5.6%,3.6%,\n",
        "\n",
        "year1977"
       ]
      },
      {
       "output_type": "stream",
       "stream": "stdout",
       "text": [
        "\n",
        "1.,MLB,ATL,NL,1977,489,1,445.3,3422,1345,1763,182,136,.300,-2.74,10.6%,39.3%,51.5%,5.3%,4.0%,\n",
        "\n",
        "year1978"
       ]
      },
      {
       "output_type": "stream",
       "stream": "stdout",
       "text": [
        "\n",
        "1.,MLB,ATL,NL,1978,455,1,440.3,3461,1275,1790,220,181,.276,-0.40,11.5%,36.8%,51.7%,6.4%,5.2%,\n",
        "\n",
        "year1979"
       ]
      },
      {
       "output_type": "stream",
       "stream": "stdout",
       "text": [
        "\n",
        "1.,MLB,ATL,NL,1979,443,1,407.7,3426,1203,1842,210,174,.290,-2.05,13.2%,35.1%,53.8%,6.1%,5.1%,\n",
        "\n",
        "year1980"
       ]
      },
      {
       "output_type": "stream",
       "stream": "stdout",
       "text": [
        "\n",
        "1.,MLB,ATL,NL,1980,450,1,428.0,3473,1218,1982,100,175,.268,2.01,15.6%,35.1%,57.1%,2.9%,5.0%,\n",
        "\n",
        "year1981"
       ]
      },
      {
       "output_type": "stream",
       "stream": "stdout",
       "text": [
        "\n",
        "1.,MLB,ATL,NL,1981,322,968.0,2426,854,1328,136,111,.273,1.05,13.1%,35.2%,54.7%,5.6%,4.6%,\n",
        "\n",
        "year1982"
       ]
      },
      {
       "output_type": "stream",
       "stream": "stdout",
       "text": [
        "\n",
        "1.,MLB,ATL,NL,1982,476,1,463.0,3393,1165,1878,107,243,.286,-0.53,16.4%,34.3%,55.3%,3.2%,7.2%,\n",
        "\n",
        "year1983"
       ]
      },
      {
       "output_type": "stream",
       "stream": "stdout",
       "text": [
        "\n",
        "1.,MLB,ATL,NL,1983,467,1,440.7,3251,1253,1776,131,97,.283,-1.14,15.9%,38.5%,54.6%,4.0%,3.0%,\n",
        "\n",
        "year1984"
       ]
      },
      {
       "output_type": "stream",
       "stream": "stdout",
       "text": [
        "\n",
        "1.,MLB,ATL,NL,1984,440,1,447.0,3329,1330,1903,63,34,.278,0.17,14.6%,40.0%,57.2%,1.9%,1.0%,\n",
        "\n",
        "year1985"
       ]
      },
      {
       "output_type": "stream",
       "stream": "stdout",
       "text": [
        "\n",
        "1.,MLB,ATL,NL,1985,513,1,457.3,3437,1233,2085,108,16,.288,-2.34,16.1%,35.9%,60.7%,3.1%,0.5%,\n",
        "\n",
        "year1986"
       ]
      },
      {
       "output_type": "stream",
       "stream": "stdout",
       "text": [
        "\n",
        "1.,MLB,ATL,NL,1986,470,1,424.7,4144,1239,2358,539,16,.296,-2.05,16.1%,29.9%,56.9%,13.0%,0.4%,\n",
        "\n",
        "year1987"
       ]
      },
      {
       "output_type": "stream",
       "stream": "stdout",
       "text": [
        "\n",
        "1.,MLB,ATL,NL,1987,485,1,427.7,4219,1330,2261,579,57,.294,-2.07,14.6%,31.5%,53.6%,13.7%,1.4%,\n",
        "\n",
        "year1988"
       ]
      },
      {
       "output_type": "stream",
       "stream": "stdout",
       "text": [
        "\n",
        "1.,MLB,ATL,NL,1988,478,1,446.0,4737,1370,2283,891,193,.288,-2.34,12.5%,28.9%,48.2%,18.8%,4.1%,\n",
        "\n",
        "year1989"
       ]
      },
      {
       "output_type": "stream",
       "stream": "stdout",
       "text": [
        "\n",
        "1.,MLB,ATL,NL,1989,501,1,447.7,4512,1196,2158,768,393,.278,-0.77,11.6%,26.5%,47.8%,17.0%,8.7%,\n",
        "\n",
        "year1990"
       ]
      },
      {
       "output_type": "stream",
       "stream": "stdout",
       "text": [
        "\n",
        "1.,MLB,ATL,NL,1990,508,1,429.7,4457,1161,2145,772,379,.302,-3.36,11.0%,26.0%,48.1%,17.3%,8.5%,\n",
        "\n",
        "year1991"
       ]
      },
      {
       "output_type": "stream",
       "stream": "stdout",
       "text": [
        "\n",
        "1.,MLB,ATL,NL,1991,507,1,452.7,4573,1139,2169,841,424,.266,0.70,11.9%,24.9%,47.4%,18.4%,9.3%,\n",
        "\n",
        "year1992"
       ]
      },
      {
       "output_type": "stream",
       "stream": "stdout",
       "text": [
        "\n",
        "1.,MLB,ATL,NL,1992,500,1,460.0,4609,1128,2033,1042,415,.273,0.74,11.3%,24.5%,44.1%,22.6%,9.0%,\n",
        "\n",
        "year1993"
       ]
      },
      {
       "output_type": "stream",
       "stream": "stdout",
       "text": [
        "\n",
        "1.,MLB,ATL,NL,1993,515,1,455.0,4423,976,2143,893,413,.273,1.89,14.3%,22.1%,48.5%,20.2%,9.3%,\n",
        "\n",
        "year1994"
       ]
      },
      {
       "output_type": "stream",
       "stream": "stdout",
       "text": [
        "\n",
        "1.,MLB,ATL,NL,1994,358,1,026.3,3023,613,1520,630,260,.286,1.36,11.3%,20.3%,50.3%,20.8%,8.6%,\n",
        "\n",
        "year1995"
       ]
      },
      {
       "output_type": "stream",
       "stream": "stdout",
       "text": [
        "\n",
        "1.,MLB,ATL,NL,1995,483,1,291.7,3815,823,1948,754,290,.287,1.01,12.3%,21.6%,51.1%,19.8%,7.6%,\n",
        "\n",
        "year1996"
       ]
      },
      {
       "output_type": "stream",
       "stream": "stdout",
       "text": [
        "\n",
        "1.,MLB,ATL,NL,1996,570,1,469.0,4297,961,2173,910,255,.291,0.41,13.9%,22.4%,50.6%,21.2%,5.9%,\n",
        "\n",
        "year1997"
       ]
      },
      {
       "output_type": "stream",
       "stream": "stdout",
       "text": [
        "\n",
        "1.,MLB,ANA,AL,1997,562,1,454.7,4518,1281,1916,946,375,.293,1.07,12.2%,28.4%,42.4%,20.9%,8.3%,\n",
        "\n",
        "year1998"
       ]
      },
      {
       "output_type": "stream",
       "stream": "stdout",
       "text": [
        "\n",
        "1.,MLB,ANA,AL,1998,577,1,444.0,4552,1300,2035,881,336,.300,-0.03,12.3%,28.6%,44.7%,19.4%,7.4%,\n",
        "\n",
        "year1999"
       ]
      },
      {
       "output_type": "stream",
       "stream": "stdout",
       "text": [
        "\n",
        "1.,MLB,ANA,AL,1999,562,1,431.3,4701,1267,2079,971,384,.286,2.33,12.3%,27.0%,44.2%,20.7%,8.2%,\n",
        "\n",
        "year2000"
       ]
      },
      {
       "output_type": "stream",
       "stream": "stdout",
       "text": [
        "\n",
        "1.,MLB,ANA,AL,2000,603,1,448.0,3352,1218,1704,210,221,.282,2.33,14.1%,36.3%,50.8%,6.3%,6.6%,\n",
        "\n",
        "year2001"
       ]
      },
      {
       "output_type": "stream",
       "stream": "stdout",
       "text": [
        "\n",
        "1.,MLB,ANA,AL,2001,546,1,437.7,3222,1108,1676,209,231,.286,0.88,12.5%,34.4%,52.0%,6.5%,7.2%,\n",
        "\n",
        "year2002"
       ]
      },
      {
       "output_type": "stream",
       "stream": "stdout",
       "text": [
        "\n",
        "1.,MLB,ANA,AL,2002,562,1,452.3,3210,1193,1536,213,268,.269,3.18,13.5%,37.2%,47.9%,6.6%,8.3%,\n",
        "\n",
        "year2003"
       ]
      },
      {
       "output_type": "stream",
       "stream": "stdout",
       "text": [
        "\n",
        "1.,MLB,ANA,AL,2003,537,1,431.3,4607,1366,1909,918,417,.283,1.09,11.6%,29.7%,41.4%,19.9%,9.1%,\n",
        "\n",
        "year2004"
       ]
      },
      {
       "output_type": "stream",
       "stream": "stdout",
       "text": [
        "\n",
        "1.,MLB,ANA,AL,2004,505,1,454.3,4535,1413,1954,782,386,.299,-0.34,11.3%,31.2%,43.1%,17.2%,8.5%,\n",
        "\n",
        "year2005"
       ]
      },
      {
       "output_type": "stream",
       "stream": "stdout",
       "text": [
        "\n",
        "1.,MLB,ANA,AL,2005,540,1,464.3,4540,1463,1917,748,414,.288,0.77,12.9%,32.2%,42.2%,16.5%,9.1%,\n",
        "\n",
        "year2006"
       ]
      },
      {
       "output_type": "stream",
       "stream": "stdout",
       "text": [
        "\n",
        "1.,MLB,ANA,AL,2006,542,1,452.7,4460,1433,1940,742,346,.291,1.00,13.6%,32.1%,43.5%,16.6%,7.8%,\n",
        "\n",
        "year2007"
       ]
      },
      {
       "output_type": "stream",
       "stream": "stdout",
       "text": [
        "\n",
        "1.,MLB,ANA,AL,2007,558,1,435.0,4472,1349,1935,836,353,.307,-1.31,13.1%,30.2%,43.3%,18.7%,7.9%,\n",
        "\n",
        "year2008"
       ]
      },
      {
       "output_type": "stream",
       "stream": "stdout",
       "text": [
        "\n",
        "1.,MLB,ANA,AL,2008,545,1,451.3,4532,1311,2048,816,358,.296,0.13,14.0%,28.9%,45.2%,18.0%,7.9%,\n",
        "\n",
        "year2009"
       ]
      },
      {
       "output_type": "stream",
       "stream": "stdout",
       "text": [
        "\n",
        "1.,MLB,ANA,AL,2009,596,1,445.0,4605,1445,1984,787,389,.301,-0.44,14.7%,31.4%,43.1%,17.1%,8.4%,\n",
        "\n",
        "year2010"
       ]
      },
      {
       "output_type": "stream",
       "stream": "stdout",
       "text": [
        "\n",
        "1.,MLB,ANA,AL,2010,572,1,449.3,4509,1411,1982,778,338,.292,0.18,10.9%,31.3%,44.0%,17.3%,7.5%,\n",
        "\n",
        "year2011"
       ]
      },
      {
       "output_type": "stream",
       "stream": "stdout",
       "text": [
        "\n",
        "1.,MLB,ANA,AL,2011,548,1,465.0,4554,1377,2110,726,341,.282,1.47,14.4%,30.2%,46.3%,15.9%,7.5%,\n",
        "\n",
        "year2012"
       ]
      },
      {
       "output_type": "stream",
       "stream": "stdout",
       "text": [
        "\n",
        "1.,MLB,ANA,AL,2012,606,1,433.3,4353,1303,1962,746,342,.277,2.44,13.1%,29.9%,45.1%,17.1%,7.9%,\n",
        "\n",
        "year2013"
       ]
      },
      {
       "output_type": "stream",
       "stream": "stdout",
       "text": [
        "\n",
        "1.,MLB,ANA,AL,2013,658,1,457.7,4518,1124,1961,1072,361,.301,-0.78,11.3%,24.9%,43.4%,23.7%,8.0%,\n",
        "\n",
        "year2014"
       ]
      },
      {
       "output_type": "stream",
       "stream": "stdout",
       "text": [
        "\n",
        "1.,MLB,ANA,AL,2014,705,1,482.7,4269,1057,1862,1009,341,.285,1.64,11.3%,24.8%,43.6%,23.6%,8.0%,\n",
        "\n"
       ]
      }
     ],
     "prompt_number": 1
    }
   ],
   "metadata": {}
  }
 ]
}