{
 "metadata": {
  "name": "",
  "signature": "sha256:2af0466f0749e2a065eaab87c9f79f10a7b7df4296e123314d3f11bf9a046367"
 },
 "nbformat": 3,
 "nbformat_minor": 0,
 "worksheets": [
  {
   "cells": [
    {
     "cell_type": "code",
     "collapsed": false,
     "input": [
      "#\u9996\u5148Name\u8981\u6392\u5e8f\n",
      "#\u8981\u6ce8\u610f\u7684\u5730\u65b9\u6709\u56db\u500b folder, range, year, page_limit\n",
      "import string, time, requests, os\n",
      "from bs4 import BeautifulSoup\n",
      "headers={\n",
      "    'User-Agent':'Mozilla/5.0 (Windows NT 6.1; WOW64) AppleWebKit/537.36 (KHTML, like Gecko) Chrome/40.0.2214.93 Safari/537.36'\n",
      "}\n",
      "url='http://www.baseballprospectus.com/sortable/index.php'\n",
      "\n",
      "folder='BatterSeasonLHP'#\u8cc7\u6599\u593e\u540d\u7a31*********************\n",
      "\n",
      "path='Baseball\\\\'+folder #\u8def\u5f91\u540d\u7a31\n",
      "if os.path.exists(path):\n",
      "    print 'folder exists'\n",
      "else:    \n",
      "    os.mkdir(path)\n",
      "    print 'folder not exists'  \n",
      "    \n",
      "for year in range(1950,2015): #2015\u6c92\u7b97\u5230**************\n",
      "    payload={            \n",
      "            'mystatslist':'NAME,YEAR,PITCHER_THROWS,G,PA,AB,R,H,B1,B2,B3,HR,TB,SO,BB,HBP,SF,SH,RBI,DP,FB_PERCENT,GB_PERCENT,LINEDR_PERCENT,POPUP_PERCENT,ISO,AVG,OBP,SLG,EQA',\n",
      "            'category':'batter_season_pithand',\n",
      "            'tablename':'dyna_batter_season_pithand',\n",
      "            'stage':'data',\n",
      "            'year':'%d'%(year),#*********************\n",
      "            'mystatslist':'NAME,YEAR,PITCHER_THROWS,G,PA,AB,R,H,B1,B2,B3,HR,TB,SO,BB,HBP,SF,SH,RBI,DP,FB_PERCENT,GB_PERCENT,LINEDR_PERCENT,POPUP_PERCENT,ISO,AVG,OBP,SLG,EQA',\n",
      "            'category':'batter_season_pithand',\n",
      "            'tablename':'dyna_batter_season_pithand',\n",
      "            'stage':'data',\n",
      "            'group_PITCHER_THROWS':'L',\n",
      "            'minimum':'0',\n",
      "            'sort1column':'NAME',\n",
      "            'sort1order':'ASC',\n",
      "            'page_limit':'All',#*********************\n",
      "            'tt_team':'*',\n",
      "            'show_ttroster':'1',\n",
      "            'show_ttwatched':'1',\n",
      "            'viewdata':'View Data',\n",
      "        }\n",
      "    res=requests.post(url,data=payload,headers=headers)\n",
      "    soup=BeautifulSoup(res.text.encode('utf-8'))\n",
      "    trList=soup.select('#TTdata tr')\n",
      "    fileName= str(year)+'_'+folder+'.csv'\n",
      "    fid=open(path+'\\\\'+fileName,'w')\n",
      "    for tr in trList:\n",
      "        for td in tr.select('td'):\n",
      "            fid.write(td.text.encode('utf-8')+',')\n",
      "        fid.write('\\n')\n",
      "    fid.close()\n",
      "    fod=open(path+'\\\\'+fileName,'r')\n",
      "    print 'year'+str(year)\n",
      "    print fod.readlines()[1]\n",
      "    fod.close()\n",
      "    time.sleep(2)\n"
     ],
     "language": "python",
     "metadata": {},
     "outputs": [
      {
       "output_type": "stream",
       "stream": "stdout",
       "text": [
        "folder not exists\n",
        "year1950"
       ]
      },
      {
       "output_type": "stream",
       "stream": "stdout",
       "text": [
        "\n",
        "1.,Aaron Robinson,1950,L,30,64,49,8,10,6,3,0,1,16,9,15,0,0,0,6,0,40.0%,43.3%,6.7%,10.0%,.122,.204,.391,.327,.000,\n",
        "\n",
        "year1951"
       ]
      },
      {
       "output_type": "stream",
       "stream": "stdout",
       "text": [
        "\n",
        "1.,Aaron Robinson,1951,L,10,13,10,3,2,1,1,0,0,3,1,3,0,0,0,1,0,57.1%,28.6%,14.3%,0.0%,.100,.200,.385,.300,.000,\n",
        "\n",
        "year1952"
       ]
      },
      {
       "output_type": "stream",
       "stream": "stdout",
       "text": [
        "\n",
        "1.,Al Benton,1952,L,1,1,1,0,0,0,0,0,0,0,1,0,0,0,0,0,0,0.0%,0.0%,0.0%,0.0%,.000,.000,.000,.000,.000,\n",
        "\n",
        "year1953"
       ]
      },
      {
       "output_type": "stream",
       "stream": "stdout",
       "text": [
        "\n",
        "1.,Al Aber,1953,L,4,7,6,2,2,2,0,0,0,2,2,1,0,0,0,1,0,0.0%,100.0%,0.0%,0.0%,.000,.333,.429,.333,.000,\n",
        "\n",
        "year1954"
       ]
      },
      {
       "output_type": "stream",
       "stream": "stdout",
       "text": [
        "\n",
        "1.,Al Aber,1954,L,6,15,15,2,3,3,0,0,0,3,5,0,0,0,0,1,1,0.0%,100.0%,0.0%,0.0%,.000,.200,.200,.200,.000,\n",
        "\n",
        "year1955"
       ]
      },
      {
       "output_type": "stream",
       "stream": "stdout",
       "text": [
        "\n",
        "1.,Al Aber,1955,L,4,4,4,0,0,0,0,0,0,0,4,0,0,0,0,0,0,0.0%,0.0%,0.0%,0.0%,.000,.000,.000,.000,.000,\n",
        "\n",
        "year1956"
       ]
      },
      {
       "output_type": "stream",
       "stream": "stdout",
       "text": [
        "\n",
        "1.,Al Aber,1956,L,5,6,5,0,1,1,0,0,0,1,2,1,0,0,0,0,0,50.0%,50.0%,0.0%,0.0%,.000,.200,.333,.200,.000,\n",
        "\n",
        "year1957"
       ]
      },
      {
       "output_type": "stream",
       "stream": "stdout",
       "text": [
        "\n",
        "1.,Al Cicotte,1957,L,4,6,6,0,1,1,0,0,0,1,2,0,0,0,0,0,0,33.3%,0.0%,0.0%,66.7%,.000,.167,.167,.167,.000,\n",
        "\n",
        "year1958"
       ]
      },
      {
       "output_type": "stream",
       "stream": "stdout",
       "text": [
        "\n",
        "1.,Al Cicotte,1958,L,7,11,11,0,2,2,0,0,0,2,3,0,0,0,0,0,1,50.0%,50.0%,0.0%,0.0%,.000,.182,.182,.182,.000,\n",
        "\n",
        "year1959"
       ]
      },
      {
       "output_type": "stream",
       "stream": "stdout",
       "text": [
        "\n",
        "1.,Al Cicotte,1959,L,1,1,1,0,0,0,0,0,0,0,1,0,0,0,0,0,0,0.0%,0.0%,0.0%,0.0%,.000,.000,.000,.000,.000,\n",
        "\n",
        "year1960"
       ]
      },
      {
       "output_type": "stream",
       "stream": "stdout",
       "text": [
        "\n",
        "1.,Al Heist,1960,L,25,63,56,7,17,11,3,2,1,27,6,7,0,0,0,5,0,42.9%,45.7%,5.7%,5.7%,.179,.304,.381,.482,.000,\n",
        "\n",
        "year1961"
       ]
      },
      {
       "output_type": "stream",
       "stream": "stdout",
       "text": [
        "\n",
        "1.,Al Cicotte,1961,L,4,6,6,0,0,0,0,0,0,0,2,0,0,0,0,0,0,25.0%,25.0%,0.0%,50.0%,.000,.000,.000,.000,.000,\n",
        "\n",
        "year1962"
       ]
      },
      {
       "output_type": "stream",
       "stream": "stdout",
       "text": [
        "\n",
        "1.,Al Heist,1962,L,16,39,36,2,7,7,0,0,0,7,5,2,1,0,0,2,3,26.7%,53.3%,20.0%,0.0%,.000,.194,.256,.194,.000,\n",
        "\n",
        "year1963"
       ]
      },
      {
       "output_type": "stream",
       "stream": "stdout",
       "text": [
        "\n",
        "1.,Aaron Pointer,1963,L,1,5,5,0,1,1,0,0,0,1,1,0,0,0,0,0,0,0.0%,33.3%,33.3%,33.3%,.000,.200,.200,.200,.000,\n",
        "\n",
        "year1964"
       ]
      },
      {
       "output_type": "stream",
       "stream": "stdout",
       "text": [
        "\n",
        "1.,Adolfo Phillips,1964,L,7,13,11,3,2,2,0,0,0,2,3,2,0,0,0,0,0,50.0%,50.0%,0.0%,0.0%,.000,.182,.308,.182,.000,\n",
        "\n",
        "year1965"
       ]
      },
      {
       "output_type": "stream",
       "stream": "stdout",
       "text": [
        "\n",
        "1.,Adolfo Phillips,1965,L,27,75,70,9,15,10,3,0,2,24,27,4,0,0,1,4,0,25.0%,56.3%,15.6%,3.1%,.129,.214,.257,.343,.000,\n",
        "\n",
        "year1966"
       ]
      },
      {
       "output_type": "stream",
       "stream": "stdout",
       "text": [
        "\n",
        "1.,Aaron Pointer,1966,L,10,25,21,3,8,6,1,0,1,12,4,3,1,0,0,5,0,33.3%,44.4%,11.1%,11.1%,.190,.381,.480,.571,.000,\n",
        "\n",
        "year1967"
       ]
      },
      {
       "output_type": "stream",
       "stream": "stdout",
       "text": [
        "\n",
        "1.,Aaron Pointer,1967,L,9,25,20,1,3,2,1,0,0,4,10,5,0,0,0,2,0,14.3%,71.4%,14.3%,0.0%,.050,.150,.320,.200,.000,\n",
        "\n",
        "year1968"
       ]
      },
      {
       "output_type": "stream",
       "stream": "stdout",
       "text": [
        "\n",
        "1.,Adolfo Phillips,1968,L,51,123,107,14,26,14,8,3,1,43,25,15,1,0,0,7,0,31.7%,51.7%,5.0%,11.7%,.159,.243,.341,.402,.000,\n",
        "\n",
        "year1969"
       ]
      },
      {
       "output_type": "stream",
       "stream": "stdout",
       "text": [
        "\n",
        "1.,Adolfo Phillips,1969,L,38,102,89,9,21,16,2,1,2,31,25,12,1,0,0,3,2,37.2%,46.5%,2.3%,14.0%,.112,.236,.333,.348,.000,\n",
        "\n",
        "year1970"
       ]
      },
      {
       "output_type": "stream",
       "stream": "stdout",
       "text": [
        "\n",
        "1.,Adolfo Phillips,1970,L,71,188,158,27,37,26,4,3,4,59,34,27,1,1,1,13,5,36.0%,41.6%,5.6%,16.9%,.139,.234,.348,.373,.000,\n",
        "\n",
        "year1971"
       ]
      },
      {
       "output_type": "stream",
       "stream": "stdout",
       "text": [
        "\n",
        "1.,Adrian Garrett,1971,L,2,3,2,0,0,0,0,0,0,0,2,1,0,0,0,0,0,0.0%,0.0%,0.0%,0.0%,.000,.000,.333,.000,.000,\n",
        "\n",
        "year1972"
       ]
      },
      {
       "output_type": "stream",
       "stream": "stdout",
       "text": [
        "\n",
        "1.,Adolfo Phillips,1972,L,3,3,2,2,0,0,0,0,0,0,0,1,0,0,0,0,0,50.0%,50.0%,0.0%,0.0%,.000,.000,.333,.000,.000,\n",
        "\n",
        "year1973"
       ]
      },
      {
       "output_type": "stream",
       "stream": "stdout",
       "text": [
        "\n",
        "1.,Adrian Devine,1973,L,2,3,3,0,1,1,0,0,0,1,2,0,0,0,0,0,0,0.0%,0.0%,0.0%,0.0%,.000,.333,.333,.333,.000,\n",
        "\n",
        "year1974"
       ]
      },
      {
       "output_type": "stream",
       "stream": "stdout",
       "text": [
        "\n",
        "1.,Adrian Garrett,1974,L,1,1,1,0,0,0,0,0,0,0,1,0,0,0,0,0,0,0.0%,0.0%,0.0%,0.0%,.000,.000,.000,.000,.000,\n",
        "\n",
        "year1975"
       ]
      },
      {
       "output_type": "stream",
       "stream": "stdout",
       "text": [
        "\n",
        "1.,Adrian Devine,1975,L,2,2,2,0,0,0,0,0,0,0,0,0,0,0,0,0,0,0.0%,100.0%,0.0%,0.0%,.000,.000,.000,.000,.000,\n",
        "\n",
        "year1976"
       ]
      },
      {
       "output_type": "stream",
       "stream": "stdout",
       "text": [
        "\n",
        "1.,Adrian Devine,1976,L,6,6,4,0,0,0,0,0,0,0,0,0,0,0,2,0,0,16.7%,83.3%,0.0%,0.0%,.000,.000,.000,.000,.000,\n",
        "\n",
        "year1977"
       ]
      },
      {
       "output_type": "stream",
       "stream": "stdout",
       "text": [
        "\n",
        "1.,Al Bumbry,1977,L,54,156,137,24,37,32,1,2,2,48,25,14,1,2,2,15,1,20.5%,74.7%,2.4%,2.4%,.080,.270,.338,.350,.000,\n",
        "\n",
        "year1978"
       ]
      },
      {
       "output_type": "stream",
       "stream": "stdout",
       "text": [
        "\n",
        "1.,Adrian Devine,1978,L,2,4,4,0,0,0,0,0,0,0,0,0,0,0,0,0,0,50.0%,50.0%,0.0%,0.0%,.000,.000,.000,.000,.000,\n",
        "\n",
        "year1979"
       ]
      },
      {
       "output_type": "stream",
       "stream": "stdout",
       "text": [
        "\n",
        "1.,Adrian Devine,1979,L,2,2,2,0,0,0,0,0,0,0,1,0,0,0,0,0,0,100.0%,0.0%,0.0%,0.0%,.000,.000,.000,.000,.000,\n",
        "\n",
        "year1980"
       ]
      },
      {
       "output_type": "stream",
       "stream": "stdout",
       "text": [
        "\n",
        "1.,Al Bumbry,1980,L,84,235,206,28,56,47,6,1,2,70,28,24,1,1,3,15,4,20.3%,71.1%,6.3%,3.1%,.068,.272,.349,.340,.000,\n",
        "\n",
        "year1981"
       ]
      },
      {
       "output_type": "stream",
       "stream": "stdout",
       "text": [
        "\n",
        "1.,Al Bumbry,1981,L,56,122,98,14,28,23,5,0,0,33,16,22,0,1,1,12,1,32.2%,64.4%,3.4%,0.0%,.051,.286,.413,.337,.000,\n",
        "\n",
        "year1982"
       ]
      },
      {
       "output_type": "stream",
       "stream": "stdout",
       "text": [
        "\n",
        "1.,Al Bumbry,1982,L,59,132,120,15,27,24,1,1,1,33,17,9,0,1,2,11,4,37.0%,58.0%,4.9%,1.2%,.050,.225,.277,.275,.000,\n",
        "\n",
        "year1983"
       ]
      },
      {
       "output_type": "stream",
       "stream": "stdout",
       "text": [
        "\n",
        "1.,Al Bumbry,1983,L,12,15,13,5,2,2,0,0,0,2,1,2,0,0,0,3,0,20.0%,50.0%,20.0%,10.0%,.000,.154,.267,.154,.000,\n",
        "\n",
        "year1984"
       ]
      },
      {
       "output_type": "stream",
       "stream": "stdout",
       "text": [
        "\n",
        "1.,Al Bumbry,1984,L,3,3,3,2,0,0,0,0,0,0,3,0,0,0,0,0,0,0.0%,0.0%,0.0%,0.0%,.000,.000,.000,.000,.000,\n",
        "\n",
        "year1985"
       ]
      },
      {
       "output_type": "stream",
       "stream": "stdout",
       "text": [
        "\n",
        "1.,Al Bumbry,1985,L,8,9,8,2,0,0,0,0,0,0,1,1,0,0,0,0,0,42.9%,57.1%,0.0%,0.0%,.000,.000,.111,.000,.000,\n",
        "\n",
        "year1986"
       ]
      },
      {
       "output_type": "stream",
       "stream": "stdout",
       "text": [
        "\n",
        "1.,Al Cowens,1986,L,5,14,14,1,4,2,2,0,0,6,5,0,0,0,0,1,0,44.4%,22.2%,33.3%,0.0%,.143,.286,.286,.429,.000,\n",
        "\n",
        "year1987"
       ]
      },
      {
       "output_type": "stream",
       "stream": "stdout",
       "text": [
        "\n",
        "1.,Al Newman,1987,L,42,110,94,17,30,17,10,3,0,46,12,14,0,0,2,11,3,30.1%,56.2%,13.7%,0.0%,.170,.319,.407,.489,.000,\n",
        "\n",
        "year1988"
       ]
      },
      {
       "output_type": "stream",
       "stream": "stdout",
       "text": [
        "\n",
        "1.,Al Newman,1988,L,36,79,69,9,12,11,1,0,0,13,9,8,0,0,2,6,1,25.8%,51.6%,14.5%,8.1%,.014,.174,.260,.188,.000,\n",
        "\n",
        "year1989"
       ]
      },
      {
       "output_type": "stream",
       "stream": "stdout",
       "text": [
        "\n",
        "1.,Al Newman,1989,L,73,188,163,16,41,30,11,0,0,52,22,18,1,1,5,17,2,20.4%,48.3%,21.1%,10.2%,.067,.252,.328,.319,.000,\n",
        "\n",
        "year1990"
       ]
      },
      {
       "output_type": "stream",
       "stream": "stdout",
       "text": [
        "\n",
        "1.,Al Newman,1990,L,53,141,123,15,31,25,6,0,0,37,14,15,0,0,3,6,4,18.8%,45.5%,17.9%,17.9%,.049,.252,.333,.301,.000,\n",
        "\n",
        "year1991"
       ]
      },
      {
       "output_type": "stream",
       "stream": "stdout",
       "text": [
        "\n",
        "1.,Adam Peterson,1991,L,2,2,2,0,0,0,0,0,0,0,2,0,0,0,0,0,0,0.0%,0.0%,0.0%,0.0%,.000,.000,.000,.000,.000,\n",
        "\n",
        "year1992"
       ]
      },
      {
       "output_type": "stream",
       "stream": "stdout",
       "text": [
        "\n",
        "1.,Al Martin,1992,L,1,2,2,0,0,0,0,0,0,0,1,0,0,0,0,0,0,0.0%,100.0%,0.0%,0.0%,.000,.000,.000,.000,.000,\n",
        "\n",
        "year1993"
       ]
      },
      {
       "output_type": "stream",
       "stream": "stdout",
       "text": [
        "\n",
        "1.,Al Martin,1993,L,56,103,89,11,17,10,5,1,1,27,27,11,0,1,2,8,1,23.4%,56.3%,7.8%,12.5%,.112,.191,.277,.303,.000,\n",
        "\n",
        "year1994"
       ]
      },
      {
       "output_type": "stream",
       "stream": "stdout",
       "text": [
        "\n",
        "1.,A. J. Sager,1994,L,5,5,5,0,0,0,0,0,0,0,3,0,0,0,0,0,0,0.0%,50.0%,0.0%,50.0%,.000,.000,.000,.000,.000,\n",
        "\n",
        "year1995"
       ]
      },
      {
       "output_type": "stream",
       "stream": "stdout",
       "text": [
        "\n",
        "1.,A. J. Sager,1995,L,1,1,1,0,0,0,0,0,0,0,0,0,0,0,0,0,0,100.0%,0.0%,0.0%,0.0%,.000,.000,.000,.000,.000,\n",
        "\n",
        "year1996"
       ]
      },
      {
       "output_type": "stream",
       "stream": "stdout",
       "text": [
        "\n",
        "1.,Aaron Holbert,1996,L,1,3,3,0,0,0,0,0,0,0,0,0,0,0,0,0,0,33.3%,0.0%,33.3%,33.3%,.000,.000,.000,.000,.000,\n",
        "\n",
        "year1997"
       ]
      },
      {
       "output_type": "stream",
       "stream": "stdout",
       "text": [
        "\n",
        "1.,Aaron Boone,1997,L,5,12,11,2,4,4,0,0,0,4,0,1,0,0,0,0,0,9.1%,45.5%,36.4%,9.1%,.000,.364,.417,.364,.000,\n",
        "\n",
        "year1998"
       ]
      },
      {
       "output_type": "stream",
       "stream": "stdout",
       "text": [
        "\n",
        "1.,A. J. Sager,1998,L,1,1,1,0,0,0,0,0,0,0,0,0,0,0,0,0,0,0.0%,100.0%,0.0%,0.0%,.000,.000,.000,.000,.000,\n",
        "\n",
        "year1999"
       ]
      },
      {
       "output_type": "stream",
       "stream": "stdout",
       "text": [
        "\n",
        "1.,A.j. Burnett,1999,L,2,4,4,0,0,0,0,0,0,0,3,0,0,0,0,0,0,100.0%,0.0%,0.0%,0.0%,.000,.000,.000,.000,.000,\n",
        "\n",
        "year2000"
       ]
      },
      {
       "output_type": "stream",
       "stream": "stdout",
       "text": [
        "\n",
        "1.,A.j. Burnett,2000,L,2,6,5,2,3,2,0,0,1,6,1,0,0,0,1,1,0,0.0%,100.0%,0.0%,0.0%,.600,.600,.600,1.200,.528,\n",
        "\n",
        "year2001"
       ]
      },
      {
       "output_type": "stream",
       "stream": "stdout",
       "text": [
        "\n",
        "1.,A.j. Burnett,2001,L,8,17,14,0,0,0,0,0,0,0,10,0,1,0,2,0,0,16.7%,100.0%,0.0%,0.0%,.000,.000,.067,.000,.052,\n",
        "\n",
        "year2002"
       ]
      },
      {
       "output_type": "stream",
       "stream": "stdout",
       "text": [
        "\n",
        "1.,A.j. Burnett,2002,L,6,14,11,0,0,0,0,0,0,0,8,1,0,0,2,0,1,20.0%,60.0%,0.0%,20.0%,.000,.000,.083,.000,.045,\n",
        "\n",
        "year2003"
       ]
      },
      {
       "output_type": "stream",
       "stream": "stdout",
       "text": [
        "\n",
        "1.,A.j. Burnett,2003,L,1,1,1,0,0,0,0,0,0,0,0,0,0,0,0,0,0,0.0%,100.0%,0.0%,0.0%,.000,.000,.000,.000,-.004,\n",
        "\n",
        "year2004"
       ]
      },
      {
       "output_type": "stream",
       "stream": "stdout",
       "text": [
        "\n",
        "1.,A.j. Burnett,2004,L,7,14,12,2,3,3,0,0,0,3,4,0,0,0,2,1,0,20.0%,70.0%,20.0%,0.0%,.000,.250,.250,.250,.187,\n",
        "\n",
        "year2005"
       ]
      },
      {
       "output_type": "stream",
       "stream": "stdout",
       "text": [
        "\n",
        "1.,A.j. Burnett,2005,L,7,15,11,1,0,0,0,0,0,0,8,0,1,0,3,0,0,16.7%,83.3%,0.0%,16.7%,.000,.000,.083,.000,.086,\n",
        "\n",
        "year2006"
       ]
      },
      {
       "output_type": "stream",
       "stream": "stdout",
       "text": [
        "\n",
        "1.,A.j. Burnett,2006,L,1,3,3,0,0,0,0,0,0,0,1,0,0,0,0,0,0,0.0%,50.0%,0.0%,50.0%,.000,.000,.000,.000,-.006,\n",
        "\n",
        "year2007"
       ]
      },
      {
       "output_type": "stream",
       "stream": "stdout",
       "text": [
        "\n",
        "1.,A.j. Burnett,2007,L,1,2,2,0,0,0,0,0,0,0,0,0,0,0,0,0,0,0.0%,100.0%,0.0%,0.0%,.000,.000,.000,.000,-.005,\n",
        "\n",
        "year2008"
       ]
      },
      {
       "output_type": "stream",
       "stream": "stdout",
       "text": [
        "\n",
        "1.,A.j. Pierzynski,2008,L,67,142,133,11,38,25,7,1,5,62,14,2,3,3,1,20,3,30.1%,46.3%,12.2%,11.4%,.180,.286,.305,.466,.266,\n",
        "\n",
        "year2009"
       ]
      },
      {
       "output_type": "stream",
       "stream": "stdout",
       "text": [
        "\n",
        "1.,A.j. Ellis,2009,L,2,2,2,0,0,0,0,0,0,0,0,0,0,0,0,0,0,50.0%,50.0%,0.0%,0.0%,.000,.000,.000,.000,.006,\n",
        "\n",
        "year2010"
       ]
      },
      {
       "output_type": "stream",
       "stream": "stdout",
       "text": [
        "\n",
        "1.,A.j. Ellis,2010,L,14,26,20,1,5,5,0,0,0,5,5,6,0,0,0,2,2,13.3%,46.7%,40.0%,0.0%,.000,.250,.423,.250,.258,\n",
        "\n",
        "year2011"
       ]
      },
      {
       "output_type": "stream",
       "stream": "stdout",
       "text": [
        "\n",
        "1.,A.j. Ellis,2011,L,14,28,25,5,9,6,1,0,2,16,4,3,0,0,0,3,2,33.3%,38.1%,28.6%,0.0%,.280,.360,.429,.640,.384,\n",
        "\n",
        "year2012"
       ]
      },
      {
       "output_type": "stream",
       "stream": "stdout",
       "text": [
        "\n",
        "1.,A.j. Burnett,2012,L,6,10,10,0,0,0,0,0,0,0,9,0,0,0,0,0,0,0.0%,100.0%,0.0%,0.0%,.000,.000,.000,.000,-.008,\n",
        "\n",
        "year2013"
       ]
      },
      {
       "output_type": "stream",
       "stream": "stdout",
       "text": [
        "\n",
        "1.,A.j. Burnett,2013,L,4,9,9,0,0,0,0,0,0,0,4,0,0,0,0,1,1,0.0%,80.0%,20.0%,0.0%,.000,.000,.000,.000,-.041,\n",
        "\n",
        "year2014"
       ]
      },
      {
       "output_type": "stream",
       "stream": "stdout",
       "text": [
        "\n",
        "1.,A.j. Burnett,2014,L,8,15,14,2,5,4,1,0,0,6,3,1,0,0,0,1,0,9.1%,54.5%,36.4%,0.0%,.071,.357,.400,.429,.310,\n",
        "\n"
       ]
      }
     ],
     "prompt_number": 4
    }
   ],
   "metadata": {}
  }
 ]
}