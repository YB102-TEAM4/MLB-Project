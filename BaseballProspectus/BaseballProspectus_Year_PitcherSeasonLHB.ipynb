{
 "metadata": {
  "name": "",
  "signature": "sha256:a912fa125f02c71b8925234bdfdc4cedbfa87f15d04692717c9add295740a211"
 },
 "nbformat": 3,
 "nbformat_minor": 0,
 "worksheets": [
  {
   "cells": [
    {
     "cell_type": "code",
     "collapsed": false,
     "input": [
      "#\u9996\u5148Name\u8981\u6392\u5e8f\n",
      "#\u8981\u6ce8\u610f\u7684\u5730\u65b9\u6709\u56db\u500b folder, range, year, page_limit\n",
      "import string, time, requests, os\n",
      "from bs4 import BeautifulSoup\n",
      "headers={\n",
      "    'User-Agent':'Mozilla/5.0 (Windows NT 6.1; WOW64) AppleWebKit/537.36 (KHTML, like Gecko) Chrome/40.0.2214.93 Safari/537.36'\n",
      "}\n",
      "url='http://www.baseballprospectus.com/sortable/index.php'\n",
      "\n",
      "folder='PitcherSeasonLHB'#\u8cc7\u6599\u593e\u540d\u7a31*********************\n",
      "\n",
      "path='Baseball\\\\'+folder #\u8def\u5f91\u540d\u7a31\n",
      "if os.path.exists(path):\n",
      "    print 'folder exists'\n",
      "else:    \n",
      "    os.mkdir(path)\n",
      "    print 'folder not exists'  \n",
      "    \n",
      "for year in range(1950,2015): #2015\u6c92\u7b97\u5230**************\n",
      "    payload={\n",
      "            'mystatslist':'NAME,YEAR,BATTER_BATS,G,PA,AB,H,B1,B2,B3,HR,TB,SO,BB,HBP,SF,SH,DP,FB_PERCENT,GB_PERCENT,LINEDR_PERCENT,POPUP_PERCENT,ISO,AVG,OBP,SLG,TAV_AGAINST',\n",
      "            'category':'pitcher_season_bathand',\n",
      "            'tablename':'dyna_pitcher_season_bathand',\n",
      "            'stage':'data',\n",
      "            'year':'%d'%(year),#*********************\n",
      "            'mystatslist':'NAME,YEAR,BATTER_BATS,G,PA,AB,R,H,B1,B2,B3,HR,TB,SO,BB,HBP,SF,SH,RBI,DP,FB_PERCENT,GB_PERCENT,LINEDR_PERCENT,POPUP_PERCENT,ISO,AVG,OBP,SLG,TAV_AGAINST',\n",
      "            'category':'pitcher_season_bathand',\n",
      "            'tablename':'dyna_pitcher_season_bathand',\n",
      "            'stage':'data',\n",
      "            'group_BATTER_BATS':'L',\n",
      "            'minimum':'0',\n",
      "            'sort1column':'NAME',\n",
      "            'sort1order':'ASC',\n",
      "            'page_limit':'All',#*********************\n",
      "            'tt_team':'*',\n",
      "            'show_ttroster':'1',\n",
      "            'show_ttwatched':'1',\n",
      "            'viewdata':'View Data',\n",
      "        }\n",
      "    res=requests.post(url,data=payload,headers=headers)\n",
      "    soup=BeautifulSoup(res.text.encode('utf-8'))\n",
      "    trList=soup.select('#TTdata tr')\n",
      "    fileName= str(year)+'_'+folder+'.csv'\n",
      "    fid=open(path+'\\\\'+fileName,'w')\n",
      "    for tr in trList:\n",
      "        for td in tr.select('td'):\n",
      "            fid.write(td.text.encode('utf-8')+',')\n",
      "        fid.write('\\n')\n",
      "    fid.close()\n",
      "    fod=open(path+'\\\\'+fileName,'r')\n",
      "    print 'year'+str(year)\n",
      "    print fod.readlines()[1]\n",
      "    fod.close()\n",
      "    time.sleep(2)\n"
     ],
     "language": "python",
     "metadata": {},
     "outputs": [
      {
       "output_type": "stream",
       "stream": "stdout",
       "text": [
        "folder not exists\n",
        "year1950"
       ]
      },
      {
       "output_type": "stream",
       "stream": "stdout",
       "text": [
        "\n",
        "1.,Al Aber,1950,L,1,9,5,0,0,0,0,0,0,0,4,0,0,0,0,20.0%,60.0%,20.0%,0.0%,.000,.000,.444,.000,.000,\n",
        "\n",
        "year1951"
       ]
      },
      {
       "output_type": "stream",
       "stream": "stdout",
       "text": [
        "\n",
        "1.,Al Brazle,1951,L,38,121,106,25,22,1,0,2,32,26,12,1,0,2,4,39.0%,54.2%,5.1%,1.7%,.066,.236,.319,.302,.000,\n",
        "\n",
        "year1952"
       ]
      },
      {
       "output_type": "stream",
       "stream": "stdout",
       "text": [
        "\n",
        "1.,Al Benton,1952,L,22,74,62,17,13,4,0,0,21,7,11,0,0,1,1,42.9%,40.5%,11.9%,4.8%,.065,.274,.384,.339,.000,\n",
        "\n",
        "year1953"
       ]
      },
      {
       "output_type": "stream",
       "stream": "stdout",
       "text": [
        "\n",
        "1.,Al Aber,1953,L,22,104,86,18,13,4,0,1,25,17,15,0,0,3,2,29.1%,69.1%,0.0%,1.8%,.081,.209,.327,.291,.000,\n",
        "\n",
        "year1954"
       ]
      },
      {
       "output_type": "stream",
       "stream": "stdout",
       "text": [
        "\n",
        "1.,Al Aber,1954,L,31,144,128,31,22,5,2,2,46,21,11,1,0,4,2,24.7%,60.5%,4.9%,9.9%,.117,.242,.307,.359,.000,\n",
        "\n",
        "year1955"
       ]
      },
      {
       "output_type": "stream",
       "stream": "stdout",
       "text": [
        "\n",
        "1.,Al Aber,1955,L,36,126,111,33,26,4,0,3,46,16,12,0,0,3,2,26.5%,69.1%,4.4%,0.0%,.117,.297,.366,.414,.000,\n",
        "\n",
        "year1956"
       ]
      },
      {
       "output_type": "stream",
       "stream": "stdout",
       "text": [
        "\n",
        "1.,Al Aber,1956,L,33,85,73,17,14,2,0,1,22,8,5,1,2,4,2,36.4%,54.5%,1.8%,7.3%,.068,.233,.284,.301,.000,\n",
        "\n",
        "year1957"
       ]
      },
      {
       "output_type": "stream",
       "stream": "stdout",
       "text": [
        "\n",
        "1.,Al Aber,1957,L,27,70,62,21,15,3,0,3,33,5,6,0,1,1,2,32.5%,65.0%,2.5%,0.0%,.194,.339,.391,.532,.000,\n",
        "\n",
        "year1958"
       ]
      },
      {
       "output_type": "stream",
       "stream": "stdout",
       "text": [
        "\n",
        "1.,Al Cicotte,1958,L,20,125,109,33,27,6,0,0,39,14,15,0,0,1,2,36.9%,53.8%,4.6%,4.6%,.055,.303,.387,.358,.000,\n",
        "\n",
        "year1959"
       ]
      },
      {
       "output_type": "stream",
       "stream": "stdout",
       "text": [
        "\n",
        "1.,Al Cicotte,1959,L,24,72,57,16,10,5,0,1,24,8,12,1,2,0,2,47.5%,37.5%,10.0%,5.0%,.140,.281,.403,.421,.000,\n",
        "\n",
        "year1960"
       ]
      },
      {
       "output_type": "stream",
       "stream": "stdout",
       "text": [
        "\n",
        "1.,Al Neiger,1960,L,5,20,16,6,3,3,0,0,9,0,1,1,2,0,0,41.7%,50.0%,8.3%,0.0%,.188,.375,.400,.563,.000,\n",
        "\n",
        "year1961"
       ]
      },
      {
       "output_type": "stream",
       "stream": "stdout",
       "text": [
        "\n",
        "1.,Al Cicotte,1961,L,26,116,102,35,22,5,0,8,64,14,14,0,0,0,3,18.6%,54.2%,16.9%,10.2%,.284,.343,.422,.627,.000,\n",
        "\n",
        "year1962"
       ]
      },
      {
       "output_type": "stream",
       "stream": "stdout",
       "text": [
        "\n",
        "1.,Al Cicotte,1962,L,4,9,8,3,1,1,0,1,7,1,1,0,0,0,0,25.0%,50.0%,25.0%,0.0%,.500,.375,.444,.875,.000,\n",
        "\n",
        "year1963"
       ]
      },
      {
       "output_type": "stream",
       "stream": "stdout",
       "text": [
        "\n",
        "1.,Al Downing,1963,L,24,165,147,24,20,1,0,3,34,50,15,0,1,2,3,34.5%,61.9%,6.0%,0.0%,.068,.163,.239,.231,.000,\n",
        "\n",
        "year1964"
       ]
      },
      {
       "output_type": "stream",
       "stream": "stdout",
       "text": [
        "\n",
        "1.,Al Downing,1964,L,33,235,207,45,36,5,2,2,60,44,23,0,0,5,3,35.3%,49.3%,10.3%,5.1%,.072,.217,.296,.290,.000,\n",
        "\n",
        "year1965"
       ]
      },
      {
       "output_type": "stream",
       "stream": "stdout",
       "text": [
        "\n",
        "1.,Al Downing,1965,L,32,164,139,28,17,5,2,4,49,40,21,0,2,2,6,43.0%,53.2%,3.8%,0.0%,.151,.201,.302,.353,.000,\n",
        "\n",
        "year1966"
       ]
      },
      {
       "output_type": "stream",
       "stream": "stdout",
       "text": [
        "\n",
        "1.,Al Downing,1966,L,29,160,142,36,26,5,0,5,56,27,16,0,1,1,0,46.3%,46.3%,7.3%,0.0%,.141,.254,.327,.394,.000,\n",
        "\n",
        "year1967"
       ]
      },
      {
       "output_type": "stream",
       "stream": "stdout",
       "text": [
        "\n",
        "1.,Al Downing,1967,L,31,169,146,34,23,5,2,4,55,29,18,5,0,0,1,50.6%,48.2%,1.2%,0.0%,.144,.233,.337,.377,.000,\n",
        "\n",
        "year1968"
       ]
      },
      {
       "output_type": "stream",
       "stream": "stdout",
       "text": [
        "\n",
        "1.,Al Downing,1968,L,14,60,53,8,5,1,0,2,15,11,6,0,0,1,0,31.4%,62.9%,2.9%,2.9%,.132,.151,.237,.283,.000,\n",
        "\n",
        "year1969"
       ]
      },
      {
       "output_type": "stream",
       "stream": "stdout",
       "text": [
        "\n",
        "1.,Al Downing,1969,L,27,109,97,16,8,4,0,4,32,17,9,0,0,3,2,30.4%,62.3%,8.7%,1.4%,.165,.165,.236,.330,.000,\n",
        "\n",
        "year1970"
       ]
      },
      {
       "output_type": "stream",
       "stream": "stdout",
       "text": [
        "\n",
        "1.,Al Downing,1970,L,25,120,99,25,20,2,0,3,36,19,17,1,0,3,0,20.7%,72.4%,1.7%,5.2%,.111,.253,.368,.364,.000,\n",
        "\n",
        "year1971"
       ]
      },
      {
       "output_type": "stream",
       "stream": "stdout",
       "text": [
        "\n",
        "1.,Al Closter,1971,L,13,42,34,9,6,2,0,1,14,7,4,1,1,2,1,45.5%,54.5%,0.0%,0.0%,.147,.265,.350,.412,.000,\n",
        "\n",
        "year1972"
       ]
      },
      {
       "output_type": "stream",
       "stream": "stdout",
       "text": [
        "\n",
        "1.,Al Closter,1972,L,2,3,2,0,0,0,0,0,0,0,1,0,0,0,0,0.0%,100.0%,0.0%,0.0%,.000,.000,.333,.000,.000,\n",
        "\n",
        "year1973"
       ]
      },
      {
       "output_type": "stream",
       "stream": "stdout",
       "text": [
        "\n",
        "1.,Adrian Devine,1973,L,20,60,48,16,12,2,1,1,23,2,9,0,1,2,0,39.4%,54.5%,6.1%,0.0%,.146,.333,.431,.479,.000,\n",
        "\n",
        "year1974"
       ]
      },
      {
       "output_type": "stream",
       "stream": "stdout",
       "text": [
        "\n",
        "1.,Al Downing,1974,L,21,74,67,22,19,2,1,0,26,16,5,1,1,0,1,23.3%,46.7%,13.3%,16.7%,.060,.328,.378,.388,.000,\n",
        "\n",
        "year1975"
       ]
      },
      {
       "output_type": "stream",
       "stream": "stdout",
       "text": [
        "\n",
        "1.,Adrian Devine,1975,L,5,40,37,10,7,1,0,2,17,5,3,0,0,0,2,28.0%,60.0%,4.0%,8.0%,.189,.270,.325,.459,.000,\n",
        "\n",
        "year1976"
       ]
      },
      {
       "output_type": "stream",
       "stream": "stdout",
       "text": [
        "\n",
        "1.,Adrian Devine,1976,L,40,117,104,31,24,5,0,2,42,19,11,0,1,1,0,44.1%,39.0%,8.5%,10.2%,.106,.298,.362,.404,.000,\n",
        "\n",
        "year1977"
       ]
      },
      {
       "output_type": "stream",
       "stream": "stdout",
       "text": [
        "\n",
        "1.,Adrian Devine,1977,L,43,185,160,38,31,2,2,3,53,27,17,0,2,6,5,21.9%,71.4%,4.8%,1.9%,.094,.238,.307,.331,.000,\n",
        "\n",
        "year1978"
       ]
      },
      {
       "output_type": "stream",
       "stream": "stdout",
       "text": [
        "\n",
        "1.,Adrian Devine,1978,L,29,119,104,39,30,5,2,2,54,9,12,0,1,2,3,27.4%,62.9%,8.1%,1.6%,.144,.375,.436,.519,.000,\n",
        "\n",
        "year1979"
       ]
      },
      {
       "output_type": "stream",
       "stream": "stdout",
       "text": [
        "\n",
        "1.,Adrian Devine,1979,L,37,120,103,36,23,8,1,4,58,2,15,0,1,1,6,29.0%,58.0%,13.0%,0.0%,.214,.350,.429,.563,.000,\n",
        "\n",
        "year1980"
       ]
      },
      {
       "output_type": "stream",
       "stream": "stdout",
       "text": [
        "\n",
        "1.,Adrian Devine,1980,L,13,65,56,28,21,3,1,3,42,1,7,1,1,0,2,22.6%,71.0%,6.5%,0.0%,.250,.500,.554,.750,.000,\n",
        "\n",
        "year1981"
       ]
      },
      {
       "output_type": "stream",
       "stream": "stdout",
       "text": [
        "\n",
        "1.,Al Holland,1981,L,40,118,103,24,21,2,1,0,28,19,13,0,0,2,4,45.2%,48.4%,6.5%,0.0%,.039,.233,.319,.272,.000,\n",
        "\n",
        "year1982"
       ]
      },
      {
       "output_type": "stream",
       "stream": "stdout",
       "text": [
        "\n",
        "1.,Al Holland,1982,L,46,147,134,23,17,1,0,5,39,37,12,0,1,0,2,42.7%,50.7%,2.7%,4.0%,.119,.172,.238,.291,.000,\n",
        "\n",
        "year1983"
       ]
      },
      {
       "output_type": "stream",
       "stream": "stdout",
       "text": [
        "\n",
        "1.,Al Holland,1983,L,52,95,90,18,8,5,3,2,35,31,4,0,0,1,0,48.8%,41.9%,2.3%,7.0%,.189,.200,.234,.389,.000,\n",
        "\n",
        "year1984"
       ]
      },
      {
       "output_type": "stream",
       "stream": "stdout",
       "text": [
        "\n",
        "1.,Al Holland,1984,L,53,89,78,18,13,2,1,2,28,26,7,1,1,2,0,62.2%,29.7%,2.7%,5.4%,.128,.231,.299,.359,.000,\n",
        "\n",
        "year1985"
       ]
      },
      {
       "output_type": "stream",
       "stream": "stdout",
       "text": [
        "\n",
        "1.,Al Holland,1985,L,49,108,94,23,14,4,0,5,42,21,8,0,3,3,0,64.3%,30.4%,5.4%,0.0%,.202,.245,.295,.447,.000,\n",
        "\n",
        "year1986"
       ]
      },
      {
       "output_type": "stream",
       "stream": "stdout",
       "text": [
        "\n",
        "1.,Al Holland,1986,L,22,55,50,10,7,0,1,2,18,15,4,0,1,0,0,53.6%,39.3%,7.1%,0.0%,.160,.200,.255,.360,.000,\n",
        "\n",
        "year1987"
       ]
      },
      {
       "output_type": "stream",
       "stream": "stdout",
       "text": [
        "\n",
        "1.,Adam Peterson,1987,L,1,12,9,2,0,1,0,1,6,0,2,0,1,0,1,50.0%,50.0%,0.0%,0.0%,.444,.222,.333,.667,.000,\n",
        "\n",
        "year1988"
       ]
      },
      {
       "output_type": "stream",
       "stream": "stdout",
       "text": [
        "\n",
        "1.,Adam Peterson,1988,L,2,12,10,1,1,0,0,0,1,2,2,0,0,0,0,12.5%,62.5%,12.5%,12.5%,.000,.100,.250,.100,.000,\n",
        "\n",
        "year1989"
       ]
      },
      {
       "output_type": "stream",
       "stream": "stdout",
       "text": [
        "\n",
        "1.,Adam Peterson,1989,L,3,14,12,7,5,1,0,1,11,1,2,0,0,0,0,18.2%,27.3%,45.5%,9.1%,.333,.583,.643,.917,.000,\n",
        "\n",
        "year1990"
       ]
      },
      {
       "output_type": "stream",
       "stream": "stdout",
       "text": [
        "\n",
        "1.,Adam Peterson,1990,L,20,155,147,52,36,7,3,6,83,5,6,1,0,1,3,37.1%,32.9%,23.6%,6.4%,.211,.354,.383,.565,.000,\n",
        "\n",
        "year1991"
       ]
      },
      {
       "output_type": "stream",
       "stream": "stdout",
       "text": [
        "\n",
        "1.,Adam Peterson,1991,L,12,129,115,32,15,6,3,8,68,16,13,0,1,0,2,28.0%,36.0%,25.0%,11.0%,.313,.278,.349,.591,.000,\n",
        "\n",
        "year1992"
       ]
      },
      {
       "output_type": "stream",
       "stream": "stdout",
       "text": [
        "\n",
        "1.,Al Leiter,1992,L,1,1,0,0,0,0,0,0,0,0,1,0,0,0,0,0.0%,0.0%,0.0%,0.0%,.000,.000,1.000,.000,.000,\n",
        "\n",
        "year1993"
       ]
      },
      {
       "output_type": "stream",
       "stream": "stdout",
       "text": [
        "\n",
        "1.,Aaron Sele,1993,L,18,252,216,49,35,12,0,2,67,43,33,0,2,1,7,20.5%,46.0%,27.8%,5.7%,.083,.227,.327,.310,.000,\n",
        "\n",
        "year1994"
       ]
      },
      {
       "output_type": "stream",
       "stream": "stdout",
       "text": [
        "\n",
        "1.,A. J. Sager,1994,L,21,89,74,24,18,4,0,2,34,11,10,0,1,4,2,16.2%,60.3%,20.6%,2.9%,.135,.324,.400,.459,.000,\n",
        "\n",
        "year1995"
       ]
      },
      {
       "output_type": "stream",
       "stream": "stdout",
       "text": [
        "\n",
        "1.,,1995,L,7,12,12,3,2,1,0,0,4,0,0,0,0,0,0,8.3%,58.3%,16.7%,16.7%,.083,.250,.250,.333,.000,\n",
        "\n",
        "year1996"
       ]
      },
      {
       "output_type": "stream",
       "stream": "stdout",
       "text": [
        "\n",
        "1.,A. J. Sager,1996,L,21,178,152,45,37,4,0,4,61,23,24,0,1,1,4,16.0%,56.5%,26.0%,1.5%,.105,.296,.390,.401,.000,\n",
        "\n",
        "year1997"
       ]
      },
      {
       "output_type": "stream",
       "stream": "stdout",
       "text": [
        "\n",
        "1.,A. J. Sager,1997,L,36,166,150,39,28,4,2,5,62,31,12,0,2,2,5,26.0%,48.8%,20.3%,4.9%,.153,.260,.311,.413,.000,\n",
        "\n",
        "year1998"
       ]
      },
      {
       "output_type": "stream",
       "stream": "stdout",
       "text": [
        "\n",
        "1.,A. J. Sager,1998,L,28,134,121,37,28,5,1,3,53,10,10,0,0,3,5,14.9%,62.3%,22.8%,0.0%,.132,.306,.359,.438,.000,\n",
        "\n",
        "year1999"
       ]
      },
      {
       "output_type": "stream",
       "stream": "stdout",
       "text": [
        "\n",
        "1.,,1999,L,12,21,18,2,1,1,0,0,3,3,2,0,1,0,0,25.0%,68.8%,0.0%,6.3%,.056,.111,.190,.167,.000,\n",
        "\n",
        "year2000"
       ]
      },
      {
       "output_type": "stream",
       "stream": "stdout",
       "text": [
        "\n",
        "1.,A.j. Burnett,2000,L,13,182,149,45,31,10,2,2,65,22,30,0,1,2,2,34.1%,51.8%,3.5%,10.6%,.134,.302,.417,.436,.298,\n",
        "\n",
        "year2001"
       ]
      },
      {
       "output_type": "stream",
       "stream": "stdout",
       "text": [
        "\n",
        "1.,A.j. Burnett,2001,L,27,373,324,80,59,15,1,5,112,63,40,3,4,2,5,31.6%,57.2%,5.3%,5.9%,.099,.247,.332,.346,.249,\n",
        "\n",
        "year2002"
       ]
      },
      {
       "output_type": "stream",
       "stream": "stdout",
       "text": [
        "\n",
        "1.,A.j. Burnett,2002,L,31,417,360,87,60,19,3,5,127,101,46,5,2,4,8,33.3%,51.7%,6.7%,8.3%,.111,.242,.334,.353,.246,\n",
        "\n",
        "year2003"
       ]
      },
      {
       "output_type": "stream",
       "stream": "stdout",
       "text": [
        "\n",
        "1.,A.j. Burnett,2003,L,4,55,47,11,6,2,2,1,20,14,8,0,0,0,1,27.3%,51.5%,15.2%,6.1%,.191,.234,.345,.426,.284,\n",
        "\n",
        "year2004"
       ]
      },
      {
       "output_type": "stream",
       "stream": "stdout",
       "text": [
        "\n",
        "1.,A.j. Burnett,2004,L,20,264,243,60,44,11,1,4,85,60,17,3,0,1,5,26.1%,50.5%,16.3%,7.1%,.103,.247,.304,.350,.229,\n",
        "\n",
        "year2005"
       ]
      },
      {
       "output_type": "stream",
       "stream": "stdout",
       "text": [
        "\n",
        "1.,A.j. Burnett,2005,L,32,456,402,91,69,13,3,6,128,107,44,3,3,4,11,20.5%,58.3%,16.6%,4.6%,.092,.226,.305,.318,.232,\n",
        "\n",
        "year2006"
       ]
      },
      {
       "output_type": "stream",
       "stream": "stdout",
       "text": [
        "\n",
        "1.,A.j. Burnett,2006,L,21,313,280,73,51,18,0,4,103,63,27,4,0,2,10,21.5%,53.4%,18.7%,6.4%,.107,.261,.334,.368,.230,\n",
        "\n",
        "year2007"
       ]
      },
      {
       "output_type": "stream",
       "stream": "stdout",
       "text": [
        "\n",
        "1.,,2007,L,15,48,41,14,8,3,1,2,25,3,5,1,1,0,3,17.9%,59.0%,23.1%,0.0%,.268,.341,.417,.610,.330,\n",
        "\n",
        "year2008"
       ]
      },
      {
       "output_type": "stream",
       "stream": "stdout",
       "text": [
        "\n",
        "1.,A.j. Burnett,2008,L,35,546,481,126,77,36,2,11,199,134,51,6,5,3,5,24.5%,49.0%,20.0%,6.5%,.152,.262,.337,.414,.270,\n",
        "\n",
        "year2009"
       ]
      },
      {
       "output_type": "stream",
       "stream": "stdout",
       "text": [
        "\n",
        "1.,A.j. Burnett,2009,L,33,482,419,91,62,16,2,11,144,123,53,5,3,1,11,32.7%,45.0%,19.0%,3.3%,.126,.217,.310,.344,.226,\n",
        "\n",
        "year2010"
       ]
      },
      {
       "output_type": "stream",
       "stream": "stdout",
       "text": [
        "\n",
        "1.,A.j. Burnett,2010,L,33,451,385,110,73,24,2,11,171,73,48,10,4,4,17,28.5%,50.2%,15.7%,5.6%,.158,.286,.376,.444,.277,\n",
        "\n",
        "year2011"
       ]
      },
      {
       "output_type": "stream",
       "stream": "stdout",
       "text": [
        "\n",
        "1.,A.j. Burnett,2011,L,32,440,383,98,56,27,2,13,168,96,45,5,5,2,12,24.1%,54.1%,18.4%,3.4%,.183,.256,.338,.439,.274,\n",
        "\n",
        "year2012"
       ]
      },
      {
       "output_type": "stream",
       "stream": "stdout",
       "text": [
        "\n",
        "1.,A.j. Burnett,2012,L,31,436,391,97,70,14,2,11,148,89,34,6,2,3,6,20.8%,56.7%,16.9%,5.5%,.130,.248,.316,.379,.266,\n",
        "\n",
        "year2013"
       ]
      },
      {
       "output_type": "stream",
       "stream": "stdout",
       "text": [
        "\n",
        "1.,A.j. Burnett,2013,L,30,395,339,89,63,19,3,4,126,89,45,9,1,1,7,15.5%,56.0%,27.0%,1.6%,.109,.263,.363,.372,.274,\n",
        "\n",
        "year2014"
       ]
      },
      {
       "output_type": "stream",
       "stream": "stdout",
       "text": [
        "\n",
        "1.,A.j. Achter,2014,L,6,20,18,7,6,1,0,0,8,1,2,0,0,0,0,23.5%,47.1%,23.5%,5.9%,.056,.389,.450,.444,.354,\n",
        "\n"
       ]
      }
     ],
     "prompt_number": 1
    }
   ],
   "metadata": {}
  }
 ]
}