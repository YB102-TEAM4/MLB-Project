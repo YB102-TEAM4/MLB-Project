{
 "metadata": {
  "name": "",
  "signature": "sha256:99d27e61f4774141cd1afb9bdff26f3b2198ff3dba9ac09b12fd71865ec93702"
 },
 "nbformat": 3,
 "nbformat_minor": 0,
 "worksheets": [
  {
   "cells": [
    {
     "cell_type": "code",
     "collapsed": false,
     "input": [
      "#\u9996\u5148Name\u8981\u6392\u5e8f\n",
      "#\u8981\u6ce8\u610f\u7684\u5730\u65b9\u6709\u56db\u500b range, year, fileName, page_limit\n",
      "import string\n",
      "import time\n",
      "import requests\n",
      "from bs4 import BeautifulSoup\n",
      "headers={\n",
      "    'User-Agent':'Mozilla/5.0 (Windows NT 6.1; WOW64) AppleWebKit/537.36 (KHTML, like Gecko) Chrome/40.0.2214.93 Safari/537.36'\n",
      "}\n",
      "url='http://www.baseballprospectus.com/sortable/index.php'      \n",
      "for year in range(1871,2015): #2015\u6c92\u7b97\u5230**************\n",
      "    payload={            \n",
      "            'mystatslist':'NAME,TEAM,YEAR,PA,AB,OPP_QUAL_AVG,OPP_QUAL_OBP,OPP_QUAL_SLG,OPP_QUAL_TAV,OPP_QUAL_RPA_PLUS',\n",
      "            'category':'batter_team_year',\n",
      "            'tablename':'dyna_batter_team_year',\n",
      "            'stage':'data',\n",
      "            'year':'%d'%(year),#*********************\n",
      "            'mystatslist':'NAME,TEAM,YEAR,PA,AB,OPP_QUAL_AVG,OPP_QUAL_OBP,OPP_QUAL_SLG,OPP_QUAL_TAV,OPP_QUAL_RPA_PLUS',\n",
      "            'category':'batter_team_year',\n",
      "            'tablename':'dyna_batter_team_year',\n",
      "            'stage':'data',\n",
      "            'group_TEAM':'*',\n",
      "            'group_LG':'*',\n",
      "            'group_PRIMARY_POS_LABEL':'*',\n",
      "            'minimum':'0',\n",
      "            'sort1column':'NAME',\n",
      "            'sort1order':'ASC',\n",
      "            'sort2column':'NAME',\n",
      "            'sort2order':'ASC',\n",
      "            'sort3column':'NAME',\n",
      "            'sort3order':'ASC',\n",
      "            'page_limit':'All',#*********************\n",
      "            'tt_team':'*',\n",
      "            'show_ttroster':'1',\n",
      "            'show_ttwatched':'1',\n",
      "            'viewdata':'View Data',\n",
      "            'start_num':'0',\n",
      "        }\n",
      "    res=requests.post(url,data=payload,headers=headers)\n",
      "    soup=BeautifulSoup(res.text.encode('utf-8'))    \n",
      "    trList=soup.select('#TTdata tr')\n",
      "    fileName= str(year)+'_BattersQualityPitchersFaced.csv'#*********************\n",
      "    fid=open('Baseball\\\\'+fileName,'w')    \n",
      "    for tr in trList:\n",
      "        for td in tr.select('td'):\n",
      "            fid.write(td.text.encode('utf-8')+',')\n",
      "        fid.write('\\n')\n",
      "    fid.close()\n",
      "    fod=open('Baseball\\\\'+fileName,'r')\n",
      "    print 'year'+str(year)\n",
      "    print fod.readlines()[1]\n",
      "    fod.close()\n",
      "    time.sleep(2)\n"
     ],
     "language": "python",
     "metadata": {},
     "outputs": [
      {
       "output_type": "stream",
       "stream": "stdout",
       "text": [
        "year1871\n",
        "1.,Al Barker,RC1,1871,5,4,.000,.000,.000,,0,\n",
        "\n",
        "year1872"
       ]
      },
      {
       "output_type": "stream",
       "stream": "stdout",
       "text": [
        "\n",
        "1., O'rourke,BR1,1872,4,4,.000,.000,.000,,0,\n",
        "\n",
        "year1873"
       ]
      },
      {
       "output_type": "stream",
       "stream": "stdout",
       "text": [
        "\n",
        "1., Jones\u00e2\u0094\u0090,BL4,1873,4,4,.000,.000,.000,,0,\n",
        "\n",
        "year1874"
       ]
      },
      {
       "output_type": "stream",
       "stream": "stdout",
       "text": [
        "\n",
        "1., Jones\u00e2\u0094\u0090,BL1,1874,7,7,.000,.000,.000,,0,\n",
        "\n",
        "year1875"
       ]
      },
      {
       "output_type": "stream",
       "stream": "stdout",
       "text": [
        "\n",
        "1.,Adam Rocap,PH1,1875,70,69,.000,.000,.000,,0,\n",
        "\n",
        "year1876"
       ]
      },
      {
       "output_type": "stream",
       "stream": "stdout",
       "text": [
        "\n",
        "1.,Al Nichols,NY3,1876,214,212,.000,.000,.000,,0,\n",
        "\n",
        "year1877"
       ]
      },
      {
       "output_type": "stream",
       "stream": "stdout",
       "text": [
        "\n",
        "1.,Al Nichols,LS1,1877,19,19,.000,.000,.000,,0,\n",
        "\n",
        "year1878"
       ]
      },
      {
       "output_type": "stream",
       "stream": "stdout",
       "text": [
        "\n",
        "1.,Abner Dalrymple,ML2,1878,277,271,.000,.000,.000,,0,\n",
        "\n",
        "year1879"
       ]
      },
      {
       "output_type": "stream",
       "stream": "stdout",
       "text": [
        "\n",
        "1.,Aaron Clapp,TRN,1879,152,146,.000,.000,.000,,0,\n",
        "\n",
        "year1880"
       ]
      },
      {
       "output_type": "stream",
       "stream": "stdout",
       "text": [
        "\n",
        "1.,Abner Dalrymple,CHN,1880,385,382,.000,.000,.000,,0,\n",
        "\n",
        "year1881"
       ]
      },
      {
       "output_type": "stream",
       "stream": "stdout",
       "text": [
        "\n",
        "1.,Abner Dalrymple,CHN,1881,377,362,.000,.000,.000,,0,\n",
        "\n",
        "year1882"
       ]
      },
      {
       "output_type": "stream",
       "stream": "stdout",
       "text": [
        "\n",
        "1.,Abner Dalrymple,CHN,1882,411,397,.000,.000,.000,,0,\n",
        "\n",
        "year1883"
       ]
      },
      {
       "output_type": "stream",
       "stream": "stdout",
       "text": [
        "\n",
        "1.,Abe Wolstenholme,PHI,1883,11,11,.000,.000,.000,,0,\n",
        "\n",
        "year1884"
       ]
      },
      {
       "output_type": "stream",
       "stream": "stdout",
       "text": [
        "\n",
        "1., Franklin\u00e2\u0094\u0090,WSU,1884,3,3,.000,.000,.000,,0,\n",
        "\n",
        "year1885"
       ]
      },
      {
       "output_type": "stream",
       "stream": "stdout",
       "text": [
        "\n",
        "1., Jones\u00e2\u0094\u0090,NY4,1885,4,4,.000,.000,.000,,0,\n",
        "\n",
        "year1886"
       ]
      },
      {
       "output_type": "stream",
       "stream": "stdout",
       "text": [
        "\n",
        "1., Joyce\u00e2\u0094\u0090,WS8,1886,0,0,.000,.000,.000,,0,\n",
        "\n",
        "year1887"
       ]
      },
      {
       "output_type": "stream",
       "stream": "stdout",
       "text": [
        "\n",
        "1.,Abner Dalrymple,PIT,1887,409,358,.000,.000,.000,,0,\n",
        "\n",
        "year1888"
       ]
      },
      {
       "output_type": "stream",
       "stream": "stdout",
       "text": [
        "\n",
        "1.,Abner Dalrymple,PIT,1888,235,227,.000,.000,.000,,0,\n",
        "\n",
        "year1889"
       ]
      },
      {
       "output_type": "stream",
       "stream": "stdout",
       "text": [
        "\n",
        "1.,Ad Gumbert,CHN,1889,165,153,.000,.000,.000,,0,\n",
        "\n",
        "year1890"
       ]
      },
      {
       "output_type": "stream",
       "stream": "stdout",
       "text": [
        "\n",
        "1.,Ad Gumbert,BSP,1890,165,145,.000,.000,.000,,0,\n",
        "\n",
        "year1891"
       ]
      },
      {
       "output_type": "stream",
       "stream": "stdout",
       "text": [
        "\n",
        "1.,Abner Dalrymple,ML3,1891,142,135,.000,.000,.000,,0,\n",
        "\n",
        "year1892"
       ]
      },
      {
       "output_type": "stream",
       "stream": "stdout",
       "text": [
        "\n",
        "1., Collins\u00e2\u0094\u0090,SLN,1892,2,2,.000,.000,.000,,0,\n",
        "\n",
        "year1893"
       ]
      },
      {
       "output_type": "stream",
       "stream": "stdout",
       "text": [
        "\n",
        "1., Kinsler\u00e2\u0094\u0090,NY1,1893,4,3,.000,.000,.000,,0,\n",
        "\n",
        "year1894"
       ]
      },
      {
       "output_type": "stream",
       "stream": "stdout",
       "text": [
        "\n",
        "1.,Ad Gumbert,PIT,1894,123,114,.000,.000,.000,,0,\n",
        "\n",
        "year1895"
       ]
      },
      {
       "output_type": "stream",
       "stream": "stdout",
       "text": [
        "\n",
        "1.,Ace Stewart,CHN,1895,408,365,.000,.000,.000,,0,\n",
        "\n",
        "year1896"
       ]
      },
      {
       "output_type": "stream",
       "stream": "stdout",
       "text": [
        "\n",
        "1.,Abbie Johnson,LS3,1896,93,87,.000,.000,.000,,0,\n",
        "\n",
        "year1897"
       ]
      },
      {
       "output_type": "stream",
       "stream": "stdout",
       "text": [
        "\n",
        "1.,Abbie Johnson,LS3,1897,180,165,.000,.000,.000,,0,\n",
        "\n",
        "year1898"
       ]
      },
      {
       "output_type": "stream",
       "stream": "stdout",
       "text": [
        "\n",
        "1.,Al Maul,BLN,1898,112,93,.000,.000,.000,,0,\n",
        "\n",
        "year1899"
       ]
      },
      {
       "output_type": "stream",
       "stream": "stdout",
       "text": [
        "\n",
        "1.,Al Maul,BRO,1899,12,11,.000,.000,.000,,0,\n",
        "\n",
        "year1900"
       ]
      },
      {
       "output_type": "stream",
       "stream": "stdout",
       "text": [
        "\n",
        "1.,Al Maul,PHI,1900,17,15,.000,.000,.000,,0,\n",
        "\n",
        "year1901"
       ]
      },
      {
       "output_type": "stream",
       "stream": "stdout",
       "text": [
        "\n",
        "1.,Al Maul,NY1,1901,8,8,.000,.000,.000,,0,\n",
        "\n",
        "year1902"
       ]
      },
      {
       "output_type": "stream",
       "stream": "stdout",
       "text": [
        "\n",
        "1.,Addie Joss,CLE,1902,115,103,.000,.000,.000,,0,\n",
        "\n",
        "year1903"
       ]
      },
      {
       "output_type": "stream",
       "stream": "stdout",
       "text": [
        "\n",
        "1.,Addie Joss,CLE,1903,116,114,.000,.000,.000,,0,\n",
        "\n",
        "year1904"
       ]
      },
      {
       "output_type": "stream",
       "stream": "stdout",
       "text": [
        "\n",
        "1.,Addie Joss,CLE,1904,80,76,.000,.000,.000,,0,\n",
        "\n",
        "year1905"
       ]
      },
      {
       "output_type": "stream",
       "stream": "stdout",
       "text": [
        "\n",
        "1.,Ad Yale,BRO,1905,14,13,.000,.000,.000,,0,\n",
        "\n",
        "year1906"
       ]
      },
      {
       "output_type": "stream",
       "stream": "stdout",
       "text": [
        "\n",
        "1.,Addie Joss,CLE,1906,118,100,.000,.000,.000,,0,\n",
        "\n",
        "year1907"
       ]
      },
      {
       "output_type": "stream",
       "stream": "stdout",
       "text": [
        "\n",
        "1.,Addie Joss,CLE,1907,127,114,.000,.000,.000,,0,\n",
        "\n",
        "year1908"
       ]
      },
      {
       "output_type": "stream",
       "stream": "stdout",
       "text": [
        "\n",
        "1.,Abe Kruger,BRO,1908,2,2,.000,.000,.000,,0,\n",
        "\n",
        "year1909"
       ]
      },
      {
       "output_type": "stream",
       "stream": "stdout",
       "text": [
        "\n",
        "1.,Addie Joss,CLE,1909,86,80,.000,.000,.000,,0,\n",
        "\n",
        "year1910"
       ]
      },
      {
       "output_type": "stream",
       "stream": "stdout",
       "text": [
        "\n",
        "1.,Ad Brennan,PHI,1910,28,25,.000,.000,.000,,0,\n",
        "\n",
        "year1911"
       ]
      },
      {
       "output_type": "stream",
       "stream": "stdout",
       "text": [
        "\n",
        "1.,Ad Brennan,PHI,1911,10,9,.000,.000,.000,,0,\n",
        "\n",
        "year1912"
       ]
      },
      {
       "output_type": "stream",
       "stream": "stdout",
       "text": [
        "\n",
        "1.,Ad Brennan,PHI,1912,66,59,.000,.000,.000,,0,\n",
        "\n",
        "year1913"
       ]
      },
      {
       "output_type": "stream",
       "stream": "stdout",
       "text": [
        "\n",
        "1.,Ad Brennan,PHI,1913,71,67,.000,.000,.000,,0,\n",
        "\n",
        "year1914"
       ]
      },
      {
       "output_type": "stream",
       "stream": "stdout",
       "text": [
        "\n",
        "1.,Abe Bowman,CLE,1914,21,21,.000,.000,.000,,0,\n",
        "\n",
        "year1915"
       ]
      },
      {
       "output_type": "stream",
       "stream": "stdout",
       "text": [
        "\n",
        "1.,Abe Bowman,CLE,1915,0,0,.000,.000,.000,,0,\n",
        "\n",
        "year1916"
       ]
      },
      {
       "output_type": "stream",
       "stream": "stdout",
       "text": [
        "\n",
        "1.,Al Bergman,CLE,1916,16,14,.000,.000,.000,,0,\n",
        "\n",
        "year1917"
       ]
      },
      {
       "output_type": "stream",
       "stream": "stdout",
       "text": [
        "\n",
        "1.,Aaron Ward,NYA,1917,27,26,.000,.000,.000,,0,\n",
        "\n",
        "year1918"
       ]
      },
      {
       "output_type": "stream",
       "stream": "stdout",
       "text": [
        "\n",
        "1.,Aaron Ward,NYA,1918,36,32,.000,.000,.000,,0,\n",
        "\n",
        "year1919"
       ]
      },
      {
       "output_type": "stream",
       "stream": "stdout",
       "text": [
        "\n",
        "1.,Aaron Ward,NYA,1919,40,34,.000,.000,.000,,0,\n",
        "\n",
        "year1920"
       ]
      },
      {
       "output_type": "stream",
       "stream": "stdout",
       "text": [
        "\n",
        "1.,Aaron Ward,NYA,1920,547,496,.000,.000,.000,,0,\n",
        "\n",
        "year1921"
       ]
      },
      {
       "output_type": "stream",
       "stream": "stdout",
       "text": [
        "\n",
        "1.,Aaron Ward,NYA,1921,635,556,.000,.000,.000,,0,\n",
        "\n",
        "year1922"
       ]
      },
      {
       "output_type": "stream",
       "stream": "stdout",
       "text": [
        "\n",
        "1.,Aaron Ward,NYA,1922,641,558,.000,.000,.000,,0,\n",
        "\n",
        "year1923"
       ]
      },
      {
       "output_type": "stream",
       "stream": "stdout",
       "text": [
        "\n",
        "1.,Aaron Ward,NYA,1923,640,567,.000,.000,.000,,0,\n",
        "\n",
        "year1924"
       ]
      },
      {
       "output_type": "stream",
       "stream": "stdout",
       "text": [
        "\n",
        "1.,Aaron Ward,NYA,1924,465,400,.000,.000,.000,,0,\n",
        "\n",
        "year1925"
       ]
      },
      {
       "output_type": "stream",
       "stream": "stdout",
       "text": [
        "\n",
        "1.,Aaron Ward,NYA,1925,500,439,.000,.000,.000,,0,\n",
        "\n",
        "year1926"
       ]
      },
      {
       "output_type": "stream",
       "stream": "stdout",
       "text": [
        "\n",
        "1.,Aaron Ward,NYA,1926,34,31,.000,.000,.000,,0,\n",
        "\n",
        "year1927"
       ]
      },
      {
       "output_type": "stream",
       "stream": "stdout",
       "text": [
        "\n",
        "1.,Aaron Ward,CHA,1927,551,463,.000,.000,.000,,0,\n",
        "\n",
        "year1928"
       ]
      },
      {
       "output_type": "stream",
       "stream": "stdout",
       "text": [
        "\n",
        "1.,Aaron Ward,CLE,1928,11,9,.000,.000,.000,,0,\n",
        "\n",
        "year1929"
       ]
      },
      {
       "output_type": "stream",
       "stream": "stdout",
       "text": [
        "\n",
        "1.,Ad Liska,WS1,1929,32,29,.000,.000,.000,,0,\n",
        "\n",
        "year1930"
       ]
      },
      {
       "output_type": "stream",
       "stream": "stdout",
       "text": [
        "\n",
        "1.,Ad Liska,WS1,1930,62,52,.000,.000,.000,,0,\n",
        "\n",
        "year1931"
       ]
      },
      {
       "output_type": "stream",
       "stream": "stdout",
       "text": [
        "\n",
        "1.,Ad Liska,WS1,1931,1,1,.000,.000,.000,,0,\n",
        "\n",
        "year1932"
       ]
      },
      {
       "output_type": "stream",
       "stream": "stdout",
       "text": [
        "\n",
        "1.,Ad Liska,PHI,1932,7,7,.000,.000,.000,,0,\n",
        "\n",
        "year1933"
       ]
      },
      {
       "output_type": "stream",
       "stream": "stdout",
       "text": [
        "\n",
        "1.,Ad Liska,PHI,1933,14,14,.000,.000,.000,,0,\n",
        "\n",
        "year1934"
       ]
      },
      {
       "output_type": "stream",
       "stream": "stdout",
       "text": [
        "\n",
        "1.,Adam Comorosky,CIN,1934,491,446,.000,.000,.000,,0,\n",
        "\n",
        "year1935"
       ]
      },
      {
       "output_type": "stream",
       "stream": "stdout",
       "text": [
        "\n",
        "1.,Ab Wright,CLE,1935,177,160,.000,.000,.000,,0,\n",
        "\n",
        "year1936"
       ]
      },
      {
       "output_type": "stream",
       "stream": "stdout",
       "text": [
        "\n",
        "1.,Al Blanche,BSN,1936,4,4,.000,.000,.000,,0,\n",
        "\n",
        "year1937"
       ]
      },
      {
       "output_type": "stream",
       "stream": "stdout",
       "text": [
        "\n",
        "1.,Abe White,SLN,1937,1,1,.000,.000,.000,,0,\n",
        "\n",
        "year1938"
       ]
      },
      {
       "output_type": "stream",
       "stream": "stdout",
       "text": [
        "\n",
        "1.,Ace Parker,PHA,1938,128,113,.000,.000,.000,,0,\n",
        "\n",
        "year1939"
       ]
      },
      {
       "output_type": "stream",
       "stream": "stdout",
       "text": [
        "\n",
        "1.,Al Benton,DET,1939,52,44,.000,.000,.000,,0,\n",
        "\n",
        "year1940"
       ]
      },
      {
       "output_type": "stream",
       "stream": "stdout",
       "text": [
        "\n",
        "1.,Ace Williams,BSN,1940,2,2,.000,.000,.000,,0,\n",
        "\n",
        "year1941"
       ]
      },
      {
       "output_type": "stream",
       "stream": "stdout",
       "text": [
        "\n",
        "1.,Ace Adams,NY1,1941,12,12,.000,.000,.000,,0,\n",
        "\n",
        "year1942"
       ]
      },
      {
       "output_type": "stream",
       "stream": "stdout",
       "text": [
        "\n",
        "1.,Ace Adams,NY1,1942,10,10,.000,.000,.000,,0,\n",
        "\n",
        "year1943"
       ]
      },
      {
       "output_type": "stream",
       "stream": "stdout",
       "text": [
        "\n",
        "1.,Aaron Robinson,NYA,1943,1,1,.000,.000,.000,,0,\n",
        "\n",
        "year1944"
       ]
      },
      {
       "output_type": "stream",
       "stream": "stdout",
       "text": [
        "\n",
        "1.,Ab Wright,BSN,1944,216,195,.000,.000,.000,,0,\n",
        "\n",
        "year1945"
       ]
      },
      {
       "output_type": "stream",
       "stream": "stdout",
       "text": [
        "\n",
        "1.,Aaron Robinson,NYA,1945,183,160,.000,.000,.000,,0,\n",
        "\n",
        "year1946"
       ]
      },
      {
       "output_type": "stream",
       "stream": "stdout",
       "text": [
        "\n",
        "1.,Aaron Robinson,NYA,1946,381,330,.000,.000,.000,,0,\n",
        "\n",
        "year1947"
       ]
      },
      {
       "output_type": "stream",
       "stream": "stdout",
       "text": [
        "\n",
        "1.,Aaron Robinson,NYA,1947,292,252,.000,.000,.000,,0,\n",
        "\n",
        "year1948"
       ]
      },
      {
       "output_type": "stream",
       "stream": "stdout",
       "text": [
        "\n",
        "1.,Aaron Robinson,CHA,1948,373,326,.000,.000,.000,,0,\n",
        "\n",
        "year1949"
       ]
      },
      {
       "output_type": "stream",
       "stream": "stdout",
       "text": [
        "\n",
        "1.,Aaron Robinson,DET,1949,411,331,.000,.000,.000,,0,\n",
        "\n",
        "year1950"
       ]
      },
      {
       "output_type": "stream",
       "stream": "stdout",
       "text": [
        "\n",
        "1.,Aaron Robinson,DET,1950,358,283,.272,.354,.404,0.275,114,\n",
        "\n",
        "year1951"
       ]
      },
      {
       "output_type": "stream",
       "stream": "stdout",
       "text": [
        "\n",
        "1.,Aaron Robinson,DET,1951,99,82,.264,.338,.373,0.271,111,\n",
        "\n",
        "year1952"
       ]
      },
      {
       "output_type": "stream",
       "stream": "stdout",
       "text": [
        "\n",
        "1.,Al Benton,BOS,1952,11,9,.262,.325,.387,0.276,115,\n",
        "\n",
        "year1953"
       ]
      },
      {
       "output_type": "stream",
       "stream": "stdout",
       "text": [
        "\n",
        "1.,Al Aber,CLE,1953,2,0,.000,.395,.000,0.3,136,\n",
        "\n",
        "year1954"
       ]
      },
      {
       "output_type": "stream",
       "stream": "stdout",
       "text": [
        "\n",
        "1.,Al Aber,DET,1954,45,39,.259,.329,.370,0.253,93,\n",
        "\n",
        "year1955"
       ]
      },
      {
       "output_type": "stream",
       "stream": "stdout",
       "text": [
        "\n",
        "1.,Al Aber,DET,1955,19,17,.267,.337,.418,0.266,105,\n",
        "\n",
        "year1956"
       ]
      },
      {
       "output_type": "stream",
       "stream": "stdout",
       "text": [
        "\n",
        "1.,Al Aber,DET,1956,13,10,.276,.350,.387,0.268,107,\n",
        "\n",
        "year1957"
       ]
      },
      {
       "output_type": "stream",
       "stream": "stdout",
       "text": [
        "\n",
        "1.,Al Aber,DET,1957,9,8,.261,.325,.361,0.259,99,\n",
        "\n",
        "year1958"
       ]
      },
      {
       "output_type": "stream",
       "stream": "stdout",
       "text": [
        "\n",
        "1.,Al Cicotte,DET,1958,17,17,.270,.330,.404,0.268,107,\n",
        "\n",
        "year1959"
       ]
      },
      {
       "output_type": "stream",
       "stream": "stdout",
       "text": [
        "\n",
        "1.,Al Cicotte,CLE,1959,5,3,.250,.321,.384,0.261,101,\n",
        "\n",
        "year1960"
       ]
      },
      {
       "output_type": "stream",
       "stream": "stdout",
       "text": [
        "\n",
        "1.,Al Heist,CHN,1960,113,102,.252,.312,.376,0.253,93,\n",
        "\n",
        "year1961"
       ]
      },
      {
       "output_type": "stream",
       "stream": "stdout",
       "text": [
        "\n",
        "1.,Al Cicotte,SLN,1961,21,21,.274,.333,.417,0.267,106,\n",
        "\n",
        "year1962"
       ]
      },
      {
       "output_type": "stream",
       "stream": "stdout",
       "text": [
        "\n",
        "1.,Al Cicotte,HOU,1962,0,0,.000,.000,.000,,0,\n",
        "\n",
        "year1963"
       ]
      },
      {
       "output_type": "stream",
       "stream": "stdout",
       "text": [
        "\n",
        "1.,Aaron Pointer,HOU,1963,5,5,.267,.333,.420,0.293,129,\n",
        "\n",
        "year1964"
       ]
      },
      {
       "output_type": "stream",
       "stream": "stdout",
       "text": [
        "\n",
        "1.,Adolfo Phillips,PHI,1964,17,13,.256,.310,.363,0.254,94,\n",
        "\n",
        "year1965"
       ]
      },
      {
       "output_type": "stream",
       "stream": "stdout",
       "text": [
        "\n",
        "1.,Adolfo Phillips,PHI,1965,93,87,.251,.311,.379,0.261,101,\n",
        "\n",
        "year1966"
       ]
      },
      {
       "output_type": "stream",
       "stream": "stdout",
       "text": [
        "\n",
        "1.,Aaron Pointer,HOU,1966,32,26,.267,.327,.399,0.273,111,\n",
        "\n",
        "year1967"
       ]
      },
      {
       "output_type": "stream",
       "stream": "stdout",
       "text": [
        "\n",
        "1.,Aaron Pointer,HOU,1967,87,70,.243,.303,.359,0.258,98,\n",
        "\n",
        "year1968"
       ]
      },
      {
       "output_type": "stream",
       "stream": "stdout",
       "text": [
        "\n",
        "1.,Adolfo Phillips,CHN,1968,497,439,.242,.296,.340,0.257,97,\n",
        "\n",
        "year1969"
       ]
      },
      {
       "output_type": "stream",
       "stream": "stdout",
       "text": [
        "\n",
        "1.,Adolfo Phillips,CHN,1969,66,49,.256,.321,.383,0.27,109,\n",
        "\n",
        "year1970"
       ]
      },
      {
       "output_type": "stream",
       "stream": "stdout",
       "text": [
        "\n",
        "1.,Adolfo Phillips,MON,1970,254,214,.259,.326,.395,0.264,103,\n",
        "\n",
        "year1971"
       ]
      },
      {
       "output_type": "stream",
       "stream": "stdout",
       "text": [
        "\n",
        "1.,Adrian Garrett,OAK,1971,26,21,.242,.312,.365,0.26,100,\n",
        "\n",
        "year1972"
       ]
      },
      {
       "output_type": "stream",
       "stream": "stdout",
       "text": [
        "\n",
        "1.,Adolfo Phillips,CLE,1972,9,7,.255,.313,.369,0.263,103,\n",
        "\n",
        "year1973"
       ]
      },
      {
       "output_type": "stream",
       "stream": "stdout",
       "text": [
        "\n",
        "1.,Adrian Devine,ATL,1973,5,4,.228,.319,.334,0.253,94,\n",
        "\n",
        "year1974"
       ]
      },
      {
       "output_type": "stream",
       "stream": "stdout",
       "text": [
        "\n",
        "1.,Adrian Garrett,CHN,1974,9,8,.247,.313,.364,0.255,96,\n",
        "\n",
        "year1975"
       ]
      },
      {
       "output_type": "stream",
       "stream": "stdout",
       "text": [
        "\n",
        "1.,Adrian Devine,ATL,1975,5,5,.274,.329,.399,0.275,114,\n",
        "\n",
        "year1976"
       ]
      },
      {
       "output_type": "stream",
       "stream": "stdout",
       "text": [
        "\n",
        "1.,Adrian Devine,ATL,1976,16,14,.261,.319,.354,0.259,99,\n",
        "\n",
        "year1977"
       ]
      },
      {
       "output_type": "stream",
       "stream": "stdout",
       "text": [
        "\n",
        "1.,Adrian Devine,TEX,1977,0,0,.000,.000,.000,,0,\n",
        "\n",
        "year1978"
       ]
      },
      {
       "output_type": "stream",
       "stream": "stdout",
       "text": [
        "\n",
        "1.,Adrian Devine,ATL,1978,12,11,.252,.314,.362,0.252,93,\n",
        "\n",
        "year1979"
       ]
      },
      {
       "output_type": "stream",
       "stream": "stdout",
       "text": [
        "\n",
        "1.,Adrian Devine,ATL,1979,7,7,.267,.321,.395,0.255,96,\n",
        "\n",
        "year1980"
       ]
      },
      {
       "output_type": "stream",
       "stream": "stdout",
       "text": [
        "\n",
        "1.,Adrian Devine,TEX,1980,0,0,.000,.000,.000,,0,\n",
        "\n",
        "year1981"
       ]
      },
      {
       "output_type": "stream",
       "stream": "stdout",
       "text": [
        "\n",
        "1.,Al Bumbry,BAL,1981,451,392,.254,.317,.369,0.261,101,\n",
        "\n",
        "year1982"
       ]
      },
      {
       "output_type": "stream",
       "stream": "stdout",
       "text": [
        "\n",
        "1.,Al Bumbry,BAL,1982,618,562,.265,.329,.403,0.267,106,\n",
        "\n",
        "year1983"
       ]
      },
      {
       "output_type": "stream",
       "stream": "stdout",
       "text": [
        "\n",
        "1.,Al Bumbry,BAL,1983,416,378,.264,.325,.397,0.263,103,\n",
        "\n",
        "year1984"
       ]
      },
      {
       "output_type": "stream",
       "stream": "stdout",
       "text": [
        "\n",
        "1.,Al Bumbry,BAL,1984,374,344,.261,.320,.395,0.264,103,\n",
        "\n",
        "year1985"
       ]
      },
      {
       "output_type": "stream",
       "stream": "stdout",
       "text": [
        "\n",
        "1.,Al Bumbry,SDN,1985,103,95,.252,.319,.371,0.254,95,\n",
        "\n",
        "year1986"
       ]
      },
      {
       "output_type": "stream",
       "stream": "stdout",
       "text": [
        "\n",
        "1.,Al Cowens,SEA,1986,87,82,.261,.329,.404,0.267,106,\n",
        "\n",
        "year1987"
       ]
      },
      {
       "output_type": "stream",
       "stream": "stdout",
       "text": [
        "\n",
        "1.,Adam Peterson,CHA,1987,0,0,.000,.000,.000,,0,\n",
        "\n",
        "year1988"
       ]
      },
      {
       "output_type": "stream",
       "stream": "stdout",
       "text": [
        "\n",
        "1.,Adam Peterson,CHA,1988,0,0,.000,.000,.000,,0,\n",
        "\n",
        "year1989"
       ]
      },
      {
       "output_type": "stream",
       "stream": "stdout",
       "text": [
        "\n",
        "1.,Adam Peterson,CHA,1989,0,0,.000,.000,.000,,0,\n",
        "\n",
        "year1990"
       ]
      },
      {
       "output_type": "stream",
       "stream": "stdout",
       "text": [
        "\n",
        "1.,Adam Peterson,CHA,1990,0,0,.000,.000,.000,,0,\n",
        "\n",
        "year1991"
       ]
      },
      {
       "output_type": "stream",
       "stream": "stdout",
       "text": [
        "\n",
        "1.,Adam Peterson,SDN,1991,16,13,.274,.327,.423,0.272,110,\n",
        "\n",
        "year1992"
       ]
      },
      {
       "output_type": "stream",
       "stream": "stdout",
       "text": [
        "\n",
        "1.,Al Leiter,TOR,1992,0,0,.000,.000,.000,,0,\n",
        "\n",
        "year1993"
       ]
      },
      {
       "output_type": "stream",
       "stream": "stdout",
       "text": [
        "\n",
        "1.,Aaron Sele,BOS,1993,0,0,.000,.000,.000,,0,\n",
        "\n",
        "year1994"
       ]
      },
      {
       "output_type": "stream",
       "stream": "stdout",
       "text": [
        "\n",
        "1.,A. J. Sager,SDN,1994,11,10,.269,.338,.425,0.262,102,\n",
        "\n",
        "year1995"
       ]
      },
      {
       "output_type": "stream",
       "stream": "stdout",
       "text": [
        "\n",
        "1.,A. J. Sager,COL,1995,3,3,.282,.352,.460,0.282,120,\n",
        "\n",
        "year1996"
       ]
      },
      {
       "output_type": "stream",
       "stream": "stdout",
       "text": [
        "\n",
        "1.,A. J. Sager,DET,1996,0,0,.000,.000,.000,,0,\n",
        "\n",
        "year1997"
       ]
      },
      {
       "output_type": "stream",
       "stream": "stdout",
       "text": [
        "\n",
        "1.,A. J. Sager,DET,1997,0,0,.000,.000,.000,,0,\n",
        "\n",
        "year1998"
       ]
      },
      {
       "output_type": "stream",
       "stream": "stdout",
       "text": [
        "\n",
        "1.,A. J. Sager,DET,1998,1,1,.273,.333,.479,0.265,104,\n",
        "\n",
        "year1999"
       ]
      },
      {
       "output_type": "stream",
       "stream": "stdout",
       "text": [
        "\n",
        "1.,A.j. Burnett,FLO,1999,17,17,.267,.337,.432,0.26,100,\n",
        "\n",
        "year2000"
       ]
      },
      {
       "output_type": "stream",
       "stream": "stdout",
       "text": [
        "\n",
        "1.,A.j. Burnett,FLO,2000,30,25,.259,.337,.432,0.261,101,\n",
        "\n",
        "year2001"
       ]
      },
      {
       "output_type": "stream",
       "stream": "stdout",
       "text": [
        "\n",
        "1.,A.j. Burnett,FLO,2001,59,50,.260,.326,.415,0.26,100,\n",
        "\n",
        "year2002"
       ]
      },
      {
       "output_type": "stream",
       "stream": "stdout",
       "text": [
        "\n",
        "1.,A.j. Burnett,FLO,2002,69,57,.258,.325,.416,0.258,98,\n",
        "\n",
        "year2003"
       ]
      },
      {
       "output_type": "stream",
       "stream": "stdout",
       "text": [
        "\n",
        "1.,A.j. Burnett,FLO,2003,9,7,.274,.328,.459,0.267,106,\n",
        "\n",
        "year2004"
       ]
      },
      {
       "output_type": "stream",
       "stream": "stdout",
       "text": [
        "\n",
        "1.,A.j. Burnett,FLO,2004,37,29,.276,.332,.447,0.266,105,\n",
        "\n",
        "year2005"
       ]
      },
      {
       "output_type": "stream",
       "stream": "stdout",
       "text": [
        "\n",
        "1.,A.j. Burnett,FLO,2005,79,68,.265,.326,.431,0.263,103,\n",
        "\n",
        "year2006"
       ]
      },
      {
       "output_type": "stream",
       "stream": "stdout",
       "text": [
        "\n",
        "1.,A.j. Burnett,TOR,2006,3,3,.287,.356,.392,0.264,104,\n",
        "\n",
        "year2007"
       ]
      },
      {
       "output_type": "stream",
       "stream": "stdout",
       "text": [
        "\n",
        "1.,A.j. Burnett,TOR,2007,2,2,.265,.356,.394,0.267,106,\n",
        "\n",
        "year2008"
       ]
      },
      {
       "output_type": "stream",
       "stream": "stdout",
       "text": [
        "\n",
        "1.,A.j. Burnett,TOR,2008,4,3,.266,.337,.427,0.266,106,\n",
        "\n",
        "year2009"
       ]
      },
      {
       "output_type": "stream",
       "stream": "stdout",
       "text": [
        "\n",
        "1.,A.j. Burnett,NYA,2009,5,5,.253,.319,.400,0.252,93,\n",
        "\n",
        "year2010"
       ]
      },
      {
       "output_type": "stream",
       "stream": "stdout",
       "text": [
        "\n",
        "1.,A.j. Burnett,NYA,2010,3,1,.243,.301,.351,0.264,104,\n",
        "\n",
        "year2011"
       ]
      },
      {
       "output_type": "stream",
       "stream": "stdout",
       "text": [
        "\n",
        "1.,A.j. Burnett,NYA,2011,3,2,.271,.338,.445,0.278,116,\n",
        "\n",
        "year2012"
       ]
      },
      {
       "output_type": "stream",
       "stream": "stdout",
       "text": [
        "\n",
        "1.,A.j. Burnett,PIT,2012,71,63,.264,.323,.418,0.268,107,\n",
        "\n",
        "year2013"
       ]
      },
      {
       "output_type": "stream",
       "stream": "stdout",
       "text": [
        "\n",
        "1.,A.j. Burnett,PIT,2013,67,59,.253,.312,.392,0.254,95,\n",
        "\n",
        "year2014"
       ]
      },
      {
       "output_type": "stream",
       "stream": "stdout",
       "text": [
        "\n",
        "1.,A.j. Burnett,PHI,2014,65,60,.252,.301,.386,0.259,99,\n",
        "\n"
       ]
      }
     ],
     "prompt_number": 3
    }
   ],
   "metadata": {}
  }
 ]
}