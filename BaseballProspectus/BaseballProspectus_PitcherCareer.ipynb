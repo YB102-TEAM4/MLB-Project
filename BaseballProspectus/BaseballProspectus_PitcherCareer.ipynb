{
 "metadata": {
  "name": "",
  "signature": "sha256:cb841a50d1072483f850614373f938b1788a9d96ccbd95c92d3b1541492dc23a"
 },
 "nbformat": 3,
 "nbformat_minor": 0,
 "worksheets": [
  {
   "cells": [
    {
     "cell_type": "code",
     "collapsed": false,
     "input": [
      "#\u9996\u5148Name\u8981\u6392\u5e8f\n",
      "#\u8981\u6ce8\u610f\u7684\u5730\u65b9\u6709\u56db\u500b range, year, fileName, page_limit\n",
      "import string\n",
      "import time\n",
      "import requests\n",
      "from bs4 import BeautifulSoup\n",
      "headers={\n",
      "    'User-Agent':'Mozilla/5.0 (Windows NT 6.1; WOW64) AppleWebKit/537.36 (KHTML, like Gecko) Chrome/40.0.2214.93 Safari/537.36'\n",
      "}\n",
      "url='http://www.baseballprospectus.com/sortable/index.php?mystatslist=LVL,NAME,G,IP,W,L,SV,R,ER,HR,HBP,GIDP,BABIP,ERA,WHIP,SO_BB,FIP,FAIR_RA,FAIR_RA_PLUS,BWARP,PWARP,WARP&category=pitcher_career&tablename=dyna_pitcher_career&stage=data&year=*&group_LVL=MLB&minimum=0&sort1column=NAME&sort1order=ASC&page_limit=10000&tt_team=*&show_ttroster=1&show_ttwatched=1&viewdata=View%20Data&start_num=0'     \n",
      "res=requests.get(url,headers=headers)\n",
      "soup=BeautifulSoup(res.text.encode('utf-8'))    \n",
      "trList=soup.select('#TTdata tr')\n",
      "fileName='PitcherCareer.csv'#*********************\n",
      "fid=open('Baseball\\\\'+fileName,'w')    \n",
      "for tr in trList:\n",
      "    for td in tr.select('td'):\n",
      "        fid.write(td.text.replace(',','').encode('utf-8')+',')\n",
      "    fid.write('\\n')\n",
      "fid.close()\n",
      "fod=open('Baseball\\\\'+fileName,'r')\n",
      "print fod.readlines()[0]\n",
      "fod.close()    "
     ],
     "language": "python",
     "metadata": {},
     "outputs": [
      {
       "output_type": "stream",
       "stream": "stdout",
       "text": [
        "#,LVL,NAME,G,IP,W,L,SV,R,ER,HR,HBP,GIDP,BABIP,ERA,WHIP,SO/BB,FIP,FRA,FRA+,BWARP,PWARP,WARP,\n",
        "\n"
       ]
      }
     ],
     "prompt_number": 2
    }
   ],
   "metadata": {}
  }
 ]
}