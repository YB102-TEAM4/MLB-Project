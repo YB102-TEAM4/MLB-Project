{
 "metadata": {
  "name": "",
  "signature": "sha256:1b4574a457d3992c2e437b7f8977450ec5069cd434f4186f6c2a0fbadeed0be8"
 },
 "nbformat": 3,
 "nbformat_minor": 0,
 "worksheets": [
  {
   "cells": [
    {
     "cell_type": "code",
     "collapsed": false,
     "input": [
      "#\u9996\u5148Name\u8981\u6392\u5e8f\n",
      "#\u8981\u6ce8\u610f\u7684\u5730\u65b9\u6709\u56db\u500b folder, range, year, page_limit\n",
      "import string, time, requests, os\n",
      "from bs4 import BeautifulSoup\n",
      "headers={\n",
      "    'User-Agent':'Mozilla/5.0 (Windows NT 6.1; WOW64) AppleWebKit/537.36 (KHTML, like Gecko) Chrome/40.0.2214.93 Safari/537.36'\n",
      "}\n",
      "url='http://www.baseballprospectus.com/sortable/index.php'\n",
      "\n",
      "folder='PitcherTeamRates'#\u8cc7\u6599\u593e\u540d\u7a31*********************\n",
      "\n",
      "path='Baseball\\\\'+folder #\u8def\u5f91\u540d\u7a31\n",
      "if os.path.exists(path):\n",
      "    print 'folder exists'\n",
      "else:    \n",
      "    os.mkdir(path)\n",
      "    print 'folder not exists'  \n",
      "    \n",
      "for year in range(1871,2015): #2015\u6c92\u7b97\u5230**************\n",
      "    payload={            \n",
      "            'mystatslist':'LVL,NAME,TEAM,LG,YEAR,AGE,G,GS,IP,IP_START,IP_RELIEF,BB9,SO9,HR9,UBBR,SOR,SO_BB,BABIP,WHIP,AVG,OBP,SLG,FAIR_RA,ERA,VORP,FIP',\n",
      "            'category':'pitcher_team_year',\n",
      "            'tablename':'dyna_pitcher_team_year',\n",
      "            'stage':'data',\n",
      "            'year':'%d'%(year),#*********************\n",
      "            'mystatslist':'NAME,TEAM,LG,YEAR,AGE,G,GS,IP,IP_START,IP_RELIEF,BB9,SO9,HR9,UBBR,SOR,SO_BB,BABIP,WHIP,AVG,OBP,SLG,FAIR_RA,ERA,VORP,FIP',\n",
      "            'category':'pitcher_team_year',\n",
      "            'tablename':'dyna_pitcher_team_year',\n",
      "            'stage':'data',\n",
      "            'submit':'Submit Statistics Selection',\n",
      "            'groupcolumn':'TEAM,LG',\n",
      "            'filtercolumn':'IP',\n",
      "            'required':'YEAR,NAME,TEAM,LG',\n",
      "            'sort1column':'NAME',\n",
      "            'sort1order':'ASC',\n",
      "            'page_limit':'All',#*********************\n",
      "        }\n",
      "    res=requests.post(url,data=payload,headers=headers)\n",
      "    soup=BeautifulSoup(res.text.encode('utf-8'))\n",
      "    trList=soup.select('#TTdata tr')\n",
      "    fileName= str(year)+'_'+folder+'.csv'\n",
      "    fid=open(path+'\\\\'+fileName,'w')\n",
      "    for tr in trList:\n",
      "        for td in tr.select('td'):\n",
      "            fid.write(td.text.encode('utf-8')+',')\n",
      "        fid.write('\\n')\n",
      "    fid.close()\n",
      "    fod=open(path+'\\\\'+fileName,'r')\n",
      "    print 'year'+str(year)\n",
      "    print fod.readlines()[1]\n",
      "    fod.close()\n",
      "    time.sleep(2)\n"
     ],
     "language": "python",
     "metadata": {},
     "outputs": [
      {
       "output_type": "stream",
       "stream": "stdout",
       "text": [
        "folder not exists\n",
        "year1871"
       ]
      },
      {
       "output_type": "stream",
       "stream": "stdout",
       "text": [
        "\n",
        "1.,MLB,Al Pratt,CL1,NA,1871,23,28,28,224.7,0.0,0.0,1.9,1.4,0.36,0.000,0.000,0.00,.279,1.53,.000,.000,.000,0.00,3.77,0.0,4.43,\n",
        "\n",
        "year1872"
       ]
      },
      {
       "output_type": "stream",
       "stream": "stdout",
       "text": [
        "\n",
        "1.,MLB, O'rourke,BR1,NA,1872,0,1,1,9.0,0.0,0.0,2.0,0.0,0.00,0.000,0.000,0.00,.327,2.00,.000,.000,.000,0.00,8.00,0.0,4.10,\n",
        "\n",
        "year1873"
       ]
      },
      {
       "output_type": "stream",
       "stream": "stdout",
       "text": [
        "\n",
        "1.,MLB,Al Spalding,BS1,NA,1873,22,60,54,496.7,0.0,0.0,0.7,0.9,0.09,0.000,0.000,0.00,.289,1.37,.000,.000,.000,0.00,2.99,0.0,3.25,\n",
        "\n",
        "year1874"
       ]
      },
      {
       "output_type": "stream",
       "stream": "stdout",
       "text": [
        "\n",
        "1.,MLB,Al Spalding,BS1,NA,1874,23,71,69,617.3,0.0,0.0,0.3,0.5,0.01,0.000,0.000,0.00,.276,1.25,.000,.000,.000,0.00,1.92,0.0,2.08,\n",
        "\n",
        "year1875"
       ]
      },
      {
       "output_type": "stream",
       "stream": "stdout",
       "text": [
        "\n",
        "1.,MLB,Al Spalding,BS1,NA,1875,24,72,62,570.7,0.0,0.0,0.3,1.2,0.02,0.000,0.000,0.00,.253,1.04,.000,.000,.000,0.00,1.59,0.0,2.09,\n",
        "\n",
        "year1876"
       ]
      },
      {
       "output_type": "stream",
       "stream": "stdout",
       "text": [
        "\n",
        "1.,MLB,Al Spalding,CHN,NL,1876,25,61,60,528.7,0.0,0.0,0.4,0.7,0.10,0.000,0.000,0.00,.250,1.07,.000,.000,.000,0.00,1.75,0.0,2.38,\n",
        "\n",
        "year1877"
       ]
      },
      {
       "output_type": "stream",
       "stream": "stdout",
       "text": [
        "\n",
        "1.,MLB,Al Spalding,CHN,NL,1877,26,4,1,11.0,0.0,0.0,0.0,1.6,0.00,0.000,0.000,0.00,.333,1.55,.000,.000,.000,0.00,3.27,0.0,2.48,\n",
        "\n",
        "year1878"
       ]
      },
      {
       "output_type": "stream",
       "stream": "stdout",
       "text": [
        "\n",
        "1.,MLB,Bobby Mitchell,CN1,NL,1878,22,9,9,80.0,0.0,0.0,2.0,5.7,0.11,0.000,0.000,0.00,.264,1.09,.000,.000,.000,0.00,2.14,0.0,2.10,\n",
        "\n",
        "year1879"
       ]
      },
      {
       "output_type": "stream",
       "stream": "stdout",
       "text": [
        "\n",
        "1.,MLB,Bill Mcgunnigle,BFN,NL,1879,24,14,13,120.0,0.0,0.0,1.2,4.7,0.00,0.000,0.000,0.00,.270,1.08,.000,.000,.000,0.00,2.63,0.0,2.11,\n",
        "\n",
        "year1880"
       ]
      },
      {
       "output_type": "stream",
       "stream": "stdout",
       "text": [
        "\n",
        "1.,MLB,Bill Mcgunnigle,BFN,NL,1880,25,5,5,37.0,0.0,0.0,1.9,0.7,0.00,0.000,0.000,0.00,.285,1.38,.000,.000,.000,0.00,3.41,0.0,3.02,\n",
        "\n",
        "year1881"
       ]
      },
      {
       "output_type": "stream",
       "stream": "stdout",
       "text": [
        "\n",
        "1.,MLB,Billy Taylor,WOR,NL,1881,26,1,1,8.0,0.0,0.0,6.8,0.0,0.00,0.000,0.000,0.00,.366,2.63,.000,.000,.000,0.00,7.88,0.0,4.94,\n",
        "\n",
        "year1882"
       ]
      },
      {
       "output_type": "stream",
       "stream": "stdout",
       "text": [
        "\n",
        "1.,MLB,Art Whitney,DTN,NL,1882,24,3,2,18.0,0.0,0.0,4.0,5.5,0.50,0.000,0.000,0.00,.423,2.17,.000,.000,.000,0.00,6.00,0.0,3.69,\n",
        "\n",
        "year1883"
       ]
      },
      {
       "output_type": "stream",
       "stream": "stdout",
       "text": [
        "\n",
        "1.,MLB,Alonzo Breitenstein,PHI,NL,1883,25,1,1,5.0,0.0,0.0,3.6,0.0,0.00,0.000,0.000,0.00,.320,2.00,.000,.000,.000,0.00,9.00,0.0,4.45,\n",
        "\n",
        "year1884"
       ]
      },
      {
       "output_type": "stream",
       "stream": "stdout",
       "text": [
        "\n",
        "1.,MLB, Smith\u00e2\u0094\u0090,BLU,UA,1884,0,1,1,6.0,0.0,0.0,3.0,3.0,0.00,0.000,0.000,0.00,-3.000,2.33,.000,.000,.000,0.00,9.00,0.0,4.00,\n",
        "\n",
        "year1885"
       ]
      },
      {
       "output_type": "stream",
       "stream": "stdout",
       "text": [
        "\n",
        "1.,MLB,Adonis Terry,BR3,AA,1885,20,25,23,209.0,0.0,0.0,1.8,4.1,0.39,0.000,0.000,0.00,.288,1.22,.000,.000,.000,0.00,4.26,0.0,3.39,\n",
        "\n",
        "year1886"
       ]
      },
      {
       "output_type": "stream",
       "stream": "stdout",
       "text": [
        "\n",
        "1.,MLB,Abner Powell,CN2,AA,1886,25,4,1,15.3,0.0,0.0,5.3,2.3,0.00,0.000,0.000,0.00,.291,1.63,.000,.000,.000,0.00,4.70,0.0,4.36,\n",
        "\n",
        "year1887"
       ]
      },
      {
       "output_type": "stream",
       "stream": "stdout",
       "text": [
        "\n",
        "1.,MLB,Adonis Terry,BR3,AA,1887,22,40,35,318.0,0.0,0.0,2.8,3.9,0.28,0.000,0.000,0.00,.287,1.35,.000,.000,.000,0.00,4.02,0.0,4.01,\n",
        "\n",
        "year1888"
       ]
      },
      {
       "output_type": "stream",
       "stream": "stdout",
       "text": [
        "\n",
        "1.,MLB,Ad Gumbert,CHN,NL,1888,19,6,6,48.7,0.0,0.0,1.8,3.0,0.00,0.000,0.000,0.00,.256,1.11,.000,.000,.000,0.00,3.14,0.0,2.73,\n",
        "\n",
        "year1889"
       ]
      },
      {
       "output_type": "stream",
       "stream": "stdout",
       "text": [
        "\n",
        "1.,MLB,Ad Gumbert,CHN,NL,1889,20,31,28,246.3,0.0,0.0,2.8,3.3,0.58,0.000,0.000,0.00,-1.228,1.36,.000,.000,.000,0.00,3.62,0.0,4.19,\n",
        "\n",
        "year1890"
       ]
      },
      {
       "output_type": "stream",
       "stream": "stdout",
       "text": [
        "\n",
        "1.,MLB,Ad Gumbert,BSP,PL,1890,21,39,33,277.3,0.0,0.0,2.8,2.6,0.58,0.000,0.000,0.00,-1.633,1.53,.000,.000,.000,0.00,3.96,0.0,4.25,\n",
        "\n",
        "year1891"
       ]
      },
      {
       "output_type": "stream",
       "stream": "stdout",
       "text": [
        "\n",
        "1.,MLB,Ad Gumbert,CHN,NL,1891,22,32,31,256.3,0.0,0.0,3.2,2.6,0.18,0.000,0.000,0.00,-1.556,1.45,.000,.000,.000,0.00,3.58,0.0,3.26,\n",
        "\n",
        "year1892"
       ]
      },
      {
       "output_type": "stream",
       "stream": "stdout",
       "text": [
        "\n",
        "1.,MLB,Ad Gumbert,CHN,NL,1892,23,46,45,382.7,0.0,0.0,2.5,2.8,0.26,0.000,0.000,0.00,-1.552,1.32,.000,.000,.000,0.00,3.41,0.0,3.14,\n",
        "\n",
        "year1893"
       ]
      },
      {
       "output_type": "stream",
       "stream": "stdout",
       "text": [
        "\n",
        "1.,MLB,Abe Johnson,CHN,NL,1893,0,1,0,1.0,0.0,0.0,18.0,0.0,0.00,0.000,0.000,0.00,-.667,4.00,.000,.000,.000,0.00,36.00,0.0,12.24,\n",
        "\n",
        "year1894"
       ]
      },
      {
       "output_type": "stream",
       "stream": "stdout",
       "text": [
        "\n",
        "1.,MLB,Ad Gumbert,PIT,NL,1894,25,38,32,271.0,0.0,0.0,2.8,2.2,0.46,0.000,0.000,0.00,-2.105,1.70,.000,.000,.000,0.00,6.04,0.0,5.00,\n",
        "\n",
        "year1895"
       ]
      },
      {
       "output_type": "stream",
       "stream": "stdout",
       "text": [
        "\n",
        "1.,MLB,Ad Gumbert,BRO,NL,1895,26,33,26,234.0,0.0,0.0,2.7,1.7,0.42,0.000,0.000,0.00,-2.022,1.53,.000,.000,.000,0.00,5.08,0.0,4.84,\n",
        "\n",
        "year1896"
       ]
      },
      {
       "output_type": "stream",
       "stream": "stdout",
       "text": [
        "\n",
        "1.,MLB,Ad Gumbert,PHI,NL,1896,27,11,10,77.3,0.0,0.0,2.7,1.6,0.00,0.000,0.000,0.00,-2.415,1.58,.000,.000,.000,0.00,4.54,0.0,3.98,\n",
        "\n",
        "year1897"
       ]
      },
      {
       "output_type": "stream",
       "stream": "stdout",
       "text": [
        "\n",
        "1.,MLB,Adonis Terry,CHN,NL,1897,32,1,1,8.0,0.0,0.0,6.8,1.1,0.00,0.000,0.000,0.00,-1.222,2.13,.000,.000,.000,0.00,10.13,0.0,6.07,\n",
        "\n",
        "year1898"
       ]
      },
      {
       "output_type": "stream",
       "stream": "stdout",
       "text": [
        "\n",
        "1.,MLB,Al Maul,BLN,NL,1898,32,28,28,239.7,0.0,0.0,1.8,1.2,0.11,0.000,0.000,0.00,-2.345,1.07,.000,.000,.000,0.00,2.10,0.0,3.33,\n",
        "\n",
        "year1899"
       ]
      },
      {
       "output_type": "stream",
       "stream": "stdout",
       "text": [
        "\n",
        "1.,MLB,Al Maul,BRO,NL,1899,33,4,4,26.0,0.0,0.0,2.1,0.7,0.35,0.000,0.000,0.00,-3.091,1.58,.000,.000,.000,0.00,4.50,0.0,4.21,\n",
        "\n",
        "year1900"
       ]
      },
      {
       "output_type": "stream",
       "stream": "stdout",
       "text": [
        "\n",
        "1.,MLB,Al Maul,PHI,NL,1900,34,5,4,38.0,0.0,0.0,0.7,1.4,0.47,0.000,0.000,0.00,-3.923,1.47,.000,.000,.000,0.00,6.16,0.0,3.59,\n",
        "\n",
        "year1901"
       ]
      },
      {
       "output_type": "stream",
       "stream": "stdout",
       "text": [
        "\n",
        "1.,MLB,Al Maul,NY1,NL,1901,35,3,3,19.0,0.0,0.0,3.8,2.4,0.47,0.000,0.000,0.00,-2.375,2.47,.000,.000,.000,0.00,11.37,0.0,4.67,\n",
        "\n",
        "year1902"
       ]
      },
      {
       "output_type": "stream",
       "stream": "stdout",
       "text": [
        "\n",
        "1.,MLB,Addie Joss,CLE,AL,1902,22,32,29,269.3,0.0,0.0,2.5,3.5,0.07,0.000,0.000,0.00,-1.138,1.11,.000,.000,.000,0.00,2.77,0.0,3.10,\n",
        "\n",
        "year1903"
       ]
      },
      {
       "output_type": "stream",
       "stream": "stdout",
       "text": [
        "\n",
        "1.,MLB,Addie Joss,CLE,AL,1903,23,32,31,283.7,0.0,0.0,1.2,3.8,0.10,0.000,0.000,0.00,-1.355,0.95,.000,.000,.000,0.00,2.19,0.0,2.55,\n",
        "\n",
        "year1904"
       ]
      },
      {
       "output_type": "stream",
       "stream": "stdout",
       "text": [
        "\n",
        "1.,MLB,Addie Joss,CLE,AL,1904,24,25,24,192.3,0.0,0.0,1.4,3.9,0.00,0.000,0.000,0.00,-1.333,0.99,.000,.000,.000,0.00,1.59,0.0,2.22,\n",
        "\n",
        "year1905"
       ]
      },
      {
       "output_type": "stream",
       "stream": "stdout",
       "text": [
        "\n",
        "1.,MLB,Addie Joss,CLE,AL,1905,25,33,32,286.0,0.0,0.0,1.4,4.2,0.13,0.000,0.000,0.00,-1.254,1.02,.000,.000,.000,0.00,2.01,0.0,2.32,\n",
        "\n",
        "year1906"
       ]
      },
      {
       "output_type": "stream",
       "stream": "stdout",
       "text": [
        "\n",
        "1.,MLB,Addie Joss,CLE,AL,1906,26,34,31,282.0,0.0,0.0,1.4,3.4,0.10,0.000,0.000,0.00,-1.400,0.93,.000,.000,.000,0.00,1.72,0.0,2.35,\n",
        "\n",
        "year1907"
       ]
      },
      {
       "output_type": "stream",
       "stream": "stdout",
       "text": [
        "\n",
        "1.,MLB,Addie Joss,CLE,AL,1907,27,42,38,338.7,0.0,0.0,1.4,3.4,0.08,0.000,0.000,0.00,-1.445,0.98,.000,.000,.000,0.00,1.83,0.0,2.25,\n",
        "\n",
        "year1908"
       ]
      },
      {
       "output_type": "stream",
       "stream": "stdout",
       "text": [
        "\n",
        "1.,MLB,Abe Kruger,BRO,NL,1908,23,2,1,6.3,0.0,0.0,4.3,2.8,0.00,0.000,0.000,0.00,.263,1.26,.000,.000,.000,0.00,4.26,0.0,4.16,\n",
        "\n",
        "year1909"
       ]
      },
      {
       "output_type": "stream",
       "stream": "stdout",
       "text": [
        "\n",
        "1.,MLB,Addie Joss,CLE,AL,1909,29,33,28,242.7,0.0,0.0,1.1,2.5,0.00,0.000,0.000,0.00,.244,0.94,.000,.000,.000,0.00,1.71,0.0,2.17,\n",
        "\n",
        "year1910"
       ]
      },
      {
       "output_type": "stream",
       "stream": "stdout",
       "text": [
        "\n",
        "1.,MLB,Ad Brennan,PHI,NL,1910,22,19,5,73.3,0.0,0.0,3.4,3.4,0.25,0.000,0.000,0.00,.288,1.36,.000,.000,.000,0.00,2.33,0.0,3.26,\n",
        "\n",
        "year1911"
       ]
      },
      {
       "output_type": "stream",
       "stream": "stdout",
       "text": [
        "\n",
        "1.,MLB,Ad Brennan,PHI,NL,1911,23,5,3,22.7,0.0,0.0,4.8,4.8,0.00,0.000,0.000,0.00,.301,1.50,.000,.000,.000,0.00,3.57,0.0,3.29,\n",
        "\n",
        "year1912"
       ]
      },
      {
       "output_type": "stream",
       "stream": "stdout",
       "text": [
        "\n",
        "1.,MLB,Ad Brennan,PHI,NL,1912,24,27,19,174.0,0.0,0.0,2.5,4.0,0.21,0.000,0.000,0.00,.297,1.34,.000,.000,.000,0.00,3.57,0.0,3.05,\n",
        "\n",
        "year1913"
       ]
      },
      {
       "output_type": "stream",
       "stream": "stdout",
       "text": [
        "\n",
        "1.,MLB,Ad Brennan,PHI,NL,1913,25,40,24,207.0,0.0,0.0,2.0,4.1,0.22,0.000,0.000,0.00,.288,1.21,.000,.000,.000,0.00,2.39,0.0,2.78,\n",
        "\n",
        "year1914"
       ]
      },
      {
       "output_type": "stream",
       "stream": "stdout",
       "text": [
        "\n",
        "1.,MLB,Abe Bowman,CLE,AL,1914,21,22,10,72.7,0.0,0.0,5.6,3.3,0.00,0.000,0.000,0.00,.308,1.64,.000,.000,.000,0.00,4.46,0.0,3.62,\n",
        "\n",
        "year1915"
       ]
      },
      {
       "output_type": "stream",
       "stream": "stdout",
       "text": [
        "\n",
        "1.,MLB,Abe Bowman,CLE,AL,1915,22,2,1,1.3,0.0,0.0,20.3,0.0,0.00,0.000,0.000,0.00,.250,3.00,.000,.000,.000,0.00,20.25,0.0,9.13,\n",
        "\n",
        "year1916"
       ]
      },
      {
       "output_type": "stream",
       "stream": "stdout",
       "text": [
        "\n",
        "1.,MLB,Al Demaree,PHI,NL,1916,31,39,35,285.0,0.0,0.0,1.5,4.1,0.13,0.000,0.000,0.00,.265,1.05,.000,.000,.000,0.00,2.62,0.0,2.17,\n",
        "\n",
        "year1917"
       ]
      },
      {
       "output_type": "stream",
       "stream": "stdout",
       "text": [
        "\n",
        "1.,MLB,Ad Swigler,NY1,NL,1917,21,1,1,6.0,0.0,0.0,12.0,6.0,0.00,0.000,0.000,0.00,.389,2.50,.000,.000,.000,0.00,6.00,0.0,5.05,\n",
        "\n",
        "year1918"
       ]
      },
      {
       "output_type": "stream",
       "stream": "stdout",
       "text": [
        "\n",
        "1.,MLB,Ad Brennan,WS1,AL,1918,30,2,1,5.3,0.0,0.0,8.4,0.0,0.00,0.000,0.000,0.00,.241,2.25,.000,.000,.000,0.00,5.06,0.0,5.53,\n",
        "\n",
        "year1919"
       ]
      },
      {
       "output_type": "stream",
       "stream": "stdout",
       "text": [
        "\n",
        "1.,MLB,Al Demaree,BSN,NL,1919,34,25,13,128.0,0.0,0.0,2.5,2.4,0.56,0.000,0.000,0.00,.298,1.42,.000,.000,.000,0.00,3.80,0.0,3.56,\n",
        "\n",
        "year1920"
       ]
      },
      {
       "output_type": "stream",
       "stream": "stdout",
       "text": [
        "\n",
        "1.,MLB,Adrian Lynch,SLA,AL,1920,23,5,3,22.3,0.0,0.0,6.9,3.2,0.40,0.000,0.000,0.00,.297,1.79,.000,.000,.000,0.00,5.24,0.0,5.18,\n",
        "\n",
        "year1921"
       ]
      },
      {
       "output_type": "stream",
       "stream": "stdout",
       "text": [
        "\n",
        "1.,MLB,Al Mamaux,BRO,NL,1921,27,12,1,43.0,0.0,0.0,2.7,4.4,0.21,0.000,0.000,0.00,.255,1.14,.000,.000,.000,0.00,3.14,0.0,3.29,\n",
        "\n",
        "year1922"
       ]
      },
      {
       "output_type": "stream",
       "stream": "stdout",
       "text": [
        "\n",
        "1.,MLB,Al Mamaux,BRO,NL,1922,28,37,7,87.7,0.0,0.0,3.4,3.6,0.72,0.000,0.000,0.00,.294,1.48,.000,.000,.000,0.00,3.70,0.0,4.51,\n",
        "\n",
        "year1923"
       ]
      },
      {
       "output_type": "stream",
       "stream": "stdout",
       "text": [
        "\n",
        "1.,MLB,Al Kellett,PHA,AL,1923,21,5,0,10.0,0.0,0.0,7.2,0.9,0.00,0.000,0.000,0.00,.275,1.90,.000,.000,.000,0.00,6.30,0.0,5.10,\n",
        "\n",
        "year1924"
       ]
      },
      {
       "output_type": "stream",
       "stream": "stdout",
       "text": [
        "\n",
        "1.,MLB,Al Kellett,BOS,AL,1924,22,1,0,0.0,0.0,0.0,0.0,0.0,0.00,0.000,0.000,0.00,.000,0.00,.000,.000,.000,0.00,0.00,0.0,0.00,\n",
        "\n",
        "year1925"
       ]
      },
      {
       "output_type": "stream",
       "stream": "stdout",
       "text": [
        "\n",
        "1.,MLB,Alex Ferguson,WS1,AL,1925,28,7,6,55.3,0.0,0.0,3.7,3.9,0.33,0.000,0.000,0.00,.273,1.36,.000,.000,.000,0.00,3.25,0.0,4.07,\n",
        "\n",
        "year1926"
       ]
      },
      {
       "output_type": "stream",
       "stream": "stdout",
       "text": [
        "\n",
        "1.,MLB,Al Smith,NY1,NL,1926,22,1,0,2.0,0.0,0.0,9.0,0.0,0.00,0.000,0.000,0.00,.444,3.00,.000,.000,.000,0.00,9.00,0.0,5.91,\n",
        "\n",
        "year1927"
       ]
      },
      {
       "output_type": "stream",
       "stream": "stdout",
       "text": [
        "\n",
        "1.,MLB,Alex Ferguson,PHI,NL,1927,30,31,31,227.0,0.0,0.0,2.6,2.9,0.59,0.000,0.000,0.00,.315,1.52,.000,.000,.000,0.00,4.84,0.0,4.14,\n",
        "\n",
        "year1928"
       ]
      },
      {
       "output_type": "stream",
       "stream": "stdout",
       "text": [
        "\n",
        "1.,MLB,Al Shealy,NYA,AL,1928,28,23,12,96.0,0.0,0.0,3.9,3.7,0.38,0.000,0.000,0.00,.327,1.73,.000,.000,.000,0.00,5.06,0.0,4.10,\n",
        "\n",
        "year1929"
       ]
      },
      {
       "output_type": "stream",
       "stream": "stdout",
       "text": [
        "\n",
        "1.,MLB,Ad Liska,WS1,AL,1929,22,24,10,94.3,0.0,0.0,4.0,3.1,0.10,0.000,0.000,0.00,.264,1.37,.000,.000,.000,0.00,4.77,0.0,3.88,\n",
        "\n",
        "year1930"
       ]
      },
      {
       "output_type": "stream",
       "stream": "stdout",
       "text": [
        "\n",
        "1.,MLB,Ad Liska,WS1,AL,1930,23,32,16,150.7,0.0,0.0,4.2,2.4,0.36,0.000,0.000,0.00,.255,1.40,.000,.000,.000,0.00,3.29,0.0,4.95,\n",
        "\n",
        "year1931"
       ]
      },
      {
       "output_type": "stream",
       "stream": "stdout",
       "text": [
        "\n",
        "1.,MLB,Ad Liska,WS1,AL,1931,24,2,1,4.0,0.0,0.0,2.3,4.5,0.00,0.000,0.000,0.00,.500,2.50,.000,.000,.000,0.00,6.75,0.0,3.00,\n",
        "\n",
        "year1932"
       ]
      },
      {
       "output_type": "stream",
       "stream": "stdout",
       "text": [
        "\n",
        "1.,MLB,Ad Liska,PHI,NL,1932,25,8,0,26.7,0.0,0.0,3.4,2.0,0.00,0.000,0.000,0.00,.242,1.20,.000,.000,.000,0.00,1.69,0.0,3.70,\n",
        "\n",
        "year1933"
       ]
      },
      {
       "output_type": "stream",
       "stream": "stdout",
       "text": [
        "\n",
        "1.,MLB,Ad Liska,PHI,NL,1933,26,45,1,75.7,0.0,0.0,3.1,2.7,0.59,0.000,0.000,0.00,.314,1.61,.000,.000,.000,0.00,4.52,0.0,3.85,\n",
        "\n",
        "year1934"
       ]
      },
      {
       "output_type": "stream",
       "stream": "stdout",
       "text": [
        "\n",
        "1.,MLB,Al Benton,PHA,AL,1934,23,32,21,155.0,0.0,0.0,5.1,3.4,0.41,0.000,0.000,0.00,.262,1.50,.000,.000,.000,0.00,4.88,0.0,4.74,\n",
        "\n",
        "year1935"
       ]
      },
      {
       "output_type": "stream",
       "stream": "stdout",
       "text": [
        "\n",
        "1.,MLB,Al Benton,PHA,AL,1935,24,27,9,78.3,0.0,0.0,5.4,4.8,0.80,0.000,0.000,0.00,.354,2.00,.000,.000,.000,0.00,7.70,0.0,5.02,\n",
        "\n",
        "year1936"
       ]
      },
      {
       "output_type": "stream",
       "stream": "stdout",
       "text": [
        "\n",
        "1.,MLB,Al Blanche,BSN,NL,1936,26,11,0,16.0,0.0,0.0,4.5,2.3,0.56,0.000,0.000,0.00,.302,1.75,.000,.000,.000,0.00,6.19,0.0,5.04,\n",
        "\n",
        "year1937"
       ]
      },
      {
       "output_type": "stream",
       "stream": "stdout",
       "text": [
        "\n",
        "1.,MLB,Abe White,SLN,NL,1937,33,5,0,9.3,0.0,0.0,2.9,1.9,0.96,0.000,0.000,0.00,.342,1.82,.000,.000,.000,0.00,6.75,0.0,4.88,\n",
        "\n",
        "year1938"
       ]
      },
      {
       "output_type": "stream",
       "stream": "stdout",
       "text": [
        "\n",
        "1.,MLB,Al Baker,BOS,AL,1938,32,3,0,7.7,0.0,0.0,2.3,2.3,2.35,0.000,0.000,0.00,.355,1.96,.000,.000,.000,0.00,9.39,0.0,7.16,\n",
        "\n",
        "year1939"
       ]
      },
      {
       "output_type": "stream",
       "stream": "stdout",
       "text": [
        "\n",
        "1.,MLB,Al Benton,DET,AL,1939,28,37,16,150.0,0.0,0.0,3.5,4.0,0.66,0.000,0.000,0.00,.308,1.60,.000,.000,.000,0.00,4.56,0.0,4.37,\n",
        "\n",
        "year1940"
       ]
      },
      {
       "output_type": "stream",
       "stream": "stdout",
       "text": [
        "\n",
        "1.,MLB,Ace Williams,BSN,NL,1940,23,5,0,9.0,0.0,0.0,12.0,5.0,0.00,0.000,0.000,0.00,.412,3.67,.000,.000,.000,0.00,16.00,0.0,5.97,\n",
        "\n",
        "year1941"
       ]
      },
      {
       "output_type": "stream",
       "stream": "stdout",
       "text": [
        "\n",
        "1.,MLB,Ace Adams,NY1,NL,1941,31,38,0,71.0,0.0,0.0,4.4,2.3,0.38,0.000,0.000,0.00,.309,1.68,.000,.000,.000,0.00,4.82,0.0,4.13,\n",
        "\n",
        "year1942"
       ]
      },
      {
       "output_type": "stream",
       "stream": "stdout",
       "text": [
        "\n",
        "1.,MLB,Ace Adams,NY1,NL,1942,32,61,0,88.0,0.0,0.0,3.2,3.4,0.10,0.000,0.000,0.00,.238,1.14,.000,.000,.000,0.00,1.84,0.0,2.74,\n",
        "\n",
        "year1943"
       ]
      },
      {
       "output_type": "stream",
       "stream": "stdout",
       "text": [
        "\n",
        "1.,MLB,Ace Adams,NY1,NL,1943,33,70,3,140.3,0.0,0.0,3.5,3.0,0.32,0.000,0.000,0.00,.246,1.25,.000,.000,.000,0.00,2.82,0.0,3.48,\n",
        "\n",
        "year1944"
       ]
      },
      {
       "output_type": "stream",
       "stream": "stdout",
       "text": [
        "\n",
        "1.,MLB,Ace Adams,NY1,NL,1944,34,65,4,137.7,0.0,0.0,3.8,2.1,0.52,0.000,0.000,0.00,.275,1.50,.000,.000,.000,0.00,4.25,0.0,4.17,\n",
        "\n",
        "year1945"
       ]
      },
      {
       "output_type": "stream",
       "stream": "stdout",
       "text": [
        "\n",
        "1.,MLB,Ace Adams,NY1,NL,1945,35,65,0,113.0,0.0,0.0,3.5,3.1,0.56,0.000,0.000,0.00,.252,1.35,.000,.000,.000,0.00,3.42,0.0,3.97,\n",
        "\n",
        "year1946"
       ]
      },
      {
       "output_type": "stream",
       "stream": "stdout",
       "text": [
        "\n",
        "1.,MLB,Ace Adams,NY1,NL,1946,36,3,0,2.7,0.0,0.0,3.4,10.1,6.75,0.000,0.000,0.00,.538,3.75,.000,.000,.000,0.00,16.88,0.0,10.94,\n",
        "\n",
        "year1947"
       ]
      },
      {
       "output_type": "stream",
       "stream": "stdout",
       "text": [
        "\n",
        "1.,MLB,Al Benton,DET,AL,1947,36,36,14,133.0,0.0,0.0,4.1,2.2,0.74,0.000,0.000,0.00,.281,1.56,.000,.000,.000,0.00,4.40,0.0,4.40,\n",
        "\n",
        "year1948"
       ]
      },
      {
       "output_type": "stream",
       "stream": "stdout",
       "text": [
        "\n",
        "1.,MLB,Al Benton,DET,AL,1948,37,30,0,44.3,0.0,0.0,7.3,3.7,0.81,0.000,0.000,0.00,.272,1.83,.000,.000,.000,0.00,5.68,0.0,5.61,\n",
        "\n",
        "year1949"
       ]
      },
      {
       "output_type": "stream",
       "stream": "stdout",
       "text": [
        "\n",
        "1.,MLB,Adrian Zabala,NY1,NL,1949,32,15,4,41.0,0.0,0.0,2.2,2.9,1.10,0.000,0.000,0.00,.271,1.32,.000,.000,.000,0.00,5.27,0.0,4.28,\n",
        "\n",
        "year1950"
       ]
      },
      {
       "output_type": "stream",
       "stream": "stdout",
       "text": [
        "\n",
        "1.,MLB,Al Aber,CLE,AL,1950,22,1,1,9.0,9.0,0.0,4.0,4.0,0.00,0.118,0.118,1.00,.192,1.00,.167,.265,.200,3.58,2.00,1.4,3.16,\n",
        "\n",
        "year1951"
       ]
      },
      {
       "output_type": "stream",
       "stream": "stdout",
       "text": [
        "\n",
        "1.,MLB,Al Brazle,SLN,NL,1951,37,56,8,154.3,33.7,63.3,3.5,3.8,0.76,0.087,0.118,1.20,.250,1.29,.246,.488,.365,4.94,3.09,-3.2,3.88,\n",
        "\n",
        "year1952"
       ]
      },
      {
       "output_type": "stream",
       "stream": "stdout",
       "text": [
        "\n",
        "1.,MLB,Al Benton,BOS,AL,1952,41,24,0,37.7,0.0,37.7,4.1,4.8,0.24,0.082,0.127,1.18,.300,1.43,.268,.348,.326,3.84,2.39,1.8,3.00,\n",
        "\n",
        "year1953"
       ]
      },
      {
       "output_type": "stream",
       "stream": "stdout",
       "text": [
        "\n",
        "1.,MLB,Al Aber,CLE,AL,1953,25,6,0,6.0,0.0,6.0,13.5,6.0,0.00,0.235,0.118,0.44,.286,2.50,.250,.455,.250,7.54,7.50,-1.6,5.73,\n",
        "\n",
        "year1954"
       ]
      },
      {
       "output_type": "stream",
       "stream": "stdout",
       "text": [
        "\n",
        "1.,MLB,Al Aber,DET,AL,1954,26,32,18,124.7,100.3,24.3,2.9,3.9,0.58,0.072,0.102,1.35,.268,1.29,.257,.318,.368,5.23,3.97,-2.8,3.38,\n",
        "\n",
        "year1955"
       ]
      },
      {
       "output_type": "stream",
       "stream": "stdout",
       "text": [
        "\n",
        "1.,MLB,Al Aber,DET,AL,1955,27,39,1,80.0,2.3,78.0,3.2,4.2,1.01,0.078,0.107,1.37,.282,1.43,.275,.334,.415,5.27,3.38,-2.8,4.01,\n",
        "\n",
        "year1956"
       ]
      },
      {
       "output_type": "stream",
       "stream": "stdout",
       "text": [
        "\n",
        "1.,MLB,Al Aber,DET,AL,1956,28,42,0,63.0,0.0,63.0,3.6,3.0,0.14,0.068,0.075,0.84,.276,1.43,.270,.341,.328,3.90,3.43,10.5,3.33,\n",
        "\n",
        "year1957"
       ]
      },
      {
       "output_type": "stream",
       "stream": "stdout",
       "text": [
        "\n",
        "1.,MLB,Al Aber,DET,AL,1957,29,28,0,37.0,0.0,37.0,2.7,3.6,1.46,0.048,0.090,1.36,.299,1.54,.315,.363,.493,6.21,6.81,-4.6,4.67,\n",
        "\n",
        "year1958"
       ]
      },
      {
       "output_type": "stream",
       "stream": "stdout",
       "text": [
        "\n",
        "1.,MLB,Al Cicotte,WS1,AL,1958,28,8,4,28.0,15.7,12.3,4.5,4.5,0.96,0.108,0.115,1.07,.337,1.79,.316,.388,.456,4.51,4.82,1.0,4.34,\n",
        "\n",
        "year1959"
       ]
      },
      {
       "output_type": "stream",
       "stream": "stdout",
       "text": [
        "\n",
        "1.,MLB,Al Cicotte,CLE,AL,1959,29,26,1,44.0,2.7,41.3,5.1,4.7,0.82,0.112,0.117,0.92,.296,1.61,.293,.388,.478,5.75,5.32,-2.9,4.44,\n",
        "\n",
        "year1960"
       ]
      },
      {
       "output_type": "stream",
       "stream": "stdout",
       "text": [
        "\n",
        "1.,MLB,Al Neiger,PHI,NL,1960,21,6,0,12.7,0.0,12.7,2.8,2.1,1.42,0.051,0.051,0.75,.292,1.58,.340,.393,.617,6.92,5.68,-2.1,5.65,\n",
        "\n",
        "year1961"
       ]
      },
      {
       "output_type": "stream",
       "stream": "stdout",
       "text": [
        "\n",
        "1.,MLB,Al Cicotte,SLN,NL,1961,31,29,7,75.0,32.3,42.7,4.1,6.1,1.92,0.096,0.153,1.50,.291,1.56,.283,.362,.505,6.13,5.28,0.5,5.52,\n",
        "\n",
        "year1962"
       ]
      },
      {
       "output_type": "stream",
       "stream": "stdout",
       "text": [
        "\n",
        "1.,MLB,Al Cicotte,HOU,NL,1962,32,5,0,4.7,0.0,4.7,1.9,7.7,1.93,0.045,0.182,4.00,.438,1.93,.381,.409,.571,5.58,3.86,-1.0,4.43,\n",
        "\n",
        "year1963"
       ]
      },
      {
       "output_type": "stream",
       "stream": "stdout",
       "text": [
        "\n",
        "1.,MLB,Al Downing,NYA,AL,1963,22,24,22,175.7,169.7,6.0,4.1,8.8,0.36,0.112,0.242,2.14,.239,1.10,.184,.277,.265,3.28,2.56,22.0,2.40,\n",
        "\n",
        "year1964"
       ]
      },
      {
       "output_type": "stream",
       "stream": "stdout",
       "text": [
        "\n",
        "1.,MLB,Al Downing,NYA,AL,1964,23,37,35,244.0,243.7,1.3,4.4,8.0,0.66,0.110,0.208,1.81,.267,1.32,.223,.312,.341,3.56,3.47,35.5,3.12,\n",
        "\n",
        "year1965"
       ]
      },
      {
       "output_type": "stream",
       "stream": "stdout",
       "text": [
        "\n",
        "1.,MLB,Al Downing,NYA,AL,1965,24,35,32,212.0,208.3,3.7,4.5,7.6,0.68,0.114,0.198,1.70,.282,1.37,.237,.326,.356,3.89,3.40,17.4,3.21,\n",
        "\n",
        "year1966"
       ]
      },
      {
       "output_type": "stream",
       "stream": "stdout",
       "text": [
        "\n",
        "1.,MLB,Al Closter,WS2,AL,1966,23,1,0,0.3,0.0,0.3,54.0,0.0,0.00,0.500,0.000,0.00,.500,9.00,.500,.750,1.000,25.02,0.00,-1.0,20.44,\n",
        "\n",
        "year1967"
       ]
      },
      {
       "output_type": "stream",
       "stream": "stdout",
       "text": [
        "\n",
        "1.,MLB,Al Downing,NYA,AL,1967,26,31,28,201.7,189.7,12.0,2.7,7.6,0.58,0.074,0.212,2.80,.261,1.09,.217,.281,.308,2.96,2.63,26.1,2.56,\n",
        "\n",
        "year1968"
       ]
      },
      {
       "output_type": "stream",
       "stream": "stdout",
       "text": [
        "\n",
        "1.,MLB,Al Downing,NYA,AL,1968,27,15,12,61.3,56.0,5.3,2.9,5.9,1.03,0.070,0.156,2.00,.250,1.21,.237,.299,.382,4.19,3.52,-1.3,3.43,\n",
        "\n",
        "year1969"
       ]
      },
      {
       "output_type": "stream",
       "stream": "stdout",
       "text": [
        "\n",
        "1.,MLB,Al Downing,NYA,AL,1969,28,30,15,130.7,99.3,31.3,3.4,5.9,0.83,0.078,0.155,1.73,.260,1.27,.240,.306,.367,4.03,3.38,6.5,3.38,\n",
        "\n",
        "year1970"
       ]
      },
      {
       "output_type": "stream",
       "stream": "stdout",
       "text": [
        "\n",
        "1.,MLB,Al Downing,MIL,AL,1970,29,17,16,94.3,93.3,1.0,5.6,5.1,0.76,0.137,0.128,0.90,.243,1.46,.232,.346,.346,4.86,3.34,-1.5,4.38,\n",
        "\n",
        "year1971"
       ]
      },
      {
       "output_type": "stream",
       "stream": "stdout",
       "text": [
        "\n",
        "1.,MLB,Al Closter,NYA,AL,1971,28,14,1,28.3,5.0,23.3,4.1,7.0,1.27,0.044,0.163,1.69,.309,1.62,.289,.364,.430,4.92,5.08,-1.2,4.23,\n",
        "\n",
        "year1972"
       ]
      },
      {
       "output_type": "stream",
       "stream": "stdout",
       "text": [
        "\n",
        "1.,MLB,Al Closter,NYA,AL,1972,29,2,0,2.3,0.0,2.3,15.4,7.7,3.86,0.333,0.167,0.50,.200,2.57,.250,.500,.625,16.58,11.57,-1.6,11.27,\n",
        "\n",
        "year1973"
       ]
      },
      {
       "output_type": "stream",
       "stream": "stdout",
       "text": [
        "\n",
        "1.,MLB,Adrian Devine,ATL,NL,1973,21,24,1,32.3,5.0,27.3,3.3,4.2,1.67,0.059,0.099,1.25,.333,1.76,.338,.399,.526,6.28,6.40,-5.3,5.33,\n",
        "\n",
        "year1974"
       ]
      },
      {
       "output_type": "stream",
       "stream": "stdout",
       "text": [
        "\n",
        "1.,MLB,Al Downing,LAN,NL,1974,33,21,16,98.3,89.3,9.0,4.1,5.8,0.64,0.105,0.148,1.40,.282,1.41,.255,.338,.364,4.53,3.66,1.4,3.69,\n",
        "\n",
        "year1975"
       ]
      },
      {
       "output_type": "stream",
       "stream": "stdout",
       "text": [
        "\n",
        "1.,MLB,Adrian Devine,ATL,NL,1975,23,5,2,16.3,10.3,6.0,3.9,4.4,1.10,0.079,0.105,1.14,.293,1.59,.284,.360,.418,5.12,4.41,-0.2,4.70,\n",
        "\n",
        "year1976"
       ]
      },
      {
       "output_type": "stream",
       "stream": "stdout",
       "text": [
        "\n",
        "1.,MLB,Adrian Devine,ATL,NL,1976,24,48,1,73.0,0.7,72.3,3.2,5.9,0.37,0.060,0.150,1.85,.286,1.34,.255,.316,.312,3.37,3.21,9.2,2.98,\n",
        "\n",
        "year1977"
       ]
      },
      {
       "output_type": "stream",
       "stream": "stdout",
       "text": [
        "\n",
        "1.,MLB,Adrian Devine,TEX,AL,1977,25,56,2,105.7,10.7,95.0,2.6,5.7,0.68,0.045,0.151,2.16,.281,1.26,.259,.316,.363,4.74,3.58,5.5,3.45,\n",
        "\n",
        "year1978"
       ]
      },
      {
       "output_type": "stream",
       "stream": "stdout",
       "text": [
        "\n",
        "1.,MLB,Adrian Devine,ATL,NL,1978,26,31,6,65.3,31.3,34.0,3.4,3.6,0.41,0.068,0.088,1.04,.338,1.67,.323,.380,.438,4.26,5.92,3.1,3.57,\n",
        "\n",
        "year1979"
       ]
      },
      {
       "output_type": "stream",
       "stream": "stdout",
       "text": [
        "\n",
        "1.,MLB,Adrian Devine,ATL,NL,1979,27,40,0,66.7,0.0,66.7,3.4,3.0,1.08,0.066,0.073,0.88,.310,1.64,.311,.372,.474,5.84,3.24,-5.2,4.81,\n",
        "\n",
        "year1980"
       ]
      },
      {
       "output_type": "stream",
       "stream": "stdout",
       "text": [
        "\n",
        "1.,MLB,Adrian Devine,TEX,AL,1980,28,13,0,28.0,0.0,28.0,2.9,2.6,1.29,0.056,0.056,0.89,.375,2.07,.377,.415,.508,5.69,4.82,-2.2,5.12,\n",
        "\n",
        "year1981"
       ]
      },
      {
       "output_type": "stream",
       "stream": "stdout",
       "text": [
        "\n",
        "1.,MLB,Al Holland,SFN,NL,1981,28,47,3,100.7,21.7,79.0,3.9,7.0,0.36,0.077,0.181,1.77,.274,1.30,.233,.314,.314,3.00,2.41,15.7,3.01,\n",
        "\n",
        "year1982"
       ]
      },
      {
       "output_type": "stream",
       "stream": "stdout",
       "text": [
        "\n",
        "1.,MLB,Al Holland,SFN,NL,1982,29,58,7,129.7,38.3,91.3,2.8,6.7,0.83,0.062,0.178,2.43,.261,1.20,.231,.288,.338,3.65,3.33,12.6,3.40,\n",
        "\n",
        "year1983"
       ]
      },
      {
       "output_type": "stream",
       "stream": "stdout",
       "text": [
        "\n",
        "1.,MLB,Al Holland,PHI,NL,1983,30,68,0,91.7,0.0,91.7,2.9,9.8,0.79,0.049,0.270,3.33,.236,1.01,.188,.254,.337,2.98,2.26,18.3,2.61,\n",
        "\n",
        "year1984"
       ]
      },
      {
       "output_type": "stream",
       "stream": "stdout",
       "text": [
        "\n",
        "1.,MLB,Al Holland,PHI,NL,1984,31,68,0,98.3,0.0,98.3,2.7,5.6,1.28,0.059,0.151,2.03,.228,1.14,.225,.283,.390,5.02,3.39,-4.6,4.35,\n",
        "\n",
        "year1985"
       ]
      },
      {
       "output_type": "stream",
       "stream": "stdout",
       "text": [
        "\n",
        "1.,MLB,Al Holland,CAL,AL,1985,32,15,0,24.3,0.0,24.3,3.7,5.2,1.48,0.091,0.141,1.40,.183,1.11,.193,.276,.364,4.31,1.48,2.3,4.96,\n",
        "\n",
        "year1986"
       ]
      },
      {
       "output_type": "stream",
       "stream": "stdout",
       "text": [
        "\n",
        "1.,MLB,Al Holland,NYA,AL,1986,33,25,1,40.7,4.7,36.0,2.0,8.2,1.11,0.040,0.209,4.11,.310,1.30,.268,.301,.433,3.51,5.09,9.5,3.24,\n",
        "\n",
        "year1987"
       ]
      },
      {
       "output_type": "stream",
       "stream": "stdout",
       "text": [
        "\n",
        "1.,MLB,Adam Peterson,CHA,AL,1987,21,1,1,4.0,4.0,0.0,6.8,2.3,2.25,0.136,0.045,0.33,.412,2.75,.444,.500,.722,9.30,13.50,-1.4,7.87,\n",
        "\n",
        "year1988"
       ]
      },
      {
       "output_type": "stream",
       "stream": "stdout",
       "text": [
        "\n",
        "1.,MLB,Adam Peterson,CHA,AL,1988,22,2,2,6.0,6.0,0.0,9.0,7.5,0.00,0.161,0.161,0.83,.300,2.00,.240,.387,.280,5.63,13.50,0.3,4.16,\n",
        "\n",
        "year1989"
       ]
      },
      {
       "output_type": "stream",
       "stream": "stdout",
       "text": [
        "\n",
        "1.,MLB,Adam Peterson,CHA,AL,1989,23,3,2,5.3,2.7,2.7,3.4,5.1,1.69,0.065,0.097,1.50,.480,2.81,.464,.500,.643,5.97,15.19,-0.1,5.29,\n",
        "\n",
        "year1990"
       ]
      },
      {
       "output_type": "stream",
       "stream": "stdout",
       "text": [
        "\n",
        "1.,MLB,Adam Peterson,CHA,AL,1990,24,20,11,85.0,62.7,22.3,2.8,3.1,1.27,0.073,0.081,1.12,.271,1.36,.278,.332,.451,5.72,4.55,-3.2,4.95,\n",
        "\n",
        "year1991"
       ]
      },
      {
       "output_type": "stream",
       "stream": "stdout",
       "text": [
        "\n",
        "1.,MLB,Adam Peterson,SDN,NL,1991,25,13,11,54.7,52.7,2.0,4.6,6.1,1.65,0.108,0.154,1.32,.241,1.43,.242,.329,.449,5.60,4.45,-2.4,5.35,\n",
        "\n",
        "year1992"
       ]
      },
      {
       "output_type": "stream",
       "stream": "stdout",
       "text": [
        "\n",
        "1.,MLB,Al Leiter,TOR,AL,1992,26,1,0,1.0,0.0,1.0,18.0,0.0,0.00,0.286,0.000,0.00,.200,3.00,.200,.429,.200,5.77,9.00,-0.1,8.79,\n",
        "\n",
        "year1993"
       ]
      },
      {
       "output_type": "stream",
       "stream": "stdout",
       "text": [
        "\n",
        "1.,MLB,Aaron Sele,BOS,AL,1993,23,18,18,111.7,111.7,0.0,3.9,7.5,0.40,0.095,0.192,1.94,.287,1.33,.237,.322,.334,3.95,2.74,22.0,3.40,\n",
        "\n",
        "year1994"
       ]
      },
      {
       "output_type": "stream",
       "stream": "stdout",
       "text": [
        "\n",
        "1.,MLB,A. J. Sager,SDN,NL,1994,29,22,3,46.7,13.0,33.7,3.1,5.0,0.77,0.051,0.120,1.63,.343,1.67,.325,.379,.476,5.26,5.98,1.5,4.22,\n",
        "\n",
        "year1995"
       ]
      },
      {
       "output_type": "stream",
       "stream": "stdout",
       "text": [
        "\n",
        "1.,MLB,A. J. Sager,COL,NL,1995,30,10,0,14.7,0.0,14.7,4.3,6.1,0.61,0.086,0.143,1.43,.346,1.77,.311,.382,.443,5.88,7.36,1.3,4.02,\n",
        "\n",
        "year1996"
       ]
      },
      {
       "output_type": "stream",
       "stream": "stdout",
       "text": [
        "\n",
        "1.,MLB,A. J. Sager,DET,AL,1996,31,22,9,79.0,50.7,28.3,3.3,5.9,1.14,0.078,0.150,1.79,.319,1.52,.294,.355,.439,6.03,5.01,3.1,4.76,\n",
        "\n",
        "year1997"
       ]
      },
      {
       "output_type": "stream",
       "stream": "stdout",
       "text": [
        "\n",
        "1.,MLB,A. J. Sager,DET,AL,1997,32,38,1,84.0,5.0,79.0,2.6,5.7,1.07,0.051,0.151,2.21,.271,1.25,.258,.307,.414,5.35,4.18,2.8,4.32,\n",
        "\n",
        "year1998"
       ]
      },
      {
       "output_type": "stream",
       "stream": "stdout",
       "text": [
        "\n",
        "1.,MLB,A. J. Sager,DET,AL,1998,33,31,3,59.3,11.0,48.3,3.5,3.5,1.06,0.069,0.084,1.00,.327,1.72,.325,.383,.473,6.62,6.52,-5.0,5.19,\n",
        "\n",
        "year1999"
       ]
      },
      {
       "output_type": "stream",
       "stream": "stdout",
       "text": [
        "\n",
        "1.,MLB,A.j. Burnett,FLO,NL,1999,22,7,7,41.3,41.3,0.0,5.4,7.2,0.65,0.126,0.181,1.32,.281,1.50,.242,.343,.373,4.62,3.48,6.1,4.23,\n",
        "\n",
        "year2000"
       ]
      },
      {
       "output_type": "stream",
       "stream": "stdout",
       "text": [
        "\n",
        "1.,MLB,A.j. Burnett,FLO,NL,2000,23,13,13,82.7,82.7,0.0,4.8,6.2,0.87,0.113,0.157,1.30,.285,1.50,.259,.352,.424,5.16,4.79,11.8,4.60,\n",
        "\n",
        "year2001"
       ]
      },
      {
       "output_type": "stream",
       "stream": "stdout",
       "text": [
        "\n",
        "1.,MLB,A.j. Burnett,FLO,NL,2001,24,27,27,173.3,173.3,0.0,4.3,6.6,1.04,0.109,0.175,1.54,.253,1.32,.231,.323,.375,5.17,4.05,3.6,4.59,\n",
        "\n",
        "year2002"
       ]
      },
      {
       "output_type": "stream",
       "stream": "stdout",
       "text": [
        "\n",
        "1.,MLB,A.j. Burnett,FLO,NL,2002,25,31,29,204.3,201.7,2.7,4.0,8.9,0.53,0.101,0.241,2.26,.266,1.19,.209,.302,.309,4.03,3.30,31.5,3.11,\n",
        "\n",
        "year2003"
       ]
      },
      {
       "output_type": "stream",
       "stream": "stdout",
       "text": [
        "\n",
        "1.,MLB,A.j. Burnett,FLO,NL,2003,26,4,4,23.0,23.0,0.0,7.0,8.2,0.78,0.151,0.198,1.17,.254,1.57,.217,.365,.373,5.51,4.70,0.4,4.89,\n",
        "\n",
        "year2004"
       ]
      },
      {
       "output_type": "stream",
       "stream": "stdout",
       "text": [
        "\n",
        "1.,MLB,A.j. Burnett,FLO,NL,2004,27,20,19,120.0,118.0,2.0,2.9,8.5,0.68,0.078,0.231,2.97,.285,1.17,.231,.296,.344,3.72,3.68,18.8,3.10,\n",
        "\n",
        "year2005"
       ]
      },
      {
       "output_type": "stream",
       "stream": "stdout",
       "text": [
        "\n",
        "1.,MLB,A.j. Burnett,FLO,NL,2005,28,32,32,209.0,209.0,0.0,3.4,8.5,0.52,0.089,0.227,2.51,.298,1.26,.237,.312,.334,4.06,3.44,28.7,3.08,\n",
        "\n",
        "year2006"
       ]
      },
      {
       "output_type": "stream",
       "stream": "stdout",
       "text": [
        "\n",
        "1.,MLB,A.j. Burnett,TOR,AL,2006,29,21,21,135.7,135.7,0.0,2.6,7.8,0.93,0.062,0.205,3.03,.312,1.30,.264,.323,.413,4.32,3.98,26.7,3.83,\n",
        "\n",
        "year2007"
       ]
      },
      {
       "output_type": "stream",
       "stream": "stdout",
       "text": [
        "\n",
        "1.,MLB,A.j. Burnett,TOR,AL,2007,30,25,25,165.7,165.7,0.0,3.6,9.6,1.25,0.093,0.255,2.67,.261,1.19,.214,.302,.362,4.93,3.75,6.5,4.40,\n",
        "\n",
        "year2008"
       ]
      },
      {
       "output_type": "stream",
       "stream": "stdout",
       "text": [
        "\n",
        "1.,MLB,A.j. Burnett,TOR,AL,2008,31,35,34,221.3,220.3,1.0,3.5,9.4,0.77,0.088,0.241,2.69,.314,1.34,.249,.322,.388,3.77,4.07,43.0,3.48,\n",
        "\n",
        "year2009"
       ]
      },
      {
       "output_type": "stream",
       "stream": "stdout",
       "text": [
        "\n",
        "1.,MLB,A.j. Burnett,NYA,AL,2009,32,33,33,207.0,207.0,0.0,4.2,8.5,1.09,0.108,0.218,2.01,.296,1.40,.247,.336,.393,4.98,4.04,29.3,4.38,\n",
        "\n",
        "year2010"
       ]
      },
      {
       "output_type": "stream",
       "stream": "stdout",
       "text": [
        "\n",
        "1.,MLB,A.j. Burnett,NYA,AL,2010,33,33,33,186.7,186.7,0.0,3.8,7.0,1.21,0.092,0.175,1.86,.319,1.51,.285,.366,.457,5.26,5.26,17.2,4.79,\n",
        "\n",
        "year2011"
       ]
      },
      {
       "output_type": "stream",
       "stream": "stdout",
       "text": [
        "\n",
        "1.,MLB,A.j. Burnett,NYA,AL,2011,34,33,32,190.3,190.0,0.3,3.9,8.2,1.47,0.097,0.207,2.08,.294,1.43,.260,.339,.464,5.50,5.15,-0.4,4.81,\n",
        "\n",
        "year2012"
       ]
      },
      {
       "output_type": "stream",
       "stream": "stdout",
       "text": [
        "\n",
        "1.,MLB,A.j. Burnett,PIT,NL,2012,35,31,31,202.3,202.3,0.0,2.8,8.0,0.80,0.072,0.212,2.90,.294,1.24,.246,.307,.361,3.70,3.51,25.4,3.57,\n",
        "\n",
        "year2013"
       ]
      },
      {
       "output_type": "stream",
       "stream": "stdout",
       "text": [
        "\n",
        "1.,MLB,A.j. Burnett,PIT,NL,2013,36,30,30,191.0,191.0,0.0,3.2,9.8,0.52,0.080,0.261,3.12,.305,1.21,.231,.304,.335,3.54,3.30,21.8,2.77,\n",
        "\n",
        "year2014"
       ]
      },
      {
       "output_type": "stream",
       "stream": "stdout",
       "text": [
        "\n",
        "1.,MLB,A.j. Achter,MIN,AL,2014,25,7,0,11.0,0.0,11.0,2.5,4.1,1.64,0.061,0.102,1.67,.308,1.55,.304,.347,.522,6.12,3.27,-0.9,5.43,\n",
        "\n"
       ]
      }
     ],
     "prompt_number": 1
    }
   ],
   "metadata": {}
  }
 ]
}