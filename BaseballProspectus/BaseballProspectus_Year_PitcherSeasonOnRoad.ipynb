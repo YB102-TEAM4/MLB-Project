{
 "metadata": {
  "name": "",
  "signature": "sha256:297b44d4ee9e2b59cd7c96e2702c57e0f509c140471b97148d440a65bf01c117"
 },
 "nbformat": 3,
 "nbformat_minor": 0,
 "worksheets": [
  {
   "cells": [
    {
     "cell_type": "code",
     "collapsed": false,
     "input": [
      "#\u9996\u5148Name\u8981\u6392\u5e8f\n",
      "#\u8981\u6ce8\u610f\u7684\u5730\u65b9\u6709\u56db\u500b folder, range, year, page_limit\n",
      "import string, time, requests, os\n",
      "from bs4 import BeautifulSoup\n",
      "headers={\n",
      "    'User-Agent':'Mozilla/5.0 (Windows NT 6.1; WOW64) AppleWebKit/537.36 (KHTML, like Gecko) Chrome/40.0.2214.93 Safari/537.36'\n",
      "}\n",
      "url='http://www.baseballprospectus.com/sortable/index.php'\n",
      "\n",
      "folder='PitcherSeasonOnRoad'#\u8cc7\u6599\u593e\u540d\u7a31*********************\n",
      "\n",
      "path='Baseball\\\\'+folder #\u8def\u5f91\u540d\u7a31\n",
      "if os.path.exists(path):\n",
      "    print 'folder exists'\n",
      "else:    \n",
      "    os.mkdir(path)\n",
      "    print 'folder not exists'  \n",
      "    \n",
      "for year in range(1950,2015): #2015\u6c92\u7b97\u5230**************\n",
      "    payload={            \n",
      "            'mystatslist':'NAME,YEAR,LVL,HOME_AWAY,G,PA,AB,R,H,B1,B2,B3,HR,TB,SO,BB,HBP,SF,SH,DP,FB_PERCENT,GB_PERCENT,LINEDR_PERCENT,POPUP_PERCENT,ISO,AVG,OBP,SLG,TAV_AGAINST',\n",
      "            'category':'pitcher_season_homeaway',\n",
      "            'tablename':'dyna_pitcher_season_homeaway',\n",
      "            'stage':'data',\n",
      "            'year':'%d'%(year),#*********************\n",
      "            'mystatslist':'NAME,YEAR,LVL,HOME_AWAY,G,PA,AB,R,H,B1,B2,B3,HR,TB,SO,BB,HBP,SF,SH,RBI,DP,FB_PERCENT,GB_PERCENT,LINEDR_PERCENT,POPUP_PERCENT,ISO,AVG,OBP,SLG,TAV_AGAINST',\n",
      "            'category':'pitcher_season_homeaway',\n",
      "            'tablename':'dyna_pitcher_season_homeaway',\n",
      "            'stage':'data',\n",
      "            'group_HOME_AWAY':'A',\n",
      "            'group_LVL':'MLB',\n",
      "            'minimum':'0',\n",
      "            'sort1column':'NAME',\n",
      "            'sort1order':'ASC',\n",
      "            'page_limit':'All',#*********************\n",
      "            'tt_team':'*',\n",
      "            'show_ttroster':'1',\n",
      "            'show_ttwatched':'1',\n",
      "            'viewdata':'View Data',\n",
      "        }\n",
      "    res=requests.post(url,data=payload,headers=headers)\n",
      "    soup=BeautifulSoup(res.text.encode('utf-8'))\n",
      "    trList=soup.select('#TTdata tr')\n",
      "    fileName= str(year)+'_'+folder+'.csv'\n",
      "    fid=open(path+'\\\\'+fileName,'w')\n",
      "    for tr in trList:\n",
      "        for td in tr.select('td'):\n",
      "            fid.write(td.text.encode('utf-8')+',')\n",
      "        fid.write('\\n')\n",
      "    fid.close()\n",
      "    fod=open(path+'\\\\'+fileName,'r')\n",
      "    print 'year'+str(year)\n",
      "    print fod.readlines()[1]\n",
      "    fod.close()\n",
      "    time.sleep(2)\n"
     ],
     "language": "python",
     "metadata": {},
     "outputs": [
      {
       "output_type": "stream",
       "stream": "stdout",
       "text": [
        "folder not exists\n",
        "year1950"
       ]
      },
      {
       "output_type": "stream",
       "stream": "stdout",
       "text": [
        "\n",
        "1.,Al Benton,1950,MLB,A,22,178,157,23,41,28,5,2,6,68,16,18,0,0,3,5,42.7%,54.4%,2.9%,0.0%,.172,.261,.337,.433,.000,\n",
        "\n",
        "year1951"
       ]
      },
      {
       "output_type": "stream",
       "stream": "stdout",
       "text": [
        "\n",
        "1.,Al Brazle,1951,MLB,A,20,198,167,28,45,31,6,0,8,75,20,18,4,0,9,5,46.1%,49.6%,4.3%,0.0%,.180,.269,.354,.449,.000,\n",
        "\n",
        "year1952"
       ]
      },
      {
       "output_type": "stream",
       "stream": "stdout",
       "text": [
        "\n",
        "1.,Al Benton,1952,MLB,A,14,106,90,10,21,16,4,0,1,28,10,15,0,0,1,4,37.1%,50.0%,9.7%,3.2%,.078,.233,.343,.311,.000,\n",
        "\n",
        "year1953"
       ]
      },
      {
       "output_type": "stream",
       "stream": "stdout",
       "text": [
        "\n",
        "1.,Al Aber,1953,MLB,A,14,213,173,30,47,34,11,0,2,64,24,34,0,0,6,10,31.2%,67.0%,0.9%,0.9%,.098,.272,.391,.370,.000,\n",
        "\n",
        "year1954"
       ]
      },
      {
       "output_type": "stream",
       "stream": "stdout",
       "text": [
        "\n",
        "1.,Al Aber,1954,MLB,A,15,227,198,28,48,38,5,3,2,65,22,18,1,3,7,5,21.6%,61.2%,5.8%,11.5%,.086,.242,.305,.328,.000,\n",
        "\n",
        "year1955"
       ]
      },
      {
       "output_type": "stream",
       "stream": "stdout",
       "text": [
        "\n",
        "1.,Al Aber,1955,MLB,A,21,168,152,17,40,29,6,1,4,60,21,14,0,0,2,4,29.6%,65.3%,4.1%,1.0%,.132,.263,.325,.395,.000,\n",
        "\n",
        "year1956"
       ]
      },
      {
       "output_type": "stream",
       "stream": "stdout",
       "text": [
        "\n",
        "1.,Al Aber,1956,MLB,A,21,121,104,14,29,24,5,0,0,34,10,13,1,0,3,4,33.8%,58.8%,1.5%,5.9%,.048,.279,.364,.327,.000,\n",
        "\n",
        "year1957"
       ]
      },
      {
       "output_type": "stream",
       "stream": "stdout",
       "text": [
        "\n",
        "1.,Al Aber,1957,MLB,A,17,85,77,14,25,20,3,0,2,34,4,4,1,1,2,2,25.9%,64.8%,3.7%,5.6%,.117,.325,.361,.442,.000,\n",
        "\n",
        "year1958"
       ]
      },
      {
       "output_type": "stream",
       "stream": "stdout",
       "text": [
        "\n",
        "1.,Al Cicotte,1958,MLB,A,10,160,134,14,41,31,8,0,2,55,18,20,0,3,3,5,39.3%,51.2%,6.0%,3.6%,.104,.306,.389,.410,.000,\n",
        "\n",
        "year1959"
       ]
      },
      {
       "output_type": "stream",
       "stream": "stdout",
       "text": [
        "\n",
        "1.,Al Cicotte,1959,MLB,A,9,86,72,8,19,12,3,3,1,31,14,8,1,1,4,2,41.3%,43.5%,6.5%,8.7%,.167,.264,.341,.431,.000,\n",
        "\n",
        "year1960"
       ]
      },
      {
       "output_type": "stream",
       "stream": "stdout",
       "text": [
        "\n",
        "1.,Al Neiger,1960,MLB,A,3,40,31,6,11,6,3,1,1,19,3,1,2,3,3,1,24.0%,68.0%,8.0%,0.0%,.258,.355,.378,.613,.000,\n",
        "\n",
        "year1961"
       ]
      },
      {
       "output_type": "stream",
       "stream": "stdout",
       "text": [
        "\n",
        "1.,Al Cicotte,1961,MLB,A,15,176,158,17,41,25,8,0,8,73,27,16,1,0,1,4,26.3%,50.5%,15.2%,8.1%,.203,.259,.331,.462,.000,\n",
        "\n",
        "year1962"
       ]
      },
      {
       "output_type": "stream",
       "stream": "stdout",
       "text": [
        "\n",
        "1.,Al Jackson,1962,MLB,A,16,400,367,47,96,70,18,4,4,134,39,23,3,1,6,15,21.3%,66.5%,8.7%,3.8%,.104,.262,.310,.365,.000,\n",
        "\n",
        "year1963"
       ]
      },
      {
       "output_type": "stream",
       "stream": "stdout",
       "text": [
        "\n",
        "1.,Al Downing,1963,MLB,A,11,303,263,19,46,34,8,1,3,65,67,35,0,1,4,11,40.2%,55.5%,4.9%,0.0%,.072,.175,.271,.247,.000,\n",
        "\n",
        "year1964"
       ]
      },
      {
       "output_type": "stream",
       "stream": "stdout",
       "text": [
        "\n",
        "1.,Al Downing,1964,MLB,A,18,488,421,59,99,71,14,3,11,152,100,61,0,2,4,7,40.9%,46.0%,7.1%,7.1%,.126,.235,.331,.361,.000,\n",
        "\n",
        "year1965"
       ]
      },
      {
       "output_type": "stream",
       "stream": "stdout",
       "text": [
        "\n",
        "1.,Al Downing,1965,MLB,A,16,416,349,50,84,68,5,2,9,120,85,58,1,3,5,11,49.2%,45.6%,5.2%,0.5%,.103,.241,.348,.344,.000,\n",
        "\n",
        "year1966"
       ]
      },
      {
       "output_type": "stream",
       "stream": "stdout",
       "text": [
        "\n",
        "1.,Al Closter,1966,MLB,A,1,4,2,0,1,0,1,0,0,2,0,2,0,0,0,0,100.0%,0.0%,0.0%,0.0%,.500,.500,.750,1.000,.000,\n",
        "\n",
        "year1967"
       ]
      },
      {
       "output_type": "stream",
       "stream": "stdout",
       "text": [
        "\n",
        "1.,Al Downing,1967,MLB,A,15,370,324,41,72,53,8,3,8,110,88,38,1,3,4,7,53.8%,42.1%,4.1%,0.0%,.117,.222,.303,.340,.000,\n",
        "\n",
        "year1968"
       ]
      },
      {
       "output_type": "stream",
       "stream": "stdout",
       "text": [
        "\n",
        "1.,Al Downing,1968,MLB,A,11,181,156,14,32,22,6,0,4,50,25,18,1,2,4,3,31.4%,62.9%,5.7%,0.0%,.115,.205,.288,.321,.000,\n",
        "\n",
        "year1969"
       ]
      },
      {
       "output_type": "stream",
       "stream": "stdout",
       "text": [
        "\n",
        "1.,Al Downing,1969,MLB,A,17,292,255,37,69,49,14,0,6,101,45,30,0,1,6,5,42.1%,46.1%,11.2%,2.0%,.125,.271,.346,.396,.000,\n",
        "\n",
        "year1970"
       ]
      },
      {
       "output_type": "stream",
       "stream": "stdout",
       "text": [
        "\n",
        "1.,Al Downing,1970,MLB,A,11,235,198,31,51,34,6,2,9,88,35,29,4,2,2,5,38.8%,50.9%,5.2%,5.2%,.187,.258,.361,.444,.000,\n",
        "\n",
        "year1971"
       ]
      },
      {
       "output_type": "stream",
       "stream": "stdout",
       "text": [
        "\n",
        "1.,Al Closter,1971,MLB,A,10,91,81,13,23,17,4,0,2,33,14,6,1,1,2,1,32.0%,60.0%,6.0%,2.0%,.123,.284,.337,.407,.000,\n",
        "\n",
        "year1972"
       ]
      },
      {
       "output_type": "stream",
       "stream": "stdout",
       "text": [
        "\n",
        "1.,Al Closter,1972,MLB,A,2,12,8,3,2,1,0,0,1,5,2,4,0,0,0,0,25.0%,75.0%,0.0%,0.0%,.375,.250,.500,.625,.000,\n",
        "\n",
        "year1973"
       ]
      },
      {
       "output_type": "stream",
       "stream": "stdout",
       "text": [
        "\n",
        "1.,Adrian Devine,1973,MLB,A,8,54,50,7,16,13,0,2,1,23,7,3,0,0,1,0,28.6%,67.9%,3.6%,0.0%,.140,.320,.358,.460,.000,\n",
        "\n",
        "year1974"
       ]
      },
      {
       "output_type": "stream",
       "stream": "stdout",
       "text": [
        "\n",
        "1.,Al Downing,1974,MLB,A,10,206,177,34,45,31,5,4,5,73,32,22,2,3,2,5,29.2%,59.4%,6.6%,4.7%,.158,.254,.338,.412,.000,\n",
        "\n",
        "year1975"
       ]
      },
      {
       "output_type": "stream",
       "stream": "stdout",
       "text": [
        "\n",
        "1.,Adrian Devine,1975,MLB,A,2,19,15,3,4,3,0,0,1,7,2,3,0,0,1,1,30.0%,60.0%,10.0%,0.0%,.200,.267,.389,.467,.000,\n",
        "\n",
        "year1976"
       ]
      },
      {
       "output_type": "stream",
       "stream": "stdout",
       "text": [
        "\n",
        "1.,Adrian Devine,1976,MLB,A,22,149,133,11,31,29,2,0,0,33,23,10,1,2,3,2,38.8%,48.2%,4.7%,9.4%,.015,.233,.288,.248,.000,\n",
        "\n",
        "year1977"
       ]
      },
      {
       "output_type": "stream",
       "stream": "stdout",
       "text": [
        "\n",
        "1.,Adrian Devine,1977,MLB,A,26,267,235,27,66,52,8,0,6,92,30,18,3,2,9,4,23.5%,71.9%,3.9%,0.7%,.111,.281,.337,.391,.000,\n",
        "\n",
        "year1978"
       ]
      },
      {
       "output_type": "stream",
       "stream": "stdout",
       "text": [
        "\n",
        "1.,Adrian Devine,1978,MLB,A,17,144,128,22,42,32,7,3,0,55,15,11,0,0,5,6,26.0%,63.6%,5.2%,5.2%,.102,.328,.381,.430,.000,\n",
        "\n",
        "year1979"
       ]
      },
      {
       "output_type": "stream",
       "stream": "stdout",
       "text": [
        "\n",
        "1.,Adrian Devine,1979,MLB,A,18,149,131,5,33,25,8,0,0,41,13,13,0,1,4,6,22.8%,56.5%,13.0%,7.6%,.061,.252,.317,.313,.000,\n",
        "\n",
        "year1980"
       ]
      },
      {
       "output_type": "stream",
       "stream": "stdout",
       "text": [
        "\n",
        "1.,Adrian Devine,1980,MLB,A,6,76,69,12,27,21,2,1,3,40,4,5,1,1,0,2,13.6%,68.2%,11.4%,6.8%,.188,.391,.434,.580,.000,\n",
        "\n",
        "year1981"
       ]
      },
      {
       "output_type": "stream",
       "stream": "stdout",
       "text": [
        "\n",
        "1.,Al Holland,1981,MLB,A,23,207,183,14,40,32,5,0,3,54,42,19,1,3,1,3,56.6%,37.7%,4.7%,0.9%,.077,.219,.291,.295,.000,\n",
        "\n",
        "year1982"
       ]
      },
      {
       "output_type": "stream",
       "stream": "stdout",
       "text": [
        "\n",
        "1.,Al Holland,1982,MLB,A,32,289,262,32,62,47,7,1,7,92,45,23,1,2,0,4,44.6%,42.7%,3.8%,8.9%,.115,.237,.299,.351,.000,\n",
        "\n",
        "year1983"
       ]
      },
      {
       "output_type": "stream",
       "stream": "stdout",
       "text": [
        "\n",
        "1.,Al Holland,1983,MLB,A,35,198,181,18,37,18,11,2,6,70,43,15,0,0,2,0,48.5%,35.9%,5.8%,9.7%,.182,.204,.265,.387,.000,\n",
        "\n",
        "year1984"
       ]
      },
      {
       "output_type": "stream",
       "stream": "stdout",
       "text": [
        "\n",
        "1.,Al Holland,1984,MLB,A,38,217,199,19,42,27,5,2,8,75,27,13,0,2,3,2,65.2%,30.4%,2.2%,2.2%,.166,.211,.257,.377,.000,\n",
        "\n",
        "year1985"
       ]
      },
      {
       "output_type": "stream",
       "stream": "stdout",
       "text": [
        "\n",
        "1.,Al Holland,1985,MLB,A,27,145,126,17,35,21,9,0,5,59,22,13,0,3,3,4,69.3%,25.3%,5.3%,0.0%,.190,.278,.338,.468,.000,\n",
        "\n",
        "year1986"
       ]
      },
      {
       "output_type": "stream",
       "stream": "stdout",
       "text": [
        "\n",
        "1.,Al Holland,1986,MLB,A,8,70,68,8,18,12,1,2,3,32,13,2,0,0,0,0,60.5%,37.2%,0.0%,2.3%,.206,.265,.286,.471,.000,\n",
        "\n",
        "year1987"
       ]
      },
      {
       "output_type": "stream",
       "stream": "stdout",
       "text": [
        "\n",
        "1.,Al Holland,1987,MLB,A,3,37,28,10,9,4,4,0,1,16,5,9,0,0,0,0,52.9%,41.2%,5.9%,0.0%,.250,.321,.486,.571,.000,\n",
        "\n",
        "year1988"
       ]
      },
      {
       "output_type": "stream",
       "stream": "stdout",
       "text": [
        "\n",
        "1.,Adam Peterson,1988,MLB,A,1,14,10,5,3,2,1,0,0,4,0,4,0,0,0,0,30.0%,30.0%,20.0%,20.0%,.100,.300,.500,.400,.000,\n",
        "\n",
        "year1989"
       ]
      },
      {
       "output_type": "stream",
       "stream": "stdout",
       "text": [
        "\n",
        "1.,Adam Peterson,1989,MLB,A,1,11,10,2,3,1,1,0,1,7,2,0,0,0,1,0,44.4%,33.3%,11.1%,11.1%,.400,.300,.300,.700,.000,\n",
        "\n",
        "year1990"
       ]
      },
      {
       "output_type": "stream",
       "stream": "stdout",
       "text": [
        "\n",
        "1.,Adam Peterson,1990,MLB,A,12,215,203,31,58,38,9,3,8,97,19,10,1,1,0,6,37.2%,26.7%,25.6%,10.6%,.192,.286,.321,.478,.000,\n",
        "\n",
        "year1991"
       ]
      },
      {
       "output_type": "stream",
       "stream": "stdout",
       "text": [
        "\n",
        "1.,Adam Peterson,1991,MLB,A,6,113,97,18,27,15,6,3,3,48,14,11,0,1,4,4,25.0%,45.5%,22.7%,6.8%,.216,.278,.349,.495,.000,\n",
        "\n",
        "year1992"
       ]
      },
      {
       "output_type": "stream",
       "stream": "stdout",
       "text": [
        "\n",
        "1.,Al Osuna,1992,MLB,A,29,141,111,22,30,19,5,0,6,53,19,25,0,4,1,3,40.2%,23.7%,24.7%,11.3%,.207,.270,.393,.477,.000,\n",
        "\n",
        "year1993"
       ]
      },
      {
       "output_type": "stream",
       "stream": "stdout",
       "text": [
        "\n",
        "1.,Aaron Sele,1993,MLB,A,9,233,203,17,51,37,11,1,2,70,43,22,5,2,1,4,17.2%,54.0%,22.7%,6.1%,.094,.251,.336,.345,.000,\n",
        "\n",
        "year1994"
       ]
      },
      {
       "output_type": "stream",
       "stream": "stdout",
       "text": [
        "\n",
        "1.,A. J. Sager,1994,MLB,A,11,122,106,24,39,29,8,1,1,52,14,9,2,1,4,2,22.7%,61.9%,13.4%,2.1%,.123,.368,.424,.491,.000,\n",
        "\n",
        "year1995"
       ]
      },
      {
       "output_type": "stream",
       "stream": "stdout",
       "text": [
        "\n",
        "1.,,1995,MLB,A,4,17,17,3,7,4,1,1,1,13,2,0,0,0,0,0,13.3%,46.7%,26.7%,13.3%,.353,.412,.412,.765,.000,\n",
        "\n",
        "year1996"
       ]
      },
      {
       "output_type": "stream",
       "stream": "stdout",
       "text": [
        "\n",
        "1.,A. J. Sager,1996,MLB,A,10,205,187,27,54,41,7,0,6,79,28,14,1,1,2,4,17.9%,57.4%,20.4%,4.3%,.134,.289,.340,.422,.000,\n",
        "\n",
        "year1997"
       ]
      },
      {
       "output_type": "stream",
       "stream": "stdout",
       "text": [
        "\n",
        "1.,A. J. Sager,1997,MLB,A,18,159,141,26,44,28,8,1,7,75,22,15,1,1,1,5,26.9%,47.9%,20.2%,5.0%,.220,.312,.380,.532,.000,\n",
        "\n",
        "year1998"
       ]
      },
      {
       "output_type": "stream",
       "stream": "stdout",
       "text": [
        "\n",
        "1.,A. J. Sager,1998,MLB,A,18,156,145,25,47,35,8,1,3,66,15,9,0,1,1,6,15.2%,56.8%,26.5%,1.5%,.131,.324,.361,.455,.000,\n",
        "\n",
        "year1999"
       ]
      },
      {
       "output_type": "stream",
       "stream": "stdout",
       "text": [
        "\n",
        "1.,,1999,MLB,A,7,22,17,4,5,2,2,0,1,10,1,3,0,1,1,0,27.8%,66.7%,0.0%,5.6%,.294,.294,.381,.588,.000,\n",
        "\n",
        "year2000"
       ]
      },
      {
       "output_type": "stream",
       "stream": "stdout",
       "text": [
        "\n",
        "1.,A.j. Burnett,2000,MLB,A,6,168,139,29,46,27,10,4,5,79,19,24,0,2,3,3,39.2%,51.9%,3.8%,5.1%,.237,.331,.424,.568,.324,\n",
        "\n",
        "year2001"
       ]
      },
      {
       "output_type": "stream",
       "stream": "stdout",
       "text": [
        "\n",
        "1.,A.j. Burnett,2001,MLB,A,14,378,323,39,72,49,16,0,7,109,58,46,4,3,2,11,35.4%,51.0%,5.1%,8.6%,.115,.223,.324,.337,.242,\n",
        "\n",
        "year2002"
       ]
      },
      {
       "output_type": "stream",
       "stream": "stdout",
       "text": [
        "\n",
        "1.,A.j. Burnett,2002,MLB,A,15,426,374,54,85,57,17,2,9,133,85,41,4,3,4,10,36.2%,48.8%,7.0%,8.0%,.128,.227,.308,.356,.232,\n",
        "\n",
        "year2003"
       ]
      },
      {
       "output_type": "stream",
       "stream": "stdout",
       "text": [
        "\n",
        "1.,A.j. Burnett,2003,MLB,A,2,51,39,6,9,8,0,1,0,11,11,10,1,0,1,0,20.7%,55.2%,20.7%,3.4%,.051,.231,.400,.282,.286,\n",
        "\n",
        "year2004"
       ]
      },
      {
       "output_type": "stream",
       "stream": "stdout",
       "text": [
        "\n",
        "1.,A.j. Burnett,2004,MLB,A,9,193,182,26,53,36,11,2,4,80,41,9,1,0,1,5,23.2%,56.3%,16.2%,4.2%,.148,.291,.328,.440,.252,\n",
        "\n",
        "year2005"
       ]
      },
      {
       "output_type": "stream",
       "stream": "stdout",
       "text": [
        "\n",
        "1.,A.j. Burnett,2005,MLB,A,19,513,457,65,112,83,17,3,9,162,96,45,3,4,4,15,20.9%,58.0%,16.5%,4.6%,.109,.245,.314,.354,.246,\n",
        "\n",
        "year2006"
       ]
      },
      {
       "output_type": "stream",
       "stream": "stdout",
       "text": [
        "\n",
        "1.,A.j. Burnett,2006,MLB,A,12,326,293,40,75,45,23,0,7,119,65,22,5,3,3,11,24.5%,54.5%,15.9%,5.2%,.150,.256,.316,.406,.241,\n",
        "\n",
        "year2007"
       ]
      },
      {
       "output_type": "stream",
       "stream": "stdout",
       "text": [
        "\n",
        "1.,,2007,MLB,A,9,53,48,16,20,13,2,1,4,36,6,3,2,0,0,1,19.0%,52.4%,28.6%,0.0%,.333,.417,.472,.750,.384,\n",
        "\n",
        "year2008"
       ]
      },
      {
       "output_type": "stream",
       "stream": "stdout",
       "text": [
        "\n",
        "1.,A.j. Burnett,2008,MLB,A,17,470,420,52,98,59,26,1,12,162,102,37,5,2,6,6,25.5%,50.3%,17.8%,6.4%,.152,.233,.302,.386,.245,\n",
        "\n",
        "year2009"
       ]
      },
      {
       "output_type": "stream",
       "stream": "stdout",
       "text": [
        "\n",
        "1.,A.j. Burnett,2009,MLB,A,17,449,397,57,105,70,23,0,12,164,91,45,4,2,1,6,29.1%,44.7%,20.1%,6.1%,.149,.264,.344,.413,.261,\n",
        "\n",
        "year2010"
       ]
      },
      {
       "output_type": "stream",
       "stream": "stdout",
       "text": [
        "\n",
        "1.,A.j. Burnett,2010,MLB,A,19,476,411,73,119,78,25,1,15,191,78,45,11,7,2,17,30.2%,46.3%,17.3%,6.2%,.175,.290,.369,.465,.281,\n",
        "\n",
        "year2011"
       ]
      },
      {
       "output_type": "stream",
       "stream": "stdout",
       "text": [
        "\n",
        "1.,A.j. Burnett,2011,MLB,A,15,350,300,58,86,49,23,2,12,149,69,38,5,6,1,8,22.7%,55.5%,16.8%,5.0%,.210,.287,.370,.497,.319,\n",
        "\n",
        "year2012"
       ]
      },
      {
       "output_type": "stream",
       "stream": "stdout",
       "text": [
        "\n",
        "1.,A.j. Burnett,2012,MLB,A,14,390,345,41,82,57,14,1,10,128,91,35,3,3,4,5,19.9%,55.9%,19.9%,4.2%,.133,.238,.311,.371,.250,\n",
        "\n",
        "year2013"
       ]
      },
      {
       "output_type": "stream",
       "stream": "stdout",
       "text": [
        "\n",
        "1.,A.j. Burnett,2013,MLB,A,16,419,374,53,96,62,25,3,6,145,96,35,6,2,2,9,15.6%,58.5%,23.4%,2.5%,.131,.257,.329,.388,.256,\n",
        "\n",
        "year2014"
       ]
      },
      {
       "output_type": "stream",
       "stream": "stdout",
       "text": [
        "\n",
        "1.,A.j. Achter,2014,MLB,A,2,18,16,2,4,3,0,0,1,7,2,2,0,0,0,0,57.1%,21.4%,14.3%,7.1%,.188,.250,.333,.438,.290,\n",
        "\n"
       ]
      }
     ],
     "prompt_number": 1
    }
   ],
   "metadata": {}
  }
 ]
}