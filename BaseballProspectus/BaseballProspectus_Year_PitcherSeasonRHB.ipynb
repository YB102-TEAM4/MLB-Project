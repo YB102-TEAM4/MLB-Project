{
 "metadata": {
  "name": "",
  "signature": "sha256:1eacf88cebb5d602b517fe969b0270db06dab790924fcf084601f706ac1a83bb"
 },
 "nbformat": 3,
 "nbformat_minor": 0,
 "worksheets": [
  {
   "cells": [
    {
     "cell_type": "code",
     "collapsed": false,
     "input": [
      "#\u9996\u5148Name\u8981\u6392\u5e8f\n",
      "#\u8981\u6ce8\u610f\u7684\u5730\u65b9\u6709\u56db\u500b folder, range, year, page_limit\n",
      "import string, time, requests, os\n",
      "from bs4 import BeautifulSoup\n",
      "headers={\n",
      "    'User-Agent':'Mozilla/5.0 (Windows NT 6.1; WOW64) AppleWebKit/537.36 (KHTML, like Gecko) Chrome/40.0.2214.93 Safari/537.36'\n",
      "}\n",
      "url='http://www.baseballprospectus.com/sortable/index.php'\n",
      "\n",
      "folder='PitcherSeasonRHB'#\u8cc7\u6599\u593e\u540d\u7a31*********************\n",
      "\n",
      "path='Baseball\\\\'+folder #\u8def\u5f91\u540d\u7a31\n",
      "if os.path.exists(path):\n",
      "    print 'folder exists'\n",
      "else:    \n",
      "    os.mkdir(path)\n",
      "    print 'folder not exists'  \n",
      "    \n",
      "for year in range(1950,2015): #2015\u6c92\u7b97\u5230**************\n",
      "    payload={\n",
      "            'mystatslist':'NAME,YEAR,BATTER_BATS,G,PA,AB,H,B1,B2,B3,HR,TB,SO,BB,HBP,SF,SH,DP,FB_PERCENT,GB_PERCENT,LINEDR_PERCENT,POPUP_PERCENT,ISO,AVG,OBP,SLG,TAV_AGAINST',\n",
      "            'category':'pitcher_season_bathand',\n",
      "            'tablename':'dyna_pitcher_season_bathand',\n",
      "            'stage':'data',\n",
      "            'year':'%d'%(year),#*********************\n",
      "            'mystatslist':'NAME,YEAR,BATTER_BATS,G,PA,AB,R,H,B1,B2,B3,HR,TB,SO,BB,HBP,SF,SH,RBI,DP,FB_PERCENT,GB_PERCENT,LINEDR_PERCENT,POPUP_PERCENT,ISO,AVG,OBP,SLG,TAV_AGAINST',\n",
      "            'category':'pitcher_season_bathand',\n",
      "            'tablename':'dyna_pitcher_season_bathand',\n",
      "            'stage':'data',\n",
      "            'group_BATTER_BATS':'R',\n",
      "            'minimum':'0',\n",
      "            'sort1column':'NAME',\n",
      "            'sort1order':'ASC',\n",
      "            'page_limit':'All',#*********************\n",
      "            'tt_team':'*',\n",
      "            'show_ttroster':'1',\n",
      "            'show_ttwatched':'1',\n",
      "            'viewdata':'View Data',\n",
      "        }\n",
      "    res=requests.post(url,data=payload,headers=headers)\n",
      "    soup=BeautifulSoup(res.text.encode('utf-8'))\n",
      "    trList=soup.select('#TTdata tr')\n",
      "    fileName= str(year)+'_'+folder+'.csv'\n",
      "    fid=open(path+'\\\\'+fileName,'w')\n",
      "    for tr in trList:\n",
      "        for td in tr.select('td'):\n",
      "            fid.write(td.text.encode('utf-8')+',')\n",
      "        fid.write('\\n')\n",
      "    fid.close()\n",
      "    fod=open(path+'\\\\'+fileName,'r')\n",
      "    print 'year'+str(year)\n",
      "    print fod.readlines()[1]\n",
      "    fod.close()\n",
      "    time.sleep(2)\n"
     ],
     "language": "python",
     "metadata": {},
     "outputs": [
      {
       "output_type": "stream",
       "stream": "stdout",
       "text": [
        "folder not exists\n",
        "year1950"
       ]
      },
      {
       "output_type": "stream",
       "stream": "stdout",
       "text": [
        "\n",
        "1.,Al Aber,1950,R,1,25,25,5,4,1,0,0,6,4,0,0,0,0,2,25.0%,56.3%,18.8%,0.0%,.040,.200,.200,.240,.000,\n",
        "\n",
        "year1951"
       ]
      },
      {
       "output_type": "stream",
       "stream": "stdout",
       "text": [
        "\n",
        "1.,Al Brazle,1951,R,37,293,247,62,43,11,0,8,97,23,29,4,0,12,5,45.6%,50.0%,3.9%,0.6%,.142,.251,.339,.393,.000,\n",
        "\n",
        "year1952"
       ]
      },
      {
       "output_type": "stream",
       "stream": "stdout",
       "text": [
        "\n",
        "1.,Al Benton,1952,R,23,84,76,20,18,1,0,1,24,13,6,0,0,2,4,37.8%,60.0%,2.2%,0.0%,.053,.263,.317,.316,.000,\n",
        "\n",
        "year1953"
       ]
      },
      {
       "output_type": "stream",
       "stream": "stdout",
       "text": [
        "\n",
        "1.,Al Aber,1953,R,19,220,180,51,39,9,1,2,68,23,35,0,0,5,9,36.0%,63.1%,0.9%,0.0%,.094,.283,.400,.378,.000,\n",
        "\n",
        "year1954"
       ]
      },
      {
       "output_type": "stream",
       "stream": "stdout",
       "text": [
        "\n",
        "1.,Al Aber,1954,R,28,383,342,90,70,9,5,6,127,33,29,2,3,7,9,22.0%,63.8%,3.4%,10.8%,.108,.263,.322,.371,.000,\n",
        "\n",
        "year1955"
       ]
      },
      {
       "output_type": "stream",
       "stream": "stdout",
       "text": [
        "\n",
        "1.,Al Aber,1955,R,36,220,202,53,37,7,3,6,84,21,15,0,1,2,11,32.6%,61.5%,5.2%,0.7%,.153,.262,.312,.416,.000,\n",
        "\n",
        "year1956"
       ]
      },
      {
       "output_type": "stream",
       "stream": "stdout",
       "text": [
        "\n",
        "1.,Al Aber,1956,R,40,196,168,48,40,7,1,0,57,13,20,1,0,7,3,34.8%,55.7%,3.5%,6.1%,.054,.286,.365,.339,.000,\n",
        "\n",
        "year1957"
       ]
      },
      {
       "output_type": "stream",
       "stream": "stdout",
       "text": [
        "\n",
        "1.,Al Aber,1957,R,28,114,99,31,19,6,1,5,54,10,7,1,1,6,4,23.9%,61.2%,6.0%,9.0%,.232,.313,.361,.545,.000,\n",
        "\n",
        "year1958"
       ]
      },
      {
       "output_type": "stream",
       "stream": "stdout",
       "text": [
        "\n",
        "1.,Al Cicotte,1958,R,22,191,169,53,39,9,1,4,76,22,14,0,5,3,6,40.9%,54.5%,3.6%,0.9%,.136,.314,.356,.450,.000,\n",
        "\n",
        "year1959"
       ]
      },
      {
       "output_type": "stream",
       "stream": "stdout",
       "text": [
        "\n",
        "1.,Al Cicotte,1959,R,26,124,100,30,18,6,3,3,51,15,13,1,2,8,5,23.1%,58.5%,3.1%,15.4%,.210,.300,.379,.510,.000,\n",
        "\n",
        "year1960"
       ]
      },
      {
       "output_type": "stream",
       "stream": "stdout",
       "text": [
        "\n",
        "1.,Al Neiger,1960,R,6,39,31,10,5,2,1,2,20,3,3,1,1,3,2,29.2%,58.3%,12.5%,0.0%,.323,.323,.389,.645,.000,\n",
        "\n",
        "year1961"
       ]
      },
      {
       "output_type": "stream",
       "stream": "stdout",
       "text": [
        "\n",
        "1.,Al Cicotte,1961,R,29,217,191,48,30,8,2,8,84,37,20,2,0,4,5,33.6%,54.0%,6.2%,6.2%,.188,.251,.329,.440,.000,\n",
        "\n",
        "year1962"
       ]
      },
      {
       "output_type": "stream",
       "stream": "stdout",
       "text": [
        "\n",
        "1.,Al Cicotte,1962,R,4,13,13,5,5,0,0,0,5,3,0,0,0,0,0,16.7%,16.7%,50.0%,16.7%,.000,.385,.385,.385,.000,\n",
        "\n",
        "year1963"
       ]
      },
      {
       "output_type": "stream",
       "stream": "stdout",
       "text": [
        "\n",
        "1.,Al Downing,1963,R,24,541,473,90,61,22,3,4,130,121,65,0,0,3,16,39.0%,52.7%,7.9%,0.4%,.085,.190,.288,.275,.000,\n",
        "\n",
        "year1964"
       ]
      },
      {
       "output_type": "stream",
       "stream": "stdout",
       "text": [
        "\n",
        "1.,Al Downing,1964,R,37,806,694,156,105,27,8,16,247,173,97,0,7,8,11,39.1%,47.7%,6.4%,7.6%,.131,.225,.317,.356,.000,\n",
        "\n",
        "year1965"
       ]
      },
      {
       "output_type": "stream",
       "stream": "stdout",
       "text": [
        "\n",
        "1.,Al Downing,1965,R,35,738,642,157,117,20,8,12,229,139,84,2,5,5,20,49.6%,43.3%,7.7%,0.3%,.112,.245,.332,.357,.000,\n",
        "\n",
        "year1966"
       ]
      },
      {
       "output_type": "stream",
       "stream": "stdout",
       "text": [
        "\n",
        "1.,Al Closter,1966,R,1,4,2,1,0,1,0,0,2,0,2,0,0,0,0,100.0%,0.0%,0.0%,0.0%,.500,.500,.750,1.000,.000,\n",
        "\n",
        "year1967"
       ]
      },
      {
       "output_type": "stream",
       "stream": "stdout",
       "text": [
        "\n",
        "1.,Al Downing,1967,R,31,638,582,124,99,14,2,9,169,142,43,1,5,7,14,50.8%,45.9%,3.3%,0.0%,.077,.213,.266,.290,.000,\n",
        "\n",
        "year1968"
       ]
      },
      {
       "output_type": "stream",
       "stream": "stdout",
       "text": [
        "\n",
        "1.,Al Downing,1968,R,15,196,175,46,31,9,1,5,72,29,14,1,2,4,3,35.5%,54.2%,9.3%,0.9%,.149,.263,.318,.411,.000,\n",
        "\n",
        "year1969"
       ]
      },
      {
       "output_type": "stream",
       "stream": "stdout",
       "text": [
        "\n",
        "1.,Al Downing,1969,R,30,441,391,101,72,20,1,8,147,68,40,0,5,5,7,43.5%,42.2%,10.1%,4.2%,.118,.258,.323,.376,.000,\n",
        "\n",
        "year1970"
       ]
      },
      {
       "output_type": "stream",
       "stream": "stdout",
       "text": [
        "\n",
        "1.,Al Downing,1970,R,27,475,397,93,65,16,2,10,143,60,64,3,5,6,20,39.8%,50.4%,4.7%,5.5%,.126,.234,.341,.360,.000,\n",
        "\n",
        "year1971"
       ]
      },
      {
       "output_type": "stream",
       "stream": "stdout",
       "text": [
        "\n",
        "1.,Al Closter,1971,R,13,93,80,24,19,2,0,3,35,15,9,1,2,1,1,27.1%,64.6%,6.3%,2.1%,.138,.300,.370,.438,.000,\n",
        "\n",
        "year1972"
       ]
      },
      {
       "output_type": "stream",
       "stream": "stdout",
       "text": [
        "\n",
        "1.,Al Closter,1972,R,2,9,6,2,1,0,0,1,5,2,3,0,0,0,0,50.0%,50.0%,0.0%,0.0%,.500,.333,.556,.833,.000,\n",
        "\n",
        "year1973"
       ]
      },
      {
       "output_type": "stream",
       "stream": "stdout",
       "text": [
        "\n",
        "1.,Adrian Devine,1973,R,23,92,85,29,22,1,1,5,47,13,3,2,0,2,3,26.7%,71.1%,2.2%,0.0%,.212,.341,.378,.553,.000,\n",
        "\n",
        "year1974"
       ]
      },
      {
       "output_type": "stream",
       "stream": "stdout",
       "text": [
        "\n",
        "1.,Al Downing,1974,R,21,353,301,72,54,7,4,7,108,47,40,2,3,7,11,27.3%,59.3%,6.7%,6.7%,.120,.239,.329,.359,.000,\n",
        "\n",
        "year1975"
       ]
      },
      {
       "output_type": "stream",
       "stream": "stdout",
       "text": [
        "\n",
        "1.,Adrian Devine,1975,R,5,36,30,9,7,2,0,0,11,3,4,1,0,1,0,18.2%,63.6%,18.2%,0.0%,.067,.300,.400,.367,.000,\n",
        "\n",
        "year1976"
       ]
      },
      {
       "output_type": "stream",
       "stream": "stdout",
       "text": [
        "\n",
        "1.,Adrian Devine,1976,R,46,202,178,41,38,2,0,1,46,29,15,1,3,5,5,25.0%,63.3%,5.0%,6.7%,.028,.230,.289,.258,.000,\n",
        "\n",
        "year1977"
       ]
      },
      {
       "output_type": "stream",
       "stream": "stdout",
       "text": [
        "\n",
        "1.,Adrian Devine,1977,R,55,259,234,64,49,9,1,5,90,40,14,4,2,5,2,27.3%,67.6%,2.9%,2.2%,.111,.274,.323,.385,.000,\n",
        "\n",
        "year1978"
       ]
      },
      {
       "output_type": "stream",
       "stream": "stdout",
       "text": [
        "\n",
        "1.,Adrian Devine,1978,R,31,175,156,45,34,8,2,1,60,17,13,0,1,5,8,27.2%,64.1%,3.9%,4.9%,.096,.288,.341,.385,.000,\n",
        "\n",
        "year1979"
       ]
      },
      {
       "output_type": "stream",
       "stream": "stdout",
       "text": [
        "\n",
        "1.,Adrian Devine,1979,R,40,182,167,48,35,8,1,4,70,20,10,2,0,3,6,21.2%,61.5%,5.8%,11.5%,.132,.287,.335,.419,.000,\n",
        "\n",
        "year1980"
       ]
      },
      {
       "output_type": "stream",
       "stream": "stdout",
       "text": [
        "\n",
        "1.,Adrian Devine,1980,R,13,77,74,21,20,0,0,1,24,7,2,0,1,0,3,32.7%,53.1%,6.1%,8.2%,.041,.284,.299,.324,.000,\n",
        "\n",
        "year1981"
       ]
      },
      {
       "output_type": "stream",
       "stream": "stdout",
       "text": [
        "\n",
        "1.,Al Holland,1981,R,45,313,270,63,46,12,1,4,89,59,31,2,5,5,1,56.3%,40.0%,2.5%,1.3%,.096,.233,.312,.330,.000,\n",
        "\n",
        "year1982"
       ]
      },
      {
       "output_type": "stream",
       "stream": "stdout",
       "text": [
        "\n",
        "1.,Al Holland,1982,R,54,399,363,92,72,10,3,7,129,60,28,1,2,4,5,44.7%,43.3%,3.2%,8.8%,.102,.253,.307,.355,.000,\n",
        "\n",
        "year1983"
       ]
      },
      {
       "output_type": "stream",
       "stream": "stdout",
       "text": [
        "\n",
        "1.,Al Holland,1983,R,67,276,245,45,26,11,2,6,78,69,26,0,1,4,0,46.3%,33.1%,5.9%,14.7%,.135,.184,.261,.318,.000,\n",
        "\n",
        "year1984"
       ]
      },
      {
       "output_type": "stream",
       "stream": "stdout",
       "text": [
        "\n",
        "1.,Al Holland,1984,R,68,315,286,64,39,12,1,12,114,35,23,0,3,3,5,54.9%,33.2%,6.7%,5.2%,.175,.224,.279,.399,.000,\n",
        "\n",
        "year1985"
       ]
      },
      {
       "output_type": "stream",
       "stream": "stdout",
       "text": [
        "\n",
        "1.,Al Holland,1985,R,53,247,220,47,27,16,0,4,75,41,23,0,1,3,6,64.0%,29.4%,5.1%,1.5%,.127,.214,.287,.341,.000,\n",
        "\n",
        "year1986"
       ]
      },
      {
       "output_type": "stream",
       "stream": "stdout",
       "text": [
        "\n",
        "1.,Al Holland,1986,R,23,122,114,34,23,6,2,3,53,22,5,0,2,1,1,70.8%,27.7%,0.0%,1.5%,.167,.298,.322,.465,.000,\n",
        "\n",
        "year1987"
       ]
      },
      {
       "output_type": "stream",
       "stream": "stdout",
       "text": [
        "\n",
        "1.,Adam Peterson,1987,R,1,10,9,6,5,1,0,0,7,1,1,0,0,0,0,100.0%,0.0%,0.0%,0.0%,.111,.667,.700,.778,.000,\n",
        "\n",
        "year1988"
       ]
      },
      {
       "output_type": "stream",
       "stream": "stdout",
       "text": [
        "\n",
        "1.,Adam Peterson,1988,R,2,19,15,5,4,1,0,0,6,3,4,0,0,0,0,41.7%,33.3%,16.7%,8.3%,.067,.333,.474,.400,.000,\n",
        "\n",
        "year1989"
       ]
      },
      {
       "output_type": "stream",
       "stream": "stdout",
       "text": [
        "\n",
        "1.,Adam Peterson,1989,R,3,17,16,6,5,1,0,0,7,2,0,0,0,1,0,26.7%,6.7%,46.7%,20.0%,.063,.375,.375,.438,.000,\n",
        "\n",
        "year1990"
       ]
      },
      {
       "output_type": "stream",
       "stream": "stdout",
       "text": [
        "\n",
        "1.,Adam Peterson,1990,R,18,202,177,38,27,3,2,6,63,24,20,1,3,1,11,36.8%,27.1%,21.3%,14.8%,.141,.215,.294,.356,.000,\n",
        "\n",
        "year1991"
       ]
      },
      {
       "output_type": "stream",
       "stream": "stdout",
       "text": [
        "\n",
        "1.,Adam Peterson,1991,R,13,112,92,18,15,1,0,2,25,21,15,0,1,4,4,26.3%,47.4%,18.4%,7.9%,.076,.196,.306,.272,.000,\n",
        "\n",
        "year1992"
       ]
      },
      {
       "output_type": "stream",
       "stream": "stdout",
       "text": [
        "\n",
        "1.,Al Leiter,1992,R,1,6,5,1,1,0,0,0,1,0,1,0,0,0,0,20.0%,80.0%,0.0%,0.0%,.000,.200,.333,.200,.000,\n",
        "\n",
        "year1993"
       ]
      },
      {
       "output_type": "stream",
       "stream": "stdout",
       "text": [
        "\n",
        "1.,Aaron Sele,1993,R,18,232,206,51,35,12,1,3,74,50,15,7,3,1,3,23.8%,51.9%,17.5%,6.9%,.112,.248,.316,.359,.000,\n",
        "\n",
        "year1994"
       ]
      },
      {
       "output_type": "stream",
       "stream": "stdout",
       "text": [
        "\n",
        "1.,A. J. Sager,1994,R,22,128,117,38,24,11,1,2,57,15,6,2,1,2,1,23.1%,62.5%,10.6%,3.8%,.162,.325,.365,.487,.000,\n",
        "\n",
        "year1995"
       ]
      },
      {
       "output_type": "stream",
       "stream": "stdout",
       "text": [
        "\n",
        "1.,,1995,R,4,11,9,5,3,0,1,1,10,2,2,0,0,0,0,14.3%,42.9%,42.9%,0.0%,.556,.556,.636,1.111,.000,\n",
        "\n",
        "year1996"
       ]
      },
      {
       "output_type": "stream",
       "stream": "stdout",
       "text": [
        "\n",
        "1.,A. J. Sager,1996,R,22,169,158,46,30,9,1,6,75,29,5,2,2,2,6,17.3%,61.7%,14.3%,6.8%,.184,.291,.317,.475,.000,\n",
        "\n",
        "year1997"
       ]
      },
      {
       "output_type": "stream",
       "stream": "stdout",
       "text": [
        "\n",
        "1.,A. J. Sager,1997,R,37,184,164,42,28,7,2,5,68,22,12,1,4,3,5,26.5%,49.0%,19.7%,4.8%,.159,.256,.304,.415,.000,\n",
        "\n",
        "year1998"
       ]
      },
      {
       "output_type": "stream",
       "stream": "stdout",
       "text": [
        "\n",
        "1.,A. J. Sager,1998,R,30,140,122,42,30,8,0,4,62,13,13,1,2,2,4,14.2%,58.4%,24.8%,2.7%,.164,.344,.406,.508,.000,\n",
        "\n",
        "year1999"
       ]
      },
      {
       "output_type": "stream",
       "stream": "stdout",
       "text": [
        "\n",
        "1.,,1999,R,5,9,7,4,2,1,0,1,8,0,1,0,0,1,0,37.5%,62.5%,0.0%,0.0%,.571,.571,.625,1.143,.000,\n",
        "\n",
        "year2000"
       ]
      },
      {
       "output_type": "stream",
       "stream": "stdout",
       "text": [
        "\n",
        "1.,A.j. Burnett,2000,R,13,182,160,35,19,7,3,6,66,35,14,2,2,4,3,42.7%,43.8%,3.1%,10.4%,.194,.219,.287,.413,.234,\n",
        "\n",
        "year2001"
       ]
      },
      {
       "output_type": "stream",
       "stream": "stdout",
       "text": [
        "\n",
        "1.,A.j. Burnett,2001,R,27,360,305,65,37,12,1,15,124,65,43,4,4,4,11,43.7%,42.6%,3.8%,9.8%,.193,.213,.315,.407,.254,\n",
        "\n",
        "year2002"
       ]
      },
      {
       "output_type": "stream",
       "stream": "stdout",
       "text": [
        "\n",
        "1.,A.j. Burnett,2002,R,31,427,372,66,47,12,0,7,99,102,44,4,2,5,11,38.9%,46.4%,5.2%,10.0%,.089,.177,.270,.266,.190,\n",
        "\n",
        "year2003"
       ]
      },
      {
       "output_type": "stream",
       "stream": "stdout",
       "text": [
        "\n",
        "1.,A.j. Burnett,2003,R,4,51,36,7,5,1,0,1,11,7,10,2,1,2,0,21.9%,56.3%,15.6%,9.4%,.111,.194,.388,.306,.272,\n",
        "\n",
        "year2004"
       ]
      },
      {
       "output_type": "stream",
       "stream": "stdout",
       "text": [
        "\n",
        "1.,A.j. Burnett,2004,R,20,226,199,42,28,8,1,5,67,53,21,1,3,2,6,27.8%,53.6%,12.6%,7.3%,.126,.211,.286,.337,.218,\n",
        "\n",
        "year2005"
       ]
      },
      {
       "output_type": "stream",
       "stream": "stdout",
       "text": [
        "\n",
        "1.,A.j. Burnett,2005,R,32,417,373,93,70,14,3,6,131,91,35,4,2,3,17,20.2%,61.3%,14.3%,4.5%,.102,.249,.319,.351,.243,\n",
        "\n",
        "year2006"
       ]
      },
      {
       "output_type": "stream",
       "stream": "stdout",
       "text": [
        "\n",
        "1.,A.j. Burnett,2006,R,21,264,243,65,37,18,0,10,113,55,12,4,3,2,8,27.1%,52.1%,16.1%,4.7%,.198,.267,.309,.465,.258,\n",
        "\n",
        "year2007"
       ]
      },
      {
       "output_type": "stream",
       "stream": "stdout",
       "text": [
        "\n",
        "1.,,2007,R,15,51,43,16,12,1,0,3,26,5,5,2,0,1,1,25.6%,53.8%,20.5%,0.0%,.233,.372,.460,.605,.369,\n",
        "\n",
        "year2008"
       ]
      },
      {
       "output_type": "stream",
       "stream": "stdout",
       "text": [
        "\n",
        "1.,A.j. Burnett,2008,R,35,411,368,85,57,19,1,8,130,97,35,3,0,5,9,25.7%,50.7%,16.7%,6.9%,.122,.231,.303,.353,.240,\n",
        "\n",
        "year2009"
       ]
      },
      {
       "output_type": "stream",
       "stream": "stdout",
       "text": [
        "\n",
        "1.,A.j. Burnett,2009,R,33,414,362,102,69,19,0,14,163,72,44,5,2,1,8,29.4%,42.3%,20.5%,7.8%,.169,.282,.366,.450,.273,\n",
        "\n",
        "year2010"
       ]
      },
      {
       "output_type": "stream",
       "stream": "stdout",
       "text": [
        "\n",
        "1.,A.j. Burnett,2010,R,33,378,330,94,61,18,1,14,156,72,30,9,6,3,12,32.2%,41.2%,18.7%,7.9%,.188,.285,.355,.473,.270,\n",
        "\n",
        "year2011"
       ]
      },
      {
       "output_type": "stream",
       "stream": "stdout",
       "text": [
        "\n",
        "1.,A.j. Burnett,2011,R,33,397,348,92,51,21,2,18,171,77,38,4,5,2,7,29.1%,47.5%,16.5%,6.8%,.227,.264,.339,.491,.297,\n",
        "\n",
        "year2012"
       ]
      },
      {
       "output_type": "stream",
       "stream": "stdout",
       "text": [
        "\n",
        "1.,A.j. Burnett,2012,R,31,415,376,92,69,16,0,7,129,91,28,3,6,2,15,20.1%,60.1%,17.1%,2.7%,.098,.245,.298,.343,.237,\n",
        "\n",
        "year2013"
       ]
      },
      {
       "output_type": "stream",
       "stream": "stdout",
       "text": [
        "\n",
        "1.,A.j. Burnett,2013,R,30,406,375,76,53,16,0,7,113,120,22,0,2,7,9,20.1%,61.4%,16.3%,2.3%,.099,.203,.246,.301,.199,\n",
        "\n",
        "year2014"
       ]
      },
      {
       "output_type": "stream",
       "stream": "stdout",
       "text": [
        "\n",
        "1.,A.j. Achter,2014,R,7,29,28,7,3,1,1,2,16,4,1,0,0,0,1,41.7%,20.8%,25.0%,12.5%,.321,.250,.276,.571,.273,\n",
        "\n"
       ]
      }
     ],
     "prompt_number": 1
    }
   ],
   "metadata": {}
  }
 ]
}