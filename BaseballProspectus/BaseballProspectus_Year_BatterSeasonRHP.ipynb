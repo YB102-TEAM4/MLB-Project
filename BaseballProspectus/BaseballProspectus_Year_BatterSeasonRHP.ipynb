{
 "metadata": {
  "name": "",
  "signature": "sha256:980ad0dd03fc859651cad9570f7c60851f8e2159072352de9e600c8a5b730ae8"
 },
 "nbformat": 3,
 "nbformat_minor": 0,
 "worksheets": [
  {
   "cells": [
    {
     "cell_type": "code",
     "collapsed": false,
     "input": [
      "#\u9996\u5148Name\u8981\u6392\u5e8f\n",
      "#\u8981\u6ce8\u610f\u7684\u5730\u65b9\u6709\u56db\u500b folder, range, year, page_limit\n",
      "import string, time, requests, os\n",
      "from bs4 import BeautifulSoup\n",
      "headers={\n",
      "    'User-Agent':'Mozilla/5.0 (Windows NT 6.1; WOW64) AppleWebKit/537.36 (KHTML, like Gecko) Chrome/40.0.2214.93 Safari/537.36'\n",
      "}\n",
      "url='http://www.baseballprospectus.com/sortable/index.php'\n",
      "\n",
      "folder='BatterSeasonRHP'#\u8cc7\u6599\u593e\u540d\u7a31*********************\n",
      "\n",
      "path='Baseball\\\\'+folder #\u8def\u5f91\u540d\u7a31\n",
      "if os.path.exists(path):\n",
      "    print 'folder exists'\n",
      "else:    \n",
      "    os.mkdir(path)\n",
      "    print 'folder not exists'  \n",
      "    \n",
      "for year in range(1950,2015): #2015\u6c92\u7b97\u5230**************\n",
      "    payload={            \n",
      "            'mystatslist':'NAME,YEAR,PITCHER_THROWS,G,PA,AB,R,H,B1,B2,B3,HR,TB,SO,BB,HBP,SF,SH,RBI,DP,FB_PERCENT,GB_PERCENT,LINEDR_PERCENT,POPUP_PERCENT,ISO,AVG,OBP,SLG,EQA',\n",
      "            'category':'batter_season_pithand',\n",
      "            'tablename':'dyna_batter_season_pithand',\n",
      "            'stage':'data',\n",
      "            'year':'%d'%(year),#*********************\n",
      "            'mystatslist':'NAME,YEAR,PITCHER_THROWS,G,PA,AB,R,H,B1,B2,B3,HR,TB,SO,BB,HBP,SF,SH,RBI,DP,FB_PERCENT,GB_PERCENT,LINEDR_PERCENT,POPUP_PERCENT,ISO,AVG,OBP,SLG,EQA',\n",
      "            'category':'batter_season_pithand',\n",
      "            'tablename':'dyna_batter_season_pithand',\n",
      "            'stage':'data',\n",
      "            'group_PITCHER_THROWS':'R',\n",
      "            'minimum':'0',\n",
      "            'sort1column':'NAME',\n",
      "            'sort1order':'ASC',\n",
      "            'page_limit':'All',#*********************\n",
      "            'tt_team':'*',\n",
      "            'show_ttroster':'1',\n",
      "            'show_ttwatched':'1',\n",
      "            'viewdata':'View Data',\n",
      "        }\n",
      "    res=requests.post(url,data=payload,headers=headers)\n",
      "    soup=BeautifulSoup(res.text.encode('utf-8'))\n",
      "    trList=soup.select('#TTdata tr')\n",
      "    fileName= str(year)+'_'+folder+'.csv'\n",
      "    fid=open(path+'\\\\'+fileName,'w')\n",
      "    for tr in trList:\n",
      "        for td in tr.select('td'):\n",
      "            fid.write(td.text.encode('utf-8')+',')\n",
      "        fid.write('\\n')\n",
      "    fid.close()\n",
      "    fod=open(path+'\\\\'+fileName,'r')\n",
      "    print 'year'+str(year)\n",
      "    print fod.readlines()[1]\n",
      "    fod.close()\n",
      "    time.sleep(2)\n"
     ],
     "language": "python",
     "metadata": {},
     "outputs": [
      {
       "output_type": "stream",
       "stream": "stdout",
       "text": [
        "folder exists\n",
        "year1950"
       ]
      },
      {
       "output_type": "stream",
       "stream": "stdout",
       "text": [
        "\n",
        "1.,Aaron Robinson,1950,R,66,220,179,22,38,30,2,0,6,58,17,41,0,0,0,22,4,57.3%,34.7%,4.8%,3.2%,.112,.212,.359,.324,.000,\n",
        "\n",
        "year1951"
       ]
      },
      {
       "output_type": "stream",
       "stream": "stdout",
       "text": [
        "\n",
        "1.,Aaron Robinson,1951,R,50,160,131,9,26,20,3,1,2,37,16,29,0,0,0,11,6,49.4%,46.1%,4.5%,0.0%,.084,.198,.344,.282,.000,\n",
        "\n",
        "year1952"
       ]
      },
      {
       "output_type": "stream",
       "stream": "stdout",
       "text": [
        "\n",
        "1.,Al Benton,1952,R,9,10,8,0,0,0,0,0,0,0,4,0,0,0,2,0,2,33.3%,66.7%,0.0%,0.0%,.000,.000,.000,.000,.000,\n",
        "\n",
        "year1953"
       ]
      },
      {
       "output_type": "stream",
       "stream": "stdout",
       "text": [
        "\n",
        "1.,Al Aber,1953,R,10,20,17,0,1,1,0,0,0,1,4,2,0,0,1,1,0,61.5%,38.5%,0.0%,0.0%,.000,.059,.158,.059,.000,\n",
        "\n",
        "year1954"
       ]
      },
      {
       "output_type": "stream",
       "stream": "stdout",
       "text": [
        "\n",
        "1.,Al Aber,1954,R,16,30,24,1,2,2,0,0,0,2,12,2,0,1,3,2,0,7.1%,71.4%,14.3%,7.1%,.000,.083,.148,.083,.000,\n",
        "\n",
        "year1955"
       ]
      },
      {
       "output_type": "stream",
       "stream": "stdout",
       "text": [
        "\n",
        "1.,Al Aber,1955,R,12,15,13,0,1,1,0,0,0,1,5,0,0,0,2,0,2,0.0%,100.0%,0.0%,0.0%,.000,.077,.077,.077,.000,\n",
        "\n",
        "year1956"
       ]
      },
      {
       "output_type": "stream",
       "stream": "stdout",
       "text": [
        "\n",
        "1.,Al Aber,1956,R,6,7,5,0,2,2,0,0,0,2,2,0,0,0,2,0,0,0.0%,100.0%,0.0%,0.0%,.000,.400,.400,.400,.000,\n",
        "\n",
        "year1957"
       ]
      },
      {
       "output_type": "stream",
       "stream": "stdout",
       "text": [
        "\n",
        "1.,Al Aber,1957,R,10,10,9,0,2,2,0,0,0,2,4,1,0,0,0,1,0,0.0%,66.7%,33.3%,0.0%,.000,.222,.300,.222,.000,\n",
        "\n",
        "year1958"
       ]
      },
      {
       "output_type": "stream",
       "stream": "stdout",
       "text": [
        "\n",
        "1.,Al Cicotte,1958,R,10,16,16,1,3,3,0,0,0,3,4,0,0,0,0,0,1,11.1%,66.7%,11.1%,11.1%,.000,.188,.188,.188,.000,\n",
        "\n",
        "year1959"
       ]
      },
      {
       "output_type": "stream",
       "stream": "stdout",
       "text": [
        "\n",
        "1.,Al Cicotte,1959,R,3,4,2,0,1,1,0,0,0,1,0,0,1,0,1,0,0,0.0%,100.0%,0.0%,0.0%,.000,.500,.667,.500,.000,\n",
        "\n",
        "year1960"
       ]
      },
      {
       "output_type": "stream",
       "stream": "stdout",
       "text": [
        "\n",
        "1.,Al Heist,1960,R,22,50,46,4,11,8,2,1,0,15,6,3,0,0,1,1,3,37.5%,40.6%,21.9%,0.0%,.087,.239,.286,.326,.000,\n",
        "\n",
        "year1961"
       ]
      },
      {
       "output_type": "stream",
       "stream": "stdout",
       "text": [
        "\n",
        "1.,Al Cicotte,1961,R,9,15,15,2,6,5,1,0,0,7,4,0,0,0,0,2,0,16.7%,66.7%,16.7%,0.0%,.067,.400,.400,.467,.000,\n",
        "\n",
        "year1962"
       ]
      },
      {
       "output_type": "stream",
       "stream": "stdout",
       "text": [
        "\n",
        "1.,Al Heist,1962,R,13,37,36,2,9,8,1,0,0,10,4,1,0,0,0,1,2,16.0%,44.0%,16.0%,24.0%,.028,.250,.270,.278,.000,\n",
        "\n",
        "year1963"
       ]
      },
      {
       "output_type": "stream",
       "stream": "stdout",
       "text": [
        "\n",
        "1.,Al Downing,1963,R,18,43,40,0,2,2,0,0,0,2,21,1,0,0,2,0,0,47.4%,63.2%,0.0%,0.0%,.000,.050,.073,.050,.000,\n",
        "\n",
        "year1964"
       ]
      },
      {
       "output_type": "stream",
       "stream": "stdout",
       "text": [
        "\n",
        "1.,Adolfo Phillips,1964,R,3,4,2,1,1,1,0,0,0,1,0,1,0,0,1,0,0,50.0%,50.0%,0.0%,0.0%,.000,.500,.667,.500,.000,\n",
        "\n",
        "year1965"
       ]
      },
      {
       "output_type": "stream",
       "stream": "stdout",
       "text": [
        "\n",
        "1.,Adolfo Phillips,1965,R,13,18,17,5,5,3,1,0,1,9,7,1,0,0,0,1,0,16.7%,66.7%,0.0%,16.7%,.235,.294,.333,.529,.000,\n",
        "\n",
        "year1966"
       ]
      },
      {
       "output_type": "stream",
       "stream": "stdout",
       "text": [
        "\n",
        "1.,Aaron Pointer,1966,R,5,7,5,2,1,1,0,0,0,1,2,2,0,0,0,0,0,50.0%,50.0%,0.0%,0.0%,.000,.200,.429,.200,.000,\n",
        "\n",
        "year1967"
       ]
      },
      {
       "output_type": "stream",
       "stream": "stdout",
       "text": [
        "\n",
        "1.,Aaron Pointer,1967,R,18,56,45,4,8,4,3,0,1,14,15,7,1,2,1,8,1,48.0%,48.0%,0.0%,4.0%,.133,.178,.291,.311,.000,\n",
        "\n",
        "year1968"
       ]
      },
      {
       "output_type": "stream",
       "stream": "stdout",
       "text": [
        "\n",
        "1.,Adolfo Phillips,1968,R,121,374,332,35,80,54,12,2,12,132,65,32,4,2,4,26,12,30.0%,51.7%,4.9%,13.8%,.157,.241,.314,.398,.000,\n",
        "\n",
        "year1969"
       ]
      },
      {
       "output_type": "stream",
       "stream": "stdout",
       "text": [
        "\n",
        "1.,Adolfo Phillips,1969,R,57,184,159,21,33,22,5,4,2,52,52,23,1,1,0,5,3,44.9%,41.0%,0.0%,15.4%,.119,.208,.310,.327,.000,\n",
        "\n",
        "year1970"
       ]
      },
      {
       "output_type": "stream",
       "stream": "stdout",
       "text": [
        "\n",
        "1.,Adolfo Phillips,1970,R,33,66,56,9,14,10,2,0,2,22,17,9,1,0,0,8,1,48.1%,33.3%,7.4%,11.1%,.143,.250,.364,.393,.000,\n",
        "\n",
        "year1971"
       ]
      },
      {
       "output_type": "stream",
       "stream": "stdout",
       "text": [
        "\n",
        "1.,Adrian Garrett,1971,R,13,23,19,1,3,2,0,0,1,6,5,4,0,0,0,2,0,45.5%,54.5%,0.0%,0.0%,.158,.158,.304,.316,.000,\n",
        "\n",
        "year1972"
       ]
      },
      {
       "output_type": "stream",
       "stream": "stdout",
       "text": [
        "\n",
        "1.,Adolfo Phillips,1972,R,3,6,5,0,0,0,0,0,0,0,2,1,0,0,0,0,0,66.7%,33.3%,0.0%,0.0%,.000,.000,.167,.000,.000,\n",
        "\n",
        "year1973"
       ]
      },
      {
       "output_type": "stream",
       "stream": "stdout",
       "text": [
        "\n",
        "1.,Adrian Devine,1973,R,2,2,1,0,0,0,0,0,0,0,1,1,0,0,0,0,0,0.0%,0.0%,0.0%,0.0%,.000,.000,.500,.000,.000,\n",
        "\n",
        "year1974"
       ]
      },
      {
       "output_type": "stream",
       "stream": "stdout",
       "text": [
        "\n",
        "1.,Adrian Garrett,1974,R,8,8,7,0,0,0,0,0,0,0,0,1,0,0,0,0,1,28.6%,71.4%,0.0%,0.0%,.000,.000,.125,.000,.000,\n",
        "\n",
        "year1975"
       ]
      },
      {
       "output_type": "stream",
       "stream": "stdout",
       "text": [
        "\n",
        "1.,Adrian Devine,1975,R,2,3,3,0,0,0,0,0,0,0,2,0,0,0,0,0,0,0.0%,100.0%,0.0%,0.0%,.000,.000,.000,.000,.000,\n",
        "\n",
        "year1976"
       ]
      },
      {
       "output_type": "stream",
       "stream": "stdout",
       "text": [
        "\n",
        "1.,Adrian Devine,1976,R,7,10,10,0,0,0,0,0,0,0,3,0,0,0,0,0,0,28.6%,57.1%,0.0%,14.3%,.000,.000,.000,.000,.000,\n",
        "\n",
        "year1977"
       ]
      },
      {
       "output_type": "stream",
       "stream": "stdout",
       "text": [
        "\n",
        "1.,Al Bumbry,1977,R,111,415,381,50,127,94,30,1,2,165,63,31,1,2,0,26,6,34.3%,58.6%,5.6%,1.5%,.100,.333,.383,.433,.000,\n",
        "\n",
        "year1978"
       ]
      },
      {
       "output_type": "stream",
       "stream": "stdout",
       "text": [
        "\n",
        "1.,Adrian Devine,1978,R,4,8,7,0,1,1,0,0,0,1,2,0,0,0,1,1,0,0.0%,80.0%,20.0%,0.0%,.000,.143,.143,.143,.000,\n",
        "\n",
        "year1979"
       ]
      },
      {
       "output_type": "stream",
       "stream": "stdout",
       "text": [
        "\n",
        "1.,Adrian Devine,1979,R,4,5,5,0,0,0,0,0,0,0,4,0,0,0,0,0,0,0.0%,100.0%,0.0%,0.0%,.000,.000,.000,.000,.000,\n",
        "\n",
        "year1980"
       ]
      },
      {
       "output_type": "stream",
       "stream": "stdout",
       "text": [
        "\n",
        "1.,Al Bumbry,1980,R,134,503,439,90,149,111,23,8,7,209,47,54,2,2,6,38,8,24.9%,64.0%,7.7%,3.4%,.137,.339,.412,.476,.000,\n",
        "\n",
        "year1981"
       ]
      },
      {
       "output_type": "stream",
       "stream": "stdout",
       "text": [
        "\n",
        "1.,Al Bumbry,1981,R,92,329,294,47,79,63,13,2,1,99,35,29,2,1,3,15,5,28.5%,64.8%,4.1%,2.6%,.068,.269,.337,.337,.000,\n",
        "\n",
        "year1982"
       ]
      },
      {
       "output_type": "stream",
       "stream": "stdout",
       "text": [
        "\n",
        "1.,Al Bumbry,1982,R,135,486,442,62,120,94,19,3,4,157,60,35,0,1,8,29,8,37.1%,57.5%,4.6%,0.7%,.084,.271,.324,.355,.000,\n",
        "\n",
        "year1983"
       ]
      },
      {
       "output_type": "stream",
       "stream": "stdout",
       "text": [
        "\n",
        "1.,Al Bumbry,1983,R,113,401,365,58,102,81,14,4,3,133,32,29,0,3,4,28,4,31.4%,58.3%,6.2%,4.1%,.085,.279,.330,.364,.000,\n",
        "\n",
        "year1984"
       ]
      },
      {
       "output_type": "stream",
       "stream": "stdout",
       "text": [
        "\n",
        "1.,Al Bumbry,1984,R,102,371,341,45,93,77,12,1,3,116,32,25,0,3,2,24,14,43.2%,56.8%,0.0%,0.0%,.067,.273,.320,.340,.000,\n",
        "\n",
        "year1985"
       ]
      },
      {
       "output_type": "stream",
       "stream": "stdout",
       "text": [
        "\n",
        "1.,Al Bumbry,1985,R,64,94,87,4,19,15,3,0,1,25,8,6,0,0,1,10,5,41.0%,57.4%,0.0%,1.6%,.069,.218,.269,.287,.000,\n",
        "\n",
        "year1986"
       ]
      },
      {
       "output_type": "stream",
       "stream": "stdout",
       "text": [
        "\n",
        "1.,Al Cowens,1986,R,25,73,68,4,11,9,2,0,0,13,13,3,0,1,1,5,3,32.0%,58.0%,10.0%,0.0%,.029,.162,.194,.191,.000,\n",
        "\n",
        "year1987"
       ]
      },
      {
       "output_type": "stream",
       "stream": "stdout",
       "text": [
        "\n",
        "1.,Al Newman,1987,R,79,239,213,27,38,31,5,2,0,47,15,20,0,1,5,18,4,25.4%,60.1%,11.9%,2.6%,.042,.178,.248,.221,.000,\n",
        "\n",
        "year1988"
       ]
      },
      {
       "output_type": "stream",
       "stream": "stdout",
       "text": [
        "\n",
        "1.,Al Newman,1988,R,74,216,191,26,46,40,6,0,0,52,25,21,0,0,4,13,3,16.0%,59.8%,20.1%,4.1%,.031,.241,.316,.272,.000,\n",
        "\n",
        "year1989"
       ]
      },
      {
       "output_type": "stream",
       "stream": "stdout",
       "text": [
        "\n",
        "1.,Al Newman,1989,R,108,333,283,46,72,63,7,2,0,83,24,41,1,3,5,21,5,17.6%,58.8%,18.7%,4.9%,.039,.254,.348,.293,.000,\n",
        "\n",
        "year1990"
       ]
      },
      {
       "output_type": "stream",
       "stream": "stdout",
       "text": [
        "\n",
        "1.,Al Newman,1990,R,111,292,265,28,63,55,8,0,0,71,20,18,2,2,5,24,4,17.1%,59.0%,17.1%,6.8%,.030,.238,.289,.268,.000,\n",
        "\n",
        "year1991"
       ]
      },
      {
       "output_type": "stream",
       "stream": "stdout",
       "text": [
        "\n",
        "1.,Adam Peterson,1991,R,8,14,11,0,0,0,0,0,0,0,7,2,0,0,1,0,0,0.0%,80.0%,0.0%,20.0%,.000,.000,.154,.000,.000,\n",
        "\n",
        "year1992"
       ]
      },
      {
       "output_type": "stream",
       "stream": "stdout",
       "text": [
        "\n",
        "1.,Al Martin,1992,R,8,11,10,1,2,1,0,1,0,4,4,0,0,1,0,2,0,28.6%,57.1%,14.3%,0.0%,.200,.200,.182,.400,.000,\n",
        "\n",
        "year1993"
       ]
      },
      {
       "output_type": "stream",
       "stream": "stdout",
       "text": [
        "\n",
        "1.,Al Martin,1993,R,128,425,391,74,118,73,21,7,17,204,95,31,1,2,0,56,6,26.7%,42.9%,19.9%,10.5%,.220,.302,.353,.522,.000,\n",
        "\n",
        "year1994"
       ]
      },
      {
       "output_type": "stream",
       "stream": "stdout",
       "text": [
        "\n",
        "1.,A. J. Sager,1994,R,6,6,5,0,1,0,0,1,0,3,2,0,0,0,1,2,0,25.0%,50.0%,0.0%,25.0%,.400,.200,.200,.600,.000,\n",
        "\n",
        "year1995"
       ]
      },
      {
       "output_type": "stream",
       "stream": "stdout",
       "text": [
        "\n",
        "1.,A. J. Sager,1995,R,2,2,2,0,0,0,0,0,0,0,1,0,0,0,0,0,0,0.0%,100.0%,0.0%,0.0%,.000,.000,.000,.000,.000,\n",
        "\n",
        "year1996"
       ]
      },
      {
       "output_type": "stream",
       "stream": "stdout",
       "text": [
        "\n",
        "1.,Al Leiter,1996,R,28,57,47,2,5,5,0,0,0,5,28,4,0,0,6,1,1,4.0%,80.0%,12.0%,4.0%,.000,.106,.176,.106,.000,\n",
        "\n",
        "year1997"
       ]
      },
      {
       "output_type": "stream",
       "stream": "stdout",
       "text": [
        "\n",
        "1.,Aaron Boone,1997,R,13,40,38,3,8,7,1,0,0,9,5,1,0,0,1,5,2,25.0%,56.3%,12.5%,6.3%,.026,.211,.231,.237,.000,\n",
        "\n",
        "year1998"
       ]
      },
      {
       "output_type": "stream",
       "stream": "stdout",
       "text": [
        "\n",
        "1.,A.j. Hinch,1998,R,93,288,246,24,58,47,5,0,6,81,70,25,4,4,9,27,1,23.8%,50.8%,16.9%,8.5%,.093,.236,.312,.329,.000,\n",
        "\n",
        "year1999"
       ]
      },
      {
       "output_type": "stream",
       "stream": "stdout",
       "text": [
        "\n",
        "1.,A.j. Burnett,1999,R,6,13,13,1,2,2,0,0,0,2,7,0,0,0,0,0,0,33.3%,66.7%,0.0%,0.0%,.000,.154,.154,.154,.000,\n",
        "\n",
        "year2000"
       ]
      },
      {
       "output_type": "stream",
       "stream": "stdout",
       "text": [
        "\n",
        "1.,A.j. Burnett,2000,R,11,24,20,1,4,2,1,1,0,7,9,3,0,0,1,2,0,37.5%,50.0%,0.0%,12.5%,.150,.200,.304,.350,.224,\n",
        "\n",
        "year2001"
       ]
      },
      {
       "output_type": "stream",
       "stream": "stdout",
       "text": [
        "\n",
        "1.,A.j. Burnett,2001,R,20,42,36,0,4,3,1,0,0,5,17,1,0,0,5,0,0,35.0%,45.0%,5.0%,15.0%,.028,.111,.135,.139,.114,\n",
        "\n",
        "year2002"
       ]
      },
      {
       "output_type": "stream",
       "stream": "stdout",
       "text": [
        "\n",
        "1.,A.j. Burnett,2002,R,23,55,46,1,6,3,2,0,1,11,20,4,0,0,5,3,1,20.0%,64.0%,8.0%,8.0%,.109,.130,.200,.239,.173,\n",
        "\n",
        "year2003"
       ]
      },
      {
       "output_type": "stream",
       "stream": "stdout",
       "text": [
        "\n",
        "1.,A.j. Burnett,2003,R,4,8,6,0,1,1,0,0,0,1,3,2,0,0,0,0,0,33.3%,33.3%,33.3%,0.0%,.000,.167,.375,.167,.223,\n",
        "\n",
        "year2004"
       ]
      },
      {
       "output_type": "stream",
       "stream": "stdout",
       "text": [
        "\n",
        "1.,A.j. Burnett,2004,R,13,23,17,2,1,1,0,0,0,1,7,0,0,0,6,0,1,12.5%,75.0%,6.3%,12.5%,.000,.059,.059,.059,.064,\n",
        "\n",
        "year2005"
       ]
      },
      {
       "output_type": "stream",
       "stream": "stdout",
       "text": [
        "\n",
        "1.,A.j. Burnett,2005,R,28,64,57,2,10,5,2,2,1,19,26,1,0,0,6,2,1,24.3%,70.3%,13.5%,2.7%,.158,.175,.190,.333,.192,\n",
        "\n",
        "year2006"
       ]
      },
      {
       "output_type": "stream",
       "stream": "stdout",
       "text": [
        "\n",
        "1.,A.j. Pierzynski,2006,R,128,393,368,53,112,77,20,0,15,177,50,18,5,1,1,50,11,27.8%,44.1%,19.7%,8.4%,.177,.304,.344,.481,.257,\n",
        "\n",
        "year2007"
       ]
      },
      {
       "output_type": "stream",
       "stream": "stdout",
       "text": [
        "\n",
        "1.,A.j. Pierzynski,2007,R,125,393,365,43,97,67,21,0,9,145,49,19,7,2,0,37,15,26.1%,43.4%,20.4%,10.1%,.132,.266,.313,.397,.241,\n",
        "\n",
        "year2008"
       ]
      },
      {
       "output_type": "stream",
       "stream": "stdout",
       "text": [
        "\n",
        "1.,A.j. Burnett,2008,R,2,4,3,0,0,0,0,0,0,0,1,0,0,0,1,0,0,0.0%,100.0%,0.0%,0.0%,.000,.000,.000,.000,.069,\n",
        "\n",
        "year2009"
       ]
      },
      {
       "output_type": "stream",
       "stream": "stdout",
       "text": [
        "\n",
        "1.,A.j. Burnett,2009,R,2,5,5,0,1,1,0,0,0,1,1,0,0,0,0,0,0,50.0%,0.0%,0.0%,50.0%,.000,.200,.200,.200,.124,\n",
        "\n",
        "year2010"
       ]
      },
      {
       "output_type": "stream",
       "stream": "stdout",
       "text": [
        "\n",
        "1.,A.j. Burnett,2010,R,2,3,1,0,0,0,0,0,0,0,1,0,0,0,2,0,0,0.0%,100.0%,0.0%,0.0%,.000,.000,.000,.000,.152,\n",
        "\n",
        "year2011"
       ]
      },
      {
       "output_type": "stream",
       "stream": "stdout",
       "text": [
        "\n",
        "1.,A.j. Burnett,2011,R,1,3,2,0,0,0,0,0,0,0,2,0,0,0,1,0,0,0.0%,100.0%,0.0%,0.0%,.000,.000,.000,.000,.081,\n",
        "\n",
        "year2012"
       ]
      },
      {
       "output_type": "stream",
       "stream": "stdout",
       "text": [
        "\n",
        "1.,A.j. Burnett,2012,R,27,61,53,1,4,4,0,0,0,4,27,3,0,0,5,2,1,0.0%,80.6%,12.9%,6.5%,.000,.075,.125,.075,.121,\n",
        "\n",
        "year2013"
       ]
      },
      {
       "output_type": "stream",
       "stream": "stdout",
       "text": [
        "\n",
        "1.,A.j. Burnett,2013,R,26,58,50,1,4,4,0,0,0,4,29,2,0,0,6,1,1,7.4%,81.5%,7.4%,3.7%,.000,.080,.115,.080,.097,\n",
        "\n",
        "year2014"
       ]
      },
      {
       "output_type": "stream",
       "stream": "stdout",
       "text": [
        "\n",
        "1.,A.j. Burnett,2014,R,23,50,46,3,3,2,1,0,0,4,20,2,0,0,2,0,2,17.9%,64.3%,7.1%,10.7%,.022,.065,.104,.087,.087,\n",
        "\n"
       ]
      }
     ],
     "prompt_number": 3
    }
   ],
   "metadata": {}
  }
 ]
}