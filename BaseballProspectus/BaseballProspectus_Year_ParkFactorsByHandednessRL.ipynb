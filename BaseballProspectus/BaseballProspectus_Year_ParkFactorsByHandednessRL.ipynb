{
 "metadata": {
  "name": "",
  "signature": "sha256:830a53c8e88e95bbbbe09d242651a49200f4918e33b169d12db40c5df8c73b20"
 },
 "nbformat": 3,
 "nbformat_minor": 0,
 "worksheets": [
  {
   "cells": [
    {
     "cell_type": "code",
     "collapsed": false,
     "input": [
      "#\u9996\u5148Name\u8981\u6392\u5e8f\n",
      "#\u8981\u6ce8\u610f\u7684\u5730\u65b9\u6709\u56db\u500b folder, range, year, page_limit\n",
      "import string, time, requests, os\n",
      "from bs4 import BeautifulSoup\n",
      "headers={\n",
      "    'User-Agent':'Mozilla/5.0 (Windows NT 6.1; WOW64) AppleWebKit/537.36 (KHTML, like Gecko) Chrome/40.0.2214.93 Safari/537.36'\n",
      "}\n",
      "url='http://www.baseballprospectus.com/sortable/index.php'\n",
      "\n",
      "folder='ParkFactorsByHandednessRL'#\u8cc7\u6599\u593e\u540d\u7a31*********************\n",
      "\n",
      "path='Baseball\\\\'+folder #\u8def\u5f91\u540d\u7a31\n",
      "if os.path.exists(path):\n",
      "    print 'folder exists'\n",
      "else:    \n",
      "    os.mkdir(path)\n",
      "    print 'folder not exists'  \n",
      "    \n",
      "for year in range(1950,2015): #2015\u6c92\u7b97\u5230**************\n",
      "    payload={\n",
      "            'mystatslist':'YEAR,LVL,LG,TEAM,SIDE,TEAM_PA_H,TEAM_PA_A,TEAM_HR_H,TEAM_HR_A,TEAM_FB_RATIO_ADJ,TEAM_GB_RATIO_ADJ,TEAM_LINEDR_RATIO_ADJ,TEAM_POPUP_RATIO_ADJ,TEAM_B1_RATIO_ADJ,TEAM_B2_RATIO_ADJ,TEAM_B3_RATIO_ADJ,TEAM_HR_RATIO_ADJ,TEAM_R_RATIO_ADJ',\n",
      "            'category':'team_pf_ratios',\n",
      "            'tablename':'dyna_team_pf_ratios',\n",
      "            'stage':'data',\n",
      "            'year':'%d'%(year),#*********************\n",
      "            'mystatslist':'YEAR,LVL,LG,TEAM,SIDE,TEAM_PA_H,TEAM_PA_A,TEAM_HR_H,TEAM_HR_A,TEAM_FB_RATIO_ADJ,TEAM_GB_RATIO_ADJ,TEAM_LINEDR_RATIO_ADJ,TEAM_POPUP_RATIO_ADJ,TEAM_B1_RATIO_ADJ,TEAM_B2_RATIO_ADJ,TEAM_B3_RATIO_ADJ,TEAM_HR_RATIO_ADJ,TEAM_R_RATIO_ADJ',\n",
      "            'category':'team_pf_ratios',\n",
      "            'tablename':'dyna_team_pf_ratios',\n",
      "            'stage':'data',\n",
      "            'group_LVL':'mlb',\n",
      "            'group_SIDE':'*',\n",
      "            'minimum':'0',\n",
      "            'sort1column':'TEAM',\n",
      "            'sort1order':'ASC',\n",
      "            'page_limit':'All',#*********************\n",
      "            'glossary_terms':'*',\n",
      "            'viewdata':'View Data',\n",
      "        }\n",
      "    res=requests.post(url,data=payload,headers=headers)\n",
      "    soup=BeautifulSoup(res.text.encode('utf-8'))\n",
      "    trList=soup.select('#TTdata tr')\n",
      "    fileName= str(year)+'_'+folder+'.csv'\n",
      "    fid=open(path+'\\\\'+fileName,'w')\n",
      "    for tr in trList:\n",
      "        for td in tr.select('td'):\n",
      "            fid.write(td.text.encode('utf-8')+',')\n",
      "        fid.write('\\n')\n",
      "    fid.close()\n",
      "    fod=open(path+'\\\\'+fileName,'r')\n",
      "    print 'year'+str(year)\n",
      "    print fod.readlines()[1]\n",
      "    fod.close()\n",
      "    time.sleep(2)\n"
     ],
     "language": "python",
     "metadata": {},
     "outputs": [
      {
       "output_type": "stream",
       "stream": "stdout",
       "text": [
        "folder not exists\n",
        "year1950"
       ]
      },
      {
       "output_type": "stream",
       "stream": "stdout",
       "text": [
        "\n",
        "1.,1950,mlb,AL,BOS,RHB,3745,2853,120,54,100,92,110,87,102,123,94,130,115,\n",
        "\n",
        "year1951"
       ]
      },
      {
       "output_type": "stream",
       "stream": "stdout",
       "text": [
        "\n",
        "1.,1951,mlb,AL,BOS,RHB,3708,3772,100,53,97,99,86,74,99,106,81,140,104,\n",
        "\n",
        "year1952"
       ]
      },
      {
       "output_type": "stream",
       "stream": "stdout",
       "text": [
        "\n",
        "1.,1952,mlb,AL,BOS,RHB,4073,3668,99,69,96,98,98,102,102,116,106,113,108,\n",
        "\n",
        "year1953"
       ]
      },
      {
       "output_type": "stream",
       "stream": "stdout",
       "text": [
        "\n",
        "1.,1953,mlb,AL,BOS,LHB,1686,1848,28,27,102,99,106,100,100,112,88,106,109,\n",
        "\n",
        "year1954"
       ]
      },
      {
       "output_type": "stream",
       "stream": "stdout",
       "text": [
        "\n",
        "1.,1954,mlb,AL,BAL,RHB,3508,3471,27,50,100,97,98,100,99,98,81,77,92,\n",
        "\n",
        "year1955"
       ]
      },
      {
       "output_type": "stream",
       "stream": "stdout",
       "text": [
        "\n",
        "1.,1955,mlb,AL,BAL,RHB,3803,3715,38,69,101,102,96,393,101,94,88,78,90,\n",
        "\n",
        "year1956"
       ]
      },
      {
       "output_type": "stream",
       "stream": "stdout",
       "text": [
        "\n",
        "1.,1956,mlb,AL,BAL,RHB,3728,3855,57,76,100,101,104,92,98,91,110,89,95,\n",
        "\n",
        "year1957"
       ]
      },
      {
       "output_type": "stream",
       "stream": "stdout",
       "text": [
        "\n",
        "1.,1957,mlb,AL,BAL,RHB,3745,3812,46,78,102,103,95,83,99,91,114,81,93,\n",
        "\n",
        "year1958"
       ]
      },
      {
       "output_type": "stream",
       "stream": "stdout",
       "text": [
        "\n",
        "1.,1958,mlb,AL,BAL,RHB,3642,3723,49,96,106,99,110,95,97,100,75,77,89,\n",
        "\n",
        "year1959"
       ]
      },
      {
       "output_type": "stream",
       "stream": "stdout",
       "text": [
        "\n",
        "1.,1959,mlb,AL,BAL,RHB,3590,3694,77,80,100,101,102,95,96,96,125,100,99,\n",
        "\n",
        "year1960"
       ]
      },
      {
       "output_type": "stream",
       "stream": "stdout",
       "text": [
        "\n",
        "1.,1960,mlb,AL,BAL,RHB,3770,3823,61,87,104,100,95,55,104,101,91,86,99,\n",
        "\n",
        "year1961"
       ]
      },
      {
       "output_type": "stream",
       "stream": "stdout",
       "text": [
        "\n",
        "1.,1961,mlb,AL,BAL,RHB,4031,4222,66,87,94,102,109,111,98,105,114,90,99,\n",
        "\n",
        "year1962"
       ]
      },
      {
       "output_type": "stream",
       "stream": "stdout",
       "text": [
        "\n",
        "1.,1962,mlb,AL,BAL,LHB,2504,2457,57,77,103,98,109,111,96,104,113,87,89,\n",
        "\n",
        "year1963"
       ]
      },
      {
       "output_type": "stream",
       "stream": "stdout",
       "text": [
        "\n",
        "1.,1963,mlb,AL,BAL,RHB,3880,3929,76,90,96,101,101,103,104,99,98,93,93,\n",
        "\n",
        "year1964"
       ]
      },
      {
       "output_type": "stream",
       "stream": "stdout",
       "text": [
        "\n",
        "1.,1964,mlb,AL,BAL,LHB,2146,1925,54,56,101,97,102,91,102,119,76,94,98,\n",
        "\n",
        "year1965"
       ]
      },
      {
       "output_type": "stream",
       "stream": "stdout",
       "text": [
        "\n",
        "1.,1965,mlb,AL,BAL,LHB,2147,2239,53,45,99,94,116,102,104,107,96,111,105,\n",
        "\n",
        "year1966"
       ]
      },
      {
       "output_type": "stream",
       "stream": "stdout",
       "text": [
        "\n",
        "1.,1966,mlb,NL,ATL,LHB,1735,1790,63,29,99,96,109,123,103,92,80,157,113,\n",
        "\n",
        "year1967"
       ]
      },
      {
       "output_type": "stream",
       "stream": "stdout",
       "text": [
        "\n",
        "1.,1967,mlb,NL,ATL,LHB,1653,1615,44,22,106,100,88,135,92,102,117,144,100,\n",
        "\n",
        "year1968"
       ]
      },
      {
       "output_type": "stream",
       "stream": "stdout",
       "text": [
        "\n",
        "1.,1968,mlb,NL,ATL,RHB,3783,3743,63,60,101,102,94,93,99,94,84,102,94,\n",
        "\n",
        "year1969"
       ]
      },
      {
       "output_type": "stream",
       "stream": "stdout",
       "text": [
        "\n",
        "1.,1969,mlb,NL,ATL,RHB,4240,4194,124,100,102,99,87,105,101,98,83,111,99,\n",
        "\n",
        "year1970"
       ]
      },
      {
       "output_type": "stream",
       "stream": "stdout",
       "text": [
        "\n",
        "1.,1970,mlb,NL,ATL,RHB,4181,4179,162,101,97,106,79,88,98,88,76,128,105,\n",
        "\n",
        "year1971"
       ]
      },
      {
       "output_type": "stream",
       "stream": "stdout",
       "text": [
        "\n",
        "1.,1971,mlb,NL,ATL,RHB,3772,3553,118,77,102,101,95,104,102,93,81,121,110,\n",
        "\n",
        "year1972"
       ]
      },
      {
       "output_type": "stream",
       "stream": "stdout",
       "text": [
        "\n",
        "1.,1972,mlb,NL,ATL,RHB,3718,3798,110,88,104,100,94,92,100,83,118,113,106,\n",
        "\n",
        "year1973"
       ]
      },
      {
       "output_type": "stream",
       "stream": "stdout",
       "text": [
        "\n",
        "1.,1973,mlb,NL,ATL,LHB,2699,2818,72,55,102,98,95,101,106,106,88,117,114,\n",
        "\n",
        "year1974"
       ]
      },
      {
       "output_type": "stream",
       "stream": "stdout",
       "text": [
        "\n",
        "1.,1974,mlb,NL,ATL,LHB,2651,2658,40,41,101,103,89,84,103,83,82,99,97,\n",
        "\n",
        "year1975"
       ]
      },
      {
       "output_type": "stream",
       "stream": "stdout",
       "text": [
        "\n",
        "1.,1975,mlb,NL,ATL,LHB,2637,2586,57,36,104,98,104,106,99,111,94,126,105,\n",
        "\n",
        "year1976"
       ]
      },
      {
       "output_type": "stream",
       "stream": "stdout",
       "text": [
        "\n",
        "1.,1976,mlb,NL,ATL,LHB,2390,2410,35,28,98,100,91,104,105,110,73,112,113,\n",
        "\n",
        "year1977"
       ]
      },
      {
       "output_type": "stream",
       "stream": "stdout",
       "text": [
        "\n",
        "1.,1977,mlb,NL,ATL,LHB,2233,2179,74,32,102,96,103,90,102,105,75,158,120,\n",
        "\n",
        "year1978"
       ]
      },
      {
       "output_type": "stream",
       "stream": "stdout",
       "text": [
        "\n",
        "1.,1978,mlb,NL,ATL,LHB,1950,1941,38,23,94,102,112,109,106,100,95,131,107,\n",
        "\n",
        "year1979"
       ]
      },
      {
       "output_type": "stream",
       "stream": "stdout",
       "text": [
        "\n",
        "1.,1979,mlb,NL,ATL,LHB,1869,1837,35,23,94,101,104,146,103,104,82,124,111,\n",
        "\n",
        "year1980"
       ]
      },
      {
       "output_type": "stream",
       "stream": "stdout",
       "text": [
        "\n",
        "1.,1980,mlb,NL,ATL,LHB,1800,1857,47,22,103,101,98,93,96,83,63,157,90,\n",
        "\n",
        "year1981"
       ]
      },
      {
       "output_type": "stream",
       "stream": "stdout",
       "text": [
        "\n",
        "1.,1981,mlb,NL,ATL,LHB,1532,1783,23,19,98,104,99,95,99,109,91,119,100,\n",
        "\n",
        "year1982"
       ]
      },
      {
       "output_type": "stream",
       "stream": "stdout",
       "text": [
        "\n",
        "1.,1982,mlb,NL,ATL,LHB,2374,2416,54,37,98,100,152,86,106,105,89,123,101,\n",
        "\n",
        "year1983"
       ]
      },
      {
       "output_type": "stream",
       "stream": "stdout",
       "text": [
        "\n",
        "1.,1983,mlb,NL,ATL,LHB,2355,2328,45,39,99,98,93,157,111,102,115,107,107,\n",
        "\n",
        "year1984"
       ]
      },
      {
       "output_type": "stream",
       "stream": "stdout",
       "text": [
        "\n",
        "1.,1984,mlb,NL,ATL,LHB,2447,2302,60,36,101,103,117,58,101,105,105,127,110,\n",
        "\n",
        "year1985"
       ]
      },
      {
       "output_type": "stream",
       "stream": "stdout",
       "text": [
        "\n",
        "1.,1985,mlb,NL,ATL,LHB,2462,2219,46,39,95,103,181,58,104,101,80,103,99,\n",
        "\n",
        "year1986"
       ]
      },
      {
       "output_type": "stream",
       "stream": "stdout",
       "text": [
        "\n",
        "1.,1986,mlb,NL,ATL,LHB,2381,2293,54,24,106,106,125,81,97,97,82,154,105,\n",
        "\n",
        "year1987"
       ]
      },
      {
       "output_type": "stream",
       "stream": "stdout",
       "text": [
        "\n",
        "1.,1987,mlb,NL,ATL,LHB,2822,2649,55,58,107,102,106,115,104,107,107,95,104,\n",
        "\n",
        "year1988"
       ]
      },
      {
       "output_type": "stream",
       "stream": "stdout",
       "text": [
        "\n",
        "1.,1988,mlb,NL,ATL,RHB,3613,3609,78,64,108,96,110,89,102,103,122,110,101,\n",
        "\n",
        "year1989"
       ]
      },
      {
       "output_type": "stream",
       "stream": "stdout",
       "text": [
        "\n",
        "1.,1989,mlb,NL,ATL,RHB,3604,3651,86,83,103,99,100,109,101,99,105,102,100,\n",
        "\n",
        "year1990"
       ]
      },
      {
       "output_type": "stream",
       "stream": "stdout",
       "text": [
        "\n",
        "1.,1990,mlb,NL,ATL,LHB,2316,2344,58,41,92,102,114,106,107,103,85,121,116,\n",
        "\n",
        "year1991"
       ]
      },
      {
       "output_type": "stream",
       "stream": "stdout",
       "text": [
        "\n",
        "1.,1991,mlb,NL,ATL,LHB,2380,2325,59,38,112,102,91,106,105,105,83,125,120,\n",
        "\n",
        "year1992"
       ]
      },
      {
       "output_type": "stream",
       "stream": "stdout",
       "text": [
        "\n",
        "1.,1992,mlb,NL,ATL,LHB,2661,2732,54,49,103,95,106,95,101,101,82,106,103,\n",
        "\n",
        "year1993"
       ]
      },
      {
       "output_type": "stream",
       "stream": "stdout",
       "text": [
        "\n",
        "1.,1993,mlb,NL,ATL,LHB,2829,2785,72,57,105,100,98,102,105,98,99,112,104,\n",
        "\n",
        "year1994"
       ]
      },
      {
       "output_type": "stream",
       "stream": "stdout",
       "text": [
        "\n",
        "1.,1994,mlb,NL,ATL,LHB,1802,1903,48,57,108,94,107,104,101,100,95,95,98,\n",
        "\n",
        "year1995"
       ]
      },
      {
       "output_type": "stream",
       "stream": "stdout",
       "text": [
        "\n",
        "1.,1995,mlb,NL,ATL,LHB,2252,2191,82,45,110,98,99,105,103,94,81,136,116,\n",
        "\n",
        "year1996"
       ]
      },
      {
       "output_type": "stream",
       "stream": "stdout",
       "text": [
        "\n",
        "1.,1996,mlb,NL,ATL,LHB,2647,2584,81,59,108,99,102,102,97,100,106,116,111,\n",
        "\n",
        "year1997"
       ]
      },
      {
       "output_type": "stream",
       "stream": "stdout",
       "text": [
        "\n",
        "1.,1997,mlb,AL,ANA,LHB,3058,2936,92,65,106,99,96,96,99,109,89,117,105,\n",
        "\n",
        "year1998"
       ]
      },
      {
       "output_type": "stream",
       "stream": "stdout",
       "text": [
        "\n",
        "1.,1998,mlb,AL,ANA,LHB,2824,2791,61,83,107,102,89,89,101,94,121,87,95,\n",
        "\n",
        "year1999"
       ]
      },
      {
       "output_type": "stream",
       "stream": "stdout",
       "text": [
        "\n",
        "1.,1999,mlb,AL,ANA,LHB,2911,2883,89,66,105,97,102,94,97,101,158,116,100,\n",
        "\n",
        "year2000"
       ]
      },
      {
       "output_type": "stream",
       "stream": "stdout",
       "text": [
        "\n",
        "1.,2000,mlb,AL,ANA,LHB,3219,3205,105,110,98,101,104,93,103,105,76,98,99,\n",
        "\n",
        "year2001"
       ]
      },
      {
       "output_type": "stream",
       "stream": "stdout",
       "text": [
        "\n",
        "1.,2001,mlb,AL,ANA,LHB,2909,2824,64,68,101,100,100,101,105,106,88,96,107,\n",
        "\n",
        "year2002"
       ]
      },
      {
       "output_type": "stream",
       "stream": "stdout",
       "text": [
        "\n",
        "1.,2002,mlb,AL,ANA,LHB,2908,2882,63,81,101,99,106,98,99,99,100,89,95,\n",
        "\n",
        "year2003"
       ]
      },
      {
       "output_type": "stream",
       "stream": "stdout",
       "text": [
        "\n",
        "1.,2003,mlb,AL,ANA,LHB,2954,2826,74,96,102,101,96,97,100,97,82,87,90,\n",
        "\n",
        "year2004"
       ]
      },
      {
       "output_type": "stream",
       "stream": "stdout",
       "text": [
        "\n",
        "1.,2004,mlb,AL,ANA,RHB,3349,3459,98,105,98,101,101,103,107,93,78,98,96,\n",
        "\n",
        "year2005"
       ]
      },
      {
       "output_type": "stream",
       "stream": "stdout",
       "text": [
        "\n",
        "1.,2005,mlb,AL,ANA,LHB,3042,3250,59,74,108,102,85,105,96,103,101,93,96,\n",
        "\n",
        "year2006"
       ]
      },
      {
       "output_type": "stream",
       "stream": "stdout",
       "text": [
        "\n",
        "1.,2006,mlb,AL,ANA,LHB,2641,2711,57,77,106,101,93,90,109,91,89,88,91,\n",
        "\n",
        "year2007"
       ]
      },
      {
       "output_type": "stream",
       "stream": "stdout",
       "text": [
        "\n",
        "1.,2007,mlb,AL,ANA,RHB,3562,3275,82,79,107,100,93,107,102,104,76,98,102,\n",
        "\n",
        "year2008"
       ]
      },
      {
       "output_type": "stream",
       "stream": "stdout",
       "text": [
        "\n",
        "1.,2008,mlb,AL,ANA,LHB,2692,2706,63,70,110,103,90,95,104,106,100,95,94,\n",
        "\n",
        "year2009"
       ]
      },
      {
       "output_type": "stream",
       "stream": "stdout",
       "text": [
        "\n",
        "1.,2009,mlb,AL,ANA,RHB,3423,3466,115,89,113,99,89,104,100,102,83,115,105,\n",
        "\n",
        "year2010"
       ]
      },
      {
       "output_type": "stream",
       "stream": "stdout",
       "text": [
        "\n",
        "1.,2010,mlb,AL,ANA,RHB,3575,3527,84,101,105,101,91,103,100,94,73,91,96,\n",
        "\n",
        "year2011"
       ]
      },
      {
       "output_type": "stream",
       "stream": "stdout",
       "text": [
        "\n",
        "1.,2011,mlb,AL,ANA,LHB,2639,2646,41,54,111,101,83,98,100,89,88,88,89,\n",
        "\n",
        "year2012"
       ]
      },
      {
       "output_type": "stream",
       "stream": "stdout",
       "text": [
        "\n",
        "1.,2012,mlb,AL,ANA,RHB,3745,3957,112,146,108,98,97,111,100,96,92,91,92,\n",
        "\n",
        "year2013"
       ]
      },
      {
       "output_type": "stream",
       "stream": "stdout",
       "text": [
        "\n",
        "1.,2013,mlb,AL,ANA,LHB,2667,2661,59,63,101,100,98,94,98,101,116,97,108,\n",
        "\n",
        "year2014"
       ]
      },
      {
       "output_type": "stream",
       "stream": "stdout",
       "text": [
        "\n",
        "1.,2014,mlb,AL,ANA,LHB,2494,2561,42,61,99,103,97,92,103,100,69,86,96,\n",
        "\n"
       ]
      }
     ],
     "prompt_number": 1
    }
   ],
   "metadata": {}
  }
 ]
}