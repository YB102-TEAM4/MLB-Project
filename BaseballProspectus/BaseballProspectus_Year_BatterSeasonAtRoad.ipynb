{
 "metadata": {
  "name": "",
  "signature": "sha256:5a5674bc91bf82efb13e865657e334f6876cd7d0d1bb62dead64afe7c2b2a003"
 },
 "nbformat": 3,
 "nbformat_minor": 0,
 "worksheets": [
  {
   "cells": [
    {
     "cell_type": "code",
     "collapsed": false,
     "input": [
      "#\u9996\u5148Name\u8981\u6392\u5e8f\n",
      "#\u8981\u6ce8\u610f\u7684\u5730\u65b9\u6709\u56db\u500b folder, range, year, page_limit\n",
      "import string, time, requests, os\n",
      "from bs4 import BeautifulSoup\n",
      "headers={\n",
      "    'User-Agent':'Mozilla/5.0 (Windows NT 6.1; WOW64) AppleWebKit/537.36 (KHTML, like Gecko) Chrome/40.0.2214.93 Safari/537.36'\n",
      "}\n",
      "url='http://www.baseballprospectus.com/sortable/index.php'\n",
      "\n",
      "folder='BatterSeasonAtRoad'#\u8cc7\u6599\u593e\u540d\u7a31*********************\n",
      "\n",
      "path='Baseball\\\\'+folder #\u8def\u5f91\u540d\u7a31\n",
      "if os.path.exists(path):\n",
      "    print 'folder exists'\n",
      "else:    \n",
      "    os.mkdir(path)\n",
      "    print 'folder not exists'  \n",
      "    \n",
      "for year in range(1950,2015): #2015\u6c92\u7b97\u5230**************\n",
      "    payload={            \n",
      "            'mystatslist':'NAME,YEAR,LVL,HOME_AWAY,G,PA,AB,R,H,B1,B2,B3,HR,TB,SO,BB,HBP,SF,SH,RBI,DP,FB_PERCENT,GB_PERCENT,LINEDR_PERCENT,POPUP_PERCENT,ISO,AVG,OBP,SLG,EQA',\n",
      "            'category':'batter_season_homeaway',\n",
      "            'tablename':'dyna_batter_season_homeaway',\n",
      "            'stage':'data',\n",
      "            'year':'%d'%(year),#*********************\n",
      "            'mystatslist':'NAME,YEAR,LVL,HOME_AWAY,G,PA,AB,R,H,B1,B2,B3,HR,TB,SO,BB,HBP,SF,SH,RBI,DP,FB_PERCENT,GB_PERCENT,LINEDR_PERCENT,POPUP_PERCENT,ISO,AVG,OBP,SLG,EQA',\n",
      "            'category':'batter_season_homeaway',\n",
      "            'tablename':'dyna_batter_season_homeaway',\n",
      "            'stage':'data',\n",
      "            'group_HOME_AWAY':'A',\n",
      "            'group_LVL':'MLB',\n",
      "            'minimum':'0',\n",
      "            'sort1column':'NAME',\n",
      "            'sort1order':'ASC',\n",
      "            'page_limit':'All',#*********************\n",
      "            'tt_team':'*',\n",
      "            'show_ttroster':'1',\n",
      "            'show_ttwatched':'1',\n",
      "            'viewdata':'View Data',\n",
      "        }\n",
      "    res=requests.post(url,data=payload,headers=headers)\n",
      "    soup=BeautifulSoup(res.text.encode('utf-8'))\n",
      "    trList=soup.select('#TTdata tr')\n",
      "    fileName= str(year)+'_'+folder+'.csv'\n",
      "    fid=open(path+'\\\\'+fileName,'w')\n",
      "    for tr in trList:\n",
      "        for td in tr.select('td'):\n",
      "            fid.write(td.text.encode('utf-8')+',')\n",
      "        fid.write('\\n')\n",
      "    fid.close()\n",
      "    fod=open(path+'\\\\'+fileName,'r')\n",
      "    print 'year'+str(year)\n",
      "    print fod.readlines()[1]\n",
      "    fod.close()\n",
      "    time.sleep(2)\n"
     ],
     "language": "python",
     "metadata": {},
     "outputs": [
      {
       "output_type": "stream",
       "stream": "stdout",
       "text": [
        "folder exists\n",
        "year1950"
       ]
      },
      {
       "output_type": "stream",
       "stream": "stdout",
       "text": [
        "\n",
        "1.,Aaron Robinson,1950,MLB,A,43,159,132,22,28,20,4,0,4,44,15,27,0,0,0,16,2,52.8%,39.3%,5.6%,2.2%,.121,.212,.346,.333,.000,\n",
        "\n",
        "year1951"
       ]
      },
      {
       "output_type": "stream",
       "stream": "stdout",
       "text": [
        "\n",
        "1.,Aaron Robinson,1951,MLB,A,32,105,88,5,21,15,4,1,1,30,10,17,0,0,0,9,4,47.4%,49.1%,3.5%,0.0%,.102,.239,.362,.341,.000,\n",
        "\n",
        "year1952"
       ]
      },
      {
       "output_type": "stream",
       "stream": "stdout",
       "text": [
        "\n",
        "1.,Al Benton,1952,MLB,A,6,7,6,0,0,0,0,0,0,0,3,0,0,0,1,0,2,25.0%,75.0%,0.0%,0.0%,.000,.000,.000,.000,.000,\n",
        "\n",
        "year1953"
       ]
      },
      {
       "output_type": "stream",
       "stream": "stdout",
       "text": [
        "\n",
        "1.,Al Aber,1953,MLB,A,10,20,17,1,2,2,0,0,0,2,5,2,0,0,1,1,0,63.6%,36.4%,0.0%,0.0%,.000,.118,.211,.118,.000,\n",
        "\n",
        "year1954"
       ]
      },
      {
       "output_type": "stream",
       "stream": "stdout",
       "text": [
        "\n",
        "1.,Al Aber,1954,MLB,A,7,22,20,1,2,2,0,0,0,2,11,0,0,0,2,0,0,0.0%,100.0%,0.0%,0.0%,.000,.100,.100,.100,.000,\n",
        "\n",
        "year1955"
       ]
      },
      {
       "output_type": "stream",
       "stream": "stdout",
       "text": [
        "\n",
        "1.,Al Aber,1955,MLB,A,7,9,9,0,1,1,0,0,0,1,4,0,0,0,0,0,2,0.0%,100.0%,0.0%,0.0%,.000,.111,.111,.111,.000,\n",
        "\n",
        "year1956"
       ]
      },
      {
       "output_type": "stream",
       "stream": "stdout",
       "text": [
        "\n",
        "1.,Al Aber,1956,MLB,A,5,6,5,0,2,2,0,0,0,2,2,0,0,0,1,0,0,0.0%,100.0%,0.0%,0.0%,.000,.400,.400,.400,.000,\n",
        "\n",
        "year1957"
       ]
      },
      {
       "output_type": "stream",
       "stream": "stdout",
       "text": [
        "\n",
        "1.,Al Aber,1957,MLB,A,3,3,2,0,0,0,0,0,0,0,1,1,0,0,0,0,0,0.0%,0.0%,100.0%,0.0%,.000,.000,.333,.000,.000,\n",
        "\n",
        "year1958"
       ]
      },
      {
       "output_type": "stream",
       "stream": "stdout",
       "text": [
        "\n",
        "1.,Al Cicotte,1958,MLB,A,8,16,16,1,4,4,0,0,0,4,5,0,0,0,0,0,1,28.6%,57.1%,14.3%,0.0%,.000,.250,.250,.250,.000,\n",
        "\n",
        "year1959"
       ]
      },
      {
       "output_type": "stream",
       "stream": "stdout",
       "text": [
        "\n",
        "1.,Al Cicotte,1959,MLB,A,4,5,3,0,1,1,0,0,0,1,1,0,1,0,1,0,0,0.0%,100.0%,0.0%,0.0%,.000,.333,.500,.333,.000,\n",
        "\n",
        "year1960"
       ]
      },
      {
       "output_type": "stream",
       "stream": "stdout",
       "text": [
        "\n",
        "1.,Al Heist,1960,MLB,A,21,64,56,8,18,12,3,2,1,28,8,7,0,0,1,3,3,36.4%,42.4%,18.2%,3.0%,.179,.321,.397,.500,.000,\n",
        "\n",
        "year1961"
       ]
      },
      {
       "output_type": "stream",
       "stream": "stdout",
       "text": [
        "\n",
        "1.,Al Cicotte,1961,MLB,A,7,12,12,1,4,3,1,0,0,5,3,0,0,0,0,2,0,40.0%,60.0%,0.0%,0.0%,.083,.333,.333,.417,.000,\n",
        "\n",
        "year1962"
       ]
      },
      {
       "output_type": "stream",
       "stream": "stdout",
       "text": [
        "\n",
        "1.,Al Heist,1962,MLB,A,13,42,40,2,8,8,0,0,0,8,6,1,1,0,0,0,4,16.7%,53.3%,23.3%,6.7%,.000,.200,.238,.200,.000,\n",
        "\n",
        "year1963"
       ]
      },
      {
       "output_type": "stream",
       "stream": "stdout",
       "text": [
        "\n",
        "1.,Al Downing,1963,MLB,A,10,31,28,3,4,3,1,0,0,5,13,1,0,0,2,2,0,38.5%,69.2%,0.0%,0.0%,.036,.143,.172,.179,.000,\n",
        "\n",
        "year1964"
       ]
      },
      {
       "output_type": "stream",
       "stream": "stdout",
       "text": [
        "\n",
        "1.,Adolfo Phillips,1964,MLB,A,4,10,7,2,2,2,0,0,0,2,1,2,0,0,1,0,0,60.0%,40.0%,0.0%,0.0%,.000,.286,.444,.286,.000,\n",
        "\n",
        "year1965"
       ]
      },
      {
       "output_type": "stream",
       "stream": "stdout",
       "text": [
        "\n",
        "1.,Adolfo Phillips,1965,MLB,A,20,61,56,11,12,7,4,0,1,19,21,4,0,0,1,1,0,24.0%,68.0%,8.0%,0.0%,.125,.214,.267,.339,.000,\n",
        "\n",
        "year1966"
       ]
      },
      {
       "output_type": "stream",
       "stream": "stdout",
       "text": [
        "\n",
        "1.,Aaron Pointer,1966,MLB,A,5,19,18,2,5,4,0,0,1,8,5,1,0,0,0,3,0,50.0%,37.5%,12.5%,0.0%,.167,.278,.316,.444,.000,\n",
        "\n",
        "year1967"
       ]
      },
      {
       "output_type": "stream",
       "stream": "stdout",
       "text": [
        "\n",
        "1.,Aaron Pointer,1967,MLB,A,9,33,28,2,5,3,1,0,1,9,10,2,1,1,1,4,1,40.0%,53.3%,0.0%,6.7%,.143,.179,.250,.321,.000,\n",
        "\n",
        "year1968"
       ]
      },
      {
       "output_type": "stream",
       "stream": "stdout",
       "text": [
        "\n",
        "1.,Adolfo Phillips,1968,MLB,A,65,232,211,21,45,32,6,1,6,71,47,17,2,1,1,17,7,31.2%,56.8%,1.6%,11.2%,.123,.213,.277,.336,.000,\n",
        "\n",
        "year1969"
       ]
      },
      {
       "output_type": "stream",
       "stream": "stdout",
       "text": [
        "\n",
        "1.,Adolfo Phillips,1969,MLB,A,46,171,150,15,33,25,5,3,0,44,46,21,0,0,0,1,1,42.5%,39.7%,1.4%,16.4%,.073,.220,.316,.293,.000,\n",
        "\n",
        "year1970"
       ]
      },
      {
       "output_type": "stream",
       "stream": "stdout",
       "text": [
        "\n",
        "1.,Adolfo Phillips,1970,MLB,A,39,131,112,21,32,23,5,2,2,47,21,17,1,1,0,11,4,41.0%,39.3%,1.6%,18.0%,.134,.286,.382,.420,.000,\n",
        "\n",
        "year1971"
       ]
      },
      {
       "output_type": "stream",
       "stream": "stdout",
       "text": [
        "\n",
        "1.,Adrian Garrett,1971,MLB,A,6,19,15,1,3,2,0,0,1,6,5,4,0,0,0,2,0,28.6%,71.4%,0.0%,0.0%,.200,.200,.368,.400,.000,\n",
        "\n",
        "year1972"
       ]
      },
      {
       "output_type": "stream",
       "stream": "stdout",
       "text": [
        "\n",
        "1.,Adolfo Phillips,1972,MLB,A,3,6,5,1,0,0,0,0,0,0,2,1,0,0,0,0,0,66.7%,33.3%,0.0%,0.0%,.000,.000,.167,.000,.000,\n",
        "\n",
        "year1973"
       ]
      },
      {
       "output_type": "stream",
       "stream": "stdout",
       "text": [
        "\n",
        "1.,Adrian Devine,1973,MLB,A,1,2,2,0,1,1,0,0,0,1,1,0,0,0,0,0,0,0.0%,0.0%,0.0%,0.0%,.000,.500,.500,.500,.000,\n",
        "\n",
        "year1974"
       ]
      },
      {
       "output_type": "stream",
       "stream": "stdout",
       "text": [
        "\n",
        "1.,Adrian Garrett,1974,MLB,A,4,4,4,0,0,0,0,0,0,0,0,0,0,0,0,0,1,50.0%,50.0%,0.0%,0.0%,.000,.000,.000,.000,.000,\n",
        "\n",
        "year1975"
       ]
      },
      {
       "output_type": "stream",
       "stream": "stdout",
       "text": [
        "\n",
        "1.,Adrian Devine,1975,MLB,A,1,1,1,0,0,0,0,0,0,0,0,0,0,0,0,0,0,0.0%,100.0%,0.0%,0.0%,.000,.000,.000,.000,.000,\n",
        "\n",
        "year1976"
       ]
      },
      {
       "output_type": "stream",
       "stream": "stdout",
       "text": [
        "\n",
        "1.,Adrian Devine,1976,MLB,A,7,9,9,0,0,0,0,0,0,0,3,0,0,0,0,0,0,16.7%,66.7%,0.0%,16.7%,.000,.000,.000,.000,.000,\n",
        "\n",
        "year1977"
       ]
      },
      {
       "output_type": "stream",
       "stream": "stdout",
       "text": [
        "\n",
        "1.,Al Bumbry,1977,MLB,A,55,249,235,28,77,57,18,1,1,100,32,12,1,1,0,26,3,28.1%,65.6%,2.3%,3.9%,.098,.328,.361,.426,.000,\n",
        "\n",
        "year1978"
       ]
      },
      {
       "output_type": "stream",
       "stream": "stdout",
       "text": [
        "\n",
        "1.,Adrian Devine,1978,MLB,A,3,6,6,0,0,0,0,0,0,0,2,0,0,0,0,0,0,50.0%,50.0%,0.0%,0.0%,.000,.000,.000,.000,.000,\n",
        "\n",
        "year1979"
       ]
      },
      {
       "output_type": "stream",
       "stream": "stdout",
       "text": [
        "\n",
        "1.,Adrian Devine,1979,MLB,A,4,5,5,0,0,0,0,0,0,0,4,0,0,0,0,0,0,0.0%,100.0%,0.0%,0.0%,.000,.000,.000,.000,.000,\n",
        "\n",
        "year1980"
       ]
      },
      {
       "output_type": "stream",
       "stream": "stdout",
       "text": [
        "\n",
        "1.,Al Bumbry,1980,MLB,A,81,378,338,52,105,79,16,7,3,144,37,32,1,2,5,22,5,23.9%,65.1%,6.7%,4.8%,.115,.311,.370,.426,.000,\n",
        "\n",
        "year1981"
       ]
      },
      {
       "output_type": "stream",
       "stream": "stdout",
       "text": [
        "\n",
        "1.,Al Bumbry,1981,MLB,A,47,214,184,30,46,37,7,2,0,57,17,26,1,1,2,10,5,28.7%,65.9%,2.3%,3.1%,.060,.250,.344,.310,.000,\n",
        "\n",
        "year1982"
       ]
      },
      {
       "output_type": "stream",
       "stream": "stdout",
       "text": [
        "\n",
        "1.,Al Bumbry,1982,MLB,A,74,314,292,35,79,64,11,3,1,99,43,17,0,1,4,18,8,37.5%,56.8%,4.0%,1.7%,.068,.271,.310,.339,.000,\n",
        "\n",
        "year1983"
       ]
      },
      {
       "output_type": "stream",
       "stream": "stdout",
       "text": [
        "\n",
        "1.,Al Bumbry,1983,MLB,A,57,198,181,28,42,31,9,1,1,56,13,15,0,1,1,9,3,31.0%,56.6%,6.2%,6.2%,.077,.232,.289,.309,.000,\n",
        "\n",
        "year1984"
       ]
      },
      {
       "output_type": "stream",
       "stream": "stdout",
       "text": [
        "\n",
        "1.,Al Bumbry,1984,MLB,A,52,194,173,24,48,40,4,1,3,63,15,17,0,2,2,15,4,43.0%,57.0%,0.0%,0.0%,.087,.277,.339,.364,.000,\n",
        "\n",
        "year1985"
       ]
      },
      {
       "output_type": "stream",
       "stream": "stdout",
       "text": [
        "\n",
        "1.,Al Bumbry,1985,MLB,A,34,66,60,4,17,13,3,0,1,23,5,5,0,0,1,8,2,46.2%,53.8%,0.0%,0.0%,.100,.283,.338,.383,.000,\n",
        "\n",
        "year1986"
       ]
      },
      {
       "output_type": "stream",
       "stream": "stdout",
       "text": [
        "\n",
        "1.,Al Cowens,1986,MLB,A,16,53,48,4,8,7,1,0,0,9,11,3,0,1,1,2,1,38.2%,52.9%,8.8%,0.0%,.021,.167,.212,.188,.000,\n",
        "\n",
        "year1987"
       ]
      },
      {
       "output_type": "stream",
       "stream": "stdout",
       "text": [
        "\n",
        "1.,Al Newman,1987,MLB,A,44,169,154,17,32,23,7,2,0,43,12,10,0,1,4,9,5,27.3%,62.5%,8.6%,1.6%,.071,.208,.255,.279,.000,\n",
        "\n",
        "year1988"
       ]
      },
      {
       "output_type": "stream",
       "stream": "stdout",
       "text": [
        "\n",
        "1.,Al Newman,1988,MLB,A,45,149,132,19,28,25,3,0,0,31,20,13,0,0,4,10,2,19.0%,56.0%,24.1%,0.9%,.023,.212,.283,.235,.000,\n",
        "\n",
        "year1989"
       ]
      },
      {
       "output_type": "stream",
       "stream": "stdout",
       "text": [
        "\n",
        "1.,Al Newman,1989,MLB,A,64,257,222,25,55,42,12,1,0,69,26,27,1,2,5,24,5,17.2%,58.6%,17.2%,6.9%,.063,.248,.329,.311,.000,\n",
        "\n",
        "year1990"
       ]
      },
      {
       "output_type": "stream",
       "stream": "stdout",
       "text": [
        "\n",
        "1.,Al Newman,1990,MLB,A,62,204,189,16,42,36,6,0,0,48,21,10,1,0,4,11,4,19.3%,52.6%,16.4%,11.7%,.032,.222,.265,.254,.000,\n",
        "\n",
        "year1991"
       ]
      },
      {
       "output_type": "stream",
       "stream": "stdout",
       "text": [
        "\n",
        "1.,Adam Peterson,1991,MLB,A,5,9,7,0,0,0,0,0,0,0,5,2,0,0,0,0,0,0.0%,100.0%,0.0%,0.0%,.000,.000,.222,.000,.000,\n",
        "\n",
        "year1992"
       ]
      },
      {
       "output_type": "stream",
       "stream": "stdout",
       "text": [
        "\n",
        "1.,Al Martin,1992,MLB,A,4,8,7,1,1,0,0,1,0,3,3,0,0,1,0,1,0,40.0%,60.0%,0.0%,0.0%,.286,.143,.125,.429,.000,\n",
        "\n",
        "year1993"
       ]
      },
      {
       "output_type": "stream",
       "stream": "stdout",
       "text": [
        "\n",
        "1.,Al Martin,1993,MLB,A,66,248,227,39,66,46,14,3,3,95,50,17,1,2,1,20,5,22.9%,46.4%,20.1%,10.6%,.128,.291,.340,.419,.000,\n",
        "\n",
        "year1994"
       ]
      },
      {
       "output_type": "stream",
       "stream": "stdout",
       "text": [
        "\n",
        "1.,A. J. Sager,1994,MLB,A,7,8,7,0,1,0,0,1,0,3,2,0,0,0,1,2,0,16.7%,50.0%,0.0%,33.3%,.286,.143,.143,.429,.000,\n",
        "\n",
        "year1995"
       ]
      },
      {
       "output_type": "stream",
       "stream": "stdout",
       "text": [
        "\n",
        "1.,A. J. Sager,1995,MLB,A,1,1,1,0,0,0,0,0,0,0,1,0,0,0,0,0,0,0.0%,0.0%,0.0%,0.0%,.000,.000,.000,.000,.000,\n",
        "\n",
        "year1996"
       ]
      },
      {
       "output_type": "stream",
       "stream": "stdout",
       "text": [
        "\n",
        "1.,Al Leiter,1996,MLB,A,16,37,32,2,4,4,0,0,0,4,20,1,0,0,4,1,0,0.0%,81.3%,12.5%,6.3%,.000,.125,.152,.125,.000,\n",
        "\n",
        "year1997"
       ]
      },
      {
       "output_type": "stream",
       "stream": "stdout",
       "text": [
        "\n",
        "1.,Aaron Boone,1997,MLB,A,13,48,45,4,11,10,1,0,0,12,4,2,0,0,1,5,2,22.5%,52.5%,17.5%,7.5%,.022,.244,.277,.267,.000,\n",
        "\n",
        "year1998"
       ]
      },
      {
       "output_type": "stream",
       "stream": "stdout",
       "text": [
        "\n",
        "1.,A. J. Sager,1998,MLB,A,1,1,1,0,0,0,0,0,0,0,0,0,0,0,0,0,0,0.0%,100.0%,0.0%,0.0%,.000,.000,.000,.000,.000,\n",
        "\n",
        "year1999"
       ]
      },
      {
       "output_type": "stream",
       "stream": "stdout",
       "text": [
        "\n",
        "1.,A.j. Burnett,1999,MLB,A,5,12,12,1,2,2,0,0,0,2,7,0,0,0,0,0,0,40.0%,60.0%,0.0%,0.0%,.000,.167,.167,.167,.000,\n",
        "\n",
        "year2000"
       ]
      },
      {
       "output_type": "stream",
       "stream": "stdout",
       "text": [
        "\n",
        "1.,A.j. Burnett,2000,MLB,A,6,15,12,1,4,4,0,0,0,4,4,1,0,0,2,1,0,33.3%,66.7%,0.0%,0.0%,.000,.333,.385,.333,.249,\n",
        "\n",
        "year2001"
       ]
      },
      {
       "output_type": "stream",
       "stream": "stdout",
       "text": [
        "\n",
        "1.,A.j. Burnett,2001,MLB,A,12,30,27,0,1,0,1,0,0,2,14,1,0,0,2,0,0,35.7%,57.1%,7.1%,7.1%,.037,.037,.071,.074,.057,\n",
        "\n",
        "year2002"
       ]
      },
      {
       "output_type": "stream",
       "stream": "stdout",
       "text": [
        "\n",
        "1.,A.j. Burnett,2002,MLB,A,13,35,29,0,4,2,2,0,0,6,13,2,0,0,4,1,1,12.5%,75.0%,6.3%,6.3%,.069,.138,.194,.207,.168,\n",
        "\n",
        "year2003"
       ]
      },
      {
       "output_type": "stream",
       "stream": "stdout",
       "text": [
        "\n",
        "1.,A.j. Burnett,2003,MLB,A,2,5,4,0,0,0,0,0,0,0,2,1,0,0,0,0,0,0.0%,50.0%,50.0%,0.0%,.000,.000,.200,.000,.110,\n",
        "\n",
        "year2004"
       ]
      },
      {
       "output_type": "stream",
       "stream": "stdout",
       "text": [
        "\n",
        "1.,A.j. Burnett,2004,MLB,A,6,12,8,1,2,2,0,0,0,2,3,0,0,0,4,1,0,0.0%,66.7%,22.2%,11.1%,.000,.250,.250,.250,.191,\n",
        "\n",
        "year2005"
       ]
      },
      {
       "output_type": "stream",
       "stream": "stdout",
       "text": [
        "\n",
        "1.,A.j. Burnett,2005,MLB,A,18,47,41,3,5,3,1,0,1,9,21,0,1,0,5,1,0,32.0%,76.0%,8.0%,0.0%,.098,.122,.143,.220,.156,\n",
        "\n",
        "year2006"
       ]
      },
      {
       "output_type": "stream",
       "stream": "stdout",
       "text": [
        "\n",
        "1.,A.j. Burnett,2006,MLB,A,1,3,3,0,0,0,0,0,0,0,1,0,0,0,0,0,0,0.0%,50.0%,0.0%,50.0%,.000,.000,.000,.000,-.006,\n",
        "\n",
        "year2007"
       ]
      },
      {
       "output_type": "stream",
       "stream": "stdout",
       "text": [
        "\n",
        "1.,A.j. Burnett,2007,MLB,A,1,2,2,0,0,0,0,0,0,0,0,0,0,0,0,0,0,0.0%,100.0%,0.0%,0.0%,.000,.000,.000,.000,-.005,\n",
        "\n",
        "year2008"
       ]
      },
      {
       "output_type": "stream",
       "stream": "stdout",
       "text": [
        "\n",
        "1.,A.j. Burnett,2008,MLB,A,2,4,3,0,0,0,0,0,0,0,1,0,0,0,1,0,0,0.0%,100.0%,0.0%,0.0%,.000,.000,.000,.000,.069,\n",
        "\n",
        "year2009"
       ]
      },
      {
       "output_type": "stream",
       "stream": "stdout",
       "text": [
        "\n",
        "1.,A.j. Burnett,2009,MLB,A,2,5,5,0,1,1,0,0,0,1,1,0,0,0,0,0,0,50.0%,0.0%,0.0%,50.0%,.000,.200,.200,.200,.124,\n",
        "\n",
        "year2010"
       ]
      },
      {
       "output_type": "stream",
       "stream": "stdout",
       "text": [
        "\n",
        "1.,A.j. Burnett,2010,MLB,A,2,3,1,0,0,0,0,0,0,0,1,0,0,0,2,0,0,0.0%,100.0%,0.0%,0.0%,.000,.000,.000,.000,.152,\n",
        "\n",
        "year2011"
       ]
      },
      {
       "output_type": "stream",
       "stream": "stdout",
       "text": [
        "\n",
        "1.,A.j. Burnett,2011,MLB,A,1,3,2,0,0,0,0,0,0,0,2,0,0,0,1,0,0,0.0%,100.0%,0.0%,0.0%,.000,.000,.000,.000,.081,\n",
        "\n",
        "year2012"
       ]
      },
      {
       "output_type": "stream",
       "stream": "stdout",
       "text": [
        "\n",
        "1.,A.j. Burnett,2012,MLB,A,12,35,32,0,2,2,0,0,0,2,21,0,0,0,3,1,1,0.0%,92.9%,7.1%,0.0%,.000,.063,.063,.063,.056,\n",
        "\n",
        "year2013"
       ]
      },
      {
       "output_type": "stream",
       "stream": "stdout",
       "text": [
        "\n",
        "1.,A.j. Burnett,2013,MLB,A,15,37,33,1,2,2,0,0,0,2,22,1,0,0,3,1,1,7.1%,85.7%,7.1%,0.0%,.000,.061,.088,.061,.079,\n",
        "\n",
        "year2014"
       ]
      },
      {
       "output_type": "stream",
       "stream": "stdout",
       "text": [
        "\n",
        "1.,A.j. Burnett,2014,MLB,A,13,31,28,4,6,4,2,0,0,8,12,3,0,0,0,1,1,25.0%,43.8%,18.8%,12.5%,.071,.214,.290,.286,.210,\n",
        "\n"
       ]
      }
     ],
     "prompt_number": 2
    }
   ],
   "metadata": {}
  }
 ]
}