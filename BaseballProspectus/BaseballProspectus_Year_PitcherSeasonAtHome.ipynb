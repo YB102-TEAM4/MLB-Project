{
 "metadata": {
  "name": "",
  "signature": "sha256:2e7aca6e65fb9b082996ba81698380fbfd8be1864fd10d06c29de0e6ff2c332d"
 },
 "nbformat": 3,
 "nbformat_minor": 0,
 "worksheets": [
  {
   "cells": [
    {
     "cell_type": "code",
     "collapsed": false,
     "input": [
      "#\u9996\u5148Name\u8981\u6392\u5e8f\n",
      "#\u8981\u6ce8\u610f\u7684\u5730\u65b9\u6709\u56db\u500b folder, range, year, page_limit\n",
      "import string, time, requests, os\n",
      "from bs4 import BeautifulSoup\n",
      "headers={\n",
      "    'User-Agent':'Mozilla/5.0 (Windows NT 6.1; WOW64) AppleWebKit/537.36 (KHTML, like Gecko) Chrome/40.0.2214.93 Safari/537.36'\n",
      "}\n",
      "url='http://www.baseballprospectus.com/sortable/index.php'\n",
      "\n",
      "folder='PitcherSeasonAtHome'#\u8cc7\u6599\u593e\u540d\u7a31*********************\n",
      "\n",
      "path='Baseball\\\\'+folder #\u8def\u5f91\u540d\u7a31\n",
      "if os.path.exists(path):\n",
      "    print 'folder exists'\n",
      "else:    \n",
      "    os.mkdir(path)\n",
      "    print 'folder not exists'  \n",
      "    \n",
      "for year in range(1950,2015): #2015\u6c92\u7b97\u5230**************\n",
      "    payload={            \n",
      "            'mystatslist':'NAME,YEAR,LVL,HOME_AWAY,G,PA,AB,R,H,B1,B2,B3,HR,TB,SO,BB,HBP,SF,SH,DP,FB_PERCENT,GB_PERCENT,LINEDR_PERCENT,POPUP_PERCENT,ISO,AVG,OBP,SLG,TAV_AGAINST',\n",
      "            'category':'pitcher_season_homeaway',\n",
      "            'tablename':'dyna_pitcher_season_homeaway',\n",
      "            'stage':'data',\n",
      "            'year':'%d'%(year),#*********************\n",
      "            'mystatslist':'NAME,YEAR,LVL,HOME_AWAY,G,PA,AB,R,H,B1,B2,B3,HR,TB,SO,BB,HBP,SF,SH,RBI,DP,FB_PERCENT,GB_PERCENT,LINEDR_PERCENT,POPUP_PERCENT,ISO,AVG,OBP,SLG,TAV_AGAINST',\n",
      "            'category':'pitcher_season_homeaway',\n",
      "            'tablename':'dyna_pitcher_season_homeaway',\n",
      "            'stage':'data',\n",
      "            'group_HOME_AWAY':'H',\n",
      "            'group_LVL':'MLB',\n",
      "            'minimum':'0',\n",
      "            'sort1column':'NAME',\n",
      "            'sort1order':'ASC',\n",
      "            'page_limit':'All',#*********************\n",
      "            'tt_team':'*',\n",
      "            'show_ttroster':'1',\n",
      "            'show_ttwatched':'1',\n",
      "            'viewdata':'View Data',\n",
      "        }\n",
      "    res=requests.post(url,data=payload,headers=headers)\n",
      "    soup=BeautifulSoup(res.text.encode('utf-8'))\n",
      "    trList=soup.select('#TTdata tr')\n",
      "    fileName= str(year)+'_'+folder+'.csv'\n",
      "    fid=open(path+'\\\\'+fileName,'w')\n",
      "    for tr in trList:\n",
      "        for td in tr.select('td'):\n",
      "            fid.write(td.text.encode('utf-8')+',')\n",
      "        fid.write('\\n')\n",
      "    fid.close()\n",
      "    fod=open(path+'\\\\'+fileName,'r')\n",
      "    print 'year'+str(year)\n",
      "    print fod.readlines()[1]\n",
      "    fod.close()\n",
      "    time.sleep(2)\n"
     ],
     "language": "python",
     "metadata": {},
     "outputs": [
      {
       "output_type": "stream",
       "stream": "stdout",
       "text": [
        "folder not exists\n",
        "year1950"
       ]
      },
      {
       "output_type": "stream",
       "stream": "stdout",
       "text": [
        "\n",
        "1.,Al Aber,1950,MLB,H,1,34,30,2,5,4,1,0,0,6,4,4,0,0,0,2,23.8%,57.1%,19.0%,0.0%,.033,.167,.265,.200,.000,\n",
        "\n",
        "year1951"
       ]
      },
      {
       "output_type": "stream",
       "stream": "stdout",
       "text": [
        "\n",
        "1.,Al Brazle,1951,MLB,H,20,216,186,14,42,34,6,0,2,54,29,23,1,0,5,4,41.9%,52.4%,4.0%,1.6%,.065,.226,.314,.290,.000,\n",
        "\n",
        "year1952"
       ]
      },
      {
       "output_type": "stream",
       "stream": "stdout",
       "text": [
        "\n",
        "1.,Al Benton,1952,MLB,H,10,52,48,1,16,15,1,0,0,17,10,2,0,0,2,1,48.0%,52.0%,0.0%,0.0%,.021,.333,.360,.354,.000,\n",
        "\n",
        "year1953"
       ]
      },
      {
       "output_type": "stream",
       "stream": "stdout",
       "text": [
        "\n",
        "1.,Al Aber,1953,MLB,H,9,111,93,11,22,18,2,1,1,29,16,16,0,0,2,1,38.6%,61.4%,0.0%,0.0%,.075,.237,.349,.312,.000,\n",
        "\n",
        "year1954"
       ]
      },
      {
       "output_type": "stream",
       "stream": "stdout",
       "text": [
        "\n",
        "1.,Al Aber,1954,MLB,H,17,300,272,35,73,54,9,4,6,108,32,22,2,0,4,6,23.6%,64.4%,2.3%,9.8%,.129,.268,.328,.397,.000,\n",
        "\n",
        "year1955"
       ]
      },
      {
       "output_type": "stream",
       "stream": "stdout",
       "text": [
        "\n",
        "1.,Al Aber,1955,MLB,H,18,178,161,15,46,34,5,2,5,70,16,13,0,1,3,9,31.4%,62.9%,5.7%,0.0%,.149,.286,.337,.435,.000,\n",
        "\n",
        "year1956"
       ]
      },
      {
       "output_type": "stream",
       "stream": "stdout",
       "text": [
        "\n",
        "1.,Al Aber,1956,MLB,H,21,160,137,16,36,30,4,1,1,45,11,12,1,2,8,1,36.3%,52.9%,3.9%,6.9%,.066,.263,.322,.328,.000,\n",
        "\n",
        "year1957"
       ]
      },
      {
       "output_type": "stream",
       "stream": "stdout",
       "text": [
        "\n",
        "1.,Al Aber,1957,MLB,H,14,99,84,23,27,14,6,1,6,53,11,9,0,1,5,4,28.3%,60.4%,5.7%,5.7%,.310,.321,.383,.631,.000,\n",
        "\n",
        "year1958"
       ]
      },
      {
       "output_type": "stream",
       "stream": "stdout",
       "text": [
        "\n",
        "1.,Al Cicotte,1958,MLB,H,12,156,144,23,45,35,7,1,2,60,18,9,0,2,1,3,39.6%,57.1%,2.2%,1.1%,.104,.313,.348,.417,.000,\n",
        "\n",
        "year1959"
       ]
      },
      {
       "output_type": "stream",
       "stream": "stdout",
       "text": [
        "\n",
        "1.,Al Cicotte,1959,MLB,H,17,110,85,21,27,16,8,0,3,44,9,17,1,3,4,5,25.4%,55.9%,5.1%,13.6%,.200,.318,.425,.518,.000,\n",
        "\n",
        "year1960"
       ]
      },
      {
       "output_type": "stream",
       "stream": "stdout",
       "text": [
        "\n",
        "1.,Al Neiger,1960,MLB,H,3,19,16,2,5,2,2,0,1,10,0,3,0,0,0,1,54.5%,27.3%,18.2%,0.0%,.313,.313,.421,.625,.000,\n",
        "\n",
        "year1961"
       ]
      },
      {
       "output_type": "stream",
       "stream": "stdout",
       "text": [
        "\n",
        "1.,Al Cicotte,1961,MLB,H,14,157,135,30,42,27,5,2,8,75,24,18,1,0,3,4,31.5%,58.9%,2.7%,6.8%,.244,.311,.396,.556,.000,\n",
        "\n",
        "year1962"
       ]
      },
      {
       "output_type": "stream",
       "stream": "stdout",
       "text": [
        "\n",
        "1.,Al Cicotte,1962,MLB,H,5,22,21,4,8,6,1,0,1,12,4,1,0,0,0,0,20.0%,30.0%,40.0%,10.0%,.190,.381,.409,.571,.000,\n",
        "\n",
        "year1963"
       ]
      },
      {
       "output_type": "stream",
       "stream": "stdout",
       "text": [
        "\n",
        "1.,Al Downing,1963,MLB,H,13,403,357,33,68,47,15,2,4,99,104,45,0,0,1,8,36.0%,54.3%,9.6%,0.5%,.087,.190,.281,.277,.000,\n",
        "\n",
        "year1964"
       ]
      },
      {
       "output_type": "stream",
       "stream": "stdout",
       "text": [
        "\n",
        "1.,Al Downing,1964,MLB,H,19,553,480,45,102,70,18,7,7,155,117,59,0,5,9,7,36.0%,49.8%,7.6%,6.9%,.110,.213,.296,.323,.000,\n",
        "\n",
        "year1965"
       ]
      },
      {
       "output_type": "stream",
       "stream": "stdout",
       "text": [
        "\n",
        "1.,Al Downing,1965,MLB,H,19,486,432,42,101,66,20,8,7,158,94,47,1,4,2,15,47.8%,44.6%,8.4%,0.0%,.132,.234,.308,.366,.000,\n",
        "\n",
        "year1966"
       ]
      },
      {
       "output_type": "stream",
       "stream": "stdout",
       "text": [
        "\n",
        "1.,Al Downing,1966,MLB,H,12,342,306,33,71,54,10,0,7,102,65,34,0,0,2,5,48.0%,41.8%,9.6%,1.7%,.101,.232,.309,.333,.000,\n",
        "\n",
        "year1967"
       ]
      },
      {
       "output_type": "stream",
       "stream": "stdout",
       "text": [
        "\n",
        "1.,Al Downing,1967,MLB,H,16,437,404,24,86,69,11,1,5,114,83,23,5,2,3,8,48.5%,49.4%,2.1%,0.0%,.069,.213,.263,.282,.000,\n",
        "\n",
        "year1968"
       ]
      },
      {
       "output_type": "stream",
       "stream": "stdout",
       "text": [
        "\n",
        "1.,Al Downing,1968,MLB,H,4,75,72,10,22,14,4,1,3,37,15,2,0,0,1,0,43.2%,37.8%,13.5%,5.4%,.208,.306,.324,.514,.000,\n",
        "\n",
        "year1969"
       ]
      },
      {
       "output_type": "stream",
       "stream": "stdout",
       "text": [
        "\n",
        "1.,Al Downing,1969,MLB,H,13,258,233,20,48,31,10,1,6,78,40,19,0,4,2,4,39.0%,47.4%,8.4%,5.2%,.129,.206,.262,.335,.000,\n",
        "\n",
        "year1970"
       ]
      },
      {
       "output_type": "stream",
       "stream": "stdout",
       "text": [
        "\n",
        "1.,Al Downing,1970,MLB,H,16,360,298,35,67,51,12,0,4,91,44,52,0,3,7,15,34.8%,56.6%,3.5%,5.6%,.081,.225,.337,.305,.000,\n",
        "\n",
        "year1971"
       ]
      },
      {
       "output_type": "stream",
       "stream": "stdout",
       "text": [
        "\n",
        "1.,Al Closter,1971,MLB,H,4,44,33,9,10,8,0,0,2,16,8,7,1,2,1,1,35.0%,65.0%,0.0%,0.0%,.182,.303,.419,.485,.000,\n",
        "\n",
        "year1972"
       ]
      },
      {
       "output_type": "stream",
       "stream": "stdout",
       "text": [
        "\n",
        "1.,Al Downing,1972,MLB,H,16,486,443,35,112,96,13,1,2,133,58,28,5,3,7,15,33.2%,59.4%,5.7%,1.8%,.047,.253,.303,.300,.000,\n",
        "\n",
        "year1973"
       ]
      },
      {
       "output_type": "stream",
       "stream": "stdout",
       "text": [
        "\n",
        "1.,Adrian Devine,1973,MLB,H,16,98,83,17,29,21,3,0,5,47,8,9,2,1,3,3,34.0%,62.0%,4.0%,0.0%,.217,.349,.421,.566,.000,\n",
        "\n",
        "year1974"
       ]
      },
      {
       "output_type": "stream",
       "stream": "stdout",
       "text": [
        "\n",
        "1.,Al Downing,1974,MLB,H,11,221,191,18,49,42,4,1,2,61,31,23,1,1,5,7,24.6%,55.9%,8.5%,11.0%,.063,.257,.338,.319,.000,\n",
        "\n",
        "year1975"
       ]
      },
      {
       "output_type": "stream",
       "stream": "stdout",
       "text": [
        "\n",
        "1.,Adrian Devine,1975,MLB,H,3,57,52,5,15,11,3,0,1,21,6,4,1,0,0,1,21.6%,62.2%,10.8%,5.4%,.115,.288,.351,.404,.000,\n",
        "\n",
        "year1976"
       ]
      },
      {
       "output_type": "stream",
       "stream": "stdout",
       "text": [
        "\n",
        "1.,Adrian Devine,1976,MLB,H,26,170,149,19,41,33,5,0,3,55,25,16,0,2,3,3,24.5%,61.7%,7.4%,6.4%,.094,.275,.341,.369,.000,\n",
        "\n",
        "year1977"
       ]
      },
      {
       "output_type": "stream",
       "stream": "stdout",
       "text": [
        "\n",
        "1.,Adrian Devine,1977,MLB,H,30,177,159,15,36,28,3,3,2,51,37,13,1,2,2,3,27.5%,64.8%,3.3%,4.4%,.094,.226,.286,.321,.000,\n",
        "\n",
        "year1978"
       ]
      },
      {
       "output_type": "stream",
       "stream": "stdout",
       "text": [
        "\n",
        "1.,Adrian Devine,1978,MLB,H,14,150,132,23,42,32,6,1,3,59,11,14,0,2,2,5,28.4%,63.6%,5.7%,2.3%,.129,.318,.378,.447,.000,\n",
        "\n",
        "year1979"
       ]
      },
      {
       "output_type": "stream",
       "stream": "stdout",
       "text": [
        "\n",
        "1.,Adrian Devine,1979,MLB,H,22,153,139,23,51,33,8,2,8,87,9,12,2,0,0,6,25.9%,64.2%,3.7%,6.2%,.259,.367,.425,.626,.000,\n",
        "\n",
        "year1980"
       ]
      },
      {
       "output_type": "stream",
       "stream": "stdout",
       "text": [
        "\n",
        "1.,Adrian Devine,1980,MLB,H,7,66,61,10,22,20,1,0,1,26,4,4,0,1,0,3,47.2%,50.0%,0.0%,2.8%,.066,.361,.394,.426,.000,\n",
        "\n",
        "year1981"
       ]
      },
      {
       "output_type": "stream",
       "stream": "stdout",
       "text": [
        "\n",
        "1.,Al Holland,1981,MLB,H,24,224,190,17,47,35,9,2,1,63,36,25,1,2,6,2,50.0%,46.6%,2.6%,0.9%,.084,.247,.335,.332,.000,\n",
        "\n",
        "year1982"
       ]
      },
      {
       "output_type": "stream",
       "stream": "stdout",
       "text": [
        "\n",
        "1.,Al Holland,1982,MLB,H,26,257,235,24,53,42,4,2,5,76,52,17,0,1,4,3,43.7%,48.1%,2.2%,5.9%,.098,.226,.277,.323,.000,\n",
        "\n",
        "year1983"
       ]
      },
      {
       "output_type": "stream",
       "stream": "stdout",
       "text": [
        "\n",
        "1.,Al Holland,1983,MLB,H,33,173,154,8,26,16,5,3,2,43,57,15,0,1,3,0,44.7%,34.2%,3.9%,17.1%,.110,.169,.241,.279,.000,\n",
        "\n",
        "year1984"
       ]
      },
      {
       "output_type": "stream",
       "stream": "stdout",
       "text": [
        "\n",
        "1.,Al Holland,1984,MLB,H,30,187,165,19,40,25,9,0,6,67,34,17,1,2,2,3,43.2%,35.8%,11.6%,9.5%,.164,.242,.314,.406,.000,\n",
        "\n",
        "year1985"
       ]
      },
      {
       "output_type": "stream",
       "stream": "stdout",
       "text": [
        "\n",
        "1.,Al Holland,1985,MLB,H,29,210,188,11,35,20,11,0,4,58,40,18,0,1,3,2,60.7%,32.5%,5.1%,1.7%,.122,.186,.256,.309,.000,\n",
        "\n",
        "year1986"
       ]
      },
      {
       "output_type": "stream",
       "stream": "stdout",
       "text": [
        "\n",
        "1.,Al Holland,1986,MLB,H,17,107,96,21,26,18,5,1,2,39,24,7,0,3,1,1,70.0%,26.0%,4.0%,0.0%,.135,.271,.311,.406,.000,\n",
        "\n",
        "year1987"
       ]
      },
      {
       "output_type": "stream",
       "stream": "stdout",
       "text": [
        "\n",
        "1.,Adam Peterson,1987,MLB,H,1,22,18,6,8,5,2,0,1,13,1,3,0,1,0,1,60.0%,40.0%,0.0%,0.0%,.278,.444,.500,.722,.000,\n",
        "\n",
        "year1988"
       ]
      },
      {
       "output_type": "stream",
       "stream": "stdout",
       "text": [
        "\n",
        "1.,Adam Peterson,1988,MLB,H,1,17,15,4,3,3,0,0,0,3,5,2,0,0,0,0,30.0%,60.0%,10.0%,0.0%,.000,.200,.294,.200,.000,\n",
        "\n",
        "year1989"
       ]
      },
      {
       "output_type": "stream",
       "stream": "stdout",
       "text": [
        "\n",
        "1.,Adam Peterson,1989,MLB,H,2,20,18,7,10,9,1,0,0,11,1,2,0,0,0,0,11.8%,5.9%,64.7%,17.6%,.056,.556,.600,.611,.000,\n",
        "\n",
        "year1990"
       ]
      },
      {
       "output_type": "stream",
       "stream": "stdout",
       "text": [
        "\n",
        "1.,Adam Peterson,1990,MLB,H,8,142,121,15,32,25,1,2,4,49,10,16,1,2,2,8,36.5%,34.8%,17.4%,11.3%,.140,.264,.350,.405,.000,\n",
        "\n",
        "year1991"
       ]
      },
      {
       "output_type": "stream",
       "stream": "stdout",
       "text": [
        "\n",
        "1.,Adam Peterson,1991,MLB,H,7,128,110,15,23,15,1,0,7,45,23,17,0,1,0,2,29.5%,36.4%,21.6%,12.5%,.200,.209,.313,.409,.000,\n",
        "\n",
        "year1992"
       ]
      },
      {
       "output_type": "stream",
       "stream": "stdout",
       "text": [
        "\n",
        "1.,Al Leiter,1992,MLB,H,1,7,5,1,1,1,0,0,0,1,0,2,0,0,0,0,20.0%,80.0%,0.0%,0.0%,.000,.200,.429,.200,.000,\n",
        "\n",
        "year1993"
       ]
      },
      {
       "output_type": "stream",
       "stream": "stdout",
       "text": [
        "\n",
        "1.,Aaron Sele,1993,MLB,H,9,251,219,25,49,33,13,0,3,71,50,26,2,3,1,6,26.6%,43.9%,23.1%,6.4%,.100,.224,.308,.324,.000,\n",
        "\n",
        "year1994"
       ]
      },
      {
       "output_type": "stream",
       "stream": "stdout",
       "text": [
        "\n",
        "1.,A. J. Sager,1994,MLB,H,11,95,85,10,23,13,7,0,3,39,12,7,0,1,2,1,17.3%,61.3%,16.0%,5.3%,.188,.271,.323,.459,.000,\n",
        "\n",
        "year1995"
       ]
      },
      {
       "output_type": "stream",
       "stream": "stdout",
       "text": [
        "\n",
        "1.,,1995,MLB,H,3,6,4,0,1,1,0,0,0,1,0,2,0,0,0,0,0.0%,75.0%,25.0%,0.0%,.000,.250,.500,.250,.000,\n",
        "\n",
        "year1996"
       ]
      },
      {
       "output_type": "stream",
       "stream": "stdout",
       "text": [
        "\n",
        "1.,A. J. Sager,1996,MLB,H,12,142,123,19,37,26,6,1,4,57,24,15,1,2,1,6,14.7%,61.8%,19.6%,3.9%,.163,.301,.376,.463,.000,\n",
        "\n",
        "year1997"
       ]
      },
      {
       "output_type": "stream",
       "stream": "stdout",
       "text": [
        "\n",
        "1.,A. J. Sager,1997,MLB,H,20,191,173,17,37,28,3,3,3,55,31,9,0,5,4,5,25.8%,49.7%,19.9%,4.6%,.104,.214,.246,.318,.000,\n",
        "\n",
        "year1998"
       ]
      },
      {
       "output_type": "stream",
       "stream": "stdout",
       "text": [
        "\n",
        "1.,A. J. Sager,1998,MLB,H,13,118,98,22,32,23,5,0,4,49,8,14,1,1,4,3,13.7%,65.3%,20.0%,1.1%,.173,.327,.412,.500,.000,\n",
        "\n",
        "year1999"
       ]
      },
      {
       "output_type": "stream",
       "stream": "stdout",
       "text": [
        "\n",
        "1.,,1999,MLB,H,5,8,8,0,1,1,0,0,0,1,2,0,0,0,0,0,33.3%,66.7%,0.0%,0.0%,.000,.125,.125,.125,.000,\n",
        "\n",
        "year2000"
       ]
      },
      {
       "output_type": "stream",
       "stream": "stdout",
       "text": [
        "\n",
        "1.,A.j. Burnett,2000,MLB,H,7,196,170,17,34,23,7,1,3,52,38,20,2,1,3,2,38.2%,44.1%,2.9%,14.7%,.106,.200,.290,.306,.216,\n",
        "\n",
        "year2001"
       ]
      },
      {
       "output_type": "stream",
       "stream": "stdout",
       "text": [
        "\n",
        "1.,A.j. Burnett,2001,MLB,H,13,355,306,43,73,47,11,2,13,127,70,37,3,5,4,5,40.1%,48.8%,4.1%,7.0%,.176,.239,.322,.415,.263,\n",
        "\n",
        "year2002"
       ]
      },
      {
       "output_type": "stream",
       "stream": "stdout",
       "text": [
        "\n",
        "1.,A.j. Burnett,2002,MLB,H,16,418,358,30,68,50,14,1,3,93,118,49,5,1,5,9,36.5%,48.9%,4.5%,10.7%,.070,.190,.295,.260,.204,\n",
        "\n",
        "year2003"
       ]
      },
      {
       "output_type": "stream",
       "stream": "stdout",
       "text": [
        "\n",
        "1.,A.j. Burnett,2003,MLB,H,2,55,44,7,9,3,3,1,2,20,10,8,1,1,1,1,27.8%,52.8%,11.1%,11.1%,.250,.205,.333,.455,.271,\n",
        "\n",
        "year2004"
       ]
      },
      {
       "output_type": "stream",
       "stream": "stdout",
       "text": [
        "\n",
        "1.,A.j. Burnett,2004,MLB,H,11,297,260,24,49,36,8,0,5,72,72,29,3,3,2,6,29.5%,48.7%,13.5%,9.3%,.088,.188,.275,.277,.205,\n",
        "\n",
        "year2005"
       ]
      },
      {
       "output_type": "stream",
       "stream": "stdout",
       "text": [
        "\n",
        "1.,A.j. Burnett,2005,MLB,H,13,360,318,32,72,56,10,3,3,97,102,34,4,1,3,13,19.5%,62.7%,13.6%,4.5%,.079,.226,.308,.305,.224,\n",
        "\n",
        "year2006"
       ]
      },
      {
       "output_type": "stream",
       "stream": "stdout",
       "text": [
        "\n",
        "1.,A.j. Burnett,2006,MLB,H,9,251,230,27,63,43,13,0,7,97,53,17,3,0,1,7,23.6%,50.6%,19.7%,6.2%,.148,.274,.332,.422,.244,\n",
        "\n",
        "year2007"
       ]
      },
      {
       "output_type": "stream",
       "stream": "stdout",
       "text": [
        "\n",
        "1.,,2007,MLB,H,7,46,36,4,10,7,2,0,1,15,2,7,1,1,1,3,25.0%,61.1%,13.9%,0.0%,.139,.278,.400,.417,.310,\n",
        "\n",
        "year2008"
       ]
      },
      {
       "output_type": "stream",
       "stream": "stdout",
       "text": [
        "\n",
        "1.,A.j. Burnett,2008,MLB,H,18,487,429,57,113,75,29,2,7,167,129,49,4,3,2,8,24.6%,49.2%,19.3%,6.9%,.126,.263,.342,.389,.269,\n",
        "\n",
        "year2009"
       ]
      },
      {
       "output_type": "stream",
       "stream": "stdout",
       "text": [
        "\n",
        "1.,A.j. Burnett,2009,MLB,H,16,447,384,42,88,61,12,2,13,143,104,52,6,3,1,13,33.1%,42.6%,19.4%,4.9%,.143,.229,.328,.372,.233,\n",
        "\n",
        "year2010"
       ]
      },
      {
       "output_type": "stream",
       "stream": "stdout",
       "text": [
        "\n",
        "1.,A.j. Burnett,2010,MLB,H,14,353,304,45,85,56,17,2,10,136,67,33,8,3,5,12,30.2%,45.7%,16.7%,7.3%,.168,.280,.362,.447,.264,\n",
        "\n",
        "year2011"
       ]
      },
      {
       "output_type": "stream",
       "stream": "stdout",
       "text": [
        "\n",
        "1.,A.j. Burnett,2011,MLB,H,18,487,431,57,104,58,25,2,19,190,104,45,4,4,3,11,29.3%,47.6%,18.0%,5.1%,.200,.241,.316,.441,.260,\n",
        "\n",
        "year2012"
       ]
      },
      {
       "output_type": "stream",
       "stream": "stdout",
       "text": [
        "\n",
        "1.,A.j. Burnett,2012,MLB,H,17,461,422,45,107,82,16,1,8,149,89,27,6,5,1,16,20.9%,60.2%,14.7%,4.1%,.100,.254,.304,.353,.254,\n",
        "\n",
        "year2013"
       ]
      },
      {
       "output_type": "stream",
       "stream": "stdout",
       "text": [
        "\n",
        "1.,A.j. Burnett,2013,MLB,H,14,382,340,26,69,54,10,0,5,94,113,32,3,1,6,7,20.5%,59.0%,19.2%,1.3%,.074,.203,.277,.276,.214,\n",
        "\n",
        "year2014"
       ]
      },
      {
       "output_type": "stream",
       "stream": "stdout",
       "text": [
        "\n",
        "1.,A.j. Achter,2014,MLB,H,5,31,30,5,10,6,2,1,1,17,3,1,0,0,0,1,22.2%,37.0%,29.6%,11.1%,.233,.333,.355,.567,.316,\n",
        "\n"
       ]
      }
     ],
     "prompt_number": 1
    }
   ],
   "metadata": {}
  }
 ]
}