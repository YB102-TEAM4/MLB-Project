{
 "metadata": {
  "name": "",
  "signature": "sha256:bad764869afdedb1aaa986e3ed5f33cd491470549caf912a1c939a5be8ccefa2"
 },
 "nbformat": 3,
 "nbformat_minor": 0,
 "worksheets": [
  {
   "cells": [
    {
     "cell_type": "code",
     "collapsed": false,
     "input": [
      "#\u9996\u5148Name\u8981\u6392\u5e8f\n",
      "#\u8981\u6ce8\u610f\u7684\u5730\u65b9\u6709\u56db\u500b range, year, fileName, page_limit\n",
      "import string\n",
      "import time\n",
      "import requests\n",
      "from bs4 import BeautifulSoup\n",
      "headers={\n",
      "    'User-Agent':'Mozilla/5.0 (Windows NT 6.1; WOW64) AppleWebKit/537.36 (KHTML, like Gecko) Chrome/40.0.2214.93 Safari/537.36'\n",
      "}\n",
      "url='http://www.baseballprospectus.com/sortable/index.php'      \n",
      "for year in range(1871,2015): #2015\u6c92\u7b97\u5230**************\n",
      "    payload={            \n",
      "            'mystatslist':'TEAM,LG,YEAR,G,PA,BATTED_BALL_TYPE_KNOWN,FB,GB,LINEDR,POPUP,BABIP,DP_PERCENT,FB_PERCENT,GB_PERCENT,LINEDR_PERCENT,POPUP_PERCENT',\n",
      "            'category':'team_batting',\n",
      "            'tablename':'dyna_team_batting',\n",
      "            'stage':'data',\n",
      "            'year':'%d'%(year),#*********************\n",
      "            'mystatslist':'TEAM,LG,YEAR,G,PA,BATTED_BALL_TYPE_KNOWN,FB,GB,LINEDR,POPUP,BABIP,DP_PERCENT,FB_PERCENT,GB_PERCENT,LINEDR_PERCENT,POPUP_PERCENT',\n",
      "            'category':'team_batting',\n",
      "            'tablename':'dyna_team_batting',\n",
      "            'stage':'data',\n",
      "            'submit':'Submit Statistics Selection',\n",
      "            'groupcolumn':'TEAM,LVL,LG',\n",
      "            'filtercolumn':'PA',\n",
      "            'required':'YEAR,TEAM,LG',\n",
      "            'sort1column':'TEAM',\n",
      "            'page_limit':'All',#*********************\n",
      "        }\n",
      "    res=requests.post(url,data=payload,headers=headers)\n",
      "    soup=BeautifulSoup(res.text.encode('utf-8'))    \n",
      "    trList=soup.select('#TTdata tr')\n",
      "    fileName= str(year)+'_TeamBattingBallsInPlay.csv'#*********************\n",
      "    fid=open('Baseball\\\\'+fileName,'w')    \n",
      "    for tr in trList:\n",
      "        for td in tr.select('td'):\n",
      "            fid.write(td.text.encode('utf-8')+',')\n",
      "        fid.write('\\n')\n",
      "    fid.close()\n",
      "    fod=open('Baseball\\\\'+fileName,'r')\n",
      "    print 'year'+str(year)\n",
      "    print fod.readlines()[1]\n",
      "    fod.close()\n",
      "    time.sleep(2)\n"
     ],
     "language": "python",
     "metadata": {},
     "outputs": [
      {
       "output_type": "stream",
       "stream": "stdout",
       "text": [
        "year1871\n",
        "1.,BS1,NA,1871,31,1,432,,,,,,.000,0.0%,0.0%,0.0%,0.0%,0.0%,\n",
        "\n",
        "year1872"
       ]
      },
      {
       "output_type": "stream",
       "stream": "stdout",
       "text": [
        "\n",
        "1.,BL1,NA,1872,58,2,600,,,,,,.000,0.0%,0.0%,0.0%,0.0%,0.0%,\n",
        "\n",
        "year1873"
       ]
      },
      {
       "output_type": "stream",
       "stream": "stdout",
       "text": [
        "\n",
        "1.,BL1,NA,1873,57,2,603,,,,,,.000,0.0%,0.0%,0.0%,0.0%,0.0%,\n",
        "\n",
        "year1874"
       ]
      },
      {
       "output_type": "stream",
       "stream": "stdout",
       "text": [
        "\n",
        "1.,BL1,NA,1874,47,1,798,,,,,,.000,0.0%,0.0%,0.0%,0.0%,0.0%,\n",
        "\n",
        "year1875"
       ]
      },
      {
       "output_type": "stream",
       "stream": "stdout",
       "text": [
        "\n",
        "1.,BR2,NA,1875,44,1,562,,,,,,.000,0.0%,0.0%,0.0%,0.0%,0.0%,\n",
        "\n",
        "year1876"
       ]
      },
      {
       "output_type": "stream",
       "stream": "stdout",
       "text": [
        "\n",
        "1.,BSN,NL,1876,70,2,780,,,,,,.000,0.0%,0.0%,0.0%,0.0%,0.0%,\n",
        "\n",
        "year1877"
       ]
      },
      {
       "output_type": "stream",
       "stream": "stdout",
       "text": [
        "\n",
        "1.,BSN,NL,1877,61,2,433,,,,,,.000,0.0%,0.0%,0.0%,0.0%,0.0%,\n",
        "\n",
        "year1878"
       ]
      },
      {
       "output_type": "stream",
       "stream": "stdout",
       "text": [
        "\n",
        "1.,BSN,NL,1878,60,2,255,,,,,,.000,0.0%,0.0%,0.0%,0.0%,0.0%,\n",
        "\n",
        "year1879"
       ]
      },
      {
       "output_type": "stream",
       "stream": "stdout",
       "text": [
        "\n",
        "1.,BFN,NL,1879,79,2,984,,,,,,.000,0.0%,0.0%,0.0%,0.0%,0.0%,\n",
        "\n",
        "year1880"
       ]
      },
      {
       "output_type": "stream",
       "stream": "stdout",
       "text": [
        "\n",
        "1.,BFN,NL,1880,85,3,052,,,,,,.000,0.0%,0.0%,0.0%,0.0%,0.0%,\n",
        "\n",
        "year1881"
       ]
      },
      {
       "output_type": "stream",
       "stream": "stdout",
       "text": [
        "\n",
        "1.,BFN,NL,1881,83,3,127,,,,,,.000,0.0%,0.0%,0.0%,0.0%,0.0%,\n",
        "\n",
        "year1882"
       ]
      },
      {
       "output_type": "stream",
       "stream": "stdout",
       "text": [
        "\n",
        "1.,BFN,NL,1882,84,3,244,,,,,,.000,0.0%,0.0%,0.0%,0.0%,0.0%,\n",
        "\n",
        "year1883"
       ]
      },
      {
       "output_type": "stream",
       "stream": "stdout",
       "text": [
        "\n",
        "1.,BFN,NL,1883,98,3,876,,,,,,.000,0.0%,0.0%,0.0%,0.0%,0.0%,\n",
        "\n",
        "year1884"
       ]
      },
      {
       "output_type": "stream",
       "stream": "stdout",
       "text": [
        "\n",
        "1.,ALT,UA,1884,25,921,,,,,,.000,0.0%,0.0%,0.0%,0.0%,0.0%,\n",
        "\n",
        "year1885"
       ]
      },
      {
       "output_type": "stream",
       "stream": "stdout",
       "text": [
        "\n",
        "1.,BFN,NL,1885,112,4,079,,,,,,.000,0.0%,0.0%,0.0%,0.0%,0.0%,\n",
        "\n",
        "year1886"
       ]
      },
      {
       "output_type": "stream",
       "stream": "stdout",
       "text": [
        "\n",
        "1.,BL2,AA,1886,139,5,054,,,,,,.000,0.0%,0.0%,0.0%,0.0%,0.0%,\n",
        "\n",
        "year1887"
       ]
      },
      {
       "output_type": "stream",
       "stream": "stdout",
       "text": [
        "\n",
        "1.,BL2,AA,1887,141,5,362,,,,,,.000,0.0%,0.0%,0.0%,0.0%,0.0%,\n",
        "\n",
        "year1888"
       ]
      },
      {
       "output_type": "stream",
       "stream": "stdout",
       "text": [
        "\n",
        "1.,BL2,AA,1888,137,5,012,,,,,,.000,0.0%,0.0%,0.0%,0.0%,0.0%,\n",
        "\n",
        "year1889"
       ]
      },
      {
       "output_type": "stream",
       "stream": "stdout",
       "text": [
        "\n",
        "1.,BL2,AA,1889,139,5,256,,,,,,.000,0.0%,0.0%,0.0%,0.0%,0.0%,\n",
        "\n",
        "year1890"
       ]
      },
      {
       "output_type": "stream",
       "stream": "stdout",
       "text": [
        "\n",
        "1.,BFP,PL,1890,134,5,432,,,,,,.000,0.0%,0.0%,0.0%,0.0%,0.0%,\n",
        "\n",
        "year1891"
       ]
      },
      {
       "output_type": "stream",
       "stream": "stdout",
       "text": [
        "\n",
        "1.,BL3,AA,1891,139,5,433,,,,,,.000,0.0%,0.0%,0.0%,0.0%,0.0%,\n",
        "\n",
        "year1892"
       ]
      },
      {
       "output_type": "stream",
       "stream": "stdout",
       "text": [
        "\n",
        "1.,BLN,NL,1892,152,5,857,,,,,,.000,0.0%,0.0%,0.0%,0.0%,0.0%,\n",
        "\n",
        "year1893"
       ]
      },
      {
       "output_type": "stream",
       "stream": "stdout",
       "text": [
        "\n",
        "1.,BLN,NL,1893,130,5,260,,,,,,.000,0.0%,0.0%,0.0%,0.0%,0.0%,\n",
        "\n",
        "year1894"
       ]
      },
      {
       "output_type": "stream",
       "stream": "stdout",
       "text": [
        "\n",
        "1.,BLN,NL,1894,129,5,564,,,,,,.000,0.0%,0.0%,0.0%,0.0%,0.0%,\n",
        "\n",
        "year1895"
       ]
      },
      {
       "output_type": "stream",
       "stream": "stdout",
       "text": [
        "\n",
        "1.,BLN,NL,1895,131,5,311,,,,,,.000,0.0%,0.0%,0.0%,0.0%,0.0%,\n",
        "\n",
        "year1896"
       ]
      },
      {
       "output_type": "stream",
       "stream": "stdout",
       "text": [
        "\n",
        "1.,BLN,NL,1896,132,5,323,,,,,,.000,0.0%,0.0%,0.0%,0.0%,0.0%,\n",
        "\n",
        "year1897"
       ]
      },
      {
       "output_type": "stream",
       "stream": "stdout",
       "text": [
        "\n",
        "1.,BLN,NL,1897,136,5,496,,,,,,.000,0.0%,0.0%,0.0%,0.0%,0.0%,\n",
        "\n",
        "year1898"
       ]
      },
      {
       "output_type": "stream",
       "stream": "stdout",
       "text": [
        "\n",
        "1.,BLN,NL,1898,153,6,000,,,,,,.000,0.0%,0.0%,0.0%,0.0%,0.0%,\n",
        "\n",
        "year1899"
       ]
      },
      {
       "output_type": "stream",
       "stream": "stdout",
       "text": [
        "\n",
        "1.,BLN,NL,1899,151,5,707,,,,,,.000,0.0%,0.0%,0.0%,0.0%,0.0%,\n",
        "\n",
        "year1900"
       ]
      },
      {
       "output_type": "stream",
       "stream": "stdout",
       "text": [
        "\n",
        "1.,BRO,NL,1900,141,5,440,,,,,,.000,0.0%,0.0%,0.0%,0.0%,0.0%,\n",
        "\n",
        "year1901"
       ]
      },
      {
       "output_type": "stream",
       "stream": "stdout",
       "text": [
        "\n",
        "1.,BLA,AL,1901,134,5,111,,,,,,.000,0.0%,0.0%,0.0%,0.0%,0.0%,\n",
        "\n",
        "year1902"
       ]
      },
      {
       "output_type": "stream",
       "stream": "stdout",
       "text": [
        "\n",
        "1.,BLA,AL,1902,140,5,348,,,,,,.000,0.0%,0.0%,0.0%,0.0%,0.0%,\n",
        "\n",
        "year1903"
       ]
      },
      {
       "output_type": "stream",
       "stream": "stdout",
       "text": [
        "\n",
        "1.,BOS,AL,1903,141,5,365,,,,,,.000,0.0%,0.0%,0.0%,0.0%,0.0%,\n",
        "\n",
        "year1904"
       ]
      },
      {
       "output_type": "stream",
       "stream": "stdout",
       "text": [
        "\n",
        "1.,BOS,AL,1904,157,5,784,,,,,,.000,0.0%,0.0%,0.0%,0.0%,0.0%,\n",
        "\n",
        "year1905"
       ]
      },
      {
       "output_type": "stream",
       "stream": "stdout",
       "text": [
        "\n",
        "1.,BOS,AL,1905,153,5,711,,,,,,.000,0.0%,0.0%,0.0%,0.0%,0.0%,\n",
        "\n",
        "year1906"
       ]
      },
      {
       "output_type": "stream",
       "stream": "stdout",
       "text": [
        "\n",
        "1.,BOS,AL,1906,155,5,645,,,,,,.000,0.0%,0.0%,0.0%,0.0%,0.0%,\n",
        "\n",
        "year1907"
       ]
      },
      {
       "output_type": "stream",
       "stream": "stdout",
       "text": [
        "\n",
        "1.,BOS,AL,1907,155,5,721,,,,,,.000,0.0%,0.0%,0.0%,0.0%,0.0%,\n",
        "\n",
        "year1908"
       ]
      },
      {
       "output_type": "stream",
       "stream": "stdout",
       "text": [
        "\n",
        "1.,BOS,AL,1908,155,5,580,,,,,,.000,0.0%,0.0%,0.0%,0.0%,0.0%,\n",
        "\n",
        "year1909"
       ]
      },
      {
       "output_type": "stream",
       "stream": "stdout",
       "text": [
        "\n",
        "1.,BOS,AL,1909,152,5,575,,,,,,.000,0.0%,0.0%,0.0%,0.0%,0.0%,\n",
        "\n",
        "year1910"
       ]
      },
      {
       "output_type": "stream",
       "stream": "stdout",
       "text": [
        "\n",
        "1.,BOS,AL,1910,158,5,917,,,,,,.000,0.0%,0.0%,0.0%,0.0%,0.0%,\n",
        "\n",
        "year1911"
       ]
      },
      {
       "output_type": "stream",
       "stream": "stdout",
       "text": [
        "\n",
        "1.,BOS,AL,1911,153,5,807,,,,,,.000,0.0%,0.0%,0.0%,0.0%,0.0%,\n",
        "\n",
        "year1912"
       ]
      },
      {
       "output_type": "stream",
       "stream": "stdout",
       "text": [
        "\n",
        "1.,BOS,AL,1912,154,5,872,,,,,,.000,0.0%,0.0%,0.0%,0.0%,0.0%,\n",
        "\n",
        "year1913"
       ]
      },
      {
       "output_type": "stream",
       "stream": "stdout",
       "text": [
        "\n",
        "1.,BOS,AL,1913,151,5,641,,,,,,.000,0.0%,0.0%,0.0%,0.0%,0.0%,\n",
        "\n",
        "year1914"
       ]
      },
      {
       "output_type": "stream",
       "stream": "stdout",
       "text": [
        "\n",
        "1.,BLF,FL,1914,160,5,834,,,,,,.000,0.0%,0.0%,0.0%,0.0%,0.0%,\n",
        "\n",
        "year1915"
       ]
      },
      {
       "output_type": "stream",
       "stream": "stdout",
       "text": [
        "\n",
        "1.,BLF,FL,1915,154,5,745,,,,,,.000,0.0%,0.0%,0.0%,0.0%,0.0%,\n",
        "\n",
        "year1916"
       ]
      },
      {
       "output_type": "stream",
       "stream": "stdout",
       "text": [
        "\n",
        "1.,BOS,AL,1916,156,5,756,,,,,,.000,0.0%,0.0%,0.0%,0.0%,0.0%,\n",
        "\n",
        "year1917"
       ]
      },
      {
       "output_type": "stream",
       "stream": "stdout",
       "text": [
        "\n",
        "1.,BOS,AL,1917,157,5,858,,,,,,.000,0.0%,0.0%,0.0%,0.0%,0.0%,\n",
        "\n",
        "year1918"
       ]
      },
      {
       "output_type": "stream",
       "stream": "stdout",
       "text": [
        "\n",
        "1.,BOS,AL,1918,126,4,607,,,,,,.000,0.0%,0.0%,0.0%,0.0%,0.0%,\n",
        "\n",
        "year1919"
       ]
      },
      {
       "output_type": "stream",
       "stream": "stdout",
       "text": [
        "\n",
        "1.,BOS,AL,1919,138,5,254,,,,,,.000,0.0%,0.0%,0.0%,0.0%,0.0%,\n",
        "\n",
        "year1920"
       ]
      },
      {
       "output_type": "stream",
       "stream": "stdout",
       "text": [
        "\n",
        "1.,BOS,AL,1920,154,5,980,,,,,,.000,0.0%,0.0%,0.0%,0.0%,0.0%,\n",
        "\n",
        "year1921"
       ]
      },
      {
       "output_type": "stream",
       "stream": "stdout",
       "text": [
        "\n",
        "1.,BOS,AL,1921,154,5,841,,,,,,.000,0.0%,0.0%,0.0%,0.0%,0.0%,\n",
        "\n",
        "year1922"
       ]
      },
      {
       "output_type": "stream",
       "stream": "stdout",
       "text": [
        "\n",
        "1.,BOS,AL,1922,154,5,873,,,,,,.000,0.0%,0.0%,0.0%,0.0%,0.0%,\n",
        "\n",
        "year1923"
       ]
      },
      {
       "output_type": "stream",
       "stream": "stdout",
       "text": [
        "\n",
        "1.,BOS,AL,1923,154,5,761,,,,,,.000,0.0%,0.0%,0.0%,0.0%,0.0%,\n",
        "\n",
        "year1924"
       ]
      },
      {
       "output_type": "stream",
       "stream": "stdout",
       "text": [
        "\n",
        "1.,BOS,AL,1924,157,6,180,,,,,,.000,0.0%,0.0%,0.0%,0.0%,0.0%,\n",
        "\n",
        "year1925"
       ]
      },
      {
       "output_type": "stream",
       "stream": "stdout",
       "text": [
        "\n",
        "1.,BOS,AL,1925,152,5,840,,,,,,.000,0.0%,0.0%,0.0%,0.0%,0.0%,\n",
        "\n",
        "year1926"
       ]
      },
      {
       "output_type": "stream",
       "stream": "stdout",
       "text": [
        "\n",
        "1.,BOS,AL,1926,154,5,867,,,,,,.000,0.0%,0.0%,0.0%,0.0%,0.0%,\n",
        "\n",
        "year1927"
       ]
      },
      {
       "output_type": "stream",
       "stream": "stdout",
       "text": [
        "\n",
        "1.,BOS,AL,1927,154,5,865,,,,,,.000,0.0%,0.0%,0.0%,0.0%,0.0%,\n",
        "\n",
        "year1928"
       ]
      },
      {
       "output_type": "stream",
       "stream": "stdout",
       "text": [
        "\n",
        "1.,BOS,AL,1928,154,5,757,,,,,,.000,0.0%,0.0%,0.0%,0.0%,0.0%,\n",
        "\n",
        "year1929"
       ]
      },
      {
       "output_type": "stream",
       "stream": "stdout",
       "text": [
        "\n",
        "1.,BOS,AL,1929,155,5,779,,,,,,.000,0.0%,0.0%,0.0%,0.0%,0.0%,\n",
        "\n",
        "year1930"
       ]
      },
      {
       "output_type": "stream",
       "stream": "stdout",
       "text": [
        "\n",
        "1.,BOS,AL,1930,154,5,805,,,,,,.000,0.0%,0.0%,0.0%,0.0%,0.0%,\n",
        "\n",
        "year1931"
       ]
      },
      {
       "output_type": "stream",
       "stream": "stdout",
       "text": [
        "\n",
        "1.,BOS,AL,1931,153,5,864,,,,,,.000,0.0%,0.0%,0.0%,0.0%,0.0%,\n",
        "\n",
        "year1932"
       ]
      },
      {
       "output_type": "stream",
       "stream": "stdout",
       "text": [
        "\n",
        "1.,BOS,AL,1932,154,5,856,,,,,,.000,0.0%,0.0%,0.0%,0.0%,0.0%,\n",
        "\n",
        "year1933"
       ]
      },
      {
       "output_type": "stream",
       "stream": "stdout",
       "text": [
        "\n",
        "1.,BOS,AL,1933,149,5,853,,,,,,.000,0.0%,0.0%,0.0%,0.0%,0.0%,\n",
        "\n",
        "year1934"
       ]
      },
      {
       "output_type": "stream",
       "stream": "stdout",
       "text": [
        "\n",
        "1.,BOS,AL,1934,153,6,043,,,,,,.000,0.0%,0.0%,0.0%,0.0%,0.0%,\n",
        "\n",
        "year1935"
       ]
      },
      {
       "output_type": "stream",
       "stream": "stdout",
       "text": [
        "\n",
        "1.,BOS,AL,1935,154,6,058,,,,,,.000,0.0%,0.0%,0.0%,0.0%,0.0%,\n",
        "\n",
        "year1936"
       ]
      },
      {
       "output_type": "stream",
       "stream": "stdout",
       "text": [
        "\n",
        "1.,BOS,AL,1936,155,6,098,,,,,,.000,0.0%,0.0%,0.0%,0.0%,0.0%,\n",
        "\n",
        "year1937"
       ]
      },
      {
       "output_type": "stream",
       "stream": "stdout",
       "text": [
        "\n",
        "1.,BOS,AL,1937,154,6,085,,,,,,.000,0.0%,0.0%,0.0%,0.0%,0.0%,\n",
        "\n",
        "year1938"
       ]
      },
      {
       "output_type": "stream",
       "stream": "stdout",
       "text": [
        "\n",
        "1.,BOS,AL,1938,150,6,003,,,,,,.000,0.0%,0.0%,0.0%,0.0%,0.0%,\n",
        "\n",
        "year1939"
       ]
      },
      {
       "output_type": "stream",
       "stream": "stdout",
       "text": [
        "\n",
        "1.,BOS,AL,1939,152,6,054,,,,,,.000,0.0%,0.0%,0.0%,0.0%,0.0%,\n",
        "\n",
        "year1940"
       ]
      },
      {
       "output_type": "stream",
       "stream": "stdout",
       "text": [
        "\n",
        "1.,BOS,AL,1940,154,6,174,,,,,,.000,0.0%,0.0%,0.0%,0.0%,0.0%,\n",
        "\n",
        "year1941"
       ]
      },
      {
       "output_type": "stream",
       "stream": "stdout",
       "text": [
        "\n",
        "1.,BOS,AL,1941,155,6,179,,,,,,.000,0.0%,0.0%,0.0%,0.0%,0.0%,\n",
        "\n",
        "year1942"
       ]
      },
      {
       "output_type": "stream",
       "stream": "stdout",
       "text": [
        "\n",
        "1.,BOS,AL,1942,152,5,984,,,,,,.000,0.0%,0.0%,0.0%,0.0%,0.0%,\n",
        "\n",
        "year1943"
       ]
      },
      {
       "output_type": "stream",
       "stream": "stdout",
       "text": [
        "\n",
        "1.,BOS,AL,1943,155,6,010,,,,,,.000,0.0%,0.0%,0.0%,0.0%,0.0%,\n",
        "\n",
        "year1944"
       ]
      },
      {
       "output_type": "stream",
       "stream": "stdout",
       "text": [
        "\n",
        "1.,BOS,AL,1944,156,6,052,,,,,,.000,0.0%,0.0%,0.0%,0.0%,0.0%,\n",
        "\n",
        "year1945"
       ]
      },
      {
       "output_type": "stream",
       "stream": "stdout",
       "text": [
        "\n",
        "1.,BOS,AL,1945,157,6,018,,,,,,.000,0.0%,0.0%,0.0%,0.0%,0.0%,\n",
        "\n",
        "year1946"
       ]
      },
      {
       "output_type": "stream",
       "stream": "stdout",
       "text": [
        "\n",
        "1.,BOS,AL,1946,156,6,126,,,,,,.000,0.0%,0.0%,0.0%,0.0%,0.0%,\n",
        "\n",
        "year1947"
       ]
      },
      {
       "output_type": "stream",
       "stream": "stdout",
       "text": [
        "\n",
        "1.,BOS,AL,1947,157,6,100,,,,,,.000,0.0%,0.0%,0.0%,0.0%,0.0%,\n",
        "\n",
        "year1948"
       ]
      },
      {
       "output_type": "stream",
       "stream": "stdout",
       "text": [
        "\n",
        "1.,BOS,AL,1948,155,6,282,,,,,,.000,0.0%,0.0%,0.0%,0.0%,0.0%,\n",
        "\n",
        "year1949"
       ]
      },
      {
       "output_type": "stream",
       "stream": "stdout",
       "text": [
        "\n",
        "1.,BOS,AL,1949,155,6,250,,,,,,.000,0.0%,0.0%,0.0%,0.0%,0.0%,\n",
        "\n",
        "year1950"
       ]
      },
      {
       "output_type": "stream",
       "stream": "stdout",
       "text": [
        "\n",
        "1.,BOS,AL,1950,154,6,322,2869,1248,1426,109,86,.000,12.0%,43.5%,49.7%,3.8%,3.0%,\n",
        "\n",
        "year1951"
       ]
      },
      {
       "output_type": "stream",
       "stream": "stdout",
       "text": [
        "\n",
        "1.,BOS,AL,1951,154,6,211,3459,1631,1666,120,42,.000,11.5%,47.2%,48.2%,3.5%,1.2%,\n",
        "\n",
        "year1952"
       ]
      },
      {
       "output_type": "stream",
       "stream": "stdout",
       "text": [
        "\n",
        "1.,BOS,AL,1952,154,5,885,3233,1370,1562,169,132,.000,11.0%,42.4%,48.3%,5.2%,4.1%,\n",
        "\n",
        "year1953"
       ]
      },
      {
       "output_type": "stream",
       "stream": "stdout",
       "text": [
        "\n",
        "1.,BOS,AL,1953,153,5,878,3404,1403,1582,163,258,.000,9.4%,41.2%,46.5%,4.8%,7.6%,\n",
        "\n",
        "year1954"
       ]
      },
      {
       "output_type": "stream",
       "stream": "stdout",
       "text": [
        "\n",
        "1.,BAL,AL,1954,154,5,837,3424,1261,1679,158,327,.275,11.4%,36.8%,49.0%,4.6%,9.6%,\n",
        "\n",
        "year1955"
       ]
      },
      {
       "output_type": "stream",
       "stream": "stdout",
       "text": [
        "\n",
        "1.,BAL,AL,1955,156,5,935,3362,1543,1616,194,11,.269,9.9%,45.9%,48.1%,5.8%,0.3%,\n",
        "\n",
        "year1956"
       ]
      },
      {
       "output_type": "stream",
       "stream": "stdout",
       "text": [
        "\n",
        "1.,BAL,AL,1956,154,5,788,3255,1480,1595,161,19,.267,11.4%,45.5%,49.0%,4.9%,0.6%,\n",
        "\n",
        "year1957"
       ]
      },
      {
       "output_type": "stream",
       "stream": "stdout",
       "text": [
        "\n",
        "1.,BAL,AL,1957,154,5,966,3422,1502,1724,178,20,.273,10.7%,43.9%,50.4%,5.2%,0.6%,\n",
        "\n",
        "year1958"
       ]
      },
      {
       "output_type": "stream",
       "stream": "stdout",
       "text": [
        "\n",
        "1.,BAL,AL,1958,154,5,720,3278,1281,1632,228,140,.261,12.0%,39.1%,49.8%,7.0%,4.3%,\n",
        "\n",
        "year1959"
       ]
      },
      {
       "output_type": "stream",
       "stream": "stdout",
       "text": [
        "\n",
        "1.,BAL,AL,1959,155,5,883,3559,1249,1899,175,242,.255,10.7%,35.1%,53.4%,4.9%,6.8%,\n",
        "\n",
        "year1960"
       ]
      },
      {
       "output_type": "stream",
       "stream": "stdout",
       "text": [
        "\n",
        "1.,BAL,AL,1960,154,5,911,3236,1367,1596,177,100,.276,10.7%,42.2%,49.3%,5.5%,3.1%,\n",
        "\n",
        "year1961"
       ]
      },
      {
       "output_type": "stream",
       "stream": "stdout",
       "text": [
        "\n",
        "1.,BAL,AL,1961,163,6,211,3355,1254,1630,127,348,.278,11.2%,37.4%,48.6%,3.8%,10.4%,\n",
        "\n",
        "year1962"
       ]
      },
      {
       "output_type": "stream",
       "stream": "stdout",
       "text": [
        "\n",
        "1.,BAL,AL,1962,162,6,158,3376,1511,1681,138,48,.271,11.1%,44.8%,49.8%,4.1%,1.4%,\n",
        "\n",
        "year1963"
       ]
      },
      {
       "output_type": "stream",
       "stream": "stdout",
       "text": [
        "\n",
        "1.,BAL,AL,1963,162,6,055,3309,1392,1722,175,27,.276,11.1%,42.1%,52.0%,5.3%,0.8%,\n",
        "\n",
        "year1964"
       ]
      },
      {
       "output_type": "stream",
       "stream": "stdout",
       "text": [
        "\n",
        "1.,BAL,AL,1964,163,6,143,3255,1327,1748,161,25,.276,11.6%,40.8%,53.7%,4.9%,0.8%,\n",
        "\n",
        "year1965"
       ]
      },
      {
       "output_type": "stream",
       "stream": "stdout",
       "text": [
        "\n",
        "1.,BAL,AL,1965,162,6,138,3392,1488,1758,148,3,.264,12.7%,43.9%,51.8%,4.4%,0.1%,\n",
        "\n",
        "year1966"
       ]
      },
      {
       "output_type": "stream",
       "stream": "stdout",
       "text": [
        "\n",
        "1.,ATL,NL,1966,163,6,286,3232,1206,1618,162,248,.279,9.7%,37.3%,50.1%,5.0%,7.7%,\n",
        "\n",
        "year1967"
       ]
      },
      {
       "output_type": "stream",
       "stream": "stdout",
       "text": [
        "\n",
        "1.,ATL,NL,1967,162,6,088,3183,1234,1598,145,208,.262,12.3%,38.7%,50.2%,4.6%,6.5%,\n",
        "\n",
        "year1968"
       ]
      },
      {
       "output_type": "stream",
       "stream": "stdout",
       "text": [
        "\n",
        "1.,ATL,NL,1968,163,6,118,3243,1123,1743,133,249,.279,15.3%,34.6%,53.7%,4.1%,7.7%,\n",
        "\n",
        "year1969"
       ]
      },
      {
       "output_type": "stream",
       "stream": "stdout",
       "text": [
        "\n",
        "1.,ATL,NL,1969,162,6,098,3556,1266,1952,116,227,.271,11.1%,35.6%,54.9%,3.3%,6.4%,\n",
        "\n",
        "year1970"
       ]
      },
      {
       "output_type": "stream",
       "stream": "stdout",
       "text": [
        "\n",
        "1.,ATL,NL,1970,162,6,202,3472,1244,1956,116,158,.285,11.3%,35.8%,56.3%,3.3%,4.6%,\n",
        "\n",
        "year1971"
       ]
      },
      {
       "output_type": "stream",
       "stream": "stdout",
       "text": [
        "\n",
        "1.,ATL,NL,1971,162,6,172,3535,1407,1803,163,163,.271,10.4%,39.8%,51.0%,4.6%,4.6%,\n",
        "\n",
        "year1972"
       ]
      },
      {
       "output_type": "stream",
       "stream": "stdout",
       "text": [
        "\n",
        "1.,ATL,NL,1972,155,5,938,3334,1259,1712,223,145,.277,11.0%,37.7%,51.3%,6.7%,4.3%,\n",
        "\n",
        "year1973"
       ]
      },
      {
       "output_type": "stream",
       "stream": "stdout",
       "text": [
        "\n",
        "1.,ATL,NL,1973,162,6,384,3441,1364,1683,205,191,.281,9.4%,39.6%,48.9%,6.0%,5.6%,\n",
        "\n",
        "year1974"
       ]
      },
      {
       "output_type": "stream",
       "stream": "stdout",
       "text": [
        "\n",
        "1.,ATL,NL,1974,163,6,279,3703,1428,1906,226,148,.268,10.0%,38.6%,51.5%,6.1%,4.0%,\n",
        "\n",
        "year1975"
       ]
      },
      {
       "output_type": "stream",
       "stream": "stdout",
       "text": [
        "\n",
        "1.,ATL,NL,1975,161,6,092,3647,1363,1917,212,157,.265,11.8%,37.4%,52.6%,5.8%,4.3%,\n",
        "\n",
        "year1976"
       ]
      },
      {
       "output_type": "stream",
       "stream": "stdout",
       "text": [
        "\n",
        "1.,ATL,NL,1976,162,6,107,3525,1393,1823,198,112,.273,10.8%,39.5%,51.7%,5.6%,3.2%,\n",
        "\n",
        "year1977"
       ]
      },
      {
       "output_type": "stream",
       "stream": "stdout",
       "text": [
        "\n",
        "1.,ATL,NL,1977,162,6,205,3480,1257,1954,146,126,.278,11.5%,36.1%,56.1%,4.2%,3.6%,\n",
        "\n",
        "year1978"
       ]
      },
      {
       "output_type": "stream",
       "stream": "stdout",
       "text": [
        "\n",
        "1.,ATL,NL,1978,162,6,066,3409,1344,1761,179,130,.269,12.8%,39.4%,51.7%,5.3%,3.8%,\n",
        "\n",
        "year1979"
       ]
      },
      {
       "output_type": "stream",
       "stream": "stdout",
       "text": [
        "\n",
        "1.,ATL,NL,1979,160,6,035,3412,1287,1769,190,167,.280,9.9%,37.7%,51.8%,5.6%,4.9%,\n",
        "\n",
        "year1980"
       ]
      },
      {
       "output_type": "stream",
       "stream": "stdout",
       "text": [
        "\n",
        "1.,ATL,NL,1980,161,5,958,3257,1303,1625,103,231,.275,12.2%,40.0%,49.9%,3.2%,7.1%,\n",
        "\n",
        "year1981"
       ]
      },
      {
       "output_type": "stream",
       "stream": "stdout",
       "text": [
        "\n",
        "1.,ATL,NL,1981,107,4,055,2374,840,1294,124,116,.269,12.9%,35.4%,54.5%,5.2%,4.9%,\n",
        "\n",
        "year1982"
       ]
      },
      {
       "output_type": "stream",
       "stream": "stdout",
       "text": [
        "\n",
        "1.,ATL,NL,1982,162,6,229,3373,1221,1782,129,242,.279,9.2%,36.2%,52.8%,3.8%,7.2%,\n",
        "\n",
        "year1983"
       ]
      },
      {
       "output_type": "stream",
       "stream": "stdout",
       "text": [
        "\n",
        "1.,ATL,NL,1983,162,6,195,3271,1288,1753,128,106,.299,12.0%,39.4%,53.6%,3.9%,3.2%,\n",
        "\n",
        "year1984"
       ]
      },
      {
       "output_type": "stream",
       "stream": "stdout",
       "text": [
        "\n",
        "1.,ATL,NL,1984,162,6,106,3302,1461,1762,51,29,.275,10.6%,44.2%,53.4%,1.5%,0.9%,\n",
        "\n",
        "year1985"
       ]
      },
      {
       "output_type": "stream",
       "stream": "stdout",
       "text": [
        "\n",
        "1.,ATL,NL,1985,162,6,207,3437,1451,1834,131,23,.269,12.6%,42.2%,53.4%,3.8%,0.7%,\n",
        "\n",
        "year1986"
       ]
      },
      {
       "output_type": "stream",
       "stream": "stdout",
       "text": [
        "\n",
        "1.,ATL,NL,1986,161,6,067,4149,1550,2065,520,19,.276,11.6%,37.4%,49.8%,12.5%,0.5%,\n",
        "\n",
        "year1987"
       ]
      },
      {
       "output_type": "stream",
       "stream": "stdout",
       "text": [
        "\n",
        "1.,ATL,NL,1987,161,6,227,4182,1429,2110,573,77,.279,11.6%,34.2%,50.5%,13.7%,1.8%,\n",
        "\n",
        "year1988"
       ]
      },
      {
       "output_type": "stream",
       "stream": "stdout",
       "text": [
        "\n",
        "1.,ATL,NL,1988,160,6,013,4595,1339,2251,839,167,.269,14.0%,29.1%,49.0%,18.3%,3.6%,\n",
        "\n",
        "year1989"
       ]
      },
      {
       "output_type": "stream",
       "stream": "stdout",
       "text": [
        "\n",
        "1.,ATL,NL,1989,161,6,079,4454,1242,2013,762,438,.263,9.1%,27.9%,45.2%,17.1%,9.8%,\n",
        "\n",
        "year1990"
       ]
      },
      {
       "output_type": "stream",
       "stream": "stdout",
       "text": [
        "\n",
        "1.,ATL,NL,1990,162,6,084,4283,1185,1881,781,436,.278,10.2%,27.7%,43.9%,18.2%,10.2%,\n",
        "\n",
        "year1991"
       ]
      },
      {
       "output_type": "stream",
       "stream": "stdout",
       "text": [
        "\n",
        "1.,ATL,NL,1991,162,6,182,4681,1213,2096,920,452,.284,9.3%,25.9%,44.8%,19.7%,9.7%,\n",
        "\n",
        "year1992"
       ]
      },
      {
       "output_type": "stream",
       "stream": "stdout",
       "text": [
        "\n",
        "1.,ATL,NL,1992,162,6,142,4699,1115,2152,957,483,.280,7.4%,23.7%,45.8%,20.4%,10.3%,\n",
        "\n",
        "year1993"
       ]
      },
      {
       "output_type": "stream",
       "stream": "stdout",
       "text": [
        "\n",
        "1.,ATL,NL,1993,162,6,234,4642,1095,2162,955,434,.287,10.7%,23.6%,46.6%,20.6%,9.3%,\n",
        "\n",
        "year1994"
       ]
      },
      {
       "output_type": "stream",
       "stream": "stdout",
       "text": [
        "\n",
        "1.,ATL,NL,1994,114,4,349,3251,752,1529,668,302,.290,12.8%,23.1%,47.0%,20.5%,9.3%,\n",
        "\n",
        "year1995"
       ]
      },
      {
       "output_type": "stream",
       "stream": "stdout",
       "text": [
        "\n",
        "1.,ATL,NL,1995,144,5,464,3944,922,1926,784,312,.276,10.3%,23.4%,48.8%,19.9%,7.9%,\n",
        "\n",
        "year1996"
       ]
      },
      {
       "output_type": "stream",
       "stream": "stdout",
       "text": [
        "\n",
        "1.,ATL,NL,1996,162,6,290,4543,1064,2241,935,304,.297,12.2%,23.4%,49.3%,20.6%,6.7%,\n",
        "\n",
        "year1997"
       ]
      },
      {
       "output_type": "stream",
       "stream": "stdout",
       "text": [
        "\n",
        "1.,ANA,AL,1997,162,6,387,4607,1218,2096,923,371,.300,10.0%,26.4%,45.5%,20.0%,8.1%,\n",
        "\n",
        "year1998"
       ]
      },
      {
       "output_type": "stream",
       "stream": "stdout",
       "text": [
        "\n",
        "1.,ANA,AL,1998,162,6,278,4687,1235,2215,911,326,.308,9.9%,26.3%,47.3%,19.4%,7.0%,\n",
        "\n",
        "year1999"
       ]
      },
      {
       "output_type": "stream",
       "stream": "stdout",
       "text": [
        "\n",
        "1.,ANA,AL,1999,162,6,131,4555,1170,2057,920,408,.286,11.3%,25.7%,45.2%,20.2%,9.0%,\n",
        "\n",
        "year2000"
       ]
      },
      {
       "output_type": "stream",
       "stream": "stdout",
       "text": [
        "\n",
        "1.,ANA,AL,2000,162,6,373,3141,1182,1555,186,218,.303,10.1%,37.6%,49.5%,5.9%,6.9%,\n",
        "\n",
        "year2001"
       ]
      },
      {
       "output_type": "stream",
       "stream": "stdout",
       "text": [
        "\n",
        "1.,ANA,AL,2001,162,6,221,3226,1224,1558,189,257,.290,9.0%,37.9%,48.3%,5.9%,8.0%,\n",
        "\n",
        "year2002"
       ]
      },
      {
       "output_type": "stream",
       "stream": "stdout",
       "text": [
        "\n",
        "1.,ANA,AL,2002,162,6,327,3409,1352,1574,210,273,.303,8.5%,39.7%,46.2%,6.2%,8.0%,\n",
        "\n",
        "year2003"
       ]
      },
      {
       "output_type": "stream",
       "stream": "stdout",
       "text": [
        "\n",
        "1.,ANA,AL,2003,162,6,119,4739,1333,2047,936,424,.291,11.0%,28.1%,43.2%,19.8%,8.9%,\n",
        "\n",
        "year2004"
       ]
      },
      {
       "output_type": "stream",
       "stream": "stdout",
       "text": [
        "\n",
        "1.,ANA,AL,2004,162,6,295,4827,1315,2236,912,364,.312,10.0%,27.2%,46.3%,18.9%,7.5%,\n",
        "\n",
        "year2005"
       ]
      },
      {
       "output_type": "stream",
       "stream": "stdout",
       "text": [
        "\n",
        "1.,ANA,AL,2005,162,6,182,4858,1483,2139,814,422,.294,11.4%,30.5%,44.0%,16.8%,8.7%,\n",
        "\n",
        "year2006"
       ]
      },
      {
       "output_type": "stream",
       "stream": "stdout",
       "text": [
        "\n",
        "1.,ANA,AL,2006,162,6,221,4776,1433,2161,831,353,.301,11.3%,30.0%,45.2%,17.4%,7.4%,\n",
        "\n",
        "year2007"
       ]
      },
      {
       "output_type": "stream",
       "stream": "stdout",
       "text": [
        "\n",
        "1.,ANA,AL,2007,162,6,198,4766,1275,2302,823,366,.315,11.5%,26.8%,48.3%,17.3%,7.7%,\n",
        "\n",
        "year2008"
       ]
      },
      {
       "output_type": "stream",
       "stream": "stdout",
       "text": [
        "\n",
        "1.,ANA,AL,2008,162,6,155,4635,1309,2211,748,367,.299,12.3%,28.2%,47.7%,16.1%,7.9%,\n",
        "\n",
        "year2009"
       ]
      },
      {
       "output_type": "stream",
       "stream": "stdout",
       "text": [
        "\n",
        "1.,ANA,AL,2009,162,6,305,4662,1391,2140,800,331,.322,10.7%,29.8%,45.9%,17.2%,7.1%,\n",
        "\n",
        "year2010"
       ]
      },
      {
       "output_type": "stream",
       "stream": "stdout",
       "text": [
        "\n",
        "1.,ANA,AL,2010,162,6,085,4497,1364,2142,719,272,.281,11.4%,30.3%,47.6%,16.0%,6.0%,\n",
        "\n",
        "year2011"
       ]
      },
      {
       "output_type": "stream",
       "stream": "stdout",
       "text": [
        "\n",
        "1.,ANA,AL,2011,162,6,088,4509,1324,2089,707,389,.288,12.7%,29.4%,46.3%,15.7%,8.6%,\n",
        "\n",
        "year2012"
       ]
      },
      {
       "output_type": "stream",
       "stream": "stdout",
       "text": [
        "\n",
        "1.,ANA,AL,2012,162,6,121,4511,1212,2220,768,311,.311,12.5%,26.9%,49.2%,17.0%,6.9%,\n",
        "\n",
        "year2013"
       ]
      },
      {
       "output_type": "stream",
       "stream": "stdout",
       "text": [
        "\n",
        "1.,ANA,AL,2013,162,6,260,4468,1033,2112,1051,272,.307,12.6%,23.1%,47.3%,23.5%,6.1%,\n",
        "\n",
        "year2014"
       ]
      },
      {
       "output_type": "stream",
       "stream": "stdout",
       "text": [
        "\n",
        "1.,ANA,AL,2014,162,6,284,4467,917,2098,1117,335,.305,9.5%,20.5%,47.0%,25.0%,7.5%,\n",
        "\n"
       ]
      }
     ],
     "prompt_number": 1
    }
   ],
   "metadata": {}
  }
 ]
}