{
 "metadata": {
  "name": "",
  "signature": "sha256:8574688e75fb0f1c18e0fce8d3c39fe2aae570c3fd8b5d557029946f61db47b1"
 },
 "nbformat": 3,
 "nbformat_minor": 0,
 "worksheets": [
  {
   "cells": [
    {
     "cell_type": "code",
     "collapsed": false,
     "input": [
      "#\u9996\u5148Name\u8981\u6392\u5e8f\n",
      "#\u8981\u6ce8\u610f\u7684\u5730\u65b9\u6709\u56db\u500b range, year, fileName, page_limit\n",
      "import string\n",
      "import time\n",
      "import requests\n",
      "from bs4 import BeautifulSoup\n",
      "headers={\n",
      "    'User-Agent':'Mozilla/5.0 (Windows NT 6.1; WOW64) AppleWebKit/537.36 (KHTML, like Gecko) Chrome/40.0.2214.93 Safari/537.36'\n",
      "}\n",
      "url='http://www.baseballprospectus.com/sortable/index.php'      \n",
      "for year in range(1871,2015): #2015\u6c92\u7b97\u5230**************\n",
      "    payload={\n",
      "            'mystatslist':'NAME,TEAM,YEAR,PA,PA_ROB,R1,R2,R3,R1_BI,R2_BI,R3_BI,ROB,OBI,R1BI_PERCENT,R2BI_PERCENT,R3BI_PERCENT,OBI_PERCENT',\n",
      "            'category':'batter_team_year',\n",
      "            'tablename':'dyna_batter_team_year',\n",
      "            'stage':'data',\n",
      "            'year':'%d'%(year),#*********************\n",
      "            'mystatslist':'NAME,TEAM,YEAR,PA,PA_ROB,R1,R2,R3,R1_BI,R2_BI,R3_BI,ROB,OBI,R1BI_PERCENT,R2BI_PERCENT,R3BI_PERCENT,OBI_PERCENT',\n",
      "            'category':'batter_team_year',\n",
      "            'tablename':'dyna_batter_team_year',\n",
      "            'stage':'data',\n",
      "            'group_TEAM':'*',\n",
      "            'group_LG':'*',\n",
      "            'group_PRIMARY_POS_LABEL':'*',\n",
      "            'minimum':'0',\n",
      "            'sort1column':'NAME',\n",
      "            'sort1order':'ASC',\n",
      "            'page_limit':'All',#*********************\n",
      "            'tt_team':'*',\n",
      "            'show_ttroster':'1',\n",
      "            'show_ttwatched':'1',\n",
      "            'viewdata':'View Data',\n",
      "        }\n",
      "    res=requests.post(url,data=payload,headers=headers)\n",
      "    soup=BeautifulSoup(res.text.encode('utf-8'))    \n",
      "    trList=soup.select('#TTdata')[0].select('tr')    \n",
      "    fileName= str(year)+'_RBIOpportunities.csv'#*********************\n",
      "    fid=open('Baseball\\\\'+fileName,'w')    \n",
      "    for tr in trList:\n",
      "        for td in tr.select('td'):\n",
      "            fid.write(td.text.encode('utf-8')+',')\n",
      "        fid.write('\\n')\n",
      "    fid.close()\n",
      "    fod=open('Baseball\\\\'+fileName,'r')\n",
      "    print 'year'+str(year)\n",
      "    print fod.readlines()[1]\n",
      "    fod.close()\n",
      "    time.sleep(2)"
     ],
     "language": "python",
     "metadata": {},
     "outputs": [
      {
       "output_type": "stream",
       "stream": "stdout",
       "text": [
        "year1871\n",
        "1.,Al Barker,RC1,1871,5,,,,,,,,,2,0.0%,0.0%,0.0%,0.0%,\n",
        "\n",
        "year1872"
       ]
      },
      {
       "output_type": "stream",
       "stream": "stdout",
       "text": [
        "\n",
        "1., O'rourke,BR1,1872,4,,,,,,,,,0,0.0%,0.0%,0.0%,0.0%,\n",
        "\n",
        "year1873"
       ]
      },
      {
       "output_type": "stream",
       "stream": "stdout",
       "text": [
        "\n",
        "1., Jones\u00e2\u0094\u0090,BL4,1873,4,,,,,,,,,1,0.0%,0.0%,0.0%,0.0%,\n",
        "\n",
        "year1874"
       ]
      },
      {
       "output_type": "stream",
       "stream": "stdout",
       "text": [
        "\n",
        "1., Jones\u00e2\u0094\u0090,BL1,1874,7,,,,,,,,,1,0.0%,0.0%,0.0%,0.0%,\n",
        "\n",
        "year1875"
       ]
      },
      {
       "output_type": "stream",
       "stream": "stdout",
       "text": [
        "\n",
        "1.,Adam Rocap,PH1,1875,70,,,,,,,,,4,0.0%,0.0%,0.0%,0.0%,\n",
        "\n",
        "year1876"
       ]
      },
      {
       "output_type": "stream",
       "stream": "stdout",
       "text": [
        "\n",
        "1.,Al Nichols,NY3,1876,214,,,,,,,,,9,0.0%,0.0%,0.0%,0.0%,\n",
        "\n",
        "year1877"
       ]
      },
      {
       "output_type": "stream",
       "stream": "stdout",
       "text": [
        "\n",
        "1.,Al Nichols,LS1,1877,19,,,,,,,,,0,0.0%,0.0%,0.0%,0.0%,\n",
        "\n",
        "year1878"
       ]
      },
      {
       "output_type": "stream",
       "stream": "stdout",
       "text": [
        "\n",
        "1.,Abner Dalrymple,ML2,1878,277,,,,,,,,,15,0.0%,0.0%,0.0%,0.0%,\n",
        "\n",
        "year1879"
       ]
      },
      {
       "output_type": "stream",
       "stream": "stdout",
       "text": [
        "\n",
        "1.,Aaron Clapp,TRN,1879,152,,,,,,,,,18,0.0%,0.0%,0.0%,0.0%,\n",
        "\n",
        "year1880"
       ]
      },
      {
       "output_type": "stream",
       "stream": "stdout",
       "text": [
        "\n",
        "1.,Abner Dalrymple,CHN,1880,385,,,,,,,,,36,0.0%,0.0%,0.0%,0.0%,\n",
        "\n",
        "year1881"
       ]
      },
      {
       "output_type": "stream",
       "stream": "stdout",
       "text": [
        "\n",
        "1.,Abner Dalrymple,CHN,1881,377,,,,,,,,,36,0.0%,0.0%,0.0%,0.0%,\n",
        "\n",
        "year1882"
       ]
      },
      {
       "output_type": "stream",
       "stream": "stdout",
       "text": [
        "\n",
        "1.,Abner Dalrymple,CHN,1882,411,,,,,,,,,35,0.0%,0.0%,0.0%,0.0%,\n",
        "\n",
        "year1883"
       ]
      },
      {
       "output_type": "stream",
       "stream": "stdout",
       "text": [
        "\n",
        "1.,Abe Wolstenholme,PHI,1883,11,,,,,,,,,0,0.0%,0.0%,0.0%,0.0%,\n",
        "\n",
        "year1884"
       ]
      },
      {
       "output_type": "stream",
       "stream": "stdout",
       "text": [
        "\n",
        "1., Franklin\u00e2\u0094\u0090,WSU,1884,3,,,,,,,,,0,0.0%,0.0%,0.0%,0.0%,\n",
        "\n",
        "year1885"
       ]
      },
      {
       "output_type": "stream",
       "stream": "stdout",
       "text": [
        "\n",
        "1., Jones\u00e2\u0094\u0090,NY4,1885,4,,,,,,,,,0,0.0%,0.0%,0.0%,0.0%,\n",
        "\n",
        "year1886"
       ]
      },
      {
       "output_type": "stream",
       "stream": "stdout",
       "text": [
        "\n",
        "1., Joyce\u00e2\u0094\u0090,WS8,1886,0,,,,,,,,,0,0.0%,0.0%,0.0%,0.0%,\n",
        "\n",
        "year1887"
       ]
      },
      {
       "output_type": "stream",
       "stream": "stdout",
       "text": [
        "\n",
        "1.,Abner Dalrymple,PIT,1887,409,,,,,,,,,29,0.0%,0.0%,0.0%,0.0%,\n",
        "\n",
        "year1888"
       ]
      },
      {
       "output_type": "stream",
       "stream": "stdout",
       "text": [
        "\n",
        "1.,Abner Dalrymple,PIT,1888,235,,,,,,,,,14,0.0%,0.0%,0.0%,0.0%,\n",
        "\n",
        "year1889"
       ]
      },
      {
       "output_type": "stream",
       "stream": "stdout",
       "text": [
        "\n",
        "1.,Ad Gumbert,CHN,1889,165,,,,,,,,,22,0.0%,0.0%,0.0%,0.0%,\n",
        "\n",
        "year1890"
       ]
      },
      {
       "output_type": "stream",
       "stream": "stdout",
       "text": [
        "\n",
        "1.,Ad Gumbert,BSP,1890,165,,,,,,,,,17,0.0%,0.0%,0.0%,0.0%,\n",
        "\n",
        "year1891"
       ]
      },
      {
       "output_type": "stream",
       "stream": "stdout",
       "text": [
        "\n",
        "1.,Abner Dalrymple,ML3,1891,142,,,,,,,,,21,0.0%,0.0%,0.0%,0.0%,\n",
        "\n",
        "year1892"
       ]
      },
      {
       "output_type": "stream",
       "stream": "stdout",
       "text": [
        "\n",
        "1., Collins\u00e2\u0094\u0090,SLN,1892,2,,,,,,,,,0,0.0%,0.0%,0.0%,0.0%,\n",
        "\n",
        "year1893"
       ]
      },
      {
       "output_type": "stream",
       "stream": "stdout",
       "text": [
        "\n",
        "1., Kinsler\u00e2\u0094\u0090,NY1,1893,4,,,,,,,,,0,0.0%,0.0%,0.0%,0.0%,\n",
        "\n",
        "year1894"
       ]
      },
      {
       "output_type": "stream",
       "stream": "stdout",
       "text": [
        "\n",
        "1.,Ad Gumbert,PIT,1894,123,,,,,,,,,18,0.0%,0.0%,0.0%,0.0%,\n",
        "\n",
        "year1895"
       ]
      },
      {
       "output_type": "stream",
       "stream": "stdout",
       "text": [
        "\n",
        "1.,Ace Stewart,CHN,1895,408,,,,,,,,,68,0.0%,0.0%,0.0%,0.0%,\n",
        "\n",
        "year1896"
       ]
      },
      {
       "output_type": "stream",
       "stream": "stdout",
       "text": [
        "\n",
        "1.,Abbie Johnson,LS3,1896,93,,,,,,,,,14,0.0%,0.0%,0.0%,0.0%,\n",
        "\n",
        "year1897"
       ]
      },
      {
       "output_type": "stream",
       "stream": "stdout",
       "text": [
        "\n",
        "1.,Abbie Johnson,LS3,1897,180,,,,,,,,,23,0.0%,0.0%,0.0%,0.0%,\n",
        "\n",
        "year1898"
       ]
      },
      {
       "output_type": "stream",
       "stream": "stdout",
       "text": [
        "\n",
        "1.,Al Maul,BLN,1898,112,,,,,,,,,10,0.0%,0.0%,0.0%,0.0%,\n",
        "\n",
        "year1899"
       ]
      },
      {
       "output_type": "stream",
       "stream": "stdout",
       "text": [
        "\n",
        "1.,Al Maul,BRO,1899,12,,,,,,,,,0,0.0%,0.0%,0.0%,0.0%,\n",
        "\n",
        "year1900"
       ]
      },
      {
       "output_type": "stream",
       "stream": "stdout",
       "text": [
        "\n",
        "1.,Al Maul,PHI,1900,17,,,,,,,,,1,0.0%,0.0%,0.0%,0.0%,\n",
        "\n",
        "year1901"
       ]
      },
      {
       "output_type": "stream",
       "stream": "stdout",
       "text": [
        "\n",
        "1.,Al Maul,NY1,1901,8,,,,,,,,,1,0.0%,0.0%,0.0%,0.0%,\n",
        "\n",
        "year1902"
       ]
      },
      {
       "output_type": "stream",
       "stream": "stdout",
       "text": [
        "\n",
        "1.,Addie Joss,CLE,1902,115,,,,,,,,,10,0.0%,0.0%,0.0%,0.0%,\n",
        "\n",
        "year1903"
       ]
      },
      {
       "output_type": "stream",
       "stream": "stdout",
       "text": [
        "\n",
        "1.,Addie Joss,CLE,1903,116,,,,,,,,,6,0.0%,0.0%,0.0%,0.0%,\n",
        "\n",
        "year1904"
       ]
      },
      {
       "output_type": "stream",
       "stream": "stdout",
       "text": [
        "\n",
        "1.,Addie Joss,CLE,1904,80,,,,,,,,,3,0.0%,0.0%,0.0%,0.0%,\n",
        "\n",
        "year1905"
       ]
      },
      {
       "output_type": "stream",
       "stream": "stdout",
       "text": [
        "\n",
        "1.,Ad Yale,BRO,1905,14,,,,,,,,,1,0.0%,0.0%,0.0%,0.0%,\n",
        "\n",
        "year1906"
       ]
      },
      {
       "output_type": "stream",
       "stream": "stdout",
       "text": [
        "\n",
        "1.,Addie Joss,CLE,1906,118,,,,,,,,,6,0.0%,0.0%,0.0%,0.0%,\n",
        "\n",
        "year1907"
       ]
      },
      {
       "output_type": "stream",
       "stream": "stdout",
       "text": [
        "\n",
        "1.,Addie Joss,CLE,1907,127,,,,,,,,,6,0.0%,0.0%,0.0%,0.0%,\n",
        "\n",
        "year1908"
       ]
      },
      {
       "output_type": "stream",
       "stream": "stdout",
       "text": [
        "\n",
        "1.,Abe Kruger,BRO,1908,2,,,,,,,,,0,0.0%,0.0%,0.0%,0.0%,\n",
        "\n",
        "year1909"
       ]
      },
      {
       "output_type": "stream",
       "stream": "stdout",
       "text": [
        "\n",
        "1.,Addie Joss,CLE,1909,86,,,,,,,,,4,0.0%,0.0%,0.0%,0.0%,\n",
        "\n",
        "year1910"
       ]
      },
      {
       "output_type": "stream",
       "stream": "stdout",
       "text": [
        "\n",
        "1.,Ad Brennan,PHI,1910,28,,,,,,,,,1,0.0%,0.0%,0.0%,0.0%,\n",
        "\n",
        "year1911"
       ]
      },
      {
       "output_type": "stream",
       "stream": "stdout",
       "text": [
        "\n",
        "1.,Ad Brennan,PHI,1911,10,,,,,,,,,0,0.0%,0.0%,0.0%,0.0%,\n",
        "\n",
        "year1912"
       ]
      },
      {
       "output_type": "stream",
       "stream": "stdout",
       "text": [
        "\n",
        "1.,Ad Brennan,PHI,1912,66,,,,,,,,,5,0.0%,0.0%,0.0%,0.0%,\n",
        "\n",
        "year1913"
       ]
      },
      {
       "output_type": "stream",
       "stream": "stdout",
       "text": [
        "\n",
        "1.,Ad Brennan,PHI,1913,71,,,,,,,,,2,0.0%,0.0%,0.0%,0.0%,\n",
        "\n",
        "year1914"
       ]
      },
      {
       "output_type": "stream",
       "stream": "stdout",
       "text": [
        "\n",
        "1.,Abe Bowman,CLE,1914,21,,,,,,,,,0,0.0%,0.0%,0.0%,0.0%,\n",
        "\n",
        "year1915"
       ]
      },
      {
       "output_type": "stream",
       "stream": "stdout",
       "text": [
        "\n",
        "1.,Abe Bowman,CLE,1915,0,,,,,,,,,0,0.0%,0.0%,0.0%,0.0%,\n",
        "\n",
        "year1916"
       ]
      },
      {
       "output_type": "stream",
       "stream": "stdout",
       "text": [
        "\n",
        "1.,Al Bergman,CLE,1916,16,,,,,,,,,0,0.0%,0.0%,0.0%,0.0%,\n",
        "\n",
        "year1917"
       ]
      },
      {
       "output_type": "stream",
       "stream": "stdout",
       "text": [
        "\n",
        "1.,Aaron Ward,NYA,1917,27,,,,,,,,,1,0.0%,0.0%,0.0%,0.0%,\n",
        "\n",
        "year1918"
       ]
      },
      {
       "output_type": "stream",
       "stream": "stdout",
       "text": [
        "\n",
        "1.,Aaron Ward,NYA,1918,36,,,,,,,,,1,0.0%,0.0%,0.0%,0.0%,\n",
        "\n",
        "year1919"
       ]
      },
      {
       "output_type": "stream",
       "stream": "stdout",
       "text": [
        "\n",
        "1.,Aaron Ward,NYA,1919,40,,,,,,,,,2,0.0%,0.0%,0.0%,0.0%,\n",
        "\n",
        "year1920"
       ]
      },
      {
       "output_type": "stream",
       "stream": "stdout",
       "text": [
        "\n",
        "1.,Aaron Ward,NYA,1920,547,,,,,,,,,43,0.0%,0.0%,0.0%,0.0%,\n",
        "\n",
        "year1921"
       ]
      },
      {
       "output_type": "stream",
       "stream": "stdout",
       "text": [
        "\n",
        "1.,Aaron Ward,NYA,1921,635,,,,,,,,,70,0.0%,0.0%,0.0%,0.0%,\n",
        "\n",
        "year1922"
       ]
      },
      {
       "output_type": "stream",
       "stream": "stdout",
       "text": [
        "\n",
        "1.,Aaron Ward,NYA,1922,641,,,,,,,,,61,0.0%,0.0%,0.0%,0.0%,\n",
        "\n",
        "year1923"
       ]
      },
      {
       "output_type": "stream",
       "stream": "stdout",
       "text": [
        "\n",
        "1.,Aaron Ward,NYA,1923,640,,,,,,,,,72,0.0%,0.0%,0.0%,0.0%,\n",
        "\n",
        "year1924"
       ]
      },
      {
       "output_type": "stream",
       "stream": "stdout",
       "text": [
        "\n",
        "1.,Aaron Ward,NYA,1924,465,,,,,,,,,58,0.0%,0.0%,0.0%,0.0%,\n",
        "\n",
        "year1925"
       ]
      },
      {
       "output_type": "stream",
       "stream": "stdout",
       "text": [
        "\n",
        "1.,Aaron Ward,NYA,1925,500,,,,,,,,,34,0.0%,0.0%,0.0%,0.0%,\n",
        "\n",
        "year1926"
       ]
      },
      {
       "output_type": "stream",
       "stream": "stdout",
       "text": [
        "\n",
        "1.,Aaron Ward,NYA,1926,34,,,,,,,,,3,0.0%,0.0%,0.0%,0.0%,\n",
        "\n",
        "year1927"
       ]
      },
      {
       "output_type": "stream",
       "stream": "stdout",
       "text": [
        "\n",
        "1.,Aaron Ward,CHA,1927,551,,,,,,,,,51,0.0%,0.0%,0.0%,0.0%,\n",
        "\n",
        "year1928"
       ]
      },
      {
       "output_type": "stream",
       "stream": "stdout",
       "text": [
        "\n",
        "1.,Aaron Ward,CLE,1928,11,,,,,,,,,0,0.0%,0.0%,0.0%,0.0%,\n",
        "\n",
        "year1929"
       ]
      },
      {
       "output_type": "stream",
       "stream": "stdout",
       "text": [
        "\n",
        "1.,Ad Liska,WS1,1929,32,,,,,,,,,0,0.0%,0.0%,0.0%,0.0%,\n",
        "\n",
        "year1930"
       ]
      },
      {
       "output_type": "stream",
       "stream": "stdout",
       "text": [
        "\n",
        "1.,Ad Liska,WS1,1930,62,,,,,,,,,3,0.0%,0.0%,0.0%,0.0%,\n",
        "\n",
        "year1931"
       ]
      },
      {
       "output_type": "stream",
       "stream": "stdout",
       "text": [
        "\n",
        "1.,Ad Liska,WS1,1931,1,,,,,,,,,0,0.0%,0.0%,0.0%,0.0%,\n",
        "\n",
        "year1932"
       ]
      },
      {
       "output_type": "stream",
       "stream": "stdout",
       "text": [
        "\n",
        "1.,Ad Liska,PHI,1932,7,,,,,,,,,0,0.0%,0.0%,0.0%,0.0%,\n",
        "\n",
        "year1933"
       ]
      },
      {
       "output_type": "stream",
       "stream": "stdout",
       "text": [
        "\n",
        "1.,Ad Liska,PHI,1933,14,,,,,,,,,1,0.0%,0.0%,0.0%,0.0%,\n",
        "\n",
        "year1934"
       ]
      },
      {
       "output_type": "stream",
       "stream": "stdout",
       "text": [
        "\n",
        "1.,Adam Comorosky,CIN,1934,491,,,,,,,,,40,0.0%,0.0%,0.0%,0.0%,\n",
        "\n",
        "year1935"
       ]
      },
      {
       "output_type": "stream",
       "stream": "stdout",
       "text": [
        "\n",
        "1.,Ab Wright,CLE,1935,177,,,,,,,,,16,0.0%,0.0%,0.0%,0.0%,\n",
        "\n",
        "year1936"
       ]
      },
      {
       "output_type": "stream",
       "stream": "stdout",
       "text": [
        "\n",
        "1.,Al Blanche,BSN,1936,4,,,,,,,,,0,0.0%,0.0%,0.0%,0.0%,\n",
        "\n",
        "year1937"
       ]
      },
      {
       "output_type": "stream",
       "stream": "stdout",
       "text": [
        "\n",
        "1.,Abe White,SLN,1937,1,,,,,,,,,0,0.0%,0.0%,0.0%,0.0%,\n",
        "\n",
        "year1938"
       ]
      },
      {
       "output_type": "stream",
       "stream": "stdout",
       "text": [
        "\n",
        "1.,Ace Parker,PHA,1938,128,,,,,,,,,12,0.0%,0.0%,0.0%,0.0%,\n",
        "\n",
        "year1939"
       ]
      },
      {
       "output_type": "stream",
       "stream": "stdout",
       "text": [
        "\n",
        "1.,Al Benton,DET,1939,52,,,,,,,,,1,0.0%,0.0%,0.0%,0.0%,\n",
        "\n",
        "year1940"
       ]
      },
      {
       "output_type": "stream",
       "stream": "stdout",
       "text": [
        "\n",
        "1.,Ace Williams,BSN,1940,2,,,,,,,,,0,0.0%,0.0%,0.0%,0.0%,\n",
        "\n",
        "year1941"
       ]
      },
      {
       "output_type": "stream",
       "stream": "stdout",
       "text": [
        "\n",
        "1.,Ace Adams,NY1,1941,12,,,,,,,,,0,0.0%,0.0%,0.0%,0.0%,\n",
        "\n",
        "year1942"
       ]
      },
      {
       "output_type": "stream",
       "stream": "stdout",
       "text": [
        "\n",
        "1.,Ace Adams,NY1,1942,10,,,,,,,,,0,0.0%,0.0%,0.0%,0.0%,\n",
        "\n",
        "year1943"
       ]
      },
      {
       "output_type": "stream",
       "stream": "stdout",
       "text": [
        "\n",
        "1.,Aaron Robinson,NYA,1943,1,,,,,,,,,0,0.0%,0.0%,0.0%,0.0%,\n",
        "\n",
        "year1944"
       ]
      },
      {
       "output_type": "stream",
       "stream": "stdout",
       "text": [
        "\n",
        "1.,Ab Wright,BSN,1944,216,,,,,,,,,28,0.0%,0.0%,0.0%,0.0%,\n",
        "\n",
        "year1945"
       ]
      },
      {
       "output_type": "stream",
       "stream": "stdout",
       "text": [
        "\n",
        "1.,Aaron Robinson,NYA,1945,183,,,,,,,,,16,0.0%,0.0%,0.0%,0.0%,\n",
        "\n",
        "year1946"
       ]
      },
      {
       "output_type": "stream",
       "stream": "stdout",
       "text": [
        "\n",
        "1.,Aaron Robinson,NYA,1946,381,,,,,,,,,48,0.0%,0.0%,0.0%,0.0%,\n",
        "\n",
        "year1947"
       ]
      },
      {
       "output_type": "stream",
       "stream": "stdout",
       "text": [
        "\n",
        "1.,Aaron Robinson,NYA,1947,292,,,,,,,,,31,0.0%,0.0%,0.0%,0.0%,\n",
        "\n",
        "year1948"
       ]
      },
      {
       "output_type": "stream",
       "stream": "stdout",
       "text": [
        "\n",
        "1.,Aaron Robinson,CHA,1948,373,,,,,,,,,31,0.0%,0.0%,0.0%,0.0%,\n",
        "\n",
        "year1949"
       ]
      },
      {
       "output_type": "stream",
       "stream": "stdout",
       "text": [
        "\n",
        "1.,Aaron Robinson,DET,1949,411,,,,,,,,,43,0.0%,0.0%,0.0%,0.0%,\n",
        "\n",
        "year1950"
       ]
      },
      {
       "output_type": "stream",
       "stream": "stdout",
       "text": [
        "\n",
        "1.,Aaron Robinson,DET,1950,358,143,107,54,39,3,6,12,200,28,2.8%,11.1%,30.8%,14.0%,\n",
        "\n",
        "year1951"
       ]
      },
      {
       "output_type": "stream",
       "stream": "stdout",
       "text": [
        "\n",
        "1.,Aaron Robinson,DET,1951,99,36,27,14,12,0,0,5,53,9,0.0%,0.0%,41.7%,17.0%,\n",
        "\n",
        "year1952"
       ]
      },
      {
       "output_type": "stream",
       "stream": "stdout",
       "text": [
        "\n",
        "1.,Al Benton,BOS,1952,11,6,5,3,0,0,0,0,8,0,0.0%,0.0%,0.0%,0.0%,\n",
        "\n",
        "year1953"
       ]
      },
      {
       "output_type": "stream",
       "stream": "stdout",
       "text": [
        "\n",
        "1.,Al Aber,CLE,1953,2,0,0,0,0,0,0,0,0,0,0.0%,0.0%,0.0%,0.0%,\n",
        "\n",
        "year1954"
       ]
      },
      {
       "output_type": "stream",
       "stream": "stdout",
       "text": [
        "\n",
        "1.,Al Aber,DET,1954,45,22,17,12,7,0,1,2,36,3,0.0%,8.3%,28.6%,8.3%,\n",
        "\n",
        "year1955"
       ]
      },
      {
       "output_type": "stream",
       "stream": "stdout",
       "text": [
        "\n",
        "1.,Al Aber,DET,1955,19,9,7,3,1,0,0,0,11,0,0.0%,0.0%,0.0%,0.0%,\n",
        "\n",
        "year1956"
       ]
      },
      {
       "output_type": "stream",
       "stream": "stdout",
       "text": [
        "\n",
        "1.,Al Aber,DET,1956,13,6,5,1,2,0,0,0,8,0,0.0%,0.0%,0.0%,0.0%,\n",
        "\n",
        "year1957"
       ]
      },
      {
       "output_type": "stream",
       "stream": "stdout",
       "text": [
        "\n",
        "1.,Al Aber,DET,1957,9,5,4,3,1,0,1,0,8,1,0.0%,33.3%,0.0%,12.5%,\n",
        "\n",
        "year1958"
       ]
      },
      {
       "output_type": "stream",
       "stream": "stdout",
       "text": [
        "\n",
        "1.,Al Cicotte,DET,1958,17,7,5,3,0,0,0,0,8,0,0.0%,0.0%,0.0%,0.0%,\n",
        "\n",
        "year1959"
       ]
      },
      {
       "output_type": "stream",
       "stream": "stdout",
       "text": [
        "\n",
        "1.,Al Cicotte,CLE,1959,5,2,2,0,0,0,0,0,2,0,0.0%,0.0%,0.0%,0.0%,\n",
        "\n",
        "year1960"
       ]
      },
      {
       "output_type": "stream",
       "stream": "stdout",
       "text": [
        "\n",
        "1.,Al Heist,CHN,1960,113,43,31,21,10,1,1,3,62,5,3.2%,4.8%,30.0%,8.1%,\n",
        "\n",
        "year1961"
       ]
      },
      {
       "output_type": "stream",
       "stream": "stdout",
       "text": [
        "\n",
        "1.,Al Cicotte,SLN,1961,21,7,3,6,2,0,2,0,11,2,0.0%,33.3%,0.0%,18.2%,\n",
        "\n",
        "year1962"
       ]
      },
      {
       "output_type": "stream",
       "stream": "stdout",
       "text": [
        "\n",
        "1.,Al Cicotte,HOU,1962,0,,,,,,,,,0,0.0%,0.0%,0.0%,0.0%,\n",
        "\n",
        "year1963"
       ]
      },
      {
       "output_type": "stream",
       "stream": "stdout",
       "text": [
        "\n",
        "1.,Aaron Pointer,HOU,1963,5,4,4,1,2,0,0,0,7,0,0.0%,0.0%,0.0%,0.0%,\n",
        "\n",
        "year1964"
       ]
      },
      {
       "output_type": "stream",
       "stream": "stdout",
       "text": [
        "\n",
        "1.,Adolfo Phillips,PHI,1964,17,7,6,1,1,0,0,0,8,0,0.0%,0.0%,0.0%,0.0%,\n",
        "\n",
        "year1965"
       ]
      },
      {
       "output_type": "stream",
       "stream": "stdout",
       "text": [
        "\n",
        "1.,Adolfo Phillips,PHI,1965,93,24,16,10,5,0,1,1,31,2,0.0%,10.0%,20.0%,6.5%,\n",
        "\n",
        "year1966"
       ]
      },
      {
       "output_type": "stream",
       "stream": "stdout",
       "text": [
        "\n",
        "1.,Aaron Pointer,HOU,1966,32,15,10,7,6,1,1,2,23,4,10.0%,14.3%,33.3%,17.4%,\n",
        "\n",
        "year1967"
       ]
      },
      {
       "output_type": "stream",
       "stream": "stdout",
       "text": [
        "\n",
        "1.,Aaron Pointer,HOU,1967,87,35,28,14,6,3,3,3,48,9,10.7%,21.4%,50.0%,18.8%,\n",
        "\n",
        "year1968"
       ]
      },
      {
       "output_type": "stream",
       "stream": "stdout",
       "text": [
        "\n",
        "1.,Adolfo Phillips,CHN,1968,497,212,146,93,48,6,4,10,287,20,4.1%,4.3%,20.8%,7.0%,\n",
        "\n",
        "year1969"
       ]
      },
      {
       "output_type": "stream",
       "stream": "stdout",
       "text": [
        "\n",
        "1.,Adolfo Phillips,CHN,1969,66,36,21,20,8,0,0,1,49,1,0.0%,0.0%,12.5%,2.0%,\n",
        "\n",
        "year1970"
       ]
      },
      {
       "output_type": "stream",
       "stream": "stdout",
       "text": [
        "\n",
        "1.,Adolfo Phillips,MON,1970,254,118,76,61,27,1,7,7,164,15,1.3%,11.5%,25.9%,9.1%,\n",
        "\n",
        "year1971"
       ]
      },
      {
       "output_type": "stream",
       "stream": "stdout",
       "text": [
        "\n",
        "1.,Adrian Garrett,OAK,1971,26,14,12,2,4,1,0,0,18,1,8.3%,0.0%,0.0%,5.6%,\n",
        "\n",
        "year1972"
       ]
      },
      {
       "output_type": "stream",
       "stream": "stdout",
       "text": [
        "\n",
        "1.,Adolfo Phillips,CLE,1972,9,1,1,0,0,0,0,0,1,0,0.0%,0.0%,0.0%,0.0%,\n",
        "\n",
        "year1973"
       ]
      },
      {
       "output_type": "stream",
       "stream": "stdout",
       "text": [
        "\n",
        "1.,Adrian Devine,ATL,1973,5,1,0,1,1,0,0,0,2,0,0.0%,0.0%,0.0%,0.0%,\n",
        "\n",
        "year1974"
       ]
      },
      {
       "output_type": "stream",
       "stream": "stdout",
       "text": [
        "\n",
        "1.,Adrian Garrett,CHN,1974,9,4,2,1,2,0,0,0,5,0,0.0%,0.0%,0.0%,0.0%,\n",
        "\n",
        "year1975"
       ]
      },
      {
       "output_type": "stream",
       "stream": "stdout",
       "text": [
        "\n",
        "1.,Adrian Devine,ATL,1975,5,2,1,1,0,0,0,0,2,0,0.0%,0.0%,0.0%,0.0%,\n",
        "\n",
        "year1976"
       ]
      },
      {
       "output_type": "stream",
       "stream": "stdout",
       "text": [
        "\n",
        "1.,Adrian Devine,ATL,1976,16,9,6,3,3,0,0,0,12,0,0.0%,0.0%,0.0%,0.0%,\n",
        "\n",
        "year1977"
       ]
      },
      {
       "output_type": "stream",
       "stream": "stdout",
       "text": [
        "\n",
        "1.,Adrian Devine,TEX,1977,0,,,,,,,,,0,0.0%,0.0%,0.0%,0.0%,\n",
        "\n",
        "year1978"
       ]
      },
      {
       "output_type": "stream",
       "stream": "stdout",
       "text": [
        "\n",
        "1.,Adrian Devine,ATL,1978,12,4,2,0,2,0,0,1,4,1,0.0%,0.0%,50.0%,25.0%,\n",
        "\n",
        "year1979"
       ]
      },
      {
       "output_type": "stream",
       "stream": "stdout",
       "text": [
        "\n",
        "1.,Adrian Devine,ATL,1979,7,1,1,0,0,0,0,0,1,0,0.0%,0.0%,0.0%,0.0%,\n",
        "\n",
        "year1980"
       ]
      },
      {
       "output_type": "stream",
       "stream": "stdout",
       "text": [
        "\n",
        "1.,Adrian Devine,TEX,1980,0,,,,,,,,,0,0.0%,0.0%,0.0%,0.0%,\n",
        "\n",
        "year1981"
       ]
      },
      {
       "output_type": "stream",
       "stream": "stdout",
       "text": [
        "\n",
        "1.,Al Bumbry,BAL,1981,451,175,123,76,36,3,9,14,235,26,2.4%,11.8%,38.9%,11.1%,\n",
        "\n",
        "year1982"
       ]
      },
      {
       "output_type": "stream",
       "stream": "stdout",
       "text": [
        "\n",
        "1.,Al Bumbry,BAL,1982,618,229,165,101,42,6,10,19,308,35,3.6%,9.9%,45.2%,11.4%,\n",
        "\n",
        "year1983"
       ]
      },
      {
       "output_type": "stream",
       "stream": "stdout",
       "text": [
        "\n",
        "1.,Al Bumbry,BAL,1983,416,151,109,70,33,4,11,13,212,28,3.7%,15.7%,39.4%,13.2%,\n",
        "\n",
        "year1984"
       ]
      },
      {
       "output_type": "stream",
       "stream": "stdout",
       "text": [
        "\n",
        "1.,Al Bumbry,BAL,1984,374,114,82,56,23,0,13,8,161,21,0.0%,23.2%,34.8%,13.0%,\n",
        "\n",
        "year1985"
       ]
      },
      {
       "output_type": "stream",
       "stream": "stdout",
       "text": [
        "\n",
        "1.,Al Bumbry,SDN,1985,103,42,32,19,14,0,4,5,65,9,0.0%,21.1%,35.7%,13.8%,\n",
        "\n",
        "year1986"
       ]
      },
      {
       "output_type": "stream",
       "stream": "stdout",
       "text": [
        "\n",
        "1.,Al Cowens,SEA,1986,87,40,30,22,10,0,1,5,62,6,0.0%,4.5%,50.0%,9.7%,\n",
        "\n",
        "year1987"
       ]
      },
      {
       "output_type": "stream",
       "stream": "stdout",
       "text": [
        "\n",
        "1.,Adam Peterson,CHA,1987,0,,,,,,,,,0,0.0%,0.0%,0.0%,0.0%,\n",
        "\n",
        "year1988"
       ]
      },
      {
       "output_type": "stream",
       "stream": "stdout",
       "text": [
        "\n",
        "1.,Adam Peterson,CHA,1988,0,,,,,,,,,0,0.0%,0.0%,0.0%,0.0%,\n",
        "\n",
        "year1989"
       ]
      },
      {
       "output_type": "stream",
       "stream": "stdout",
       "text": [
        "\n",
        "1.,Adam Peterson,CHA,1989,0,,,,,,,,,0,0.0%,0.0%,0.0%,0.0%,\n",
        "\n",
        "year1990"
       ]
      },
      {
       "output_type": "stream",
       "stream": "stdout",
       "text": [
        "\n",
        "1.,Adam Peterson,CHA,1990,0,,,,,,,,,0,0.0%,0.0%,0.0%,0.0%,\n",
        "\n",
        "year1991"
       ]
      },
      {
       "output_type": "stream",
       "stream": "stdout",
       "text": [
        "\n",
        "1.,Adam Peterson,SDN,1991,16,6,4,2,2,0,0,0,8,0,0.0%,0.0%,0.0%,0.0%,\n",
        "\n",
        "year1992"
       ]
      },
      {
       "output_type": "stream",
       "stream": "stdout",
       "text": [
        "\n",
        "1.,Al Leiter,TOR,1992,0,,,,,,,,,0,0.0%,0.0%,0.0%,0.0%,\n",
        "\n",
        "year1993"
       ]
      },
      {
       "output_type": "stream",
       "stream": "stdout",
       "text": [
        "\n",
        "1.,Aaron Sele,BOS,1993,0,,,,,,,,,0,0.0%,0.0%,0.0%,0.0%,\n",
        "\n",
        "year1994"
       ]
      },
      {
       "output_type": "stream",
       "stream": "stdout",
       "text": [
        "\n",
        "1.,A. J. Sager,SDN,1994,11,5,4,2,1,1,1,0,7,2,25.0%,50.0%,0.0%,28.6%,\n",
        "\n",
        "year1995"
       ]
      },
      {
       "output_type": "stream",
       "stream": "stdout",
       "text": [
        "\n",
        "1.,A. J. Sager,COL,1995,3,1,0,1,0,0,0,0,1,0,0.0%,0.0%,0.0%,0.0%,\n",
        "\n",
        "year1996"
       ]
      },
      {
       "output_type": "stream",
       "stream": "stdout",
       "text": [
        "\n",
        "1.,A. J. Sager,DET,1996,0,,,,,,,,,0,0.0%,0.0%,0.0%,0.0%,\n",
        "\n",
        "year1997"
       ]
      },
      {
       "output_type": "stream",
       "stream": "stdout",
       "text": [
        "\n",
        "1.,A. J. Sager,DET,1997,0,,,,,,,,,0,0.0%,0.0%,0.0%,0.0%,\n",
        "\n",
        "year1998"
       ]
      },
      {
       "output_type": "stream",
       "stream": "stdout",
       "text": [
        "\n",
        "1.,A. J. Sager,DET,1998,1,0,0,0,0,0,0,0,0,0,0.0%,0.0%,0.0%,0.0%,\n",
        "\n",
        "year1999"
       ]
      },
      {
       "output_type": "stream",
       "stream": "stdout",
       "text": [
        "\n",
        "1.,A.j. Burnett,FLO,1999,17,6,6,4,3,0,0,0,13,0,0.0%,0.0%,0.0%,0.0%,\n",
        "\n",
        "year2000"
       ]
      },
      {
       "output_type": "stream",
       "stream": "stdout",
       "text": [
        "\n",
        "1.,A.j. Burnett,FLO,2000,30,9,7,3,2,0,1,1,12,2,0.0%,33.3%,50.0%,16.7%,\n",
        "\n",
        "year2001"
       ]
      },
      {
       "output_type": "stream",
       "stream": "stdout",
       "text": [
        "\n",
        "1.,A.j. Burnett,FLO,2001,59,25,19,10,4,0,0,0,33,0,0.0%,0.0%,0.0%,0.0%,\n",
        "\n",
        "year2002"
       ]
      },
      {
       "output_type": "stream",
       "stream": "stdout",
       "text": [
        "\n",
        "1.,A.j. Burnett,FLO,2002,69,38,27,15,12,0,2,0,54,2,0.0%,13.3%,0.0%,3.7%,\n",
        "\n",
        "year2003"
       ]
      },
      {
       "output_type": "stream",
       "stream": "stdout",
       "text": [
        "\n",
        "1.,A.j. Burnett,FLO,2003,9,4,3,2,2,0,0,0,7,0,0.0%,0.0%,0.0%,0.0%,\n",
        "\n",
        "year2004"
       ]
      },
      {
       "output_type": "stream",
       "stream": "stdout",
       "text": [
        "\n",
        "1.,A.j. Burnett,FLO,2004,37,21,16,8,3,0,1,0,27,1,0.0%,12.5%,0.0%,3.7%,\n",
        "\n",
        "year2005"
       ]
      },
      {
       "output_type": "stream",
       "stream": "stdout",
       "text": [
        "\n",
        "1.,A.j. Burnett,FLO,2005,79,43,32,28,7,0,1,0,67,1,0.0%,3.6%,0.0%,1.5%,\n",
        "\n",
        "year2006"
       ]
      },
      {
       "output_type": "stream",
       "stream": "stdout",
       "text": [
        "\n",
        "1.,A.j. Burnett,TOR,2006,3,2,2,2,1,0,0,0,5,0,0.0%,0.0%,0.0%,0.0%,\n",
        "\n",
        "year2007"
       ]
      },
      {
       "output_type": "stream",
       "stream": "stdout",
       "text": [
        "\n",
        "1.,A.j. Burnett,TOR,2007,2,0,0,0,0,0,0,0,0,0,0.0%,0.0%,0.0%,0.0%,\n",
        "\n",
        "year2008"
       ]
      },
      {
       "output_type": "stream",
       "stream": "stdout",
       "text": [
        "\n",
        "1.,A.j. Burnett,TOR,2008,4,1,1,0,0,0,0,0,1,0,0.0%,0.0%,0.0%,0.0%,\n",
        "\n",
        "year2009"
       ]
      },
      {
       "output_type": "stream",
       "stream": "stdout",
       "text": [
        "\n",
        "1.,A.j. Burnett,NYA,2009,5,2,1,1,0,0,0,0,2,0,0.0%,0.0%,0.0%,0.0%,\n",
        "\n",
        "year2010"
       ]
      },
      {
       "output_type": "stream",
       "stream": "stdout",
       "text": [
        "\n",
        "1.,A.j. Burnett,NYA,2010,3,2,2,0,1,0,0,0,3,0,0.0%,0.0%,0.0%,0.0%,\n",
        "\n",
        "year2011"
       ]
      },
      {
       "output_type": "stream",
       "stream": "stdout",
       "text": [
        "\n",
        "1.,A.j. Burnett,NYA,2011,3,2,1,1,0,0,0,0,2,0,0.0%,0.0%,0.0%,0.0%,\n",
        "\n",
        "year2012"
       ]
      },
      {
       "output_type": "stream",
       "stream": "stdout",
       "text": [
        "\n",
        "1.,A.j. Burnett,PIT,2012,71,31,26,15,12,0,0,2,53,2,0.0%,0.0%,16.7%,3.8%,\n",
        "\n",
        "year2013"
       ]
      },
      {
       "output_type": "stream",
       "stream": "stdout",
       "text": [
        "\n",
        "1.,A.j. Burnett,PIT,2013,67,28,24,10,5,0,1,1,39,2,0.0%,10.0%,20.0%,5.1%,\n",
        "\n",
        "year2014"
       ]
      },
      {
       "output_type": "stream",
       "stream": "stdout",
       "text": [
        "\n",
        "1.,A.j. Burnett,PHI,2014,65,20,15,6,6,0,0,1,27,1,0.0%,0.0%,16.7%,3.7%,\n",
        "\n"
       ]
      }
     ],
     "prompt_number": 1
    }
   ],
   "metadata": {}
  }
 ]
}